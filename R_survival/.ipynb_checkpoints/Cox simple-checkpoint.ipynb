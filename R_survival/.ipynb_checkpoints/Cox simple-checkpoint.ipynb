{
 "cells": [
  {
   "cell_type": "markdown",
   "metadata": {},
   "source": [
    "Cox PHF on rossi (prisoners)"
   ]
  },
  {
   "cell_type": "code",
   "execution_count": 85,
   "metadata": {
    "collapsed": false
   },
   "outputs": [
    {
     "name": "stdout",
     "output_type": "stream",
     "text": [
      "Index([u'week', u'arrest', u'fin', u'age', u'race', u'wexp', u'mar', u'paro', u'prio', u'educ', u'emp1', u'emp2', u'emp3', u'emp4', u'emp5', u'emp6', u'emp7', u'emp8', u'emp9', u'emp10', u'emp11', u'emp12', u'emp13', u'emp14', u'emp15', u'emp16', u'emp17', u'emp18', u'emp19', u'emp20', u'emp21', u'emp22', u'emp23', u'emp24', u'emp25', u'emp26', u'emp27', u'emp28', u'emp29', u'emp30', u'emp31', u'emp32', u'emp33', u'emp34', u'emp35', u'emp36', u'emp37', u'emp38', u'emp39', u'emp40', u'emp41', u'emp42', u'emp43', u'emp44', u'emp45', u'emp46', u'emp47', u'emp48', u'emp49', u'emp50', u'emp51', u'emp52'], dtype='object')\n",
      "Index([u'week', u'arrest', u'fin', u'age', u'race', u'wexp', u'mar', u'paro', u'prio', u'educ'], dtype='object')\n"
     ]
    },
    {
     "data": {
      "text/html": [
       "<div style=\"max-height:1000px;max-width:1500px;overflow:auto;\">\n",
       "<table border=\"1\" class=\"dataframe\">\n",
       "  <thead>\n",
       "    <tr style=\"text-align: right;\">\n",
       "      <th></th>\n",
       "      <th>week</th>\n",
       "      <th>arrest</th>\n",
       "      <th>fin</th>\n",
       "      <th>age</th>\n",
       "      <th>race</th>\n",
       "      <th>wexp</th>\n",
       "      <th>mar</th>\n",
       "      <th>paro</th>\n",
       "      <th>prio</th>\n",
       "      <th>educ</th>\n",
       "    </tr>\n",
       "  </thead>\n",
       "  <tbody>\n",
       "    <tr>\n",
       "      <th>1</th>\n",
       "      <td>20</td>\n",
       "      <td>1</td>\n",
       "      <td>0</td>\n",
       "      <td>27</td>\n",
       "      <td>1</td>\n",
       "      <td>0</td>\n",
       "      <td>0</td>\n",
       "      <td>1</td>\n",
       "      <td>3</td>\n",
       "      <td>3</td>\n",
       "    </tr>\n",
       "    <tr>\n",
       "      <th>2</th>\n",
       "      <td>17</td>\n",
       "      <td>1</td>\n",
       "      <td>0</td>\n",
       "      <td>18</td>\n",
       "      <td>1</td>\n",
       "      <td>0</td>\n",
       "      <td>0</td>\n",
       "      <td>1</td>\n",
       "      <td>8</td>\n",
       "      <td>4</td>\n",
       "    </tr>\n",
       "    <tr>\n",
       "      <th>3</th>\n",
       "      <td>25</td>\n",
       "      <td>1</td>\n",
       "      <td>0</td>\n",
       "      <td>19</td>\n",
       "      <td>0</td>\n",
       "      <td>1</td>\n",
       "      <td>0</td>\n",
       "      <td>1</td>\n",
       "      <td>13</td>\n",
       "      <td>3</td>\n",
       "    </tr>\n",
       "    <tr>\n",
       "      <th>4</th>\n",
       "      <td>52</td>\n",
       "      <td>0</td>\n",
       "      <td>1</td>\n",
       "      <td>23</td>\n",
       "      <td>1</td>\n",
       "      <td>1</td>\n",
       "      <td>1</td>\n",
       "      <td>1</td>\n",
       "      <td>1</td>\n",
       "      <td>5</td>\n",
       "    </tr>\n",
       "    <tr>\n",
       "      <th>5</th>\n",
       "      <td>52</td>\n",
       "      <td>0</td>\n",
       "      <td>0</td>\n",
       "      <td>19</td>\n",
       "      <td>0</td>\n",
       "      <td>1</td>\n",
       "      <td>0</td>\n",
       "      <td>1</td>\n",
       "      <td>3</td>\n",
       "      <td>3</td>\n",
       "    </tr>\n",
       "  </tbody>\n",
       "</table>\n",
       "</div>"
      ],
      "text/plain": [
       "   week  arrest  fin  age  race  wexp  mar  paro  prio  educ\n",
       "1    20       1    0   27     1     0    0     1     3     3\n",
       "2    17       1    0   18     1     0    0     1     8     4\n",
       "3    25       1    0   19     0     1    0     1    13     3\n",
       "4    52       0    1   23     1     1    1     1     1     5\n",
       "5    52       0    0   19     0     1    0     1     3     3"
      ]
     },
     "execution_count": 85,
     "metadata": {},
     "output_type": "execute_result"
    }
   ],
   "source": [
    "%matplotlib inline\n",
    "from IPython.core.pylabtools import figsize\n",
    "import numpy as np\n",
    "from matplotlib import pyplot as plt\n",
    "figsize(11, 9)\n",
    "\n",
    "import pandas as pd\n",
    "import lifelines\n",
    "\n",
    "from lifelines import CoxPHFitter\n",
    "from lifelines.datasets import load_rossi\n",
    "\n",
    "\n",
    "df = pd.read_csv(\"Rossi2.txt\", sep=' +')\n",
    "print df.columns\n",
    "df.fin = 1 * (df.fin == \"yes\")\n",
    "df[\"race\"] = 1 * (df.race == \"black\")\n",
    "df.mar = 1 * (df.mar == \"married\")\n",
    "df.paro = 1 * (df.paro == \"yes\")\n",
    "df.wexp = 1 * (df.wexp == 'yes')\n",
    "\n",
    "\n",
    "rossi_dataset = df[df.columns[:10]]\n",
    "#rossi_dataset = load_rossi()\n",
    "print rossi_dataset.columns\n",
    "rossi_dataset.head()"
   ]
  },
  {
   "cell_type": "code",
   "execution_count": 86,
   "metadata": {
    "collapsed": false
   },
   "outputs": [
    {
     "name": "stdout",
     "output_type": "stream",
     "text": [
      "n=432, number of events=114\n",
      "\n",
      "           coef  exp(coef)  se(coef)          z         p  lower 0.95  upper 0.95    \n",
      "fin  -1.798e-01  8.354e-01 9.600e-02 -1.873e+00 6.102e-02  -3.681e-01   8.354e-03   .\n",
      "age  -3.514e-01  7.037e-01 1.336e-01 -2.631e+00 8.515e-03  -6.133e-01  -8.957e-02  **\n",
      "race  1.135e-01  1.120e+00 1.015e-01  1.118e+00 2.634e-01  -8.549e-02   3.126e-01    \n",
      "wexp -5.739e-02  9.442e-01 1.055e-01 -5.439e-01 5.865e-01  -2.643e-01   1.495e-01    \n",
      "mar  -1.393e-01  8.700e-01 1.255e-01 -1.110e+00 2.670e-01  -3.853e-01   1.067e-01    \n",
      "paro -4.380e-02  9.571e-01 9.518e-02 -4.602e-01 6.454e-01  -2.304e-01   1.428e-01    \n",
      "prio  2.443e-01  1.277e+00 8.446e-02  2.893e+00 3.821e-03   7.873e-02   4.099e-01  **\n",
      "educ -1.547e-01  8.566e-01 1.097e-01 -1.410e+00 1.585e-01  -3.698e-01   6.036e-02    \n",
      "---\n",
      "Signif. codes:  0 '***' 0.001 '**' 0.01 '*' 0.05 '.' 0.1 ' ' 1 \n",
      "\n",
      "Concordance = 0.660\n"
     ]
    }
   ],
   "source": [
    "cf = CoxPHFitter()\n",
    "cf.fit(rossi_dataset, 'week', event_col='arrest')\n",
    "cf.print_summary()"
   ]
  },
  {
   "cell_type": "code",
   "execution_count": 87,
   "metadata": {
    "collapsed": false
   },
   "outputs": [
    {
     "name": "stdout",
     "output_type": "stream",
     "text": [
      "[ 0.5         0.54057971  0.53333333  0.48502994  0.52552553  0.55389222\n",
      "  0.47005988  0.54328358  0.55373134  0.48529412  0.50692521]\n",
      "0.517968623246\n",
      "0.0284563818944\n"
     ]
    }
   ],
   "source": [
    "from lifelines import CoxPHFitter\n",
    "from lifelines.utils import k_fold_cross_validation\n",
    "\n",
    "cf = CoxPHFitter()\n",
    "scores = np.array(k_fold_cross_validation(cf, rossi_dataset, 'week', event_col='arrest', k=11))\n",
    "print scores\n",
    "print scores.mean()\n",
    "print scores.std()"
   ]
  },
  {
   "cell_type": "code",
   "execution_count": 88,
   "metadata": {
    "collapsed": false
   },
   "outputs": [
    {
     "name": "stdout",
     "output_type": "stream",
     "text": [
      "[ 0.52540107  0.5         0.55213904  0.57164179  0.59402985  0.58832335\n",
      "  0.54491018  0.50816993  0.50327869  0.48493976  0.5       ]\n",
      "0.533893969443\n",
      "0.0367092845109\n"
     ]
    }
   ],
   "source": [
    "from lifelines import CoxPHFitter\n",
    "from lifelines.utils import k_fold_cross_validation\n",
    "\n",
    "cf = CoxPHFitter()\n",
    "scores = np.array(k_fold_cross_validation(cf, rossi_dataset[[\"week\", \"arrest\", \"fin\", \"age\", \"prio\"]], 'week', event_col='arrest', k=11))\n",
    "print scores\n",
    "print scores.mean()\n",
    "print scores.std()"
   ]
  },
  {
   "cell_type": "markdown",
   "metadata": {},
   "source": [
    "Hypothesis test"
   ]
  },
  {
   "cell_type": "code",
   "execution_count": 89,
   "metadata": {
    "collapsed": false
   },
   "outputs": [
    {
     "name": "stdout",
     "output_type": "stream",
     "text": [
      "Results\n",
      "   even observed A: 4      0\n",
      "8      0\n",
      "11     0\n",
      "16     1\n",
      "22     0\n",
      "23     1\n",
      "24     0\n",
      "25     0\n",
      "26     0\n",
      "29     0\n",
      "30     0\n",
      "31     0\n",
      "32     0\n",
      "33     0\n",
      "36     1\n",
      "39     0\n",
      "41     0\n",
      "45     0\n",
      "46     0\n",
      "47     0\n",
      "48     1\n",
      "50     0\n",
      "51     0\n",
      "52     0\n",
      "53     0\n",
      "54     1\n",
      "59     0\n",
      "60     0\n",
      "66     0\n",
      "67     0\n",
      "      ..\n",
      "372    0\n",
      "373    0\n",
      "374    1\n",
      "378    0\n",
      "380    0\n",
      "382    0\n",
      "383    1\n",
      "386    0\n",
      "387    0\n",
      "392    0\n",
      "393    1\n",
      "397    1\n",
      "400    1\n",
      "402    0\n",
      "407    0\n",
      "408    0\n",
      "409    0\n",
      "410    0\n",
      "412    0\n",
      "414    0\n",
      "416    1\n",
      "419    1\n",
      "420    0\n",
      "421    0\n",
      "422    1\n",
      "423    1\n",
      "427    1\n",
      "428    0\n",
      "430    0\n",
      "432    0\n",
      "Name: arrest, dtype: int64\n",
      "   df: 1\n",
      "   null distribution: chi squared\n",
      "   test: logrank\n",
      "   alpha: 0.95\n",
      "   t 0: -1\n",
      "\n",
      "   __ p-value ___|__ test statistic __|____ test result ____|__ is significant __\n",
      "         0.00000 |            103.168 |      Reject Null    |        True       \n",
      "3.07888149852e-24\n",
      "103.168072456\n",
      "True\n"
     ]
    }
   ],
   "source": [
    "from lifelines.statistics import logrank_test\n",
    "\n",
    "is_fin = (rossi_dataset[\"fin\"] == 1)\n",
    "with_fin = rossi_dataset[is_fin]\n",
    "without_fin = rossi_dataset[~is_fin]\n",
    "\n",
    "results = logrank_test(with_fin[\"week\"], without_fin[\"week\"], \n",
    "                       even_observed_A=with_fin[\"arrest\"], event_observed_B=without_fin[\"arrest\"])\n",
    "results.print_summary()\n",
    "\n",
    "print results.p_value\n",
    "print results.test_statistic\n",
    "print results.is_significant"
   ]
  },
  {
   "cell_type": "code",
   "execution_count": 90,
   "metadata": {
    "collapsed": false
   },
   "outputs": [
    {
     "name": "stdout",
     "output_type": "stream",
     "text": [
      "0.52161389738\n",
      " [-----------------100%-----------------] 91 of 91 complete in 0.0 sec\n",
      " [-----------------100%-----------------] 91 of 91 complete in 0.0 sec\n",
      " [-----------------100%-----------------] 92 of 92 complete in 0.0 sec\n",
      " [-----------------100%-----------------] 91 of 91 complete in 0.0 sec\n",
      " [-----------------100%-----------------] 91 of 91 complete in 0.0 sec\n",
      "0.50973833274\n",
      " [-----------------100%-----------------] 91 of 91 complete in 0.0 sec\n",
      " [-----------------100%-----------------] 91 of 91 complete in 0.0 sec\n",
      " [-----------------100%-----------------] 92 of 92 complete in 0.0 sec\n",
      " [-----------------100%-----------------] 91 of 91 complete in 0.0 sec\n",
      " [-----------------100%-----------------] 91 of 91 complete in 0.0 sec\n",
      "0.510878365801\n",
      " [-----------------100%-----------------] 91 of 91 complete in 0.0 sec\n",
      " [-----------------100%-----------------] 91 of 91 complete in 0.0 sec\n",
      " [-----------------100%-----------------] 92 of 92 complete in 0.0 sec\n",
      " [-----------------100%-----------------] 91 of 91 complete in 0.0 sec\n",
      " [-----------------100%-----------------] 91 of 91 complete in 0.0 sec\n",
      "0.503457567751\n",
      "n=432, number of events=114\n",
      "\n",
      "           coef  exp(coef)  se(coef)          z         p  lower 0.95  upper 0.95    \n",
      "fin  -1.798e-01  8.354e-01 9.600e-02 -1.873e+00 6.102e-02  -3.681e-01   8.354e-03   .\n",
      "age  -3.514e-01  7.037e-01 1.336e-01 -2.631e+00 8.515e-03  -6.133e-01  -8.957e-02  **\n",
      "race  1.135e-01  1.120e+00 1.015e-01  1.118e+00 2.634e-01  -8.549e-02   3.126e-01    \n",
      "wexp -5.739e-02  9.442e-01 1.055e-01 -5.439e-01 5.865e-01  -2.643e-01   1.495e-01    \n",
      "mar  -1.393e-01  8.700e-01 1.255e-01 -1.110e+00 2.670e-01  -3.853e-01   1.067e-01    \n",
      "paro -4.380e-02  9.571e-01 9.518e-02 -4.602e-01 6.454e-01  -2.304e-01   1.428e-01    \n",
      "prio  2.443e-01  1.277e+00 8.446e-02  2.893e+00 3.821e-03   7.873e-02   4.099e-01  **\n",
      "educ -1.547e-01  8.566e-01 1.097e-01 -1.410e+00 1.585e-01  -3.698e-01   6.036e-02    \n",
      "---\n",
      "Signif. codes:  0 '***' 0.001 '**' 0.01 '*' 0.05 '.' 0.1 ' ' 1 \n",
      "\n",
      "Concordance = 0.660\n"
     ]
    }
   ],
   "source": [
    "from lifelines import AalenAdditiveFitter, CoxPHFitter\n",
    "from lifelines.utils import k_fold_cross_validation\n",
    "\n",
    "df = rossi_dataset\n",
    "\n",
    "aaf_1 = AalenAdditiveFitter(coef_penalizer=0.1)\n",
    "aaf_2 = AalenAdditiveFitter(coef_penalizer=10)\n",
    "aaf_3 = AalenAdditiveFitter(coef_penalizer=20)\n",
    "cph = CoxPHFitter()\n",
    "\n",
    "print np.mean(k_fold_cross_validation(cph, df, duration_col=\"week\", event_col=\"arrest\"))\n",
    "print np.mean(k_fold_cross_validation(aaf_1, df, duration_col=\"week\", event_col=\"arrest\"))\n",
    "print np.mean(k_fold_cross_validation(aaf_2, df, duration_col=\"week\", event_col=\"arrest\"))\n",
    "print np.mean(k_fold_cross_validation(aaf_3, df, duration_col=\"week\", event_col=\"arrest\"))\n",
    "\n",
    "cph.fit(df, duration_col=\"week\", event_col=\"arrest\")\n",
    "cph.print_summary()"
   ]
  }
 ],
 "metadata": {
  "kernelspec": {
   "display_name": "Python 2",
   "language": "python",
   "name": "python2"
  },
  "language_info": {
   "codemirror_mode": {
    "name": "ipython",
    "version": 2
   },
   "file_extension": ".py",
   "mimetype": "text/x-python",
   "name": "python",
   "nbconvert_exporter": "python",
   "pygments_lexer": "ipython2",
   "version": "2.7.9"
  }
 },
 "nbformat": 4,
 "nbformat_minor": 0
}
