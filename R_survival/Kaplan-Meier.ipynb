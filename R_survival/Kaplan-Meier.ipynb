{
 "cells": [
  {
   "cell_type": "code",
   "execution_count": 7,
   "metadata": {
    "collapsed": false
   },
   "outputs": [
    {
     "name": "stdout",
     "output_type": "stream",
     "text": [
      "    T  E    group\n",
      "0   6  1  miR-137\n",
      "1  13  1  miR-137\n",
      "2  13  1  miR-137\n",
      "3  13  1  miR-137\n",
      "4  19  1  miR-137\n"
     ]
    }
   ],
   "source": [
    "%matplotlib inline\n",
    "\n",
    "import lifelines\n",
    "\n",
    "from lifelines.datasets import load_waltons\n",
    "df=load_waltons()\n",
    "\n",
    "print df.head()\n",
    "T = df['T']\n",
    "E = df['E']"
   ]
  },
  {
   "cell_type": "code",
   "execution_count": 8,
   "metadata": {
    "collapsed": false
   },
   "outputs": [
    {
     "name": "stdout",
     "output_type": "stream",
     "text": [
      "          KM_estimate\n",
      "timeline             \n",
      "0            1.000000\n",
      "6            0.993865\n",
      "7            0.987730\n",
      "9            0.969210\n",
      "13           0.950690\n",
      "15           0.938344\n",
      "17           0.932170\n",
      "19           0.913650\n",
      "22           0.888957\n",
      "26           0.858090\n",
      "29           0.827224\n",
      "32           0.821051\n",
      "33           0.802531\n",
      "36           0.790184\n",
      "38           0.777837\n",
      "41           0.734624\n",
      "43           0.728451\n",
      "45           0.672891\n",
      "47           0.666661\n",
      "48           0.616817\n",
      "51           0.598125\n",
      "53           0.554512\n",
      "54           0.542051\n",
      "56           0.429903\n",
      "58           0.404981\n",
      "60           0.311524\n",
      "61           0.254305\n",
      "62           0.240921\n",
      "63           0.180690\n",
      "66           0.160614\n",
      "68           0.100384\n",
      "69           0.014341\n",
      "75           0.000000\n",
      "56.0\n",
      "Axes(0.125,0.125;0.775x0.775)\n"
     ]
    },
    {
     "data": {
      "image/png": "[encoded data removed]",
      "text/plain": [
       "<matplotlib.figure.Figure at 0x7f8b37bac710>"
      ]
     },
     "metadata": {},
     "output_type": "display_data"
    }
   ],
   "source": [
    "from lifelines import KaplanMeierFitter\n",
    "kmf = KaplanMeierFitter()\n",
    "kmf.fit(T, event_observed=E)\n",
    "print kmf.survival_function_\n",
    "print kmf.median_\n",
    "print kmf.plot()"
   ]
  },
  {
   "cell_type": "code",
   "execution_count": 9,
   "metadata": {
    "collapsed": false
   },
   "outputs": [
    {
     "data": {
      "text/plain": [
       "<matplotlib.axes._subplots.AxesSubplot at 0x7f8b37abf510>"
      ]
     },
     "execution_count": 9,
     "metadata": {},
     "output_type": "execute_result"
    },
    {
     "data": {
      "image/png": "[encoded data removed]",
      "text/plain": [
       "<matplotlib.figure.Figure at 0x7f8b46129c50>"
      ]
     },
     "metadata": {},
     "output_type": "display_data"
    }
   ],
   "source": [
    "groups = df['group']\n",
    "ix = (groups == 'miR-137')\n",
    "ax = kmf.plot()\n",
    "kmf.fit(T[ix], E[ix], label='miR-137')\n",
    "kmf.plot(ax=ax)"
   ]
  },
  {
   "cell_type": "code",
   "execution_count": null,
   "metadata": {
    "collapsed": true
   },
   "outputs": [],
   "source": []
  }
 ],
 "metadata": {
  "kernelspec": {
   "display_name": "Python 2",
   "language": "python",
   "name": "python2"
  },
  "language_info": {
   "codemirror_mode": {
    "name": "ipython",
    "version": 2
   },
   "file_extension": ".py",
   "mimetype": "text/x-python",
   "name": "python",
   "nbconvert_exporter": "python",
   "pygments_lexer": "ipython2",
   "version": "2.7.9"
  }
 },
 "nbformat": 4,
 "nbformat_minor": 0
}
