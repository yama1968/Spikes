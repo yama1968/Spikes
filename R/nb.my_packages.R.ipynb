{
 "cells": [
  {
   "cell_type": "code",
   "execution_count": 4,
   "metadata": {
    "collapsed": false
   },
   "outputs": [
    {
     "name": "stdout",
     "output_type": "stream",
     "text": [
      " [1] \"e1071\"                \"rjags\"                \"dclone\"              \n",
      " [4] \"Hmisc\"                \"extraTrees\"           \"assertr\"             \n",
      " [7] \"doMC\"                 \"optparse\"             \"forecast\"            \n",
      "[10] \"R2jags\"               \"dclone\"               \"rjags\"               \n",
      "[13] \"fArma\"                \"fGarch\"               \"rmgarch\"             \n",
      "[16] \"PerformanceAnalytics\" \"tsoutliers\"           \"reshape\"             \n",
      "[19] \"vcd\"                  \"fpc\"                  \"UsingR\"              \n",
      "[22] \"mapproj\"              \"corrplot\"             \"ggfortify\"           \n",
      "[25] \"changepoint\"         \n"
     ]
    },
    {
     "name": "stderr",
     "output_type": "stream",
     "text": [
      "Installing packages into 'C:/Users/Huit/Documents/R/win-library/3.1'\n",
      "(as 'lib' is unspecified)\n",
      "Warning message:\n",
      ": package 'doMC' is not available (as a binary package for R version 3.1.3)also installing the dependencies 'misc3d', 'rgl', 'multicool', 'DistributionUtils', 'GeneralizedHyperbolic', 'RUnit', 'gmp', 'quadprog', 'gss', 'stabledist', 'ks', 'numDeriv', 'SkewHyperbolic', 'expm', 'truncnorm', 'Rmpfr', 'bit', 'modeltools', 'coda', 'Formula', 'latticeExtra', 'acepack', 'gridExtra', 'rJava', 'getopt', 'timeDate', 'tseries', 'fracdiff', 'RcppArmadillo', 'abind', 'R2WinBUGS', 'timeSeries', 'fBasics', 'rugarch', 'Rsolnp', 'Bessel', 'ff', 'shape', 'spd', 'polynom', 'stsm', 'KFKSDS', 'lmtest', 'mclust', 'flexmix', 'prabclus', 'diptest', 'kernlab', 'trimcluster', 'HistData'\n",
      "\n"
     ]
    },
    {
     "name": "stdout",
     "output_type": "stream",
     "text": [
      "package 'misc3d' successfully unpacked and MD5 sums checked\n",
      "package 'rgl' successfully unpacked and MD5 sums checked\n",
      "package 'multicool' successfully unpacked and MD5 sums checked\n",
      "package 'DistributionUtils' successfully unpacked and MD5 sums checked\n",
      "package 'GeneralizedHyperbolic' successfully unpacked and MD5 sums checked\n",
      "package 'RUnit' successfully unpacked and MD5 sums checked\n",
      "package 'gmp' successfully unpacked and MD5 sums checked\n",
      "package 'quadprog' successfully unpacked and MD5 sums checked\n",
      "package 'gss' successfully unpacked and MD5 sums checked\n",
      "package 'stabledist' successfully unpacked and MD5 sums checked\n",
      "package 'ks' successfully unpacked and MD5 sums checked\n",
      "package 'numDeriv' successfully unpacked and MD5 sums checked\n",
      "package 'SkewHyperbolic' successfully unpacked and MD5 sums checked\n",
      "package 'expm' successfully unpacked and MD5 sums checked\n",
      "package 'truncnorm' successfully unpacked and MD5 sums checked\n",
      "package 'Rmpfr' successfully unpacked and MD5 sums checked\n",
      "package 'bit' successfully unpacked and MD5 sums checked\n",
      "package 'modeltools' successfully unpacked and MD5 sums checked\n",
      "package 'coda' successfully unpacked and MD5 sums checked\n",
      "package 'Formula' successfully unpacked and MD5 sums checked\n",
      "package 'latticeExtra' successfully unpacked and MD5 sums checked\n",
      "package 'acepack' successfully unpacked and MD5 sums checked\n",
      "package 'gridExtra' successfully unpacked and MD5 sums checked\n",
      "package 'rJava' successfully unpacked and MD5 sums checked\n",
      "package 'getopt' successfully unpacked and MD5 sums checked\n",
      "package 'timeDate' successfully unpacked and MD5 sums checked\n",
      "package 'tseries' successfully unpacked and MD5 sums checked\n",
      "package 'fracdiff' successfully unpacked and MD5 sums checked\n",
      "package 'RcppArmadillo' successfully unpacked and MD5 sums checked\n",
      "package 'abind' successfully unpacked and MD5 sums checked\n",
      "package 'R2WinBUGS' successfully unpacked and MD5 sums checked\n",
      "package 'timeSeries' successfully unpacked and MD5 sums checked\n",
      "package 'fBasics' successfully unpacked and MD5 sums checked\n",
      "package 'rugarch' successfully unpacked and MD5 sums checked\n",
      "package 'Rsolnp' successfully unpacked and MD5 sums checked\n",
      "package 'Bessel' successfully unpacked and MD5 sums checked\n",
      "package 'ff' successfully unpacked and MD5 sums checked\n",
      "package 'shape' successfully unpacked and MD5 sums checked\n",
      "package 'spd' successfully unpacked and MD5 sums checked\n",
      "package 'polynom' successfully unpacked and MD5 sums checked\n",
      "package 'stsm' successfully unpacked and MD5 sums checked\n",
      "package 'KFKSDS' successfully unpacked and MD5 sums checked\n",
      "package 'lmtest' successfully unpacked and MD5 sums checked\n",
      "package 'mclust' successfully unpacked and MD5 sums checked\n",
      "package 'flexmix' successfully unpacked and MD5 sums checked\n",
      "package 'prabclus' successfully unpacked and MD5 sums checked\n",
      "package 'diptest' successfully unpacked and MD5 sums checked\n",
      "package 'kernlab' successfully unpacked and MD5 sums checked\n",
      "package 'trimcluster' successfully unpacked and MD5 sums checked\n",
      "package 'HistData' successfully unpacked and MD5 sums checked\n",
      "package 'e1071' successfully unpacked and MD5 sums checked\n",
      "package 'rjags' successfully unpacked and MD5 sums checked\n",
      "package 'dclone' successfully unpacked and MD5 sums checked\n",
      "package 'Hmisc' successfully unpacked and MD5 sums checked\n",
      "package 'extraTrees' successfully unpacked and MD5 sums checked\n",
      "package 'assertr' successfully unpacked and MD5 sums checked\n",
      "package 'optparse' successfully unpacked and MD5 sums checked\n",
      "package 'forecast' successfully unpacked and MD5 sums checked\n",
      "package 'R2jags' successfully unpacked and MD5 sums checked\n",
      "package 'fArma' successfully unpacked and MD5 sums checked\n",
      "package 'fGarch' successfully unpacked and MD5 sums checked\n",
      "package 'rmgarch' successfully unpacked and MD5 sums checked\n",
      "package 'PerformanceAnalytics' successfully unpacked and MD5 sums checked\n",
      "package 'tsoutliers' successfully unpacked and MD5 sums checked\n",
      "package 'reshape' successfully unpacked and MD5 sums checked\n",
      "package 'vcd' successfully unpacked and MD5 sums checked\n",
      "package 'fpc' successfully unpacked and MD5 sums checked\n",
      "package 'UsingR' successfully unpacked and MD5 sums checked\n",
      "package 'mapproj' successfully unpacked and MD5 sums checked\n",
      "package 'corrplot' successfully unpacked and MD5 sums checked\n",
      "package 'ggfortify' successfully unpacked and MD5 sums checked\n",
      "package 'changepoint' successfully unpacked and MD5 sums checked\n",
      "\n",
      "The downloaded binary packages are in\n",
      "\tC:\\Users\\Huit\\AppData\\Local\\Temp\\Rtmpqco4Zu\\downloaded_packages\n"
     ]
    }
   ],
   "source": [
    "options(repos=structure(c(CRAN=\"http://cran.cnr.berkeley.edu/\")))\n",
    "source(\"../my_packages.R\")"
   ]
  },
  {
   "cell_type": "code",
   "execution_count": 5,
   "metadata": {
    "collapsed": false
   },
   "outputs": [
    {
     "name": "stderr",
     "output_type": "stream",
     "text": [
      "Loading required package: devtools\n",
      "WARNING: Rtools is required to build R packages, but no version of Rtools compatible with R 3.1.3 was found. (Only the following incompatible version(s) of Rtools were found:3.3)\n",
      "\n",
      "Please download and install Rtools 3.1 from http://cran.r-project.org/bin/windows/Rtools/ and then run find_rtools().\n",
      "Downloading github repo dmlc/xgboost@master\n",
      "Installing xgboost\n",
      "\"C:/Anaconda/envs/my-r/R/bin/x64/R\" --vanilla CMD INSTALL  \\\n",
      "  \"C:\\Users\\Huit\\AppData\\Local\\Temp\\Rtmpqco4Zu\\devtools193458dab9\\dmlc-xgboost-ce9d704\\R-package\"  \\\n",
      "  --library=\"C:/Users/Huit/Documents/R/win-library/3.1\" --install-tests \n",
      "\n"
     ]
    },
    {
     "ename": "ERROR",
     "evalue": "Error: Command failed (1)\n",
     "output_type": "error",
     "traceback": [
      "Error: Command failed (1)\n"
     ]
    }
   ],
   "source": [
    "i.xgboost()"
   ]
  }
 ],
 "metadata": {
  "kernelspec": {
   "display_name": "R",
   "language": "R",
   "name": "ir"
  },
  "language_info": {
   "codemirror_mode": "r",
   "file_extension": ".r",
   "mimetype": "text/x-r-source",
   "name": "R",
   "pygments_lexer": "r",
   "version": "3.1.3"
  }
 },
 "nbformat": 4,
 "nbformat_minor": 0
}
