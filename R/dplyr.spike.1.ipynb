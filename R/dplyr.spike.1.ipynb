{
 "cells": [
  {
   "cell_type": "code",
   "execution_count": 1,
   "metadata": {
    "collapsed": false
   },
   "outputs": [
    {
     "name": "stderr",
     "output_type": "stream",
     "text": [
      "\n",
      "Attaching package: 'dplyr'\n",
      "\n",
      "The following objects are masked from 'package:stats':\n",
      "\n",
      "    filter, lag\n",
      "\n",
      "The following objects are masked from 'package:base':\n",
      "\n",
      "    intersect, setdiff, setequal, union\n",
      "\n"
     ]
    },
    {
     "data": {
      "text/html": [
       "<table>\n",
       "<thead><tr><th></th><th scope=col>mpg</th><th scope=col>cyl</th><th scope=col>disp</th><th scope=col>hp</th><th scope=col>drat</th><th scope=col>wt</th><th scope=col>qsec</th><th scope=col>vs</th><th scope=col>am</th><th scope=col>gear</th><th scope=col>carb</th></tr></thead>\n",
       "<tbody>\n",
       "\t<tr><th scope=row>Mazda RX4</th><td> 21.00</td><td>  6.00</td><td>160.00</td><td>110.00</td><td>  3.90</td><td>  2.62</td><td> 16.46</td><td>  0.00</td><td>  1.00</td><td>  4.00</td><td>  4.00</td></tr>\n",
       "\t<tr><th scope=row>Mazda RX4 Wag</th><td> 21.000</td><td>  6.000</td><td>160.000</td><td>110.000</td><td>  3.900</td><td>  2.875</td><td> 17.020</td><td>  0.000</td><td>  1.000</td><td>  4.000</td><td>  4.000</td></tr>\n",
       "\t<tr><th scope=row>Datsun 710</th><td> 22.80</td><td>  4.00</td><td>108.00</td><td> 93.00</td><td>  3.85</td><td>  2.32</td><td> 18.61</td><td>  1.00</td><td>  1.00</td><td>  4.00</td><td>  1.00</td></tr>\n",
       "\t<tr><th scope=row>Hornet 4 Drive</th><td> 21.400</td><td>  6.000</td><td>258.000</td><td>110.000</td><td>  3.080</td><td>  3.215</td><td> 19.440</td><td>  1.000</td><td>  0.000</td><td>  3.000</td><td>  1.000</td></tr>\n",
       "\t<tr><th scope=row>Hornet Sportabout</th><td> 18.70</td><td>  8.00</td><td>360.00</td><td>175.00</td><td>  3.15</td><td>  3.44</td><td> 17.02</td><td>  0.00</td><td>  0.00</td><td>  3.00</td><td>  2.00</td></tr>\n",
       "\t<tr><th scope=row>Valiant</th><td> 18.10</td><td>  6.00</td><td>225.00</td><td>105.00</td><td>  2.76</td><td>  3.46</td><td> 20.22</td><td>  1.00</td><td>  0.00</td><td>  3.00</td><td>  1.00</td></tr>\n",
       "\t<tr><th scope=row>Duster 360</th><td> 14.30</td><td>  8.00</td><td>360.00</td><td>245.00</td><td>  3.21</td><td>  3.57</td><td> 15.84</td><td>  0.00</td><td>  0.00</td><td>  3.00</td><td>  4.00</td></tr>\n",
       "\t<tr><th scope=row>Merc 240D</th><td> 24.40</td><td>  4.00</td><td>146.70</td><td> 62.00</td><td>  3.69</td><td>  3.19</td><td> 20.00</td><td>  1.00</td><td>  0.00</td><td>  4.00</td><td>  2.00</td></tr>\n",
       "\t<tr><th scope=row>Merc 230</th><td> 22.80</td><td>  4.00</td><td>140.80</td><td> 95.00</td><td>  3.92</td><td>  3.15</td><td> 22.90</td><td>  1.00</td><td>  0.00</td><td>  4.00</td><td>  2.00</td></tr>\n",
       "\t<tr><th scope=row>Merc 280</th><td> 19.20</td><td>  6.00</td><td>167.60</td><td>123.00</td><td>  3.92</td><td>  3.44</td><td> 18.30</td><td>  1.00</td><td>  0.00</td><td>  4.00</td><td>  4.00</td></tr>\n",
       "\t<tr><th scope=row>Merc 280C</th><td> 17.80</td><td>  6.00</td><td>167.60</td><td>123.00</td><td>  3.92</td><td>  3.44</td><td> 18.90</td><td>  1.00</td><td>  0.00</td><td>  4.00</td><td>  4.00</td></tr>\n",
       "\t<tr><th scope=row>Merc 450SE</th><td> 16.40</td><td>  8.00</td><td>275.80</td><td>180.00</td><td>  3.07</td><td>  4.07</td><td> 17.40</td><td>  0.00</td><td>  0.00</td><td>  3.00</td><td>  3.00</td></tr>\n",
       "\t<tr><th scope=row>Merc 450SL</th><td> 17.30</td><td>  8.00</td><td>275.80</td><td>180.00</td><td>  3.07</td><td>  3.73</td><td> 17.60</td><td>  0.00</td><td>  0.00</td><td>  3.00</td><td>  3.00</td></tr>\n",
       "\t<tr><th scope=row>Merc 450SLC</th><td> 15.20</td><td>  8.00</td><td>275.80</td><td>180.00</td><td>  3.07</td><td>  3.78</td><td> 18.00</td><td>  0.00</td><td>  0.00</td><td>  3.00</td><td>  3.00</td></tr>\n",
       "\t<tr><th scope=row>Cadillac Fleetwood</th><td> 10.40</td><td>  8.00</td><td>472.00</td><td>205.00</td><td>  2.93</td><td>  5.25</td><td> 17.98</td><td>  0.00</td><td>  0.00</td><td>  3.00</td><td>  4.00</td></tr>\n",
       "\t<tr><th scope=row>Lincoln Continental</th><td> 10.400</td><td>  8.000</td><td>460.000</td><td>215.000</td><td>  3.000</td><td>  5.424</td><td> 17.820</td><td>  0.000</td><td>  0.000</td><td>  3.000</td><td>  4.000</td></tr>\n",
       "\t<tr><th scope=row>Chrysler Imperial</th><td> 14.700</td><td>  8.000</td><td>440.000</td><td>230.000</td><td>  3.230</td><td>  5.345</td><td> 17.420</td><td>  0.000</td><td>  0.000</td><td>  3.000</td><td>  4.000</td></tr>\n",
       "\t<tr><th scope=row>Fiat 128</th><td>32.40</td><td> 4.00</td><td>78.70</td><td>66.00</td><td> 4.08</td><td> 2.20</td><td>19.47</td><td> 1.00</td><td> 1.00</td><td> 4.00</td><td> 1.00</td></tr>\n",
       "\t<tr><th scope=row>Honda Civic</th><td>30.400</td><td> 4.000</td><td>75.700</td><td>52.000</td><td> 4.930</td><td> 1.615</td><td>18.520</td><td> 1.000</td><td> 1.000</td><td> 4.000</td><td> 2.000</td></tr>\n",
       "\t<tr><th scope=row>Toyota Corolla</th><td>33.900</td><td> 4.000</td><td>71.100</td><td>65.000</td><td> 4.220</td><td> 1.835</td><td>19.900</td><td> 1.000</td><td> 1.000</td><td> 4.000</td><td> 1.000</td></tr>\n",
       "</tbody>\n",
       "</table>\n"
      ],
      "text/latex": [
       "\\begin{tabular}{r|lllllllllll}\n",
       "  & mpg & cyl & disp & hp & drat & wt & qsec & vs & am & gear & carb\\\\\n",
       "\\hline\n",
       "\tMazda RX4 &  21.00 &   6.00 & 160.00 & 110.00 &   3.90 &   2.62 &  16.46 &   0.00 &   1.00 &   4.00 &   4.00\\\\\n",
       "\tMazda RX4 Wag &  21.000 &   6.000 & 160.000 & 110.000 &   3.900 &   2.875 &  17.020 &   0.000 &   1.000 &   4.000 &   4.000\\\\\n",
       "\tDatsun 710 &  22.80 &   4.00 & 108.00 &  93.00 &   3.85 &   2.32 &  18.61 &   1.00 &   1.00 &   4.00 &   1.00\\\\\n",
       "\tHornet 4 Drive &  21.400 &   6.000 & 258.000 & 110.000 &   3.080 &   3.215 &  19.440 &   1.000 &   0.000 &   3.000 &   1.000\\\\\n",
       "\tHornet Sportabout &  18.70 &   8.00 & 360.00 & 175.00 &   3.15 &   3.44 &  17.02 &   0.00 &   0.00 &   3.00 &   2.00\\\\\n",
       "\tValiant &  18.10 &   6.00 & 225.00 & 105.00 &   2.76 &   3.46 &  20.22 &   1.00 &   0.00 &   3.00 &   1.00\\\\\n",
       "\tDuster 360 &  14.30 &   8.00 & 360.00 & 245.00 &   3.21 &   3.57 &  15.84 &   0.00 &   0.00 &   3.00 &   4.00\\\\\n",
       "\tMerc 240D &  24.40 &   4.00 & 146.70 &  62.00 &   3.69 &   3.19 &  20.00 &   1.00 &   0.00 &   4.00 &   2.00\\\\\n",
       "\tMerc 230 &  22.80 &   4.00 & 140.80 &  95.00 &   3.92 &   3.15 &  22.90 &   1.00 &   0.00 &   4.00 &   2.00\\\\\n",
       "\tMerc 280 &  19.20 &   6.00 & 167.60 & 123.00 &   3.92 &   3.44 &  18.30 &   1.00 &   0.00 &   4.00 &   4.00\\\\\n",
       "\tMerc 280C &  17.80 &   6.00 & 167.60 & 123.00 &   3.92 &   3.44 &  18.90 &   1.00 &   0.00 &   4.00 &   4.00\\\\\n",
       "\tMerc 450SE &  16.40 &   8.00 & 275.80 & 180.00 &   3.07 &   4.07 &  17.40 &   0.00 &   0.00 &   3.00 &   3.00\\\\\n",
       "\tMerc 450SL &  17.30 &   8.00 & 275.80 & 180.00 &   3.07 &   3.73 &  17.60 &   0.00 &   0.00 &   3.00 &   3.00\\\\\n",
       "\tMerc 450SLC &  15.20 &   8.00 & 275.80 & 180.00 &   3.07 &   3.78 &  18.00 &   0.00 &   0.00 &   3.00 &   3.00\\\\\n",
       "\tCadillac Fleetwood &  10.40 &   8.00 & 472.00 & 205.00 &   2.93 &   5.25 &  17.98 &   0.00 &   0.00 &   3.00 &   4.00\\\\\n",
       "\tLincoln Continental &  10.400 &   8.000 & 460.000 & 215.000 &   3.000 &   5.424 &  17.820 &   0.000 &   0.000 &   3.000 &   4.000\\\\\n",
       "\tChrysler Imperial &  14.700 &   8.000 & 440.000 & 230.000 &   3.230 &   5.345 &  17.420 &   0.000 &   0.000 &   3.000 &   4.000\\\\\n",
       "\tFiat 128 & 32.40 &  4.00 & 78.70 & 66.00 &  4.08 &  2.20 & 19.47 &  1.00 &  1.00 &  4.00 &  1.00\\\\\n",
       "\tHonda Civic & 30.400 &  4.000 & 75.700 & 52.000 &  4.930 &  1.615 & 18.520 &  1.000 &  1.000 &  4.000 &  2.000\\\\\n",
       "\tToyota Corolla & 33.900 &  4.000 & 71.100 & 65.000 &  4.220 &  1.835 & 19.900 &  1.000 &  1.000 &  4.000 &  1.000\\\\\n",
       "\\end{tabular}\n"
      ],
      "text/plain": [
       "                     mpg cyl  disp  hp drat    wt  qsec vs am gear carb\n",
       "Mazda RX4           21.0   6 160.0 110 3.90 2.620 16.46  0  1    4    4\n",
       "Mazda RX4 Wag       21.0   6 160.0 110 3.90 2.875 17.02  0  1    4    4\n",
       "Datsun 710          22.8   4 108.0  93 3.85 2.320 18.61  1  1    4    1\n",
       "Hornet 4 Drive      21.4   6 258.0 110 3.08 3.215 19.44  1  0    3    1\n",
       "Hornet Sportabout   18.7   8 360.0 175 3.15 3.440 17.02  0  0    3    2\n",
       "Valiant             18.1   6 225.0 105 2.76 3.460 20.22  1  0    3    1\n",
       "Duster 360          14.3   8 360.0 245 3.21 3.570 15.84  0  0    3    4\n",
       "Merc 240D           24.4   4 146.7  62 3.69 3.190 20.00  1  0    4    2\n",
       "Merc 230            22.8   4 140.8  95 3.92 3.150 22.90  1  0    4    2\n",
       "Merc 280            19.2   6 167.6 123 3.92 3.440 18.30  1  0    4    4\n",
       "Merc 280C           17.8   6 167.6 123 3.92 3.440 18.90  1  0    4    4\n",
       "Merc 450SE          16.4   8 275.8 180 3.07 4.070 17.40  0  0    3    3\n",
       "Merc 450SL          17.3   8 275.8 180 3.07 3.730 17.60  0  0    3    3\n",
       "Merc 450SLC         15.2   8 275.8 180 3.07 3.780 18.00  0  0    3    3\n",
       "Cadillac Fleetwood  10.4   8 472.0 205 2.93 5.250 17.98  0  0    3    4\n",
       "Lincoln Continental 10.4   8 460.0 215 3.00 5.424 17.82  0  0    3    4\n",
       "Chrysler Imperial   14.7   8 440.0 230 3.23 5.345 17.42  0  0    3    4\n",
       "Fiat 128            32.4   4  78.7  66 4.08 2.200 19.47  1  1    4    1\n",
       "Honda Civic         30.4   4  75.7  52 4.93 1.615 18.52  1  1    4    2\n",
       "Toyota Corolla      33.9   4  71.1  65 4.22 1.835 19.90  1  1    4    1"
      ]
     },
     "metadata": {},
     "output_type": "display_data"
    }
   ],
   "source": [
    "library(dplyr)\n",
    "library(tidyr)\n",
    "library(stringr)\n",
    "\n",
    "data(mtcars)\n",
    "\n",
    "head(mtcars, 20)"
   ]
  },
  {
   "cell_type": "code",
   "execution_count": 2,
   "metadata": {
    "collapsed": false
   },
   "outputs": [
    {
     "data": {
      "text/html": [
       "<table>\n",
       "<thead><tr><th></th><th scope=col>cyl</th><th scope=col>disp.avg</th><th scope=col>carb.max</th></tr></thead>\n",
       "<tbody>\n",
       "\t<tr><th scope=row>1</th><td>4</td><td>4</td><td>2</td></tr>\n",
       "\t<tr><th scope=row>2</th><td>6</td><td>6</td><td>6</td></tr>\n",
       "\t<tr><th scope=row>3</th><td>8</td><td>8</td><td>8</td></tr>\n",
       "</tbody>\n",
       "</table>\n"
      ],
      "text/latex": [
       "\\begin{tabular}{r|lll}\n",
       "  & cyl & disp.avg & carb.max\\\\\n",
       "\\hline\n",
       "\t1 & 4 & 4 & 2\\\\\n",
       "\t2 & 6 & 6 & 6\\\\\n",
       "\t3 & 8 & 8 & 8\\\\\n",
       "\\end{tabular}\n"
      ],
      "text/plain": [
       "  cyl disp.avg carb.max\n",
       "1   4        4        2\n",
       "2   6        6        6\n",
       "3   8        8        8"
      ]
     },
     "metadata": {},
     "output_type": "display_data"
    }
   ],
   "source": [
    "mtcars %>%\n",
    "    group_by(cyl) %>%\n",
    "    summarise(disp.avg    = mean(cyl),\n",
    "              carb.max    = max(carb))"
   ]
  },
  {
   "cell_type": "code",
   "execution_count": 3,
   "metadata": {
    "collapsed": false
   },
   "outputs": [
    {
     "data": {
      "text/html": [
       "<table>\n",
       "<thead><tr><th></th><th scope=col>cyl</th><th scope=col>1</th><th scope=col>2</th><th scope=col>3</th><th scope=col>4</th><th scope=col>6</th><th scope=col>8</th></tr></thead>\n",
       "<tbody>\n",
       "\t<tr><th scope=row>1</th><td>4</td><td>5</td><td>6</td><td>0</td><td>0</td><td>0</td><td>0</td></tr>\n",
       "\t<tr><th scope=row>2</th><td>6</td><td>2</td><td>0</td><td>0</td><td>4</td><td>1</td><td>0</td></tr>\n",
       "\t<tr><th scope=row>3</th><td>8</td><td>0</td><td>4</td><td>3</td><td>6</td><td>0</td><td>1</td></tr>\n",
       "</tbody>\n",
       "</table>\n"
      ],
      "text/latex": [
       "\\begin{tabular}{r|lllllll}\n",
       "  & cyl & 1 & 2 & 3 & 4 & 6 & 8\\\\\n",
       "\\hline\n",
       "\t1 & 4 & 5 & 6 & 0 & 0 & 0 & 0\\\\\n",
       "\t2 & 6 & 2 & 0 & 0 & 4 & 1 & 0\\\\\n",
       "\t3 & 8 & 0 & 4 & 3 & 6 & 0 & 1\\\\\n",
       "\\end{tabular}\n"
      ],
      "text/plain": [
       "  cyl 1 2 3 4 6 8\n",
       "1   4 5 6 0 0 0 0\n",
       "2   6 2 0 0 4 1 0\n",
       "3   8 0 4 3 6 0 1"
      ]
     },
     "metadata": {},
     "output_type": "display_data"
    }
   ],
   "source": [
    "mtcars %>%\n",
    "    group_by(cyl, carb) %>%\n",
    "    summarise(cnt   = n()) %>% \n",
    "    spread(carb, cnt, fill = 0)"
   ]
  },
  {
   "cell_type": "code",
   "execution_count": 4,
   "metadata": {
    "collapsed": false
   },
   "outputs": [
    {
     "data": {
      "text/html": [
       "<pre class=language-r><code>function (data, key, value, fill = NA, convert = FALSE, drop = TRUE, \n",
       "    sep = NULL) \n",
       "{\n",
       "    key_col &lt;- col_name(substitute(key))\n",
       "    value_col &lt;- col_name(substitute(value))\n",
       "    spread_(data, key_col, value_col, fill = fill, convert = convert, \n",
       "        drop = drop, sep = sep)\n",
       "}</code></pre>"
      ],
      "text/latex": [
       "\\begin{minted}{r}\n",
       "function (data, key, value, fill = NA, convert = FALSE, drop = TRUE, \n",
       "    sep = NULL) \n",
       "\\{\n",
       "    key\\_col <- col\\_name(substitute(key))\n",
       "    value\\_col <- col\\_name(substitute(value))\n",
       "    spread\\_(data, key\\_col, value\\_col, fill = fill, convert = convert, \n",
       "        drop = drop, sep = sep)\n",
       "\\}\n",
       "\\end{minted}"
      ],
      "text/markdown": [
       "```r\n",
       "function (data, key, value, fill = NA, convert = FALSE, drop = TRUE, \n",
       "    sep = NULL) \n",
       "{\n",
       "    key_col <- col_name(substitute(key))\n",
       "    value_col <- col_name(substitute(value))\n",
       "    spread_(data, key_col, value_col, fill = fill, convert = convert, \n",
       "        drop = drop, sep = sep)\n",
       "}\n",
       "```"
      ],
      "text/plain": [
       "function (data, key, value, fill = NA, convert = FALSE, drop = TRUE, \n",
       "    sep = NULL) \n",
       "{\n",
       "    key_col <- col_name(substitute(key))\n",
       "    value_col <- col_name(substitute(value))\n",
       "    spread_(data, key_col, value_col, fill = fill, convert = convert, \n",
       "        drop = drop, sep = sep)\n",
       "}\n",
       "<environment: namespace:tidyr>"
      ]
     },
     "metadata": {},
     "output_type": "display_data"
    }
   ],
   "source": [
    "spread"
   ]
  },
  {
   "cell_type": "code",
   "execution_count": 5,
   "metadata": {
    "collapsed": false
   },
   "outputs": [
    {
     "data": {
      "text/html": [
       "<table>\n",
       "<thead><tr><th></th><th scope=col>mpg</th><th scope=col>cyl</th><th scope=col>disp</th><th scope=col>hp</th><th scope=col>drat</th><th scope=col>wt</th><th scope=col>qsec</th><th scope=col>vs</th><th scope=col>am</th><th scope=col>gear</th><th scope=col>carb</th><th scope=col>model</th><th scope=col>brand</th></tr></thead>\n",
       "<tbody>\n",
       "\t<tr><th scope=row>1</th><td>21       </td><td>6        </td><td>160      </td><td>110      </td><td>3.9      </td><td>2.62     </td><td>16.46    </td><td>0        </td><td>1        </td><td>4        </td><td>4        </td><td>Mazda RX4</td><td>Mazda    </td></tr>\n",
       "\t<tr><th scope=row>2</th><td>21           </td><td>6            </td><td>160          </td><td>110          </td><td>3.9          </td><td>2.875        </td><td>17.02        </td><td>0            </td><td>1            </td><td>4            </td><td>4            </td><td>Mazda RX4 Wag</td><td>Mazda        </td></tr>\n",
       "\t<tr><th scope=row>3</th><td>22.8      </td><td>4         </td><td>108       </td><td>93        </td><td>3.85      </td><td>2.32      </td><td>18.61     </td><td>1         </td><td>1         </td><td>4         </td><td>1         </td><td>Datsun 710</td><td>Datsun    </td></tr>\n",
       "\t<tr><th scope=row>4</th><td>21.4          </td><td>6             </td><td>258           </td><td>110           </td><td>3.08          </td><td>3.215         </td><td>19.44         </td><td>1             </td><td>0             </td><td>3             </td><td>1             </td><td>Hornet 4 Drive</td><td>Hornet        </td></tr>\n",
       "\t<tr><th scope=row>5</th><td>18.7             </td><td>8                </td><td>360              </td><td>175              </td><td>3.15             </td><td>3.44             </td><td>17.02            </td><td>0                </td><td>0                </td><td>3                </td><td>2                </td><td>Hornet Sportabout</td><td>Hornet           </td></tr>\n",
       "\t<tr><th scope=row>6</th><td>18.1   </td><td>6      </td><td>225    </td><td>105    </td><td>2.76   </td><td>3.46   </td><td>20.22  </td><td>1      </td><td>0      </td><td>3      </td><td>1      </td><td>Valiant</td><td>Valiant</td></tr>\n",
       "\t<tr><th scope=row>7</th><td>14.3      </td><td>8         </td><td>360       </td><td>245       </td><td>3.21      </td><td>3.57      </td><td>15.84     </td><td>0         </td><td>0         </td><td>3         </td><td>4         </td><td>Duster 360</td><td>Duster    </td></tr>\n",
       "\t<tr><th scope=row>8</th><td>24.4     </td><td>4        </td><td>146.7    </td><td>62       </td><td>3.69     </td><td>3.19     </td><td>20       </td><td>1        </td><td>0        </td><td>4        </td><td>2        </td><td>Merc 240D</td><td>Merc     </td></tr>\n",
       "\t<tr><th scope=row>9</th><td>22.8    </td><td>4       </td><td>140.8   </td><td>95      </td><td>3.92    </td><td>3.15    </td><td>22.9    </td><td>1       </td><td>0       </td><td>4       </td><td>2       </td><td>Merc 230</td><td>Merc    </td></tr>\n",
       "\t<tr><th scope=row>10</th><td>19.2    </td><td>6       </td><td>167.6   </td><td>123     </td><td>3.92    </td><td>3.44    </td><td>18.3    </td><td>1       </td><td>0       </td><td>4       </td><td>4       </td><td>Merc 280</td><td>Merc    </td></tr>\n",
       "</tbody>\n",
       "</table>\n"
      ],
      "text/latex": [
       "\\begin{tabular}{r|lllllllllllll}\n",
       "  & mpg & cyl & disp & hp & drat & wt & qsec & vs & am & gear & carb & model & brand\\\\\n",
       "\\hline\n",
       "\t1 & 21        & 6         & 160       & 110       & 3.9       & 2.62      & 16.46     & 0         & 1         & 4         & 4         & Mazda RX4 & Mazda    \\\\\n",
       "\t2 & 21            & 6             & 160           & 110           & 3.9           & 2.875         & 17.02         & 0             & 1             & 4             & 4             & Mazda RX4 Wag & Mazda        \\\\\n",
       "\t3 & 22.8       & 4          & 108        & 93         & 3.85       & 2.32       & 18.61      & 1          & 1          & 4          & 1          & Datsun 710 & Datsun    \\\\\n",
       "\t4 & 21.4           & 6              & 258            & 110            & 3.08           & 3.215          & 19.44          & 1              & 0              & 3              & 1              & Hornet 4 Drive & Hornet        \\\\\n",
       "\t5 & 18.7              & 8                 & 360               & 175               & 3.15              & 3.44              & 17.02             & 0                 & 0                 & 3                 & 2                 & Hornet Sportabout & Hornet           \\\\\n",
       "\t6 & 18.1    & 6       & 225     & 105     & 2.76    & 3.46    & 20.22   & 1       & 0       & 3       & 1       & Valiant & Valiant\\\\\n",
       "\t7 & 14.3       & 8          & 360        & 245        & 3.21       & 3.57       & 15.84      & 0          & 0          & 3          & 4          & Duster 360 & Duster    \\\\\n",
       "\t8 & 24.4      & 4         & 146.7     & 62        & 3.69      & 3.19      & 20        & 1         & 0         & 4         & 2         & Merc 240D & Merc     \\\\\n",
       "\t9 & 22.8     & 4        & 140.8    & 95       & 3.92     & 3.15     & 22.9     & 1        & 0        & 4        & 2        & Merc 230 & Merc    \\\\\n",
       "\t10 & 19.2     & 6        & 167.6    & 123      & 3.92     & 3.44     & 18.3     & 1        & 0        & 4        & 4        & Merc 280 & Merc    \\\\\n",
       "\\end{tabular}\n"
      ],
      "text/plain": [
       "    mpg cyl  disp  hp drat    wt  qsec vs am gear carb             model\n",
       "1  21.0   6 160.0 110 3.90 2.620 16.46  0  1    4    4         Mazda RX4\n",
       "2  21.0   6 160.0 110 3.90 2.875 17.02  0  1    4    4     Mazda RX4 Wag\n",
       "3  22.8   4 108.0  93 3.85 2.320 18.61  1  1    4    1        Datsun 710\n",
       "4  21.4   6 258.0 110 3.08 3.215 19.44  1  0    3    1    Hornet 4 Drive\n",
       "5  18.7   8 360.0 175 3.15 3.440 17.02  0  0    3    2 Hornet Sportabout\n",
       "6  18.1   6 225.0 105 2.76 3.460 20.22  1  0    3    1           Valiant\n",
       "7  14.3   8 360.0 245 3.21 3.570 15.84  0  0    3    4        Duster 360\n",
       "8  24.4   4 146.7  62 3.69 3.190 20.00  1  0    4    2         Merc 240D\n",
       "9  22.8   4 140.8  95 3.92 3.150 22.90  1  0    4    2          Merc 230\n",
       "10 19.2   6 167.6 123 3.92 3.440 18.30  1  0    4    4          Merc 280\n",
       "     brand\n",
       "1    Mazda\n",
       "2    Mazda\n",
       "3   Datsun\n",
       "4   Hornet\n",
       "5   Hornet\n",
       "6  Valiant\n",
       "7   Duster\n",
       "8     Merc\n",
       "9     Merc\n",
       "10    Merc"
      ]
     },
     "metadata": {},
     "output_type": "display_data"
    }
   ],
   "source": [
    "mtcars %>%\n",
    "    mutate(model    = rownames(mtcars),\n",
    "           brand    = word(model, 1)) %>%\n",
    "    head(10)"
   ]
  },
  {
   "cell_type": "code",
   "execution_count": 6,
   "metadata": {
    "collapsed": false
   },
   "outputs": [
    {
     "data": {
      "text/html": [
       "<table>\n",
       "<thead><tr><th></th><th scope=col>mpg</th><th scope=col>cyl</th><th scope=col>disp</th><th scope=col>hp</th><th scope=col>drat</th><th scope=col>wt</th><th scope=col>qsec</th><th scope=col>vs</th><th scope=col>am</th><th scope=col>gear</th><th scope=col>carb</th><th scope=col>brand</th><th scope=col>nb</th></tr></thead>\n",
       "<tbody>\n",
       "\t<tr><th scope=row>1</th><td>30.4 </td><td>4    </td><td>75.7 </td><td>52   </td><td>4.93 </td><td>1.615</td><td>18.52</td><td>1    </td><td>1    </td><td>4    </td><td>2    </td><td>Honda</td><td>1    </td></tr>\n",
       "\t<tr><th scope=row>2</th><td>24.4 </td><td>4    </td><td>146.7</td><td>62   </td><td>3.69 </td><td>3.19 </td><td>20   </td><td>1    </td><td>0    </td><td>4    </td><td>2    </td><td>Merc </td><td>1    </td></tr>\n",
       "\t<tr><th scope=row>3</th><td>33.9  </td><td>4     </td><td>71.1  </td><td>65    </td><td>4.22  </td><td>1.835 </td><td>19.9  </td><td>1     </td><td>1     </td><td>4     </td><td>1     </td><td>Toyota</td><td>1     </td></tr>\n",
       "\t<tr><th scope=row>4</th><td>32.4 </td><td>4    </td><td>78.7 </td><td>66   </td><td>4.08 </td><td>2.2  </td><td>19.47</td><td>1    </td><td>1    </td><td>4    </td><td>1    </td><td>Fiat </td><td>1    </td></tr>\n",
       "\t<tr><th scope=row>5</th><td>27.3 </td><td>4    </td><td>79   </td><td>66   </td><td>4.08 </td><td>1.935</td><td>18.9 </td><td>1    </td><td>1    </td><td>4    </td><td>1    </td><td>Fiat </td><td>2    </td></tr>\n",
       "\t<tr><th scope=row>6</th><td>26     </td><td>4      </td><td>120.3  </td><td>91     </td><td>4.43   </td><td>2.14   </td><td>16.7   </td><td>0      </td><td>1      </td><td>5      </td><td>2      </td><td>Porsche</td><td>1      </td></tr>\n",
       "\t<tr><th scope=row>7</th><td>22.8  </td><td>4     </td><td>108   </td><td>93    </td><td>3.85  </td><td>2.32  </td><td>18.61 </td><td>1     </td><td>1     </td><td>4     </td><td>1     </td><td>Datsun</td><td>1     </td></tr>\n",
       "\t<tr><th scope=row>8</th><td>22.8 </td><td>4    </td><td>140.8</td><td>95   </td><td>3.92 </td><td>3.15 </td><td>22.9 </td><td>1    </td><td>0    </td><td>4    </td><td>2    </td><td>Merc </td><td>2    </td></tr>\n",
       "\t<tr><th scope=row>9</th><td>21.5  </td><td>4     </td><td>120.1 </td><td>97    </td><td>3.7   </td><td>2.465 </td><td>20.01 </td><td>1     </td><td>0     </td><td>3     </td><td>1     </td><td>Toyota</td><td>2     </td></tr>\n",
       "\t<tr><th scope=row>10</th><td>18.1   </td><td>6      </td><td>225    </td><td>105    </td><td>2.76   </td><td>3.46   </td><td>20.22  </td><td>1      </td><td>0      </td><td>3      </td><td>1      </td><td>Valiant</td><td>1      </td></tr>\n",
       "</tbody>\n",
       "</table>\n"
      ],
      "text/latex": [
       "\\begin{tabular}{r|lllllllllllll}\n",
       "  & mpg & cyl & disp & hp & drat & wt & qsec & vs & am & gear & carb & brand & nb\\\\\n",
       "\\hline\n",
       "\t1 & 30.4  & 4     & 75.7  & 52    & 4.93  & 1.615 & 18.52 & 1     & 1     & 4     & 2     & Honda & 1    \\\\\n",
       "\t2 & 24.4  & 4     & 146.7 & 62    & 3.69  & 3.19  & 20    & 1     & 0     & 4     & 2     & Merc  & 1    \\\\\n",
       "\t3 & 33.9   & 4      & 71.1   & 65     & 4.22   & 1.835  & 19.9   & 1      & 1      & 4      & 1      & Toyota & 1     \\\\\n",
       "\t4 & 32.4  & 4     & 78.7  & 66    & 4.08  & 2.2   & 19.47 & 1     & 1     & 4     & 1     & Fiat  & 1    \\\\\n",
       "\t5 & 27.3  & 4     & 79    & 66    & 4.08  & 1.935 & 18.9  & 1     & 1     & 4     & 1     & Fiat  & 2    \\\\\n",
       "\t6 & 26      & 4       & 120.3   & 91      & 4.43    & 2.14    & 16.7    & 0       & 1       & 5       & 2       & Porsche & 1      \\\\\n",
       "\t7 & 22.8   & 4      & 108    & 93     & 3.85   & 2.32   & 18.61  & 1      & 1      & 4      & 1      & Datsun & 1     \\\\\n",
       "\t8 & 22.8  & 4     & 140.8 & 95    & 3.92  & 3.15  & 22.9  & 1     & 0     & 4     & 2     & Merc  & 2    \\\\\n",
       "\t9 & 21.5   & 4      & 120.1  & 97     & 3.7    & 2.465  & 20.01  & 1      & 0      & 3      & 1      & Toyota & 2     \\\\\n",
       "\t10 & 18.1    & 6       & 225     & 105     & 2.76    & 3.46    & 20.22   & 1       & 0       & 3       & 1       & Valiant & 1      \\\\\n",
       "\\end{tabular}\n"
      ],
      "text/plain": [
       "    mpg cyl  disp  hp drat    wt  qsec vs am gear carb   brand nb\n",
       "1  30.4   4  75.7  52 4.93 1.615 18.52  1  1    4    2   Honda  1\n",
       "2  24.4   4 146.7  62 3.69 3.190 20.00  1  0    4    2    Merc  1\n",
       "3  33.9   4  71.1  65 4.22 1.835 19.90  1  1    4    1  Toyota  1\n",
       "4  32.4   4  78.7  66 4.08 2.200 19.47  1  1    4    1    Fiat  1\n",
       "5  27.3   4  79.0  66 4.08 1.935 18.90  1  1    4    1    Fiat  2\n",
       "6  26.0   4 120.3  91 4.43 2.140 16.70  0  1    5    2 Porsche  1\n",
       "7  22.8   4 108.0  93 3.85 2.320 18.61  1  1    4    1  Datsun  1\n",
       "8  22.8   4 140.8  95 3.92 3.150 22.90  1  0    4    2    Merc  2\n",
       "9  21.5   4 120.1  97 3.70 2.465 20.01  1  0    3    1  Toyota  2\n",
       "10 18.1   6 225.0 105 2.76 3.460 20.22  1  0    3    1 Valiant  1"
      ]
     },
     "metadata": {},
     "output_type": "display_data"
    }
   ],
   "source": [
    "branded <- mtcars %>%\n",
    "    mutate(brand   = word(rownames(mtcars, 1))) %>%\n",
    "    group_by(brand) %>%\n",
    "    arrange(hp, disp) %>%\n",
    "    mutate(nb      = row_number()) %>%\n",
    "    ungroup()\n",
    "branded %>%\n",
    "    head(10)"
   ]
  },
  {
   "cell_type": "code",
   "execution_count": 7,
   "metadata": {
    "collapsed": false
   },
   "outputs": [
    {
     "data": {
      "text/html": [
       "<table>\n",
       "<thead><tr><th></th><th scope=col>brand</th><th scope=col>min.hp</th><th scope=col>max.hp</th><th scope=col>qty</th></tr></thead>\n",
       "<tbody>\n",
       "\t<tr><th scope=row>1</th><td>AMC</td><td>150</td><td>150</td><td>1  </td></tr>\n",
       "\t<tr><th scope=row>2</th><td>Cadillac</td><td>205     </td><td>205     </td><td>1       </td></tr>\n",
       "\t<tr><th scope=row>3</th><td>Camaro</td><td>245   </td><td>245   </td><td>1     </td></tr>\n",
       "\t<tr><th scope=row>4</th><td>Chrysler</td><td>230     </td><td>230     </td><td>1       </td></tr>\n",
       "\t<tr><th scope=row>5</th><td>Datsun</td><td>93    </td><td>93    </td><td>1     </td></tr>\n",
       "\t<tr><th scope=row>6</th><td>Dodge</td><td>150  </td><td>150  </td><td>1    </td></tr>\n",
       "\t<tr><th scope=row>7</th><td>Duster</td><td>245   </td><td>245   </td><td>1     </td></tr>\n",
       "\t<tr><th scope=row>8</th><td>Ferrari</td><td>175    </td><td>175    </td><td>1      </td></tr>\n",
       "\t<tr><th scope=row>9</th><td>Fiat</td><td>66  </td><td>66  </td><td>2   </td></tr>\n",
       "\t<tr><th scope=row>10</th><td>Ford</td><td>264 </td><td>264 </td><td>1   </td></tr>\n",
       "\t<tr><th scope=row>11</th><td>Honda</td><td>52   </td><td>52   </td><td>1    </td></tr>\n",
       "\t<tr><th scope=row>12</th><td>Hornet</td><td>110   </td><td>175   </td><td>2     </td></tr>\n",
       "\t<tr><th scope=row>13</th><td>Lincoln</td><td>215    </td><td>215    </td><td>1      </td></tr>\n",
       "\t<tr><th scope=row>14</th><td>Lotus</td><td>113  </td><td>113  </td><td>1    </td></tr>\n",
       "\t<tr><th scope=row>15</th><td>Maserati</td><td>335     </td><td>335     </td><td>1       </td></tr>\n",
       "\t<tr><th scope=row>16</th><td>Mazda</td><td>110  </td><td>110  </td><td>2    </td></tr>\n",
       "\t<tr><th scope=row>17</th><td>Merc</td><td>62  </td><td>180 </td><td>7   </td></tr>\n",
       "\t<tr><th scope=row>18</th><td>Pontiac</td><td>175    </td><td>175    </td><td>1      </td></tr>\n",
       "\t<tr><th scope=row>19</th><td>Porsche</td><td>91     </td><td>91     </td><td>1      </td></tr>\n",
       "\t<tr><th scope=row>20</th><td>Toyota</td><td>65    </td><td>97    </td><td>2     </td></tr>\n",
       "\t<tr><th scope=row>21</th><td>Valiant</td><td>105    </td><td>105    </td><td>1      </td></tr>\n",
       "\t<tr><th scope=row>22</th><td>Volvo</td><td>109  </td><td>109  </td><td>1    </td></tr>\n",
       "</tbody>\n",
       "</table>\n"
      ],
      "text/latex": [
       "\\begin{tabular}{r|llll}\n",
       "  & brand & min.hp & max.hp & qty\\\\\n",
       "\\hline\n",
       "\t1 & AMC & 150 & 150 & 1  \\\\\n",
       "\t2 & Cadillac & 205      & 205      & 1       \\\\\n",
       "\t3 & Camaro & 245    & 245    & 1     \\\\\n",
       "\t4 & Chrysler & 230      & 230      & 1       \\\\\n",
       "\t5 & Datsun & 93     & 93     & 1     \\\\\n",
       "\t6 & Dodge & 150   & 150   & 1    \\\\\n",
       "\t7 & Duster & 245    & 245    & 1     \\\\\n",
       "\t8 & Ferrari & 175     & 175     & 1      \\\\\n",
       "\t9 & Fiat & 66   & 66   & 2   \\\\\n",
       "\t10 & Ford & 264  & 264  & 1   \\\\\n",
       "\t11 & Honda & 52    & 52    & 1    \\\\\n",
       "\t12 & Hornet & 110    & 175    & 2     \\\\\n",
       "\t13 & Lincoln & 215     & 215     & 1      \\\\\n",
       "\t14 & Lotus & 113   & 113   & 1    \\\\\n",
       "\t15 & Maserati & 335      & 335      & 1       \\\\\n",
       "\t16 & Mazda & 110   & 110   & 2    \\\\\n",
       "\t17 & Merc & 62   & 180  & 7   \\\\\n",
       "\t18 & Pontiac & 175     & 175     & 1      \\\\\n",
       "\t19 & Porsche & 91      & 91      & 1      \\\\\n",
       "\t20 & Toyota & 65     & 97     & 2     \\\\\n",
       "\t21 & Valiant & 105     & 105     & 1      \\\\\n",
       "\t22 & Volvo & 109   & 109   & 1    \\\\\n",
       "\\end{tabular}\n"
      ],
      "text/plain": [
       "      brand min.hp max.hp qty\n",
       "1       AMC    150    150   1\n",
       "2  Cadillac    205    205   1\n",
       "3    Camaro    245    245   1\n",
       "4  Chrysler    230    230   1\n",
       "5    Datsun     93     93   1\n",
       "6     Dodge    150    150   1\n",
       "7    Duster    245    245   1\n",
       "8   Ferrari    175    175   1\n",
       "9      Fiat     66     66   2\n",
       "10     Ford    264    264   1\n",
       "11    Honda     52     52   1\n",
       "12   Hornet    110    175   2\n",
       "13  Lincoln    215    215   1\n",
       "14    Lotus    113    113   1\n",
       "15 Maserati    335    335   1\n",
       "16    Mazda    110    110   2\n",
       "17     Merc     62    180   7\n",
       "18  Pontiac    175    175   1\n",
       "19  Porsche     91     91   1\n",
       "20   Toyota     65     97   2\n",
       "21  Valiant    105    105   1\n",
       "22    Volvo    109    109   1"
      ]
     },
     "metadata": {},
     "output_type": "display_data"
    }
   ],
   "source": [
    "branded %>%\n",
    "    group_by(brand) %>%\n",
    "    summarise(min.hp    = min(hp),\n",
    "              max.hp    = max(hp),\n",
    "              qty       = n())"
   ]
  },
  {
   "cell_type": "code",
   "execution_count": 10,
   "metadata": {
    "collapsed": false
   },
   "outputs": [
    {
     "data": {
      "text/html": [
       "<table>\n",
       "<thead><tr><th></th><th scope=col>mpg</th><th scope=col>cyl</th><th scope=col>disp</th><th scope=col>hp</th><th scope=col>drat</th><th scope=col>wt</th><th scope=col>qsec</th><th scope=col>vs</th><th scope=col>am</th><th scope=col>gear</th><th scope=col>carb</th><th scope=col>brand</th><th scope=col>nb</th><th scope=col>hp.prev</th><th scope=col>hp.incr</th></tr></thead>\n",
       "<tbody>\n",
       "\t<tr><th scope=row>1</th><td>21.4  </td><td>6     </td><td>258   </td><td>110   </td><td>3.08  </td><td>3.215 </td><td>19.44 </td><td>1     </td><td>0     </td><td>3     </td><td>1     </td><td>Hornet</td><td>1     </td><td>NA    </td><td>NA    </td></tr>\n",
       "\t<tr><th scope=row>2</th><td>18.7  </td><td>8     </td><td>360   </td><td>175   </td><td>3.15  </td><td>3.44  </td><td>17.02 </td><td>0     </td><td>0     </td><td>3     </td><td>2     </td><td>Hornet</td><td>2     </td><td>110   </td><td>65    </td></tr>\n",
       "\t<tr><th scope=row>3</th><td>24.4 </td><td>4    </td><td>146.7</td><td>62   </td><td>3.69 </td><td>3.19 </td><td>20   </td><td>1    </td><td>0    </td><td>4    </td><td>2    </td><td>Merc </td><td>1    </td><td>NA   </td><td>NA   </td></tr>\n",
       "\t<tr><th scope=row>4</th><td>22.8 </td><td>4    </td><td>140.8</td><td>95   </td><td>3.92 </td><td>3.15 </td><td>22.9 </td><td>1    </td><td>0    </td><td>4    </td><td>2    </td><td>Merc </td><td>2    </td><td>62   </td><td>33   </td></tr>\n",
       "\t<tr><th scope=row>5</th><td>19.2 </td><td>6    </td><td>167.6</td><td>123  </td><td>3.92 </td><td>3.44 </td><td>18.3 </td><td>1    </td><td>0    </td><td>4    </td><td>4    </td><td>Merc </td><td>3    </td><td>95   </td><td>28   </td></tr>\n",
       "\t<tr><th scope=row>6</th><td>17.8 </td><td>6    </td><td>167.6</td><td>123  </td><td>3.92 </td><td>3.44 </td><td>18.9 </td><td>1    </td><td>0    </td><td>4    </td><td>4    </td><td>Merc </td><td>4    </td><td>123  </td><td>0    </td></tr>\n",
       "\t<tr><th scope=row>7</th><td>16.4 </td><td>8    </td><td>275.8</td><td>180  </td><td>3.07 </td><td>4.07 </td><td>17.4 </td><td>0    </td><td>0    </td><td>3    </td><td>3    </td><td>Merc </td><td>5    </td><td>123  </td><td>57   </td></tr>\n",
       "\t<tr><th scope=row>8</th><td>17.3 </td><td>8    </td><td>275.8</td><td>180  </td><td>3.07 </td><td>3.73 </td><td>17.6 </td><td>0    </td><td>0    </td><td>3    </td><td>3    </td><td>Merc </td><td>6    </td><td>180  </td><td>0    </td></tr>\n",
       "\t<tr><th scope=row>9</th><td>15.2 </td><td>8    </td><td>275.8</td><td>180  </td><td>3.07 </td><td>3.78 </td><td>18   </td><td>0    </td><td>0    </td><td>3    </td><td>3    </td><td>Merc </td><td>7    </td><td>180  </td><td>0    </td></tr>\n",
       "\t<tr><th scope=row>10</th><td>33.9  </td><td>4     </td><td>71.1  </td><td>65    </td><td>4.22  </td><td>1.835 </td><td>19.9  </td><td>1     </td><td>1     </td><td>4     </td><td>1     </td><td>Toyota</td><td>1     </td><td>NA    </td><td>NA    </td></tr>\n",
       "\t<tr><th scope=row>11</th><td>21.5  </td><td>4     </td><td>120.1 </td><td>97    </td><td>3.7   </td><td>2.465 </td><td>20.01 </td><td>1     </td><td>0     </td><td>3     </td><td>1     </td><td>Toyota</td><td>2     </td><td>65    </td><td>32    </td></tr>\n",
       "</tbody>\n",
       "</table>\n"
      ],
      "text/latex": [
       "\\begin{tabular}{r|lllllllllllllll}\n",
       "  & mpg & cyl & disp & hp & drat & wt & qsec & vs & am & gear & carb & brand & nb & hp.prev & hp.incr\\\\\n",
       "\\hline\n",
       "\t1 & 21.4   & 6      & 258    & 110    & 3.08   & 3.215  & 19.44  & 1      & 0      & 3      & 1      & Hornet & 1      & NA     & NA    \\\\\n",
       "\t2 & 18.7   & 8      & 360    & 175    & 3.15   & 3.44   & 17.02  & 0      & 0      & 3      & 2      & Hornet & 2      & 110    & 65    \\\\\n",
       "\t3 & 24.4  & 4     & 146.7 & 62    & 3.69  & 3.19  & 20    & 1     & 0     & 4     & 2     & Merc  & 1     & NA    & NA   \\\\\n",
       "\t4 & 22.8  & 4     & 140.8 & 95    & 3.92  & 3.15  & 22.9  & 1     & 0     & 4     & 2     & Merc  & 2     & 62    & 33   \\\\\n",
       "\t5 & 19.2  & 6     & 167.6 & 123   & 3.92  & 3.44  & 18.3  & 1     & 0     & 4     & 4     & Merc  & 3     & 95    & 28   \\\\\n",
       "\t6 & 17.8  & 6     & 167.6 & 123   & 3.92  & 3.44  & 18.9  & 1     & 0     & 4     & 4     & Merc  & 4     & 123   & 0    \\\\\n",
       "\t7 & 16.4  & 8     & 275.8 & 180   & 3.07  & 4.07  & 17.4  & 0     & 0     & 3     & 3     & Merc  & 5     & 123   & 57   \\\\\n",
       "\t8 & 17.3  & 8     & 275.8 & 180   & 3.07  & 3.73  & 17.6  & 0     & 0     & 3     & 3     & Merc  & 6     & 180   & 0    \\\\\n",
       "\t9 & 15.2  & 8     & 275.8 & 180   & 3.07  & 3.78  & 18    & 0     & 0     & 3     & 3     & Merc  & 7     & 180   & 0    \\\\\n",
       "\t10 & 33.9   & 4      & 71.1   & 65     & 4.22   & 1.835  & 19.9   & 1      & 1      & 4      & 1      & Toyota & 1      & NA     & NA    \\\\\n",
       "\t11 & 21.5   & 4      & 120.1  & 97     & 3.7    & 2.465  & 20.01  & 1      & 0      & 3      & 1      & Toyota & 2      & 65     & 32    \\\\\n",
       "\\end{tabular}\n"
      ],
      "text/plain": [
       "    mpg cyl  disp  hp drat    wt  qsec vs am gear carb  brand nb hp.prev\n",
       "1  21.4   6 258.0 110 3.08 3.215 19.44  1  0    3    1 Hornet  1      NA\n",
       "2  18.7   8 360.0 175 3.15 3.440 17.02  0  0    3    2 Hornet  2     110\n",
       "3  24.4   4 146.7  62 3.69 3.190 20.00  1  0    4    2   Merc  1      NA\n",
       "4  22.8   4 140.8  95 3.92 3.150 22.90  1  0    4    2   Merc  2      62\n",
       "5  19.2   6 167.6 123 3.92 3.440 18.30  1  0    4    4   Merc  3      95\n",
       "6  17.8   6 167.6 123 3.92 3.440 18.90  1  0    4    4   Merc  4     123\n",
       "7  16.4   8 275.8 180 3.07 4.070 17.40  0  0    3    3   Merc  5     123\n",
       "8  17.3   8 275.8 180 3.07 3.730 17.60  0  0    3    3   Merc  6     180\n",
       "9  15.2   8 275.8 180 3.07 3.780 18.00  0  0    3    3   Merc  7     180\n",
       "10 33.9   4  71.1  65 4.22 1.835 19.90  1  1    4    1 Toyota  1      NA\n",
       "11 21.5   4 120.1  97 3.70 2.465 20.01  1  0    3    1 Toyota  2      65\n",
       "   hp.incr\n",
       "1       NA\n",
       "2       65\n",
       "3       NA\n",
       "4       33\n",
       "5       28\n",
       "6        0\n",
       "7       57\n",
       "8        0\n",
       "9        0\n",
       "10      NA\n",
       "11      32"
      ]
     },
     "metadata": {},
     "output_type": "display_data"
    }
   ],
   "source": [
    "doubled <- branded %>%\n",
    "    mutate(previous = nb - 1) %>%\n",
    "    left_join(branded %>% \n",
    "                 mutate(hp.prev    = hp,\n",
    "                        nb.prev    = nb) %>%\n",
    "                 select(hp.prev, nb.prev, brand),\n",
    "              by = c(\"brand\",\n",
    "                     \"previous\" = \"nb.prev\")) %>%\n",
    "    select(-previous) %>%\n",
    "    mutate(hp.incr  = hp - hp.prev)\n",
    "\n",
    "doubled %>%\n",
    "    filter(brand %in% c(\"Hornet\", \"Merc\", \"Toyota\")) %>%\n",
    "    arrange(brand)"
   ]
  },
  {
   "cell_type": "code",
   "execution_count": 9,
   "metadata": {
    "collapsed": false
   },
   "outputs": [
    {
     "data": {
      "text/html": [
       "<table>\n",
       "<thead><tr><th></th><th scope=col>mpg</th><th scope=col>cyl</th><th scope=col>disp</th><th scope=col>hp</th><th scope=col>drat</th><th scope=col>wt</th><th scope=col>qsec</th><th scope=col>vs</th><th scope=col>am</th><th scope=col>gear</th><th scope=col>carb</th><th scope=col>brand</th><th scope=col>nb</th><th scope=col>hp.cum</th></tr></thead>\n",
       "<tbody>\n",
       "\t<tr><th scope=row>1</th><td>15.2 </td><td>8    </td><td>304  </td><td>150  </td><td>3.15 </td><td>3.435</td><td>17.3 </td><td>0    </td><td>0    </td><td>3    </td><td>2    </td><td>AMC  </td><td>1    </td><td>150  </td></tr>\n",
       "\t<tr><th scope=row>2</th><td>10.4    </td><td>8       </td><td>472     </td><td>205     </td><td>2.93    </td><td>5.25    </td><td>17.98   </td><td>0       </td><td>0       </td><td>3       </td><td>4       </td><td>Cadillac</td><td>1       </td><td>205     </td></tr>\n",
       "\t<tr><th scope=row>3</th><td>13.3  </td><td>8     </td><td>350   </td><td>245   </td><td>3.73  </td><td>3.84  </td><td>15.41 </td><td>0     </td><td>0     </td><td>3     </td><td>4     </td><td>Camaro</td><td>1     </td><td>245   </td></tr>\n",
       "\t<tr><th scope=row>4</th><td>14.7    </td><td>8       </td><td>440     </td><td>230     </td><td>3.23    </td><td>5.345   </td><td>17.42   </td><td>0       </td><td>0       </td><td>3       </td><td>4       </td><td>Chrysler</td><td>1       </td><td>230     </td></tr>\n",
       "\t<tr><th scope=row>5</th><td>22.8  </td><td>4     </td><td>108   </td><td>93    </td><td>3.85  </td><td>2.32  </td><td>18.61 </td><td>1     </td><td>1     </td><td>4     </td><td>1     </td><td>Datsun</td><td>1     </td><td>93    </td></tr>\n",
       "\t<tr><th scope=row>6</th><td>15.5 </td><td>8    </td><td>318  </td><td>150  </td><td>2.76 </td><td>3.52 </td><td>16.87</td><td>0    </td><td>0    </td><td>3    </td><td>2    </td><td>Dodge</td><td>1    </td><td>150  </td></tr>\n",
       "\t<tr><th scope=row>7</th><td>14.3  </td><td>8     </td><td>360   </td><td>245   </td><td>3.21  </td><td>3.57  </td><td>15.84 </td><td>0     </td><td>0     </td><td>3     </td><td>4     </td><td>Duster</td><td>1     </td><td>245   </td></tr>\n",
       "\t<tr><th scope=row>8</th><td>19.7   </td><td>6      </td><td>145    </td><td>175    </td><td>3.62   </td><td>2.77   </td><td>15.5   </td><td>0      </td><td>1      </td><td>5      </td><td>6      </td><td>Ferrari</td><td>1      </td><td>175    </td></tr>\n",
       "\t<tr><th scope=row>9</th><td>32.4 </td><td>4    </td><td>78.7 </td><td>66   </td><td>4.08 </td><td>2.2  </td><td>19.47</td><td>1    </td><td>1    </td><td>4    </td><td>1    </td><td>Fiat </td><td>1    </td><td>66   </td></tr>\n",
       "\t<tr><th scope=row>10</th><td>27.3 </td><td>4    </td><td>79   </td><td>66   </td><td>4.08 </td><td>1.935</td><td>18.9 </td><td>1    </td><td>1    </td><td>4    </td><td>1    </td><td>Fiat </td><td>2    </td><td>132  </td></tr>\n",
       "\t<tr><th scope=row>11</th><td>15.8</td><td>8   </td><td>351 </td><td>264 </td><td>4.22</td><td>3.17</td><td>14.5</td><td>0   </td><td>1   </td><td>5   </td><td>4   </td><td>Ford</td><td>1   </td><td>264 </td></tr>\n",
       "\t<tr><th scope=row>12</th><td>30.4 </td><td>4    </td><td>75.7 </td><td>52   </td><td>4.93 </td><td>1.615</td><td>18.52</td><td>1    </td><td>1    </td><td>4    </td><td>2    </td><td>Honda</td><td>1    </td><td>52   </td></tr>\n",
       "\t<tr><th scope=row>13</th><td>21.4  </td><td>6     </td><td>258   </td><td>110   </td><td>3.08  </td><td>3.215 </td><td>19.44 </td><td>1     </td><td>0     </td><td>3     </td><td>1     </td><td>Hornet</td><td>1     </td><td>110   </td></tr>\n",
       "\t<tr><th scope=row>14</th><td>18.7  </td><td>8     </td><td>360   </td><td>175   </td><td>3.15  </td><td>3.44  </td><td>17.02 </td><td>0     </td><td>0     </td><td>3     </td><td>2     </td><td>Hornet</td><td>2     </td><td>285   </td></tr>\n",
       "\t<tr><th scope=row>15</th><td>10.4   </td><td>8      </td><td>460    </td><td>215    </td><td>3      </td><td>5.424  </td><td>17.82  </td><td>0      </td><td>0      </td><td>3      </td><td>4      </td><td>Lincoln</td><td>1      </td><td>215    </td></tr>\n",
       "\t<tr><th scope=row>16</th><td>30.4 </td><td>4    </td><td>95.1 </td><td>113  </td><td>3.77 </td><td>1.513</td><td>16.9 </td><td>1    </td><td>1    </td><td>5    </td><td>2    </td><td>Lotus</td><td>1    </td><td>113  </td></tr>\n",
       "\t<tr><th scope=row>17</th><td>15      </td><td>8       </td><td>301     </td><td>335     </td><td>3.54    </td><td>3.57    </td><td>14.6    </td><td>0       </td><td>1       </td><td>5       </td><td>8       </td><td>Maserati</td><td>1       </td><td>335     </td></tr>\n",
       "\t<tr><th scope=row>18</th><td>21   </td><td>6    </td><td>160  </td><td>110  </td><td>3.9  </td><td>2.62 </td><td>16.46</td><td>0    </td><td>1    </td><td>4    </td><td>4    </td><td>Mazda</td><td>1    </td><td>110  </td></tr>\n",
       "\t<tr><th scope=row>19</th><td>21   </td><td>6    </td><td>160  </td><td>110  </td><td>3.9  </td><td>2.875</td><td>17.02</td><td>0    </td><td>1    </td><td>4    </td><td>4    </td><td>Mazda</td><td>2    </td><td>220  </td></tr>\n",
       "\t<tr><th scope=row>20</th><td>24.4 </td><td>4    </td><td>146.7</td><td>62   </td><td>3.69 </td><td>3.19 </td><td>20   </td><td>1    </td><td>0    </td><td>4    </td><td>2    </td><td>Merc </td><td>1    </td><td>62   </td></tr>\n",
       "\t<tr><th scope=row>21</th><td>22.8 </td><td>4    </td><td>140.8</td><td>95   </td><td>3.92 </td><td>3.15 </td><td>22.9 </td><td>1    </td><td>0    </td><td>4    </td><td>2    </td><td>Merc </td><td>2    </td><td>157  </td></tr>\n",
       "\t<tr><th scope=row>22</th><td>19.2 </td><td>6    </td><td>167.6</td><td>123  </td><td>3.92 </td><td>3.44 </td><td>18.3 </td><td>1    </td><td>0    </td><td>4    </td><td>4    </td><td>Merc </td><td>3    </td><td>280  </td></tr>\n",
       "\t<tr><th scope=row>23</th><td>17.8 </td><td>6    </td><td>167.6</td><td>123  </td><td>3.92 </td><td>3.44 </td><td>18.9 </td><td>1    </td><td>0    </td><td>4    </td><td>4    </td><td>Merc </td><td>4    </td><td>403  </td></tr>\n",
       "\t<tr><th scope=row>24</th><td>16.4 </td><td>8    </td><td>275.8</td><td>180  </td><td>3.07 </td><td>4.07 </td><td>17.4 </td><td>0    </td><td>0    </td><td>3    </td><td>3    </td><td>Merc </td><td>5    </td><td>583  </td></tr>\n",
       "\t<tr><th scope=row>25</th><td>17.3 </td><td>8    </td><td>275.8</td><td>180  </td><td>3.07 </td><td>3.73 </td><td>17.6 </td><td>0    </td><td>0    </td><td>3    </td><td>3    </td><td>Merc </td><td>6    </td><td>763  </td></tr>\n",
       "\t<tr><th scope=row>26</th><td>15.2 </td><td>8    </td><td>275.8</td><td>180  </td><td>3.07 </td><td>3.78 </td><td>18   </td><td>0    </td><td>0    </td><td>3    </td><td>3    </td><td>Merc </td><td>7    </td><td>943  </td></tr>\n",
       "\t<tr><th scope=row>27</th><td>19.2   </td><td>8      </td><td>400    </td><td>175    </td><td>3.08   </td><td>3.845  </td><td>17.05  </td><td>0      </td><td>0      </td><td>3      </td><td>2      </td><td>Pontiac</td><td>1      </td><td>175    </td></tr>\n",
       "\t<tr><th scope=row>28</th><td>26     </td><td>4      </td><td>120.3  </td><td>91     </td><td>4.43   </td><td>2.14   </td><td>16.7   </td><td>0      </td><td>1      </td><td>5      </td><td>2      </td><td>Porsche</td><td>1      </td><td>91     </td></tr>\n",
       "\t<tr><th scope=row>29</th><td>33.9  </td><td>4     </td><td>71.1  </td><td>65    </td><td>4.22  </td><td>1.835 </td><td>19.9  </td><td>1     </td><td>1     </td><td>4     </td><td>1     </td><td>Toyota</td><td>1     </td><td>65    </td></tr>\n",
       "\t<tr><th scope=row>30</th><td>21.5  </td><td>4     </td><td>120.1 </td><td>97    </td><td>3.7   </td><td>2.465 </td><td>20.01 </td><td>1     </td><td>0     </td><td>3     </td><td>1     </td><td>Toyota</td><td>2     </td><td>162   </td></tr>\n",
       "\t<tr><th scope=row>31</th><td>18.1   </td><td>6      </td><td>225    </td><td>105    </td><td>2.76   </td><td>3.46   </td><td>20.22  </td><td>1      </td><td>0      </td><td>3      </td><td>1      </td><td>Valiant</td><td>1      </td><td>105    </td></tr>\n",
       "\t<tr><th scope=row>32</th><td>21.4 </td><td>4    </td><td>121  </td><td>109  </td><td>4.11 </td><td>2.78 </td><td>18.6 </td><td>1    </td><td>1    </td><td>4    </td><td>2    </td><td>Volvo</td><td>1    </td><td>109  </td></tr>\n",
       "</tbody>\n",
       "</table>\n"
      ],
      "text/latex": [
       "\\begin{tabular}{r|llllllllllllll}\n",
       "  & mpg & cyl & disp & hp & drat & wt & qsec & vs & am & gear & carb & brand & nb & hp.cum\\\\\n",
       "\\hline\n",
       "\t1 & 15.2  & 8     & 304   & 150   & 3.15  & 3.435 & 17.3  & 0     & 0     & 3     & 2     & AMC   & 1     & 150  \\\\\n",
       "\t2 & 10.4     & 8        & 472      & 205      & 2.93     & 5.25     & 17.98    & 0        & 0        & 3        & 4        & Cadillac & 1        & 205     \\\\\n",
       "\t3 & 13.3   & 8      & 350    & 245    & 3.73   & 3.84   & 15.41  & 0      & 0      & 3      & 4      & Camaro & 1      & 245   \\\\\n",
       "\t4 & 14.7     & 8        & 440      & 230      & 3.23     & 5.345    & 17.42    & 0        & 0        & 3        & 4        & Chrysler & 1        & 230     \\\\\n",
       "\t5 & 22.8   & 4      & 108    & 93     & 3.85   & 2.32   & 18.61  & 1      & 1      & 4      & 1      & Datsun & 1      & 93    \\\\\n",
       "\t6 & 15.5  & 8     & 318   & 150   & 2.76  & 3.52  & 16.87 & 0     & 0     & 3     & 2     & Dodge & 1     & 150  \\\\\n",
       "\t7 & 14.3   & 8      & 360    & 245    & 3.21   & 3.57   & 15.84  & 0      & 0      & 3      & 4      & Duster & 1      & 245   \\\\\n",
       "\t8 & 19.7    & 6       & 145     & 175     & 3.62    & 2.77    & 15.5    & 0       & 1       & 5       & 6       & Ferrari & 1       & 175    \\\\\n",
       "\t9 & 32.4  & 4     & 78.7  & 66    & 4.08  & 2.2   & 19.47 & 1     & 1     & 4     & 1     & Fiat  & 1     & 66   \\\\\n",
       "\t10 & 27.3  & 4     & 79    & 66    & 4.08  & 1.935 & 18.9  & 1     & 1     & 4     & 1     & Fiat  & 2     & 132  \\\\\n",
       "\t11 & 15.8 & 8    & 351  & 264  & 4.22 & 3.17 & 14.5 & 0    & 1    & 5    & 4    & Ford & 1    & 264 \\\\\n",
       "\t12 & 30.4  & 4     & 75.7  & 52    & 4.93  & 1.615 & 18.52 & 1     & 1     & 4     & 2     & Honda & 1     & 52   \\\\\n",
       "\t13 & 21.4   & 6      & 258    & 110    & 3.08   & 3.215  & 19.44  & 1      & 0      & 3      & 1      & Hornet & 1      & 110   \\\\\n",
       "\t14 & 18.7   & 8      & 360    & 175    & 3.15   & 3.44   & 17.02  & 0      & 0      & 3      & 2      & Hornet & 2      & 285   \\\\\n",
       "\t15 & 10.4    & 8       & 460     & 215     & 3       & 5.424   & 17.82   & 0       & 0       & 3       & 4       & Lincoln & 1       & 215    \\\\\n",
       "\t16 & 30.4  & 4     & 95.1  & 113   & 3.77  & 1.513 & 16.9  & 1     & 1     & 5     & 2     & Lotus & 1     & 113  \\\\\n",
       "\t17 & 15       & 8        & 301      & 335      & 3.54     & 3.57     & 14.6     & 0        & 1        & 5        & 8        & Maserati & 1        & 335     \\\\\n",
       "\t18 & 21    & 6     & 160   & 110   & 3.9   & 2.62  & 16.46 & 0     & 1     & 4     & 4     & Mazda & 1     & 110  \\\\\n",
       "\t19 & 21    & 6     & 160   & 110   & 3.9   & 2.875 & 17.02 & 0     & 1     & 4     & 4     & Mazda & 2     & 220  \\\\\n",
       "\t20 & 24.4  & 4     & 146.7 & 62    & 3.69  & 3.19  & 20    & 1     & 0     & 4     & 2     & Merc  & 1     & 62   \\\\\n",
       "\t21 & 22.8  & 4     & 140.8 & 95    & 3.92  & 3.15  & 22.9  & 1     & 0     & 4     & 2     & Merc  & 2     & 157  \\\\\n",
       "\t22 & 19.2  & 6     & 167.6 & 123   & 3.92  & 3.44  & 18.3  & 1     & 0     & 4     & 4     & Merc  & 3     & 280  \\\\\n",
       "\t23 & 17.8  & 6     & 167.6 & 123   & 3.92  & 3.44  & 18.9  & 1     & 0     & 4     & 4     & Merc  & 4     & 403  \\\\\n",
       "\t24 & 16.4  & 8     & 275.8 & 180   & 3.07  & 4.07  & 17.4  & 0     & 0     & 3     & 3     & Merc  & 5     & 583  \\\\\n",
       "\t25 & 17.3  & 8     & 275.8 & 180   & 3.07  & 3.73  & 17.6  & 0     & 0     & 3     & 3     & Merc  & 6     & 763  \\\\\n",
       "\t26 & 15.2  & 8     & 275.8 & 180   & 3.07  & 3.78  & 18    & 0     & 0     & 3     & 3     & Merc  & 7     & 943  \\\\\n",
       "\t27 & 19.2    & 8       & 400     & 175     & 3.08    & 3.845   & 17.05   & 0       & 0       & 3       & 2       & Pontiac & 1       & 175    \\\\\n",
       "\t28 & 26      & 4       & 120.3   & 91      & 4.43    & 2.14    & 16.7    & 0       & 1       & 5       & 2       & Porsche & 1       & 91     \\\\\n",
       "\t29 & 33.9   & 4      & 71.1   & 65     & 4.22   & 1.835  & 19.9   & 1      & 1      & 4      & 1      & Toyota & 1      & 65    \\\\\n",
       "\t30 & 21.5   & 4      & 120.1  & 97     & 3.7    & 2.465  & 20.01  & 1      & 0      & 3      & 1      & Toyota & 2      & 162   \\\\\n",
       "\t31 & 18.1    & 6       & 225     & 105     & 2.76    & 3.46    & 20.22   & 1       & 0       & 3       & 1       & Valiant & 1       & 105    \\\\\n",
       "\t32 & 21.4  & 4     & 121   & 109   & 4.11  & 2.78  & 18.6  & 1     & 1     & 4     & 2     & Volvo & 1     & 109  \\\\\n",
       "\\end{tabular}\n"
      ],
      "text/plain": [
       "    mpg cyl  disp  hp drat    wt  qsec vs am gear carb    brand nb hp.cum\n",
       "1  15.2   8 304.0 150 3.15 3.435 17.30  0  0    3    2      AMC  1    150\n",
       "2  10.4   8 472.0 205 2.93 5.250 17.98  0  0    3    4 Cadillac  1    205\n",
       "3  13.3   8 350.0 245 3.73 3.840 15.41  0  0    3    4   Camaro  1    245\n",
       "4  14.7   8 440.0 230 3.23 5.345 17.42  0  0    3    4 Chrysler  1    230\n",
       "5  22.8   4 108.0  93 3.85 2.320 18.61  1  1    4    1   Datsun  1     93\n",
       "6  15.5   8 318.0 150 2.76 3.520 16.87  0  0    3    2    Dodge  1    150\n",
       "7  14.3   8 360.0 245 3.21 3.570 15.84  0  0    3    4   Duster  1    245\n",
       "8  19.7   6 145.0 175 3.62 2.770 15.50  0  1    5    6  Ferrari  1    175\n",
       "9  32.4   4  78.7  66 4.08 2.200 19.47  1  1    4    1     Fiat  1     66\n",
       "10 27.3   4  79.0  66 4.08 1.935 18.90  1  1    4    1     Fiat  2    132\n",
       "11 15.8   8 351.0 264 4.22 3.170 14.50  0  1    5    4     Ford  1    264\n",
       "12 30.4   4  75.7  52 4.93 1.615 18.52  1  1    4    2    Honda  1     52\n",
       "13 21.4   6 258.0 110 3.08 3.215 19.44  1  0    3    1   Hornet  1    110\n",
       "14 18.7   8 360.0 175 3.15 3.440 17.02  0  0    3    2   Hornet  2    285\n",
       "15 10.4   8 460.0 215 3.00 5.424 17.82  0  0    3    4  Lincoln  1    215\n",
       "16 30.4   4  95.1 113 3.77 1.513 16.90  1  1    5    2    Lotus  1    113\n",
       "17 15.0   8 301.0 335 3.54 3.570 14.60  0  1    5    8 Maserati  1    335\n",
       "18 21.0   6 160.0 110 3.90 2.620 16.46  0  1    4    4    Mazda  1    110\n",
       "19 21.0   6 160.0 110 3.90 2.875 17.02  0  1    4    4    Mazda  2    220\n",
       "20 24.4   4 146.7  62 3.69 3.190 20.00  1  0    4    2     Merc  1     62\n",
       "21 22.8   4 140.8  95 3.92 3.150 22.90  1  0    4    2     Merc  2    157\n",
       "22 19.2   6 167.6 123 3.92 3.440 18.30  1  0    4    4     Merc  3    280\n",
       "23 17.8   6 167.6 123 3.92 3.440 18.90  1  0    4    4     Merc  4    403\n",
       "24 16.4   8 275.8 180 3.07 4.070 17.40  0  0    3    3     Merc  5    583\n",
       "25 17.3   8 275.8 180 3.07 3.730 17.60  0  0    3    3     Merc  6    763\n",
       "26 15.2   8 275.8 180 3.07 3.780 18.00  0  0    3    3     Merc  7    943\n",
       "27 19.2   8 400.0 175 3.08 3.845 17.05  0  0    3    2  Pontiac  1    175\n",
       "28 26.0   4 120.3  91 4.43 2.140 16.70  0  1    5    2  Porsche  1     91\n",
       "29 33.9   4  71.1  65 4.22 1.835 19.90  1  1    4    1   Toyota  1     65\n",
       "30 21.5   4 120.1  97 3.70 2.465 20.01  1  0    3    1   Toyota  2    162\n",
       "31 18.1   6 225.0 105 2.76 3.460 20.22  1  0    3    1  Valiant  1    105\n",
       "32 21.4   4 121.0 109 4.11 2.780 18.60  1  1    4    2    Volvo  1    109"
      ]
     },
     "metadata": {},
     "output_type": "display_data"
    }
   ],
   "source": [
    "branded %>%\n",
    "    group_by(brand) %>%\n",
    "    arrange(brand, hp, disp) %>%\n",
    "    mutate(hp.cum   = cumsum(hp))"
   ]
  },
  {
   "cell_type": "code",
   "execution_count": null,
   "metadata": {
    "collapsed": true
   },
   "outputs": [],
   "source": []
  },
  {
   "cell_type": "code",
   "execution_count": null,
   "metadata": {
    "collapsed": true
   },
   "outputs": [],
   "source": []
  }
 ],
 "metadata": {
  "anaconda-cloud": {},
  "kernelspec": {
   "display_name": "R",
   "language": "R",
   "name": "ir"
  },
  "language_info": {
   "codemirror_mode": "r",
   "file_extension": ".r",
   "mimetype": "text/x-r-source",
   "name": "R",
   "pygments_lexer": "r",
   "version": "3.3.1"
  }
 },
 "nbformat": 4,
 "nbformat_minor": 0
}
