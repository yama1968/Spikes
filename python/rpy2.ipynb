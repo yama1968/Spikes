{
 "cells": [
  {
   "cell_type": "code",
   "execution_count": 1,
   "metadata": {
    "collapsed": false
   },
   "outputs": [
    {
     "name": "stdout",
     "output_type": "stream",
     "text": [
      "3.14159265359\n"
     ]
    }
   ],
   "source": [
    "import rpy2.robjects as robjects\n",
    "\n",
    "pi = robjects.r['pi']\n",
    "print (pi[0])"
   ]
  },
  {
   "cell_type": "code",
   "execution_count": 2,
   "metadata": {
    "collapsed": false
   },
   "outputs": [
    {
     "name": "stdout",
     "output_type": "stream",
     "text": [
      "[1] \"Sepal.Length\" \"Sepal.Width\"  \"Petal.Length\" \"Petal.Width\"  \"Species\"     \n",
      "\n"
     ]
    }
   ],
   "source": [
    "iris = robjects.r[\"iris\"]\n",
    "\n",
    "print(iris.colnames)"
   ]
  },
  {
   "cell_type": "code",
   "execution_count": 3,
   "metadata": {
    "collapsed": false
   },
   "outputs": [
    {
     "data": {
      "text/plain": [
       "rpy2.robjects.packages.Package as a <module 'rpart' (built-in)>"
      ]
     },
     "execution_count": 3,
     "metadata": {},
     "output_type": "execute_result"
    }
   ],
   "source": [
    "import rpy2.robjects.packages as rpackages\n",
    "\n",
    "rpackages.importr(\"rpart\")"
   ]
  },
  {
   "cell_type": "code",
   "execution_count": 4,
   "metadata": {
    "collapsed": false
   },
   "outputs": [
    {
     "name": "stdout",
     "output_type": "stream",
     "text": [
      "n= 81 \n",
      "\n",
      "node), split, n, loss, yval, (yprob)\n",
      "      * denotes terminal node\n",
      "\n",
      " 1) root 81 17 absent (0.79012346 0.20987654)  \n",
      "   2) Start>=8.5 62  6 absent (0.90322581 0.09677419)  \n",
      "     4) Start>=14.5 29  0 absent (1.00000000 0.00000000) *\n",
      "     5) Start< 14.5 33  6 absent (0.81818182 0.18181818)  \n",
      "      10) Age< 55 12  0 absent (1.00000000 0.00000000) *\n",
      "      11) Age>=55 21  6 absent (0.71428571 0.28571429)  \n",
      "        22) Age>=111 14  2 absent (0.85714286 0.14285714) *\n",
      "        23) Age< 111 7  3 present (0.42857143 0.57142857) *\n",
      "   3) Start< 8.5 19  8 present (0.42105263 0.57894737) *\n",
      "\n"
     ]
    }
   ],
   "source": [
    "tree = robjects.r('''\n",
    "    fit <- rpart(Kyphosis ~ Age + Number + Start,\n",
    "       method=\"class\", data=kyphosis)\n",
    "    fit\n",
    "''')\n",
    "print(tree)"
   ]
  },
  {
   "cell_type": "code",
   "execution_count": 5,
   "metadata": {
    "collapsed": false
   },
   "outputs": [
    {
     "data": {
      "text/plain": [
       "<ListVector - Python:0x7fd358eb3518 / R:0x2691998>\n",
       "[FloatVector, FloatVector]\n",
       "  x: <class 'rpy2.robjects.vectors.FloatVector'>\n",
       "  <FloatVector - Python:0x7fd3373c8ea8 / R:0x3708c80>\n",
       "[3.437500, 1.875000, 1.000000, ..., 3.000000, 4.000000, 5.000000]\n",
       "  y: <class 'rpy2.robjects.vectors.FloatVector'>\n",
       "  <FloatVector - Python:0x7fd3373e1878 / R:0x37063f8>\n",
       "[1.000000, 0.823529, 0.805882, ..., 0.729412, 0.729412, 0.823529]"
      ]
     },
     "execution_count": 5,
     "metadata": {},
     "output_type": "execute_result"
    }
   ],
   "source": [
    "robjects.r(\"plot(fit)\")"
   ]
  },
  {
   "cell_type": "code",
   "execution_count": 6,
   "metadata": {
    "collapsed": false
   },
   "outputs": [
    {
     "name": "stdout",
     "output_type": "stream",
     "text": [
      "[1] \"Kyphosis\" \"Age\"      \"Number\"   \"Start\"   \n",
      "\n",
      "[[1]]\n",
      " [1] absent  absent  present absent  absent  absent  absent  absent  absent \n",
      "[10] present present absent  absent  absent  absent  absent  absent  absent \n",
      "[19] absent  absent  absent  present present absent  present absent  absent \n",
      "[28] absent  absent  absent  absent  absent  absent  absent  absent  absent \n",
      "[37] absent  present absent  present present absent  absent  absent  absent \n",
      "[46] present absent  absent  present absent  absent  absent  present absent \n",
      "[55] absent  absent  absent  present absent  absent  present present absent \n",
      "[64] absent  absent  absent  absent  absent  absent  absent  absent  absent \n",
      "[73] absent  absent  absent  absent  present absent  absent  present absent \n",
      "Levels: absent present\n",
      "\n",
      "[[2]]\n",
      " [1]  71 158 128   2   1   1  61  37 113  59  82 148  18   1 168   1  78 175  80\n",
      "[20]  27  22 105  96 131  15   9   8 100   4 151  31 125 130 112 140  93   1  52\n",
      "[39]  20  91  73  35 143  61  97 139 136 131 121 177  68   9 139   2 140  72   2\n",
      "[58] 120  51 102 130 114  81 118 118  17 195 159  18  15 158 127  87 206  11 178\n",
      "[77] 157  26 120  42  36\n",
      "\n",
      "[[3]]\n",
      " [1]  3  3  4  5  4  2  2  3  2  6  5  3  5  4  3  3  6  5  5  4  2  6  3  2  7\n",
      "[26]  5  3  3  3  2  3  2  5  3  5  3  3  5  6  5  5  3  9  4  3  3  4  5  3  2\n",
      "[51]  5  2 10  2  4  5  3  5  7  3  4  7  4  3  4  4  2  4  4  5  5  4  4  4  3\n",
      "[76]  4  3  7  2  7  4\n",
      "\n",
      "[[4]]\n",
      " [1]  5 14  5  1 15 16 17 16 16 12 14 16  2 12 18 16 15 13 16  9 16  5 12  3  2\n",
      "[26] 13  6 14 16 16 16 11 13 16 11 16  9  6  9 12  1 13  3  1 16 10 15 13  3 14\n",
      "[51] 10 17  6 17 15 15 13  8  9 13  1  8  1 16 16 10 17 13 11 16 14 12 16 10 15\n",
      "[76] 15 13 13 13  6 13\n",
      "\n",
      "\n"
     ]
    }
   ],
   "source": [
    "kyphosis = robjects.r[\"kyphosis\"]\n",
    "print(kyphosis.names)\n",
    "print(kyphosis[:])"
   ]
  },
  {
   "cell_type": "code",
   "execution_count": null,
   "metadata": {
    "collapsed": true
   },
   "outputs": [],
   "source": []
  }
 ],
 "metadata": {
  "kernelspec": {
   "display_name": "Python 2",
   "language": "python",
   "name": "python2"
  },
  "language_info": {
   "codemirror_mode": {
    "name": "ipython",
    "version": 2
   },
   "file_extension": ".py",
   "mimetype": "text/x-python",
   "name": "python",
   "nbconvert_exporter": "python",
   "pygments_lexer": "ipython2",
   "version": "2.7.11"
  }
 },
 "nbformat": 4,
 "nbformat_minor": 0
}
