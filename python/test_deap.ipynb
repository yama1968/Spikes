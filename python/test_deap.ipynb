{
 "cells": [
  {
   "cell_type": "code",
   "execution_count": 1,
   "metadata": {},
   "outputs": [
    {
     "name": "stderr",
     "output_type": "stream",
     "text": [
      "/home/yannick/bin/anaconda3/envs/py36/lib/python3.6/site-packages/sklearn/cross_validation.py:41: DeprecationWarning: This module was deprecated in version 0.18 in favor of the model_selection module into which all the refactored classes and functions are moved. Also note that the interface of the new CV iterators are different from that of this module. This module will be removed in 0.20.\n",
      "  \"This module will be removed in 0.20.\", DeprecationWarning)\n"
     ]
    },
    {
     "name": "stdout",
     "output_type": "stream",
     "text": [
      "Types [1, 2, 2] and maxint [0, 399, 399] detected\n",
      "--- Evolve in 160000 possible combinations ---\n",
      "gen\tnevals\tavg     \tmin    \tmax     \tstd     \n",
      "0  \t40    \t0.276767\t0.10128\t0.973845\t0.339264\n",
      "1  \t26    \t0.725097\t0.107401\t0.973845\t0.368686\n",
      "2  \t31    \t0.946327\t0.104619\t0.973845\t0.135114\n",
      "3  \t29    \t0.929327\t0.10128 \t0.973845\t0.189974\n",
      "4  \t16    \t0.908125\t0.10128 \t0.973845\t0.224896\n",
      "Best individual is: {'kernel': 'rbf', 'C': 112.88378916846884, 'gamma': 0.00039263134017068394}\n",
      "with fitness: 0.9738452977184195\n"
     ]
    }
   ],
   "source": [
    "import sklearn.datasets\n",
    "import numpy as np\n",
    "import random\n",
    "\n",
    "data = sklearn.datasets.load_digits()\n",
    "X = data[\"data\"]\n",
    "y = data[\"target\"]\n",
    "\n",
    "from sklearn.svm import SVC\n",
    "from sklearn.cross_validation import StratifiedKFold\n",
    "\n",
    "paramgrid = {\"kernel\": [\"rbf\"],\n",
    "             \"C\"     : np.logspace(-9, 9, num=400, base=10),\n",
    "             \"gamma\" : np.logspace(-9, 9, num=400, base=10)}\n",
    "\n",
    "random.seed(1)\n",
    "\n",
    "from evolutionary_search import EvolutionaryAlgorithmSearchCV\n",
    "cv = EvolutionaryAlgorithmSearchCV(estimator=SVC(),\n",
    "                                   params=paramgrid,\n",
    "                                   scoring=\"accuracy\",\n",
    "                                   cv=StratifiedKFold(y, n_folds=5),\n",
    "                                   verbose=1,\n",
    "                                   population_size=40,\n",
    "                                   gene_mutation_prob=0.3,\n",
    "                                   gene_crossover_prob=0.7,\n",
    "                                   tournament_size=6,\n",
    "                                   generations_number=4,\n",
    "                                   n_jobs=4)\n",
    "cv.fit(X, y)"
   ]
  },
  {
   "cell_type": "code",
   "execution_count": 2,
   "metadata": {},
   "outputs": [
    {
     "name": "stdout",
     "output_type": "stream",
     "text": [
      "(1797, 64) (1797,)\n"
     ]
    }
   ],
   "source": [
    "print(X.shape, y.shape)"
   ]
  },
  {
   "cell_type": "code",
   "execution_count": null,
   "metadata": {
    "collapsed": true
   },
   "outputs": [],
   "source": []
  }
 ],
 "metadata": {
  "kernelspec": {
   "display_name": "Python 3",
   "language": "python",
   "name": "python3"
  },
  "language_info": {
   "codemirror_mode": {
    "name": "ipython",
    "version": 3
   },
   "file_extension": ".py",
   "mimetype": "text/x-python",
   "name": "python",
   "nbconvert_exporter": "python",
   "pygments_lexer": "ipython3",
   "version": "3.6.2"
  }
 },
 "nbformat": 4,
 "nbformat_minor": 1
}
