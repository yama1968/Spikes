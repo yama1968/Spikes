{
 "cells": [
  {
   "cell_type": "code",
   "execution_count": 1,
   "metadata": {
    "collapsed": false
   },
   "outputs": [
    {
     "name": "stdout",
     "output_type": "stream",
     "text": [
      "Types [1, 2, 2] and maxint [0, 399, 399] detected\n",
      "--- Evolve in 160000 possible combinations ---\n",
      "Scoring evaluations: 16, Cache hits: 64, Total: 80\n",
      "Scoring evaluations: 32, Cache hits: 128, Total: 160\n",
      "Scoring evaluations: 48, Cache hits: 192, Total: 240\n",
      "Scoring evaluations: 64, Cache hits: 256, Total: 320\n",
      "Scoring evaluations: 80, Cache hits: 320, Total: 400\n",
      "gen\tnevals\tavg     \tmin     \tmax     \n",
      "0  \t80    \t0.234341\t0.101648\t0.978022\n",
      "Scoring evaluations: 95, Cache hits: 385, Total: 480\n",
      "Scoring evaluations: 105, Cache hits: 455, Total: 560\n",
      "Scoring evaluations: 112, Cache hits: 528, Total: 640\n",
      "1  \t49    \t0.702095\t0.101648\t0.983516\n",
      "Scoring evaluations: 118, Cache hits: 602, Total: 720\n",
      "Scoring evaluations: 126, Cache hits: 674, Total: 800\n",
      "Scoring evaluations: 135, Cache hits: 745, Total: 880\n",
      "2  \t49    \t0.8784  \t0.101648\t0.983516\n",
      "Scoring evaluations: 139, Cache hits: 821, Total: 960\n",
      "Scoring evaluations: 145, Cache hits: 895, Total: 1040\n",
      "Scoring evaluations: 157, Cache hits: 963, Total: 1120\n",
      "3  \t48    \t0.934821\t0.101648\t0.983516\n",
      "Scoring evaluations: 161, Cache hits: 1039, Total: 1200\n",
      "Scoring evaluations: 163, Cache hits: 1117, Total: 1280\n",
      "Scoring evaluations: 167, Cache hits: 1193, Total: 1360\n",
      "4  \t46    \t0.93829 \t0.101648\t0.983516\n",
      "Best individual is: {'kernel': 'rbf', 'gamma': 0.0006600075022827088, 'C': 536.19567705688053}\n",
      "with fitness: 0.983516483516\n",
      "Scoring evaluations: 167, Cache hits: 1193, Total: 1360\n"
     ]
    }
   ],
   "source": [
    "import sklearn.datasets\n",
    "import numpy as np\n",
    "import random\n",
    "\n",
    "data = sklearn.datasets.load_digits()\n",
    "X = data[\"data\"]\n",
    "y = data[\"target\"]\n",
    "\n",
    "from sklearn.svm import SVC\n",
    "from sklearn.cross_validation import StratifiedKFold\n",
    "\n",
    "paramgrid = {\"kernel\": [\"rbf\"],\n",
    "             \"C\"     : np.logspace(-9, 9, num=400, base=10),\n",
    "             \"gamma\" : np.logspace(-9, 9, num=400, base=10)}\n",
    "\n",
    "random.seed(1)\n",
    "\n",
    "from evolutionary_search import EvolutionaryAlgorithmSearchCV\n",
    "cv = EvolutionaryAlgorithmSearchCV(estimator=SVC(),\n",
    "                                   params=paramgrid,\n",
    "                                   scoring=\"accuracy\",\n",
    "                                   cv=StratifiedKFold(y, n_folds=5),\n",
    "                                   verbose=1,\n",
    "                                   population_size=80,\n",
    "                                   gene_mutation_prob=0.4,\n",
    "                                   gene_crossover_prob=0.5,\n",
    "                                   tournament_size=8,\n",
    "                                   generations_number=4,\n",
    "                                   n_jobs=1)\n",
    "cv.fit(X, y)"
   ]
  },
  {
   "cell_type": "code",
   "execution_count": 2,
   "metadata": {
    "collapsed": false
   },
   "outputs": [
    {
     "name": "stdout",
     "output_type": "stream",
     "text": [
      "(1797, 64) (1797,)\n"
     ]
    }
   ],
   "source": [
    "print(X.shape, y.shape)"
   ]
  }
 ],
 "metadata": {
  "kernelspec": {
   "display_name": "Python 3",
   "language": "python",
   "name": "python3"
  },
  "language_info": {
   "codemirror_mode": {
    "name": "ipython",
    "version": 3
   },
   "file_extension": ".py",
   "mimetype": "text/x-python",
   "name": "python",
   "nbconvert_exporter": "python",
   "pygments_lexer": "ipython3",
   "version": "3.5.1"
  }
 },
 "nbformat": 4,
 "nbformat_minor": 0
}
