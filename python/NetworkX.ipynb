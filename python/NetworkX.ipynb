{
 "cells": [
  {
   "cell_type": "markdown",
   "metadata": {},
   "source": [
    "# NetworkX"
   ]
  },
  {
   "cell_type": "markdown",
   "metadata": {},
   "source": [
    "> This notebook as been adapted from the [original notebook](https://github.com/jdwittenauer/ipython-notebooks/blob/master/NetworkX.ipynb) to plot with [Bokeh](bokeh.pydata.org) instead of matplotlib.\n",
    "\n",
    "NetworkX is a Python language software package for the creation, manipulation, and study of the structure, dynamics, and function of complex networks.\n",
    "\n",
    "With NetworkX you can load and store networks in standard and nonstandard data formats, generate many types of random and classic networks, analyze network structure, build network models, design new network algorithms, draw networks, and much more.\n",
    "\n",
    "Library documentation: <a>https://networkx.github.io/</a>"
   ]
  },
  {
   "cell_type": "code",
   "execution_count": 1,
   "metadata": {
    "collapsed": false
   },
   "outputs": [],
   "source": [
    "import networkx as nx\n",
    "G = nx.Graph()"
   ]
  },
  {
   "cell_type": "code",
   "execution_count": 2,
   "metadata": {
    "collapsed": false
   },
   "outputs": [],
   "source": [
    "# basic add nodes\n",
    "G.add_node(1)\n",
    "G.add_nodes_from([2, 3])"
   ]
  },
  {
   "cell_type": "code",
   "execution_count": 3,
   "metadata": {
    "collapsed": false
   },
   "outputs": [],
   "source": [
    "# add a group of nodes at once\n",
    "H = nx.path_graph(10)\n",
    "G.add_nodes_from(H)"
   ]
  },
  {
   "cell_type": "code",
   "execution_count": 4,
   "metadata": {
    "collapsed": false
   },
   "outputs": [],
   "source": [
    "# add another graph itself as a node\n",
    "G.add_node(H)"
   ]
  },
  {
   "cell_type": "code",
   "execution_count": 5,
   "metadata": {
    "collapsed": false
   },
   "outputs": [],
   "source": [
    "# add edges using similar methods\n",
    "G.add_edge(1, 2)\n",
    "e = (2, 3)\n",
    "G.add_edge(*e)\n",
    "G.add_edges_from([(1, 2), (1, 3)])\n",
    "G.add_edges_from(H.edges())"
   ]
  },
  {
   "cell_type": "code",
   "execution_count": 6,
   "metadata": {
    "collapsed": false
   },
   "outputs": [],
   "source": [
    "# can also remove or clear\n",
    "G.remove_node(H)\n",
    "G.clear()"
   ]
  },
  {
   "cell_type": "code",
   "execution_count": 7,
   "metadata": {
    "collapsed": false
   },
   "outputs": [],
   "source": [
    "# repeats are ignored\n",
    "G.add_edges_from([(1,2),(1,3)])\n",
    "G.add_node(1)\n",
    "G.add_edge(1,2)\n",
    "G.add_node('spam')       # adds node \"spam\"\n",
    "G.add_nodes_from('spam') # adds 4 nodes: 's', 'p', 'a', 'm'"
   ]
  },
  {
   "cell_type": "code",
   "execution_count": 8,
   "metadata": {
    "collapsed": false
   },
   "outputs": [
    {
     "data": {
      "text/plain": [
       "(8, 2)"
      ]
     },
     "execution_count": 8,
     "metadata": {},
     "output_type": "execute_result"
    }
   ],
   "source": [
    "# get the number of nodes and edges\n",
    "G.number_of_nodes(), G.number_of_edges()"
   ]
  },
  {
   "cell_type": "code",
   "execution_count": 9,
   "metadata": {
    "collapsed": false
   },
   "outputs": [
    {
     "data": {
      "text/plain": [
       "{2: {}, 3: {}}"
      ]
     },
     "execution_count": 9,
     "metadata": {},
     "output_type": "execute_result"
    }
   ],
   "source": [
    "# access graph edges\n",
    "G[1]"
   ]
  },
  {
   "cell_type": "code",
   "execution_count": 10,
   "metadata": {
    "collapsed": false
   },
   "outputs": [
    {
     "data": {
      "text/plain": [
       "{}"
      ]
     },
     "execution_count": 10,
     "metadata": {},
     "output_type": "execute_result"
    }
   ],
   "source": [
    "G[1][2]"
   ]
  },
  {
   "cell_type": "code",
   "execution_count": 11,
   "metadata": {
    "collapsed": false
   },
   "outputs": [],
   "source": [
    "# set an attribute of an edge\n",
    "G.add_edge(1,3)\n",
    "G[1][3]['color'] = 'blue'"
   ]
  },
  {
   "cell_type": "code",
   "execution_count": 12,
   "metadata": {
    "collapsed": false
   },
   "outputs": [
    {
     "name": "stdout",
     "output_type": "stream",
     "text": [
      "(1, 2, 0.125)\n",
      "(2, 1, 0.125)\n",
      "(3, 4, 0.375)\n",
      "(4, 3, 0.375)\n"
     ]
    }
   ],
   "source": [
    "FG = nx.Graph()\n",
    "FG.add_weighted_edges_from([(1, 2, 0.125), (1, 3, 0.75), (2, 4, 1.2), (3, 4, 0.375)])\n",
    "for n, nbrs in FG.adjacency_iter():\n",
    "    for nbr, eattr in nbrs.items():\n",
    "        data = eattr['weight']\n",
    "        if data < 0.5: print('(%d, %d, %.3f)' % (n, nbr, data))"
   ]
  },
  {
   "cell_type": "code",
   "execution_count": 13,
   "metadata": {
    "collapsed": false
   },
   "outputs": [
    {
     "data": {
      "text/plain": [
       "{'day': 'Friday'}"
      ]
     },
     "execution_count": 13,
     "metadata": {},
     "output_type": "execute_result"
    }
   ],
   "source": [
    "# graph attribte\n",
    "G = nx.Graph(day='Friday')\n",
    "G.graph"
   ]
  },
  {
   "cell_type": "code",
   "execution_count": 14,
   "metadata": {
    "collapsed": false
   },
   "outputs": [
    {
     "data": {
      "text/plain": [
       "{'day': 'Monday'}"
      ]
     },
     "execution_count": 14,
     "metadata": {},
     "output_type": "execute_result"
    }
   ],
   "source": [
    "# modifying an attribute\n",
    "G.graph['day'] = 'Monday'\n",
    "G.graph"
   ]
  },
  {
   "cell_type": "code",
   "execution_count": 15,
   "metadata": {
    "collapsed": false
   },
   "outputs": [
    {
     "data": {
      "text/plain": [
       "[(1, {'room': 714, 'time': '5pm'}), (3, {'time': '2pm'})]"
      ]
     },
     "execution_count": 15,
     "metadata": {},
     "output_type": "execute_result"
    }
   ],
   "source": [
    "# node attributes\n",
    "G.add_node(1, time='5pm')\n",
    "G.add_nodes_from([3], time='2pm')\n",
    "G.node[1]['room'] = 714\n",
    "G.nodes(data=True)"
   ]
  },
  {
   "cell_type": "code",
   "execution_count": 16,
   "metadata": {
    "collapsed": false
   },
   "outputs": [],
   "source": [
    "# edge attributes (weight is a special numeric attribute)\n",
    "G.add_edge(1, 2, weight=4.7)\n",
    "G.add_edges_from([(3, 4), (4, 5)], color='red')\n",
    "G.add_edges_from([(1, 2 ,{'color': 'blue'}), (2, 3, {'weight' :8})])\n",
    "G[1][2]['weight'] = 4.7\n",
    "G.edge[1][2]['weight'] = 4"
   ]
  },
  {
   "cell_type": "code",
   "execution_count": 17,
   "metadata": {
    "collapsed": false
   },
   "outputs": [
    {
     "data": {
      "text/plain": [
       "0.5"
      ]
     },
     "execution_count": 17,
     "metadata": {},
     "output_type": "execute_result"
    }
   ],
   "source": [
    "# directed graph\n",
    "DG = nx.DiGraph()\n",
    "DG.add_weighted_edges_from([(1, 2 ,0.5), (3, 1, 0.75)])\n",
    "DG.out_degree(1, weight='weight')"
   ]
  },
  {
   "cell_type": "code",
   "execution_count": 18,
   "metadata": {
    "collapsed": false
   },
   "outputs": [
    {
     "data": {
      "text/plain": [
       "1.25"
      ]
     },
     "execution_count": 18,
     "metadata": {},
     "output_type": "execute_result"
    }
   ],
   "source": [
    "DG.degree(1, weight='weight')"
   ]
  },
  {
   "cell_type": "code",
   "execution_count": 19,
   "metadata": {
    "collapsed": false
   },
   "outputs": [
    {
     "data": {
      "text/plain": [
       "[2]"
      ]
     },
     "execution_count": 19,
     "metadata": {},
     "output_type": "execute_result"
    }
   ],
   "source": [
    "DG.successors(1)"
   ]
  },
  {
   "cell_type": "code",
   "execution_count": 20,
   "metadata": {
    "collapsed": false
   },
   "outputs": [
    {
     "data": {
      "text/plain": [
       "[3]"
      ]
     },
     "execution_count": 20,
     "metadata": {},
     "output_type": "execute_result"
    }
   ],
   "source": [
    "DG.predecessors(1)"
   ]
  },
  {
   "cell_type": "code",
   "execution_count": 21,
   "metadata": {
    "collapsed": false
   },
   "outputs": [],
   "source": [
    "# convert to undirected graph\n",
    "H = nx.Graph(G)"
   ]
  },
  {
   "cell_type": "code",
   "execution_count": 22,
   "metadata": {
    "collapsed": false
   },
   "outputs": [
    {
     "data": {
      "text/html": [
       "\n",
       "    <div class=\"bk-root\">\n",
       "        <a href=\"http://bokeh.pydata.org\" target=\"_blank\" class=\"bk-logo bk-logo-small bk-logo-notebook\"></a>\n",
       "        <span id=\"621a61f7-61f3-42f5-a562-ef037b3e0475\">Loading BokehJS ...</span>\n",
       "    </div>"
      ]
     },
     "metadata": {},
     "output_type": "display_data"
    },
    {
     "data": {
      "application/javascript": [
       "\n",
       "(function(global) {\n",
       "  function now() {\n",
       "    return new Date();\n",
       "  }\n",
       "\n",
       "  var force = \"1\";\n",
       "\n",
       "  if (typeof (window._bokeh_onload_callbacks) === \"undefined\" || force !== \"\") {\n",
       "    window._bokeh_onload_callbacks = [];\n",
       "    window._bokeh_is_loading = undefined;\n",
       "  }\n",
       "\n",
       "\n",
       "  \n",
       "  if (typeof (window._bokeh_timeout) === \"undefined\" || force !== \"\") {\n",
       "    window._bokeh_timeout = Date.now() + 5000;\n",
       "    window._bokeh_failed_load = false;\n",
       "  }\n",
       "\n",
       "  var NB_LOAD_WARNING = {'data': {'text/html':\n",
       "     \"<div style='background-color: #fdd'>\\n\"+\n",
       "     \"<p>\\n\"+\n",
       "     \"BokehJS does not appear to have successfully loaded. If loading BokehJS from CDN, this \\n\"+\n",
       "     \"may be due to a slow or bad network connection. Possible fixes:\\n\"+\n",
       "     \"</p>\\n\"+\n",
       "     \"<ul>\\n\"+\n",
       "     \"<li>re-rerun `output_notebook()` to attempt to load from CDN again, or</li>\\n\"+\n",
       "     \"<li>use INLINE resources instead, as so:</li>\\n\"+\n",
       "     \"</ul>\\n\"+\n",
       "     \"<code>\\n\"+\n",
       "     \"from bokeh.resources import INLINE\\n\"+\n",
       "     \"output_notebook(resources=INLINE)\\n\"+\n",
       "     \"</code>\\n\"+\n",
       "     \"</div>\"}};\n",
       "\n",
       "  function display_loaded() {\n",
       "    if (window.Bokeh !== undefined) {\n",
       "      Bokeh.$(\"#621a61f7-61f3-42f5-a562-ef037b3e0475\").text(\"BokehJS successfully loaded.\");\n",
       "    } else if (Date.now() < window._bokeh_timeout) {\n",
       "      setTimeout(display_loaded, 100)\n",
       "    }\n",
       "  }\n",
       "\n",
       "  function run_callbacks() {\n",
       "    window._bokeh_onload_callbacks.forEach(function(callback) { callback() });\n",
       "    delete window._bokeh_onload_callbacks\n",
       "    console.info(\"Bokeh: all callbacks have finished\");\n",
       "  }\n",
       "\n",
       "  function load_libs(js_urls, callback) {\n",
       "    window._bokeh_onload_callbacks.push(callback);\n",
       "    if (window._bokeh_is_loading > 0) {\n",
       "      console.log(\"Bokeh: BokehJS is being loaded, scheduling callback at\", now());\n",
       "      return null;\n",
       "    }\n",
       "    if (js_urls == null || js_urls.length === 0) {\n",
       "      run_callbacks();\n",
       "      return null;\n",
       "    }\n",
       "    console.log(\"Bokeh: BokehJS not loaded, scheduling load and callback at\", now());\n",
       "    window._bokeh_is_loading = js_urls.length;\n",
       "    for (var i = 0; i < js_urls.length; i++) {\n",
       "      var url = js_urls[i];\n",
       "      var s = document.createElement('script');\n",
       "      s.src = url;\n",
       "      s.async = false;\n",
       "      s.onreadystatechange = s.onload = function() {\n",
       "        window._bokeh_is_loading--;\n",
       "        if (window._bokeh_is_loading === 0) {\n",
       "          console.log(\"Bokeh: all BokehJS libraries loaded\");\n",
       "          run_callbacks()\n",
       "        }\n",
       "      };\n",
       "      s.onerror = function() {\n",
       "        console.warn(\"failed to load library \" + url);\n",
       "      };\n",
       "      console.log(\"Bokeh: injecting script tag for BokehJS library: \", url);\n",
       "      document.getElementsByTagName(\"head\")[0].appendChild(s);\n",
       "    }\n",
       "  };var element = document.getElementById(\"621a61f7-61f3-42f5-a562-ef037b3e0475\");\n",
       "  if (element == null) {\n",
       "    console.log(\"Bokeh: ERROR: autoload.js configured with elementid '621a61f7-61f3-42f5-a562-ef037b3e0475' but no matching script tag was found. \")\n",
       "    return false;\n",
       "  }\n",
       "\n",
       "  var js_urls = ['https://cdn.pydata.org/bokeh/release/bokeh-0.12.3.min.js', 'https://cdn.pydata.org/bokeh/release/bokeh-widgets-0.12.3.min.js'];\n",
       "\n",
       "  var inline_js = [\n",
       "    function(Bokeh) {\n",
       "      Bokeh.set_log_level(\"info\");\n",
       "    },\n",
       "    \n",
       "    function(Bokeh) {\n",
       "      \n",
       "      Bokeh.$(\"#621a61f7-61f3-42f5-a562-ef037b3e0475\").text(\"BokehJS is loading...\");\n",
       "    },\n",
       "    function(Bokeh) {\n",
       "      console.log(\"Bokeh: injecting CSS: https://cdn.pydata.org/bokeh/release/bokeh-0.12.3.min.css\");\n",
       "      Bokeh.embed.inject_css(\"https://cdn.pydata.org/bokeh/release/bokeh-0.12.3.min.css\");\n",
       "      console.log(\"Bokeh: injecting CSS: https://cdn.pydata.org/bokeh/release/bokeh-widgets-0.12.3.min.css\");\n",
       "      Bokeh.embed.inject_css(\"https://cdn.pydata.org/bokeh/release/bokeh-widgets-0.12.3.min.css\");\n",
       "    }\n",
       "  ];\n",
       "\n",
       "  function run_inline_js() {\n",
       "    \n",
       "    if ((window.Bokeh !== undefined) || (force === \"1\")) {\n",
       "      for (var i = 0; i < inline_js.length; i++) {\n",
       "        inline_js[i](window.Bokeh);\n",
       "      }if (force === \"1\") {\n",
       "        display_loaded();\n",
       "      }} else if (Date.now() < window._bokeh_timeout) {\n",
       "      setTimeout(run_inline_js, 100);\n",
       "    } else if (!window._bokeh_failed_load) {\n",
       "      console.log(\"Bokeh: BokehJS failed to load within specified timeout.\");\n",
       "      window._bokeh_failed_load = true;\n",
       "    } else if (!force) {\n",
       "      var cell = $(\"#621a61f7-61f3-42f5-a562-ef037b3e0475\").parents('.cell').data().cell;\n",
       "      cell.output_area.append_execute_result(NB_LOAD_WARNING)\n",
       "    }\n",
       "\n",
       "  }\n",
       "\n",
       "  if (window._bokeh_is_loading === 0) {\n",
       "    console.log(\"Bokeh: BokehJS loaded, going straight to plotting\");\n",
       "    run_inline_js();\n",
       "  } else {\n",
       "    load_libs(js_urls, function() {\n",
       "      console.log(\"Bokeh: BokehJS plotting callback run at\", now());\n",
       "      run_inline_js();\n",
       "    });\n",
       "  }\n",
       "}(this));"
      ]
     },
     "metadata": {},
     "output_type": "display_data"
    }
   ],
   "source": [
    "from bokeh.plotting import figure, show\n",
    "from bokeh.resources import CDN\n",
    "from bokeh.io import output_notebook\n",
    "output_notebook( resources=CDN )"
   ]
  },
  {
   "cell_type": "markdown",
   "metadata": {},
   "source": [
    "# Explore NetworkX Graph Layouts\n",
    "\n",
    "There are a few [layouts available in NetworkX graphs.](https://networkx.github.io/documentation/latest/reference/generated/networkx.drawing.layout.circular_layout.html)"
   ]
  },
  {
   "cell_type": "markdown",
   "metadata": {},
   "source": [
    "## Circular Layout"
   ]
  },
  {
   "cell_type": "code",
   "execution_count": 23,
   "metadata": {
    "collapsed": false
   },
   "outputs": [
    {
     "data": {
      "text/html": [
       "\n",
       "\n",
       "    <div class=\"bk-root\">\n",
       "        <div class=\"plotdiv\" id=\"10abfc7b-dad8-44de-9d9a-fc8d8e4cda45\"></div>\n",
       "    </div>\n",
       "<script type=\"text/javascript\">\n",
       "  \n",
       "  (function(global) {\n",
       "    function now() {\n",
       "      return new Date();\n",
       "    }\n",
       "  \n",
       "    var force = \"\";\n",
       "  \n",
       "    if (typeof (window._bokeh_onload_callbacks) === \"undefined\" || force !== \"\") {\n",
       "      window._bokeh_onload_callbacks = [];\n",
       "      window._bokeh_is_loading = undefined;\n",
       "    }\n",
       "  \n",
       "  \n",
       "    \n",
       "    if (typeof (window._bokeh_timeout) === \"undefined\" || force !== \"\") {\n",
       "      window._bokeh_timeout = Date.now() + 0;\n",
       "      window._bokeh_failed_load = false;\n",
       "    }\n",
       "  \n",
       "    var NB_LOAD_WARNING = {'data': {'text/html':\n",
       "       \"<div style='background-color: #fdd'>\\n\"+\n",
       "       \"<p>\\n\"+\n",
       "       \"BokehJS does not appear to have successfully loaded. If loading BokehJS from CDN, this \\n\"+\n",
       "       \"may be due to a slow or bad network connection. Possible fixes:\\n\"+\n",
       "       \"</p>\\n\"+\n",
       "       \"<ul>\\n\"+\n",
       "       \"<li>re-rerun `output_notebook()` to attempt to load from CDN again, or</li>\\n\"+\n",
       "       \"<li>use INLINE resources instead, as so:</li>\\n\"+\n",
       "       \"</ul>\\n\"+\n",
       "       \"<code>\\n\"+\n",
       "       \"from bokeh.resources import INLINE\\n\"+\n",
       "       \"output_notebook(resources=INLINE)\\n\"+\n",
       "       \"</code>\\n\"+\n",
       "       \"</div>\"}};\n",
       "  \n",
       "    function display_loaded() {\n",
       "      if (window.Bokeh !== undefined) {\n",
       "        Bokeh.$(\"#10abfc7b-dad8-44de-9d9a-fc8d8e4cda45\").text(\"BokehJS successfully loaded.\");\n",
       "      } else if (Date.now() < window._bokeh_timeout) {\n",
       "        setTimeout(display_loaded, 100)\n",
       "      }\n",
       "    }\n",
       "  \n",
       "    function run_callbacks() {\n",
       "      window._bokeh_onload_callbacks.forEach(function(callback) { callback() });\n",
       "      delete window._bokeh_onload_callbacks\n",
       "      console.info(\"Bokeh: all callbacks have finished\");\n",
       "    }\n",
       "  \n",
       "    function load_libs(js_urls, callback) {\n",
       "      window._bokeh_onload_callbacks.push(callback);\n",
       "      if (window._bokeh_is_loading > 0) {\n",
       "        console.log(\"Bokeh: BokehJS is being loaded, scheduling callback at\", now());\n",
       "        return null;\n",
       "      }\n",
       "      if (js_urls == null || js_urls.length === 0) {\n",
       "        run_callbacks();\n",
       "        return null;\n",
       "      }\n",
       "      console.log(\"Bokeh: BokehJS not loaded, scheduling load and callback at\", now());\n",
       "      window._bokeh_is_loading = js_urls.length;\n",
       "      for (var i = 0; i < js_urls.length; i++) {\n",
       "        var url = js_urls[i];\n",
       "        var s = document.createElement('script');\n",
       "        s.src = url;\n",
       "        s.async = false;\n",
       "        s.onreadystatechange = s.onload = function() {\n",
       "          window._bokeh_is_loading--;\n",
       "          if (window._bokeh_is_loading === 0) {\n",
       "            console.log(\"Bokeh: all BokehJS libraries loaded\");\n",
       "            run_callbacks()\n",
       "          }\n",
       "        };\n",
       "        s.onerror = function() {\n",
       "          console.warn(\"failed to load library \" + url);\n",
       "        };\n",
       "        console.log(\"Bokeh: injecting script tag for BokehJS library: \", url);\n",
       "        document.getElementsByTagName(\"head\")[0].appendChild(s);\n",
       "      }\n",
       "    };var element = document.getElementById(\"10abfc7b-dad8-44de-9d9a-fc8d8e4cda45\");\n",
       "    if (element == null) {\n",
       "      console.log(\"Bokeh: ERROR: autoload.js configured with elementid '10abfc7b-dad8-44de-9d9a-fc8d8e4cda45' but no matching script tag was found. \")\n",
       "      return false;\n",
       "    }\n",
       "  \n",
       "    var js_urls = [];\n",
       "  \n",
       "    var inline_js = [\n",
       "      function(Bokeh) {\n",
       "        Bokeh.$(function() {\n",
       "            var docs_json = {\"c2024e4d-dea2-4402-abb2-b48944c531cd\":{\"roots\":{\"references\":[{\"attributes\":{\"line_color\":{\"value\":\"#1f77b4\"},\"x\":{\"field\":\"x\"},\"y\":{\"field\":\"y\"}},\"id\":\"74144b3c-6f0e-4526-92c6-ed041e05fb42\",\"type\":\"Line\"},{\"attributes\":{\"plot\":null,\"text\":null},\"id\":\"7930ab7a-61b4-429a-a1d4-3a01079f47ac\",\"type\":\"Title\"},{\"attributes\":{\"fill_alpha\":{\"value\":0.1},\"fill_color\":{\"value\":\"#1f77b4\"},\"line_alpha\":{\"value\":0.1},\"line_color\":{\"value\":\"#1f77b4\"},\"radius\":{\"units\":\"data\",\"value\":0.05},\"x\":{\"field\":\"x\"},\"y\":{\"field\":\"y\"}},\"id\":\"71812e9f-3900-46d8-8ddb-29207d1d1727\",\"type\":\"Circle\"},{\"attributes\":{\"callback\":null,\"column_names\":[\"y\",\"x\"],\"data\":{\"x\":[-0.8090169943749476],\"y\":[-0.587785252292473]}},\"id\":\"795eb898-10e7-47d1-bd24-dbf3d015cc7b\",\"type\":\"ColumnDataSource\"},{\"attributes\":{\"fill_alpha\":{\"value\":0.1},\"fill_color\":{\"value\":\"#1f77b4\"},\"line_alpha\":{\"value\":0.1},\"line_color\":{\"value\":\"#1f77b4\"},\"radius\":{\"units\":\"data\",\"value\":0.05},\"x\":{\"field\":\"x\"},\"y\":{\"field\":\"y\"}},\"id\":\"c34497cd-8884-4c30-af02-654b446bb9e5\",\"type\":\"Circle\"},{\"attributes\":{\"data_source\":{\"id\":\"c40d4dce-12f4-4869-bb48-997b02efa6e9\",\"type\":\"ColumnDataSource\"},\"glyph\":{\"id\":\"09aff4bf-08b4-4bb6-99e2-3ef729f15dfd\",\"type\":\"Circle\"},\"hover_glyph\":null,\"nonselection_glyph\":{\"id\":\"71812e9f-3900-46d8-8ddb-29207d1d1727\",\"type\":\"Circle\"},\"selection_glyph\":null},\"id\":\"530f5e5c-b980-4827-abd7-a0fafff6af98\",\"type\":\"GlyphRenderer\"},{\"attributes\":{\"data_source\":{\"id\":\"795eb898-10e7-47d1-bd24-dbf3d015cc7b\",\"type\":\"ColumnDataSource\"},\"glyph\":{\"id\":\"039c91d3-dc40-4243-be5d-6a39e76f8447\",\"type\":\"Circle\"},\"hover_glyph\":null,\"nonselection_glyph\":{\"id\":\"1cb54605-d6f0-4155-b160-0d047076de7e\",\"type\":\"Circle\"},\"selection_glyph\":null},\"id\":\"7aabb29c-39e9-4f77-a87a-a63bf3c465d0\",\"type\":\"GlyphRenderer\"},{\"attributes\":{\"plot\":{\"id\":\"07bb990b-175c-43ac-b3b0-49a854602917\",\"subtype\":\"Figure\",\"type\":\"Plot\"}},\"id\":\"2fcff018-f8fe-43c3-90bd-fb3245465d5f\",\"type\":\"HelpTool\"},{\"attributes\":{\"callback\":null,\"end\":1.1,\"start\":-0.1},\"id\":\"e47cfcfc-a6ff-45c5-a396-92c71fdccb49\",\"type\":\"Range1d\"},{\"attributes\":{\"plot\":{\"id\":\"07bb990b-175c-43ac-b3b0-49a854602917\",\"subtype\":\"Figure\",\"type\":\"Plot\"},\"ticker\":{\"id\":\"68041ad9-6088-4dab-84d5-8dc83a7c3411\",\"type\":\"BasicTicker\"}},\"id\":\"fdb89857-60f3-49a3-bd6f-ada8b6d5eec2\",\"type\":\"Grid\"},{\"attributes\":{},\"id\":\"473cfe5c-19f2-44c9-88fe-21de04fe2542\",\"type\":\"ToolEvents\"},{\"attributes\":{\"data_source\":{\"id\":\"c82bc68b-70eb-423b-aa32-df51b9eee1b3\",\"type\":\"ColumnDataSource\"},\"glyph\":{\"id\":\"9a49c955-13ce-4d95-b065-63f3c7ea3dcf\",\"type\":\"Line\"},\"hover_glyph\":null,\"nonselection_glyph\":{\"id\":\"3cace444-6429-41f5-b634-bd31405ea775\",\"type\":\"Line\"},\"selection_glyph\":null},\"id\":\"9173f957-bce8-4ee8-9c20-25ca30d023ca\",\"type\":\"GlyphRenderer\"},{\"attributes\":{\"dimension\":1,\"plot\":{\"id\":\"07bb990b-175c-43ac-b3b0-49a854602917\",\"subtype\":\"Figure\",\"type\":\"Plot\"},\"ticker\":{\"id\":\"6e1be5a6-1c3b-45cd-b010-f024cf63a491\",\"type\":\"BasicTicker\"}},\"id\":\"acc2c0be-b493-4b2e-9a02-0c2b980cda88\",\"type\":\"Grid\"},{\"attributes\":{},\"id\":\"c5ab9cc1-e3de-4a62-b4a4-5517b7c48e5f\",\"type\":\"BasicTickFormatter\"},{\"attributes\":{\"fill_alpha\":{\"value\":0.1},\"fill_color\":{\"value\":\"#1f77b4\"},\"line_alpha\":{\"value\":0.1},\"line_color\":{\"value\":\"#1f77b4\"},\"radius\":{\"units\":\"data\",\"value\":0.05},\"x\":{\"field\":\"x\"},\"y\":{\"field\":\"y\"}},\"id\":\"d503bb05-c14c-41b3-9599-7d564ed391b0\",\"type\":\"Circle\"},{\"attributes\":{\"fill_color\":{\"value\":\"#1f77b4\"},\"line_color\":{\"value\":\"#1f77b4\"},\"radius\":{\"units\":\"data\",\"value\":0.05},\"x\":{\"field\":\"x\"},\"y\":{\"field\":\"y\"}},\"id\":\"9308c954-2825-4f81-9a54-48b4ce275636\",\"type\":\"Circle\"},{\"attributes\":{\"callback\":null,\"column_names\":[\"y\",\"x\"],\"data\":{\"x\":[0.30901699437494723],\"y\":[-0.9510565162951536]}},\"id\":\"a5405e5a-4a1c-435d-87c2-be1d16c6cdce\",\"type\":\"ColumnDataSource\"},{\"attributes\":{\"callback\":null,\"end\":1.1,\"start\":-0.1},\"id\":\"eee88a52-e7bb-4271-aa06-2ddc41bc4e2f\",\"type\":\"Range1d\"},{\"attributes\":{\"line_color\":{\"value\":\"#1f77b4\"},\"x\":{\"field\":\"x\"},\"y\":{\"field\":\"y\"}},\"id\":\"1a3f0059-6a03-476f-ae5a-116336150628\",\"type\":\"Line\"},{\"attributes\":{\"line_alpha\":{\"value\":0.1},\"line_color\":{\"value\":\"#1f77b4\"},\"x\":{\"field\":\"x\"},\"y\":{\"field\":\"y\"}},\"id\":\"70706416-1306-446b-9d64-c6e2def6908a\",\"type\":\"Line\"},{\"attributes\":{\"callback\":null,\"column_names\":[\"y\",\"x\"],\"data\":{\"x\":[0.30901699437494745,-0.8090169943749473],\"y\":[0.9510565162951535,0.5877852522924732]}},\"id\":\"f726385f-61bd-479f-8d4e-c3938ad092fa\",\"type\":\"ColumnDataSource\"},{\"attributes\":{\"plot\":{\"id\":\"07bb990b-175c-43ac-b3b0-49a854602917\",\"subtype\":\"Figure\",\"type\":\"Plot\"}},\"id\":\"6309b9c3-59b4-4439-8f10-6c82938aa525\",\"type\":\"SaveTool\"},{\"attributes\":{\"callback\":null,\"column_names\":[\"y\",\"x\"],\"data\":{\"x\":[-0.8090169943749473,-0.8090169943749476],\"y\":[0.5877852522924732,-0.587785252292473]}},\"id\":\"b73d8c0d-5f13-4b3e-9815-3a8e8094bd9a\",\"type\":\"ColumnDataSource\"},{\"attributes\":{\"plot\":{\"id\":\"07bb990b-175c-43ac-b3b0-49a854602917\",\"subtype\":\"Figure\",\"type\":\"Plot\"}},\"id\":\"4277ee02-b8ef-4fb1-8952-0e350540e773\",\"type\":\"PanTool\"},{\"attributes\":{\"fill_alpha\":{\"value\":0.1},\"fill_color\":{\"value\":\"#1f77b4\"},\"line_alpha\":{\"value\":0.1},\"line_color\":{\"value\":\"#1f77b4\"},\"radius\":{\"units\":\"data\",\"value\":0.05},\"x\":{\"field\":\"x\"},\"y\":{\"field\":\"y\"}},\"id\":\"1cb54605-d6f0-4155-b160-0d047076de7e\",\"type\":\"Circle\"},{\"attributes\":{\"line_color\":{\"value\":\"#1f77b4\"},\"x\":{\"field\":\"x\"},\"y\":{\"field\":\"y\"}},\"id\":\"ecb16fd1-b4a3-4712-b171-83b35b879843\",\"type\":\"Line\"},{\"attributes\":{\"data_source\":{\"id\":\"25efe99a-dd8a-4478-980b-d0cf8c1060f4\",\"type\":\"ColumnDataSource\"},\"glyph\":{\"id\":\"f813864f-c072-4378-88d9-fbc75a4278f1\",\"type\":\"Circle\"},\"hover_glyph\":null,\"nonselection_glyph\":{\"id\":\"c34497cd-8884-4c30-af02-654b446bb9e5\",\"type\":\"Circle\"},\"selection_glyph\":null},\"id\":\"43843944-4d42-400b-9823-ca6af0bb7ac7\",\"type\":\"GlyphRenderer\"},{\"attributes\":{\"data_source\":{\"id\":\"e7f1882c-ce78-4b8f-82bb-c49eb33cbba5\",\"type\":\"ColumnDataSource\"},\"glyph\":{\"id\":\"9eb18e12-b2d4-412d-9ab0-4c1d13c183a7\",\"type\":\"Circle\"},\"hover_glyph\":null,\"nonselection_glyph\":{\"id\":\"d503bb05-c14c-41b3-9599-7d564ed391b0\",\"type\":\"Circle\"},\"selection_glyph\":null},\"id\":\"fc21e87d-c601-498c-a3a6-e96be373f491\",\"type\":\"GlyphRenderer\"},{\"attributes\":{\"line_alpha\":{\"value\":0.1},\"line_color\":{\"value\":\"#1f77b4\"},\"x\":{\"field\":\"x\"},\"y\":{\"field\":\"y\"}},\"id\":\"3cace444-6429-41f5-b634-bd31405ea775\",\"type\":\"Line\"},{\"attributes\":{\"formatter\":{\"id\":\"c5ab9cc1-e3de-4a62-b4a4-5517b7c48e5f\",\"type\":\"BasicTickFormatter\"},\"plot\":{\"id\":\"07bb990b-175c-43ac-b3b0-49a854602917\",\"subtype\":\"Figure\",\"type\":\"Plot\"},\"ticker\":{\"id\":\"6e1be5a6-1c3b-45cd-b010-f024cf63a491\",\"type\":\"BasicTicker\"}},\"id\":\"673a2178-459d-4bc0-a566-ce774fdf47b9\",\"type\":\"LinearAxis\"},{\"attributes\":{\"data_source\":{\"id\":\"f726385f-61bd-479f-8d4e-c3938ad092fa\",\"type\":\"ColumnDataSource\"},\"glyph\":{\"id\":\"ecb16fd1-b4a3-4712-b171-83b35b879843\",\"type\":\"Line\"},\"hover_glyph\":null,\"nonselection_glyph\":{\"id\":\"70706416-1306-446b-9d64-c6e2def6908a\",\"type\":\"Line\"},\"selection_glyph\":null},\"id\":\"b8c91e48-7c6d-4d29-ad2f-71e679e7db8d\",\"type\":\"GlyphRenderer\"},{\"attributes\":{\"plot\":{\"id\":\"07bb990b-175c-43ac-b3b0-49a854602917\",\"subtype\":\"Figure\",\"type\":\"Plot\"}},\"id\":\"5131bc50-f9e2-4223-a9df-4786f27aeca6\",\"type\":\"ResetTool\"},{\"attributes\":{\"line_alpha\":{\"value\":0.1},\"line_color\":{\"value\":\"#1f77b4\"},\"x\":{\"field\":\"x\"},\"y\":{\"field\":\"y\"}},\"id\":\"659137c9-8724-4b9b-90ca-896425758cad\",\"type\":\"Line\"},{\"attributes\":{},\"id\":\"ddff9d06-271d-4bf8-a056-5ec0f251328b\",\"type\":\"BasicTickFormatter\"},{\"attributes\":{\"fill_color\":{\"value\":\"#1f77b4\"},\"line_color\":{\"value\":\"#1f77b4\"},\"radius\":{\"units\":\"data\",\"value\":0.05},\"x\":{\"field\":\"x\"},\"y\":{\"field\":\"y\"}},\"id\":\"9eb18e12-b2d4-412d-9ab0-4c1d13c183a7\",\"type\":\"Circle\"},{\"attributes\":{\"callback\":null,\"column_names\":[\"y\",\"x\"],\"data\":{\"x\":[1.0],\"y\":[0.0]}},\"id\":\"25efe99a-dd8a-4478-980b-d0cf8c1060f4\",\"type\":\"ColumnDataSource\"},{\"attributes\":{\"callback\":null,\"column_names\":[\"y\",\"x\"],\"data\":{\"x\":[-0.8090169943749473],\"y\":[0.5877852522924732]}},\"id\":\"e7f1882c-ce78-4b8f-82bb-c49eb33cbba5\",\"type\":\"ColumnDataSource\"},{\"attributes\":{\"bottom_units\":\"screen\",\"fill_alpha\":{\"value\":0.5},\"fill_color\":{\"value\":\"lightgrey\"},\"left_units\":\"screen\",\"level\":\"overlay\",\"line_alpha\":{\"value\":1.0},\"line_color\":{\"value\":\"black\"},\"line_dash\":[4,4],\"line_width\":{\"value\":2},\"plot\":null,\"render_mode\":\"css\",\"right_units\":\"screen\",\"top_units\":\"screen\"},\"id\":\"6d04b875-5065-4f50-86c8-06f06754bffc\",\"type\":\"BoxAnnotation\"},{\"attributes\":{},\"id\":\"68041ad9-6088-4dab-84d5-8dc83a7c3411\",\"type\":\"BasicTicker\"},{\"attributes\":{\"plot\":{\"id\":\"07bb990b-175c-43ac-b3b0-49a854602917\",\"subtype\":\"Figure\",\"type\":\"Plot\"}},\"id\":\"5783dbf4-0b59-424e-ac00-9bf00a6593d5\",\"type\":\"WheelZoomTool\"},{\"attributes\":{},\"id\":\"6e1be5a6-1c3b-45cd-b010-f024cf63a491\",\"type\":\"BasicTicker\"},{\"attributes\":{\"fill_color\":{\"value\":\"#1f77b4\"},\"line_color\":{\"value\":\"#1f77b4\"},\"radius\":{\"units\":\"data\",\"value\":0.05},\"x\":{\"field\":\"x\"},\"y\":{\"field\":\"y\"}},\"id\":\"039c91d3-dc40-4243-be5d-6a39e76f8447\",\"type\":\"Circle\"},{\"attributes\":{\"overlay\":{\"id\":\"6d04b875-5065-4f50-86c8-06f06754bffc\",\"type\":\"BoxAnnotation\"},\"plot\":{\"id\":\"07bb990b-175c-43ac-b3b0-49a854602917\",\"subtype\":\"Figure\",\"type\":\"Plot\"}},\"id\":\"d44ed7d0-c3ec-4262-8426-76a27e504f66\",\"type\":\"BoxZoomTool\"},{\"attributes\":{\"callback\":null,\"column_names\":[\"y\",\"x\"],\"data\":{\"x\":[1.0,0.30901699437494745],\"y\":[0.0,0.9510565162951535]}},\"id\":\"d53c94ef-e772-408d-8c81-6caaa66b0131\",\"type\":\"ColumnDataSource\"},{\"attributes\":{\"fill_color\":{\"value\":\"#1f77b4\"},\"line_color\":{\"value\":\"#1f77b4\"},\"radius\":{\"units\":\"data\",\"value\":0.05},\"x\":{\"field\":\"x\"},\"y\":{\"field\":\"y\"}},\"id\":\"f813864f-c072-4378-88d9-fbc75a4278f1\",\"type\":\"Circle\"},{\"attributes\":{\"fill_alpha\":{\"value\":0.1},\"fill_color\":{\"value\":\"#1f77b4\"},\"line_alpha\":{\"value\":0.1},\"line_color\":{\"value\":\"#1f77b4\"},\"radius\":{\"units\":\"data\",\"value\":0.05},\"x\":{\"field\":\"x\"},\"y\":{\"field\":\"y\"}},\"id\":\"e235a2b5-23f6-4641-b9cf-64e7ba2a3b41\",\"type\":\"Circle\"},{\"attributes\":{\"line_alpha\":{\"value\":0.1},\"line_color\":{\"value\":\"#1f77b4\"},\"x\":{\"field\":\"x\"},\"y\":{\"field\":\"y\"}},\"id\":\"93c09bbe-ad98-4f4c-9049-b1bb131781cc\",\"type\":\"Line\"},{\"attributes\":{\"callback\":null,\"column_names\":[\"y\",\"x\"],\"data\":{\"x\":[0.30901699437494745],\"y\":[0.9510565162951535]}},\"id\":\"c40d4dce-12f4-4869-bb48-997b02efa6e9\",\"type\":\"ColumnDataSource\"},{\"attributes\":{\"active_drag\":\"auto\",\"active_scroll\":\"auto\",\"active_tap\":\"auto\",\"tools\":[{\"id\":\"4277ee02-b8ef-4fb1-8952-0e350540e773\",\"type\":\"PanTool\"},{\"id\":\"5783dbf4-0b59-424e-ac00-9bf00a6593d5\",\"type\":\"WheelZoomTool\"},{\"id\":\"d44ed7d0-c3ec-4262-8426-76a27e504f66\",\"type\":\"BoxZoomTool\"},{\"id\":\"6309b9c3-59b4-4439-8f10-6c82938aa525\",\"type\":\"SaveTool\"},{\"id\":\"5131bc50-f9e2-4223-a9df-4786f27aeca6\",\"type\":\"ResetTool\"},{\"id\":\"2fcff018-f8fe-43c3-90bd-fb3245465d5f\",\"type\":\"HelpTool\"}]},\"id\":\"3ab1380c-46f9-4ebf-93b0-0b5768f5374e\",\"type\":\"Toolbar\"},{\"attributes\":{\"callback\":null,\"column_names\":[\"y\",\"x\"],\"data\":{\"x\":[-0.8090169943749476,0.30901699437494723],\"y\":[-0.587785252292473,-0.9510565162951536]}},\"id\":\"c82bc68b-70eb-423b-aa32-df51b9eee1b3\",\"type\":\"ColumnDataSource\"},{\"attributes\":{\"below\":[{\"id\":\"e022f6be-8ee4-4986-a8d9-58bfcd1553c8\",\"type\":\"LinearAxis\"}],\"left\":[{\"id\":\"673a2178-459d-4bc0-a566-ce774fdf47b9\",\"type\":\"LinearAxis\"}],\"plot_height\":400,\"plot_width\":400,\"renderers\":[{\"id\":\"e022f6be-8ee4-4986-a8d9-58bfcd1553c8\",\"type\":\"LinearAxis\"},{\"id\":\"fdb89857-60f3-49a3-bd6f-ada8b6d5eec2\",\"type\":\"Grid\"},{\"id\":\"673a2178-459d-4bc0-a566-ce774fdf47b9\",\"type\":\"LinearAxis\"},{\"id\":\"acc2c0be-b493-4b2e-9a02-0c2b980cda88\",\"type\":\"Grid\"},{\"id\":\"6d04b875-5065-4f50-86c8-06f06754bffc\",\"type\":\"BoxAnnotation\"},{\"id\":\"4629318a-f6c8-4a16-8778-1e748656b11c\",\"type\":\"GlyphRenderer\"},{\"id\":\"b8c91e48-7c6d-4d29-ad2f-71e679e7db8d\",\"type\":\"GlyphRenderer\"},{\"id\":\"d5b05a44-b950-4f00-b835-14c122539101\",\"type\":\"GlyphRenderer\"},{\"id\":\"9173f957-bce8-4ee8-9c20-25ca30d023ca\",\"type\":\"GlyphRenderer\"},{\"id\":\"43843944-4d42-400b-9823-ca6af0bb7ac7\",\"type\":\"GlyphRenderer\"},{\"id\":\"530f5e5c-b980-4827-abd7-a0fafff6af98\",\"type\":\"GlyphRenderer\"},{\"id\":\"fc21e87d-c601-498c-a3a6-e96be373f491\",\"type\":\"GlyphRenderer\"},{\"id\":\"7aabb29c-39e9-4f77-a87a-a63bf3c465d0\",\"type\":\"GlyphRenderer\"},{\"id\":\"35a28096-b1bb-41cc-9b87-a0c4253f0080\",\"type\":\"GlyphRenderer\"}],\"title\":{\"id\":\"7930ab7a-61b4-429a-a1d4-3a01079f47ac\",\"type\":\"Title\"},\"tool_events\":{\"id\":\"473cfe5c-19f2-44c9-88fe-21de04fe2542\",\"type\":\"ToolEvents\"},\"toolbar\":{\"id\":\"3ab1380c-46f9-4ebf-93b0-0b5768f5374e\",\"type\":\"Toolbar\"},\"x_range\":{\"id\":\"eee88a52-e7bb-4271-aa06-2ddc41bc4e2f\",\"type\":\"Range1d\"},\"y_range\":{\"id\":\"e47cfcfc-a6ff-45c5-a396-92c71fdccb49\",\"type\":\"Range1d\"}},\"id\":\"07bb990b-175c-43ac-b3b0-49a854602917\",\"subtype\":\"Figure\",\"type\":\"Plot\"},{\"attributes\":{\"data_source\":{\"id\":\"b73d8c0d-5f13-4b3e-9815-3a8e8094bd9a\",\"type\":\"ColumnDataSource\"},\"glyph\":{\"id\":\"1a3f0059-6a03-476f-ae5a-116336150628\",\"type\":\"Line\"},\"hover_glyph\":null,\"nonselection_glyph\":{\"id\":\"93c09bbe-ad98-4f4c-9049-b1bb131781cc\",\"type\":\"Line\"},\"selection_glyph\":null},\"id\":\"d5b05a44-b950-4f00-b835-14c122539101\",\"type\":\"GlyphRenderer\"},{\"attributes\":{\"data_source\":{\"id\":\"d53c94ef-e772-408d-8c81-6caaa66b0131\",\"type\":\"ColumnDataSource\"},\"glyph\":{\"id\":\"74144b3c-6f0e-4526-92c6-ed041e05fb42\",\"type\":\"Line\"},\"hover_glyph\":null,\"nonselection_glyph\":{\"id\":\"659137c9-8724-4b9b-90ca-896425758cad\",\"type\":\"Line\"},\"selection_glyph\":null},\"id\":\"4629318a-f6c8-4a16-8778-1e748656b11c\",\"type\":\"GlyphRenderer\"},{\"attributes\":{\"fill_color\":{\"value\":\"#1f77b4\"},\"line_color\":{\"value\":\"#1f77b4\"},\"radius\":{\"units\":\"data\",\"value\":0.05},\"x\":{\"field\":\"x\"},\"y\":{\"field\":\"y\"}},\"id\":\"09aff4bf-08b4-4bb6-99e2-3ef729f15dfd\",\"type\":\"Circle\"},{\"attributes\":{\"formatter\":{\"id\":\"ddff9d06-271d-4bf8-a056-5ec0f251328b\",\"type\":\"BasicTickFormatter\"},\"plot\":{\"id\":\"07bb990b-175c-43ac-b3b0-49a854602917\",\"subtype\":\"Figure\",\"type\":\"Plot\"},\"ticker\":{\"id\":\"68041ad9-6088-4dab-84d5-8dc83a7c3411\",\"type\":\"BasicTicker\"}},\"id\":\"e022f6be-8ee4-4986-a8d9-58bfcd1553c8\",\"type\":\"LinearAxis\"},{\"attributes\":{\"line_color\":{\"value\":\"#1f77b4\"},\"x\":{\"field\":\"x\"},\"y\":{\"field\":\"y\"}},\"id\":\"9a49c955-13ce-4d95-b065-63f3c7ea3dcf\",\"type\":\"Line\"},{\"attributes\":{\"data_source\":{\"id\":\"a5405e5a-4a1c-435d-87c2-be1d16c6cdce\",\"type\":\"ColumnDataSource\"},\"glyph\":{\"id\":\"9308c954-2825-4f81-9a54-48b4ce275636\",\"type\":\"Circle\"},\"hover_glyph\":null,\"nonselection_glyph\":{\"id\":\"e235a2b5-23f6-4641-b9cf-64e7ba2a3b41\",\"type\":\"Circle\"},\"selection_glyph\":null},\"id\":\"35a28096-b1bb-41cc-9b87-a0c4253f0080\",\"type\":\"GlyphRenderer\"}],\"root_ids\":[\"07bb990b-175c-43ac-b3b0-49a854602917\"]},\"title\":\"Bokeh Application\",\"version\":\"0.12.3\"}};\n",
       "            var render_items = [{\"docid\":\"c2024e4d-dea2-4402-abb2-b48944c531cd\",\"elementid\":\"10abfc7b-dad8-44de-9d9a-fc8d8e4cda45\",\"modelid\":\"07bb990b-175c-43ac-b3b0-49a854602917\"}];\n",
       "            \n",
       "            Bokeh.embed.embed_items(docs_json, render_items);\n",
       "        });\n",
       "      },\n",
       "      function(Bokeh) {\n",
       "      }\n",
       "    ];\n",
       "  \n",
       "    function run_inline_js() {\n",
       "      \n",
       "      if ((window.Bokeh !== undefined) || (force === \"1\")) {\n",
       "        for (var i = 0; i < inline_js.length; i++) {\n",
       "          inline_js[i](window.Bokeh);\n",
       "        }if (force === \"1\") {\n",
       "          display_loaded();\n",
       "        }} else if (Date.now() < window._bokeh_timeout) {\n",
       "        setTimeout(run_inline_js, 100);\n",
       "      } else if (!window._bokeh_failed_load) {\n",
       "        console.log(\"Bokeh: BokehJS failed to load within specified timeout.\");\n",
       "        window._bokeh_failed_load = true;\n",
       "      } else if (!force) {\n",
       "        var cell = $(\"#10abfc7b-dad8-44de-9d9a-fc8d8e4cda45\").parents('.cell').data().cell;\n",
       "        cell.output_area.append_execute_result(NB_LOAD_WARNING)\n",
       "      }\n",
       "  \n",
       "    }\n",
       "  \n",
       "    if (window._bokeh_is_loading === 0) {\n",
       "      console.log(\"Bokeh: BokehJS loaded, going straight to plotting\");\n",
       "      run_inline_js();\n",
       "    } else {\n",
       "      load_libs(js_urls, function() {\n",
       "        console.log(\"Bokeh: BokehJS plotting callback run at\", now());\n",
       "        run_inline_js();\n",
       "      });\n",
       "    }\n",
       "  }(this));\n",
       "</script>"
      ]
     },
     "metadata": {},
     "output_type": "display_data"
    }
   ],
   "source": [
    "pts = nx.circular_layout(G)\n",
    "p = figure(\n",
    "    x_range = (-.1,1.1),\n",
    "    y_range = (-.1,1.1),\n",
    "    height= 400,\n",
    "    width= 400,\n",
    ")\n",
    "for edge in G.edges():\n",
    "    p.line( \n",
    "        x= [pts[pt][0] for pt in edge],\n",
    "        y= [pts[pt][1] for pt in edge],\n",
    "    )\n",
    "\n",
    "for node in G.nodes():\n",
    "    p.circle( \n",
    "        x= [pts[node][0]],\n",
    "        y= [pts[node][1]],\n",
    "        radius=.05\n",
    "    )\n",
    "show(p)"
   ]
  },
  {
   "cell_type": "markdown",
   "metadata": {},
   "source": [
    "## Random Layout"
   ]
  },
  {
   "cell_type": "code",
   "execution_count": 25,
   "metadata": {
    "collapsed": false
   },
   "outputs": [
    {
     "data": {
      "text/html": [
       "\n",
       "\n",
       "    <div class=\"bk-root\">\n",
       "        <div class=\"plotdiv\" id=\"3c590406-e719-4213-8619-afae509f27d0\"></div>\n",
       "    </div>\n",
       "<script type=\"text/javascript\">\n",
       "  \n",
       "  (function(global) {\n",
       "    function now() {\n",
       "      return new Date();\n",
       "    }\n",
       "  \n",
       "    var force = \"\";\n",
       "  \n",
       "    if (typeof (window._bokeh_onload_callbacks) === \"undefined\" || force !== \"\") {\n",
       "      window._bokeh_onload_callbacks = [];\n",
       "      window._bokeh_is_loading = undefined;\n",
       "    }\n",
       "  \n",
       "  \n",
       "    \n",
       "    if (typeof (window._bokeh_timeout) === \"undefined\" || force !== \"\") {\n",
       "      window._bokeh_timeout = Date.now() + 0;\n",
       "      window._bokeh_failed_load = false;\n",
       "    }\n",
       "  \n",
       "    var NB_LOAD_WARNING = {'data': {'text/html':\n",
       "       \"<div style='background-color: #fdd'>\\n\"+\n",
       "       \"<p>\\n\"+\n",
       "       \"BokehJS does not appear to have successfully loaded. If loading BokehJS from CDN, this \\n\"+\n",
       "       \"may be due to a slow or bad network connection. Possible fixes:\\n\"+\n",
       "       \"</p>\\n\"+\n",
       "       \"<ul>\\n\"+\n",
       "       \"<li>re-rerun `output_notebook()` to attempt to load from CDN again, or</li>\\n\"+\n",
       "       \"<li>use INLINE resources instead, as so:</li>\\n\"+\n",
       "       \"</ul>\\n\"+\n",
       "       \"<code>\\n\"+\n",
       "       \"from bokeh.resources import INLINE\\n\"+\n",
       "       \"output_notebook(resources=INLINE)\\n\"+\n",
       "       \"</code>\\n\"+\n",
       "       \"</div>\"}};\n",
       "  \n",
       "    function display_loaded() {\n",
       "      if (window.Bokeh !== undefined) {\n",
       "        Bokeh.$(\"#3c590406-e719-4213-8619-afae509f27d0\").text(\"BokehJS successfully loaded.\");\n",
       "      } else if (Date.now() < window._bokeh_timeout) {\n",
       "        setTimeout(display_loaded, 100)\n",
       "      }\n",
       "    }\n",
       "  \n",
       "    function run_callbacks() {\n",
       "      window._bokeh_onload_callbacks.forEach(function(callback) { callback() });\n",
       "      delete window._bokeh_onload_callbacks\n",
       "      console.info(\"Bokeh: all callbacks have finished\");\n",
       "    }\n",
       "  \n",
       "    function load_libs(js_urls, callback) {\n",
       "      window._bokeh_onload_callbacks.push(callback);\n",
       "      if (window._bokeh_is_loading > 0) {\n",
       "        console.log(\"Bokeh: BokehJS is being loaded, scheduling callback at\", now());\n",
       "        return null;\n",
       "      }\n",
       "      if (js_urls == null || js_urls.length === 0) {\n",
       "        run_callbacks();\n",
       "        return null;\n",
       "      }\n",
       "      console.log(\"Bokeh: BokehJS not loaded, scheduling load and callback at\", now());\n",
       "      window._bokeh_is_loading = js_urls.length;\n",
       "      for (var i = 0; i < js_urls.length; i++) {\n",
       "        var url = js_urls[i];\n",
       "        var s = document.createElement('script');\n",
       "        s.src = url;\n",
       "        s.async = false;\n",
       "        s.onreadystatechange = s.onload = function() {\n",
       "          window._bokeh_is_loading--;\n",
       "          if (window._bokeh_is_loading === 0) {\n",
       "            console.log(\"Bokeh: all BokehJS libraries loaded\");\n",
       "            run_callbacks()\n",
       "          }\n",
       "        };\n",
       "        s.onerror = function() {\n",
       "          console.warn(\"failed to load library \" + url);\n",
       "        };\n",
       "        console.log(\"Bokeh: injecting script tag for BokehJS library: \", url);\n",
       "        document.getElementsByTagName(\"head\")[0].appendChild(s);\n",
       "      }\n",
       "    };var element = document.getElementById(\"3c590406-e719-4213-8619-afae509f27d0\");\n",
       "    if (element == null) {\n",
       "      console.log(\"Bokeh: ERROR: autoload.js configured with elementid '3c590406-e719-4213-8619-afae509f27d0' but no matching script tag was found. \")\n",
       "      return false;\n",
       "    }\n",
       "  \n",
       "    var js_urls = [];\n",
       "  \n",
       "    var inline_js = [\n",
       "      function(Bokeh) {\n",
       "        Bokeh.$(function() {\n",
       "            var docs_json = {\"2a342eb1-0bc8-4d11-9ad2-6710ff6a940c\":{\"roots\":{\"references\":[{\"attributes\":{\"callback\":null,\"column_names\":[\"y\",\"x\"],\"data\":{\"x\":[0.18432633210395866],\"y\":[0.6597340220055511]}},\"id\":\"2d11d335-19c0-4f88-9e97-0ab1c0e5ed97\",\"type\":\"ColumnDataSource\"},{\"attributes\":{\"plot\":{\"id\":\"bc04d270-faf4-4076-aa38-952a974bd082\",\"subtype\":\"Figure\",\"type\":\"Plot\"}},\"id\":\"cc3dc89f-d8d2-4308-bbb4-06fa9fcea3fe\",\"type\":\"SaveTool\"},{\"attributes\":{\"line_color\":{\"value\":\"#1f77b4\"},\"x\":{\"field\":\"x\"},\"y\":{\"field\":\"y\"}},\"id\":\"aadaafba-2eca-4bb1-b559-ec1adc890aed\",\"type\":\"Line\"},{\"attributes\":{\"data_source\":{\"id\":\"dc9ed4c1-9ee6-45f0-9a0b-6d30d8616722\",\"type\":\"ColumnDataSource\"},\"glyph\":{\"id\":\"aadaafba-2eca-4bb1-b559-ec1adc890aed\",\"type\":\"Line\"},\"hover_glyph\":null,\"nonselection_glyph\":{\"id\":\"ec341c90-d1ee-4ff1-bf70-a34d460aba94\",\"type\":\"Line\"},\"selection_glyph\":null},\"id\":\"29dac5b4-5645-46e9-b902-d6a066f6a740\",\"type\":\"GlyphRenderer\"},{\"attributes\":{\"data_source\":{\"id\":\"7af94890-31c8-4a0d-a76f-4cd4eb1a998c\",\"type\":\"ColumnDataSource\"},\"glyph\":{\"id\":\"745434ad-34d0-4eca-aa73-043c38cb9388\",\"type\":\"Circle\"},\"hover_glyph\":null,\"nonselection_glyph\":{\"id\":\"9d05ac4b-0a6c-44a6-851e-dc64401a5add\",\"type\":\"Circle\"},\"selection_glyph\":null},\"id\":\"1f909632-da25-4f1f-bd1f-6c3b6a2385dd\",\"type\":\"GlyphRenderer\"},{\"attributes\":{\"bottom_units\":\"screen\",\"fill_alpha\":{\"value\":0.5},\"fill_color\":{\"value\":\"lightgrey\"},\"left_units\":\"screen\",\"level\":\"overlay\",\"line_alpha\":{\"value\":1.0},\"line_color\":{\"value\":\"black\"},\"line_dash\":[4,4],\"line_width\":{\"value\":2},\"plot\":null,\"render_mode\":\"css\",\"right_units\":\"screen\",\"top_units\":\"screen\"},\"id\":\"f1e19336-2eed-4f6c-bd34-435ab6a3320f\",\"type\":\"BoxAnnotation\"},{\"attributes\":{\"fill_alpha\":{\"value\":0.1},\"fill_color\":{\"value\":\"#1f77b4\"},\"line_alpha\":{\"value\":0.1},\"line_color\":{\"value\":\"#1f77b4\"},\"radius\":{\"units\":\"data\",\"value\":0.05},\"x\":{\"field\":\"x\"},\"y\":{\"field\":\"y\"}},\"id\":\"1b4b9467-d44d-4499-9d76-ab8dd880f3ba\",\"type\":\"Circle\"},{\"attributes\":{\"data_source\":{\"id\":\"d9fcd102-b25b-4ba9-b255-d382c7041ef0\",\"type\":\"ColumnDataSource\"},\"glyph\":{\"id\":\"529fdf65-5479-486f-8247-44bf621d7be6\",\"type\":\"Line\"},\"hover_glyph\":null,\"nonselection_glyph\":{\"id\":\"93adf1d2-0f58-4d52-9c3b-a7d98485343f\",\"type\":\"Line\"},\"selection_glyph\":null},\"id\":\"816a3d1a-5898-4f26-aa3c-521568590a22\",\"type\":\"GlyphRenderer\"},{\"attributes\":{},\"id\":\"9ace1428-c50e-4b9e-a228-bd3ac0e6fb3c\",\"type\":\"BasicTicker\"},{\"attributes\":{\"dimension\":1,\"plot\":{\"id\":\"bc04d270-faf4-4076-aa38-952a974bd082\",\"subtype\":\"Figure\",\"type\":\"Plot\"},\"ticker\":{\"id\":\"9ace1428-c50e-4b9e-a228-bd3ac0e6fb3c\",\"type\":\"BasicTicker\"}},\"id\":\"e1389992-7d49-4da4-a475-c6eac35efb22\",\"type\":\"Grid\"},{\"attributes\":{\"plot\":{\"id\":\"bc04d270-faf4-4076-aa38-952a974bd082\",\"subtype\":\"Figure\",\"type\":\"Plot\"},\"ticker\":{\"id\":\"03addc92-3b01-4a96-94ce-a217bb1f8ddf\",\"type\":\"BasicTicker\"}},\"id\":\"62c3a158-8674-4c7d-8ae5-76ae241a0567\",\"type\":\"Grid\"},{\"attributes\":{},\"id\":\"63093cbf-627b-4e1c-907c-d525675f31c9\",\"type\":\"ToolEvents\"},{\"attributes\":{\"data_source\":{\"id\":\"2d11d335-19c0-4f88-9e97-0ab1c0e5ed97\",\"type\":\"ColumnDataSource\"},\"glyph\":{\"id\":\"b4314ce1-005f-4cb9-bed7-9cb31794c52c\",\"type\":\"Circle\"},\"hover_glyph\":null,\"nonselection_glyph\":{\"id\":\"1b4b9467-d44d-4499-9d76-ab8dd880f3ba\",\"type\":\"Circle\"},\"selection_glyph\":null},\"id\":\"fea663d5-e66d-4fe4-8a90-dfc893d6fe03\",\"type\":\"GlyphRenderer\"},{\"attributes\":{\"plot\":{\"id\":\"bc04d270-faf4-4076-aa38-952a974bd082\",\"subtype\":\"Figure\",\"type\":\"Plot\"}},\"id\":\"5fc30430-c5dd-45cc-ad66-503d9e716c16\",\"type\":\"WheelZoomTool\"},{\"attributes\":{\"callback\":null,\"column_names\":[\"y\",\"x\"],\"data\":{\"x\":[0.5129273660686726,0.5959905143479672],\"y\":[0.23254158785650703,0.8780029284066636]}},\"id\":\"d9fcd102-b25b-4ba9-b255-d382c7041ef0\",\"type\":\"ColumnDataSource\"},{\"attributes\":{\"line_color\":{\"value\":\"#1f77b4\"},\"x\":{\"field\":\"x\"},\"y\":{\"field\":\"y\"}},\"id\":\"529fdf65-5479-486f-8247-44bf621d7be6\",\"type\":\"Line\"},{\"attributes\":{\"plot\":{\"id\":\"bc04d270-faf4-4076-aa38-952a974bd082\",\"subtype\":\"Figure\",\"type\":\"Plot\"}},\"id\":\"e60113f2-4056-47e4-bfd4-9d14ab897273\",\"type\":\"ResetTool\"},{\"attributes\":{\"fill_color\":{\"value\":\"#1f77b4\"},\"line_color\":{\"value\":\"#1f77b4\"},\"radius\":{\"units\":\"data\",\"value\":0.05},\"x\":{\"field\":\"x\"},\"y\":{\"field\":\"y\"}},\"id\":\"b4314ce1-005f-4cb9-bed7-9cb31794c52c\",\"type\":\"Circle\"},{\"attributes\":{\"line_alpha\":{\"value\":0.1},\"line_color\":{\"value\":\"#1f77b4\"},\"x\":{\"field\":\"x\"},\"y\":{\"field\":\"y\"}},\"id\":\"93adf1d2-0f58-4d52-9c3b-a7d98485343f\",\"type\":\"Line\"},{\"attributes\":{\"active_drag\":\"auto\",\"active_scroll\":\"auto\",\"active_tap\":\"auto\",\"tools\":[{\"id\":\"6b2f1c14-70ff-4c7e-91f5-315a06210808\",\"type\":\"PanTool\"},{\"id\":\"5fc30430-c5dd-45cc-ad66-503d9e716c16\",\"type\":\"WheelZoomTool\"},{\"id\":\"407ecf47-84d1-4d71-8853-99f503d68175\",\"type\":\"BoxZoomTool\"},{\"id\":\"cc3dc89f-d8d2-4308-bbb4-06fa9fcea3fe\",\"type\":\"SaveTool\"},{\"id\":\"e60113f2-4056-47e4-bfd4-9d14ab897273\",\"type\":\"ResetTool\"},{\"id\":\"230bc925-cccb-44fe-b1ca-006b73601d4f\",\"type\":\"HelpTool\"}]},\"id\":\"d8659d0a-6128-46e4-96ec-748504a3aa59\",\"type\":\"Toolbar\"},{\"attributes\":{\"plot\":{\"id\":\"bc04d270-faf4-4076-aa38-952a974bd082\",\"subtype\":\"Figure\",\"type\":\"Plot\"}},\"id\":\"230bc925-cccb-44fe-b1ca-006b73601d4f\",\"type\":\"HelpTool\"},{\"attributes\":{\"plot\":null,\"text\":null},\"id\":\"c68adccb-bb5a-48b9-870e-79628b3867a9\",\"type\":\"Title\"},{\"attributes\":{\"callback\":null,\"column_names\":[\"y\",\"x\"],\"data\":{\"x\":[0.857599629643128],\"y\":[0.04566960028516076]}},\"id\":\"7af94890-31c8-4a0d-a76f-4cd4eb1a998c\",\"type\":\"ColumnDataSource\"},{\"attributes\":{\"callback\":null,\"column_names\":[\"y\",\"x\"],\"data\":{\"x\":[0.5129273660686726],\"y\":[0.23254158785650703]}},\"id\":\"69ab2525-6c3d-4204-9419-b54802050f92\",\"type\":\"ColumnDataSource\"},{\"attributes\":{\"formatter\":{\"id\":\"7785b0de-38d6-40d6-9824-8a4e7d1be18e\",\"type\":\"BasicTickFormatter\"},\"plot\":{\"id\":\"bc04d270-faf4-4076-aa38-952a974bd082\",\"subtype\":\"Figure\",\"type\":\"Plot\"},\"ticker\":{\"id\":\"9ace1428-c50e-4b9e-a228-bd3ac0e6fb3c\",\"type\":\"BasicTicker\"}},\"id\":\"18d5c56c-ad9a-4954-8a72-b14cf3eb58f8\",\"type\":\"LinearAxis\"},{\"attributes\":{\"data_source\":{\"id\":\"e4c2c4d0-7a00-488b-a219-70cf66f06dce\",\"type\":\"ColumnDataSource\"},\"glyph\":{\"id\":\"a31a82a2-5c7a-4472-841d-5f759f9bdb91\",\"type\":\"Line\"},\"hover_glyph\":null,\"nonselection_glyph\":{\"id\":\"271fd909-3612-404b-95fd-3bba400303b4\",\"type\":\"Line\"},\"selection_glyph\":null},\"id\":\"606e2357-10ae-42b1-958b-07b7c5eb7503\",\"type\":\"GlyphRenderer\"},{\"attributes\":{\"fill_alpha\":{\"value\":0.1},\"fill_color\":{\"value\":\"#1f77b4\"},\"line_alpha\":{\"value\":0.1},\"line_color\":{\"value\":\"#1f77b4\"},\"radius\":{\"units\":\"data\",\"value\":0.05},\"x\":{\"field\":\"x\"},\"y\":{\"field\":\"y\"}},\"id\":\"fa74f9c8-f999-46c3-b8a4-b4c3e4187330\",\"type\":\"Circle\"},{\"attributes\":{\"data_source\":{\"id\":\"099327bf-cded-45a6-943f-b09284e3bd3e\",\"type\":\"ColumnDataSource\"},\"glyph\":{\"id\":\"fd986f20-e7c3-48cf-864d-a532838ad6fe\",\"type\":\"Line\"},\"hover_glyph\":null,\"nonselection_glyph\":{\"id\":\"dc69a1b7-69b8-4e8b-982f-073ab6c4158e\",\"type\":\"Line\"},\"selection_glyph\":null},\"id\":\"09430862-421b-460c-ba1d-4b392d00ccf0\",\"type\":\"GlyphRenderer\"},{\"attributes\":{},\"id\":\"7785b0de-38d6-40d6-9824-8a4e7d1be18e\",\"type\":\"BasicTickFormatter\"},{\"attributes\":{},\"id\":\"03addc92-3b01-4a96-94ce-a217bb1f8ddf\",\"type\":\"BasicTicker\"},{\"attributes\":{\"line_color\":{\"value\":\"#1f77b4\"},\"x\":{\"field\":\"x\"},\"y\":{\"field\":\"y\"}},\"id\":\"a31a82a2-5c7a-4472-841d-5f759f9bdb91\",\"type\":\"Line\"},{\"attributes\":{\"plot\":{\"id\":\"bc04d270-faf4-4076-aa38-952a974bd082\",\"subtype\":\"Figure\",\"type\":\"Plot\"}},\"id\":\"6b2f1c14-70ff-4c7e-91f5-315a06210808\",\"type\":\"PanTool\"},{\"attributes\":{\"fill_alpha\":{\"value\":0.1},\"fill_color\":{\"value\":\"#1f77b4\"},\"line_alpha\":{\"value\":0.1},\"line_color\":{\"value\":\"#1f77b4\"},\"radius\":{\"units\":\"data\",\"value\":0.05},\"x\":{\"field\":\"x\"},\"y\":{\"field\":\"y\"}},\"id\":\"9d05ac4b-0a6c-44a6-851e-dc64401a5add\",\"type\":\"Circle\"},{\"attributes\":{\"callback\":null,\"column_names\":[\"y\",\"x\"],\"data\":{\"x\":[0.5959905143479672,0.18432633210395866],\"y\":[0.8780029284066636,0.6597340220055511]}},\"id\":\"dc9ed4c1-9ee6-45f0-9a0b-6d30d8616722\",\"type\":\"ColumnDataSource\"},{\"attributes\":{\"data_source\":{\"id\":\"9f080487-9e4b-47e5-bf16-d0e9b7cb05eb\",\"type\":\"ColumnDataSource\"},\"glyph\":{\"id\":\"31e00ad8-60a6-436d-94f2-694f5507f9bb\",\"type\":\"Circle\"},\"hover_glyph\":null,\"nonselection_glyph\":{\"id\":\"fa74f9c8-f999-46c3-b8a4-b4c3e4187330\",\"type\":\"Circle\"},\"selection_glyph\":null},\"id\":\"f15e369f-6d88-4846-879c-88766325329e\",\"type\":\"GlyphRenderer\"},{\"attributes\":{\"overlay\":{\"id\":\"f1e19336-2eed-4f6c-bd34-435ab6a3320f\",\"type\":\"BoxAnnotation\"},\"plot\":{\"id\":\"bc04d270-faf4-4076-aa38-952a974bd082\",\"subtype\":\"Figure\",\"type\":\"Plot\"}},\"id\":\"407ecf47-84d1-4d71-8853-99f503d68175\",\"type\":\"BoxZoomTool\"},{\"attributes\":{},\"id\":\"19412a05-71d3-4bb2-9cb4-ad4f64802dda\",\"type\":\"BasicTickFormatter\"},{\"attributes\":{\"fill_color\":{\"value\":\"#1f77b4\"},\"line_color\":{\"value\":\"#1f77b4\"},\"radius\":{\"units\":\"data\",\"value\":0.05},\"x\":{\"field\":\"x\"},\"y\":{\"field\":\"y\"}},\"id\":\"745434ad-34d0-4eca-aa73-043c38cb9388\",\"type\":\"Circle\"},{\"attributes\":{\"line_alpha\":{\"value\":0.1},\"line_color\":{\"value\":\"#1f77b4\"},\"x\":{\"field\":\"x\"},\"y\":{\"field\":\"y\"}},\"id\":\"271fd909-3612-404b-95fd-3bba400303b4\",\"type\":\"Line\"},{\"attributes\":{\"callback\":null,\"column_names\":[\"y\",\"x\"],\"data\":{\"x\":[0.18432633210395866,0.26494716002758034],\"y\":[0.6597340220055511,0.5551673929093479]}},\"id\":\"e4c2c4d0-7a00-488b-a219-70cf66f06dce\",\"type\":\"ColumnDataSource\"},{\"attributes\":{\"line_color\":{\"value\":\"#1f77b4\"},\"x\":{\"field\":\"x\"},\"y\":{\"field\":\"y\"}},\"id\":\"fd986f20-e7c3-48cf-864d-a532838ad6fe\",\"type\":\"Line\"},{\"attributes\":{\"formatter\":{\"id\":\"19412a05-71d3-4bb2-9cb4-ad4f64802dda\",\"type\":\"BasicTickFormatter\"},\"plot\":{\"id\":\"bc04d270-faf4-4076-aa38-952a974bd082\",\"subtype\":\"Figure\",\"type\":\"Plot\"},\"ticker\":{\"id\":\"03addc92-3b01-4a96-94ce-a217bb1f8ddf\",\"type\":\"BasicTicker\"}},\"id\":\"194ed702-ff3b-4f0c-90b6-edd6cc0aaf81\",\"type\":\"LinearAxis\"},{\"attributes\":{\"callback\":null,\"column_names\":[\"y\",\"x\"],\"data\":{\"x\":[0.26494716002758034],\"y\":[0.5551673929093479]}},\"id\":\"2f4ef861-ecd2-4c98-8c0b-42bf88a6beb2\",\"type\":\"ColumnDataSource\"},{\"attributes\":{\"data_source\":{\"id\":\"69ab2525-6c3d-4204-9419-b54802050f92\",\"type\":\"ColumnDataSource\"},\"glyph\":{\"id\":\"d0e84c6c-23d8-40bf-81f2-04fba51cef00\",\"type\":\"Circle\"},\"hover_glyph\":null,\"nonselection_glyph\":{\"id\":\"d308ebd5-19ae-4529-b7bc-3f974f13e669\",\"type\":\"Circle\"},\"selection_glyph\":null},\"id\":\"ad166301-61a9-4121-9c4d-2b40ba4b03de\",\"type\":\"GlyphRenderer\"},{\"attributes\":{\"fill_alpha\":{\"value\":0.1},\"fill_color\":{\"value\":\"#1f77b4\"},\"line_alpha\":{\"value\":0.1},\"line_color\":{\"value\":\"#1f77b4\"},\"radius\":{\"units\":\"data\",\"value\":0.05},\"x\":{\"field\":\"x\"},\"y\":{\"field\":\"y\"}},\"id\":\"d308ebd5-19ae-4529-b7bc-3f974f13e669\",\"type\":\"Circle\"},{\"attributes\":{\"line_alpha\":{\"value\":0.1},\"line_color\":{\"value\":\"#1f77b4\"},\"x\":{\"field\":\"x\"},\"y\":{\"field\":\"y\"}},\"id\":\"dc69a1b7-69b8-4e8b-982f-073ab6c4158e\",\"type\":\"Line\"},{\"attributes\":{\"fill_color\":{\"value\":\"#1f77b4\"},\"line_color\":{\"value\":\"#1f77b4\"},\"radius\":{\"units\":\"data\",\"value\":0.05},\"x\":{\"field\":\"x\"},\"y\":{\"field\":\"y\"}},\"id\":\"31e00ad8-60a6-436d-94f2-694f5507f9bb\",\"type\":\"Circle\"},{\"attributes\":{\"fill_color\":{\"value\":\"#1f77b4\"},\"line_color\":{\"value\":\"#1f77b4\"},\"radius\":{\"units\":\"data\",\"value\":0.05},\"x\":{\"field\":\"x\"},\"y\":{\"field\":\"y\"}},\"id\":\"135334ea-f919-4d0b-8895-d75f31237119\",\"type\":\"Circle\"},{\"attributes\":{\"fill_color\":{\"value\":\"#1f77b4\"},\"line_color\":{\"value\":\"#1f77b4\"},\"radius\":{\"units\":\"data\",\"value\":0.05},\"x\":{\"field\":\"x\"},\"y\":{\"field\":\"y\"}},\"id\":\"d0e84c6c-23d8-40bf-81f2-04fba51cef00\",\"type\":\"Circle\"},{\"attributes\":{\"below\":[{\"id\":\"194ed702-ff3b-4f0c-90b6-edd6cc0aaf81\",\"type\":\"LinearAxis\"}],\"left\":[{\"id\":\"18d5c56c-ad9a-4954-8a72-b14cf3eb58f8\",\"type\":\"LinearAxis\"}],\"plot_height\":400,\"plot_width\":400,\"renderers\":[{\"id\":\"194ed702-ff3b-4f0c-90b6-edd6cc0aaf81\",\"type\":\"LinearAxis\"},{\"id\":\"62c3a158-8674-4c7d-8ae5-76ae241a0567\",\"type\":\"Grid\"},{\"id\":\"18d5c56c-ad9a-4954-8a72-b14cf3eb58f8\",\"type\":\"LinearAxis\"},{\"id\":\"e1389992-7d49-4da4-a475-c6eac35efb22\",\"type\":\"Grid\"},{\"id\":\"f1e19336-2eed-4f6c-bd34-435ab6a3320f\",\"type\":\"BoxAnnotation\"},{\"id\":\"09430862-421b-460c-ba1d-4b392d00ccf0\",\"type\":\"GlyphRenderer\"},{\"id\":\"816a3d1a-5898-4f26-aa3c-521568590a22\",\"type\":\"GlyphRenderer\"},{\"id\":\"29dac5b4-5645-46e9-b902-d6a066f6a740\",\"type\":\"GlyphRenderer\"},{\"id\":\"606e2357-10ae-42b1-958b-07b7c5eb7503\",\"type\":\"GlyphRenderer\"},{\"id\":\"1f909632-da25-4f1f-bd1f-6c3b6a2385dd\",\"type\":\"GlyphRenderer\"},{\"id\":\"ad166301-61a9-4121-9c4d-2b40ba4b03de\",\"type\":\"GlyphRenderer\"},{\"id\":\"f15e369f-6d88-4846-879c-88766325329e\",\"type\":\"GlyphRenderer\"},{\"id\":\"fea663d5-e66d-4fe4-8a90-dfc893d6fe03\",\"type\":\"GlyphRenderer\"},{\"id\":\"a6cb39d1-4f71-4d89-bf0c-960ddddc9d04\",\"type\":\"GlyphRenderer\"}],\"title\":{\"id\":\"c68adccb-bb5a-48b9-870e-79628b3867a9\",\"type\":\"Title\"},\"tool_events\":{\"id\":\"63093cbf-627b-4e1c-907c-d525675f31c9\",\"type\":\"ToolEvents\"},\"toolbar\":{\"id\":\"d8659d0a-6128-46e4-96ec-748504a3aa59\",\"type\":\"Toolbar\"},\"x_range\":{\"id\":\"a0ac916f-38d6-40c2-aa61-31a9824321e0\",\"type\":\"Range1d\"},\"y_range\":{\"id\":\"bf307a39-a3be-434b-8f0b-3592021699fb\",\"type\":\"Range1d\"}},\"id\":\"bc04d270-faf4-4076-aa38-952a974bd082\",\"subtype\":\"Figure\",\"type\":\"Plot\"},{\"attributes\":{\"callback\":null,\"column_names\":[\"y\",\"x\"],\"data\":{\"x\":[0.857599629643128,0.5129273660686726],\"y\":[0.04566960028516076,0.23254158785650703]}},\"id\":\"099327bf-cded-45a6-943f-b09284e3bd3e\",\"type\":\"ColumnDataSource\"},{\"attributes\":{\"callback\":null,\"column_names\":[\"y\",\"x\"],\"data\":{\"x\":[0.5959905143479672],\"y\":[0.8780029284066636]}},\"id\":\"9f080487-9e4b-47e5-bf16-d0e9b7cb05eb\",\"type\":\"ColumnDataSource\"},{\"attributes\":{\"callback\":null,\"end\":1.1,\"start\":-0.1},\"id\":\"bf307a39-a3be-434b-8f0b-3592021699fb\",\"type\":\"Range1d\"},{\"attributes\":{\"line_alpha\":{\"value\":0.1},\"line_color\":{\"value\":\"#1f77b4\"},\"x\":{\"field\":\"x\"},\"y\":{\"field\":\"y\"}},\"id\":\"ec341c90-d1ee-4ff1-bf70-a34d460aba94\",\"type\":\"Line\"},{\"attributes\":{\"fill_alpha\":{\"value\":0.1},\"fill_color\":{\"value\":\"#1f77b4\"},\"line_alpha\":{\"value\":0.1},\"line_color\":{\"value\":\"#1f77b4\"},\"radius\":{\"units\":\"data\",\"value\":0.05},\"x\":{\"field\":\"x\"},\"y\":{\"field\":\"y\"}},\"id\":\"2c43ace5-c0f6-4c3e-93c1-6a0fd6d55f8d\",\"type\":\"Circle\"},{\"attributes\":{\"data_source\":{\"id\":\"2f4ef861-ecd2-4c98-8c0b-42bf88a6beb2\",\"type\":\"ColumnDataSource\"},\"glyph\":{\"id\":\"135334ea-f919-4d0b-8895-d75f31237119\",\"type\":\"Circle\"},\"hover_glyph\":null,\"nonselection_glyph\":{\"id\":\"2c43ace5-c0f6-4c3e-93c1-6a0fd6d55f8d\",\"type\":\"Circle\"},\"selection_glyph\":null},\"id\":\"a6cb39d1-4f71-4d89-bf0c-960ddddc9d04\",\"type\":\"GlyphRenderer\"},{\"attributes\":{\"callback\":null,\"end\":1.1,\"start\":-0.1},\"id\":\"a0ac916f-38d6-40c2-aa61-31a9824321e0\",\"type\":\"Range1d\"}],\"root_ids\":[\"bc04d270-faf4-4076-aa38-952a974bd082\"]},\"title\":\"Bokeh Application\",\"version\":\"0.12.3\"}};\n",
       "            var render_items = [{\"docid\":\"2a342eb1-0bc8-4d11-9ad2-6710ff6a940c\",\"elementid\":\"3c590406-e719-4213-8619-afae509f27d0\",\"modelid\":\"bc04d270-faf4-4076-aa38-952a974bd082\"}];\n",
       "            \n",
       "            Bokeh.embed.embed_items(docs_json, render_items);\n",
       "        });\n",
       "      },\n",
       "      function(Bokeh) {\n",
       "      }\n",
       "    ];\n",
       "  \n",
       "    function run_inline_js() {\n",
       "      \n",
       "      if ((window.Bokeh !== undefined) || (force === \"1\")) {\n",
       "        for (var i = 0; i < inline_js.length; i++) {\n",
       "          inline_js[i](window.Bokeh);\n",
       "        }if (force === \"1\") {\n",
       "          display_loaded();\n",
       "        }} else if (Date.now() < window._bokeh_timeout) {\n",
       "        setTimeout(run_inline_js, 100);\n",
       "      } else if (!window._bokeh_failed_load) {\n",
       "        console.log(\"Bokeh: BokehJS failed to load within specified timeout.\");\n",
       "        window._bokeh_failed_load = true;\n",
       "      } else if (!force) {\n",
       "        var cell = $(\"#3c590406-e719-4213-8619-afae509f27d0\").parents('.cell').data().cell;\n",
       "        cell.output_area.append_execute_result(NB_LOAD_WARNING)\n",
       "      }\n",
       "  \n",
       "    }\n",
       "  \n",
       "    if (window._bokeh_is_loading === 0) {\n",
       "      console.log(\"Bokeh: BokehJS loaded, going straight to plotting\");\n",
       "      run_inline_js();\n",
       "    } else {\n",
       "      load_libs(js_urls, function() {\n",
       "        console.log(\"Bokeh: BokehJS plotting callback run at\", now());\n",
       "        run_inline_js();\n",
       "      });\n",
       "    }\n",
       "  }(this));\n",
       "</script>"
      ]
     },
     "metadata": {},
     "output_type": "display_data"
    }
   ],
   "source": [
    "pts = nx.random_layout(G)\n",
    "p = figure(\n",
    "    x_range = (-.1,1.1),\n",
    "    y_range = (-.1,1.1),\n",
    "    height= 400,\n",
    "    width= 400,\n",
    ")\n",
    "for edge in G.edges():\n",
    "    p.line( \n",
    "        x= [pts[pt][0] for pt in edge],\n",
    "        y= [pts[pt][1] for pt in edge],\n",
    "    )\n",
    "\n",
    "for node in G.nodes():\n",
    "    p.circle( \n",
    "        x= [pts[node][0]],\n",
    "        y= [pts[node][1]],\n",
    "        radius=.05\n",
    "    )\n",
    "show(p)"
   ]
  },
  {
   "cell_type": "markdown",
   "metadata": {},
   "source": [
    "## Shell Layout"
   ]
  },
  {
   "cell_type": "code",
   "execution_count": 26,
   "metadata": {
    "collapsed": false
   },
   "outputs": [
    {
     "data": {
      "text/html": [
       "\n",
       "\n",
       "    <div class=\"bk-root\">\n",
       "        <div class=\"plotdiv\" id=\"21837d9c-791c-42b0-8fc5-42851e485a63\"></div>\n",
       "    </div>\n",
       "<script type=\"text/javascript\">\n",
       "  \n",
       "  (function(global) {\n",
       "    function now() {\n",
       "      return new Date();\n",
       "    }\n",
       "  \n",
       "    var force = \"\";\n",
       "  \n",
       "    if (typeof (window._bokeh_onload_callbacks) === \"undefined\" || force !== \"\") {\n",
       "      window._bokeh_onload_callbacks = [];\n",
       "      window._bokeh_is_loading = undefined;\n",
       "    }\n",
       "  \n",
       "  \n",
       "    \n",
       "    if (typeof (window._bokeh_timeout) === \"undefined\" || force !== \"\") {\n",
       "      window._bokeh_timeout = Date.now() + 0;\n",
       "      window._bokeh_failed_load = false;\n",
       "    }\n",
       "  \n",
       "    var NB_LOAD_WARNING = {'data': {'text/html':\n",
       "       \"<div style='background-color: #fdd'>\\n\"+\n",
       "       \"<p>\\n\"+\n",
       "       \"BokehJS does not appear to have successfully loaded. If loading BokehJS from CDN, this \\n\"+\n",
       "       \"may be due to a slow or bad network connection. Possible fixes:\\n\"+\n",
       "       \"</p>\\n\"+\n",
       "       \"<ul>\\n\"+\n",
       "       \"<li>re-rerun `output_notebook()` to attempt to load from CDN again, or</li>\\n\"+\n",
       "       \"<li>use INLINE resources instead, as so:</li>\\n\"+\n",
       "       \"</ul>\\n\"+\n",
       "       \"<code>\\n\"+\n",
       "       \"from bokeh.resources import INLINE\\n\"+\n",
       "       \"output_notebook(resources=INLINE)\\n\"+\n",
       "       \"</code>\\n\"+\n",
       "       \"</div>\"}};\n",
       "  \n",
       "    function display_loaded() {\n",
       "      if (window.Bokeh !== undefined) {\n",
       "        Bokeh.$(\"#21837d9c-791c-42b0-8fc5-42851e485a63\").text(\"BokehJS successfully loaded.\");\n",
       "      } else if (Date.now() < window._bokeh_timeout) {\n",
       "        setTimeout(display_loaded, 100)\n",
       "      }\n",
       "    }\n",
       "  \n",
       "    function run_callbacks() {\n",
       "      window._bokeh_onload_callbacks.forEach(function(callback) { callback() });\n",
       "      delete window._bokeh_onload_callbacks\n",
       "      console.info(\"Bokeh: all callbacks have finished\");\n",
       "    }\n",
       "  \n",
       "    function load_libs(js_urls, callback) {\n",
       "      window._bokeh_onload_callbacks.push(callback);\n",
       "      if (window._bokeh_is_loading > 0) {\n",
       "        console.log(\"Bokeh: BokehJS is being loaded, scheduling callback at\", now());\n",
       "        return null;\n",
       "      }\n",
       "      if (js_urls == null || js_urls.length === 0) {\n",
       "        run_callbacks();\n",
       "        return null;\n",
       "      }\n",
       "      console.log(\"Bokeh: BokehJS not loaded, scheduling load and callback at\", now());\n",
       "      window._bokeh_is_loading = js_urls.length;\n",
       "      for (var i = 0; i < js_urls.length; i++) {\n",
       "        var url = js_urls[i];\n",
       "        var s = document.createElement('script');\n",
       "        s.src = url;\n",
       "        s.async = false;\n",
       "        s.onreadystatechange = s.onload = function() {\n",
       "          window._bokeh_is_loading--;\n",
       "          if (window._bokeh_is_loading === 0) {\n",
       "            console.log(\"Bokeh: all BokehJS libraries loaded\");\n",
       "            run_callbacks()\n",
       "          }\n",
       "        };\n",
       "        s.onerror = function() {\n",
       "          console.warn(\"failed to load library \" + url);\n",
       "        };\n",
       "        console.log(\"Bokeh: injecting script tag for BokehJS library: \", url);\n",
       "        document.getElementsByTagName(\"head\")[0].appendChild(s);\n",
       "      }\n",
       "    };var element = document.getElementById(\"21837d9c-791c-42b0-8fc5-42851e485a63\");\n",
       "    if (element == null) {\n",
       "      console.log(\"Bokeh: ERROR: autoload.js configured with elementid '21837d9c-791c-42b0-8fc5-42851e485a63' but no matching script tag was found. \")\n",
       "      return false;\n",
       "    }\n",
       "  \n",
       "    var js_urls = [];\n",
       "  \n",
       "    var inline_js = [\n",
       "      function(Bokeh) {\n",
       "        Bokeh.$(function() {\n",
       "            var docs_json = {\"085b3774-3dc1-4333-bb02-221792782ef1\":{\"roots\":{\"references\":[{\"attributes\":{\"overlay\":{\"id\":\"205aaeaa-540d-43f1-85db-a2006cd57075\",\"type\":\"BoxAnnotation\"},\"plot\":{\"id\":\"bfbd5caa-a6ee-4440-b726-11cfa902c456\",\"subtype\":\"Figure\",\"type\":\"Plot\"}},\"id\":\"64f54e04-1258-4357-9931-1dff392399d3\",\"type\":\"BoxZoomTool\"},{\"attributes\":{\"callback\":null,\"column_names\":[\"y\",\"x\"],\"data\":{\"x\":[0.30901699437494745],\"y\":[0.9510565162951535]}},\"id\":\"67f84d6f-886f-445b-8ac0-65b3838800f8\",\"type\":\"ColumnDataSource\"},{\"attributes\":{\"callback\":null,\"column_names\":[\"y\",\"x\"],\"data\":{\"x\":[-0.8090169943749473],\"y\":[0.5877852522924732]}},\"id\":\"680ae401-96cc-408c-af76-e02adebfd114\",\"type\":\"ColumnDataSource\"},{\"attributes\":{\"line_color\":{\"value\":\"#1f77b4\"},\"x\":{\"field\":\"x\"},\"y\":{\"field\":\"y\"}},\"id\":\"afa0a29b-84fd-4af9-adc5-4dc10884a533\",\"type\":\"Line\"},{\"attributes\":{\"dimension\":1,\"plot\":{\"id\":\"bfbd5caa-a6ee-4440-b726-11cfa902c456\",\"subtype\":\"Figure\",\"type\":\"Plot\"},\"ticker\":{\"id\":\"9a1460cb-67c1-4cb3-9000-d4e3e6d3e457\",\"type\":\"BasicTicker\"}},\"id\":\"9157bdf6-5be6-4326-9d38-51e8569f1156\",\"type\":\"Grid\"},{\"attributes\":{\"data_source\":{\"id\":\"1861497c-bc33-48c2-a431-50e573d8af42\",\"type\":\"ColumnDataSource\"},\"glyph\":{\"id\":\"b89f7b64-2642-4240-9807-c5365786beb6\",\"type\":\"Circle\"},\"hover_glyph\":null,\"nonselection_glyph\":{\"id\":\"4939a472-a073-43cc-91fa-ee08d1cd125b\",\"type\":\"Circle\"},\"selection_glyph\":null},\"id\":\"2f204724-0054-4979-bcf4-f5a9123e6b93\",\"type\":\"GlyphRenderer\"},{\"attributes\":{},\"id\":\"dd379cc4-8ccc-4a97-a47c-b6a08a855cf9\",\"type\":\"BasicTickFormatter\"},{\"attributes\":{\"callback\":null,\"column_names\":[\"y\",\"x\"],\"data\":{\"x\":[-0.8090169943749473,-0.8090169943749476],\"y\":[0.5877852522924732,-0.587785252292473]}},\"id\":\"28587dcc-841b-493d-84d9-a4c7266d4d6d\",\"type\":\"ColumnDataSource\"},{\"attributes\":{\"fill_color\":{\"value\":\"#1f77b4\"},\"line_color\":{\"value\":\"#1f77b4\"},\"radius\":{\"units\":\"data\",\"value\":0.05},\"x\":{\"field\":\"x\"},\"y\":{\"field\":\"y\"}},\"id\":\"3ae5b0d6-11c4-4eb7-8021-a6b6a9488941\",\"type\":\"Circle\"},{\"attributes\":{\"fill_color\":{\"value\":\"#1f77b4\"},\"line_color\":{\"value\":\"#1f77b4\"},\"radius\":{\"units\":\"data\",\"value\":0.05},\"x\":{\"field\":\"x\"},\"y\":{\"field\":\"y\"}},\"id\":\"64a643e3-0db4-440d-a7cb-42703445f509\",\"type\":\"Circle\"},{\"attributes\":{\"data_source\":{\"id\":\"daa05e40-64e6-416c-898a-8fec74b2a962\",\"type\":\"ColumnDataSource\"},\"glyph\":{\"id\":\"6ae80aaf-4670-44ad-80bc-b244ff9bdf04\",\"type\":\"Circle\"},\"hover_glyph\":null,\"nonselection_glyph\":{\"id\":\"64b7e721-492b-4e16-92ea-f19400bfb68e\",\"type\":\"Circle\"},\"selection_glyph\":null},\"id\":\"55a38b6e-f1b6-4a10-8f91-e88af413353e\",\"type\":\"GlyphRenderer\"},{\"attributes\":{\"plot\":{\"id\":\"bfbd5caa-a6ee-4440-b726-11cfa902c456\",\"subtype\":\"Figure\",\"type\":\"Plot\"}},\"id\":\"995be025-fc40-418f-8cb3-30a49a2d55c1\",\"type\":\"ResetTool\"},{\"attributes\":{\"formatter\":{\"id\":\"dd379cc4-8ccc-4a97-a47c-b6a08a855cf9\",\"type\":\"BasicTickFormatter\"},\"plot\":{\"id\":\"bfbd5caa-a6ee-4440-b726-11cfa902c456\",\"subtype\":\"Figure\",\"type\":\"Plot\"},\"ticker\":{\"id\":\"75580f8e-4527-4846-98aa-26318c52b99a\",\"type\":\"BasicTicker\"}},\"id\":\"0030fd2b-fe2a-473b-ada0-78d73f3e48dd\",\"type\":\"LinearAxis\"},{\"attributes\":{},\"id\":\"d8fe89e0-f411-4205-b377-ec4a18c2ccbe\",\"type\":\"ToolEvents\"},{\"attributes\":{\"plot\":null,\"text\":null},\"id\":\"a659a6a1-644d-4a53-b6d2-9088411187a2\",\"type\":\"Title\"},{\"attributes\":{\"line_alpha\":{\"value\":0.1},\"line_color\":{\"value\":\"#1f77b4\"},\"x\":{\"field\":\"x\"},\"y\":{\"field\":\"y\"}},\"id\":\"f0cc6374-3d2b-4238-92bb-5c683c7cd282\",\"type\":\"Line\"},{\"attributes\":{\"callback\":null,\"end\":1.1,\"start\":-1.1},\"id\":\"9a69a7ee-64c0-4603-a927-1d5e0fb96572\",\"type\":\"Range1d\"},{\"attributes\":{\"line_alpha\":{\"value\":0.1},\"line_color\":{\"value\":\"#1f77b4\"},\"x\":{\"field\":\"x\"},\"y\":{\"field\":\"y\"}},\"id\":\"205a463a-8650-48de-aa16-bdda27d0c566\",\"type\":\"Line\"},{\"attributes\":{\"plot\":{\"id\":\"bfbd5caa-a6ee-4440-b726-11cfa902c456\",\"subtype\":\"Figure\",\"type\":\"Plot\"}},\"id\":\"c2e62482-d2f9-40b9-869d-7f65c6c7d858\",\"type\":\"PanTool\"},{\"attributes\":{\"fill_color\":{\"value\":\"#1f77b4\"},\"line_color\":{\"value\":\"#1f77b4\"},\"radius\":{\"units\":\"data\",\"value\":0.05},\"x\":{\"field\":\"x\"},\"y\":{\"field\":\"y\"}},\"id\":\"5144f8d9-a367-4f83-9e3a-23d79ec10cc5\",\"type\":\"Circle\"},{\"attributes\":{\"fill_alpha\":{\"value\":0.1},\"fill_color\":{\"value\":\"#1f77b4\"},\"line_alpha\":{\"value\":0.1},\"line_color\":{\"value\":\"#1f77b4\"},\"radius\":{\"units\":\"data\",\"value\":0.05},\"x\":{\"field\":\"x\"},\"y\":{\"field\":\"y\"}},\"id\":\"a9e5cb91-9956-41d5-b422-ffec0052c2b5\",\"type\":\"Circle\"},{\"attributes\":{\"data_source\":{\"id\":\"67f84d6f-886f-445b-8ac0-65b3838800f8\",\"type\":\"ColumnDataSource\"},\"glyph\":{\"id\":\"64a643e3-0db4-440d-a7cb-42703445f509\",\"type\":\"Circle\"},\"hover_glyph\":null,\"nonselection_glyph\":{\"id\":\"f21c9b48-3869-40c7-bb23-fddb78bceddf\",\"type\":\"Circle\"},\"selection_glyph\":null},\"id\":\"1dbd5edf-7349-45f6-b6d0-ceb0b08cdb89\",\"type\":\"GlyphRenderer\"},{\"attributes\":{\"line_alpha\":{\"value\":0.1},\"line_color\":{\"value\":\"#1f77b4\"},\"x\":{\"field\":\"x\"},\"y\":{\"field\":\"y\"}},\"id\":\"44aef7bd-97df-4d71-8661-0446c319a4b9\",\"type\":\"Line\"},{\"attributes\":{\"plot\":{\"id\":\"bfbd5caa-a6ee-4440-b726-11cfa902c456\",\"subtype\":\"Figure\",\"type\":\"Plot\"},\"ticker\":{\"id\":\"75580f8e-4527-4846-98aa-26318c52b99a\",\"type\":\"BasicTicker\"}},\"id\":\"0f4f949d-d65e-414a-bc84-134c5569c1ea\",\"type\":\"Grid\"},{\"attributes\":{\"line_color\":{\"value\":\"#1f77b4\"},\"x\":{\"field\":\"x\"},\"y\":{\"field\":\"y\"}},\"id\":\"bef119fa-4634-427c-9889-2cb123a388f7\",\"type\":\"Line\"},{\"attributes\":{\"fill_alpha\":{\"value\":0.1},\"fill_color\":{\"value\":\"#1f77b4\"},\"line_alpha\":{\"value\":0.1},\"line_color\":{\"value\":\"#1f77b4\"},\"radius\":{\"units\":\"data\",\"value\":0.05},\"x\":{\"field\":\"x\"},\"y\":{\"field\":\"y\"}},\"id\":\"f21c9b48-3869-40c7-bb23-fddb78bceddf\",\"type\":\"Circle\"},{\"attributes\":{\"callback\":null,\"end\":1.1,\"start\":-1.1},\"id\":\"d8272963-e3e3-4a43-abce-f1ac09038828\",\"type\":\"Range1d\"},{\"attributes\":{\"callback\":null,\"column_names\":[\"y\",\"x\"],\"data\":{\"x\":[1.0],\"y\":[0.0]}},\"id\":\"1861497c-bc33-48c2-a431-50e573d8af42\",\"type\":\"ColumnDataSource\"},{\"attributes\":{},\"id\":\"9a1460cb-67c1-4cb3-9000-d4e3e6d3e457\",\"type\":\"BasicTicker\"},{\"attributes\":{\"line_color\":{\"value\":\"#1f77b4\"},\"x\":{\"field\":\"x\"},\"y\":{\"field\":\"y\"}},\"id\":\"ddcf6c27-71bf-46fa-a90b-c55eb48091e2\",\"type\":\"Line\"},{\"attributes\":{\"data_source\":{\"id\":\"bcc2d443-3331-4f2a-9a3e-fd5bc2b48ccf\",\"type\":\"ColumnDataSource\"},\"glyph\":{\"id\":\"ddcf6c27-71bf-46fa-a90b-c55eb48091e2\",\"type\":\"Line\"},\"hover_glyph\":null,\"nonselection_glyph\":{\"id\":\"f0cc6374-3d2b-4238-92bb-5c683c7cd282\",\"type\":\"Line\"},\"selection_glyph\":null},\"id\":\"98cce521-37be-4bfa-8172-d1e7de8a33a7\",\"type\":\"GlyphRenderer\"},{\"attributes\":{\"data_source\":{\"id\":\"5440b571-a645-4d87-9dcc-7d27cd0478f1\",\"type\":\"ColumnDataSource\"},\"glyph\":{\"id\":\"afa0a29b-84fd-4af9-adc5-4dc10884a533\",\"type\":\"Line\"},\"hover_glyph\":null,\"nonselection_glyph\":{\"id\":\"428b23eb-961e-4d74-8b36-9d7c255f2dd2\",\"type\":\"Line\"},\"selection_glyph\":null},\"id\":\"68c700c3-5b1e-47bc-9bcd-a5cc906fb4dc\",\"type\":\"GlyphRenderer\"},{\"attributes\":{\"data_source\":{\"id\":\"680ae401-96cc-408c-af76-e02adebfd114\",\"type\":\"ColumnDataSource\"},\"glyph\":{\"id\":\"5144f8d9-a367-4f83-9e3a-23d79ec10cc5\",\"type\":\"Circle\"},\"hover_glyph\":null,\"nonselection_glyph\":{\"id\":\"a9e5cb91-9956-41d5-b422-ffec0052c2b5\",\"type\":\"Circle\"},\"selection_glyph\":null},\"id\":\"153acbf5-66ba-4e93-a3b3-fb8158f0a493\",\"type\":\"GlyphRenderer\"},{\"attributes\":{\"plot\":{\"id\":\"bfbd5caa-a6ee-4440-b726-11cfa902c456\",\"subtype\":\"Figure\",\"type\":\"Plot\"}},\"id\":\"2bc563e9-46cf-4d3e-9f55-34a68578c1b6\",\"type\":\"WheelZoomTool\"},{\"attributes\":{\"plot\":{\"id\":\"bfbd5caa-a6ee-4440-b726-11cfa902c456\",\"subtype\":\"Figure\",\"type\":\"Plot\"}},\"id\":\"a95daca8-610e-4ab4-8403-a15f2a68033d\",\"type\":\"HelpTool\"},{\"attributes\":{\"callback\":null,\"column_names\":[\"y\",\"x\"],\"data\":{\"x\":[0.30901699437494723],\"y\":[-0.9510565162951536]}},\"id\":\"85b548bc-2624-4b68-ab04-74e561902fb2\",\"type\":\"ColumnDataSource\"},{\"attributes\":{\"bottom_units\":\"screen\",\"fill_alpha\":{\"value\":0.5},\"fill_color\":{\"value\":\"lightgrey\"},\"left_units\":\"screen\",\"level\":\"overlay\",\"line_alpha\":{\"value\":1.0},\"line_color\":{\"value\":\"black\"},\"line_dash\":[4,4],\"line_width\":{\"value\":2},\"plot\":null,\"render_mode\":\"css\",\"right_units\":\"screen\",\"top_units\":\"screen\"},\"id\":\"205aaeaa-540d-43f1-85db-a2006cd57075\",\"type\":\"BoxAnnotation\"},{\"attributes\":{\"callback\":null,\"column_names\":[\"y\",\"x\"],\"data\":{\"x\":[0.30901699437494745,-0.8090169943749473],\"y\":[0.9510565162951535,0.5877852522924732]}},\"id\":\"bcc2d443-3331-4f2a-9a3e-fd5bc2b48ccf\",\"type\":\"ColumnDataSource\"},{\"attributes\":{\"below\":[{\"id\":\"0030fd2b-fe2a-473b-ada0-78d73f3e48dd\",\"type\":\"LinearAxis\"}],\"left\":[{\"id\":\"be0ca842-78fc-4ad6-9d44-ead2f3759d1e\",\"type\":\"LinearAxis\"}],\"plot_height\":400,\"plot_width\":400,\"renderers\":[{\"id\":\"0030fd2b-fe2a-473b-ada0-78d73f3e48dd\",\"type\":\"LinearAxis\"},{\"id\":\"0f4f949d-d65e-414a-bc84-134c5569c1ea\",\"type\":\"Grid\"},{\"id\":\"be0ca842-78fc-4ad6-9d44-ead2f3759d1e\",\"type\":\"LinearAxis\"},{\"id\":\"9157bdf6-5be6-4326-9d38-51e8569f1156\",\"type\":\"Grid\"},{\"id\":\"205aaeaa-540d-43f1-85db-a2006cd57075\",\"type\":\"BoxAnnotation\"},{\"id\":\"68c700c3-5b1e-47bc-9bcd-a5cc906fb4dc\",\"type\":\"GlyphRenderer\"},{\"id\":\"98cce521-37be-4bfa-8172-d1e7de8a33a7\",\"type\":\"GlyphRenderer\"},{\"id\":\"abc72ec7-d50b-4519-890a-e5a8111d3eb4\",\"type\":\"GlyphRenderer\"},{\"id\":\"f33d61be-4b4c-4b8e-985f-a3798a8692fb\",\"type\":\"GlyphRenderer\"},{\"id\":\"2f204724-0054-4979-bcf4-f5a9123e6b93\",\"type\":\"GlyphRenderer\"},{\"id\":\"1dbd5edf-7349-45f6-b6d0-ceb0b08cdb89\",\"type\":\"GlyphRenderer\"},{\"id\":\"153acbf5-66ba-4e93-a3b3-fb8158f0a493\",\"type\":\"GlyphRenderer\"},{\"id\":\"55a38b6e-f1b6-4a10-8f91-e88af413353e\",\"type\":\"GlyphRenderer\"},{\"id\":\"0a10e4e2-c606-49c2-8614-c555e08bfa56\",\"type\":\"GlyphRenderer\"}],\"title\":{\"id\":\"a659a6a1-644d-4a53-b6d2-9088411187a2\",\"type\":\"Title\"},\"tool_events\":{\"id\":\"d8fe89e0-f411-4205-b377-ec4a18c2ccbe\",\"type\":\"ToolEvents\"},\"toolbar\":{\"id\":\"19955256-15fb-4a68-81b2-dab4eaeb6ab4\",\"type\":\"Toolbar\"},\"x_range\":{\"id\":\"9a69a7ee-64c0-4603-a927-1d5e0fb96572\",\"type\":\"Range1d\"},\"y_range\":{\"id\":\"d8272963-e3e3-4a43-abce-f1ac09038828\",\"type\":\"Range1d\"}},\"id\":\"bfbd5caa-a6ee-4440-b726-11cfa902c456\",\"subtype\":\"Figure\",\"type\":\"Plot\"},{\"attributes\":{\"line_alpha\":{\"value\":0.1},\"line_color\":{\"value\":\"#1f77b4\"},\"x\":{\"field\":\"x\"},\"y\":{\"field\":\"y\"}},\"id\":\"428b23eb-961e-4d74-8b36-9d7c255f2dd2\",\"type\":\"Line\"},{\"attributes\":{\"line_color\":{\"value\":\"#1f77b4\"},\"x\":{\"field\":\"x\"},\"y\":{\"field\":\"y\"}},\"id\":\"7d651aa2-3a89-4397-bb62-92482ea80e32\",\"type\":\"Line\"},{\"attributes\":{\"formatter\":{\"id\":\"178ead07-dd13-4ba3-a7b1-3fcca73c3381\",\"type\":\"BasicTickFormatter\"},\"plot\":{\"id\":\"bfbd5caa-a6ee-4440-b726-11cfa902c456\",\"subtype\":\"Figure\",\"type\":\"Plot\"},\"ticker\":{\"id\":\"9a1460cb-67c1-4cb3-9000-d4e3e6d3e457\",\"type\":\"BasicTicker\"}},\"id\":\"be0ca842-78fc-4ad6-9d44-ead2f3759d1e\",\"type\":\"LinearAxis\"},{\"attributes\":{},\"id\":\"75580f8e-4527-4846-98aa-26318c52b99a\",\"type\":\"BasicTicker\"},{\"attributes\":{\"callback\":null,\"column_names\":[\"y\",\"x\"],\"data\":{\"x\":[-0.8090169943749476,0.30901699437494723],\"y\":[-0.587785252292473,-0.9510565162951536]}},\"id\":\"5598e1e4-1c00-4e2d-b3be-7b63628e61df\",\"type\":\"ColumnDataSource\"},{\"attributes\":{\"active_drag\":\"auto\",\"active_scroll\":\"auto\",\"active_tap\":\"auto\",\"tools\":[{\"id\":\"c2e62482-d2f9-40b9-869d-7f65c6c7d858\",\"type\":\"PanTool\"},{\"id\":\"2bc563e9-46cf-4d3e-9f55-34a68578c1b6\",\"type\":\"WheelZoomTool\"},{\"id\":\"64f54e04-1258-4357-9931-1dff392399d3\",\"type\":\"BoxZoomTool\"},{\"id\":\"e18d33e5-9335-4fb0-b274-24c5f9064a74\",\"type\":\"SaveTool\"},{\"id\":\"995be025-fc40-418f-8cb3-30a49a2d55c1\",\"type\":\"ResetTool\"},{\"id\":\"a95daca8-610e-4ab4-8403-a15f2a68033d\",\"type\":\"HelpTool\"}]},\"id\":\"19955256-15fb-4a68-81b2-dab4eaeb6ab4\",\"type\":\"Toolbar\"},{\"attributes\":{\"callback\":null,\"column_names\":[\"y\",\"x\"],\"data\":{\"x\":[1.0,0.30901699437494745],\"y\":[0.0,0.9510565162951535]}},\"id\":\"5440b571-a645-4d87-9dcc-7d27cd0478f1\",\"type\":\"ColumnDataSource\"},{\"attributes\":{\"fill_color\":{\"value\":\"#1f77b4\"},\"line_color\":{\"value\":\"#1f77b4\"},\"radius\":{\"units\":\"data\",\"value\":0.05},\"x\":{\"field\":\"x\"},\"y\":{\"field\":\"y\"}},\"id\":\"b89f7b64-2642-4240-9807-c5365786beb6\",\"type\":\"Circle\"},{\"attributes\":{\"data_source\":{\"id\":\"85b548bc-2624-4b68-ab04-74e561902fb2\",\"type\":\"ColumnDataSource\"},\"glyph\":{\"id\":\"3ae5b0d6-11c4-4eb7-8021-a6b6a9488941\",\"type\":\"Circle\"},\"hover_glyph\":null,\"nonselection_glyph\":{\"id\":\"929747a7-e50c-4031-8c4c-90bfc5c6a7c7\",\"type\":\"Circle\"},\"selection_glyph\":null},\"id\":\"0a10e4e2-c606-49c2-8614-c555e08bfa56\",\"type\":\"GlyphRenderer\"},{\"attributes\":{\"fill_alpha\":{\"value\":0.1},\"fill_color\":{\"value\":\"#1f77b4\"},\"line_alpha\":{\"value\":0.1},\"line_color\":{\"value\":\"#1f77b4\"},\"radius\":{\"units\":\"data\",\"value\":0.05},\"x\":{\"field\":\"x\"},\"y\":{\"field\":\"y\"}},\"id\":\"4939a472-a073-43cc-91fa-ee08d1cd125b\",\"type\":\"Circle\"},{\"attributes\":{\"callback\":null,\"column_names\":[\"y\",\"x\"],\"data\":{\"x\":[-0.8090169943749476],\"y\":[-0.587785252292473]}},\"id\":\"daa05e40-64e6-416c-898a-8fec74b2a962\",\"type\":\"ColumnDataSource\"},{\"attributes\":{\"fill_color\":{\"value\":\"#1f77b4\"},\"line_color\":{\"value\":\"#1f77b4\"},\"radius\":{\"units\":\"data\",\"value\":0.05},\"x\":{\"field\":\"x\"},\"y\":{\"field\":\"y\"}},\"id\":\"6ae80aaf-4670-44ad-80bc-b244ff9bdf04\",\"type\":\"Circle\"},{\"attributes\":{\"fill_alpha\":{\"value\":0.1},\"fill_color\":{\"value\":\"#1f77b4\"},\"line_alpha\":{\"value\":0.1},\"line_color\":{\"value\":\"#1f77b4\"},\"radius\":{\"units\":\"data\",\"value\":0.05},\"x\":{\"field\":\"x\"},\"y\":{\"field\":\"y\"}},\"id\":\"929747a7-e50c-4031-8c4c-90bfc5c6a7c7\",\"type\":\"Circle\"},{\"attributes\":{\"plot\":{\"id\":\"bfbd5caa-a6ee-4440-b726-11cfa902c456\",\"subtype\":\"Figure\",\"type\":\"Plot\"}},\"id\":\"e18d33e5-9335-4fb0-b274-24c5f9064a74\",\"type\":\"SaveTool\"},{\"attributes\":{\"data_source\":{\"id\":\"28587dcc-841b-493d-84d9-a4c7266d4d6d\",\"type\":\"ColumnDataSource\"},\"glyph\":{\"id\":\"bef119fa-4634-427c-9889-2cb123a388f7\",\"type\":\"Line\"},\"hover_glyph\":null,\"nonselection_glyph\":{\"id\":\"205a463a-8650-48de-aa16-bdda27d0c566\",\"type\":\"Line\"},\"selection_glyph\":null},\"id\":\"abc72ec7-d50b-4519-890a-e5a8111d3eb4\",\"type\":\"GlyphRenderer\"},{\"attributes\":{\"fill_alpha\":{\"value\":0.1},\"fill_color\":{\"value\":\"#1f77b4\"},\"line_alpha\":{\"value\":0.1},\"line_color\":{\"value\":\"#1f77b4\"},\"radius\":{\"units\":\"data\",\"value\":0.05},\"x\":{\"field\":\"x\"},\"y\":{\"field\":\"y\"}},\"id\":\"64b7e721-492b-4e16-92ea-f19400bfb68e\",\"type\":\"Circle\"},{\"attributes\":{\"data_source\":{\"id\":\"5598e1e4-1c00-4e2d-b3be-7b63628e61df\",\"type\":\"ColumnDataSource\"},\"glyph\":{\"id\":\"7d651aa2-3a89-4397-bb62-92482ea80e32\",\"type\":\"Line\"},\"hover_glyph\":null,\"nonselection_glyph\":{\"id\":\"44aef7bd-97df-4d71-8661-0446c319a4b9\",\"type\":\"Line\"},\"selection_glyph\":null},\"id\":\"f33d61be-4b4c-4b8e-985f-a3798a8692fb\",\"type\":\"GlyphRenderer\"},{\"attributes\":{},\"id\":\"178ead07-dd13-4ba3-a7b1-3fcca73c3381\",\"type\":\"BasicTickFormatter\"}],\"root_ids\":[\"bfbd5caa-a6ee-4440-b726-11cfa902c456\"]},\"title\":\"Bokeh Application\",\"version\":\"0.12.3\"}};\n",
       "            var render_items = [{\"docid\":\"085b3774-3dc1-4333-bb02-221792782ef1\",\"elementid\":\"21837d9c-791c-42b0-8fc5-42851e485a63\",\"modelid\":\"bfbd5caa-a6ee-4440-b726-11cfa902c456\"}];\n",
       "            \n",
       "            Bokeh.embed.embed_items(docs_json, render_items);\n",
       "        });\n",
       "      },\n",
       "      function(Bokeh) {\n",
       "      }\n",
       "    ];\n",
       "  \n",
       "    function run_inline_js() {\n",
       "      \n",
       "      if ((window.Bokeh !== undefined) || (force === \"1\")) {\n",
       "        for (var i = 0; i < inline_js.length; i++) {\n",
       "          inline_js[i](window.Bokeh);\n",
       "        }if (force === \"1\") {\n",
       "          display_loaded();\n",
       "        }} else if (Date.now() < window._bokeh_timeout) {\n",
       "        setTimeout(run_inline_js, 100);\n",
       "      } else if (!window._bokeh_failed_load) {\n",
       "        console.log(\"Bokeh: BokehJS failed to load within specified timeout.\");\n",
       "        window._bokeh_failed_load = true;\n",
       "      } else if (!force) {\n",
       "        var cell = $(\"#21837d9c-791c-42b0-8fc5-42851e485a63\").parents('.cell').data().cell;\n",
       "        cell.output_area.append_execute_result(NB_LOAD_WARNING)\n",
       "      }\n",
       "  \n",
       "    }\n",
       "  \n",
       "    if (window._bokeh_is_loading === 0) {\n",
       "      console.log(\"Bokeh: BokehJS loaded, going straight to plotting\");\n",
       "      run_inline_js();\n",
       "    } else {\n",
       "      load_libs(js_urls, function() {\n",
       "        console.log(\"Bokeh: BokehJS plotting callback run at\", now());\n",
       "        run_inline_js();\n",
       "      });\n",
       "    }\n",
       "  }(this));\n",
       "</script>"
      ]
     },
     "metadata": {},
     "output_type": "display_data"
    }
   ],
   "source": [
    "pts = nx.shell_layout(G)\n",
    "p = figure(\n",
    "    x_range = (-1.1,1.1),\n",
    "    y_range = (-1.1,1.1),\n",
    "    height= 400,\n",
    "    width= 400,\n",
    ")\n",
    "for edge in G.edges():\n",
    "    p.line( \n",
    "        x= [pts[pt][0] for pt in edge],\n",
    "        y= [pts[pt][1] for pt in edge],\n",
    "    )\n",
    "\n",
    "for node in G.nodes():\n",
    "    p.circle( \n",
    "        x= [pts[node][0]],\n",
    "        y= [pts[node][1]],\n",
    "        radius=.05\n",
    "    )\n",
    "show(p)"
   ]
  },
  {
   "cell_type": "markdown",
   "metadata": {},
   "source": [
    "## Spring Layout"
   ]
  },
  {
   "cell_type": "code",
   "execution_count": 27,
   "metadata": {
    "collapsed": false
   },
   "outputs": [
    {
     "data": {
      "text/html": [
       "\n",
       "\n",
       "    <div class=\"bk-root\">\n",
       "        <div class=\"plotdiv\" id=\"e650d680-e628-4d7a-a4dd-e14779f6a296\"></div>\n",
       "    </div>\n",
       "<script type=\"text/javascript\">\n",
       "  \n",
       "  (function(global) {\n",
       "    function now() {\n",
       "      return new Date();\n",
       "    }\n",
       "  \n",
       "    var force = \"\";\n",
       "  \n",
       "    if (typeof (window._bokeh_onload_callbacks) === \"undefined\" || force !== \"\") {\n",
       "      window._bokeh_onload_callbacks = [];\n",
       "      window._bokeh_is_loading = undefined;\n",
       "    }\n",
       "  \n",
       "  \n",
       "    \n",
       "    if (typeof (window._bokeh_timeout) === \"undefined\" || force !== \"\") {\n",
       "      window._bokeh_timeout = Date.now() + 0;\n",
       "      window._bokeh_failed_load = false;\n",
       "    }\n",
       "  \n",
       "    var NB_LOAD_WARNING = {'data': {'text/html':\n",
       "       \"<div style='background-color: #fdd'>\\n\"+\n",
       "       \"<p>\\n\"+\n",
       "       \"BokehJS does not appear to have successfully loaded. If loading BokehJS from CDN, this \\n\"+\n",
       "       \"may be due to a slow or bad network connection. Possible fixes:\\n\"+\n",
       "       \"</p>\\n\"+\n",
       "       \"<ul>\\n\"+\n",
       "       \"<li>re-rerun `output_notebook()` to attempt to load from CDN again, or</li>\\n\"+\n",
       "       \"<li>use INLINE resources instead, as so:</li>\\n\"+\n",
       "       \"</ul>\\n\"+\n",
       "       \"<code>\\n\"+\n",
       "       \"from bokeh.resources import INLINE\\n\"+\n",
       "       \"output_notebook(resources=INLINE)\\n\"+\n",
       "       \"</code>\\n\"+\n",
       "       \"</div>\"}};\n",
       "  \n",
       "    function display_loaded() {\n",
       "      if (window.Bokeh !== undefined) {\n",
       "        Bokeh.$(\"#e650d680-e628-4d7a-a4dd-e14779f6a296\").text(\"BokehJS successfully loaded.\");\n",
       "      } else if (Date.now() < window._bokeh_timeout) {\n",
       "        setTimeout(display_loaded, 100)\n",
       "      }\n",
       "    }\n",
       "  \n",
       "    function run_callbacks() {\n",
       "      window._bokeh_onload_callbacks.forEach(function(callback) { callback() });\n",
       "      delete window._bokeh_onload_callbacks\n",
       "      console.info(\"Bokeh: all callbacks have finished\");\n",
       "    }\n",
       "  \n",
       "    function load_libs(js_urls, callback) {\n",
       "      window._bokeh_onload_callbacks.push(callback);\n",
       "      if (window._bokeh_is_loading > 0) {\n",
       "        console.log(\"Bokeh: BokehJS is being loaded, scheduling callback at\", now());\n",
       "        return null;\n",
       "      }\n",
       "      if (js_urls == null || js_urls.length === 0) {\n",
       "        run_callbacks();\n",
       "        return null;\n",
       "      }\n",
       "      console.log(\"Bokeh: BokehJS not loaded, scheduling load and callback at\", now());\n",
       "      window._bokeh_is_loading = js_urls.length;\n",
       "      for (var i = 0; i < js_urls.length; i++) {\n",
       "        var url = js_urls[i];\n",
       "        var s = document.createElement('script');\n",
       "        s.src = url;\n",
       "        s.async = false;\n",
       "        s.onreadystatechange = s.onload = function() {\n",
       "          window._bokeh_is_loading--;\n",
       "          if (window._bokeh_is_loading === 0) {\n",
       "            console.log(\"Bokeh: all BokehJS libraries loaded\");\n",
       "            run_callbacks()\n",
       "          }\n",
       "        };\n",
       "        s.onerror = function() {\n",
       "          console.warn(\"failed to load library \" + url);\n",
       "        };\n",
       "        console.log(\"Bokeh: injecting script tag for BokehJS library: \", url);\n",
       "        document.getElementsByTagName(\"head\")[0].appendChild(s);\n",
       "      }\n",
       "    };var element = document.getElementById(\"e650d680-e628-4d7a-a4dd-e14779f6a296\");\n",
       "    if (element == null) {\n",
       "      console.log(\"Bokeh: ERROR: autoload.js configured with elementid 'e650d680-e628-4d7a-a4dd-e14779f6a296' but no matching script tag was found. \")\n",
       "      return false;\n",
       "    }\n",
       "  \n",
       "    var js_urls = [];\n",
       "  \n",
       "    var inline_js = [\n",
       "      function(Bokeh) {\n",
       "        Bokeh.$(function() {\n",
       "            var docs_json = {\"5edba638-ad19-4516-b961-c5bde64fd0b9\":{\"roots\":{\"references\":[{\"attributes\":{\"fill_color\":{\"value\":\"#1f77b4\"},\"line_color\":{\"value\":\"#1f77b4\"},\"radius\":{\"units\":\"data\",\"value\":0.05},\"x\":{\"field\":\"x\"},\"y\":{\"field\":\"y\"}},\"id\":\"54e7f005-6d71-4205-93b9-77e75df5a248\",\"type\":\"Circle\"},{\"attributes\":{\"line_alpha\":{\"value\":0.1},\"line_color\":{\"value\":\"#1f77b4\"},\"x\":{\"field\":\"x\"},\"y\":{\"field\":\"y\"}},\"id\":\"ac54ddb0-b336-408b-b3a2-dbb470a1b39c\",\"type\":\"Line\"},{\"attributes\":{\"dimension\":1,\"plot\":{\"id\":\"fea63aba-95a3-4758-a51f-e3a867474751\",\"subtype\":\"Figure\",\"type\":\"Plot\"},\"ticker\":{\"id\":\"c141aade-4c98-4a26-85c5-5a25a7ba9aed\",\"type\":\"BasicTicker\"}},\"id\":\"e32e44a8-0f7c-457d-80d8-060ea216e282\",\"type\":\"Grid\"},{\"attributes\":{\"fill_color\":{\"value\":\"#1f77b4\"},\"line_color\":{\"value\":\"#1f77b4\"},\"radius\":{\"units\":\"data\",\"value\":0.05},\"x\":{\"field\":\"x\"},\"y\":{\"field\":\"y\"}},\"id\":\"86d1b574-7ec4-458e-97d2-5cda1fb2ec8a\",\"type\":\"Circle\"},{\"attributes\":{\"callback\":null,\"column_names\":[\"y\",\"x\"],\"data\":{\"x\":[0.5595841994847169,1.0],\"y\":[0.7531255236081266,0.40504579445368794]}},\"id\":\"c6259c23-9f7a-4210-b24c-b9cdfa5bbd92\",\"type\":\"ColumnDataSource\"},{\"attributes\":{\"fill_alpha\":{\"value\":0.1},\"fill_color\":{\"value\":\"#1f77b4\"},\"line_alpha\":{\"value\":0.1},\"line_color\":{\"value\":\"#1f77b4\"},\"radius\":{\"units\":\"data\",\"value\":0.05},\"x\":{\"field\":\"x\"},\"y\":{\"field\":\"y\"}},\"id\":\"8f2f969e-0d53-4147-9a28-14be35fdb2b3\",\"type\":\"Circle\"},{\"attributes\":{\"fill_alpha\":{\"value\":0.1},\"fill_color\":{\"value\":\"#1f77b4\"},\"line_alpha\":{\"value\":0.1},\"line_color\":{\"value\":\"#1f77b4\"},\"radius\":{\"units\":\"data\",\"value\":0.05},\"x\":{\"field\":\"x\"},\"y\":{\"field\":\"y\"}},\"id\":\"5d778614-8d2c-4249-aa0c-d3f4c744a8ab\",\"type\":\"Circle\"},{\"attributes\":{\"plot\":{\"id\":\"fea63aba-95a3-4758-a51f-e3a867474751\",\"subtype\":\"Figure\",\"type\":\"Plot\"}},\"id\":\"5537ae4f-8b17-4f8a-bbdd-c3c99ca73e18\",\"type\":\"ResetTool\"},{\"attributes\":{\"callback\":null,\"column_names\":[\"y\",\"x\"],\"data\":{\"x\":[1.0],\"y\":[0.40504579445368794]}},\"id\":\"8d0e9dab-78f7-4b05-aabe-9a643563d170\",\"type\":\"ColumnDataSource\"},{\"attributes\":{\"bottom_units\":\"screen\",\"fill_alpha\":{\"value\":0.5},\"fill_color\":{\"value\":\"lightgrey\"},\"left_units\":\"screen\",\"level\":\"overlay\",\"line_alpha\":{\"value\":1.0},\"line_color\":{\"value\":\"black\"},\"line_dash\":[4,4],\"line_width\":{\"value\":2},\"plot\":null,\"render_mode\":\"css\",\"right_units\":\"screen\",\"top_units\":\"screen\"},\"id\":\"8399983f-c41c-4d8c-aacf-f50222c9d05d\",\"type\":\"BoxAnnotation\"},{\"attributes\":{\"formatter\":{\"id\":\"c68f9bc8-454f-4f15-950f-08f2acd9d127\",\"type\":\"BasicTickFormatter\"},\"plot\":{\"id\":\"fea63aba-95a3-4758-a51f-e3a867474751\",\"subtype\":\"Figure\",\"type\":\"Plot\"},\"ticker\":{\"id\":\"c141aade-4c98-4a26-85c5-5a25a7ba9aed\",\"type\":\"BasicTicker\"}},\"id\":\"9086d22c-9bdf-463c-96b0-d6ee8d3814d1\",\"type\":\"LinearAxis\"},{\"attributes\":{\"line_color\":{\"value\":\"#1f77b4\"},\"x\":{\"field\":\"x\"},\"y\":{\"field\":\"y\"}},\"id\":\"2961adad-51ed-483e-a7c7-2472d2d888d6\",\"type\":\"Line\"},{\"attributes\":{\"active_drag\":\"auto\",\"active_scroll\":\"auto\",\"active_tap\":\"auto\",\"tools\":[{\"id\":\"1d6a8ecf-9c36-494d-af64-4221e284ad04\",\"type\":\"PanTool\"},{\"id\":\"fc2a73a7-648c-4f1a-9894-a3b3232674d7\",\"type\":\"WheelZoomTool\"},{\"id\":\"cad925ae-a7a3-4e45-ad77-5bdfdbf01347\",\"type\":\"BoxZoomTool\"},{\"id\":\"cfb7e5f0-292e-46a4-b771-240c50a408f5\",\"type\":\"SaveTool\"},{\"id\":\"5537ae4f-8b17-4f8a-bbdd-c3c99ca73e18\",\"type\":\"ResetTool\"},{\"id\":\"2661258c-fc45-4e0e-a995-b8e9bde7519e\",\"type\":\"HelpTool\"}]},\"id\":\"ee637c50-64b8-434a-a504-288798bec9aa\",\"type\":\"Toolbar\"},{\"attributes\":{\"data_source\":{\"id\":\"c6259c23-9f7a-4210-b24c-b9cdfa5bbd92\",\"type\":\"ColumnDataSource\"},\"glyph\":{\"id\":\"e3bf3f0b-b8cc-4e69-8943-7163bee6cf0c\",\"type\":\"Line\"},\"hover_glyph\":null,\"nonselection_glyph\":{\"id\":\"7a76c1c3-a5ee-4ee8-b49a-96e7a9177f01\",\"type\":\"Line\"},\"selection_glyph\":null},\"id\":\"69036f9d-fbf0-453a-a8ce-30072a30eda3\",\"type\":\"GlyphRenderer\"},{\"attributes\":{\"data_source\":{\"id\":\"c2f4a0d7-fc5f-4361-9ed5-839b99131684\",\"type\":\"ColumnDataSource\"},\"glyph\":{\"id\":\"e7978ea0-b15a-40c9-b2bd-20f395960267\",\"type\":\"Circle\"},\"hover_glyph\":null,\"nonselection_glyph\":{\"id\":\"5d778614-8d2c-4249-aa0c-d3f4c744a8ab\",\"type\":\"Circle\"},\"selection_glyph\":null},\"id\":\"243f6e44-ce20-4ced-b959-e57376a19f2f\",\"type\":\"GlyphRenderer\"},{\"attributes\":{\"plot\":{\"id\":\"fea63aba-95a3-4758-a51f-e3a867474751\",\"subtype\":\"Figure\",\"type\":\"Plot\"}},\"id\":\"1d6a8ecf-9c36-494d-af64-4221e284ad04\",\"type\":\"PanTool\"},{\"attributes\":{\"plot\":{\"id\":\"fea63aba-95a3-4758-a51f-e3a867474751\",\"subtype\":\"Figure\",\"type\":\"Plot\"}},\"id\":\"2661258c-fc45-4e0e-a995-b8e9bde7519e\",\"type\":\"HelpTool\"},{\"attributes\":{\"fill_color\":{\"value\":\"#1f77b4\"},\"line_color\":{\"value\":\"#1f77b4\"},\"radius\":{\"units\":\"data\",\"value\":0.05},\"x\":{\"field\":\"x\"},\"y\":{\"field\":\"y\"}},\"id\":\"5fee43ae-0c46-4354-831d-60d139784105\",\"type\":\"Circle\"},{\"attributes\":{\"plot\":{\"id\":\"fea63aba-95a3-4758-a51f-e3a867474751\",\"subtype\":\"Figure\",\"type\":\"Plot\"},\"ticker\":{\"id\":\"aca04eaf-f340-422b-8835-84a4b5bcabc0\",\"type\":\"BasicTicker\"}},\"id\":\"161d0da3-ef7d-4008-b8f2-86e022a154db\",\"type\":\"Grid\"},{\"attributes\":{},\"id\":\"aca04eaf-f340-422b-8835-84a4b5bcabc0\",\"type\":\"BasicTicker\"},{\"attributes\":{\"callback\":null,\"column_names\":[\"y\",\"x\"],\"data\":{\"x\":[0.7699235845660738],\"y\":[0.0]}},\"id\":\"c2f4a0d7-fc5f-4361-9ed5-839b99131684\",\"type\":\"ColumnDataSource\"},{\"attributes\":{},\"id\":\"7ad78d64-0e14-4c29-819f-bc297c928721\",\"type\":\"BasicTickFormatter\"},{\"attributes\":{},\"id\":\"cde95a3e-ca7d-4a3e-9f40-dbcb530867fe\",\"type\":\"ToolEvents\"},{\"attributes\":{\"callback\":null,\"column_names\":[\"y\",\"x\"],\"data\":{\"x\":[0.2924258446096363,0.5595841994847169],\"y\":[0.7596695691229235,0.7531255236081266]}},\"id\":\"d396e774-71c3-48c8-b4ff-6a85408464a5\",\"type\":\"ColumnDataSource\"},{\"attributes\":{\"callback\":null,\"column_names\":[\"y\",\"x\"],\"data\":{\"x\":[0.5595841994847169],\"y\":[0.7531255236081266]}},\"id\":\"ec258cc2-104f-42d7-a752-242646e60492\",\"type\":\"ColumnDataSource\"},{\"attributes\":{\"line_color\":{\"value\":\"#1f77b4\"},\"x\":{\"field\":\"x\"},\"y\":{\"field\":\"y\"}},\"id\":\"4a184b44-09f7-41d5-b4e7-3a9069f73958\",\"type\":\"Line\"},{\"attributes\":{\"data_source\":{\"id\":\"2581d511-8d56-4e5e-a869-4e3b22da3102\",\"type\":\"ColumnDataSource\"},\"glyph\":{\"id\":\"4a184b44-09f7-41d5-b4e7-3a9069f73958\",\"type\":\"Line\"},\"hover_glyph\":null,\"nonselection_glyph\":{\"id\":\"3d659d39-397b-40e9-bfcf-b13f8ac5334e\",\"type\":\"Line\"},\"selection_glyph\":null},\"id\":\"f372142c-79fe-4f74-9e23-244a066f349f\",\"type\":\"GlyphRenderer\"},{\"attributes\":{\"callback\":null,\"column_names\":[\"y\",\"x\"],\"data\":{\"x\":[1.0,0.7699235845660738],\"y\":[0.40504579445368794,0.0]}},\"id\":\"2581d511-8d56-4e5e-a869-4e3b22da3102\",\"type\":\"ColumnDataSource\"},{\"attributes\":{\"callback\":null,\"column_names\":[\"y\",\"x\"],\"data\":{\"x\":[0.2924258446096363],\"y\":[0.7596695691229235]}},\"id\":\"0ac4cbf9-9123-400c-9d1b-e8944ba65ea0\",\"type\":\"ColumnDataSource\"},{\"attributes\":{\"data_source\":{\"id\":\"4de7fd7e-6069-4dcd-b56a-e5b9b24b5290\",\"type\":\"ColumnDataSource\"},\"glyph\":{\"id\":\"54e7f005-6d71-4205-93b9-77e75df5a248\",\"type\":\"Circle\"},\"hover_glyph\":null,\"nonselection_glyph\":{\"id\":\"1d6c2b68-b53c-4c07-b198-bbccf4f4f995\",\"type\":\"Circle\"},\"selection_glyph\":null},\"id\":\"ddbb114d-5f9d-47a0-87da-c0302671eac5\",\"type\":\"GlyphRenderer\"},{\"attributes\":{\"below\":[{\"id\":\"744b0e9f-576d-499d-b54b-b28a0eb9e988\",\"type\":\"LinearAxis\"}],\"left\":[{\"id\":\"9086d22c-9bdf-463c-96b0-d6ee8d3814d1\",\"type\":\"LinearAxis\"}],\"plot_height\":400,\"plot_width\":400,\"renderers\":[{\"id\":\"744b0e9f-576d-499d-b54b-b28a0eb9e988\",\"type\":\"LinearAxis\"},{\"id\":\"161d0da3-ef7d-4008-b8f2-86e022a154db\",\"type\":\"Grid\"},{\"id\":\"9086d22c-9bdf-463c-96b0-d6ee8d3814d1\",\"type\":\"LinearAxis\"},{\"id\":\"e32e44a8-0f7c-457d-80d8-060ea216e282\",\"type\":\"Grid\"},{\"id\":\"8399983f-c41c-4d8c-aacf-f50222c9d05d\",\"type\":\"BoxAnnotation\"},{\"id\":\"2e9f0c3c-01f1-417b-8f70-4b7694835af3\",\"type\":\"GlyphRenderer\"},{\"id\":\"15ff7a45-e77b-4ac3-85cb-7530070cd8da\",\"type\":\"GlyphRenderer\"},{\"id\":\"69036f9d-fbf0-453a-a8ce-30072a30eda3\",\"type\":\"GlyphRenderer\"},{\"id\":\"f372142c-79fe-4f74-9e23-244a066f349f\",\"type\":\"GlyphRenderer\"},{\"id\":\"ddbb114d-5f9d-47a0-87da-c0302671eac5\",\"type\":\"GlyphRenderer\"},{\"id\":\"df97ff4e-8f9a-415d-b148-d82b642c273c\",\"type\":\"GlyphRenderer\"},{\"id\":\"46303cfa-50da-461b-a910-41cc78cbcb23\",\"type\":\"GlyphRenderer\"},{\"id\":\"05f01ad3-5586-422e-ace5-750429470cf4\",\"type\":\"GlyphRenderer\"},{\"id\":\"243f6e44-ce20-4ced-b959-e57376a19f2f\",\"type\":\"GlyphRenderer\"}],\"title\":{\"id\":\"b8630eb4-19e8-42c3-b86f-f5f2039872d5\",\"type\":\"Title\"},\"tool_events\":{\"id\":\"cde95a3e-ca7d-4a3e-9f40-dbcb530867fe\",\"type\":\"ToolEvents\"},\"toolbar\":{\"id\":\"ee637c50-64b8-434a-a504-288798bec9aa\",\"type\":\"Toolbar\"},\"x_range\":{\"id\":\"cf84aaec-defe-4c12-967d-417de11c598c\",\"type\":\"Range1d\"},\"y_range\":{\"id\":\"b8a740ac-0463-42e4-b698-437897f3ebd0\",\"type\":\"Range1d\"}},\"id\":\"fea63aba-95a3-4758-a51f-e3a867474751\",\"subtype\":\"Figure\",\"type\":\"Plot\"},{\"attributes\":{\"formatter\":{\"id\":\"7ad78d64-0e14-4c29-819f-bc297c928721\",\"type\":\"BasicTickFormatter\"},\"plot\":{\"id\":\"fea63aba-95a3-4758-a51f-e3a867474751\",\"subtype\":\"Figure\",\"type\":\"Plot\"},\"ticker\":{\"id\":\"aca04eaf-f340-422b-8835-84a4b5bcabc0\",\"type\":\"BasicTicker\"}},\"id\":\"744b0e9f-576d-499d-b54b-b28a0eb9e988\",\"type\":\"LinearAxis\"},{\"attributes\":{\"plot\":{\"id\":\"fea63aba-95a3-4758-a51f-e3a867474751\",\"subtype\":\"Figure\",\"type\":\"Plot\"}},\"id\":\"cfb7e5f0-292e-46a4-b771-240c50a408f5\",\"type\":\"SaveTool\"},{\"attributes\":{\"line_alpha\":{\"value\":0.1},\"line_color\":{\"value\":\"#1f77b4\"},\"x\":{\"field\":\"x\"},\"y\":{\"field\":\"y\"}},\"id\":\"e055542f-3e92-4fcc-94b9-dfe22d558796\",\"type\":\"Line\"},{\"attributes\":{},\"id\":\"c68f9bc8-454f-4f15-950f-08f2acd9d127\",\"type\":\"BasicTickFormatter\"},{\"attributes\":{\"line_alpha\":{\"value\":0.1},\"line_color\":{\"value\":\"#1f77b4\"},\"x\":{\"field\":\"x\"},\"y\":{\"field\":\"y\"}},\"id\":\"7a76c1c3-a5ee-4ee8-b49a-96e7a9177f01\",\"type\":\"Line\"},{\"attributes\":{\"callback\":null,\"end\":1.1,\"start\":-0.1},\"id\":\"b8a740ac-0463-42e4-b698-437897f3ebd0\",\"type\":\"Range1d\"},{\"attributes\":{\"fill_color\":{\"value\":\"#1f77b4\"},\"line_color\":{\"value\":\"#1f77b4\"},\"radius\":{\"units\":\"data\",\"value\":0.05},\"x\":{\"field\":\"x\"},\"y\":{\"field\":\"y\"}},\"id\":\"e7978ea0-b15a-40c9-b2bd-20f395960267\",\"type\":\"Circle\"},{\"attributes\":{\"data_source\":{\"id\":\"ec258cc2-104f-42d7-a752-242646e60492\",\"type\":\"ColumnDataSource\"},\"glyph\":{\"id\":\"86d1b574-7ec4-458e-97d2-5cda1fb2ec8a\",\"type\":\"Circle\"},\"hover_glyph\":null,\"nonselection_glyph\":{\"id\":\"8f2f969e-0d53-4147-9a28-14be35fdb2b3\",\"type\":\"Circle\"},\"selection_glyph\":null},\"id\":\"46303cfa-50da-461b-a910-41cc78cbcb23\",\"type\":\"GlyphRenderer\"},{\"attributes\":{\"fill_alpha\":{\"value\":0.1},\"fill_color\":{\"value\":\"#1f77b4\"},\"line_alpha\":{\"value\":0.1},\"line_color\":{\"value\":\"#1f77b4\"},\"radius\":{\"units\":\"data\",\"value\":0.05},\"x\":{\"field\":\"x\"},\"y\":{\"field\":\"y\"}},\"id\":\"1d6c2b68-b53c-4c07-b198-bbccf4f4f995\",\"type\":\"Circle\"},{\"attributes\":{\"fill_alpha\":{\"value\":0.1},\"fill_color\":{\"value\":\"#1f77b4\"},\"line_alpha\":{\"value\":0.1},\"line_color\":{\"value\":\"#1f77b4\"},\"radius\":{\"units\":\"data\",\"value\":0.05},\"x\":{\"field\":\"x\"},\"y\":{\"field\":\"y\"}},\"id\":\"791149e9-88ff-4677-8c35-63c5150cb9c4\",\"type\":\"Circle\"},{\"attributes\":{\"data_source\":{\"id\":\"4740516f-1778-448d-a7eb-4401567103ab\",\"type\":\"ColumnDataSource\"},\"glyph\":{\"id\":\"d56857d0-17bd-4aa8-8b8c-0411d237be89\",\"type\":\"Line\"},\"hover_glyph\":null,\"nonselection_glyph\":{\"id\":\"e055542f-3e92-4fcc-94b9-dfe22d558796\",\"type\":\"Line\"},\"selection_glyph\":null},\"id\":\"2e9f0c3c-01f1-417b-8f70-4b7694835af3\",\"type\":\"GlyphRenderer\"},{\"attributes\":{\"line_color\":{\"value\":\"#1f77b4\"},\"x\":{\"field\":\"x\"},\"y\":{\"field\":\"y\"}},\"id\":\"e3bf3f0b-b8cc-4e69-8943-7163bee6cf0c\",\"type\":\"Line\"},{\"attributes\":{\"plot\":null,\"text\":null},\"id\":\"b8630eb4-19e8-42c3-b86f-f5f2039872d5\",\"type\":\"Title\"},{\"attributes\":{\"line_color\":{\"value\":\"#1f77b4\"},\"x\":{\"field\":\"x\"},\"y\":{\"field\":\"y\"}},\"id\":\"d56857d0-17bd-4aa8-8b8c-0411d237be89\",\"type\":\"Line\"},{\"attributes\":{\"callback\":null,\"end\":1.1,\"start\":-0.1},\"id\":\"cf84aaec-defe-4c12-967d-417de11c598c\",\"type\":\"Range1d\"},{\"attributes\":{\"callback\":null,\"column_names\":[\"y\",\"x\"],\"data\":{\"x\":[0.0,0.2924258446096363],\"y\":[0.6323121503814244,0.7596695691229235]}},\"id\":\"4740516f-1778-448d-a7eb-4401567103ab\",\"type\":\"ColumnDataSource\"},{\"attributes\":{\"overlay\":{\"id\":\"8399983f-c41c-4d8c-aacf-f50222c9d05d\",\"type\":\"BoxAnnotation\"},\"plot\":{\"id\":\"fea63aba-95a3-4758-a51f-e3a867474751\",\"subtype\":\"Figure\",\"type\":\"Plot\"}},\"id\":\"cad925ae-a7a3-4e45-ad77-5bdfdbf01347\",\"type\":\"BoxZoomTool\"},{\"attributes\":{\"plot\":{\"id\":\"fea63aba-95a3-4758-a51f-e3a867474751\",\"subtype\":\"Figure\",\"type\":\"Plot\"}},\"id\":\"fc2a73a7-648c-4f1a-9894-a3b3232674d7\",\"type\":\"WheelZoomTool\"},{\"attributes\":{\"data_source\":{\"id\":\"d396e774-71c3-48c8-b4ff-6a85408464a5\",\"type\":\"ColumnDataSource\"},\"glyph\":{\"id\":\"2961adad-51ed-483e-a7c7-2472d2d888d6\",\"type\":\"Line\"},\"hover_glyph\":null,\"nonselection_glyph\":{\"id\":\"ac54ddb0-b336-408b-b3a2-dbb470a1b39c\",\"type\":\"Line\"},\"selection_glyph\":null},\"id\":\"15ff7a45-e77b-4ac3-85cb-7530070cd8da\",\"type\":\"GlyphRenderer\"},{\"attributes\":{\"fill_alpha\":{\"value\":0.1},\"fill_color\":{\"value\":\"#1f77b4\"},\"line_alpha\":{\"value\":0.1},\"line_color\":{\"value\":\"#1f77b4\"},\"radius\":{\"units\":\"data\",\"value\":0.05},\"x\":{\"field\":\"x\"},\"y\":{\"field\":\"y\"}},\"id\":\"b632ee65-0aa2-4ccb-a7e5-c7fe13ada001\",\"type\":\"Circle\"},{\"attributes\":{\"data_source\":{\"id\":\"0ac4cbf9-9123-400c-9d1b-e8944ba65ea0\",\"type\":\"ColumnDataSource\"},\"glyph\":{\"id\":\"c0eb58fe-604a-4450-b2a1-5e8a14e0e318\",\"type\":\"Circle\"},\"hover_glyph\":null,\"nonselection_glyph\":{\"id\":\"791149e9-88ff-4677-8c35-63c5150cb9c4\",\"type\":\"Circle\"},\"selection_glyph\":null},\"id\":\"df97ff4e-8f9a-415d-b148-d82b642c273c\",\"type\":\"GlyphRenderer\"},{\"attributes\":{\"line_alpha\":{\"value\":0.1},\"line_color\":{\"value\":\"#1f77b4\"},\"x\":{\"field\":\"x\"},\"y\":{\"field\":\"y\"}},\"id\":\"3d659d39-397b-40e9-bfcf-b13f8ac5334e\",\"type\":\"Line\"},{\"attributes\":{\"fill_color\":{\"value\":\"#1f77b4\"},\"line_color\":{\"value\":\"#1f77b4\"},\"radius\":{\"units\":\"data\",\"value\":0.05},\"x\":{\"field\":\"x\"},\"y\":{\"field\":\"y\"}},\"id\":\"c0eb58fe-604a-4450-b2a1-5e8a14e0e318\",\"type\":\"Circle\"},{\"attributes\":{},\"id\":\"c141aade-4c98-4a26-85c5-5a25a7ba9aed\",\"type\":\"BasicTicker\"},{\"attributes\":{\"data_source\":{\"id\":\"8d0e9dab-78f7-4b05-aabe-9a643563d170\",\"type\":\"ColumnDataSource\"},\"glyph\":{\"id\":\"5fee43ae-0c46-4354-831d-60d139784105\",\"type\":\"Circle\"},\"hover_glyph\":null,\"nonselection_glyph\":{\"id\":\"b632ee65-0aa2-4ccb-a7e5-c7fe13ada001\",\"type\":\"Circle\"},\"selection_glyph\":null},\"id\":\"05f01ad3-5586-422e-ace5-750429470cf4\",\"type\":\"GlyphRenderer\"},{\"attributes\":{\"callback\":null,\"column_names\":[\"y\",\"x\"],\"data\":{\"x\":[0.0],\"y\":[0.6323121503814244]}},\"id\":\"4de7fd7e-6069-4dcd-b56a-e5b9b24b5290\",\"type\":\"ColumnDataSource\"}],\"root_ids\":[\"fea63aba-95a3-4758-a51f-e3a867474751\"]},\"title\":\"Bokeh Application\",\"version\":\"0.12.3\"}};\n",
       "            var render_items = [{\"docid\":\"5edba638-ad19-4516-b961-c5bde64fd0b9\",\"elementid\":\"e650d680-e628-4d7a-a4dd-e14779f6a296\",\"modelid\":\"fea63aba-95a3-4758-a51f-e3a867474751\"}];\n",
       "            \n",
       "            Bokeh.embed.embed_items(docs_json, render_items);\n",
       "        });\n",
       "      },\n",
       "      function(Bokeh) {\n",
       "      }\n",
       "    ];\n",
       "  \n",
       "    function run_inline_js() {\n",
       "      \n",
       "      if ((window.Bokeh !== undefined) || (force === \"1\")) {\n",
       "        for (var i = 0; i < inline_js.length; i++) {\n",
       "          inline_js[i](window.Bokeh);\n",
       "        }if (force === \"1\") {\n",
       "          display_loaded();\n",
       "        }} else if (Date.now() < window._bokeh_timeout) {\n",
       "        setTimeout(run_inline_js, 100);\n",
       "      } else if (!window._bokeh_failed_load) {\n",
       "        console.log(\"Bokeh: BokehJS failed to load within specified timeout.\");\n",
       "        window._bokeh_failed_load = true;\n",
       "      } else if (!force) {\n",
       "        var cell = $(\"#e650d680-e628-4d7a-a4dd-e14779f6a296\").parents('.cell').data().cell;\n",
       "        cell.output_area.append_execute_result(NB_LOAD_WARNING)\n",
       "      }\n",
       "  \n",
       "    }\n",
       "  \n",
       "    if (window._bokeh_is_loading === 0) {\n",
       "      console.log(\"Bokeh: BokehJS loaded, going straight to plotting\");\n",
       "      run_inline_js();\n",
       "    } else {\n",
       "      load_libs(js_urls, function() {\n",
       "        console.log(\"Bokeh: BokehJS plotting callback run at\", now());\n",
       "        run_inline_js();\n",
       "      });\n",
       "    }\n",
       "  }(this));\n",
       "</script>"
      ]
     },
     "metadata": {},
     "output_type": "display_data"
    }
   ],
   "source": [
    "pts = nx.spring_layout(G)\n",
    "p = figure(\n",
    "    x_range = (-.1,1.1),\n",
    "    y_range = (-.1,1.1),\n",
    "    height= 400,\n",
    "    width= 400,\n",
    ")\n",
    "for edge in G.edges():\n",
    "    p.line( \n",
    "        x= [pts[pt][0] for pt in edge],\n",
    "        y= [pts[pt][1] for pt in edge],\n",
    "    )\n",
    "\n",
    "for node in G.nodes():\n",
    "    p.circle( \n",
    "        x= [pts[node][0]],\n",
    "        y= [pts[node][1]],\n",
    "        radius=.05,\n",
    "    )\n",
    "show(p)"
   ]
  },
  {
   "cell_type": "markdown",
   "metadata": {},
   "source": [
    "## Spectral Layout"
   ]
  },
  {
   "cell_type": "code",
   "execution_count": 28,
   "metadata": {
    "collapsed": false
   },
   "outputs": [
    {
     "data": {
      "text/html": [
       "\n",
       "\n",
       "    <div class=\"bk-root\">\n",
       "        <div class=\"plotdiv\" id=\"7078e503-56b3-4367-8d4d-96af726bbe40\"></div>\n",
       "    </div>\n",
       "<script type=\"text/javascript\">\n",
       "  \n",
       "  (function(global) {\n",
       "    function now() {\n",
       "      return new Date();\n",
       "    }\n",
       "  \n",
       "    var force = \"\";\n",
       "  \n",
       "    if (typeof (window._bokeh_onload_callbacks) === \"undefined\" || force !== \"\") {\n",
       "      window._bokeh_onload_callbacks = [];\n",
       "      window._bokeh_is_loading = undefined;\n",
       "    }\n",
       "  \n",
       "  \n",
       "    \n",
       "    if (typeof (window._bokeh_timeout) === \"undefined\" || force !== \"\") {\n",
       "      window._bokeh_timeout = Date.now() + 0;\n",
       "      window._bokeh_failed_load = false;\n",
       "    }\n",
       "  \n",
       "    var NB_LOAD_WARNING = {'data': {'text/html':\n",
       "       \"<div style='background-color: #fdd'>\\n\"+\n",
       "       \"<p>\\n\"+\n",
       "       \"BokehJS does not appear to have successfully loaded. If loading BokehJS from CDN, this \\n\"+\n",
       "       \"may be due to a slow or bad network connection. Possible fixes:\\n\"+\n",
       "       \"</p>\\n\"+\n",
       "       \"<ul>\\n\"+\n",
       "       \"<li>re-rerun `output_notebook()` to attempt to load from CDN again, or</li>\\n\"+\n",
       "       \"<li>use INLINE resources instead, as so:</li>\\n\"+\n",
       "       \"</ul>\\n\"+\n",
       "       \"<code>\\n\"+\n",
       "       \"from bokeh.resources import INLINE\\n\"+\n",
       "       \"output_notebook(resources=INLINE)\\n\"+\n",
       "       \"</code>\\n\"+\n",
       "       \"</div>\"}};\n",
       "  \n",
       "    function display_loaded() {\n",
       "      if (window.Bokeh !== undefined) {\n",
       "        Bokeh.$(\"#7078e503-56b3-4367-8d4d-96af726bbe40\").text(\"BokehJS successfully loaded.\");\n",
       "      } else if (Date.now() < window._bokeh_timeout) {\n",
       "        setTimeout(display_loaded, 100)\n",
       "      }\n",
       "    }\n",
       "  \n",
       "    function run_callbacks() {\n",
       "      window._bokeh_onload_callbacks.forEach(function(callback) { callback() });\n",
       "      delete window._bokeh_onload_callbacks\n",
       "      console.info(\"Bokeh: all callbacks have finished\");\n",
       "    }\n",
       "  \n",
       "    function load_libs(js_urls, callback) {\n",
       "      window._bokeh_onload_callbacks.push(callback);\n",
       "      if (window._bokeh_is_loading > 0) {\n",
       "        console.log(\"Bokeh: BokehJS is being loaded, scheduling callback at\", now());\n",
       "        return null;\n",
       "      }\n",
       "      if (js_urls == null || js_urls.length === 0) {\n",
       "        run_callbacks();\n",
       "        return null;\n",
       "      }\n",
       "      console.log(\"Bokeh: BokehJS not loaded, scheduling load and callback at\", now());\n",
       "      window._bokeh_is_loading = js_urls.length;\n",
       "      for (var i = 0; i < js_urls.length; i++) {\n",
       "        var url = js_urls[i];\n",
       "        var s = document.createElement('script');\n",
       "        s.src = url;\n",
       "        s.async = false;\n",
       "        s.onreadystatechange = s.onload = function() {\n",
       "          window._bokeh_is_loading--;\n",
       "          if (window._bokeh_is_loading === 0) {\n",
       "            console.log(\"Bokeh: all BokehJS libraries loaded\");\n",
       "            run_callbacks()\n",
       "          }\n",
       "        };\n",
       "        s.onerror = function() {\n",
       "          console.warn(\"failed to load library \" + url);\n",
       "        };\n",
       "        console.log(\"Bokeh: injecting script tag for BokehJS library: \", url);\n",
       "        document.getElementsByTagName(\"head\")[0].appendChild(s);\n",
       "      }\n",
       "    };var element = document.getElementById(\"7078e503-56b3-4367-8d4d-96af726bbe40\");\n",
       "    if (element == null) {\n",
       "      console.log(\"Bokeh: ERROR: autoload.js configured with elementid '7078e503-56b3-4367-8d4d-96af726bbe40' but no matching script tag was found. \")\n",
       "      return false;\n",
       "    }\n",
       "  \n",
       "    var js_urls = [];\n",
       "  \n",
       "    var inline_js = [\n",
       "      function(Bokeh) {\n",
       "        Bokeh.$(function() {\n",
       "            var docs_json = {\"1913bf75-9e30-46e0-b182-d15cfd628e1c\":{\"roots\":{\"references\":[{\"attributes\":{\"dimension\":1,\"plot\":{\"id\":\"33490e55-d3b8-46cc-b9b8-081ce4bfc996\",\"subtype\":\"Figure\",\"type\":\"Plot\"},\"ticker\":{\"id\":\"704575e8-7ef8-43b5-be73-62805b3aabac\",\"type\":\"BasicTicker\"}},\"id\":\"29cc3e36-868d-41da-ae55-1e4e28b16ca9\",\"type\":\"Grid\"},{\"attributes\":{\"fill_alpha\":{\"value\":0.1},\"fill_color\":{\"value\":\"#1f77b4\"},\"line_alpha\":{\"value\":0.1},\"line_color\":{\"value\":\"#1f77b4\"},\"radius\":{\"units\":\"data\",\"value\":0.05},\"x\":{\"field\":\"x\"},\"y\":{\"field\":\"y\"}},\"id\":\"7118449c-f8f2-434a-b5b0-ec8660ca5f99\",\"type\":\"Circle\"},{\"attributes\":{\"fill_color\":{\"value\":\"#1f77b4\"},\"line_color\":{\"value\":\"#1f77b4\"},\"radius\":{\"units\":\"data\",\"value\":0.05},\"x\":{\"field\":\"x\"},\"y\":{\"field\":\"y\"}},\"id\":\"e4923188-70fe-41cb-a0c5-b762d49bf40d\",\"type\":\"Circle\"},{\"attributes\":{\"callback\":null,\"column_names\":[\"y\",\"x\"],\"data\":{\"x\":[0.5361542318115881,0.8536223874667423],\"y\":[0.0,1.0]}},\"id\":\"a46e1843-4c28-4458-b38e-a7c5e2dfa745\",\"type\":\"ColumnDataSource\"},{\"attributes\":{\"callback\":null,\"end\":1.1,\"start\":-0.1},\"id\":\"d33fdaa8-d661-4f53-ac23-b405f03dbc7e\",\"type\":\"Range1d\"},{\"attributes\":{\"line_alpha\":{\"value\":0.1},\"line_color\":{\"value\":\"#1f77b4\"},\"x\":{\"field\":\"x\"},\"y\":{\"field\":\"y\"}},\"id\":\"764a1e27-c1ff-4bc1-aaa3-fc7bccf96840\",\"type\":\"Line\"},{\"attributes\":{\"fill_alpha\":{\"value\":0.1},\"fill_color\":{\"value\":\"#1f77b4\"},\"line_alpha\":{\"value\":0.1},\"line_color\":{\"value\":\"#1f77b4\"},\"radius\":{\"units\":\"data\",\"value\":0.05},\"x\":{\"field\":\"x\"},\"y\":{\"field\":\"y\"}},\"id\":\"59f43b4d-c052-49c5-8aa1-d410401936bd\",\"type\":\"Circle\"},{\"attributes\":{},\"id\":\"a614574d-77ab-4804-b9a5-8dfb4050819e\",\"type\":\"BasicTickFormatter\"},{\"attributes\":{\"plot\":{\"id\":\"33490e55-d3b8-46cc-b9b8-081ce4bfc996\",\"subtype\":\"Figure\",\"type\":\"Plot\"}},\"id\":\"2fbf5634-ecbf-495b-a502-ad2519a8118d\",\"type\":\"WheelZoomTool\"},{\"attributes\":{\"callback\":null,\"column_names\":[\"y\",\"x\"],\"data\":{\"x\":[0.043811001358958254,0.08446103050759403],\"y\":[0.6792294813113714,0.5990936282354039]}},\"id\":\"5842ca8d-9e88-4052-b080-84320829a4ef\",\"type\":\"ColumnDataSource\"},{\"attributes\":{\"plot\":{\"id\":\"33490e55-d3b8-46cc-b9b8-081ce4bfc996\",\"subtype\":\"Figure\",\"type\":\"Plot\"}},\"id\":\"3fdba173-dbca-4226-8a31-bf7a39b2342e\",\"type\":\"HelpTool\"},{\"attributes\":{\"line_alpha\":{\"value\":0.1},\"line_color\":{\"value\":\"#1f77b4\"},\"x\":{\"field\":\"x\"},\"y\":{\"field\":\"y\"}},\"id\":\"005d908e-199e-4759-84da-613922c6753d\",\"type\":\"Line\"},{\"attributes\":{\"fill_alpha\":{\"value\":0.1},\"fill_color\":{\"value\":\"#1f77b4\"},\"line_alpha\":{\"value\":0.1},\"line_color\":{\"value\":\"#1f77b4\"},\"radius\":{\"units\":\"data\",\"value\":0.05},\"x\":{\"field\":\"x\"},\"y\":{\"field\":\"y\"}},\"id\":\"40e54a95-11fa-45ae-815d-c0b8703ed7ef\",\"type\":\"Circle\"},{\"attributes\":{\"data_source\":{\"id\":\"75924680-69e8-4d7c-9ec9-cd82c603b019\",\"type\":\"ColumnDataSource\"},\"glyph\":{\"id\":\"7dba9ad5-b288-4e44-8f5a-45f5d5376028\",\"type\":\"Circle\"},\"hover_glyph\":null,\"nonselection_glyph\":{\"id\":\"59f43b4d-c052-49c5-8aa1-d410401936bd\",\"type\":\"Circle\"},\"selection_glyph\":null},\"id\":\"ec90e912-7ea6-41db-830e-8181bb8ca8ea\",\"type\":\"GlyphRenderer\"},{\"attributes\":{},\"id\":\"a0659d6a-2d4f-4ec6-af15-1ba6dfe774c4\",\"type\":\"BasicTicker\"},{\"attributes\":{\"data_source\":{\"id\":\"7c62f3ce-b255-485b-887a-546443e22707\",\"type\":\"ColumnDataSource\"},\"glyph\":{\"id\":\"2e23fba8-a375-4dbf-85ef-26f3ccca180a\",\"type\":\"Line\"},\"hover_glyph\":null,\"nonselection_glyph\":{\"id\":\"764a1e27-c1ff-4bc1-aaa3-fc7bccf96840\",\"type\":\"Line\"},\"selection_glyph\":null},\"id\":\"b7019a98-a342-4404-8250-9b79d00d053b\",\"type\":\"GlyphRenderer\"},{\"attributes\":{\"data_source\":{\"id\":\"3c45f395-2f14-467e-8529-b0976b7da8cf\",\"type\":\"ColumnDataSource\"},\"glyph\":{\"id\":\"48cce94c-e7ff-41e2-b6fe-25ea94e645ee\",\"type\":\"Circle\"},\"hover_glyph\":null,\"nonselection_glyph\":{\"id\":\"40e54a95-11fa-45ae-815d-c0b8703ed7ef\",\"type\":\"Circle\"},\"selection_glyph\":null},\"id\":\"6241f6ed-9f1d-4579-9cfa-e1d0041d8f29\",\"type\":\"GlyphRenderer\"},{\"attributes\":{\"plot\":null,\"text\":null},\"id\":\"02a29dcf-558e-46f9-a67c-af9ddb8b0519\",\"type\":\"Title\"},{\"attributes\":{\"callback\":null,\"column_names\":[\"y\",\"x\"],\"data\":{\"x\":[0.5361542318115881],\"y\":[0.0]}},\"id\":\"f0034857-4ff4-4126-b560-8db8bd74d24a\",\"type\":\"ColumnDataSource\"},{\"attributes\":{\"line_alpha\":{\"value\":0.1},\"line_color\":{\"value\":\"#1f77b4\"},\"x\":{\"field\":\"x\"},\"y\":{\"field\":\"y\"}},\"id\":\"0068874f-ccd9-40eb-bd96-bb49865d65f7\",\"type\":\"Line\"},{\"attributes\":{\"line_color\":{\"value\":\"#1f77b4\"},\"x\":{\"field\":\"x\"},\"y\":{\"field\":\"y\"}},\"id\":\"3df3b42a-7537-4cec-9009-b469fe3d7b08\",\"type\":\"Line\"},{\"attributes\":{\"callback\":null,\"end\":1.1,\"start\":-0.1},\"id\":\"f84b2066-4998-4d49-921c-5e7bce515229\",\"type\":\"Range1d\"},{\"attributes\":{\"data_source\":{\"id\":\"f0034857-4ff4-4126-b560-8db8bd74d24a\",\"type\":\"ColumnDataSource\"},\"glyph\":{\"id\":\"e4923188-70fe-41cb-a0c5-b762d49bf40d\",\"type\":\"Circle\"},\"hover_glyph\":null,\"nonselection_glyph\":{\"id\":\"db8691ba-5270-4e49-bc16-a42922d73d5f\",\"type\":\"Circle\"},\"selection_glyph\":null},\"id\":\"fa3f46ee-2b92-41e2-a7ee-bcecbd2b095e\",\"type\":\"GlyphRenderer\"},{\"attributes\":{\"plot\":{\"id\":\"33490e55-d3b8-46cc-b9b8-081ce4bfc996\",\"subtype\":\"Figure\",\"type\":\"Plot\"}},\"id\":\"ce8cf96d-1192-4814-b1ce-51e4fe1b35b6\",\"type\":\"ResetTool\"},{\"attributes\":{\"callback\":null,\"column_names\":[\"y\",\"x\"],\"data\":{\"x\":[0.8536223874667423],\"y\":[1.0]}},\"id\":\"75924680-69e8-4d7c-9ec9-cd82c603b019\",\"type\":\"ColumnDataSource\"},{\"attributes\":{\"active_drag\":\"auto\",\"active_scroll\":\"auto\",\"active_tap\":\"auto\",\"tools\":[{\"id\":\"6ceda60c-e3ea-4b76-a8e9-e7eb721bf356\",\"type\":\"PanTool\"},{\"id\":\"2fbf5634-ecbf-495b-a502-ad2519a8118d\",\"type\":\"WheelZoomTool\"},{\"id\":\"9c62f68f-f17e-4baa-b721-21a50157e351\",\"type\":\"BoxZoomTool\"},{\"id\":\"31392110-829c-4240-bb8a-cd388c81121b\",\"type\":\"SaveTool\"},{\"id\":\"ce8cf96d-1192-4814-b1ce-51e4fe1b35b6\",\"type\":\"ResetTool\"},{\"id\":\"3fdba173-dbca-4226-8a31-bf7a39b2342e\",\"type\":\"HelpTool\"}]},\"id\":\"4b882cc7-72a0-46f4-98ad-7808486eae7a\",\"type\":\"Toolbar\"},{\"attributes\":{\"below\":[{\"id\":\"59d3513f-d1a2-4ef8-ab9f-6857cd03b738\",\"type\":\"LinearAxis\"}],\"left\":[{\"id\":\"14feb969-7600-48c7-ad6b-6630c04e5333\",\"type\":\"LinearAxis\"}],\"plot_height\":400,\"plot_width\":400,\"renderers\":[{\"id\":\"59d3513f-d1a2-4ef8-ab9f-6857cd03b738\",\"type\":\"LinearAxis\"},{\"id\":\"698f5a97-c51d-4281-a47b-1224bf19ac10\",\"type\":\"Grid\"},{\"id\":\"14feb969-7600-48c7-ad6b-6630c04e5333\",\"type\":\"LinearAxis\"},{\"id\":\"29cc3e36-868d-41da-ae55-1e4e28b16ca9\",\"type\":\"Grid\"},{\"id\":\"755ed880-a551-424e-84d8-caa20875ee78\",\"type\":\"BoxAnnotation\"},{\"id\":\"b7019a98-a342-4404-8250-9b79d00d053b\",\"type\":\"GlyphRenderer\"},{\"id\":\"d253bbf5-aa77-4a21-a959-38099b46e4e4\",\"type\":\"GlyphRenderer\"},{\"id\":\"9b2a033c-1af0-4b2c-8920-8b5041a05735\",\"type\":\"GlyphRenderer\"},{\"id\":\"d8d7fa9a-3849-43d2-a83e-583a527d04f2\",\"type\":\"GlyphRenderer\"},{\"id\":\"245d63b6-b76d-4d67-a03e-53046f3490ef\",\"type\":\"GlyphRenderer\"},{\"id\":\"398f03fe-0090-4ab3-b774-dd8cb247f919\",\"type\":\"GlyphRenderer\"},{\"id\":\"6241f6ed-9f1d-4579-9cfa-e1d0041d8f29\",\"type\":\"GlyphRenderer\"},{\"id\":\"fa3f46ee-2b92-41e2-a7ee-bcecbd2b095e\",\"type\":\"GlyphRenderer\"},{\"id\":\"ec90e912-7ea6-41db-830e-8181bb8ca8ea\",\"type\":\"GlyphRenderer\"}],\"title\":{\"id\":\"02a29dcf-558e-46f9-a67c-af9ddb8b0519\",\"type\":\"Title\"},\"tool_events\":{\"id\":\"b7b47ffd-96db-47dc-8130-44e4d9e6423d\",\"type\":\"ToolEvents\"},\"toolbar\":{\"id\":\"4b882cc7-72a0-46f4-98ad-7808486eae7a\",\"type\":\"Toolbar\"},\"x_range\":{\"id\":\"d33fdaa8-d661-4f53-ac23-b405f03dbc7e\",\"type\":\"Range1d\"},\"y_range\":{\"id\":\"f84b2066-4998-4d49-921c-5e7bce515229\",\"type\":\"Range1d\"}},\"id\":\"33490e55-d3b8-46cc-b9b8-081ce4bfc996\",\"subtype\":\"Figure\",\"type\":\"Plot\"},{\"attributes\":{\"formatter\":{\"id\":\"ff876b65-e04c-42b7-8b72-cabe4ba284e5\",\"type\":\"BasicTickFormatter\"},\"plot\":{\"id\":\"33490e55-d3b8-46cc-b9b8-081ce4bfc996\",\"subtype\":\"Figure\",\"type\":\"Plot\"},\"ticker\":{\"id\":\"a0659d6a-2d4f-4ec6-af15-1ba6dfe774c4\",\"type\":\"BasicTicker\"}},\"id\":\"59d3513f-d1a2-4ef8-ab9f-6857cd03b738\",\"type\":\"LinearAxis\"},{\"attributes\":{\"data_source\":{\"id\":\"a46e1843-4c28-4458-b38e-a7c5e2dfa745\",\"type\":\"ColumnDataSource\"},\"glyph\":{\"id\":\"78efe564-1687-49b0-8643-bbb05266e6e4\",\"type\":\"Line\"},\"hover_glyph\":null,\"nonselection_glyph\":{\"id\":\"0068874f-ccd9-40eb-bd96-bb49865d65f7\",\"type\":\"Line\"},\"selection_glyph\":null},\"id\":\"d8d7fa9a-3849-43d2-a83e-583a527d04f2\",\"type\":\"GlyphRenderer\"},{\"attributes\":{},\"id\":\"ff876b65-e04c-42b7-8b72-cabe4ba284e5\",\"type\":\"BasicTickFormatter\"},{\"attributes\":{\"plot\":{\"id\":\"33490e55-d3b8-46cc-b9b8-081ce4bfc996\",\"subtype\":\"Figure\",\"type\":\"Plot\"},\"ticker\":{\"id\":\"a0659d6a-2d4f-4ec6-af15-1ba6dfe774c4\",\"type\":\"BasicTicker\"}},\"id\":\"698f5a97-c51d-4281-a47b-1224bf19ac10\",\"type\":\"Grid\"},{\"attributes\":{\"plot\":{\"id\":\"33490e55-d3b8-46cc-b9b8-081ce4bfc996\",\"subtype\":\"Figure\",\"type\":\"Plot\"}},\"id\":\"31392110-829c-4240-bb8a-cd388c81121b\",\"type\":\"SaveTool\"},{\"attributes\":{\"callback\":null,\"column_names\":[\"y\",\"x\"],\"data\":{\"x\":[0.043811001358958254],\"y\":[0.6792294813113714]}},\"id\":\"3da6aaa1-6f70-4514-b42e-c3b6fa4fcfa2\",\"type\":\"ColumnDataSource\"},{\"attributes\":{\"fill_alpha\":{\"value\":0.1},\"fill_color\":{\"value\":\"#1f77b4\"},\"line_alpha\":{\"value\":0.1},\"line_color\":{\"value\":\"#1f77b4\"},\"radius\":{\"units\":\"data\",\"value\":0.05},\"x\":{\"field\":\"x\"},\"y\":{\"field\":\"y\"}},\"id\":\"db8691ba-5270-4e49-bc16-a42922d73d5f\",\"type\":\"Circle\"},{\"attributes\":{},\"id\":\"704575e8-7ef8-43b5-be73-62805b3aabac\",\"type\":\"BasicTicker\"},{\"attributes\":{\"fill_alpha\":{\"value\":0.1},\"fill_color\":{\"value\":\"#1f77b4\"},\"line_alpha\":{\"value\":0.1},\"line_color\":{\"value\":\"#1f77b4\"},\"radius\":{\"units\":\"data\",\"value\":0.05},\"x\":{\"field\":\"x\"},\"y\":{\"field\":\"y\"}},\"id\":\"c5e542c7-516e-445c-b59a-882c35347096\",\"type\":\"Circle\"},{\"attributes\":{\"plot\":{\"id\":\"33490e55-d3b8-46cc-b9b8-081ce4bfc996\",\"subtype\":\"Figure\",\"type\":\"Plot\"}},\"id\":\"6ceda60c-e3ea-4b76-a8e9-e7eb721bf356\",\"type\":\"PanTool\"},{\"attributes\":{\"line_alpha\":{\"value\":0.1},\"line_color\":{\"value\":\"#1f77b4\"},\"x\":{\"field\":\"x\"},\"y\":{\"field\":\"y\"}},\"id\":\"ddfde864-ca12-49ba-a238-4c8de179fdd9\",\"type\":\"Line\"},{\"attributes\":{\"line_color\":{\"value\":\"#1f77b4\"},\"x\":{\"field\":\"x\"},\"y\":{\"field\":\"y\"}},\"id\":\"324eaa58-9342-44cd-813f-5f4e93ddd6dc\",\"type\":\"Line\"},{\"attributes\":{\"callback\":null,\"column_names\":[\"y\",\"x\"],\"data\":{\"x\":[0.0,0.043811001358958254],\"y\":[0.7979293402756517,0.6792294813113714]}},\"id\":\"7c62f3ce-b255-485b-887a-546443e22707\",\"type\":\"ColumnDataSource\"},{\"attributes\":{\"bottom_units\":\"screen\",\"fill_alpha\":{\"value\":0.5},\"fill_color\":{\"value\":\"lightgrey\"},\"left_units\":\"screen\",\"level\":\"overlay\",\"line_alpha\":{\"value\":1.0},\"line_color\":{\"value\":\"black\"},\"line_dash\":[4,4],\"line_width\":{\"value\":2},\"plot\":null,\"render_mode\":\"css\",\"right_units\":\"screen\",\"top_units\":\"screen\"},\"id\":\"755ed880-a551-424e-84d8-caa20875ee78\",\"type\":\"BoxAnnotation\"},{\"attributes\":{\"fill_color\":{\"value\":\"#1f77b4\"},\"line_color\":{\"value\":\"#1f77b4\"},\"radius\":{\"units\":\"data\",\"value\":0.05},\"x\":{\"field\":\"x\"},\"y\":{\"field\":\"y\"}},\"id\":\"48cce94c-e7ff-41e2-b6fe-25ea94e645ee\",\"type\":\"Circle\"},{\"attributes\":{\"line_color\":{\"value\":\"#1f77b4\"},\"x\":{\"field\":\"x\"},\"y\":{\"field\":\"y\"}},\"id\":\"78efe564-1687-49b0-8643-bbb05266e6e4\",\"type\":\"Line\"},{\"attributes\":{\"overlay\":{\"id\":\"755ed880-a551-424e-84d8-caa20875ee78\",\"type\":\"BoxAnnotation\"},\"plot\":{\"id\":\"33490e55-d3b8-46cc-b9b8-081ce4bfc996\",\"subtype\":\"Figure\",\"type\":\"Plot\"}},\"id\":\"9c62f68f-f17e-4baa-b721-21a50157e351\",\"type\":\"BoxZoomTool\"},{\"attributes\":{\"data_source\":{\"id\":\"a8cb29c5-7792-4a97-b029-99d848afccb6\",\"type\":\"ColumnDataSource\"},\"glyph\":{\"id\":\"3df3b42a-7537-4cec-9009-b469fe3d7b08\",\"type\":\"Line\"},\"hover_glyph\":null,\"nonselection_glyph\":{\"id\":\"ddfde864-ca12-49ba-a238-4c8de179fdd9\",\"type\":\"Line\"},\"selection_glyph\":null},\"id\":\"9b2a033c-1af0-4b2c-8920-8b5041a05735\",\"type\":\"GlyphRenderer\"},{\"attributes\":{\"fill_color\":{\"value\":\"#1f77b4\"},\"line_color\":{\"value\":\"#1f77b4\"},\"radius\":{\"units\":\"data\",\"value\":0.05},\"x\":{\"field\":\"x\"},\"y\":{\"field\":\"y\"}},\"id\":\"fcad257a-1f30-4e8d-95e0-a5831047803c\",\"type\":\"Circle\"},{\"attributes\":{\"callback\":null,\"column_names\":[\"y\",\"x\"],\"data\":{\"x\":[0.0],\"y\":[0.7979293402756517]}},\"id\":\"46cb7f0c-79ab-4384-9888-910e6cb5d31c\",\"type\":\"ColumnDataSource\"},{\"attributes\":{},\"id\":\"b7b47ffd-96db-47dc-8130-44e4d9e6423d\",\"type\":\"ToolEvents\"},{\"attributes\":{\"data_source\":{\"id\":\"5842ca8d-9e88-4052-b080-84320829a4ef\",\"type\":\"ColumnDataSource\"},\"glyph\":{\"id\":\"324eaa58-9342-44cd-813f-5f4e93ddd6dc\",\"type\":\"Line\"},\"hover_glyph\":null,\"nonselection_glyph\":{\"id\":\"005d908e-199e-4759-84da-613922c6753d\",\"type\":\"Line\"},\"selection_glyph\":null},\"id\":\"d253bbf5-aa77-4a21-a959-38099b46e4e4\",\"type\":\"GlyphRenderer\"},{\"attributes\":{\"fill_color\":{\"value\":\"#1f77b4\"},\"line_color\":{\"value\":\"#1f77b4\"},\"radius\":{\"units\":\"data\",\"value\":0.05},\"x\":{\"field\":\"x\"},\"y\":{\"field\":\"y\"}},\"id\":\"7dba9ad5-b288-4e44-8f5a-45f5d5376028\",\"type\":\"Circle\"},{\"attributes\":{\"callback\":null,\"column_names\":[\"y\",\"x\"],\"data\":{\"x\":[0.08446103050759403],\"y\":[0.5990936282354039]}},\"id\":\"3c45f395-2f14-467e-8529-b0976b7da8cf\",\"type\":\"ColumnDataSource\"},{\"attributes\":{\"line_color\":{\"value\":\"#1f77b4\"},\"x\":{\"field\":\"x\"},\"y\":{\"field\":\"y\"}},\"id\":\"2e23fba8-a375-4dbf-85ef-26f3ccca180a\",\"type\":\"Line\"},{\"attributes\":{\"fill_color\":{\"value\":\"#1f77b4\"},\"line_color\":{\"value\":\"#1f77b4\"},\"radius\":{\"units\":\"data\",\"value\":0.05},\"x\":{\"field\":\"x\"},\"y\":{\"field\":\"y\"}},\"id\":\"6c6c688e-7a52-4e51-ac9b-9d11e30a682c\",\"type\":\"Circle\"},{\"attributes\":{\"data_source\":{\"id\":\"3da6aaa1-6f70-4514-b42e-c3b6fa4fcfa2\",\"type\":\"ColumnDataSource\"},\"glyph\":{\"id\":\"6c6c688e-7a52-4e51-ac9b-9d11e30a682c\",\"type\":\"Circle\"},\"hover_glyph\":null,\"nonselection_glyph\":{\"id\":\"c5e542c7-516e-445c-b59a-882c35347096\",\"type\":\"Circle\"},\"selection_glyph\":null},\"id\":\"398f03fe-0090-4ab3-b774-dd8cb247f919\",\"type\":\"GlyphRenderer\"},{\"attributes\":{\"formatter\":{\"id\":\"a614574d-77ab-4804-b9a5-8dfb4050819e\",\"type\":\"BasicTickFormatter\"},\"plot\":{\"id\":\"33490e55-d3b8-46cc-b9b8-081ce4bfc996\",\"subtype\":\"Figure\",\"type\":\"Plot\"},\"ticker\":{\"id\":\"704575e8-7ef8-43b5-be73-62805b3aabac\",\"type\":\"BasicTicker\"}},\"id\":\"14feb969-7600-48c7-ad6b-6630c04e5333\",\"type\":\"LinearAxis\"},{\"attributes\":{\"data_source\":{\"id\":\"46cb7f0c-79ab-4384-9888-910e6cb5d31c\",\"type\":\"ColumnDataSource\"},\"glyph\":{\"id\":\"fcad257a-1f30-4e8d-95e0-a5831047803c\",\"type\":\"Circle\"},\"hover_glyph\":null,\"nonselection_glyph\":{\"id\":\"7118449c-f8f2-434a-b5b0-ec8660ca5f99\",\"type\":\"Circle\"},\"selection_glyph\":null},\"id\":\"245d63b6-b76d-4d67-a03e-53046f3490ef\",\"type\":\"GlyphRenderer\"},{\"attributes\":{\"callback\":null,\"column_names\":[\"y\",\"x\"],\"data\":{\"x\":[0.08446103050759403,0.5361542318115881],\"y\":[0.5990936282354039,0.0]}},\"id\":\"a8cb29c5-7792-4a97-b029-99d848afccb6\",\"type\":\"ColumnDataSource\"}],\"root_ids\":[\"33490e55-d3b8-46cc-b9b8-081ce4bfc996\"]},\"title\":\"Bokeh Application\",\"version\":\"0.12.3\"}};\n",
       "            var render_items = [{\"docid\":\"1913bf75-9e30-46e0-b182-d15cfd628e1c\",\"elementid\":\"7078e503-56b3-4367-8d4d-96af726bbe40\",\"modelid\":\"33490e55-d3b8-46cc-b9b8-081ce4bfc996\"}];\n",
       "            \n",
       "            Bokeh.embed.embed_items(docs_json, render_items);\n",
       "        });\n",
       "      },\n",
       "      function(Bokeh) {\n",
       "      }\n",
       "    ];\n",
       "  \n",
       "    function run_inline_js() {\n",
       "      \n",
       "      if ((window.Bokeh !== undefined) || (force === \"1\")) {\n",
       "        for (var i = 0; i < inline_js.length; i++) {\n",
       "          inline_js[i](window.Bokeh);\n",
       "        }if (force === \"1\") {\n",
       "          display_loaded();\n",
       "        }} else if (Date.now() < window._bokeh_timeout) {\n",
       "        setTimeout(run_inline_js, 100);\n",
       "      } else if (!window._bokeh_failed_load) {\n",
       "        console.log(\"Bokeh: BokehJS failed to load within specified timeout.\");\n",
       "        window._bokeh_failed_load = true;\n",
       "      } else if (!force) {\n",
       "        var cell = $(\"#7078e503-56b3-4367-8d4d-96af726bbe40\").parents('.cell').data().cell;\n",
       "        cell.output_area.append_execute_result(NB_LOAD_WARNING)\n",
       "      }\n",
       "  \n",
       "    }\n",
       "  \n",
       "    if (window._bokeh_is_loading === 0) {\n",
       "      console.log(\"Bokeh: BokehJS loaded, going straight to plotting\");\n",
       "      run_inline_js();\n",
       "    } else {\n",
       "      load_libs(js_urls, function() {\n",
       "        console.log(\"Bokeh: BokehJS plotting callback run at\", now());\n",
       "        run_inline_js();\n",
       "      });\n",
       "    }\n",
       "  }(this));\n",
       "</script>"
      ]
     },
     "metadata": {},
     "output_type": "display_data"
    }
   ],
   "source": [
    "pts = nx.spectral_layout(G)\n",
    "p = figure(\n",
    "    x_range = (-.1,1.1),\n",
    "    y_range = (-.1,1.1),\n",
    "    height= 400,\n",
    "    width= 400,\n",
    ")\n",
    "for edge in G.edges():\n",
    "    p.line( \n",
    "        x= [pts[pt][0] for pt in edge],\n",
    "        y= [pts[pt][1] for pt in edge],\n",
    "    )\n",
    "\n",
    "for node in G.nodes():\n",
    "    p.circle( \n",
    "        x= [pts[node][0]],\n",
    "        y= [pts[node][1]],\n",
    "        radius=.05,\n",
    "    )\n",
    "show(p)"
   ]
  },
  {
   "cell_type": "code",
   "execution_count": null,
   "metadata": {
    "collapsed": true
   },
   "outputs": [],
   "source": []
  }
 ],
 "metadata": {
  "anaconda-cloud": {},
  "kernelspec": {
   "display_name": "Python [conda env:py27]",
   "language": "python",
   "name": "conda-env-py27-py"
  },
  "language_info": {
   "codemirror_mode": {
    "name": "ipython",
    "version": 2
   },
   "file_extension": ".py",
   "mimetype": "text/x-python",
   "name": "python",
   "nbconvert_exporter": "python",
   "pygments_lexer": "ipython2",
   "version": "2.7.12"
  }
 },
 "nbformat": 4,
 "nbformat_minor": 0
}
