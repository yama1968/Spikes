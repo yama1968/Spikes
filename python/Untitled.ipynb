{
 "cells": [
  {
   "cell_type": "code",
   "execution_count": 1,
   "metadata": {
    "ExecuteTime": {
     "end_time": "2019-01-19T16:53:33.159396Z",
     "start_time": "2019-01-19T16:53:32.777310Z"
    }
   },
   "outputs": [],
   "source": [
    "import numpy as np\n",
    "import pandas as pd\n",
    "import pyarrow as pa\n",
    "import pyarrow.parquet as pq"
   ]
  },
  {
   "cell_type": "code",
   "execution_count": 2,
   "metadata": {
    "ExecuteTime": {
     "end_time": "2019-01-19T16:53:42.424721Z",
     "start_time": "2019-01-19T16:53:33.278244Z"
    }
   },
   "outputs": [
    {
     "name": "stdout",
     "output_type": "stream",
     "text": [
      "CPU times: user 22.5 s, sys: 6.38 s, total: 28.8 s\n",
      "Wall time: 9.12 s\n"
     ]
    },
    {
     "data": {
      "text/plain": [
       "pyarrow.Table\n",
       "id: decimal(20, 0)\n",
       "click: int32\n",
       "hour: int32\n",
       "C1: int32\n",
       "banner_pos: int32\n",
       "site_id: string\n",
       "site_domain: string\n",
       "site_category: string\n",
       "app_id: string\n",
       "app_domain: string\n",
       "app_category: string\n",
       "device_id: string\n",
       "device_ip: string\n",
       "device_model: string\n",
       "device_type: int32\n",
       "device_conn_type: int32\n",
       "C14: int32\n",
       "C15: int32\n",
       "C16: int32\n",
       "C17: int32\n",
       "C18: int32\n",
       "C19: int32\n",
       "C20: int32\n",
       "C21: int32\n",
       "metadata\n",
       "--------\n",
       "{b'org.apache.spark.sql.parquet.row.metadata': b'{\"type\":\"struct\",\"fields\":[{'\n",
       "                                               b'\"name\":\"id\",\"type\":\"decimal('\n",
       "                                               b'20,0)\",\"nullable\":true,\"meta'\n",
       "                                               b'data\":{}},{\"name\":\"click\",\"t'\n",
       "                                               b'ype\":\"integer\",\"nullable\":tr'\n",
       "                                               b'ue,\"metadata\":{}},{\"name\":\"h'\n",
       "                                               b'our\",\"type\":\"integer\",\"nulla'\n",
       "                                               b'ble\":true,\"metadata\":{}},{\"n'\n",
       "                                               b'ame\":\"C1\",\"type\":\"integer\",\"'\n",
       "                                               b'nullable\":true,\"metadata\":{}'\n",
       "                                               b'},{\"name\":\"banner_pos\",\"type'\n",
       "                                               b'\":\"integer\",\"nullable\":true,'\n",
       "                                               b'\"metadata\":{}},{\"name\":\"site'\n",
       "                                               b'_id\",\"type\":\"string\",\"nullab'\n",
       "                                               b'le\":true,\"metadata\":{}},{\"na'\n",
       "                                               b'me\":\"site_domain\",\"type\":\"st'\n",
       "                                               b'ring\",\"nullable\":true,\"metad'\n",
       "                                               b'ata\":{}},{\"name\":\"site_categ'\n",
       "                                               b'ory\",\"type\":\"string\",\"nullab'\n",
       "                                               b'le\":true,\"metadata\":{}},{\"na'\n",
       "                                               b'me\":\"app_id\",\"type\":\"string\"'\n",
       "                                               b',\"nullable\":true,\"metadata\":'\n",
       "                                               b'{}},{\"name\":\"app_domain\",\"ty'\n",
       "                                               b'pe\":\"string\",\"nullable\":true'\n",
       "                                               b',\"metadata\":{}},{\"name\":\"app'\n",
       "                                               b'_category\",\"type\":\"string\",\"'\n",
       "                                               b'nullable\":true,\"metadata\":{}'\n",
       "                                               b'},{\"name\":\"device_id\",\"type\"'\n",
       "                                               b':\"string\",\"nullable\":true,\"m'\n",
       "                                               b'etadata\":{}},{\"name\":\"device'\n",
       "                                               b'_ip\",\"type\":\"string\",\"nullab'\n",
       "                                               b'le\":true,\"metadata\":{}},{\"na'\n",
       "                                               b'me\":\"device_model\",\"type\":\"s'\n",
       "                                               b'tring\",\"nullable\":true,\"meta'\n",
       "                                               b'data\":{}},{\"name\":\"device_ty'\n",
       "                                               b'pe\",\"type\":\"integer\",\"nullab'\n",
       "                                               b'le\":true,\"metadata\":{}},{\"na'\n",
       "                                               b'me\":\"device_conn_type\",\"type'\n",
       "                                               b'\":\"integer\",\"nullable\":true,'\n",
       "                                               b'\"metadata\":{}},{\"name\":\"C14\"'\n",
       "                                               b',\"type\":\"integer\",\"nullable\"'\n",
       "                                               b':true,\"metadata\":{}},{\"name\"'\n",
       "                                               b':\"C15\",\"type\":\"integer\",\"nul'\n",
       "                                               b'lable\":true,\"metadata\":{}},{'\n",
       "                                               b'\"name\":\"C16\",\"type\":\"integer'\n",
       "                                               b'\",\"nullable\":true,\"metadata\"'\n",
       "                                               b':{}},{\"name\":\"C17\",\"type\":\"i'\n",
       "                                               b'nteger\",\"nullable\":true,\"met'\n",
       "                                               b'adata\":{}},{\"name\":\"C18\",\"ty'\n",
       "                                               b'pe\":\"integer\",\"nullable\":tru'\n",
       "                                               b'e,\"metadata\":{}},{\"name\":\"C1'\n",
       "                                               b'9\",\"type\":\"integer\",\"nullabl'\n",
       "                                               b'e\":true,\"metadata\":{}},{\"nam'\n",
       "                                               b'e\":\"C20\",\"type\":\"integer\",\"n'\n",
       "                                               b'ullable\":true,\"metadata\":{}}'\n",
       "                                               b',{\"name\":\"C21\",\"type\":\"integ'\n",
       "                                               b'er\",\"nullable\":true,\"metadat'\n",
       "                                               b'a\":{}}]}'}"
      ]
     },
     "execution_count": 2,
     "metadata": {},
     "output_type": "execute_result"
    }
   ],
   "source": [
    "%time df = pq.read_table(\"/home4/yannick4/tmp/train.parquet/\")\n",
    "\n",
    "df"
   ]
  },
  {
   "cell_type": "code",
   "execution_count": 5,
   "metadata": {
    "ExecuteTime": {
     "end_time": "2019-01-19T16:40:21.992594Z",
     "start_time": "2019-01-19T16:40:21.959057Z"
    }
   },
   "outputs": [
    {
     "ename": "ArrowMemoryError",
     "evalue": "",
     "output_type": "error",
     "traceback": [
      "\u001b[0;31m---------------------------------------------------------------------------\u001b[0m",
      "\u001b[0;31mArrowMemoryError\u001b[0m                          Traceback (most recent call last)",
      "\u001b[0;32m<timed eval>\u001b[0m in \u001b[0;36m<module>\u001b[0;34m()\u001b[0m\n",
      "\u001b[0;32m~/bin/anaconda3/envs/py36/lib/python3.6/site-packages/pyarrow/table.pxi\u001b[0m in \u001b[0;36mpyarrow.lib.Table.to_pandas\u001b[0;34m()\u001b[0m\n",
      "\u001b[0;32m~/bin/anaconda3/envs/py36/lib/python3.6/site-packages/pyarrow/pandas_compat.py\u001b[0m in \u001b[0;36mtable_to_blockmanager\u001b[0;34m(options, table, memory_pool, categories)\u001b[0m\n\u001b[1;32m    576\u001b[0m             )\n\u001b[1;32m    577\u001b[0m \u001b[0;34m\u001b[0m\u001b[0m\n\u001b[0;32m--> 578\u001b[0;31m     \u001b[0mblocks\u001b[0m \u001b[0;34m=\u001b[0m \u001b[0m_table_to_blocks\u001b[0m\u001b[0;34m(\u001b[0m\u001b[0moptions\u001b[0m\u001b[0;34m,\u001b[0m \u001b[0mblock_table\u001b[0m\u001b[0;34m,\u001b[0m \u001b[0mmemory_pool\u001b[0m\u001b[0;34m,\u001b[0m \u001b[0mcategories\u001b[0m\u001b[0;34m)\u001b[0m\u001b[0;34m\u001b[0m\u001b[0m\n\u001b[0m\u001b[1;32m    579\u001b[0m \u001b[0;34m\u001b[0m\u001b[0m\n\u001b[1;32m    580\u001b[0m     \u001b[0;31m# Construct the row index\u001b[0m\u001b[0;34m\u001b[0m\u001b[0;34m\u001b[0m\u001b[0m\n",
      "\u001b[0;32m~/bin/anaconda3/envs/py36/lib/python3.6/site-packages/pyarrow/pandas_compat.py\u001b[0m in \u001b[0;36m_table_to_blocks\u001b[0;34m(options, block_table, memory_pool, categories)\u001b[0m\n\u001b[1;32m    741\u001b[0m     \u001b[0;31m# Convert an arrow table to Block from the internal pandas API\u001b[0m\u001b[0;34m\u001b[0m\u001b[0;34m\u001b[0m\u001b[0m\n\u001b[1;32m    742\u001b[0m     result = pa.lib.table_to_blocks(options, block_table, memory_pool,\n\u001b[0;32m--> 743\u001b[0;31m                                     categories)\n\u001b[0m\u001b[1;32m    744\u001b[0m \u001b[0;34m\u001b[0m\u001b[0m\n\u001b[1;32m    745\u001b[0m     \u001b[0;31m# Defined above\u001b[0m\u001b[0;34m\u001b[0m\u001b[0;34m\u001b[0m\u001b[0m\n",
      "\u001b[0;32m~/bin/anaconda3/envs/py36/lib/python3.6/site-packages/pyarrow/table.pxi\u001b[0m in \u001b[0;36mpyarrow.lib.table_to_blocks\u001b[0;34m()\u001b[0m\n",
      "\u001b[0;32m~/bin/anaconda3/envs/py36/lib/python3.6/site-packages/pyarrow/error.pxi\u001b[0m in \u001b[0;36mpyarrow.lib.check_status\u001b[0;34m()\u001b[0m\n",
      "\u001b[0;31mArrowMemoryError\u001b[0m: "
     ]
    }
   ],
   "source": [
    "%time df"
   ]
  },
  {
   "cell_type": "code",
   "execution_count": null,
   "metadata": {},
   "outputs": [],
   "source": []
  }
 ],
 "metadata": {
  "kernelspec": {
   "display_name": "Python 3",
   "language": "python",
   "name": "python3"
  },
  "language_info": {
   "codemirror_mode": {
    "name": "ipython",
    "version": 3
   },
   "file_extension": ".py",
   "mimetype": "text/x-python",
   "name": "python",
   "nbconvert_exporter": "python",
   "pygments_lexer": "ipython3",
   "version": "3.6.4"
  },
  "toc": {
   "nav_menu": {},
   "number_sections": true,
   "sideBar": true,
   "skip_h1_title": false,
   "toc_cell": false,
   "toc_position": {},
   "toc_section_display": "block",
   "toc_window_display": false
  },
  "varInspector": {
   "cols": {
    "lenName": 16,
    "lenType": 16,
    "lenVar": 40
   },
   "kernels_config": {
    "python": {
     "delete_cmd_postfix": "",
     "delete_cmd_prefix": "del ",
     "library": "var_list.py",
     "varRefreshCmd": "print(var_dic_list())"
    },
    "r": {
     "delete_cmd_postfix": ") ",
     "delete_cmd_prefix": "rm(",
     "library": "var_list.r",
     "varRefreshCmd": "cat(var_dic_list()) "
    }
   },
   "types_to_exclude": [
    "module",
    "function",
    "builtin_function_or_method",
    "instance",
    "_Feature"
   ],
   "window_display": false
  }
 },
 "nbformat": 4,
 "nbformat_minor": 2
}
