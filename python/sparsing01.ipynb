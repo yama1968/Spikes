{
 "cells": [
  {
   "cell_type": "code",
   "execution_count": 1,
   "metadata": {
    "collapsed": true
   },
   "outputs": [],
   "source": [
    "import pandas as pd\n",
    "import numpy as np\n",
    "\n",
    "from numpy.random import random_integers"
   ]
  },
  {
   "cell_type": "code",
   "execution_count": 2,
   "metadata": {
    "collapsed": false
   },
   "outputs": [],
   "source": [
    "N    = 10000\n",
    "K    =  1000\n",
    "recs = 40000\n",
    "\n",
    "def get_sample_df(N = N, K = K, recs = recs): \n",
    "    df = pd.DataFrame({\n",
    "            'u': random_integers(low = 0, high = N, size = recs),\n",
    "            'i': random_integers(low = 0, high = K, size = recs)\n",
    "            })\n",
    "    return df\n",
    "\n",
    "def get_dummied(df, sparse = True):\n",
    "    d = pd.get_dummies(df, columns=[\"i\"], sparse=sparse)\n",
    "    print (d.shape)\n",
    "    return d"
   ]
  },
  {
   "cell_type": "code",
   "execution_count": null,
   "metadata": {
    "collapsed": false
   },
   "outputs": [
    {
     "name": "stdout",
     "output_type": "stream",
     "text": [
      "[1, 1, 1]\n",
      "(40000, 2)\n",
      "(40000, 1002)\n",
      "CPU times: user 3.42 s, sys: 17.8 ms, total: 3.44 s\n",
      "Wall time: 3.45 s\n",
      "[10, 1, 1]\n",
      "(40000, 2)\n"
     ]
    }
   ],
   "source": [
    "N    = 10000\n",
    "K    =  1000\n",
    "recs = 40000\n",
    "\n",
    "tests = [\n",
    "    [1, 1, 1],\n",
    "    [10, 1, 1],\n",
    "    [1, 10, 1],\n",
    "    [1, 1, 10],\n",
    "    [10, 1, 10]\n",
    "]\n",
    "\n",
    "for t in tests:\n",
    "    print (t)\n",
    "    s = get_sample_df(*list(np.array([N, K, recs]) * t))\n",
    "    print(s.shape)\n",
    "    %time get_dummied(s)\n",
    "    "
   ]
  },
  {
   "cell_type": "code",
   "execution_count": 5,
   "metadata": {
    "collapsed": false
   },
   "outputs": [
    {
     "name": "stdout",
     "output_type": "stream",
     "text": [
      "[1, 1, 1]\n",
      "(40000, 2)\n",
      "(40000, 1002)\n",
      "CPU times: user 265 ms, sys: 47.6 ms, total: 312 ms\n",
      "Wall time: 312 ms\n",
      "[10, 1, 1]\n",
      "(40000, 2)\n",
      "(40000, 1002)\n",
      "CPU times: user 262 ms, sys: 47.3 ms, total: 310 ms\n",
      "Wall time: 310 ms\n",
      "[1, 10, 1]\n",
      "(40000, 2)\n",
      "(40000, 9806)\n",
      "CPU times: user 2.93 s, sys: 2.16 s, total: 5.09 s\n",
      "Wall time: 5.11 s\n",
      "[1, 1, 10]\n",
      "(400000, 2)\n",
      "(400000, 1002)\n",
      "CPU times: user 6.46 s, sys: 1.81 s, total: 8.27 s\n",
      "Wall time: 8.3 s\n",
      "[10, 1, 10]\n",
      "(400000, 2)\n",
      "(400000, 1002)\n",
      "CPU times: user 6.47 s, sys: 1.94 s, total: 8.42 s\n",
      "Wall time: 8.44 s\n"
     ]
    }
   ],
   "source": [
    "for t in tests:\n",
    "    print (t)\n",
    "    s = get_sample_df(*list(np.array([N, K, recs]) * t))\n",
    "    print(s.shape)\n",
    "    %time get_dummied(s, sparse=False)"
   ]
  },
  {
   "cell_type": "code",
   "execution_count": 6,
   "metadata": {
    "collapsed": true
   },
   "outputs": [],
   "source": [
    "from scipy.sparse import csr_matrix\n",
    "\n",
    "def get_csr(df):\n",
    "    d = csr_matrix((np.ones(len(df)), (df.u, df.i)))\n",
    "    print (d.shape)\n",
    "    return d"
   ]
  },
  {
   "cell_type": "code",
   "execution_count": 7,
   "metadata": {
    "collapsed": false
   },
   "outputs": [
    {
     "name": "stdout",
     "output_type": "stream",
     "text": [
      "(5, 4)\n"
     ]
    },
    {
     "data": {
      "text/plain": [
       "array([[ 0.,  0.,  0.,  0.],\n",
       "       [ 2.,  1.,  2.,  0.],\n",
       "       [ 0.,  0.,  1.,  0.],\n",
       "       [ 0.,  0.,  0.,  2.],\n",
       "       [ 1.,  1.,  0.,  0.]])"
      ]
     },
     "execution_count": 7,
     "metadata": {},
     "output_type": "execute_result"
    }
   ],
   "source": [
    "get_csr(get_sample_df(4, 3, 10)).toarray()"
   ]
  },
  {
   "cell_type": "code",
   "execution_count": 8,
   "metadata": {
    "collapsed": false
   },
   "outputs": [
    {
     "name": "stdout",
     "output_type": "stream",
     "text": [
      "[1, 1, 1]\n",
      "(40000, 2)\n",
      "(10001, 1001)\n",
      "CPU times: user 2.29 ms, sys: 2 µs, total: 2.29 ms\n",
      "Wall time: 2.3 ms\n",
      "[10, 1, 1]\n",
      "(40000, 2)\n",
      "(99999, 1001)\n",
      "CPU times: user 3.38 ms, sys: 86 µs, total: 3.47 ms\n",
      "Wall time: 3.37 ms\n",
      "[1, 10, 1]\n",
      "(40000, 2)\n",
      "(10001, 10001)\n",
      "CPU times: user 2.23 ms, sys: 6 µs, total: 2.23 ms\n",
      "Wall time: 2.23 ms\n",
      "[1, 1, 10]\n",
      "(400000, 2)\n",
      "(10001, 1001)\n",
      "CPU times: user 20.8 ms, sys: 45 µs, total: 20.9 ms\n",
      "Wall time: 20.9 ms\n",
      "[10, 1, 10]\n",
      "(400000, 2)\n",
      "(100001, 1001)\n",
      "CPU times: user 19.5 ms, sys: 42 µs, total: 19.6 ms\n",
      "Wall time: 19.6 ms\n"
     ]
    }
   ],
   "source": [
    "N    = 10000\n",
    "K    =  1000\n",
    "recs = 40000\n",
    "\n",
    "for t in tests:\n",
    "    print (t)\n",
    "    s = get_sample_df(*list(np.array([N, K, recs]) * t))\n",
    "    print(s.shape)\n",
    "    %time get_csr(s)"
   ]
  },
  {
   "cell_type": "code",
   "execution_count": 9,
   "metadata": {
    "collapsed": false
   },
   "outputs": [
    {
     "name": "stdout",
     "output_type": "stream",
     "text": [
      "[1, 1, 1]\n",
      "(4000000, 2)\n",
      "(500001, 10001)\n",
      "CPU times: user 247 ms, sys: 3.4 ms, total: 250 ms\n",
      "Wall time: 250 ms\n",
      "[10, 1, 1]\n",
      "(4000000, 2)\n",
      "(5000001, 10001)\n",
      "CPU times: user 513 ms, sys: 5.39 ms, total: 519 ms\n",
      "Wall time: 520 ms\n",
      "[1, 10, 1]\n",
      "(4000000, 2)\n",
      "(500001, 100001)\n",
      "CPU times: user 314 ms, sys: 1.48 ms, total: 316 ms\n",
      "Wall time: 316 ms\n",
      "[1, 1, 10]\n",
      "(40000000, 2)\n",
      "(500001, 10001)\n",
      "CPU times: user 2.76 s, sys: 114 ms, total: 2.87 s\n",
      "Wall time: 2.88 s\n",
      "[10, 1, 10]\n",
      "(40000000, 2)\n",
      "(5000001, 10001)\n",
      "CPU times: user 4.75 s, sys: 113 ms, total: 4.86 s\n",
      "Wall time: 4.87 s\n"
     ]
    }
   ],
   "source": [
    "N    = 500000\n",
    "K    =  10000\n",
    "recs = 4000000\n",
    "\n",
    "for t in tests:\n",
    "    print (t)\n",
    "    s = get_sample_df(*list(np.array([N, K, recs]) * t))\n",
    "    print(s.shape)\n",
    "    %time get_csr(s)"
   ]
  },
  {
   "cell_type": "code",
   "execution_count": 10,
   "metadata": {
    "collapsed": false
   },
   "outputs": [
    {
     "name": "stdout",
     "output_type": "stream",
     "text": [
      "(500001, 10001)\n",
      "CPU times: user 22.1 ms, sys: 1.78 ms, total: 23.9 ms\n",
      "Wall time: 24 ms\n"
     ]
    },
    {
     "data": {
      "text/plain": [
       "<500001x10001 sparse matrix of type '<type 'numpy.float64'>'\n",
       "\twith 3998406 stored elements in Compressed Sparse Row format>"
      ]
     },
     "execution_count": 10,
     "metadata": {},
     "output_type": "execute_result"
    }
   ],
   "source": [
    "m = get_csr(get_sample_df(N, K, recs))\n",
    "%time m+m"
   ]
  },
  {
   "cell_type": "code",
   "execution_count": 25,
   "metadata": {
    "collapsed": false
   },
   "outputs": [
    {
     "name": "stdout",
     "output_type": "stream",
     "text": [
      "(1, 500001)\n",
      "(500001, 10001)\n",
      "100 loops, best of 3: 8.2 ms per loop\n"
     ]
    }
   ],
   "source": [
    "foo = np.array([random_integers(low=-1, high=1, size=N+1)])\n",
    "print(foo.shape)\n",
    "print(m.shape)\n",
    "%timeit foo * m"
   ]
  },
  {
   "cell_type": "code",
   "execution_count": 12,
   "metadata": {
    "collapsed": false
   },
   "outputs": [
    {
     "name": "stdout",
     "output_type": "stream",
     "text": [
      "[1, 1, 1]\n",
      "(4000000, 2)\n",
      "(500001, 10001)\n",
      "\n",
      "(500001, 10001)\n",
      "\n",
      "(500001, 10001)\n",
      "\n",
      "(500001, 10001)\n",
      "\n",
      "1 loops, best of 3: 243 ms per loop\n",
      "[10, 1, 1]\n",
      "(4000000, 2)\n",
      "(5000001, 10001)\n",
      "\n",
      "(5000001, 10001)\n",
      "\n",
      "(5000001, 10001)\n",
      "\n",
      "(5000001, 10001)\n",
      "\n",
      "1 loops, best of 3: 579 ms per loop\n",
      "[1, 10, 1]\n",
      "(4000000, 2)\n",
      "(500001, 100001)\n",
      "\n",
      "(500001, 100001)\n",
      "\n",
      "(500001, 100001)\n",
      "\n",
      "(500001, 100001)\n",
      "\n",
      "1 loops, best of 3: 281 ms per loop\n",
      "[1, 1, 10]\n",
      "(40000000, 2)\n",
      "(500001, 10001)\n",
      "\n",
      "(500001, 10001)\n",
      "\n",
      "(500001, 10001)\n",
      "\n",
      "(500001, 10001)\n",
      "\n",
      "1 loops, best of 3: 2.83 s per loop\n",
      "[10, 1, 10]\n",
      "(40000000, 2)\n",
      "(5000001, 10001)\n",
      "\n",
      "(5000001, 10001)\n",
      "\n",
      "(5000001, 10001)\n",
      "\n",
      "(5000001, 10001)\n",
      "\n",
      "1 loops, best of 3: 4.85 s per loop\n"
     ]
    },
    {
     "name": "stderr",
     "output_type": "stream",
     "text": [
      "/home/yannick/bin/anaconda3/envs/py27/lib/python2.7/site-packages/numba/dataflow.py:297: RuntimeWarning: Python2 style print partially supported.  Please use Python3 style print.\n",
      "  \"Python3 style print.\", RuntimeWarning)\n"
     ]
    }
   ],
   "source": [
    "from numba import jit\n",
    "\n",
    "get_csr2 = jit(get_csr)\n",
    "\n",
    "N    = 500000\n",
    "K    =  10000\n",
    "recs = 4000000\n",
    "\n",
    "for t in tests:\n",
    "    print (t)\n",
    "    s = get_sample_df(*list(np.array([N, K, recs]) * t))\n",
    "    print(s.shape)\n",
    "    %timeit get_csr2(s)"
   ]
  },
  {
   "cell_type": "code",
   "execution_count": 26,
   "metadata": {
    "collapsed": false
   },
   "outputs": [
    {
     "name": "stdout",
     "output_type": "stream",
     "text": [
      "The slowest run took 4.29 times longer than the fastest. This could mean that an intermediate result is being cached \n",
      "100 loops, best of 3: 8.22 ms per loop\n"
     ]
    }
   ],
   "source": [
    "@jit\n",
    "def test1():\n",
    "    return foo * m\n",
    "\n",
    "%timeit test1()"
   ]
  },
  {
   "cell_type": "code",
   "execution_count": 24,
   "metadata": {
    "collapsed": false
   },
   "outputs": [
    {
     "name": "stdout",
     "output_type": "stream",
     "text": [
      "CPU times: user 77.5 ms, sys: 606 µs, total: 78.1 ms\n",
      "Wall time: 77.8 ms\n",
      "(\"<500001x10001 sparse matrix of type '<type 'numpy.float64'>'\\n\\twith 3998406 stored elements in Compressed Sparse Row format>\", \"<500001x10001 sparse matrix of type '<type 'numpy.float64'>'\\n\\twith 3998406 stored elements in Compressed Sparse Column format>\")\n"
     ]
    }
   ],
   "source": [
    "%time m.tocsc()\n",
    "n=m.tocsc()\n",
    "print(repr(m), repr(n))"
   ]
  }
 ],
 "metadata": {
  "kernelspec": {
   "display_name": "Python 3",
   "language": "python",
   "name": "python3"
  },
  "language_info": {
   "codemirror_mode": {
    "name": "ipython",
    "version": 3
   },
   "file_extension": ".py",
   "mimetype": "text/x-python",
   "name": "python",
   "nbconvert_exporter": "python",
   "pygments_lexer": "ipython3",
   "version": "3.5.1"
  }
 },
 "nbformat": 4,
 "nbformat_minor": 0
}
