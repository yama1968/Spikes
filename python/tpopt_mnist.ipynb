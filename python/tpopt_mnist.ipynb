{
 "cells": [
  {
   "cell_type": "code",
   "execution_count": 1,
   "metadata": {
    "collapsed": true
   },
   "outputs": [],
   "source": [
    "from tpot import TPOTClassifier\n",
    "from sklearn.datasets import load_digits\n",
    "from sklearn.model_selection import train_test_split"
   ]
  },
  {
   "cell_type": "code",
   "execution_count": 64,
   "metadata": {},
   "outputs": [],
   "source": [
    "digits = load_digits()\n",
    "X_train, X_test, y_train, y_test = train_test_split(digits.data, digits.target,\n",
    "                                                    train_size=0.75, test_size=0.25)\n",
    "\n",
    "tpot = TPOTClassifier(generations=10, population_size=50, verbosity=2, n_jobs=4)"
   ]
  },
  {
   "cell_type": "code",
   "execution_count": 65,
   "metadata": {},
   "outputs": [
    {
     "name": "stderr",
     "output_type": "stream",
     "text": [
      "          on Progress:  14%|█▍        | 78/550 [02:38<1:31:52, 11.68s/pipeline]\r"
     ]
    },
    {
     "name": "stdout",
     "output_type": "stream",
     "text": [
      "Generation 1 - Current best internal CV score: 0.9828562821946406\n"
     ]
    },
    {
     "name": "stderr",
     "output_type": "stream",
     "text": [
      "          on Progress:  23%|██▎       | 129/550 [03:35<35:05,  5.00s/pipeline] \r"
     ]
    },
    {
     "name": "stdout",
     "output_type": "stream",
     "text": [
      "Generation 2 - Current best internal CV score: 0.9828562821946406\n"
     ]
    },
    {
     "name": "stderr",
     "output_type": "stream",
     "text": [
      "          on Progress:  32%|███▏      | 175/550 [04:23<13:00,  2.08s/pipeline]\r"
     ]
    },
    {
     "name": "stdout",
     "output_type": "stream",
     "text": [
      "Generation 3 - Current best internal CV score: 0.9828562821946406\n"
     ]
    },
    {
     "name": "stderr",
     "output_type": "stream",
     "text": [
      "          on Progress:  40%|████      | 222/550 [05:29<08:11,  1.50s/pipeline]\r"
     ]
    },
    {
     "name": "stdout",
     "output_type": "stream",
     "text": [
      "Generation 4 - Current best internal CV score: 0.9836771016767235\n"
     ]
    },
    {
     "name": "stderr",
     "output_type": "stream",
     "text": [
      "          on Progress:  49%|████▉     | 270/550 [06:40<06:47,  1.46s/pipeline]\r"
     ]
    },
    {
     "name": "stdout",
     "output_type": "stream",
     "text": [
      "Generation 5 - Current best internal CV score: 0.9843930933158891\n"
     ]
    },
    {
     "name": "stderr",
     "output_type": "stream",
     "text": [
      "          on Progress:  57%|█████▋    | 313/550 [09:48<15:18,  3.88s/pipeline]\r"
     ]
    },
    {
     "name": "stdout",
     "output_type": "stream",
     "text": [
      "Generation 6 - Current best internal CV score: 0.9881275235058107\n"
     ]
    },
    {
     "name": "stderr",
     "output_type": "stream",
     "text": [
      "          on Progress:  63%|██████▎   | 349/550 [13:41<19:16,  5.76s/pipeline]\r"
     ]
    },
    {
     "name": "stdout",
     "output_type": "stream",
     "text": [
      "Generation 7 - Current best internal CV score: 0.9881275235058107\n"
     ]
    },
    {
     "name": "stderr",
     "output_type": "stream",
     "text": [
      "          on Progress:  74%|███████▍  | 408/550 [15:44<07:08,  3.02s/pipeline]\r"
     ]
    },
    {
     "name": "stdout",
     "output_type": "stream",
     "text": [
      "Generation 8 - Current best internal CV score: 0.9881275235058107\n"
     ]
    },
    {
     "name": "stderr",
     "output_type": "stream",
     "text": [
      "          on Progress:  79%|███████▉  | 436/550 [19:01<10:06,  5.32s/pipeline]\r"
     ]
    },
    {
     "name": "stdout",
     "output_type": "stream",
     "text": [
      "Generation 9 - Current best internal CV score: 0.9881275235058107\n"
     ]
    },
    {
     "name": "stderr",
     "output_type": "stream",
     "text": [
      "          on Progress:  87%|████████▋ | 477/550 [22:23<06:52,  5.64s/pipeline]\r"
     ]
    },
    {
     "name": "stdout",
     "output_type": "stream",
     "text": [
      "Generation 10 - Current best internal CV score: 0.9903303230886917\n"
     ]
    },
    {
     "name": "stderr",
     "output_type": "stream",
     "text": [
      "                                                                              \r"
     ]
    },
    {
     "name": "stdout",
     "output_type": "stream",
     "text": [
      "\n",
      "Best pipeline: KNeighborsClassifier(Normalizer(input_matrix, Normalizer__norm=l2), KNeighborsClassifier__n_neighbors=2, KNeighborsClassifier__p=DEFAULT, KNeighborsClassifier__weights=distance)\n",
      "0.975555555556\n",
      "CPU times: user 45.5 s, sys: 1.07 s, total: 46.6 s\n",
      "Wall time: 22min 24s\n"
     ]
    }
   ],
   "source": [
    "%%time\n",
    "\n",
    "tpot.fit(X_train, y_train)\n",
    "print(tpot.score(X_test, y_test))\n",
    "tpot.export('tpot_mnist_pipeline.py')"
   ]
  },
  {
   "cell_type": "code",
   "execution_count": 66,
   "metadata": {},
   "outputs": [
    {
     "name": "stdout",
     "output_type": "stream",
     "text": [
      "import numpy as np\r\n",
      "\r\n",
      "from sklearn.model_selection import train_test_split\r\n",
      "from sklearn.neighbors import KNeighborsClassifier\r\n",
      "from sklearn.pipeline import make_pipeline\r\n",
      "from sklearn.preprocessing import Normalizer\r\n",
      "\r\n",
      "# NOTE: Make sure that the class is labeled 'class' in the data file\r\n",
      "tpot_data = np.recfromcsv('PATH/TO/DATA/FILE', delimiter='COLUMN_SEPARATOR', dtype=np.float64)\r\n",
      "features = np.delete(tpot_data.view(np.float64).reshape(tpot_data.size, -1), tpot_data.dtype.names.index('class'), axis=1)\r\n",
      "training_features, testing_features, training_target, testing_target = \\\r\n",
      "    train_test_split(features, tpot_data['class'], random_state=42)\r\n",
      "\r\n",
      "exported_pipeline = make_pipeline(\r\n",
      "    Normalizer(norm=\"l2\"),\r\n",
      "    KNeighborsClassifier(n_neighbors=2, weights=\"distance\")\r\n",
      ")\r\n",
      "\r\n",
      "exported_pipeline.fit(training_features, training_target)\r\n",
      "results = exported_pipeline.predict(testing_features)\r\n"
     ]
    }
   ],
   "source": [
    "! cat tpot_mnist_pipeline.py"
   ]
  },
  {
   "cell_type": "code",
   "execution_count": 59,
   "metadata": {},
   "outputs": [
    {
     "name": "stdout",
     "output_type": "stream",
     "text": [
      "Checking whether there is an H2O instance running at http://localhost:54321..... not found.\n",
      "Attempting to start a local H2O server...\n",
      "  Java Version: java version \"1.8.0_144\"; Java(TM) SE Runtime Environment (build 1.8.0_144-b01); Java HotSpot(TM) 64-Bit Server VM (build 25.144-b01, mixed mode)\n",
      "  Starting server from /home/yannick/bin/anaconda3/envs/py36/lib/python3.6/site-packages/h2o/backend/bin/h2o.jar\n",
      "  Ice root: /tmp/tmp2mguajl3\n",
      "  JVM stdout: /tmp/tmp2mguajl3/h2o_yannick_started_from_python.out\n",
      "  JVM stderr: /tmp/tmp2mguajl3/h2o_yannick_started_from_python.err\n",
      "  Server is running at http://127.0.0.1:54321\n",
      "Connecting to H2O server at http://127.0.0.1:54321... successful.\n"
     ]
    },
    {
     "data": {
      "text/html": [
       "<div style=\"overflow:auto\"><table style=\"width:50%\"><tr><td>H2O cluster uptime:</td>\n",
       "<td>01 secs</td></tr>\n",
       "<tr><td>H2O cluster version:</td>\n",
       "<td>3.14.0.2</td></tr>\n",
       "<tr><td>H2O cluster version age:</td>\n",
       "<td>25 days </td></tr>\n",
       "<tr><td>H2O cluster name:</td>\n",
       "<td>H2O_from_python_yannick_qzlkic</td></tr>\n",
       "<tr><td>H2O cluster total nodes:</td>\n",
       "<td>1</td></tr>\n",
       "<tr><td>H2O cluster free memory:</td>\n",
       "<td>3.476 Gb</td></tr>\n",
       "<tr><td>H2O cluster total cores:</td>\n",
       "<td>8</td></tr>\n",
       "<tr><td>H2O cluster allowed cores:</td>\n",
       "<td>8</td></tr>\n",
       "<tr><td>H2O cluster status:</td>\n",
       "<td>accepting new members, healthy</td></tr>\n",
       "<tr><td>H2O connection url:</td>\n",
       "<td>http://127.0.0.1:54321</td></tr>\n",
       "<tr><td>H2O connection proxy:</td>\n",
       "<td>None</td></tr>\n",
       "<tr><td>H2O internal security:</td>\n",
       "<td>False</td></tr>\n",
       "<tr><td>H2O API Extensions:</td>\n",
       "<td>XGBoost, Algos, AutoML, Core V3, Core V4</td></tr>\n",
       "<tr><td>Python version:</td>\n",
       "<td>3.6.1 final</td></tr></table></div>"
      ],
      "text/plain": [
       "--------------------------  ----------------------------------------\n",
       "H2O cluster uptime:         01 secs\n",
       "H2O cluster version:        3.14.0.2\n",
       "H2O cluster version age:    25 days\n",
       "H2O cluster name:           H2O_from_python_yannick_qzlkic\n",
       "H2O cluster total nodes:    1\n",
       "H2O cluster free memory:    3.476 Gb\n",
       "H2O cluster total cores:    8\n",
       "H2O cluster allowed cores:  8\n",
       "H2O cluster status:         accepting new members, healthy\n",
       "H2O connection url:         http://127.0.0.1:54321\n",
       "H2O connection proxy:\n",
       "H2O internal security:      False\n",
       "H2O API Extensions:         XGBoost, Algos, AutoML, Core V3, Core V4\n",
       "Python version:             3.6.1 final\n",
       "--------------------------  ----------------------------------------"
      ]
     },
     "metadata": {},
     "output_type": "display_data"
    }
   ],
   "source": [
    "import h2o\n",
    "\n",
    "h2o.init()"
   ]
  },
  {
   "cell_type": "code",
   "execution_count": 61,
   "metadata": {},
   "outputs": [
    {
     "name": "stdout",
     "output_type": "stream",
     "text": [
      "Parse progress: |█████████████████████████████████████████████████████████| 100%\n",
      "Parse progress: |█████████████████████████████████████████████████████████| 100%\n"
     ]
    }
   ],
   "source": [
    "target = \"C1\"\n",
    "\n",
    "import numpy as np\n",
    "\n",
    "def to_h2o(X, y):\n",
    "    X_h2o = h2o.H2OFrame(np.concatenate((y[:,None], X), axis = 1))\n",
    "    X_h2o[target] = X_h2o[target].asfactor()\n",
    "    return X_h2o\n",
    "\n",
    "X_train_h2o = to_h2o(X_train, y_train)\n",
    "X_test_h2o = to_h2o(X_test, y_test)"
   ]
  },
  {
   "cell_type": "code",
   "execution_count": 68,
   "metadata": {},
   "outputs": [
    {
     "name": "stdout",
     "output_type": "stream",
     "text": [
      "AutoML progress: |████████████████████████████████████████████████████████| 100%\n",
      "Parse progress: |█████████████████████████████████████████████████████████| 100%\n",
      "CPU times: user 5.13 s, sys: 264 ms, total: 5.4 s\n",
      "Wall time: 20min 5s\n"
     ]
    }
   ],
   "source": [
    "%%time \n",
    "\n",
    "from h2o.automl import H2OAutoML\n",
    "\n",
    "aml = H2OAutoML(max_runtime_secs=1200)\n",
    "\n",
    "aml.train(x=X_train_h2o.columns.remove(target),\n",
    "          y=target,\n",
    "          training_frame=X_train_h2o,\n",
    "          leaderboard_frame=X_test_h2o)\n",
    "\n",
    "aml.leaderboard"
   ]
  },
  {
   "cell_type": "code",
   "execution_count": 69,
   "metadata": {},
   "outputs": [
    {
     "data": {
      "text/html": [
       "<table>\n",
       "<thead>\n",
       "<tr><th>model_id                                  </th><th>mean_per_class_error  </th></tr>\n",
       "</thead>\n",
       "<tbody>\n",
       "<tr><td>GBM_grid_1_AutoML_20170916_154811_model_7 </td><td>0,014110              </td></tr>\n",
       "<tr><td>GBM_grid_1_AutoML_20170916_163753_model_1 </td><td>0,016491              </td></tr>\n",
       "<tr><td>GBM_grid_1_AutoML_20170916_163753_model_9 </td><td>0,018881              </td></tr>\n",
       "<tr><td>GBM_grid_1_AutoML_20170916_163753_model_11</td><td>0,019655              </td></tr>\n",
       "<tr><td>GBM_grid_1_AutoML_20170916_163753_model_22</td><td>0,020734              </td></tr>\n",
       "<tr><td>GBM_grid_0_AutoML_20170916_163753_model_2 </td><td>0,020790              </td></tr>\n",
       "<tr><td>GBM_grid_1_AutoML_20170916_163753_model_5 </td><td>0,021091              </td></tr>\n",
       "<tr><td>GBM_grid_1_AutoML_20170916_163753_model_27</td><td>0,022909              </td></tr>\n",
       "<tr><td>GBM_grid_0_AutoML_20170916_163753_model_1 </td><td>0,023124              </td></tr>\n",
       "<tr><td>GBM_grid_1_AutoML_20170916_163753_model_28</td><td>0,024474              </td></tr>\n",
       "</tbody>\n",
       "</table>"
      ]
     },
     "metadata": {},
     "output_type": "display_data"
    },
    {
     "data": {
      "text/plain": []
     },
     "execution_count": 69,
     "metadata": {},
     "output_type": "execute_result"
    }
   ],
   "source": [
    "aml.leaderboard"
   ]
  },
  {
   "cell_type": "code",
   "execution_count": 67,
   "metadata": {},
   "outputs": [
    {
     "data": {
      "text/plain": [
       "0.9859"
      ]
     },
     "execution_count": 67,
     "metadata": {},
     "output_type": "execute_result"
    }
   ],
   "source": [
    "1-0.0141"
   ]
  },
  {
   "cell_type": "code",
   "execution_count": null,
   "metadata": {
    "collapsed": true
   },
   "outputs": [],
   "source": []
  }
 ],
 "metadata": {
  "kernelspec": {
   "display_name": "Python 3",
   "language": "python",
   "name": "python3"
  },
  "language_info": {
   "codemirror_mode": {
    "name": "ipython",
    "version": 3
   },
   "file_extension": ".py",
   "mimetype": "text/x-python",
   "name": "python",
   "nbconvert_exporter": "python",
   "pygments_lexer": "ipython3",
   "version": "3.6.1"
  }
 },
 "nbformat": 4,
 "nbformat_minor": 2
}
