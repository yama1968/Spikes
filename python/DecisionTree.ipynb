{
 "cells": [
  {
   "cell_type": "code",
   "execution_count": null,
   "metadata": {
    "collapsed": true
   },
   "outputs": [],
   "source": []
  },
  {
   "cell_type": "code",
   "execution_count": 1,
   "metadata": {
    "collapsed": false
   },
   "outputs": [
    {
     "name": "stdout",
     "output_type": "stream",
     "text": [
      "\"\",\"pgtime\",\"pgstat\",\"age\",\"eet\",\"g2\",\"grade\",\"gleason\",\"ploidy\"\n",
      "\"1\",6.1,0,64,2,10.26,2,4,\"diploid\"\n",
      "\"2\",9.4,0,62,1,NA,3,8,\"aneuploid\"\n",
      "\"3\",5.2,1,59,2,9.99,3,7,\"diploid\"\n"
     ]
    }
   ],
   "source": [
    "training_datafile = \"stage3cancer.csv\"\n",
    "\n",
    "with open(training_datafile) as f:\n",
    "    for i in range(4):\n",
    "        print (f.readline()[:-1])"
   ]
  },
  {
   "cell_type": "code",
   "execution_count": 2,
   "metadata": {
    "collapsed": false
   },
   "outputs": [],
   "source": [
    "from DecisionTree import DecisionTree\n",
    "\n",
    "dt = DecisionTree( \n",
    "                        training_datafile = training_datafile,\n",
    "                        csv_class_column_index = 2,\n",
    "                        csv_columns_for_features = [3,4,5,6,7,8],\n",
    "                        entropy_threshold = 0.01,\n",
    "                        max_depth_desired = 8,\n",
    "                        symbolic_to_numeric_cardinality_threshold = 10,\n",
    "                        csv_cleanup_needed = 1,\n",
    "             )"
   ]
  },
  {
   "cell_type": "code",
   "execution_count": 3,
   "metadata": {
    "collapsed": false
   },
   "outputs": [],
   "source": [
    "dt.get_training_data()\n",
    "dt.calculate_first_order_probabilities()\n",
    "dt.calculate_class_priors()"
   ]
  },
  {
   "cell_type": "code",
   "execution_count": 4,
   "metadata": {
    "collapsed": false
   },
   "outputs": [
    {
     "data": {
      "text/plain": [
       "<DecisionTree.DecisionTree.DTNode at 0x7f637d3b9c88>"
      ]
     },
     "execution_count": 4,
     "metadata": {},
     "output_type": "execute_result"
    }
   ],
   "source": [
    "%time root_node = dt.construct_decision_tree_classifier()\n",
    "root_node"
   ]
  },
  {
   "cell_type": "code",
   "execution_count": 5,
   "metadata": {
    "collapsed": false
   },
   "outputs": [
    {
     "data": {
      "text/plain": [
       "{'pgstat=0': '0.983',\n",
       " 'pgstat=1': '0.017',\n",
       " 'solution_path': ['NODE0', 'NODE2', 'NODE5', 'NODE19', 'NODE23', 'NODE24']}"
      ]
     },
     "execution_count": 5,
     "metadata": {},
     "output_type": "execute_result"
    }
   ],
   "source": [
    "test_sample  = ['g2 = 4.2',\n",
    "                        'grade = 2.3',\n",
    "                        'gleason = 4',\n",
    "                        'eet = 1.7',\n",
    "                        'age = 55.0',\n",
    "                        'ploidy = diploid']\n",
    "dt.classify(root_node, test_sample)"
   ]
  },
  {
   "cell_type": "code",
   "execution_count": 6,
   "metadata": {
    "collapsed": false
   },
   "outputs": [
    {
     "name": "stdout",
     "output_type": "stream",
     "text": [
      "\n",
      "What is the value for the feature 'grade'?\n",
      "Enter one of: [1.0, 2.0, 3.0, 4.0] => 3\n"
     ]
    },
    {
     "data": {
      "text/plain": [
       "{'pgstat=0': '0.630', 'pgstat=1': '0.370', 'solution_path': ['NODE0']}"
      ]
     },
     "execution_count": 6,
     "metadata": {},
     "output_type": "execute_result"
    }
   ],
   "source": [
    "dt.classify_by_asking_questions(root_node)"
   ]
  },
  {
   "cell_type": "code",
   "execution_count": 7,
   "metadata": {
    "collapsed": false
   },
   "outputs": [],
   "source": [
    "root_node.display_decision_tree(\" \")"
   ]
  },
  {
   "cell_type": "code",
   "execution_count": 8,
   "metadata": {
    "collapsed": true
   },
   "outputs": [],
   "source": [
    "root_node.display_node()"
   ]
  }
 ],
 "metadata": {
  "anaconda-cloud": {},
  "kernelspec": {
   "display_name": "Python [py35]",
   "language": "python",
   "name": "Python [py35]"
  },
  "language_info": {
   "codemirror_mode": {
    "name": "ipython",
    "version": 3
   },
   "file_extension": ".py",
   "mimetype": "text/x-python",
   "name": "python",
   "nbconvert_exporter": "python",
   "pygments_lexer": "ipython3",
   "version": "3.5.2"
  }
 },
 "nbformat": 4,
 "nbformat_minor": 0
}
