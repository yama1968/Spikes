{
 "cells": [
  {
   "cell_type": "code",
   "execution_count": null,
   "metadata": {},
   "outputs": [],
   "source": [
    "from sklearn import datasets\n",
    "from scipy.io.arff import loadarff\n",
    "from sklearn.cross_validation import train_test_split\n",
    "from sklearn.metrics import roc_auc_score\n",
    "\n",
    "import numpy as np\n",
    "import pandas as pd\n"
   ]
  },
  {
   "cell_type": "code",
   "execution_count": null,
   "metadata": {},
   "outputs": [],
   "source": [
    "forest = datasets.fetch_covtype()"
   ]
  },
  {
   "cell_type": "code",
   "execution_count": null,
   "metadata": {},
   "outputs": [],
   "source": [
    "type(forest)"
   ]
  },
  {
   "cell_type": "code",
   "execution_count": null,
   "metadata": {},
   "outputs": [],
   "source": [
    "X, X_test, y, y_test = train_test_split(\n",
    "    forest.data, forest.target == 2, test_size=0.3, random_state=1234)"
   ]
  },
  {
   "cell_type": "code",
   "execution_count": null,
   "metadata": {},
   "outputs": [],
   "source": [
    "print(X.shape, y.shape, X_test.shape, y_test.shape)"
   ]
  },
  {
   "cell_type": "code",
   "execution_count": null,
   "metadata": {},
   "outputs": [],
   "source": [
    "from sklearn import tree\n",
    "clf = tree.DecisionTreeClassifier(min_samples_leaf=1000, min_samples_split=3000)\n",
    "\n",
    "clf = clf.fit(X, y)\n",
    "\n",
    "y_hat = clf.predict(X_test)\n",
    "\n",
    "print(\"AUC = %.2f\" % roc_auc_score(y_test, y_hat))"
   ]
  },
  {
   "cell_type": "code",
   "execution_count": null,
   "metadata": {},
   "outputs": [],
   "source": [
    "from IPython.display import Image  \n",
    "from sklearn.externals.six import StringIO  \n",
    "import pydot_ng as pydot\n",
    "\n",
    "%matplotlib inline\n",
    "\n",
    "def plot_dtc(clf, features, classes):\n",
    "    dot_data = StringIO()  \n",
    "    tree.export_graphviz(clf, out_file=dot_data,  \n",
    "                             feature_names=features,  \n",
    "                             class_names=classes,  \n",
    "                             filled=True, rounded=True,  \n",
    "                             special_characters=True)  \n",
    "    graph = pydot.graph_from_dot_data(dot_data.getvalue())  \n",
    "    return Image(graph.create_png()) \n",
    "    \n",
    "plot_dtc(clf, [str(i) for i in range(X.shape[1])], [\"0\",\"1\"])"
   ]
  },
  {
   "cell_type": "code",
   "execution_count": null,
   "metadata": {},
   "outputs": [],
   "source": [
    "import random\n",
    "from sklearn.tree import DecisionTreeClassifier\n",
    "from sklearn.cross_validation import StratifiedKFold\n",
    "\n",
    "paramgrid = {\"max_features\":      [4, \"sqrt\", 30, 40],\n",
    "             \"max_depth\":         [10, 15, 20, 40, 50, 60],\n",
    "             \"min_samples_split\": [100, 200, 500, 2000, 4000]\n",
    "            }\n",
    "\n",
    "random.seed(1)\n",
    "\n",
    "from evolutionary_search import EvolutionaryAlgorithmSearchCV\n",
    "cv = EvolutionaryAlgorithmSearchCV(estimator            =  DecisionTreeClassifier(),\n",
    "                                   params               =  paramgrid,\n",
    "                                   scoring              =  \"roc_auc\",\n",
    "                                   cv                   =  StratifiedKFold(y, n_folds=4),\n",
    "                                   verbose              = 1,\n",
    "                                   population_size      = 10,\n",
    "                                   gene_mutation_prob   = 0.2,\n",
    "                                   gene_crossover_prob  = 0.5,\n",
    "                                   tournament_size      = 5,\n",
    "                                   generations_number   = 10,\n",
    "                                   n_jobs=4)\n",
    "%time cv.fit(X, y)"
   ]
  },
  {
   "cell_type": "code",
   "execution_count": null,
   "metadata": {},
   "outputs": [],
   "source": [
    "clf = tree.DecisionTreeClassifier(min_samples_split=100, max_features=40, max_depth=50)\n",
    "\n",
    "clf = clf.fit(X, y)\n",
    "\n",
    "y_hat = clf.predict(X_test)\n",
    "\n",
    "print(\"AUC = %.2f\" % roc_auc_score(y_test, y_hat))"
   ]
  },
  {
   "cell_type": "code",
   "execution_count": null,
   "metadata": {},
   "outputs": [],
   "source": [
    "importance = pd.DataFrame(\n",
    "    {'imp': clf.tree_.compute_feature_importances(), 'f': range(X.shape[1])})\n",
    "importance.sort_values(by=\"imp\", ascending=False).head(10)"
   ]
  },
  {
   "cell_type": "code",
   "execution_count": null,
   "metadata": {},
   "outputs": [],
   "source": [
    "cv.best_estimator_"
   ]
  },
  {
   "cell_type": "code",
   "execution_count": null,
   "metadata": {},
   "outputs": [],
   "source": [
    "clf = cv.best_estimator_\n",
    "clf.fit(X,y)\n",
    "print(\"AUC = %.2f\" % roc_auc_score(y_test, clf.predict(X_test)))"
   ]
  },
  {
   "cell_type": "code",
   "execution_count": null,
   "metadata": {},
   "outputs": [],
   "source": [
    "importance = pd.DataFrame(\n",
    "    {'imp': clf.tree_.compute_feature_importances(), 'f': range(X.shape[1])})\n",
    "importance.sort_values(by=\"imp\", ascending=False).head(10)"
   ]
  },
  {
   "cell_type": "code",
   "execution_count": null,
   "metadata": {},
   "outputs": [],
   "source": [
    "from sklearn.ensemble import RandomForestClassifier\n",
    "\n",
    "rf = RandomForestClassifier(n_jobs = -1, n_estimators=400)\n",
    "\n",
    "%time rf.fit(X,y)\n",
    "\n",
    "print(roc_auc_score(y_test, rf.predict(X_test)))"
   ]
  },
  {
   "cell_type": "code",
   "execution_count": null,
   "metadata": {},
   "outputs": [],
   "source": [
    "importance = pd.DataFrame(\n",
    "    {'imp': rf.feature_importances_, 'f': range(X.shape[1])})\n",
    "importance.sort_values(by=\"imp\", ascending=False).head(10)"
   ]
  },
  {
   "cell_type": "code",
   "execution_count": null,
   "metadata": {},
   "outputs": [],
   "source": [
    "from sklearn.ensemble import ExtraTreesClassifier\n",
    "\n",
    "extra = ExtraTreesClassifier(n_jobs = -1, n_estimators=400)\n",
    "\n",
    "%time extra.fit(X,y)\n",
    "\n",
    "print(roc_auc_score(y_test, extra.predict(X_test)))"
   ]
  },
  {
   "cell_type": "code",
   "execution_count": null,
   "metadata": {},
   "outputs": [],
   "source": [
    "importance = pd.DataFrame(\n",
    "    {'imp': extra.feature_importances_, 'f': range(X.shape[1])})\n",
    "importance.sort_values(by=\"imp\", ascending=False).head(10)"
   ]
  },
  {
   "cell_type": "markdown",
   "metadata": {},
   "source": [
    "## Maintenant un peu de xgboost!\n",
    "\n",
    "### D'abord sans deap"
   ]
  },
  {
   "cell_type": "code",
   "execution_count": null,
   "metadata": {},
   "outputs": [],
   "source": [
    "import xgboost as xgb\n",
    "\n",
    "dtrain = xgb.DMatrix(X, label=y)\n",
    "dtest  = xgb.DMatrix(X_test, label=y_test)\n",
    "evallist = [(dtest, 'eval'), (dtrain, 'train')]\n",
    "\n",
    "param = {\n",
    "    'bst:max_depth': 5, \n",
    "    'bst:eta': 0.5, \n",
    "    'silent': True, \n",
    "    'verbose': 0,\n",
    "    'objective': 'binary:logistic',\n",
    "    'nthread': 4,\n",
    "    'eval_metric': 'auc'\n",
    "}\n",
    "\n",
    "num_round = 201\n",
    "bst = xgb.train(param,\n",
    "                dtrain,\n",
    "                num_round,\n",
    "                evallist,\n",
    "                verbose_eval    = 40\n",
    "               )\n"
   ]
  },
  {
   "cell_type": "code",
   "execution_count": null,
   "metadata": {},
   "outputs": [],
   "source": [
    "param = {\n",
    "    'bst:max_depth': 9, \n",
    "    'bst:eta': 0.6,\n",
    "    'colsample_bytree': 0.74,\n",
    "    'subsample': 0.66,\n",
    "    'silent': True, \n",
    "    'verbose': 0,\n",
    "    'objective': 'binary:logistic',\n",
    "    'nthread': 4,\n",
    "    'eval_metric': 'auc'\n",
    "}\n",
    "\n",
    "num_round = 201\n",
    "bst = xgb.train(param,\n",
    "                dtrain,\n",
    "                num_round,\n",
    "                evallist,\n",
    "                verbose_eval    = 40\n",
    "               )\n"
   ]
  },
  {
   "cell_type": "markdown",
   "metadata": {},
   "source": [
    "###  Ensuite avec deap"
   ]
  },
  {
   "cell_type": "code",
   "execution_count": null,
   "metadata": {},
   "outputs": [],
   "source": [
    "import xgboost as xgb\n",
    "\n",
    "import deapexp as dp\n",
    "\n",
    "grid_gen1 = {\n",
    "    \"max_depth\":          range(3, 11),\n",
    "    \"learning_rate\":      np.logspace(-4, -1, 40, base=10),\n",
    "    \"subsample\":          np.arange(0.5, 0.8, 2e-2),\n",
    "    \"colsample_bytree\":   np.arange(0.1, 0.4, 2e-2)\n",
    "}\n",
    "\n",
    "genetic_params = {\n",
    "    \"generations_number\": 10,\n",
    "    \"population_size\": 30,\n",
    "    \"gene_mutation_prob\": 0.2,\n",
    "    \"tournament_size\": 3\n",
    "}\n",
    "\n",
    "num_rounds = 100\n",
    "\n",
    "train = pd.DataFrame(X)\n",
    "train[\"target\"] = y\n",
    "\n",
    "class IdentityTransformer(object):\n",
    "    def __init__(*args, **kwargs):\n",
    "        None\n",
    "    def fit_transform(self, X):\n",
    "        return X\n",
    "    def transform(self, X):\n",
    "        return X\n",
    "\n",
    "e = dp.DEAPSplitXgboostExperiment(IdentityTransformer(),\n",
    "                               grid_gen1,\n",
    "                               test_prop=0.2,\n",
    "                               genetic_params=genetic_params,\n",
    "                               num_rounds=num_rounds)\n",
    "\n",
    "e.experiment(train, \"target\")"
   ]
  },
  {
   "cell_type": "code",
   "execution_count": null,
   "metadata": {},
   "outputs": [],
   "source": [
    "(X.shape, y.shape)"
   ]
  },
  {
   "cell_type": "code",
   "execution_count": null,
   "metadata": {
    "collapsed": true
   },
   "outputs": [],
   "source": [
    "e"
   ]
  },
  {
   "cell_type": "code",
   "execution_count": null,
   "metadata": {
    "collapsed": true
   },
   "outputs": [],
   "source": []
  }
 ],
 "metadata": {
  "kernelspec": {
   "display_name": "Python 3",
   "language": "python",
   "name": "python3"
  },
  "language_info": {
   "codemirror_mode": {
    "name": "ipython",
    "version": 3
   },
   "file_extension": ".py",
   "mimetype": "text/x-python",
   "name": "python",
   "nbconvert_exporter": "python",
   "pygments_lexer": "ipython3",
   "version": "3.6.6"
  },
  "toc": {
   "nav_menu": {},
   "number_sections": true,
   "sideBar": true,
   "skip_h1_title": false,
   "toc_cell": false,
   "toc_position": {},
   "toc_section_display": "block",
   "toc_window_display": false
  },
  "varInspector": {
   "cols": {
    "lenName": 16,
    "lenType": 16,
    "lenVar": 40
   },
   "kernels_config": {
    "python": {
     "delete_cmd_postfix": "",
     "delete_cmd_prefix": "del ",
     "library": "var_list.py",
     "varRefreshCmd": "print(var_dic_list())"
    },
    "r": {
     "delete_cmd_postfix": ") ",
     "delete_cmd_prefix": "rm(",
     "library": "var_list.r",
     "varRefreshCmd": "cat(var_dic_list()) "
    }
   },
   "types_to_exclude": [
    "module",
    "function",
    "builtin_function_or_method",
    "instance",
    "_Feature"
   ],
   "window_display": false
  }
 },
 "nbformat": 4,
 "nbformat_minor": 1
}
