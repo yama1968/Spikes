{
 "cells": [
  {
   "cell_type": "markdown",
   "metadata": {},
   "source": [
    "# Memory profiling - p122"
   ]
  },
  {
   "cell_type": "code",
   "execution_count": 1,
   "metadata": {
    "collapsed": false
   },
   "outputs": [],
   "source": [
    "import numpy as np\n",
    "from imp import reload\n",
    "\n",
    "%load_ext line_profiler"
   ]
  },
  {
   "cell_type": "code",
   "execution_count": 2,
   "metadata": {
    "collapsed": false
   },
   "outputs": [
    {
     "name": "stdout",
     "output_type": "stream",
     "text": [
      "Overwriting _simulation.py\n"
     ]
    }
   ],
   "source": [
    "%%writefile _simulation.py\n",
    "\n",
    "import numpy as np\n",
    "\n",
    "def step(*shape):\n",
    "    # Create random vector with +1 or -1\n",
    "    return (2 * (np.random.random_sample(shape) < 0.5) - 1)\n",
    "\n",
    "def simulate(iterations, n=10000):\n",
    "    s = step(iterations, n)\n",
    "    x = np.cumsum(s, axis=0)\n",
    "    bins = np.arange(-30, 30, 1)\n",
    "    y = np.vstack([np.histogram(x[i,:], bins)[0]\n",
    "                  for i in range(iterations)])\n",
    "    return y"
   ]
  },
  {
   "cell_type": "code",
   "execution_count": 3,
   "metadata": {
    "collapsed": false
   },
   "outputs": [
    {
     "data": {
      "text/plain": [
       "<module '_simulation' from '/home2/yannick2/github/Spikes/python/_simulation.py'>"
      ]
     },
     "execution_count": 3,
     "metadata": {},
     "output_type": "execute_result"
    }
   ],
   "source": [
    "import _simulation\n",
    "reload(_simulation)"
   ]
  },
  {
   "cell_type": "code",
   "execution_count": 4,
   "metadata": {
    "collapsed": false
   },
   "outputs": [
    {
     "name": "stdout",
     "output_type": "stream",
     "text": [
      "\n",
      "*** Profile printout saved to text file 'lprof0'. \n"
     ]
    }
   ],
   "source": [
    "%lprun -T lprof0 -f _simulation.simulate _simulation.simulate(500)"
   ]
  },
  {
   "cell_type": "code",
   "execution_count": 5,
   "metadata": {
    "collapsed": false
   },
   "outputs": [
    {
     "name": "stdout",
     "output_type": "stream",
     "text": [
      "Timer unit: 1e-06 s\r\n",
      "\r\n",
      "Total time: 0.281634 s\r\n",
      "File: /home2/yannick2/github/Spikes/python/_simulation.py\r\n",
      "Function: simulate at line 8\r\n",
      "\r\n",
      "Line #      Hits         Time  Per Hit   % Time  Line Contents\r\n",
      "==============================================================\r\n",
      "     8                                           def simulate(iterations, n=10000):\r\n",
      "     9         1        78337  78337.0     27.8      s = step(iterations, n)\r\n",
      "    10         1        23791  23791.0      8.4      x = np.cumsum(s, axis=0)\r\n",
      "    11         1           24     24.0      0.0      bins = np.arange(-30, 30, 1)\r\n",
      "    12         1            4      4.0      0.0      y = np.vstack([np.histogram(x[i,:], bins)[0]\r\n",
      "    13         1       179477 179477.0     63.7                    for i in range(iterations)])\r\n",
      "    14         1            1      1.0      0.0      return y"
     ]
    }
   ],
   "source": [
    "! cat lprof0"
   ]
  },
  {
   "cell_type": "code",
   "execution_count": 6,
   "metadata": {
    "collapsed": false
   },
   "outputs": [
    {
     "name": "stdout",
     "output_type": "stream",
     "text": [
      "\n",
      "\n",
      "*** Profile printout saved to text file mprof0. \n",
      "Filename: /home2/yannick2/github/Spikes/python/_simulation.py\r\n",
      "\r\n",
      "Line #    Mem usage    Increment   Line Contents\r\n",
      "================================================\r\n",
      "     8     45.3 MiB      0.0 MiB   def simulate(iterations, n=10000):\r\n",
      "     9     88.2 MiB     42.9 MiB       s = step(iterations, n)\r\n",
      "    10    126.2 MiB     38.0 MiB       x = np.cumsum(s, axis=0)\r\n",
      "    11    126.2 MiB      0.0 MiB       bins = np.arange(-30, 30, 1)\r\n",
      "    12    126.4 MiB      0.1 MiB       y = np.vstack([np.histogram(x[i,:], bins)[0]\r\n",
      "    13    126.4 MiB      0.0 MiB                     for i in range(iterations)])\r\n",
      "    14    126.4 MiB      0.0 MiB       return y"
     ]
    }
   ],
   "source": [
    "%load_ext memory_profiler\n",
    "\n",
    "import gc\n",
    "\n",
    "gc.collect()\n",
    "\n",
    "%mprun -T mprof0 -f _simulation.simulate _simulation.simulate(50, int(1e5))\n",
    "! cat mprof0"
   ]
  },
  {
   "cell_type": "code",
   "execution_count": 7,
   "metadata": {
    "collapsed": false
   },
   "outputs": [
    {
     "name": "stdout",
     "output_type": "stream",
     "text": [
      "peak memory: 126.39 MiB, increment: 76.31 MiB\n"
     ]
    }
   ],
   "source": [
    "%memit y = np.random.randn(1000,10000)"
   ]
  },
  {
   "cell_type": "code",
   "execution_count": 8,
   "metadata": {
    "collapsed": false
   },
   "outputs": [
    {
     "name": "stdout",
     "output_type": "stream",
     "text": [
      "peak memory: 126.44 MiB, increment: -76.29 MiB\n",
      "peak memory: 202.73 MiB, increment: 76.29 MiB\n",
      "CPU times: user 47.9 ms, sys: 17.5 ms, total: 65.4 ms\n",
      "Wall time: 173 ms\n",
      "peak memory: 126.60 MiB, increment: 0.00 MiB\n",
      "CPU times: user 29.5 ms, sys: 38.2 ms, total: 67.7 ms\n",
      "Wall time: 175 ms\n",
      "peak memory: 126.61 MiB, increment: 0.00 MiB\n",
      "peak memory: 126.61 MiB, increment: 0.00 MiB\n",
      "peak memory: 126.61 MiB, increment: 0.00 MiB\n",
      "peak memory: 202.90 MiB, increment: 76.30 MiB\n"
     ]
    }
   ],
   "source": [
    "x = np.random.randn(10000, 1000)\n",
    "%memit y = None\n",
    "%time %memit x = x * 2\n",
    "%time %memit x *= 2\n",
    "%memit x[10,:] = x[11,:] * 2\n",
    "%memit y = x[11,:] * 2\n",
    "%memit y = y * 3\n",
    "%memit x[:] = x[:] * 2"
   ]
  },
  {
   "cell_type": "code",
   "execution_count": 10,
   "metadata": {
    "collapsed": false
   },
   "outputs": [
    {
     "name": "stdout",
     "output_type": "stream",
     "text": [
      "peak memory: 406.51 MiB, increment: 0.00 MiB\n",
      "peak memory: 284.43 MiB, increment: 0.00 MiB\n",
      "CPU times: user 25.8 ms, sys: 15 ms, total: 40.8 ms\n",
      "Wall time: 162 ms\n",
      "2010\n",
      "CPU times: user 491 µs, sys: 68 µs, total: 559 µs\n",
      "Wall time: 437 µs\n",
      "peak memory: 289.00 MiB, increment: 4.56 MiB\n",
      "peak memory: 484.51 MiB, increment: 195.52 MiB\n",
      "CPU times: user 207 ms, sys: 13.1 ms, total: 220 ms\n",
      "Wall time: 322 ms\n",
      "17084178\n",
      "CPU times: user 844 ms, sys: 6.01 ms, total: 850 ms\n",
      "Wall time: 850 ms\n",
      "peak memory: 1171.51 MiB, increment: 687.00 MiB\n",
      "peak memory: 1168.25 MiB, increment: 513.16 MiB\n",
      "CPU times: user 1min 10s, sys: 253 ms, total: 1min 10s\n",
      "Wall time: 19.3 s\n",
      "17084178\n",
      "CPU times: user 272 ms, sys: 21.5 ms, total: 294 ms\n",
      "Wall time: 98.1 ms\n"
     ]
    }
   ],
   "source": [
    "import scipy \n",
    "import scipy.sparse\n",
    "\n",
    "N = 8000\n",
    "s = 4000\n",
    "\n",
    "def bigsparse (N, s):\n",
    "    x = np.random.randint(0, N, s)\n",
    "    y = np.random.randint(0, N, s)\n",
    "    return scipy.sparse.csr_matrix((np.ones(s), (x,y)), (N,N))\n",
    "\n",
    "sparse1 = None\n",
    "sparse2 = None\n",
    "%memit sparse1 = bigsparse(N, s)\n",
    "foo = None\n",
    "%time %memit foo = sparse1 * sparse1\n",
    "%time print((foo != 0).sum())\n",
    "\n",
    "%memit sparse2 = bigsparse(N, s * 100)\n",
    "foo = None\n",
    "%time %memit foo = sparse2 * sparse2\n",
    "%time print((foo != 0).sum())\n",
    "\n",
    "%memit nonsparse_m = sparse2.todense()\n",
    "foo = None\n",
    "%time %memit foo = nonsparse_m * nonsparse_m\n",
    "%time print((foo != 0).sum())"
   ]
  }
 ],
 "metadata": {
  "celltoolbar": "Raw Cell Format",
  "kernelspec": {
   "display_name": "Python 3",
   "language": "python",
   "name": "python3"
  },
  "language_info": {
   "codemirror_mode": {
    "name": "ipython",
    "version": 3
   },
   "file_extension": ".py",
   "mimetype": "text/x-python",
   "name": "python",
   "nbconvert_exporter": "python",
   "pygments_lexer": "ipython3",
   "version": "3.5.1"
  }
 },
 "nbformat": 4,
 "nbformat_minor": 0
}
