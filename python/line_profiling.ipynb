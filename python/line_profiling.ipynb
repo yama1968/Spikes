{
 "cells": [
  {
   "cell_type": "markdown",
   "metadata": {},
   "source": [
    "# Memory profiling - p122"
   ]
  },
  {
   "cell_type": "code",
   "execution_count": 1,
   "metadata": {
    "collapsed": false
   },
   "outputs": [],
   "source": [
    "import numpy as np\n",
    "from imp import reload\n",
    "\n",
    "%load_ext line_profiler"
   ]
  },
  {
   "cell_type": "code",
   "execution_count": 2,
   "metadata": {
    "collapsed": false
   },
   "outputs": [
    {
     "name": "stdout",
     "output_type": "stream",
     "text": [
      "Overwriting _simulation.py\n"
     ]
    }
   ],
   "source": [
    "%%writefile _simulation.py\n",
    "\n",
    "import numpy as np\n",
    "\n",
    "def step(*shape):\n",
    "    # Create random vector with +1 or -1\n",
    "    return (2 * (np.random.random_sample(shape) < 0.5) - 1)\n",
    "\n",
    "def simulate(iterations, n=10000):\n",
    "    s = step(iterations, n)\n",
    "    x = np.cumsum(s, axis=0)\n",
    "    bins = np.arange(-30, 30, 1)\n",
    "    y = np.vstack([np.histogram(x[i,:], bins)[0]\n",
    "                  for i in range(iterations)])\n",
    "    return y"
   ]
  },
  {
   "cell_type": "code",
   "execution_count": 3,
   "metadata": {
    "collapsed": false
   },
   "outputs": [
    {
     "data": {
      "text/plain": [
       "<module '_simulation' from '/media/sf_host/home2/yannick2/github/Spikes/Python/_simulation.py'>"
      ]
     },
     "execution_count": 3,
     "metadata": {},
     "output_type": "execute_result"
    }
   ],
   "source": [
    "import _simulation\n",
    "reload(_simulation)"
   ]
  },
  {
   "cell_type": "code",
   "execution_count": 4,
   "metadata": {
    "collapsed": false
   },
   "outputs": [
    {
     "name": "stdout",
     "output_type": "stream",
     "text": [
      "\n",
      "*** Profile printout saved to text file 'lprof0'. \n"
     ]
    }
   ],
   "source": [
    "%lprun -T lprof0 -f _simulation.simulate _simulation.simulate(500)"
   ]
  },
  {
   "cell_type": "code",
   "execution_count": 5,
   "metadata": {
    "collapsed": false
   },
   "outputs": [
    {
     "name": "stdout",
     "output_type": "stream",
     "text": [
      "Timer unit: 1e-06 s\r\n",
      "\r\n",
      "Total time: 0.421734 s\r\n",
      "File: /media/sf_host/home2/yannick2/github/Spikes/Python/_simulation.py\r\n",
      "Function: simulate at line 8\r\n",
      "\r\n",
      "Line #      Hits         Time  Per Hit   % Time  Line Contents\r\n",
      "==============================================================\r\n",
      "     8                                           def simulate(iterations, n=10000):\r\n",
      "     9         1        93818  93818.0     22.2      s = step(iterations, n)\r\n",
      "    10         1       135031 135031.0     32.0      x = np.cumsum(s, axis=0)\r\n",
      "    11         1           31     31.0      0.0      bins = np.arange(-30, 30, 1)\r\n",
      "    12         1            4      4.0      0.0      y = np.vstack([np.histogram(x[i,:], bins)[0]\r\n",
      "    13         1       192847 192847.0     45.7                    for i in range(iterations)])\r\n",
      "    14         1            3      3.0      0.0      return y"
     ]
    }
   ],
   "source": [
    "! cat lprof0"
   ]
  },
  {
   "cell_type": "code",
   "execution_count": 6,
   "metadata": {
    "collapsed": false
   },
   "outputs": [
    {
     "name": "stdout",
     "output_type": "stream",
     "text": [
      "\n",
      "\n",
      "*** Profile printout saved to text file mprof0. \n",
      "Filename: /media/sf_host/home2/yannick2/github/Spikes/Python/_simulation.py\r\n",
      "\r\n",
      "Line #    Mem usage    Increment   Line Contents\r\n",
      "================================================\r\n",
      "     8     47.9 MiB      0.0 MiB   def simulate(iterations, n=10000):\r\n",
      "     9     90.8 MiB     42.9 MiB       s = step(iterations, n)\r\n",
      "    10    128.9 MiB     38.1 MiB       x = np.cumsum(s, axis=0)\r\n",
      "    11    128.9 MiB      0.0 MiB       bins = np.arange(-30, 30, 1)\r\n",
      "    12    128.9 MiB      0.0 MiB       y = np.vstack([np.histogram(x[i,:], bins)[0]\r\n",
      "    13    128.9 MiB      0.0 MiB                     for i in range(iterations)])\r\n",
      "    14    128.9 MiB      0.0 MiB       return y"
     ]
    }
   ],
   "source": [
    "%load_ext memory_profiler\n",
    "\n",
    "import gc\n",
    "\n",
    "gc.collect()\n",
    "\n",
    "%mprun -T mprof0 -f _simulation.simulate _simulation.simulate(50, int(1e5))\n",
    "! cat mprof0"
   ]
  },
  {
   "cell_type": "code",
   "execution_count": 7,
   "metadata": {
    "collapsed": false
   },
   "outputs": [
    {
     "name": "stdout",
     "output_type": "stream",
     "text": [
      "peak memory: 128.98 MiB, increment: 76.34 MiB\n"
     ]
    }
   ],
   "source": [
    "%memit y = np.random.randn(1000,10000)"
   ]
  },
  {
   "cell_type": "code",
   "execution_count": 8,
   "metadata": {
    "collapsed": false
   },
   "outputs": [
    {
     "name": "stdout",
     "output_type": "stream",
     "text": [
      "peak memory: 129.12 MiB, increment: -76.21 MiB\n",
      "peak memory: 203.44 MiB, increment: 74.31 MiB\n",
      "CPU times: user 49 ms, sys: 43 ms, total: 92 ms\n",
      "Wall time: 227 ms\n",
      "peak memory: 129.16 MiB, increment: 0.00 MiB\n",
      "CPU times: user 30 ms, sys: 48 ms, total: 78 ms\n",
      "Wall time: 212 ms\n",
      "peak memory: 129.17 MiB, increment: 0.01 MiB\n",
      "peak memory: 129.18 MiB, increment: 0.00 MiB\n",
      "peak memory: 129.18 MiB, increment: 0.00 MiB\n",
      "peak memory: 205.48 MiB, increment: 76.30 MiB\n"
     ]
    }
   ],
   "source": [
    "x = np.random.randn(10000, 1000)\n",
    "%memit y = None\n",
    "%time %memit x = x * 2\n",
    "%time %memit x *= 2\n",
    "%memit x[10,:] = x[11,:] * 2\n",
    "%memit y = x[11,:] * 2\n",
    "%memit y = y * 3\n",
    "%memit x[:] = x[:] * 2"
   ]
  },
  {
   "cell_type": "code",
   "execution_count": 9,
   "metadata": {
    "collapsed": false
   },
   "outputs": [
    {
     "name": "stdout",
     "output_type": "stream",
     "text": [
      "peak memory: 130.45 MiB, increment: 0.12 MiB\n",
      "peak memory: 130.46 MiB, increment: 0.02 MiB\n",
      "CPU times: user 28 ms, sys: 36 ms, total: 64 ms\n",
      "Wall time: 213 ms\n",
      "4002\n",
      "CPU times: user 0 ns, sys: 0 ns, total: 0 ns\n",
      "Wall time: 663 µs\n",
      "peak memory: 150.48 MiB, increment: 20.00 MiB\n",
      "peak memory: 317.63 MiB, increment: 167.15 MiB\n",
      "CPU times: user 349 ms, sys: 25 ms, total: 374 ms\n",
      "Wall time: 524 ms\n",
      "14605680\n",
      "CPU times: user 757 ms, sys: 24 ms, total: 781 ms\n",
      "Wall time: 833 ms\n",
      "peak memory: 561.79 MiB, increment: 244.15 MiB\n",
      "peak memory: 409.76 MiB, increment: 137.20 MiB\n",
      "CPU times: user 5.59 s, sys: 535 ms, total: 6.12 s\n",
      "Wall time: 2.41 s\n",
      "14605680\n",
      "CPU times: user 31 ms, sys: 71 ms, total: 102 ms\n",
      "Wall time: 27.5 ms\n"
     ]
    }
   ],
   "source": [
    "import scipy \n",
    "import scipy.sparse\n",
    "\n",
    "N = 4000\n",
    "s = 4000\n",
    "\n",
    "def bigsparse (N, s):\n",
    "    x = np.random.randint(0, N, s)\n",
    "    y = np.random.randint(0, N, s)\n",
    "    return scipy.sparse.csr_matrix((np.ones(s), (x,y)), (N,N))\n",
    "\n",
    "sparse1 = None\n",
    "sparse2 = None\n",
    "%memit sparse1 = bigsparse(N, s)\n",
    "foo = None\n",
    "%time %memit foo = sparse1 * sparse1\n",
    "%time print((foo != 0).sum())\n",
    "\n",
    "%memit sparse2 = bigsparse(N, s * 100)\n",
    "foo = None\n",
    "%time %memit foo = sparse2 * sparse2\n",
    "%time print((foo != 0).sum())\n",
    "\n",
    "%memit nonsparse_m = sparse2.todense()\n",
    "foo = None\n",
    "%time %memit foo = nonsparse_m * nonsparse_m\n",
    "%time print((foo != 0).sum())"
   ]
  }
 ],
 "metadata": {
  "celltoolbar": "Raw Cell Format",
  "kernelspec": {
   "display_name": "Python 3",
   "language": "python",
   "name": "python3"
  },
  "language_info": {
   "codemirror_mode": {
    "name": "ipython",
    "version": 3
   },
   "file_extension": ".py",
   "mimetype": "text/x-python",
   "name": "python",
   "nbconvert_exporter": "python",
   "pygments_lexer": "ipython3",
   "version": "3.5.1"
  }
 },
 "nbformat": 4,
 "nbformat_minor": 0
}
