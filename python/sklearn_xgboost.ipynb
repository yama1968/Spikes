{
 "cells": [
  {
   "cell_type": "code",
   "execution_count": 1,
   "metadata": {},
   "outputs": [
    {
     "name": "stderr",
     "output_type": "stream",
     "text": [
      "/home/yannick/bin/anaconda3/envs/py27/lib/python2.7/site-packages/sklearn/cross_validation.py:44: DeprecationWarning: This module was deprecated in version 0.18 in favor of the model_selection module into which all the refactored classes and functions are moved. Also note that the interface of the new CV iterators are different from that of this module. This module will be removed in 0.20.\n",
      "  \"This module will be removed in 0.20.\", DeprecationWarning)\n"
     ]
    }
   ],
   "source": [
    "from sklearn import datasets\n",
    "from scipy.io.arff import loadarff\n",
    "from sklearn.cross_validation import train_test_split\n",
    "from sklearn.metrics import roc_auc_score\n",
    "\n",
    "import numpy as np\n",
    "import pandas as pd\n"
   ]
  },
  {
   "cell_type": "code",
   "execution_count": 2,
   "metadata": {
    "collapsed": true
   },
   "outputs": [],
   "source": [
    "forest = datasets.fetch_covtype()"
   ]
  },
  {
   "cell_type": "code",
   "execution_count": 3,
   "metadata": {},
   "outputs": [
    {
     "data": {
      "text/plain": [
       "sklearn.datasets.base.Bunch"
      ]
     },
     "execution_count": 3,
     "metadata": {},
     "output_type": "execute_result"
    }
   ],
   "source": [
    "type(forest)"
   ]
  },
  {
   "cell_type": "code",
   "execution_count": 4,
   "metadata": {
    "collapsed": true
   },
   "outputs": [],
   "source": [
    "X, X_test, y, y_test = train_test_split(\n",
    "    forest.data, forest.target == 2, test_size=0.3, random_state=1234)"
   ]
  },
  {
   "cell_type": "code",
   "execution_count": 5,
   "metadata": {},
   "outputs": [
    {
     "name": "stdout",
     "output_type": "stream",
     "text": [
      "((406708, 54), (406708,), (174304, 54), (174304,))\n"
     ]
    }
   ],
   "source": [
    "print(X.shape, y.shape, X_test.shape, y_test.shape)"
   ]
  },
  {
   "cell_type": "code",
   "execution_count": 6,
   "metadata": {},
   "outputs": [
    {
     "name": "stdout",
     "output_type": "stream",
     "text": [
      "AUC = 0.79\n"
     ]
    }
   ],
   "source": [
    "from sklearn import tree\n",
    "clf = tree.DecisionTreeClassifier(min_samples_leaf=1000, min_samples_split=3000)\n",
    "\n",
    "clf = clf.fit(X, y)\n",
    "\n",
    "y_hat = clf.predict(X_test)\n",
    "\n",
    "print(\"AUC = %.2f\" % roc_auc_score(y_test, y_hat))"
   ]
  },
  {
   "cell_type": "code",
   "execution_count": 7,
   "metadata": {},
   "outputs": [
    {
     "name": "stderr",
     "output_type": "stream",
     "text": [
      "IOPub data rate exceeded.\n",
      "The notebook server will temporarily stop sending output\n",
      "to the client in order to avoid crashing it.\n",
      "To change this limit, set the config variable\n",
      "`--NotebookApp.iopub_data_rate_limit`.\n"
     ]
    }
   ],
   "source": [
    "from IPython.display import Image  \n",
    "from sklearn.externals.six import StringIO  \n",
    "import pydot_ng as pydot\n",
    "\n",
    "%matplotlib inline\n",
    "\n",
    "def plot_dtc(clf, features, classes):\n",
    "    dot_data = StringIO()  \n",
    "    tree.export_graphviz(clf, out_file=dot_data,  \n",
    "                             feature_names=features,  \n",
    "                             class_names=classes,  \n",
    "                             filled=True, rounded=True,  \n",
    "                             special_characters=True)  \n",
    "    graph = pydot.graph_from_dot_data(dot_data.getvalue())  \n",
    "    return Image(graph.create_png()) \n",
    "    \n",
    "plot_dtc(clf, [str(i) for i in range(X.shape[1])], [\"0\",\"1\"])"
   ]
  },
  {
   "cell_type": "code",
   "execution_count": 8,
   "metadata": {},
   "outputs": [
    {
     "name": "stdout",
     "output_type": "stream",
     "text": [
      "Types [1, 1, 1] and maxint [3, 4, 5] detected\n",
      "--- Evolve in 120 possible combinations ---\n",
      "gen\tnevals\tavg     \tmin     \tmax    \n",
      "0  \t10    \t0.864516\t0.774208\t0.94592\n",
      "1  \t5     \t0.938068\t0.881377\t0.946875\n",
      "2  \t8     \t0.938308\t0.869802\t0.94592 \n",
      "3  \t3     \t0.935995\t0.84667 \t0.94592 \n",
      "4  \t8     \t0.939477\t0.869802\t0.957608\n",
      "5  \t5     \t0.949426\t0.94592 \t0.957608\n",
      "6  \t1     \t0.951953\t0.924439\t0.957608\n",
      "7  \t2     \t0.957608\t0.957608\t0.957608\n",
      "8  \t7     \t0.953218\t0.924439\t0.957608\n",
      "9  \t6     \t0.953249\t0.925711\t0.957608\n",
      "10 \t2     \t0.957608\t0.957608\t0.957608\n",
      "Best individual is: {'max_features': 40, 'min_samples_split': 100, 'max_depth': 60}\n",
      "with fitness: 0.957607833545\n",
      "CPU times: user 11.7 s, sys: 11.2 s, total: 22.9 s\n",
      "Wall time: 1min 33s\n"
     ]
    }
   ],
   "source": [
    "import random\n",
    "from sklearn.tree import DecisionTreeClassifier\n",
    "from sklearn.cross_validation import StratifiedKFold\n",
    "\n",
    "paramgrid = {\"max_features\":      [4, \"sqrt\", 30, 40],\n",
    "             \"max_depth\":         [10, 15, 20, 40, 50, 60],\n",
    "             \"min_samples_split\": [100, 200, 500, 2000, 4000]\n",
    "            }\n",
    "\n",
    "random.seed(1)\n",
    "\n",
    "from evolutionary_search import EvolutionaryAlgorithmSearchCV\n",
    "cv = EvolutionaryAlgorithmSearchCV(estimator            =  DecisionTreeClassifier(),\n",
    "                                   params               =  paramgrid,\n",
    "                                   scoring              =  \"roc_auc\",\n",
    "                                   cv                   =  StratifiedKFold(y, n_folds=4),\n",
    "                                   verbose              = 1,\n",
    "                                   population_size      = 10,\n",
    "                                   gene_mutation_prob   = 0.2,\n",
    "                                   gene_crossover_prob  = 0.5,\n",
    "                                   tournament_size      = 5,\n",
    "                                   generations_number   = 10,\n",
    "                                   n_jobs=4)\n",
    "%time cv.fit(X, y)"
   ]
  },
  {
   "cell_type": "code",
   "execution_count": 9,
   "metadata": {},
   "outputs": [
    {
     "data": {
      "text/plain": [
       "DecisionTreeClassifier(class_weight=None, criterion='gini', max_depth=60,\n",
       "            max_features=40, max_leaf_nodes=None, min_impurity_split=1e-07,\n",
       "            min_samples_leaf=1, min_samples_split=100,\n",
       "            min_weight_fraction_leaf=0.0, presort=False, random_state=None,\n",
       "            splitter='best')"
      ]
     },
     "execution_count": 9,
     "metadata": {},
     "output_type": "execute_result"
    }
   ],
   "source": [
    "cv.best_estimator_"
   ]
  },
  {
   "cell_type": "code",
   "execution_count": 10,
   "metadata": {},
   "outputs": [
    {
     "name": "stdout",
     "output_type": "stream",
     "text": [
      "AUC = 0.90\n"
     ]
    }
   ],
   "source": [
    "clf = cv.best_estimator_\n",
    "clf.fit(X,y)\n",
    "print(\"AUC = %.2f\" % roc_auc_score(y_test, clf.predict(X_test)))"
   ]
  },
  {
   "cell_type": "code",
   "execution_count": 11,
   "metadata": {},
   "outputs": [
    {
     "data": {
      "text/html": [
       "<div>\n",
       "<style>\n",
       "    .dataframe thead tr:only-child th {\n",
       "        text-align: right;\n",
       "    }\n",
       "\n",
       "    .dataframe thead th {\n",
       "        text-align: left;\n",
       "    }\n",
       "\n",
       "    .dataframe tbody tr th {\n",
       "        vertical-align: top;\n",
       "    }\n",
       "</style>\n",
       "<table border=\"1\" class=\"dataframe\">\n",
       "  <thead>\n",
       "    <tr style=\"text-align: right;\">\n",
       "      <th></th>\n",
       "      <th>f</th>\n",
       "      <th>imp</th>\n",
       "    </tr>\n",
       "  </thead>\n",
       "  <tbody>\n",
       "    <tr>\n",
       "      <th>0</th>\n",
       "      <td>0</td>\n",
       "      <td>0.286072</td>\n",
       "    </tr>\n",
       "    <tr>\n",
       "      <th>5</th>\n",
       "      <td>5</td>\n",
       "      <td>0.139168</td>\n",
       "    </tr>\n",
       "    <tr>\n",
       "      <th>9</th>\n",
       "      <td>9</td>\n",
       "      <td>0.124827</td>\n",
       "    </tr>\n",
       "    <tr>\n",
       "      <th>13</th>\n",
       "      <td>13</td>\n",
       "      <td>0.106105</td>\n",
       "    </tr>\n",
       "    <tr>\n",
       "      <th>3</th>\n",
       "      <td>3</td>\n",
       "      <td>0.054553</td>\n",
       "    </tr>\n",
       "    <tr>\n",
       "      <th>4</th>\n",
       "      <td>4</td>\n",
       "      <td>0.039235</td>\n",
       "    </tr>\n",
       "    <tr>\n",
       "      <th>7</th>\n",
       "      <td>7</td>\n",
       "      <td>0.037195</td>\n",
       "    </tr>\n",
       "    <tr>\n",
       "      <th>6</th>\n",
       "      <td>6</td>\n",
       "      <td>0.020082</td>\n",
       "    </tr>\n",
       "    <tr>\n",
       "      <th>8</th>\n",
       "      <td>8</td>\n",
       "      <td>0.019812</td>\n",
       "    </tr>\n",
       "    <tr>\n",
       "      <th>1</th>\n",
       "      <td>1</td>\n",
       "      <td>0.019714</td>\n",
       "    </tr>\n",
       "  </tbody>\n",
       "</table>\n",
       "</div>"
      ],
      "text/plain": [
       "     f       imp\n",
       "0    0  0.286072\n",
       "5    5  0.139168\n",
       "9    9  0.124827\n",
       "13  13  0.106105\n",
       "3    3  0.054553\n",
       "4    4  0.039235\n",
       "7    7  0.037195\n",
       "6    6  0.020082\n",
       "8    8  0.019812\n",
       "1    1  0.019714"
      ]
     },
     "execution_count": 11,
     "metadata": {},
     "output_type": "execute_result"
    }
   ],
   "source": [
    "importance = pd.DataFrame(\n",
    "    {'imp': clf.tree_.compute_feature_importances(), 'f': range(X.shape[1])})\n",
    "importance.sort_values(by=\"imp\", ascending=False).head(10)"
   ]
  },
  {
   "cell_type": "markdown",
   "metadata": {},
   "source": [
    "## Maintenant un peu de xgboost!\n",
    "\n",
    "### D'abord sans deap"
   ]
  },
  {
   "cell_type": "code",
   "execution_count": 13,
   "metadata": {},
   "outputs": [
    {
     "name": "stdout",
     "output_type": "stream",
     "text": [
      "[0]\teval-auc:0.81286\ttrain-auc:0.812862\n",
      "[40]\teval-auc:0.920766\ttrain-auc:0.924006\n",
      "[80]\teval-auc:0.940982\ttrain-auc:0.945078\n",
      "[120]\teval-auc:0.956681\ttrain-auc:0.961603\n",
      "[160]\teval-auc:0.964821\ttrain-auc:0.970127\n",
      "[200]\teval-auc:0.970554\ttrain-auc:0.976311\n"
     ]
    }
   ],
   "source": [
    "import xgboost as xgb\n",
    "\n",
    "dtrain = xgb.DMatrix(X, label=y)\n",
    "dtest  = xgb.DMatrix(X_test, label=y_test)\n",
    "evallist = [(dtest, 'eval'), (dtrain, 'train')]\n",
    "\n",
    "param = {\n",
    "    'bst:max_depth': 5, \n",
    "    'bst:eta': 0.5, \n",
    "    'silent': True, \n",
    "    'verbose': 0,\n",
    "    'objective': 'binary:logistic',\n",
    "    'nthread': 4,\n",
    "    'eval_metric': 'auc'\n",
    "}\n",
    "\n",
    "num_round = 201\n",
    "bst = xgb.train(param,\n",
    "                dtrain,\n",
    "                num_round,\n",
    "                evallist,\n",
    "                verbose_eval    = 40\n",
    "               )\n"
   ]
  },
  {
   "cell_type": "code",
   "execution_count": 14,
   "metadata": {},
   "outputs": [
    {
     "name": "stdout",
     "output_type": "stream",
     "text": [
      "[0]\teval-auc:0.814078\ttrain-auc:0.815259\n",
      "[40]\teval-auc:0.91925\ttrain-auc:0.922001\n",
      "[80]\teval-auc:0.940377\ttrain-auc:0.944257\n",
      "[120]\teval-auc:0.954253\ttrain-auc:0.958981\n",
      "[160]\teval-auc:0.96236\ttrain-auc:0.967631\n",
      "[200]\teval-auc:0.967797\ttrain-auc:0.973647\n"
     ]
    }
   ],
   "source": [
    "param = {\n",
    "    'bst:max_depth': 9, \n",
    "    'bst:eta': 0.6,\n",
    "    'colsample_bytree': 0.74,\n",
    "    'subsample': 0.66,\n",
    "    'silent': True, \n",
    "    'verbose': 0,\n",
    "    'objective': 'binary:logistic',\n",
    "    'nthread': 4,\n",
    "    'eval_metric': 'auc'\n",
    "}\n",
    "\n",
    "num_round = 201\n",
    "bst = xgb.train(param,\n",
    "                dtrain,\n",
    "                num_round,\n",
    "                evallist,\n",
    "                verbose_eval    = 40\n",
    "               )\n"
   ]
  },
  {
   "cell_type": "markdown",
   "metadata": {},
   "source": [
    "###  Ensuite avec deap"
   ]
  },
  {
   "cell_type": "code",
   "execution_count": 22,
   "metadata": {},
   "outputs": [
    {
     "name": "stderr",
     "output_type": "stream",
     "text": [
      "Searching with train 325366 / test 81342\n",
      "with params grid {'subsample': array([ 0.5,  0.6,  0.7,  0.8,  0.9]), 'learning_rate': array([ 0.001,  0.01 ,  0.1  ,  1.   ]), 'colsample_bytree': array([ 0.1,  0.2,  0.3,  0.4,  0.5,  0.6,  0.7,  0.8,  0.9]), 'max_depth': [3, 5, 7, 9]}\n",
      "on genetic params {'tournament_size': 3, 'population_size': 20, 'gene_mutation_prob': 0.2, 'generations_number': 5, 'gene_crossover_prob': 0.5}\n",
      "\n"
     ]
    },
    {
     "name": "stdout",
     "output_type": "stream",
     "text": [
      "Types [2, 2, 2, 1] and maxint [4, 3, 8, 3] detected\n",
      "--- Evolve in 720 possible combinations ---\n",
      "[CV] subsample=0.7, learning_rate=1.0, colsample_bytree=0.5, max_depth=5 \n",
      "[CV]  subsample=0.7, learning_rate=1.0, colsample_bytree=0.5, max_depth=5, score=0.966433, total=  28.3s\n",
      "[CV] subsample=0.9, learning_rate=0.1, colsample_bytree=0.5, max_depth=7 \n",
      "[CV]  subsample=0.9, learning_rate=0.1, colsample_bytree=0.5, max_depth=7, score=0.953245, total=  47.2s\n",
      "[CV] subsample=0.6, learning_rate=0.01, colsample_bytree=0.1, max_depth=3 \n",
      "[CV]  subsample=0.6, learning_rate=0.01, colsample_bytree=0.1, max_depth=3, score=0.828632, total=  10.7s\n",
      "[CV] subsample=0.8, learning_rate=0.001, colsample_bytree=0.2, max_depth=3 \n",
      "[CV]  subsample=0.8, learning_rate=0.001, colsample_bytree=0.2, max_depth=3, score=0.818982, total=  11.0s\n",
      "[CV] subsample=0.6, learning_rate=0.001, colsample_bytree=0.4, max_depth=7 \n",
      "[CV]  subsample=0.6, learning_rate=0.001, colsample_bytree=0.4, max_depth=7, score=0.867858, total=  38.8s\n",
      "[CV] subsample=0.8, learning_rate=1.0, colsample_bytree=0.1, max_depth=7 \n",
      "[CV]  subsample=0.8, learning_rate=1.0, colsample_bytree=0.1, max_depth=7, score=0.928648, total=  18.5s\n",
      "[CV] subsample=0.5, learning_rate=0.01, colsample_bytree=0.6, max_depth=9 \n",
      "[CV]  subsample=0.5, learning_rate=0.01, colsample_bytree=0.6, max_depth=9, score=0.922410, total= 1.2min\n",
      "[CV] subsample=0.8, learning_rate=1.0, colsample_bytree=0.1, max_depth=5 \n",
      "[CV]  subsample=0.8, learning_rate=1.0, colsample_bytree=0.1, max_depth=5, score=0.914606, total=  13.4s\n",
      "[CV] subsample=0.7, learning_rate=0.001, colsample_bytree=0.1, max_depth=5 \n",
      "[CV]  subsample=0.7, learning_rate=0.001, colsample_bytree=0.1, max_depth=5, score=0.833125, total=  14.9s\n",
      "[CV] subsample=0.8, learning_rate=0.1, colsample_bytree=0.9, max_depth=7 \n",
      "[CV]  subsample=0.8, learning_rate=0.1, colsample_bytree=0.9, max_depth=7, score=0.960141, total= 1.2min\n",
      "[CV] subsample=0.9, learning_rate=0.1, colsample_bytree=0.5, max_depth=5 \n",
      "[CV]  subsample=0.9, learning_rate=0.1, colsample_bytree=0.5, max_depth=5, score=0.920127, total=  28.0s\n",
      "[CV] subsample=0.5, learning_rate=0.001, colsample_bytree=0.6, max_depth=9 \n",
      "[CV]  subsample=0.5, learning_rate=0.001, colsample_bytree=0.6, max_depth=9, score=0.899846, total= 1.3min\n",
      "[CV] subsample=0.5, learning_rate=0.001, colsample_bytree=0.3, max_depth=5 \n",
      "[CV]  subsample=0.5, learning_rate=0.001, colsample_bytree=0.3, max_depth=5, score=0.841652, total=  29.4s\n",
      "[CV] subsample=0.9, learning_rate=0.01, colsample_bytree=0.3, max_depth=5 \n",
      "[CV]  subsample=0.9, learning_rate=0.01, colsample_bytree=0.3, max_depth=5, score=0.857710, total=  25.9s\n",
      "[CV] subsample=0.9, learning_rate=0.01, colsample_bytree=0.6, max_depth=3 \n",
      "[CV]  subsample=0.9, learning_rate=0.01, colsample_bytree=0.6, max_depth=3, score=0.834675, total=  21.8s\n",
      "[CV] subsample=0.7, learning_rate=1.0, colsample_bytree=0.2, max_depth=5 \n",
      "[CV]  subsample=0.7, learning_rate=1.0, colsample_bytree=0.2, max_depth=5, score=0.940330, total=  19.8s\n",
      "[CV] subsample=0.8, learning_rate=0.1, colsample_bytree=0.6, max_depth=7 \n",
      "[CV]  subsample=0.8, learning_rate=0.1, colsample_bytree=0.6, max_depth=7, score=0.954767, total=  43.7s\n",
      "[CV] subsample=0.8, learning_rate=0.01, colsample_bytree=0.4, max_depth=5 \n",
      "[CV]  subsample=0.8, learning_rate=0.01, colsample_bytree=0.4, max_depth=5, score=0.860773, total=  25.5s\n",
      "[CV] subsample=0.7, learning_rate=0.1, colsample_bytree=0.8, max_depth=5 \n",
      "[CV]  subsample=0.7, learning_rate=0.1, colsample_bytree=0.8, max_depth=5, score=0.927355, total=  44.9s\n",
      "gen\tnevals\tavg     \tmin     \tmax     \n",
      "0  \t20    \t0.893222\t0.818982\t0.966433\n",
      "[CV] subsample=0.7, learning_rate=0.1, colsample_bytree=0.5, max_depth=5 \n",
      "[CV]  subsample=0.7, learning_rate=0.1, colsample_bytree=0.5, max_depth=5, score=0.921801, total=  30.8s\n",
      "[CV] subsample=0.6, learning_rate=0.1, colsample_bytree=0.3, max_depth=7 \n",
      "[CV]  subsample=0.6, learning_rate=0.1, colsample_bytree=0.3, max_depth=7, score=0.942608, total=  29.1s\n",
      "[CV] subsample=0.8, learning_rate=0.1, colsample_bytree=0.5, max_depth=5 \n",
      "[CV]  subsample=0.8, learning_rate=0.1, colsample_bytree=0.5, max_depth=5, score=0.922464, total=  33.5s\n",
      "[CV] subsample=0.6, learning_rate=0.01, colsample_bytree=0.1, max_depth=5 \n",
      "[CV]  subsample=0.6, learning_rate=0.01, colsample_bytree=0.1, max_depth=5, score=0.841524, total=  14.0s\n",
      "[CV] subsample=0.7, learning_rate=1.0, colsample_bytree=0.6, max_depth=5 \n",
      "[CV]  subsample=0.7, learning_rate=1.0, colsample_bytree=0.6, max_depth=5, score=0.969252, total=  35.9s\n",
      "1  \t12    \t0.928729\t0.841524\t0.969252\n",
      "[CV] subsample=0.7, learning_rate=0.1, colsample_bytree=0.6, max_depth=5 \n",
      "[CV]  subsample=0.7, learning_rate=0.1, colsample_bytree=0.6, max_depth=5, score=0.924437, total=  36.4s\n",
      "[CV] subsample=0.6, learning_rate=0.1, colsample_bytree=0.3, max_depth=5 \n",
      "[CV]  subsample=0.6, learning_rate=0.1, colsample_bytree=0.3, max_depth=5, score=0.909967, total=  22.8s\n",
      "[CV] subsample=0.7, learning_rate=1.0, colsample_bytree=0.8, max_depth=5 \n",
      "[CV]  subsample=0.7, learning_rate=1.0, colsample_bytree=0.8, max_depth=5, score=0.973783, total=  36.6s\n",
      "[CV] subsample=0.8, learning_rate=1.0, colsample_bytree=0.9, max_depth=5 \n",
      "[CV]  subsample=0.8, learning_rate=1.0, colsample_bytree=0.9, max_depth=5, score=0.976405, total=  45.3s\n",
      "[CV] subsample=0.7, learning_rate=1.0, colsample_bytree=0.5, max_depth=7 \n",
      "[CV]  subsample=0.7, learning_rate=1.0, colsample_bytree=0.5, max_depth=7, score=0.983419, total=  47.5s\n",
      "2  \t12    \t0.945529\t0.909967\t0.983419\n",
      "[CV] subsample=0.7, learning_rate=1.0, colsample_bytree=0.8, max_depth=7 \n",
      "[CV]  subsample=0.7, learning_rate=1.0, colsample_bytree=0.8, max_depth=7, score=0.986741, total=  58.6s\n",
      "[CV] subsample=0.6, learning_rate=1.0, colsample_bytree=0.2, max_depth=5 \n",
      "[CV]  subsample=0.6, learning_rate=1.0, colsample_bytree=0.2, max_depth=5, score=0.935921, total=  22.8s\n",
      "[CV] subsample=0.8, learning_rate=0.01, colsample_bytree=0.5, max_depth=5 \n",
      "[CV]  subsample=0.8, learning_rate=0.01, colsample_bytree=0.5, max_depth=5, score=0.863791, total=  29.6s\n",
      "3  \t14    \t0.962079\t0.863791\t0.986741\n",
      "[CV] subsample=0.8, learning_rate=1.0, colsample_bytree=0.9, max_depth=7 \n",
      "[CV]  subsample=0.8, learning_rate=1.0, colsample_bytree=0.9, max_depth=7, score=0.989375, total= 1.1min\n",
      "[CV] subsample=0.7, learning_rate=1.0, colsample_bytree=0.5, max_depth=3 \n",
      "[CV]  subsample=0.7, learning_rate=1.0, colsample_bytree=0.5, max_depth=3, score=0.929806, total=  20.4s\n",
      "[CV] subsample=0.7, learning_rate=1.0, colsample_bytree=0.9, max_depth=5 \n",
      "[CV]  subsample=0.7, learning_rate=1.0, colsample_bytree=0.9, max_depth=5, score=0.975376, total=  47.3s\n",
      "[CV] subsample=0.7, learning_rate=1.0, colsample_bytree=0.6, max_depth=7 \n",
      "[CV]  subsample=0.7, learning_rate=1.0, colsample_bytree=0.6, max_depth=7, score=0.984659, total=  46.2s\n",
      "[CV] subsample=0.7, learning_rate=1.0, colsample_bytree=0.7, max_depth=7 \n",
      "[CV]  subsample=0.7, learning_rate=1.0, colsample_bytree=0.7, max_depth=7, score=0.986273, total=  50.8s\n",
      "4  \t13    \t0.978402\t0.929806\t0.989375\n",
      "[CV] subsample=0.8, learning_rate=1.0, colsample_bytree=0.6, max_depth=7 \n",
      "[CV]  subsample=0.8, learning_rate=1.0, colsample_bytree=0.6, max_depth=7, score=0.986108, total=  42.5s\n",
      "[CV] subsample=0.8, learning_rate=1.0, colsample_bytree=0.8, max_depth=7 \n",
      "[CV]  subsample=0.8, learning_rate=1.0, colsample_bytree=0.8, max_depth=7, score=0.988499, total= 1.2min\n",
      "[CV] subsample=0.7, learning_rate=1.0, colsample_bytree=0.7, max_depth=5 \n",
      "[CV]  subsample=0.7, learning_rate=1.0, colsample_bytree=0.7, max_depth=5, score=0.971856, total=  33.0s\n",
      "5  \t8     \t0.984595\t0.971856\t0.989375\n",
      "Best individual is: {'subsample': 0.79999999999999993, 'learning_rate': 1.0, 'colsample_bytree': 0.90000000000000002, 'max_depth': 7}\n",
      "with fitness: 0.989375331149\n"
     ]
    },
    {
     "data": {
      "text/plain": [
       "<deapexp.DEAPSplitXgboostExperiment at 0x7f1d8b9c7350>"
      ]
     },
     "execution_count": 22,
     "metadata": {},
     "output_type": "execute_result"
    }
   ],
   "source": [
    "import xgboost as xgb\n",
    "\n",
    "import deapexp as dp\n",
    "\n",
    "grid_gen1 = {\n",
    "    \"max_depth\":          range(3, 11, 2),\n",
    "    \"learning_rate\":      np.logspace(-3, 0, 4, base=10),\n",
    "    \"subsample\":          np.arange(0.5, 1, .1),\n",
    "    \"colsample_bytree\":   np.arange(0.1, 1, .1)\n",
    "}\n",
    "\n",
    "genetic_params = {\n",
    "    \"generations_number\": 5,\n",
    "    \"population_size\": 20,\n",
    "    \"gene_mutation_prob\": 0.2,\n",
    "    \"tournament_size\": 3\n",
    "}\n",
    "\n",
    "num_rounds = 250\n",
    "\n",
    "train = pd.DataFrame(X)\n",
    "train[\"target\"] = y\n",
    "\n",
    "class IdentityTransformer(object):\n",
    "    def __init__(*args, **kwargs):\n",
    "        None\n",
    "    def fit_transform(self, X):\n",
    "        return X\n",
    "    def transform(self, X):\n",
    "        return X\n",
    "\n",
    "e = dp.DEAPSplitXgboostExperiment(IdentityTransformer(),\n",
    "                               grid_gen1,\n",
    "                               test_prop=0.2,\n",
    "                               genetic_params=genetic_params,\n",
    "                               num_rounds=num_rounds)\n",
    "\n",
    "e.experiment(train, \"target\")"
   ]
  },
  {
   "cell_type": "code",
   "execution_count": 23,
   "metadata": {},
   "outputs": [
    {
     "data": {
      "text/plain": [
       "((406708, 54), (406708,))"
      ]
     },
     "execution_count": 23,
     "metadata": {},
     "output_type": "execute_result"
    }
   ],
   "source": [
    "(X.shape, y.shape)"
   ]
  },
  {
   "cell_type": "code",
   "execution_count": 25,
   "metadata": {},
   "outputs": [
    {
     "name": "stdout",
     "output_type": "stream",
     "text": [
      "[0]\teval-auc:0.823641\ttrain-auc:0.825341\n",
      "[40]\teval-auc:0.918839\ttrain-auc:0.921866\n",
      "[80]\teval-auc:0.945117\ttrain-auc:0.949082\n",
      "[120]\teval-auc:0.956481\ttrain-auc:0.961079\n",
      "[160]\teval-auc:0.964963\ttrain-auc:0.970227\n",
      "[200]\teval-auc:0.969845\ttrain-auc:0.975541\n",
      "[240]\teval-auc:0.974818\ttrain-auc:0.980868\n"
     ]
    }
   ],
   "source": [
    "import xgboost as xgb\n",
    "\n",
    "dtrain = xgb.DMatrix(X, label=y)\n",
    "dtest  = xgb.DMatrix(X_test, label=y_test)\n",
    "evallist = [(dtest, 'eval'), (dtrain, 'train')]\n",
    "\n",
    "param = {\n",
    "    'bst:max_depth': 7, \n",
    "    'bst:eta': 1.0, \n",
    "    'silent': False, \n",
    "    'verbose': 0,\n",
    "    'objective': 'binary:logistic',\n",
    "    'nthread': 4,\n",
    "    'subsample': 0.8,\n",
    "    'colsample_bytree': 0.9,\n",
    "    'eval_metric': 'auc'\n",
    "}\n",
    "\n",
    "num_round = 251\n",
    "bst = xgb.train(param,\n",
    "                dtrain,\n",
    "                num_round,\n",
    "                evallist,\n",
    "                verbose_eval    = 40\n",
    "               )"
   ]
  },
  {
   "cell_type": "code",
   "execution_count": null,
   "metadata": {
    "collapsed": true
   },
   "outputs": [],
   "source": []
  }
 ],
 "metadata": {
  "kernelspec": {
   "display_name": "Python [conda env:py27]",
   "language": "python",
   "name": "conda-env-py27-py"
  },
  "language_info": {
   "codemirror_mode": {
    "name": "ipython",
    "version": 2
   },
   "file_extension": ".py",
   "mimetype": "text/x-python",
   "name": "python",
   "nbconvert_exporter": "python",
   "pygments_lexer": "ipython2",
   "version": "2.7.13"
  }
 },
 "nbformat": 4,
 "nbformat_minor": 1
}
