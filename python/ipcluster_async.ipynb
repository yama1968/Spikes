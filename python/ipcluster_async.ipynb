{
 "cells": [
  {
   "cell_type": "code",
   "execution_count": 1,
   "metadata": {
    "collapsed": false
   },
   "outputs": [],
   "source": [
    "import time\n",
    "import sys\n",
    "import ipyparallel as parallel\n",
    "from IPython.display import clear_output, display\n",
    "import ipywidgets as widgets\n",
    "\n",
    "rc = parallel.Client()\n",
    "view = rc.load_balanced_view()\n",
    "\n",
    "def f(x):\n",
    "    import time\n",
    "    time.sleep(.1)\n",
    "    return x*x"
   ]
  },
  {
   "cell_type": "code",
   "execution_count": 2,
   "metadata": {
    "collapsed": false
   },
   "outputs": [
    {
     "data": {
      "text/plain": [
       "{'after': None,\n",
       " 'completed': None,\n",
       " 'data': {},\n",
       " 'engine_id': None,\n",
       " 'engine_uuid': None,\n",
       " 'error': None,\n",
       " 'execute_input': None,\n",
       " 'execute_result': None,\n",
       " 'follow': None,\n",
       " 'msg_id': None,\n",
       " 'outputs': [],\n",
       " 'received': None,\n",
       " 'started': None,\n",
       " 'status': None,\n",
       " 'stderr': '',\n",
       " 'stdout': '',\n",
       " 'submitted': datetime.datetime(2016, 3, 27, 18, 53, 34, 547708)}"
      ]
     },
     "execution_count": 2,
     "metadata": {},
     "output_type": "execute_result"
    }
   ],
   "source": [
    "numbers = list(range(100))\n",
    "ar = view.map_async(f, numbers)\n",
    "ar.metadata[0]"
   ]
  },
  {
   "cell_type": "code",
   "execution_count": 3,
   "metadata": {
    "collapsed": false
   },
   "outputs": [
    {
     "name": "stdout",
     "output_type": "stream",
     "text": [
      "0, 1, 4, 9, 16, 25, 36, 49, 64, 81, 100, 121, 144, 169, 196, 225, 256, 289, 324, 361, 400, 441, 484, 529, 576, 625, 676, 729, 784, 841, 900, 961, 1024, 1089, 1156, 1225, 1296, 1369, 1444, 1521, 1600, 1681, 1764, 1849, 1936, 2025, 2116, 2209, 2304, 2401, 2500, 2601, 2704, 2809, 2916, 3025, 3136, 3249, 3364, 3481, 3600, 3721, 3844, 3969, 4096, 4225, 4356, 4489, 4624, 4761, 4900, 5041, 5184, 5329, 5476, 5625, 5776, 5929, 6084, 6241, 6400, 6561, 6724, 6889, 7056, 7225, 7396, 7569, 7744, 7921, 8100, 8281, 8464, 8649, 8836, 9025, 9216, 9409, 9604, 9801, "
     ]
    }
   ],
   "source": [
    "for _ in ar:\n",
    "    print(_, end=\", \")"
   ]
  },
  {
   "cell_type": "code",
   "execution_count": 8,
   "metadata": {
    "collapsed": false
   },
   "outputs": [],
   "source": [
    "def progress_bar(ar):\n",
    "    w = widgets.IntProgress()\n",
    "    w.max = len(ar.msg_ids)\n",
    "    display(w)\n",
    "    while not ar.ready():\n",
    "        w.value = ar.progress\n",
    "        time.sleep(1)\n",
    "    w.value = w.max\n",
    "\n",
    "ar = view.map_async(f, numbers)\n",
    "progress_bar(ar)"
   ]
  }
 ],
 "metadata": {
  "kernelspec": {
   "display_name": "Python 3",
   "language": "python",
   "name": "python3"
  },
  "language_info": {
   "codemirror_mode": {
    "name": "ipython",
    "version": 3
   },
   "file_extension": ".py",
   "mimetype": "text/x-python",
   "name": "python",
   "nbconvert_exporter": "python",
   "pygments_lexer": "ipython3",
   "version": "3.5.1"
  }
 },
 "nbformat": 4,
 "nbformat_minor": 0
}
