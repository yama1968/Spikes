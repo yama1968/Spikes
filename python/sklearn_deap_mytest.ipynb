{
 "cells": [
  {
   "cell_type": "code",
   "execution_count": 3,
   "metadata": {},
   "outputs": [
    {
     "name": "stdout",
     "output_type": "stream",
     "text": [
      "Types [1, 2, 2] and maxint [0, 99, 99] detected\n",
      "--- Evolve in 10000 possible combinations ---\n",
      "gen\tnevals\tavg     \tmin    \tmax     \n",
      "0  \t200   \t0.259716\t0.10128\t0.976628\n",
      "1  \t115   \t0.639446\t0.10128\t0.978297\n",
      "2  \t114   \t0.939864\t0.10128\t0.978854\n",
      "3  \t109   \t0.940467\t0.10128\t0.978854\n",
      "4  \t115   \t0.923523\t0.10128\t0.978854\n",
      "5  \t106   \t0.939802\t0.10128\t0.978854\n",
      "Best individual is: {'kernel': 'rbf', 'C': 4.3287612810830618, 'gamma': 0.00065793322465756824}\n",
      "with fitness: 0.978853644964\n",
      "CPU times: user 520 ms, sys: 112 ms, total: 632 ms\n",
      "Wall time: 2min 15s\n"
     ]
    }
   ],
   "source": [
    "import sklearn.datasets\n",
    "import numpy as np\n",
    "import random\n",
    "\n",
    "data = sklearn.datasets.load_digits()\n",
    "X = data[\"data\"]\n",
    "y = data[\"target\"]\n",
    "\n",
    "from sklearn.svm import SVC\n",
    "from sklearn.cross_validation import StratifiedKFold\n",
    "\n",
    "paramgrid = {\"kernel\": [\"rbf\"],\n",
    "             \"C\"     : np.logspace(-9, 9, num=100, base=10),\n",
    "             \"gamma\" : np.logspace(-9, 9, num=100, base=10)}\n",
    "\n",
    "random.seed(1)\n",
    "\n",
    "from evolutionary_search import EvolutionaryAlgorithmSearchCV\n",
    "cv = EvolutionaryAlgorithmSearchCV(estimator=SVC(),\n",
    "                                   params=paramgrid,\n",
    "                                   scoring=\"accuracy\",\n",
    "                                   cv=StratifiedKFold(y, n_folds=4),\n",
    "                                   verbose=1,\n",
    "                                   population_size=200,\n",
    "                                   gene_mutation_prob=0.2,\n",
    "                                   gene_crossover_prob=0.5,\n",
    "                                   tournament_size=5,\n",
    "                                   generations_number=5,\n",
    "                                   n_jobs=4)\n",
    "%time cv.fit(X, y)"
   ]
  },
  {
   "cell_type": "code",
   "execution_count": null,
   "metadata": {},
   "outputs": [
    {
     "name": "stdout",
     "output_type": "stream",
     "text": [
      "Types [1, 2, 2] and maxint [0, 99, 99] detected\n",
      "--- Evolve in 10000 possible combinations ---\n"
     ]
    }
   ],
   "source": [
    "from evolutionary_search import EvolutionaryAlgorithmSearchCV\n",
    "import sklearn.datasets\n",
    "import numpy as np\n",
    "import random\n",
    "\n",
    "data = sklearn.datasets.load_digits()\n",
    "X = data[\"data\"]\n",
    "y = data[\"target\"]\n",
    "\n",
    "from sklearn.svm import SVC\n",
    "from sklearn.cross_validation import StratifiedKFold\n",
    "\n",
    "cnt = 0\n",
    "\n",
    "class FooSVC(SVC):\n",
    "    \n",
    "    def fit(self, *args, **kwargs):\n",
    "        \n",
    "        global cnt\n",
    "        cnt +=1\n",
    "        \n",
    "        super(FooSVC, self).fit(*args, **kwargs)\n",
    "\n",
    "random.seed(1234)\n",
    "\n",
    "paramgrid = {\"kernel\": [\"rbf\"],\n",
    "             \"C\"     : np.logspace(-9, 9, num=100, base=10),\n",
    "             \"gamma\" : np.logspace(-9, 0, num=100, base=10)}\n",
    "\n",
    "random.seed(1)\n",
    "\n",
    "cv = EvolutionaryAlgorithmSearchCV(estimator=FooSVC(),\n",
    "                                   params=paramgrid,\n",
    "                                   scoring=\"accuracy\",\n",
    "                                   cv=StratifiedKFold(y, n_folds=4),\n",
    "                                   verbose=1,\n",
    "                                   population_size=60,\n",
    "                                   gene_mutation_prob=0.15,\n",
    "                                   gene_crossover_prob=0.5,\n",
    "                                   tournament_size=5,\n",
    "                                   generations_number=2,\n",
    "                                   n_jobs=1)\n",
    "%time cv.fit(X, y)\n",
    "\n",
    "print cnt"
   ]
  },
  {
   "cell_type": "code",
   "execution_count": null,
   "metadata": {},
   "outputs": [],
   "source": [
    "from evolutionary_search import EvolutionaryAlgorithmSearchCV\n",
    "import sklearn.datasets\n",
    "import numpy as np\n",
    "import random\n",
    "\n",
    "data = sklearn.datasets.load_digits()\n",
    "X = data[\"data\"]\n",
    "y = data[\"target\"]\n",
    "\n",
    "from sklearn.svm import SVC\n",
    "from xgboost import XGBClassifier\n",
    "from sklearn.cross_validation import StratifiedKFold\n",
    "\n",
    "cnt = 0\n",
    "\n",
    "random.seed(1234)\n",
    "\n",
    "paramgrid = {\n",
    "    \"max_depth\":          range(3, 8),\n",
    "    \"learning_rate\":      np.logspace(-2, 0, 400, base=10),\n",
    "}\n",
    "\n",
    "random.seed(1)\n",
    "\n",
    "cv = EvolutionaryAlgorithmSearchCV(estimator=XGBClassifier(nthread=4, n_estimators=40),\n",
    "                                   params=paramgrid,\n",
    "                                   scoring=\"accuracy\",\n",
    "                                   cv=StratifiedKFold(y, n_folds=4),\n",
    "                                   verbose=4,\n",
    "                                   population_size=80,\n",
    "                                   gene_mutation_prob=0.15,\n",
    "                                   gene_crossover_prob=0.5,\n",
    "                                   tournament_size=5,\n",
    "                                   generations_number=2,\n",
    "                                   n_jobs=1)\n",
    "%time cv.fit(X, y)\n",
    "\n",
    "print cnt"
   ]
  },
  {
   "cell_type": "code",
   "execution_count": null,
   "metadata": {
    "collapsed": true
   },
   "outputs": [],
   "source": []
  }
 ],
 "metadata": {
  "kernelspec": {
   "display_name": "Python [conda env:py27]",
   "language": "python",
   "name": "conda-env-py27-py"
  },
  "language_info": {
   "codemirror_mode": {
    "name": "ipython",
    "version": 2
   },
   "file_extension": ".py",
   "mimetype": "text/x-python",
   "name": "python",
   "nbconvert_exporter": "python",
   "pygments_lexer": "ipython2",
   "version": "2.7.13"
  }
 },
 "nbformat": 4,
 "nbformat_minor": 1
}
