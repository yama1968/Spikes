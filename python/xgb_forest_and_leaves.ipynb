{
 "cells": [
  {
   "cell_type": "code",
   "execution_count": 1,
   "metadata": {
    "collapsed": false
   },
   "outputs": [],
   "source": [
    "from sklearn import datasets\n",
    "from scipy.io.arff import loadarff\n",
    "from sklearn.cross_validation import train_test_split\n",
    "from sklearn.metrics import roc_auc_score\n",
    "\n",
    "import numpy as np\n",
    "import pandas as pd\n"
   ]
  },
  {
   "cell_type": "code",
   "execution_count": 2,
   "metadata": {
    "collapsed": false
   },
   "outputs": [],
   "source": [
    "forest = datasets.fetch_covtype()"
   ]
  },
  {
   "cell_type": "code",
   "execution_count": 3,
   "metadata": {
    "collapsed": false
   },
   "outputs": [
    {
     "data": {
      "text/plain": [
       "sklearn.datasets.base.Bunch"
      ]
     },
     "execution_count": 3,
     "metadata": {},
     "output_type": "execute_result"
    }
   ],
   "source": [
    "type(forest)"
   ]
  },
  {
   "cell_type": "code",
   "execution_count": 4,
   "metadata": {
    "collapsed": false
   },
   "outputs": [],
   "source": [
    "X, X_test, y, y_test = train_test_split(\n",
    "    forest.data, forest.target == 2, test_size=0.3, random_state=1234)"
   ]
  },
  {
   "cell_type": "code",
   "execution_count": 5,
   "metadata": {
    "collapsed": false
   },
   "outputs": [
    {
     "name": "stdout",
     "output_type": "stream",
     "text": [
      "(406708, 54) (406708,) (174304, 54) (174304,)\n"
     ]
    }
   ],
   "source": [
    "print(X.shape, y.shape, X_test.shape, y_test.shape)"
   ]
  },
  {
   "cell_type": "markdown",
   "metadata": {},
   "source": [
    "## Maintenant un peu de xgboost!\n",
    "\n",
    "### D'abord un tout petit"
   ]
  },
  {
   "cell_type": "code",
   "execution_count": 13,
   "metadata": {
    "collapsed": false
   },
   "outputs": [
    {
     "name": "stderr",
     "output_type": "stream",
     "text": [
      "[0]\teval-auc:0.798104\ttrain-auc:0.797500\n",
      "[1]\teval-auc:0.835330\ttrain-auc:0.836546\n"
     ]
    }
   ],
   "source": [
    "import xgboost as xgb\n",
    "\n",
    "dtrain = xgb.DMatrix(X, label=y)\n",
    "dtest  = xgb.DMatrix(X_test, label=y_test)\n",
    "evallist = [(dtest, 'eval'), (dtrain, 'train')]\n",
    "\n",
    "param = {\n",
    "    'bst:max_depth': 5, \n",
    "    'bst:eta': 0.5, \n",
    "    'silent': True, \n",
    "    'verbose': 0,\n",
    "    'objective': 'binary:logistic',\n",
    "    'nthread': 4,\n",
    "    'eval_metric': 'auc'\n",
    "}\n",
    "\n",
    "num_round = 2\n",
    "bst = xgb.train(param,\n",
    "                dtrain,\n",
    "                num_round,\n",
    "                evallist,\n",
    "                verbose_eval    = 40\n",
    "               )\n"
   ]
  },
  {
   "cell_type": "code",
   "execution_count": 31,
   "metadata": {
    "collapsed": false
   },
   "outputs": [
    {
     "data": {
      "text/plain": [
       "array([ 2687.,     0.,     0.,     0.])"
      ]
     },
     "execution_count": 31,
     "metadata": {},
     "output_type": "execute_result"
    }
   ],
   "source": [
    "X_test[0, [0,25,35,15]]"
   ]
  },
  {
   "cell_type": "code",
   "execution_count": 37,
   "metadata": {
    "collapsed": false
   },
   "outputs": [
    {
     "name": "stderr",
     "output_type": "stream",
     "text": [
      "/home/yannick/bin/anaconda3/envs/py35/lib/python3.5/site-packages/xgboost/core.py:840: VisibleDeprecationWarning: using a non-integer number instead of an integer will result in an error in the future\n",
      "  preds = preds.reshape(nrow, preds.size / nrow)\n"
     ]
    },
    {
     "data": {
      "text/plain": [
       "(array([[39, 40],\n",
       "        [39, 40],\n",
       "        [39, 40]], dtype=int32),\n",
       " array([ 0.67753184,  0.67753184,  0.67753184], dtype=float32),\n",
       " 0.67753180825889836)"
      ]
     },
     "execution_count": 37,
     "metadata": {},
     "output_type": "execute_result"
    }
   ],
   "source": [
    "leaves = bst.predict(dtest, pred_leaf=True)\n",
    "y = bst.predict(dtest)\n",
    "leaves[:3], y[:3], inv_logit(0.388039+ 0.354413)"
   ]
  },
  {
   "cell_type": "code",
   "execution_count": 36,
   "metadata": {
    "collapsed": false
   },
   "outputs": [
    {
     "data": {
      "text/plain": [
       "(array([51, 53], dtype=int32), 0.50070846, array([ 3126.,   254.,   283.]))"
      ]
     },
     "execution_count": 36,
     "metadata": {},
     "output_type": "execute_result"
    }
   ],
   "source": [
    "leaves[400], y[400], X_test[400, [0,7,3]]"
   ]
  },
  {
   "cell_type": "code",
   "execution_count": 18,
   "metadata": {
    "collapsed": true
   },
   "outputs": [],
   "source": [
    "import numpy as np\n",
    "def logit(p):\n",
    "    return np.log(p) - np.log(1 - p)\n",
    "\n",
    "def inv_logit(p):\n",
    "    return np.exp(p) / (1 + np.exp(p))"
   ]
  },
  {
   "cell_type": "code",
   "execution_count": 29,
   "metadata": {
    "collapsed": false
   },
   "outputs": [
    {
     "data": {
      "text/plain": [
       "(0.67753180825889836, 0.74245214527986758)"
      ]
     },
     "execution_count": 29,
     "metadata": {},
     "output_type": "execute_result"
    }
   ],
   "source": []
  },
  {
   "cell_type": "code",
   "execution_count": 15,
   "metadata": {
    "collapsed": false
   },
   "outputs": [
    {
     "name": "stdout",
     "output_type": "stream",
     "text": [
      "booster[0]:\r\n",
      "0:[f0<3073.5] yes=1,no=2,missing=1\r\n",
      "\t1:[f0<2497.5] yes=3,no=4,missing=3\r\n",
      "\t\t3:[f0<2436.5] yes=7,no=8,missing=7\r\n",
      "\t\t\t7:[f5<659.5] yes=15,no=16,missing=16\r\n",
      "\t\t\t\t15:[f0<2220.5] yes=31,no=32,missing=31\r\n",
      "\t\t\t\t\t31:leaf=-0.98394\r\n",
      "\t\t\t\t\t32:leaf=-0.793315\r\n",
      "\t\t\t\t16:[f9<1375] yes=33,no=34,missing=33\r\n",
      "\t\t\t\t\t33:leaf=-0.995588\r\n",
      "\t\t\t\t\t34:leaf=-0.891282\r\n",
      "\t\t\t8:[f23<-1.00136e-05] yes=17,no=18,missing=17\r\n",
      "\t\t\t\t17:[f10<-1.00136e-05] yes=35,no=36,missing=35\r\n",
      "\t\t\t\t\t35:leaf=-0.822691\r\n",
      "\t\t\t\t\t36:leaf=0.388889\r\n",
      "\t\t\t\t18:[f3<205.5] yes=37,no=38,missing=37\r\n",
      "\t\t\t\t\t37:leaf=-0.171043\r\n",
      "\t\t\t\t\t38:leaf=-0.758065\r\n",
      "\t\t4:[f25<-1.00136e-05] yes=9,no=10,missing=9\r\n",
      "\t\t\t9:[f35<-1.00136e-05] yes=19,no=20,missing=19\r\n",
      "\t\t\t\t19:[f15<-1.00136e-05] yes=39,no=40,missing=39\r\n",
      "\t\t\t\t\t39:leaf=0.388039\r\n",
      "\t\t\t\t\t40:leaf=-0.642651\r\n",
      "\t\t\t\t20:[f0<2807.5] yes=41,no=42,missing=41\r\n",
      "\t\t\t\t\t41:leaf=0.789916\r\n",
      "\t\t\t\t\t42:leaf=-0.458464\r\n",
      "\t\t\t10:[f9<6667] yes=21,no=22,missing=22\r\n",
      "\t\t\t\t21:[f5<4885.5] yes=43,no=44,missing=44\r\n",
      "\t\t\t\t\t43:leaf=0.868075\r\n",
      "\t\t\t\t\t44:leaf=0.458409\r\n",
      "\t\t\t\t22:[f9<6873.5] yes=45,no=46,missing=46\r\n",
      "\t\t\t\t\t45:leaf=0.0769231\r\n",
      "\t\t\t\t\t46:leaf=-0.818182\r\n",
      "\t2:[f0<3296.5] yes=5,no=6,missing=5\r\n",
      "\t\t5:[f7<238.5] yes=11,no=12,missing=12\r\n",
      "\t\t\t11:[f5<1063.5] yes=23,no=24,missing=24\r\n",
      "\t\t\t\t23:[f12<-1.00136e-05] yes=47,no=48,missing=47\r\n",
      "\t\t\t\t\t47:leaf=-0.307938\r\n",
      "\t\t\t\t\t48:leaf=0.164236\r\n",
      "\t\t\t\t24:[f42<-1.00136e-05] yes=49,no=50,missing=49\r\n",
      "\t\t\t\t\t49:leaf=-0.638847\r\n",
      "\t\t\t\t\t50:leaf=-0.318005\r\n",
      "\t\t\t12:[f3<330.5] yes=25,no=26,missing=25\r\n",
      "\t\t\t\t25:[f0<3199.5] yes=51,no=52,missing=51\r\n",
      "\t\t\t\t\t51:leaf=-0.134374\r\n",
      "\t\t\t\t\t52:leaf=-0.630237\r\n",
      "\t\t\t\t26:[f0<3207.5] yes=53,no=54,missing=53\r\n",
      "\t\t\t\t\t53:leaf=0.470741\r\n",
      "\t\t\t\t\t54:leaf=-0.0105158\r\n",
      "\t\t6:[f11<-1.00136e-05] yes=13,no=14,missing=13\r\n",
      "\t\t\t13:[f40<-1.00136e-05] yes=27,no=28,missing=27\r\n",
      "\t\t\t\t27:[f0<3328.5] yes=55,no=56,missing=55\r\n",
      "\t\t\t\t\t55:leaf=-0.790179\r\n",
      "\t\t\t\t\t56:leaf=-0.975876\r\n",
      "\t\t\t\t28:[f3<1255.5] yes=57,no=58,missing=58\r\n",
      "\t\t\t\t\t57:leaf=0.793651\r\n",
      "\t\t\t\t\t58:leaf=-0.714286\r\n",
      "\t\t\t14:[f9<2052.5] yes=29,no=30,missing=29\r\n",
      "\t\t\t\t29:[f5<652] yes=59,no=60,missing=60\r\n",
      "\t\t\t\t\t59:leaf=-0.38255\r\n",
      "\t\t\t\t\t60:leaf=-0.970169\r\n",
      "\t\t\t\t30:[f0<3360.5] yes=61,no=62,missing=61\r\n",
      "\t\t\t\t\t61:leaf=0.00241546\r\n",
      "\t\t\t\t\t62:leaf=-0.703947\r\n",
      "booster[1]:\r\n",
      "0:[f0<3042.5] yes=1,no=2,missing=1\r\n",
      "\t1:[f0<2527.5] yes=3,no=4,missing=3\r\n",
      "\t\t3:[f10<-1.00136e-05] yes=7,no=8,missing=7\r\n",
      "\t\t\t7:[f44<-1.00136e-05] yes=15,no=16,missing=15\r\n",
      "\t\t\t\t15:[f46<-1.00136e-05] yes=31,no=32,missing=31\r\n",
      "\t\t\t\t\t31:leaf=-0.576899\r\n",
      "\t\t\t\t\t32:leaf=0.844013\r\n",
      "\t\t\t\t16:[f5<717] yes=33,no=34,missing=34\r\n",
      "\t\t\t\t\t33:leaf=1.48525\r\n",
      "\t\t\t\t\t34:leaf=0.373198\r\n",
      "\t\t\t8:[f9<5145.5] yes=17,no=18,missing=18\r\n",
      "\t\t\t\t17:[f22<-1.00136e-05] yes=35,no=36,missing=35\r\n",
      "\t\t\t\t\t35:leaf=0.792376\r\n",
      "\t\t\t\t\t36:leaf=-0.472651\r\n",
      "\t\t\t\t18:[f9<5634] yes=37,no=38,missing=38\r\n",
      "\t\t\t\t\t37:leaf=-1.13649\r\n",
      "\t\t\t\t\t38:leaf=0.577207\r\n",
      "\t\t4:[f17<-1.00136e-05] yes=9,no=10,missing=9\r\n",
      "\t\t\t9:[f36<-1.00136e-05] yes=19,no=20,missing=19\r\n",
      "\t\t\t\t19:[f3<63.5] yes=39,no=40,missing=39\r\n",
      "\t\t\t\t\t39:leaf=0.103847\r\n",
      "\t\t\t\t\t40:leaf=0.354413\r\n",
      "\t\t\t\t20:[f0<2961.5] yes=41,no=42,missing=41\r\n",
      "\t\t\t\t\t41:leaf=0.0499153\r\n",
      "\t\t\t\t\t42:leaf=-0.563746\r\n",
      "\t\t\t10:[f0<2703.5] yes=21,no=22,missing=21\r\n",
      "\t\t\t\t21:[f0<2648.5] yes=43,no=44,missing=43\r\n",
      "\t\t\t\t\t43:leaf=-1.104\r\n",
      "\t\t\t\t\t44:leaf=-0.589525\r\n",
      "\t\t\t\t22:[f9<1728] yes=45,no=46,missing=46\r\n",
      "\t\t\t\t\t45:leaf=0.402209\r\n",
      "\t\t\t\t\t46:leaf=-0.260556\r\n",
      "\t2:[f0<3171.5] yes=5,no=6,missing=5\r\n",
      "\t\t5:[f3<181] yes=11,no=12,missing=11\r\n",
      "\t\t\t11:[f5<5368.5] yes=23,no=24,missing=24\r\n",
      "\t\t\t\t23:[f45<-1.00136e-05] yes=47,no=48,missing=47\r\n",
      "\t\t\t\t\t47:leaf=-0.43407\r\n",
      "\t\t\t\t\t48:leaf=0.401927\r\n",
      "\t\t\t\t24:[f9<1333] yes=49,no=50,missing=50\r\n",
      "\t\t\t\t\t49:leaf=-0.623518\r\n",
      "\t\t\t\t\t50:leaf=0.758994\r\n",
      "\t\t\t12:[f7<229.5] yes=25,no=26,missing=26\r\n",
      "\t\t\t\t25:[f3<909.5] yes=51,no=52,missing=52\r\n",
      "\t\t\t\t\t51:leaf=-0.147014\r\n",
      "\t\t\t\t\t52:leaf=1.03429\r\n",
      "\t\t\t\t26:[f5<5433.5] yes=53,no=54,missing=54\r\n",
      "\t\t\t\t\t53:leaf=0.137207\r\n",
      "\t\t\t\t\t54:leaf=0.483197\r\n",
      "\t\t6:[f5<988.5] yes=13,no=14,missing=14\r\n",
      "\t\t\t13:[f9<2169] yes=27,no=28,missing=27\r\n",
      "\t\t\t\t27:[f37<-1.00136e-05] yes=55,no=56,missing=55\r\n",
      "\t\t\t\t\t55:leaf=-0.34146\r\n",
      "\t\t\t\t\t56:leaf=0.623055\r\n",
      "\t\t\t\t28:[f9<5055.5] yes=57,no=58,missing=58\r\n",
      "\t\t\t\t\t57:leaf=0.537106\r\n",
      "\t\t\t\t\t58:leaf=-0.864303\r\n",
      "\t\t\t14:[f5<5194.5] yes=29,no=30,missing=29\r\n",
      "\t\t\t\t29:[f45<-1.00136e-05] yes=59,no=60,missing=59\r\n",
      "\t\t\t\t\t59:leaf=-0.517031\r\n",
      "\t\t\t\t\t60:leaf=-0.248168\r\n",
      "\t\t\t\t30:[f9<1649] yes=61,no=62,missing=61\r\n",
      "\t\t\t\t\t61:leaf=-0.412899\r\n",
      "\t\t\t\t\t62:leaf=0.488511\r\n"
     ]
    }
   ],
   "source": [
    "bst.dump_model(\"bst_2_trees\")\n",
    "! cat bst_2_trees"
   ]
  },
  {
   "cell_type": "code",
   "execution_count": 6,
   "metadata": {
    "collapsed": false
   },
   "outputs": [
    {
     "name": "stderr",
     "output_type": "stream",
     "text": [
      "[0]\teval-auc:0.798104\ttrain-auc:0.797500\n",
      "[40]\teval-auc:0.922583\ttrain-auc:0.925691\n",
      "[80]\teval-auc:0.939016\ttrain-auc:0.943107\n",
      "[120]\teval-auc:0.953977\ttrain-auc:0.958951\n",
      "[160]\teval-auc:0.961968\ttrain-auc:0.967478\n",
      "[200]\teval-auc:0.967300\ttrain-auc:0.973411\n"
     ]
    }
   ],
   "source": [
    "import xgboost as xgb\n",
    "\n",
    "dtrain = xgb.DMatrix(X, label=y)\n",
    "dtest  = xgb.DMatrix(X_test, label=y_test)\n",
    "evallist = [(dtest, 'eval'), (dtrain, 'train')]\n",
    "\n",
    "param = {\n",
    "    'bst:max_depth': 5, \n",
    "    'bst:eta': 0.5, \n",
    "    'silent': True, \n",
    "    'verbose': 0,\n",
    "    'objective': 'binary:logistic',\n",
    "    'nthread': 4,\n",
    "    'eval_metric': 'auc'\n",
    "}\n",
    "\n",
    "num_round = 201\n",
    "bst = xgb.train(param,\n",
    "                dtrain,\n",
    "                num_round,\n",
    "                evallist,\n",
    "                verbose_eval    = 40\n",
    "               )\n"
   ]
  },
  {
   "cell_type": "code",
   "execution_count": 7,
   "metadata": {
    "collapsed": false
   },
   "outputs": [
    {
     "name": "stderr",
     "output_type": "stream",
     "text": [
      "[0]\teval-auc:0.744344\ttrain-auc:0.747410\n",
      "[40]\teval-auc:0.975541\ttrain-auc:0.983620\n",
      "[80]\teval-auc:0.986208\ttrain-auc:0.994752\n",
      "[120]\teval-auc:0.990154\ttrain-auc:0.998182\n",
      "[160]\teval-auc:0.992087\ttrain-auc:0.999415\n",
      "[200]\teval-auc:0.992860\ttrain-auc:0.999795\n"
     ]
    }
   ],
   "source": [
    "param = {\n",
    "    'bst:max_depth': 9, \n",
    "    'bst:eta': 0.6,\n",
    "    'colsample_bytree': 0.74,\n",
    "    'subsample': 0.66,\n",
    "    'silent': True, \n",
    "    'verbose': 0,\n",
    "    'objective': 'binary:logistic',\n",
    "    'nthread': 4,\n",
    "    'eval_metric': 'auc'\n",
    "}\n",
    "\n",
    "num_round = 201\n",
    "bst = xgb.train(param,\n",
    "                dtrain,\n",
    "                num_round,\n",
    "                evallist,\n",
    "                verbose_eval    = 40\n",
    "               )\n"
   ]
  }
 ],
 "metadata": {
  "kernelspec": {
   "display_name": "Python 3",
   "language": "python",
   "name": "python3"
  },
  "language_info": {
   "codemirror_mode": {
    "name": "ipython",
    "version": 3
   },
   "file_extension": ".py",
   "mimetype": "text/x-python",
   "name": "python",
   "nbconvert_exporter": "python",
   "pygments_lexer": "ipython3",
   "version": "3.5.1"
  }
 },
 "nbformat": 4,
 "nbformat_minor": 0
}
