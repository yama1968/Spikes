{
 "cells": [
  {
   "cell_type": "code",
   "execution_count": 1,
   "metadata": {
    "collapsed": false
   },
   "outputs": [],
   "source": [
    "from sklearn import datasets\n",
    "from scipy.io.arff import loadarff\n",
    "from sklearn.cross_validation import train_test_split\n",
    "from sklearn.metrics import roc_auc_score\n",
    "\n",
    "import numpy as np\n",
    "import pandas as pd\n"
   ]
  },
  {
   "cell_type": "code",
   "execution_count": 2,
   "metadata": {
    "collapsed": false
   },
   "outputs": [],
   "source": [
    "forest = datasets.fetch_covtype()"
   ]
  },
  {
   "cell_type": "code",
   "execution_count": 3,
   "metadata": {
    "collapsed": false
   },
   "outputs": [
    {
     "data": {
      "text/plain": [
       "sklearn.datasets.base.Bunch"
      ]
     },
     "execution_count": 3,
     "metadata": {},
     "output_type": "execute_result"
    }
   ],
   "source": [
    "type(forest)"
   ]
  },
  {
   "cell_type": "code",
   "execution_count": 18,
   "metadata": {
    "collapsed": false
   },
   "outputs": [],
   "source": [
    "X, X_test, y, y_test = train_test_split(\n",
    "    forest.data, forest.target == 2, test_size=0.3, random_state=1234)"
   ]
  },
  {
   "cell_type": "code",
   "execution_count": 19,
   "metadata": {
    "collapsed": false
   },
   "outputs": [
    {
     "name": "stdout",
     "output_type": "stream",
     "text": [
      "(406708, 54) (406708,) (174304, 54) (174304,)\n"
     ]
    }
   ],
   "source": [
    "print(X.shape, y.shape, X_test.shape, y_test.shape)"
   ]
  },
  {
   "cell_type": "markdown",
   "metadata": {},
   "source": [
    "## Maintenant un peu de xgboost!\n",
    "\n",
    "### D'abord un tout petit"
   ]
  },
  {
   "cell_type": "code",
   "execution_count": 11,
   "metadata": {
    "collapsed": true
   },
   "outputs": [],
   "source": [
    "import numpy as np\n",
    "def logit(p):\n",
    "    return np.log(p) - np.log(1 - p)\n",
    "\n",
    "def inv_logit(p):\n",
    "    return np.exp(p) / (1 + np.exp(p))"
   ]
  },
  {
   "cell_type": "code",
   "execution_count": 8,
   "metadata": {
    "collapsed": false
   },
   "outputs": [
    {
     "name": "stdout",
     "output_type": "stream",
     "text": [
      "[0]\teval-auc:0.81286\ttrain-auc:0.812862\n"
     ]
    }
   ],
   "source": [
    "import xgboost as xgb\n",
    "\n",
    "dtrain = xgb.DMatrix(X, label=y)\n",
    "dtest  = xgb.DMatrix(X_test, label=y_test)\n",
    "evallist = [(dtest, 'eval'), (dtrain, 'train')]\n",
    "\n",
    "param = {\n",
    "    'bst:max_depth': 5, \n",
    "    'bst:eta': 0.5, \n",
    "    'silent': True, \n",
    "    'verbose': 0,\n",
    "    'objective': 'binary:logistic',\n",
    "    'nthread': 4,\n",
    "    'eval_metric': 'auc'\n",
    "}\n",
    "\n",
    "num_round = 4\n",
    "bst = xgb.train(param,\n",
    "                dtrain,\n",
    "                num_round,\n",
    "                evallist,\n",
    "                verbose_eval    = 40\n",
    "               )\n"
   ]
  },
  {
   "cell_type": "code",
   "execution_count": 9,
   "metadata": {
    "collapsed": false
   },
   "outputs": [
    {
     "data": {
      "text/plain": [
       "array([ 2687.,     0.,     0.,     0.])"
      ]
     },
     "execution_count": 9,
     "metadata": {},
     "output_type": "execute_result"
    }
   ],
   "source": [
    "X_test[0, [0,25,35,15]]"
   ]
  },
  {
   "cell_type": "code",
   "execution_count": 12,
   "metadata": {
    "collapsed": false
   },
   "outputs": [
    {
     "data": {
      "text/plain": [
       "(array([[77, 73, 81, 82],\n",
       "        [77, 73, 83, 80],\n",
       "        [77, 73, 81, 82]], dtype=int32),\n",
       " array([ 0.73306412,  0.59011638,  0.73306412], dtype=float32),\n",
       " 0.67753180825889836)"
      ]
     },
     "execution_count": 12,
     "metadata": {},
     "output_type": "execute_result"
    }
   ],
   "source": [
    "leaves = bst.predict(dtest, pred_leaf=True)\n",
    "z = bst.predict(dtest)\n",
    "leaves[:3], z[:3], inv_logit(0.388039+ 0.354413)"
   ]
  },
  {
   "cell_type": "code",
   "execution_count": 13,
   "metadata": {
    "collapsed": false
   },
   "outputs": [
    {
     "data": {
      "text/plain": [
       "(array([101, 104,  99,  89], dtype=int32),\n",
       " 0.51603085,\n",
       " array([ 3126.,   254.,   283.]))"
      ]
     },
     "execution_count": 13,
     "metadata": {},
     "output_type": "execute_result"
    }
   ],
   "source": [
    "leaves[400], y[400], X_test[400, [0,7,3]]"
   ]
  },
  {
   "cell_type": "code",
   "execution_count": 14,
   "metadata": {
    "collapsed": false
   },
   "outputs": [
    {
     "name": "stdout",
     "output_type": "stream",
     "text": [
      "booster[0]:\r\n",
      "0:[f0<3073.5] yes=1,no=2,missing=1\r\n",
      "\t1:[f0<2497.5] yes=3,no=4,missing=3\r\n",
      "\t\t3:[f0<2436.5] yes=7,no=8,missing=7\r\n",
      "\t\t\t7:[f5<659.5] yes=15,no=16,missing=15\r\n",
      "\t\t\t\t15:[f0<2220.5] yes=31,no=32,missing=31\r\n",
      "\t\t\t\t\t31:[f0<2165.5] yes=63,no=64,missing=63\r\n",
      "\t\t\t\t\t\t63:leaf=-0.597907\r\n",
      "\t\t\t\t\t\t64:leaf=-0.55443\r\n",
      "\t\t\t\t\t32:[f23<0.5] yes=65,no=66,missing=65\r\n",
      "\t\t\t\t\t\t65:leaf=-0.556008\r\n",
      "\t\t\t\t\t\t66:leaf=-0.387296\r\n",
      "\t\t\t\t16:[f9<1375] yes=33,no=34,missing=33\r\n",
      "\t\t\t\t\t33:leaf=-0.597343\r\n",
      "\t\t\t\t\t34:[f0<2379.5] yes=67,no=68,missing=67\r\n",
      "\t\t\t\t\t\t67:leaf=-0.595745\r\n",
      "\t\t\t\t\t\t68:leaf=-0.446747\r\n",
      "\t\t\t8:[f23<0.5] yes=17,no=18,missing=17\r\n",
      "\t\t\t\t17:[f10<0.5] yes=35,no=36,missing=35\r\n",
      "\t\t\t\t\t35:[f44<0.5] yes=69,no=70,missing=69\r\n",
      "\t\t\t\t\t\t69:leaf=-0.512204\r\n",
      "\t\t\t\t\t\t70:leaf=0.538983\r\n",
      "\t\t\t\t\t36:[f9<5104.5] yes=71,no=72,missing=71\r\n",
      "\t\t\t\t\t\t71:leaf=0.542857\r\n",
      "\t\t\t\t\t\t72:leaf=-0.544186\r\n",
      "\t\t\t\t18:[f3<205.5] yes=37,no=38,missing=37\r\n",
      "\t\t\t\t\t37:[f5<1357.5] yes=73,no=74,missing=73\r\n",
      "\t\t\t\t\t\t73:leaf=-0.0372881\r\n",
      "\t\t\t\t\t\t74:leaf=-0.565517\r\n",
      "\t\t\t\t\t38:[f12<0.5] yes=75,no=76,missing=75\r\n",
      "\t\t\t\t\t\t75:leaf=-0.537162\r\n",
      "\t\t\t\t\t\t76:leaf=-0.130769\r\n",
      "\t\t4:[f25<0.5] yes=9,no=10,missing=9\r\n",
      "\t\t\t9:[f35<0.5] yes=19,no=20,missing=19\r\n",
      "\t\t\t\t19:[f15<0.5] yes=39,no=40,missing=39\r\n",
      "\t\t\t\t\t39:[f17<0.5] yes=77,no=78,missing=77\r\n",
      "\t\t\t\t\t\t77:leaf=0.247656\r\n",
      "\t\t\t\t\t\t78:leaf=-0.191299\r\n",
      "\t\t\t\t\t40:[f5<2305.5] yes=79,no=80,missing=79\r\n",
      "\t\t\t\t\t\t79:leaf=-0.44263\r\n",
      "\t\t\t\t\t\t80:leaf=-0.0142857\r\n",
      "\t\t\t\t20:[f0<2807.5] yes=41,no=42,missing=41\r\n",
      "\t\t\t\t\t41:[f0<2574.5] yes=81,no=82,missing=81\r\n",
      "\t\t\t\t\t\t81:leaf=0.0461539\r\n",
      "\t\t\t\t\t\t82:leaf=0.516667\r\n",
      "\t\t\t\t\t42:[f3<114] yes=83,no=84,missing=83\r\n",
      "\t\t\t\t\t\t83:leaf=-0.424919\r\n",
      "\t\t\t\t\t\t84:leaf=-0.175932\r\n",
      "\t\t\t10:[f9<6667] yes=21,no=22,missing=21\r\n",
      "\t\t\t\t21:[f5<4885.5] yes=43,no=44,missing=43\r\n",
      "\t\t\t\t\t43:[f5<1941.5] yes=85,no=86,missing=85\r\n",
      "\t\t\t\t\t\t85:leaf=0.481016\r\n",
      "\t\t\t\t\t\t86:leaf=0.54206\r\n",
      "\t\t\t\t\t44:[f9<5313.5] yes=87,no=88,missing=87\r\n",
      "\t\t\t\t\t\t87:leaf=0.0629156\r\n",
      "\t\t\t\t\t\t88:leaf=0.34\r\n",
      "\t\t\t\t22:[f9<6873.5] yes=45,no=46,missing=45\r\n",
      "\t\t\t\t\t45:[f4<48.5] yes=89,no=90,missing=89\r\n",
      "\t\t\t\t\t\t89:leaf=0.114783\r\n",
      "\t\t\t\t\t\t90:leaf=-0.423529\r\n",
      "\t\t\t\t\t46:[f5<2022.5] yes=91,no=92,missing=91\r\n",
      "\t\t\t\t\t\t91:leaf=0.36\r\n",
      "\t\t\t\t\t\t92:leaf=-0.570732\r\n",
      "\t2:[f0<3296.5] yes=5,no=6,missing=5\r\n",
      "\t\t5:[f7<238.5] yes=11,no=12,missing=11\r\n",
      "\t\t\t11:[f5<1063.5] yes=23,no=24,missing=23\r\n",
      "\t\t\t\t23:[f12<0.5] yes=47,no=48,missing=47\r\n",
      "\t\t\t\t\t47:[f4<-35.5] yes=93,no=94,missing=93\r\n",
      "\t\t\t\t\t\t93:leaf=0.370675\r\n",
      "\t\t\t\t\t\t94:leaf=-0.214494\r\n",
      "\t\t\t\t\t48:[f46<0.5] yes=95,no=96,missing=95\r\n",
      "\t\t\t\t\t\t95:leaf=0.00228806\r\n",
      "\t\t\t\t\t\t96:leaf=0.516923\r\n",
      "\t\t\t\t24:[f42<0.5] yes=49,no=50,missing=49\r\n",
      "\t\t\t\t\t49:[f45<0.5] yes=97,no=98,missing=97\r\n",
      "\t\t\t\t\t\t97:leaf=-0.421228\r\n",
      "\t\t\t\t\t\t98:leaf=-0.127803\r\n",
      "\t\t\t\t\t50:[f9<3162.5] yes=99,no=100,missing=99\r\n",
      "\t\t\t\t\t\t99:leaf=-0.129658\r\n",
      "\t\t\t\t\t\t100:leaf=-0.466411\r\n",
      "\t\t\t12:[f3<330.5] yes=25,no=26,missing=25\r\n",
      "\t\t\t\t25:[f0<3199.5] yes=51,no=52,missing=51\r\n",
      "\t\t\t\t\t51:[f5<5424] yes=101,no=102,missing=101\r\n",
      "\t\t\t\t\t\t101:leaf=-0.146985\r\n",
      "\t\t\t\t\t\t102:leaf=0.453099\r\n",
      "\t\t\t\t\t52:[f3<214] yes=103,no=104,missing=103\r\n",
      "\t\t\t\t\t\t103:leaf=-0.441663\r\n",
      "\t\t\t\t\t\t104:leaf=-0.275398\r\n",
      "\t\t\t\t26:[f0<3207.5] yes=53,no=54,missing=53\r\n",
      "\t\t\t\t\t53:[f5<831] yes=105,no=106,missing=105\r\n",
      "\t\t\t\t\t\t105:leaf=0.527143\r\n",
      "\t\t\t\t\t\t106:leaf=0.224199\r\n",
      "\t\t\t\t\t54:[f5<5794] yes=107,no=108,missing=107\r\n",
      "\t\t\t\t\t\t107:leaf=-0.0561151\r\n",
      "\t\t\t\t\t\t108:leaf=0.464112\r\n",
      "\t\t6:[f11<0.5] yes=13,no=14,missing=13\r\n",
      "\t\t\t13:[f40<0.5] yes=27,no=28,missing=27\r\n",
      "\t\t\t\t27:[f0<3328.5] yes=55,no=56,missing=55\r\n",
      "\t\t\t\t\t55:[f5<1335] yes=109,no=110,missing=109\r\n",
      "\t\t\t\t\t\t109:leaf=-0.172164\r\n",
      "\t\t\t\t\t\t110:leaf=-0.524354\r\n",
      "\t\t\t\t\t56:[f4<177.5] yes=111,no=112,missing=111\r\n",
      "\t\t\t\t\t\t111:leaf=-0.594168\r\n",
      "\t\t\t\t\t\t112:leaf=-0.539587\r\n",
      "\t\t\t\t28:[f3<1255.5] yes=57,no=58,missing=57\r\n",
      "\t\t\t\t\t57:[f5<4119.5] yes=113,no=114,missing=113\r\n",
      "\t\t\t\t\t\t113:leaf=0.520661\r\n",
      "\t\t\t\t\t\t114:leaf=-0.333333\r\n",
      "\t\t\t\t\t58:leaf=-0.428571\r\n",
      "\t\t\t14:[f9<2052.5] yes=29,no=30,missing=29\r\n",
      "\t\t\t\t29:[f5<652] yes=59,no=60,missing=59\r\n",
      "\t\t\t\t\t59:[f3<375] yes=115,no=116,missing=115\r\n",
      "\t\t\t\t\t\t115:leaf=0.439024\r\n",
      "\t\t\t\t\t\t116:leaf=-0.37561\r\n",
      "\t\t\t\t\t60:[f5<1986] yes=117,no=118,missing=117\r\n",
      "\t\t\t\t\t\t117:leaf=-0.585171\r\n",
      "\t\t\t\t\t\t118:leaf=0.323077\r\n",
      "\t\t\t\t30:[f0<3360.5] yes=61,no=62,missing=61\r\n",
      "\t\t\t\t\t61:[f9<3145] yes=119,no=120,missing=119\r\n",
      "\t\t\t\t\t\t119:leaf=0.426244\r\n",
      "\t\t\t\t\t\t120:leaf=-0.152709\r\n",
      "\t\t\t\t\t62:[f5<1103.5] yes=121,no=122,missing=121\r\n",
      "\t\t\t\t\t\t121:leaf=0.0895028\r\n",
      "\t\t\t\t\t\t122:leaf=-0.509913\r\n",
      "booster[1]:\r\n",
      "0:[f0<3050.5] yes=1,no=2,missing=1\r\n",
      "\t1:[f0<2510.5] yes=3,no=4,missing=3\r\n",
      "\t\t3:[f0<2461.5] yes=7,no=8,missing=7\r\n",
      "\t\t\t7:[f44<0.5] yes=15,no=16,missing=15\r\n",
      "\t\t\t\t15:[f23<0.5] yes=31,no=32,missing=31\r\n",
      "\t\t\t\t\t31:[f46<0.5] yes=61,no=62,missing=61\r\n",
      "\t\t\t\t\t\t61:leaf=-0.455863\r\n",
      "\t\t\t\t\t\t62:leaf=0.491387\r\n",
      "\t\t\t\t\t32:[f12<0.5] yes=63,no=64,missing=63\r\n",
      "\t\t\t\t\t\t63:leaf=-0.413648\r\n",
      "\t\t\t\t\t\t64:leaf=-0.155934\r\n",
      "\t\t\t\t16:leaf=0.499909\r\n",
      "\t\t\t8:[f10<0.5] yes=17,no=18,missing=17\r\n",
      "\t\t\t\t17:[f23<0.5] yes=33,no=34,missing=33\r\n",
      "\t\t\t\t\t33:[f46<0.5] yes=65,no=66,missing=65\r\n",
      "\t\t\t\t\t\t65:leaf=-0.370318\r\n",
      "\t\t\t\t\t\t66:leaf=0.54049\r\n",
      "\t\t\t\t\t34:[f5<1375] yes=67,no=68,missing=67\r\n",
      "\t\t\t\t\t\t67:leaf=-0.0516733\r\n",
      "\t\t\t\t\t\t68:leaf=-0.53511\r\n",
      "\t\t\t\t18:[f9<5118] yes=35,no=36,missing=35\r\n",
      "\t\t\t\t\t35:[f3<303.5] yes=69,no=70,missing=69\r\n",
      "\t\t\t\t\t\t69:leaf=0.507089\r\n",
      "\t\t\t\t\t\t70:leaf=0.252017\r\n",
      "\t\t\t\t\t36:[f5<640] yes=71,no=72,missing=71\r\n",
      "\t\t\t\t\t\t71:leaf=0.274789\r\n",
      "\t\t\t\t\t\t72:leaf=-0.533784\r\n",
      "\t\t4:[f36<0.5] yes=9,no=10,missing=9\r\n",
      "\t\t\t9:[f15<0.5] yes=19,no=20,missing=19\r\n",
      "\t\t\t\t19:[f17<0.5] yes=37,no=38,missing=37\r\n",
      "\t\t\t\t\t37:[f35<0.5] yes=73,no=74,missing=73\r\n",
      "\t\t\t\t\t\t73:leaf=0.239008\r\n",
      "\t\t\t\t\t\t74:leaf=-0.156577\r\n",
      "\t\t\t\t\t38:[f0<2703.5] yes=75,no=76,missing=75\r\n",
      "\t\t\t\t\t\t75:leaf=-0.397947\r\n",
      "\t\t\t\t\t\t76:leaf=0.248876\r\n",
      "\t\t\t\t20:[f6<195.5] yes=39,no=40,missing=39\r\n",
      "\t\t\t\t\t39:[f0<2602.5] yes=77,no=78,missing=77\r\n",
      "\t\t\t\t\t\t77:leaf=0.324899\r\n",
      "\t\t\t\t\t\t78:leaf=-0.292732\r\n",
      "\t\t\t\t\t40:[f5<2390] yes=79,no=80,missing=79\r\n",
      "\t\t\t\t\t\t79:leaf=-0.379878\r\n",
      "\t\t\t\t\t\t80:leaf=0.0244179\r\n",
      "\t\t\t10:[f0<2944.5] yes=21,no=22,missing=21\r\n",
      "\t\t\t\t21:[f10<0.5] yes=41,no=42,missing=41\r\n",
      "\t\t\t\t\t41:[f0<2887.5] yes=81,no=82,missing=81\r\n",
      "\t\t\t\t\t\t81:leaf=-0.274618\r\n",
      "\t\t\t\t\t\t82:leaf=0.0364823\r\n",
      "\t\t\t\t\t42:[f5<4348.5] yes=83,no=84,missing=83\r\n",
      "\t\t\t\t\t\t83:leaf=0.300753\r\n",
      "\t\t\t\t\t\t84:leaf=-0.0903829\r\n",
      "\t\t\t\t22:[f5<1760.5] yes=43,no=44,missing=43\r\n",
      "\t\t\t\t\t43:[f12<0.5] yes=85,no=86,missing=85\r\n",
      "\t\t\t\t\t\t85:leaf=-0.305268\r\n",
      "\t\t\t\t\t\t86:leaf=0.154144\r\n",
      "\t\t\t\t\t44:[f9<2178] yes=87,no=88,missing=87\r\n",
      "\t\t\t\t\t\t87:leaf=-0.266521\r\n",
      "\t\t\t\t\t\t88:leaf=-0.497792\r\n",
      "\t2:[f0<3174.5] yes=5,no=6,missing=5\r\n",
      "\t\t5:[f3<181] yes=11,no=12,missing=11\r\n",
      "\t\t\t11:[f5<5347.5] yes=23,no=24,missing=23\r\n",
      "\t\t\t\t23:[f45<0.5] yes=45,no=46,missing=45\r\n",
      "\t\t\t\t\t45:[f7<249.5] yes=89,no=90,missing=89\r\n",
      "\t\t\t\t\t\t89:leaf=-0.297064\r\n",
      "\t\t\t\t\t\t90:leaf=0.0278345\r\n",
      "\t\t\t\t\t46:[f1<124.5] yes=91,no=92,missing=91\r\n",
      "\t\t\t\t\t\t91:leaf=-0.0919176\r\n",
      "\t\t\t\t\t\t92:leaf=0.319778\r\n",
      "\t\t\t\t24:[f9<1345] yes=47,no=48,missing=47\r\n",
      "\t\t\t\t\t47:[f8<129.5] yes=93,no=94,missing=93\r\n",
      "\t\t\t\t\t\t93:leaf=0.0121172\r\n",
      "\t\t\t\t\t\t94:leaf=-0.498762\r\n",
      "\t\t\t\t\t48:[f9<2588.5] yes=95,no=96,missing=95\r\n",
      "\t\t\t\t\t\t95:leaf=0.244103\r\n",
      "\t\t\t\t\t\t96:leaf=0.5622\r\n",
      "\t\t\t12:[f7<241.5] yes=25,no=26,missing=25\r\n",
      "\t\t\t\t25:[f3<909.5] yes=49,no=50,missing=49\r\n",
      "\t\t\t\t\t49:[f5<6194.5] yes=97,no=98,missing=97\r\n",
      "\t\t\t\t\t\t97:leaf=-0.087124\r\n",
      "\t\t\t\t\t\t98:leaf=0.492011\r\n",
      "\t\t\t\t\t50:[f8<167.5] yes=99,no=100,missing=99\r\n",
      "\t\t\t\t\t\t99:leaf=0.583757\r\n",
      "\t\t\t\t\t\t100:leaf=-0.453071\r\n",
      "\t\t\t\t26:[f5<847] yes=51,no=52,missing=51\r\n",
      "\t\t\t\t\t51:[f12<0.5] yes=101,no=102,missing=101\r\n",
      "\t\t\t\t\t\t101:leaf=0.0710254\r\n",
      "\t\t\t\t\t\t102:leaf=0.527128\r\n",
      "\t\t\t\t\t52:[f5<2013] yes=103,no=104,missing=103\r\n",
      "\t\t\t\t\t\t103:leaf=-0.055586\r\n",
      "\t\t\t\t\t\t104:leaf=0.24951\r\n",
      "\t\t6:[f5<959.5] yes=13,no=14,missing=13\r\n",
      "\t\t\t13:[f9<2048.5] yes=27,no=28,missing=27\r\n",
      "\t\t\t\t27:[f37<0.5] yes=53,no=54,missing=53\r\n",
      "\t\t\t\t\t53:[f45<0.5] yes=105,no=106,missing=105\r\n",
      "\t\t\t\t\t\t105:leaf=-0.325801\r\n",
      "\t\t\t\t\t\t106:leaf=-0.0490793\r\n",
      "\t\t\t\t\t54:[f1<132.5] yes=107,no=108,missing=107\r\n",
      "\t\t\t\t\t\t107:leaf=0.600707\r\n",
      "\t\t\t\t\t\t108:leaf=0.0399812\r\n",
      "\t\t\t\t28:[f1<112.5] yes=55,no=56,missing=55\r\n",
      "\t\t\t\t\t55:[f36<0.5] yes=109,no=110,missing=109\r\n",
      "\t\t\t\t\t\t109:leaf=-0.286816\r\n",
      "\t\t\t\t\t\t110:leaf=0.4531\r\n",
      "\t\t\t\t\t56:[f12<0.5] yes=111,no=112,missing=111\r\n",
      "\t\t\t\t\t\t111:leaf=0.213855\r\n",
      "\t\t\t\t\t\t112:leaf=0.5504\r\n",
      "\t\t\t14:[f5<5194.5] yes=29,no=30,missing=29\r\n",
      "\t\t\t\t29:[f0<3322.5] yes=57,no=58,missing=57\r\n",
      "\t\t\t\t\t57:[f3<237] yes=113,no=114,missing=113\r\n",
      "\t\t\t\t\t\t113:leaf=-0.37277\r\n",
      "\t\t\t\t\t\t114:leaf=-0.252903\r\n",
      "\t\t\t\t\t58:[f40<0.5] yes=115,no=116,missing=115\r\n",
      "\t\t\t\t\t\t115:leaf=-0.431364\r\n",
      "\t\t\t\t\t\t116:leaf=0.277576\r\n",
      "\t\t\t\t30:[f9<1261.5] yes=59,no=60,missing=59\r\n",
      "\t\t\t\t\t59:[f42<0.5] yes=117,no=118,missing=117\r\n",
      "\t\t\t\t\t\t117:leaf=-0.414382\r\n",
      "\t\t\t\t\t\t118:leaf=-0.0203333\r\n",
      "\t\t\t\t\t60:[f9<2581.5] yes=119,no=120,missing=119\r\n",
      "\t\t\t\t\t\t119:leaf=0.0277347\r\n",
      "\t\t\t\t\t\t120:leaf=0.387948\r\n",
      "booster[2]:\r\n",
      "0:[f0<3100.5] yes=1,no=2,missing=1\r\n",
      "\t1:[f0<2490.5] yes=3,no=4,missing=3\r\n",
      "\t\t3:[f0<2421.5] yes=7,no=8,missing=7\r\n",
      "\t\t\t7:[f5<659.5] yes=15,no=16,missing=15\r\n",
      "\t\t\t\t15:[f0<2214.5] yes=31,no=32,missing=31\r\n",
      "\t\t\t\t\t31:[f0<2165.5] yes=63,no=64,missing=63\r\n",
      "\t\t\t\t\t\t63:leaf=-0.40395\r\n",
      "\t\t\t\t\t\t64:leaf=-0.358309\r\n",
      "\t\t\t\t\t32:[f23<0.5] yes=65,no=66,missing=65\r\n",
      "\t\t\t\t\t\t65:leaf=-0.360247\r\n",
      "\t\t\t\t\t\t66:leaf=-0.203063\r\n",
      "\t\t\t\t16:[f9<1414.5] yes=33,no=34,missing=33\r\n",
      "\t\t\t\t\t33:leaf=-0.406538\r\n",
      "\t\t\t\t\t34:[f0<2379.5] yes=67,no=68,missing=67\r\n",
      "\t\t\t\t\t\t67:leaf=-0.403062\r\n",
      "\t\t\t\t\t\t68:leaf=-0.254878\r\n",
      "\t\t\t8:[f3<151.5] yes=17,no=18,missing=17\r\n",
      "\t\t\t\t17:[f23<0.5] yes=35,no=36,missing=35\r\n",
      "\t\t\t\t\t35:[f46<0.5] yes=69,no=70,missing=69\r\n",
      "\t\t\t\t\t\t69:leaf=-0.283322\r\n",
      "\t\t\t\t\t\t70:leaf=0.392882\r\n",
      "\t\t\t\t\t36:[f9<244.5] yes=71,no=72,missing=71\r\n",
      "\t\t\t\t\t\t71:leaf=0.64297\r\n",
      "\t\t\t\t\t\t72:leaf=-0.0573167\r\n",
      "\t\t\t\t18:[f44<0.5] yes=37,no=38,missing=37\r\n",
      "\t\t\t\t\t37:[f9<1295.5] yes=73,no=74,missing=73\r\n",
      "\t\t\t\t\t\t73:leaf=-0.382816\r\n",
      "\t\t\t\t\t\t74:leaf=-0.236954\r\n",
      "\t\t\t\t\t38:leaf=0.439967\r\n",
      "\t\t4:[f0<3004.5] yes=9,no=10,missing=9\r\n",
      "\t\t\t9:[f10<0.5] yes=19,no=20,missing=19\r\n",
      "\t\t\t\t19:[f0<2639.5] yes=39,no=40,missing=39\r\n",
      "\t\t\t\t\t39:[f17<0.5] yes=75,no=76,missing=75\r\n",
      "\t\t\t\t\t\t75:leaf=-0.0945404\r\n",
      "\t\t\t\t\t\t76:leaf=-0.392514\r\n",
      "\t\t\t\t\t40:[f3<36] yes=77,no=78,missing=77\r\n",
      "\t\t\t\t\t\t77:leaf=-0.0786232\r\n",
      "\t\t\t\t\t\t78:leaf=0.164587\r\n",
      "\t\t\t\t20:[f5<361.5] yes=41,no=42,missing=41\r\n",
      "\t\t\t\t\t41:[f0<2661.5] yes=79,no=80,missing=79\r\n",
      "\t\t\t\t\t\t79:leaf=0.431457\r\n",
      "\t\t\t\t\t\t80:leaf=-0.339545\r\n",
      "\t\t\t\t\t42:[f0<2949.5] yes=81,no=82,missing=81\r\n",
      "\t\t\t\t\t\t81:leaf=0.296881\r\n",
      "\t\t\t\t\t\t82:leaf=0.122462\r\n",
      "\t\t\t10:[f3<419] yes=21,no=22,missing=21\r\n",
      "\t\t\t\t21:[f7<221.5] yes=43,no=44,missing=43\r\n",
      "\t\t\t\t\t43:[f5<3838.5] yes=83,no=84,missing=83\r\n",
      "\t\t\t\t\t\t83:leaf=-0.252601\r\n",
      "\t\t\t\t\t\t84:leaf=-0.0182025\r\n",
      "\t\t\t\t\t44:[f36<0.5] yes=85,no=86,missing=85\r\n",
      "\t\t\t\t\t\t85:leaf=0.0449903\r\n",
      "\t\t\t\t\t\t86:leaf=-0.209406\r\n",
      "\t\t\t\t22:[f7<229.5] yes=45,no=46,missing=45\r\n",
      "\t\t\t\t\t45:[f9<3294.5] yes=87,no=88,missing=87\r\n",
      "\t\t\t\t\t\t87:leaf=0.11731\r\n",
      "\t\t\t\t\t\t88:leaf=-0.164819\r\n",
      "\t\t\t\t\t46:[f5<2307.5] yes=89,no=90,missing=89\r\n",
      "\t\t\t\t\t\t89:leaf=0.370386\r\n",
      "\t\t\t\t\t\t90:leaf=0.224613\r\n",
      "\t2:[f0<3307.5] yes=5,no=6,missing=5\r\n",
      "\t\t5:[f7<239.5] yes=11,no=12,missing=11\r\n",
      "\t\t\t11:[f5<1149.5] yes=23,no=24,missing=23\r\n",
      "\t\t\t\t23:[f6<234.5] yes=47,no=48,missing=47\r\n",
      "\t\t\t\t\t47:[f35<0.5] yes=91,no=92,missing=91\r\n",
      "\t\t\t\t\t\t91:leaf=-0.0643209\r\n",
      "\t\t\t\t\t\t92:leaf=-0.306831\r\n",
      "\t\t\t\t\t48:[f9<5005] yes=93,no=94,missing=93\r\n",
      "\t\t\t\t\t\t93:leaf=0.138867\r\n",
      "\t\t\t\t\t\t94:leaf=-0.509687\r\n",
      "\t\t\t\t24:[f42<0.5] yes=49,no=50,missing=49\r\n",
      "\t\t\t\t\t49:[f11<0.5] yes=95,no=96,missing=95\r\n",
      "\t\t\t\t\t\t95:leaf=-0.266482\r\n",
      "\t\t\t\t\t\t96:leaf=-0.00380094\r\n",
      "\t\t\t\t\t50:[f9<1139] yes=97,no=98,missing=97\r\n",
      "\t\t\t\t\t\t97:leaf=0.223952\r\n",
      "\t\t\t\t\t\t98:leaf=-0.167666\r\n",
      "\t\t\t12:[f3<390.5] yes=25,no=26,missing=25\r\n",
      "\t\t\t\t25:[f45<0.5] yes=51,no=52,missing=51\r\n",
      "\t\t\t\t\t51:[f5<4764.5] yes=99,no=100,missing=99\r\n",
      "\t\t\t\t\t\t99:leaf=-0.204275\r\n",
      "\t\t\t\t\t\t100:leaf=0.0892709\r\n",
      "\t\t\t\t\t52:[f0<3197.5] yes=101,no=102,missing=101\r\n",
      "\t\t\t\t\t\t101:leaf=0.240392\r\n",
      "\t\t\t\t\t\t102:leaf=-0.0730146\r\n",
      "\t\t\t\t26:[f44<0.5] yes=53,no=54,missing=53\r\n",
      "\t\t\t\t\t53:[f9<701] yes=103,no=104,missing=103\r\n",
      "\t\t\t\t\t\t103:leaf=-0.167088\r\n",
      "\t\t\t\t\t\t104:leaf=0.21715\r\n",
      "\t\t\t\t\t54:[f5<775.5] yes=105,no=106,missing=105\r\n",
      "\t\t\t\t\t\t105:leaf=0.427318\r\n",
      "\t\t\t\t\t\t106:leaf=-0.310941\r\n",
      "\t\t6:[f11<0.5] yes=13,no=14,missing=13\r\n",
      "\t\t\t13:[f40<0.5] yes=27,no=28,missing=27\r\n",
      "\t\t\t\t27:[f5<1328.5] yes=55,no=56,missing=55\r\n",
      "\t\t\t\t\t55:[f9<2268] yes=107,no=108,missing=107\r\n",
      "\t\t\t\t\t\t107:leaf=-0.387022\r\n",
      "\t\t\t\t\t\t108:leaf=-0.0534554\r\n",
      "\t\t\t\t\t56:[f46<0.5] yes=109,no=110,missing=109\r\n",
      "\t\t\t\t\t\t109:leaf=-0.39632\r\n",
      "\t\t\t\t\t\t110:leaf=-0.292204\r\n",
      "\t\t\t\t28:[f3<1255.5] yes=57,no=58,missing=57\r\n",
      "\t\t\t\t\t57:[f5<4119.5] yes=111,no=112,missing=111\r\n",
      "\t\t\t\t\t\t111:leaf=0.379387\r\n",
      "\t\t\t\t\t\t112:leaf=-0.324183\r\n",
      "\t\t\t\t\t58:leaf=-0.39789\r\n",
      "\t\t\t14:[f9<2142.5] yes=29,no=30,missing=29\r\n",
      "\t\t\t\t29:[f5<455.5] yes=59,no=60,missing=59\r\n",
      "\t\t\t\t\t59:[f9<373.5] yes=113,no=114,missing=113\r\n",
      "\t\t\t\t\t\t113:leaf=0.674627\r\n",
      "\t\t\t\t\t\t114:leaf=-0.23218\r\n",
      "\t\t\t\t\t60:[f5<741.5] yes=115,no=116,missing=115\r\n",
      "\t\t\t\t\t\t115:leaf=-0.254286\r\n",
      "\t\t\t\t\t\t116:leaf=-0.406709\r\n",
      "\t\t\t\t30:[f4<119.5] yes=61,no=62,missing=61\r\n",
      "\t\t\t\t\t61:[f5<1061.5] yes=117,no=118,missing=117\r\n",
      "\t\t\t\t\t\t117:leaf=0.205197\r\n",
      "\t\t\t\t\t\t118:leaf=-0.211345\r\n",
      "\t\t\t\t\t62:[f9<4541] yes=119,no=120,missing=119\r\n",
      "\t\t\t\t\t\t119:leaf=0.580667\r\n",
      "\t\t\t\t\t\t120:leaf=-0.304401\r\n",
      "booster[3]:\r\n",
      "0:[f0<3151.5] yes=1,no=2,missing=1\r\n",
      "\t1:[f0<2481.5] yes=3,no=4,missing=3\r\n",
      "\t\t3:[f0<2421.5] yes=7,no=8,missing=7\r\n",
      "\t\t\t7:[f5<682] yes=15,no=16,missing=15\r\n",
      "\t\t\t\t15:[f0<2220.5] yes=31,no=32,missing=31\r\n",
      "\t\t\t\t\t31:[f0<2165.5] yes=63,no=64,missing=63\r\n",
      "\t\t\t\t\t\t63:leaf=-0.368054\r\n",
      "\t\t\t\t\t\t64:leaf=-0.313883\r\n",
      "\t\t\t\t\t32:[f23<0.5] yes=65,no=66,missing=65\r\n",
      "\t\t\t\t\t\t65:leaf=-0.318304\r\n",
      "\t\t\t\t\t\t66:leaf=-0.158763\r\n",
      "\t\t\t\t16:[f9<1455.5] yes=33,no=34,missing=33\r\n",
      "\t\t\t\t\t33:leaf=-0.370709\r\n",
      "\t\t\t\t\t34:[f3<87.5] yes=67,no=68,missing=67\r\n",
      "\t\t\t\t\t\t67:leaf=-0.155687\r\n",
      "\t\t\t\t\t\t68:leaf=-0.371752\r\n",
      "\t\t\t8:[f3<130.5] yes=17,no=18,missing=17\r\n",
      "\t\t\t\t17:[f23<0.5] yes=35,no=36,missing=35\r\n",
      "\t\t\t\t\t35:[f5<776] yes=69,no=70,missing=69\r\n",
      "\t\t\t\t\t\t69:leaf=-0.122591\r\n",
      "\t\t\t\t\t\t70:leaf=-0.358116\r\n",
      "\t\t\t\t\t36:[f12<0.5] yes=71,no=72,missing=71\r\n",
      "\t\t\t\t\t\t71:leaf=0.136246\r\n",
      "\t\t\t\t\t\t72:leaf=-0.189778\r\n",
      "\t\t\t\t18:[f44<0.5] yes=37,no=38,missing=37\r\n",
      "\t\t\t\t\t37:[f9<1295.5] yes=73,no=74,missing=73\r\n",
      "\t\t\t\t\t\t73:leaf=-0.338692\r\n",
      "\t\t\t\t\t\t74:leaf=-0.181427\r\n",
      "\t\t\t\t\t38:leaf=0.402594\r\n",
      "\t\t4:[f0<3021.5] yes=9,no=10,missing=9\r\n",
      "\t\t\t9:[f3<63.5] yes=19,no=20,missing=19\r\n",
      "\t\t\t\t19:[f0<2913.5] yes=39,no=40,missing=39\r\n",
      "\t\t\t\t\t39:[f9<3825.5] yes=75,no=76,missing=75\r\n",
      "\t\t\t\t\t\t75:leaf=0.000185703\r\n",
      "\t\t\t\t\t\t76:leaf=0.299229\r\n",
      "\t\t\t\t\t40:[f9<5020.5] yes=77,no=78,missing=77\r\n",
      "\t\t\t\t\t\t77:leaf=-0.187906\r\n",
      "\t\t\t\t\t\t78:leaf=0.173933\r\n",
      "\t\t\t\t20:[f10<0.5] yes=41,no=42,missing=41\r\n",
      "\t\t\t\t\t41:[f0<2654.5] yes=79,no=80,missing=79\r\n",
      "\t\t\t\t\t\t79:leaf=-0.0902579\r\n",
      "\t\t\t\t\t\t80:leaf=0.130384\r\n",
      "\t\t\t\t\t42:[f5<484.5] yes=81,no=82,missing=81\r\n",
      "\t\t\t\t\t\t81:leaf=-0.0892868\r\n",
      "\t\t\t\t\t\t82:leaf=0.22668\r\n",
      "\t\t\t10:[f3<142] yes=21,no=22,missing=21\r\n",
      "\t\t\t\t21:[f5<6353] yes=43,no=44,missing=43\r\n",
      "\t\t\t\t\t43:[f45<0.5] yes=83,no=84,missing=83\r\n",
      "\t\t\t\t\t\t83:leaf=-0.1701\r\n",
      "\t\t\t\t\t\t84:leaf=0.111211\r\n",
      "\t\t\t\t\t44:[f9<2207.5] yes=85,no=86,missing=85\r\n",
      "\t\t\t\t\t\t85:leaf=-0.326861\r\n",
      "\t\t\t\t\t\t86:leaf=0.479824\r\n",
      "\t\t\t\t22:[f7<231.5] yes=45,no=46,missing=45\r\n",
      "\t\t\t\t\t45:[f45<0.5] yes=87,no=88,missing=87\r\n",
      "\t\t\t\t\t\t87:leaf=-0.068719\r\n",
      "\t\t\t\t\t\t88:leaf=0.136589\r\n",
      "\t\t\t\t\t46:[f10<0.5] yes=89,no=90,missing=89\r\n",
      "\t\t\t\t\t\t89:leaf=0.165895\r\n",
      "\t\t\t\t\t\t90:leaf=0.0244566\r\n",
      "\t2:[f0<3329.5] yes=5,no=6,missing=5\r\n",
      "\t\t5:[f3<217] yes=11,no=12,missing=11\r\n",
      "\t\t\t11:[f11<0.5] yes=23,no=24,missing=23\r\n",
      "\t\t\t\t23:[f5<4657.5] yes=47,no=48,missing=47\r\n",
      "\t\t\t\t\t47:[f45<0.5] yes=91,no=92,missing=91\r\n",
      "\t\t\t\t\t\t91:leaf=-0.301088\r\n",
      "\t\t\t\t\t\t92:leaf=-0.0555826\r\n",
      "\t\t\t\t\t48:[f9<1219.5] yes=93,no=94,missing=93\r\n",
      "\t\t\t\t\t\t93:leaf=-0.213789\r\n",
      "\t\t\t\t\t\t94:leaf=0.0631721\r\n",
      "\t\t\t\t24:[f0<3219.5] yes=49,no=50,missing=49\r\n",
      "\t\t\t\t\t49:[f29<0.5] yes=95,no=96,missing=95\r\n",
      "\t\t\t\t\t\t95:leaf=-0.280616\r\n",
      "\t\t\t\t\t\t96:leaf=0.633884\r\n",
      "\t\t\t\t\t50:[f9<3627] yes=97,no=98,missing=97\r\n",
      "\t\t\t\t\t\t97:leaf=0.194316\r\n",
      "\t\t\t\t\t\t98:leaf=-0.282109\r\n",
      "\t\t\t12:[f7<235.5] yes=25,no=26,missing=25\r\n",
      "\t\t\t\t25:[f5<993.5] yes=51,no=52,missing=51\r\n",
      "\t\t\t\t\t51:[f4<-14.5] yes=99,no=100,missing=99\r\n",
      "\t\t\t\t\t\t99:leaf=0.392552\r\n",
      "\t\t\t\t\t\t100:leaf=-0.0182176\r\n",
      "\t\t\t\t\t52:[f9<911.5] yes=101,no=102,missing=101\r\n",
      "\t\t\t\t\t\t101:leaf=-0.347766\r\n",
      "\t\t\t\t\t\t102:leaf=-0.154476\r\n",
      "\t\t\t\t26:[f5<5795] yes=53,no=54,missing=53\r\n",
      "\t\t\t\t\t53:[f12<0.5] yes=103,no=104,missing=103\r\n",
      "\t\t\t\t\t\t103:leaf=-0.122396\r\n",
      "\t\t\t\t\t\t104:leaf=0.0595305\r\n",
      "\t\t\t\t\t54:[f9<1256.5] yes=105,no=106,missing=105\r\n",
      "\t\t\t\t\t\t105:leaf=-0.197901\r\n",
      "\t\t\t\t\t\t106:leaf=0.371024\r\n",
      "\t\t6:[f11<0.5] yes=13,no=14,missing=13\r\n",
      "\t\t\t13:[f40<0.5] yes=27,no=28,missing=27\r\n",
      "\t\t\t\t27:[f4<177.5] yes=55,no=56,missing=55\r\n",
      "\t\t\t\t\t55:[f0<3344.5] yes=107,no=108,missing=107\r\n",
      "\t\t\t\t\t\t107:leaf=-0.336086\r\n",
      "\t\t\t\t\t\t108:leaf=-0.374336\r\n",
      "\t\t\t\t\t56:[f0<3376.5] yes=109,no=110,missing=109\r\n",
      "\t\t\t\t\t\t109:leaf=0.081428\r\n",
      "\t\t\t\t\t\t110:leaf=-0.367776\r\n",
      "\t\t\t\t28:[f3<1255.5] yes=57,no=58,missing=57\r\n",
      "\t\t\t\t\t57:[f0<3421.5] yes=111,no=112,missing=111\r\n",
      "\t\t\t\t\t\t111:leaf=0.305302\r\n",
      "\t\t\t\t\t\t112:leaf=-0.312368\r\n",
      "\t\t\t\t\t58:leaf=-0.330757\r\n",
      "\t\t\t14:[f9<2206.5] yes=29,no=30,missing=29\r\n",
      "\t\t\t\t29:[f5<741.5] yes=59,no=60,missing=59\r\n",
      "\t\t\t\t\t59:[f3<338.5] yes=113,no=114,missing=113\r\n",
      "\t\t\t\t\t\t113:leaf=0.574571\r\n",
      "\t\t\t\t\t\t114:leaf=-0.386834\r\n",
      "\t\t\t\t\t60:leaf=-0.374173\r\n",
      "\t\t\t\t30:[f4<44.5] yes=61,no=62,missing=61\r\n",
      "\t\t\t\t\t61:[f5<952] yes=115,no=116,missing=115\r\n",
      "\t\t\t\t\t\t115:leaf=0.2813\r\n",
      "\t\t\t\t\t\t116:leaf=-0.34788\r\n",
      "\t\t\t\t\t62:[f53<0.5] yes=117,no=118,missing=117\r\n",
      "\t\t\t\t\t\t117:leaf=0.218842\r\n",
      "\t\t\t\t\t\t118:leaf=-0.407371\r\n"
     ]
    }
   ],
   "source": [
    "bst.dump_model(\"bst_2_trees\")\n",
    "! cat bst_2_trees"
   ]
  },
  {
   "cell_type": "code",
   "execution_count": 21,
   "metadata": {
    "collapsed": false
   },
   "outputs": [
    {
     "data": {
      "text/plain": [
       "((406708, 54), (406708,), (174304, 54), (174304,))"
      ]
     },
     "execution_count": 21,
     "metadata": {},
     "output_type": "execute_result"
    }
   ],
   "source": [
    "X.shape, y.shape, X_test.shape, y_test.shape"
   ]
  },
  {
   "cell_type": "code",
   "execution_count": 22,
   "metadata": {
    "collapsed": false
   },
   "outputs": [
    {
     "name": "stdout",
     "output_type": "stream",
     "text": [
      "[0]\teval-auc:0.81286\ttrain-auc:0.812862\n",
      "[40]\teval-auc:0.920766\ttrain-auc:0.924006\n",
      "[80]\teval-auc:0.940982\ttrain-auc:0.945078\n",
      "[120]\teval-auc:0.956681\ttrain-auc:0.961603\n",
      "[160]\teval-auc:0.964821\ttrain-auc:0.970127\n",
      "[200]\teval-auc:0.970554\ttrain-auc:0.976311\n"
     ]
    }
   ],
   "source": [
    "import xgboost as xgb\n",
    "\n",
    "dtrain = xgb.DMatrix(X, label=y)\n",
    "dtest  = xgb.DMatrix(X_test, label=y_test)\n",
    "evallist = [(dtest, 'eval'), (dtrain, 'train')]\n",
    "\n",
    "param = {\n",
    "    'bst:max_depth': 5, \n",
    "    'bst:eta': 0.5, \n",
    "    'silent': True, \n",
    "    'verbose': 0,\n",
    "    'objective': 'binary:logistic',\n",
    "    'nthread': 4,\n",
    "    'eval_metric': 'auc'\n",
    "}\n",
    "\n",
    "num_round = 201\n",
    "bst = xgb.train(param,\n",
    "                dtrain,\n",
    "                num_round,\n",
    "                evallist,\n",
    "                verbose_eval    = 40\n",
    "               )\n"
   ]
  },
  {
   "cell_type": "code",
   "execution_count": 25,
   "metadata": {
    "collapsed": false
   },
   "outputs": [
    {
     "name": "stdout",
     "output_type": "stream",
     "text": [
      "[0]\teval-auc:0.813996\ttrain-auc:0.814956\n",
      "[40]\teval-auc:0.916638\ttrain-auc:0.919448\n",
      "[80]\teval-auc:0.936904\ttrain-auc:0.940796\n",
      "[120]\teval-auc:0.949872\ttrain-auc:0.954719\n",
      "[160]\teval-auc:0.958275\ttrain-auc:0.963817\n",
      "[200]\teval-auc:0.964482\ttrain-auc:0.970541\n",
      "[240]\teval-auc:0.969145\ttrain-auc:0.975591\n",
      "[280]\teval-auc:0.972509\ttrain-auc:0.97925\n",
      "[320]\teval-auc:0.97558\ttrain-auc:0.982673\n",
      "[360]\teval-auc:0.978116\ttrain-auc:0.98538\n",
      "[400]\teval-auc:0.979837\ttrain-auc:0.987093\n"
     ]
    }
   ],
   "source": [
    "param = {\n",
    "    'bst:max_depth': 7, \n",
    "    'bst:eta': 0.2,\n",
    "    'colsample_bytree': 0.6,\n",
    "    'subsample': 0.6,\n",
    "    'silent': True, \n",
    "    'verbose': 0,\n",
    "    'objective': 'binary:logistic',\n",
    "    'nthread': 4,\n",
    "    'eval_metric': 'auc'\n",
    "}\n",
    "\n",
    "num_round = 401\n",
    "bst = xgb.train(param,\n",
    "                dtrain,\n",
    "                num_round,\n",
    "                evallist,\n",
    "                verbose_eval    = 40\n",
    "               )\n"
   ]
  },
  {
   "cell_type": "code",
   "execution_count": null,
   "metadata": {
    "collapsed": true
   },
   "outputs": [],
   "source": []
  }
 ],
 "metadata": {
  "anaconda-cloud": {},
  "kernelspec": {
   "display_name": "Python [py35]",
   "language": "python",
   "name": "Python [py35]"
  },
  "language_info": {
   "codemirror_mode": {
    "name": "ipython",
    "version": 3
   },
   "file_extension": ".py",
   "mimetype": "text/x-python",
   "name": "python",
   "nbconvert_exporter": "python",
   "pygments_lexer": "ipython3",
   "version": "3.5.2"
  }
 },
 "nbformat": 4,
 "nbformat_minor": 0
}
