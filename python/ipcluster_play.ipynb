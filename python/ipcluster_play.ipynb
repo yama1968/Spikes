{
 "cells": [
  {
   "cell_type": "code",
   "execution_count": 21,
   "metadata": {
    "collapsed": false
   },
   "outputs": [
    {
     "data": {
      "text/plain": [
       "[0, 1, 2, 3]"
      ]
     },
     "execution_count": 21,
     "metadata": {},
     "output_type": "execute_result"
    }
   ],
   "source": [
    "from ipyparallel import Client\n",
    "\n",
    "rc = Client()\n",
    "rc.ids"
   ]
  },
  {
   "cell_type": "code",
   "execution_count": 22,
   "metadata": {
    "collapsed": false
   },
   "outputs": [
    {
     "data": {
      "text/plain": [
       "['',\n",
       " '/home/yannick/bin/anaconda3/envs/py35/lib/python3.5/site-packages/xgboost-0.4-py3.5.egg',\n",
       " '/home/yannick/bin/anaconda3/envs/py35/lib/python3.5/site-packages/Theano-0.8.0.dev0-py3.5.egg',\n",
       " '/home/yannick/bin/anaconda3/envs/py35/lib/python35.zip',\n",
       " '/home/yannick/bin/anaconda3/envs/py35/lib/python3.5',\n",
       " '/home/yannick/bin/anaconda3/envs/py35/lib/python3.5/plat-linux',\n",
       " '/home/yannick/bin/anaconda3/envs/py35/lib/python3.5/lib-dynload',\n",
       " '/home/yannick/bin/anaconda3/envs/py35/lib/python3.5/site-packages/Sphinx-1.3.5-py3.5.egg',\n",
       " '/home/yannick/bin/anaconda3/envs/py35/lib/python3.5/site-packages/setuptools-20.3-py3.5.egg',\n",
       " '/home/yannick/bin/anaconda3/envs/py35/lib/python3.5/site-packages',\n",
       " '/home/yannick/bin/anaconda3/envs/py35/lib/python3.5/site-packages/IPython/extensions',\n",
       " '/home/yannick/.ipython']"
      ]
     },
     "execution_count": 22,
     "metadata": {},
     "output_type": "execute_result"
    }
   ],
   "source": [
    "import sys\n",
    "sys.path"
   ]
  },
  {
   "cell_type": "code",
   "execution_count": 23,
   "metadata": {
    "collapsed": false
   },
   "outputs": [
    {
     "name": "stdout",
     "output_type": "stream",
     "text": [
      "[stdout:0] Process 4175.\n",
      "[stdout:1] Process 4184.\n",
      "[stdout:2] Process 4186.\n",
      "[stdout:3] Process 4188.\n"
     ]
    }
   ],
   "source": [
    "%%px\n",
    "import os\n",
    "print(\"Process {0:d}.\".format(os.getpid()))"
   ]
  },
  {
   "cell_type": "code",
   "execution_count": 24,
   "metadata": {
    "collapsed": false
   },
   "outputs": [
    {
     "data": {
      "text/plain": [
       "<AsyncResult: execute>"
      ]
     },
     "execution_count": 24,
     "metadata": {},
     "output_type": "execute_result"
    }
   ],
   "source": [
    "%%px -a\n",
    "import time\n",
    "print(\"Process {0:d} start.\".format(os.getpid()))\n",
    "time.sleep(5)\n",
    "print(\"Process {0:d} end.\".format(os.getpid()))"
   ]
  },
  {
   "cell_type": "code",
   "execution_count": 25,
   "metadata": {
    "collapsed": false
   },
   "outputs": [
    {
     "name": "stdout",
     "output_type": "stream",
     "text": [
      "0.015196 False\n"
     ]
    }
   ],
   "source": [
    "print(_.elapsed, _.ready())"
   ]
  },
  {
   "cell_type": "code",
   "execution_count": 26,
   "metadata": {
    "collapsed": false
   },
   "outputs": [
    {
     "name": "stdout",
     "output_type": "stream",
     "text": [
      "[stdout:0] Process 4175.\n",
      "[stdout:1] Process 4184.\n",
      "[stdout:2] Process 4186.\n",
      "[stdout:3] Process 4188.\n"
     ]
    }
   ],
   "source": [
    "%%px\n",
    "print(\"Process {0:d}.\".format(os.getpid()))"
   ]
  },
  {
   "cell_type": "code",
   "execution_count": 27,
   "metadata": {
    "collapsed": false
   },
   "outputs": [
    {
     "name": "stdout",
     "output_type": "stream",
     "text": [
      "[stdout:0] Process 4175, python version sys.version_info(major=3, minor=5, micro=1, releaselevel='final', serial=0), sys_path '['', '', '', '/home/yannick/bin/anaconda3/envs/py35/lib/python3.5/site-packages/xgboost-0.4-py3.5.egg', '/home/yannick/bin/anaconda3/envs/py35/lib/python3.5/site-packages/Theano-0.8.0.dev0-py3.5.egg', '/home/yannick/bin/anaconda3/envs/py35/lib/python35.zip', '/home/yannick/bin/anaconda3/envs/py35/lib/python3.5', '/home/yannick/bin/anaconda3/envs/py35/lib/python3.5/plat-linux', '/home/yannick/bin/anaconda3/envs/py35/lib/python3.5/lib-dynload', '/home/yannick/bin/anaconda3/envs/py35/lib/python3.5/site-packages/Sphinx-1.3.5-py3.5.egg', '/home/yannick/bin/anaconda3/envs/py35/lib/python3.5/site-packages/setuptools-20.3-py3.5.egg', '/home/yannick/bin/anaconda3/envs/py35/lib/python3.5/site-packages', '/home/yannick/bin/anaconda3/envs/py35/lib/python3.5/site-packages/IPython/extensions']'.\n",
      "[stdout:1] Process 4184, python version sys.version_info(major=3, minor=5, micro=1, releaselevel='final', serial=0), sys_path '['', '', '', '/home/yannick/bin/anaconda3/envs/py35/lib/python3.5/site-packages/xgboost-0.4-py3.5.egg', '/home/yannick/bin/anaconda3/envs/py35/lib/python3.5/site-packages/Theano-0.8.0.dev0-py3.5.egg', '/home/yannick/bin/anaconda3/envs/py35/lib/python35.zip', '/home/yannick/bin/anaconda3/envs/py35/lib/python3.5', '/home/yannick/bin/anaconda3/envs/py35/lib/python3.5/plat-linux', '/home/yannick/bin/anaconda3/envs/py35/lib/python3.5/lib-dynload', '/home/yannick/bin/anaconda3/envs/py35/lib/python3.5/site-packages/Sphinx-1.3.5-py3.5.egg', '/home/yannick/bin/anaconda3/envs/py35/lib/python3.5/site-packages/setuptools-20.3-py3.5.egg', '/home/yannick/bin/anaconda3/envs/py35/lib/python3.5/site-packages', '/home/yannick/bin/anaconda3/envs/py35/lib/python3.5/site-packages/IPython/extensions']'.\n",
      "[stdout:2] Process 4186, python version sys.version_info(major=3, minor=5, micro=1, releaselevel='final', serial=0), sys_path '['', '', '', '/home/yannick/bin/anaconda3/envs/py35/lib/python3.5/site-packages/xgboost-0.4-py3.5.egg', '/home/yannick/bin/anaconda3/envs/py35/lib/python3.5/site-packages/Theano-0.8.0.dev0-py3.5.egg', '/home/yannick/bin/anaconda3/envs/py35/lib/python35.zip', '/home/yannick/bin/anaconda3/envs/py35/lib/python3.5', '/home/yannick/bin/anaconda3/envs/py35/lib/python3.5/plat-linux', '/home/yannick/bin/anaconda3/envs/py35/lib/python3.5/lib-dynload', '/home/yannick/bin/anaconda3/envs/py35/lib/python3.5/site-packages/Sphinx-1.3.5-py3.5.egg', '/home/yannick/bin/anaconda3/envs/py35/lib/python3.5/site-packages/setuptools-20.3-py3.5.egg', '/home/yannick/bin/anaconda3/envs/py35/lib/python3.5/site-packages', '/home/yannick/bin/anaconda3/envs/py35/lib/python3.5/site-packages/IPython/extensions']'.\n",
      "[stdout:3] Process 4188, python version sys.version_info(major=3, minor=5, micro=1, releaselevel='final', serial=0), sys_path '['', '', '', '/home/yannick/bin/anaconda3/envs/py35/lib/python3.5/site-packages/xgboost-0.4-py3.5.egg', '/home/yannick/bin/anaconda3/envs/py35/lib/python3.5/site-packages/Theano-0.8.0.dev0-py3.5.egg', '/home/yannick/bin/anaconda3/envs/py35/lib/python35.zip', '/home/yannick/bin/anaconda3/envs/py35/lib/python3.5', '/home/yannick/bin/anaconda3/envs/py35/lib/python3.5/plat-linux', '/home/yannick/bin/anaconda3/envs/py35/lib/python3.5/lib-dynload', '/home/yannick/bin/anaconda3/envs/py35/lib/python3.5/site-packages/Sphinx-1.3.5-py3.5.egg', '/home/yannick/bin/anaconda3/envs/py35/lib/python3.5/site-packages/setuptools-20.3-py3.5.egg', '/home/yannick/bin/anaconda3/envs/py35/lib/python3.5/site-packages', '/home/yannick/bin/anaconda3/envs/py35/lib/python3.5/site-packages/IPython/extensions']'.\n"
     ]
    }
   ],
   "source": [
    "%%px\n",
    "import os\n",
    "import sys\n",
    "import numpy as np\n",
    "print(\"Process {0:d}, python version {1}, sys_path '{2}'.\".format(\n",
    "        os.getpid(), str(sys.version_info), str(sys.path)))"
   ]
  },
  {
   "cell_type": "code",
   "execution_count": 28,
   "metadata": {
    "collapsed": false
   },
   "outputs": [
    {
     "name": "stdout",
     "output_type": "stream",
     "text": [
      "1000\n"
     ]
    }
   ],
   "source": [
    "v = rc[:]\n",
    "res = v.map(lambda x: (np.random.randn(1000,1000) * x).sum(), range(1000))\n",
    "print(len(res.get()))"
   ]
  },
  {
   "cell_type": "code",
   "execution_count": 29,
   "metadata": {
    "collapsed": false
   },
   "outputs": [
    {
     "data": {
      "text/plain": [
       "['Process 4175 result, with x =0.',\n",
       " 'Process 4175 result, with x =1.',\n",
       " 'Process 4175 result, with x =2.',\n",
       " 'Process 4175 result, with x =3.',\n",
       " 'Process 4175 result, with x =4.',\n",
       " 'Process 4184 result, with x =5.',\n",
       " 'Process 4184 result, with x =6.',\n",
       " 'Process 4184 result, with x =7.',\n",
       " 'Process 4184 result, with x =8.',\n",
       " 'Process 4184 result, with x =9.',\n",
       " 'Process 4186 result, with x =10.',\n",
       " 'Process 4186 result, with x =11.',\n",
       " 'Process 4186 result, with x =12.',\n",
       " 'Process 4186 result, with x =13.',\n",
       " 'Process 4186 result, with x =14.',\n",
       " 'Process 4188 result, with x =15.',\n",
       " 'Process 4188 result, with x =16.',\n",
       " 'Process 4188 result, with x =17.',\n",
       " 'Process 4188 result, with x =18.',\n",
       " 'Process 4188 result, with x =19.']"
      ]
     },
     "execution_count": 29,
     "metadata": {},
     "output_type": "execute_result"
    }
   ],
   "source": [
    "def mytask(x):\n",
    "    print(\"Process {0:d} start, with x ={1:d}.\".format(os.getpid(), x))\n",
    "    y = np.random.randn(1000000 * np.random.randint(x + 10)).sum()\n",
    "    print(\"Process {0:d} end.\".format(os.getpid()))\n",
    "    return \"Process {0:d} result, with x ={1:d}.\".format(os.getpid(), x)\n",
    "\n",
    "res = v.map(mytask, range(20))\n",
    "res.get()"
   ]
  },
  {
   "cell_type": "code",
   "execution_count": null,
   "metadata": {
    "collapsed": true
   },
   "outputs": [],
   "source": []
  }
 ],
 "metadata": {
  "kernelspec": {
   "display_name": "Python 3",
   "language": "python",
   "name": "python3"
  },
  "language_info": {
   "codemirror_mode": {
    "name": "ipython",
    "version": 3
   },
   "file_extension": ".py",
   "mimetype": "text/x-python",
   "name": "python",
   "nbconvert_exporter": "python",
   "pygments_lexer": "ipython3",
   "version": "3.5.1"
  }
 },
 "nbformat": 4,
 "nbformat_minor": 0
}
