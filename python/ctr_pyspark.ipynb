{
 "cells": [
  {
   "cell_type": "code",
   "execution_count": 16,
   "metadata": {
    "ExecuteTime": {
     "end_time": "2019-01-26T17:37:16.034854Z",
     "start_time": "2019-01-26T17:37:16.031984Z"
    }
   },
   "outputs": [],
   "source": [
    "from pyspark.sql import SparkSession\n",
    "from pyspark.sql.functions import desc, lag, isnull, when\n",
    "from pyspark.sql.window import Window"
   ]
  },
  {
   "cell_type": "code",
   "execution_count": 2,
   "metadata": {
    "ExecuteTime": {
     "end_time": "2019-01-26T17:32:53.054313Z",
     "start_time": "2019-01-26T17:32:50.150713Z"
    }
   },
   "outputs": [
    {
     "name": "stdout",
     "output_type": "stream",
     "text": [
      "CPU times: user 28 ms, sys: 0 ns, total: 28 ms\n",
      "Wall time: 2.9 s\n"
     ]
    }
   ],
   "source": [
    "%%time\n",
    "\n",
    "spark = SparkSession.builder \\\n",
    "                    .appName(\"ctr\") \\\n",
    "                    .config(\"spark.cores.local\", 4) \\\n",
    "                    .config(\"spark.shell.driver-memory\", \"8G\") \\\n",
    "                    .getOrCreate()"
   ]
  },
  {
   "cell_type": "code",
   "execution_count": 3,
   "metadata": {
    "ExecuteTime": {
     "end_time": "2019-01-26T17:32:56.658664Z",
     "start_time": "2019-01-26T17:32:54.848671Z"
    }
   },
   "outputs": [
    {
     "name": "stdout",
     "output_type": "stream",
     "text": [
      "CPU times: user 4 ms, sys: 0 ns, total: 4 ms\n",
      "Wall time: 1.76 s\n"
     ]
    },
    {
     "data": {
      "text/plain": [
       "DataFrame[id: decimal(20,0), click: int, hour: int, C1: int, banner_pos: int, site_id: string, site_domain: string, site_category: string, app_id: string, app_domain: string, app_category: string, device_id: string, device_ip: string, device_model: string, device_type: int, device_conn_type: int, C14: int, C15: int, C16: int, C17: int, C18: int, C19: int, C20: int, C21: int]"
      ]
     },
     "execution_count": 3,
     "metadata": {},
     "output_type": "execute_result"
    }
   ],
   "source": [
    "dirname = '/home4/yannick4/tmp'\n",
    "\n",
    "%time df = spark.read.parquet(dirname + \"/train.parquet/\", )\n",
    "\n",
    "df"
   ]
  },
  {
   "cell_type": "code",
   "execution_count": 4,
   "metadata": {
    "ExecuteTime": {
     "end_time": "2019-01-26T17:32:59.370106Z",
     "start_time": "2019-01-26T17:32:58.328439Z"
    }
   },
   "outputs": [
    {
     "name": "stdout",
     "output_type": "stream",
     "text": [
      "CPU times: user 4 ms, sys: 0 ns, total: 4 ms\n",
      "Wall time: 1.04 s\n"
     ]
    },
    {
     "data": {
      "text/plain": [
       "[Row(id=Decimal('13438938916556439466'), click=1, hour=14102916, C1=1005, banner_pos=1, site_id='5b4d2eda', site_domain='16a36ef3', site_category='f028772b', app_id='ecad2386', app_domain='7801e8d9', app_category='07d7df22', device_id='a99f214a', device_ip='fd74ef0a', device_model='8a4875bd', device_type=1, device_conn_type=0, C14=21882, C15=320, C16=50, C17=2526, C18=0, C19=167, C20=-1, C21=221),\n",
       " Row(id=Decimal('13439050860308297569'), click=0, hour=14102916, C1=1005, banner_pos=0, site_id='85f751fd', site_domain='c4e18dd6', site_category='50e219e0', app_id='51cedd4e', app_domain='aefc06bd', app_category='0f2161f8', device_id='a99f214a', device_ip='bec514f4', device_model='542422a7', device_type=1, device_conn_type=0, C14=21611, C15=320, C16=50, C17=2480, C18=3, C19=297, C20=100111, C21=61),\n",
       " Row(id=Decimal('1343908897585470171'), click=0, hour=14102916, C1=1005, banner_pos=0, site_id='85f751fd', site_domain='c4e18dd6', site_category='50e219e0', app_id='de97da65', app_domain='33da2e74', app_category='0f2161f8', device_id='a99f214a', device_ip='9b13a699', device_model='f60c2fd3', device_type=1, device_conn_type=0, C14=9248, C15=320, C16=50, C17=768, C18=3, C19=175, C20=100156, C21=42)]"
      ]
     },
     "execution_count": 4,
     "metadata": {},
     "output_type": "execute_result"
    }
   ],
   "source": [
    "%time df.head(3)"
   ]
  },
  {
   "cell_type": "code",
   "execution_count": 5,
   "metadata": {
    "ExecuteTime": {
     "end_time": "2019-01-26T17:33:01.966624Z",
     "start_time": "2019-01-26T17:33:00.141091Z"
    }
   },
   "outputs": [
    {
     "name": "stdout",
     "output_type": "stream",
     "text": [
      "+-----+--------+\n",
      "|click|   count|\n",
      "+-----+--------+\n",
      "|    1| 6865066|\n",
      "|    0|33563901|\n",
      "+-----+--------+\n",
      "\n",
      "CPU times: user 4 ms, sys: 0 ns, total: 4 ms\n",
      "Wall time: 1.82 s\n"
     ]
    }
   ],
   "source": [
    "%time df.groupBy(\"click\").count().show()"
   ]
  },
  {
   "cell_type": "code",
   "execution_count": 6,
   "metadata": {
    "ExecuteTime": {
     "end_time": "2019-01-26T17:33:08.213862Z",
     "start_time": "2019-01-26T17:33:03.160803Z"
    }
   },
   "outputs": [
    {
     "name": "stdout",
     "output_type": "stream",
     "text": [
      "+----------+---------+-------------------+\n",
      "|banner_pos|count(id)|         avg(click)|\n",
      "+----------+---------+-------------------+\n",
      "|         0| 29109590|0.16427235835338114|\n",
      "|         1| 11247282|0.18361449459522755|\n",
      "|         2|    13001|0.11922159833858934|\n",
      "|         3|     2035| 0.1828009828009828|\n",
      "|         4|     7704| 0.1853582554517134|\n",
      "|         5|     5778|0.12149532710280374|\n",
      "|         7|    43577| 0.3201000527801363|\n",
      "+----------+---------+-------------------+\n",
      "\n",
      "CPU times: user 8 ms, sys: 0 ns, total: 8 ms\n",
      "Wall time: 5.05 s\n"
     ]
    }
   ],
   "source": [
    "%time df.groupBy(\"banner_pos\").agg({'id': 'count', 'click': 'avg'}).sort('banner_pos').show()"
   ]
  },
  {
   "cell_type": "code",
   "execution_count": 7,
   "metadata": {
    "ExecuteTime": {
     "end_time": "2019-01-26T17:33:12.787000Z",
     "start_time": "2019-01-26T17:33:09.891302Z"
    }
   },
   "outputs": [
    {
     "name": "stdout",
     "output_type": "stream",
     "text": [
      "CPU times: user 0 ns, sys: 0 ns, total: 0 ns\n",
      "Wall time: 157 ms\n",
      "+--------+\n",
      "|count(1)|\n",
      "+--------+\n",
      "|40428967|\n",
      "+--------+\n",
      "\n",
      "CPU times: user 0 ns, sys: 0 ns, total: 0 ns\n",
      "Wall time: 436 ms\n",
      "+-----+--------+\n",
      "|click|     cnt|\n",
      "+-----+--------+\n",
      "|    0|33563901|\n",
      "|    1| 6865066|\n",
      "+-----+--------+\n",
      "\n",
      "CPU times: user 4 ms, sys: 0 ns, total: 4 ms\n",
      "Wall time: 1.02 s\n",
      "+----------+--------+-------------------+\n",
      "|banner_pos|     cnt|              click|\n",
      "+----------+--------+-------------------+\n",
      "|         0|29109590|0.16427235835338114|\n",
      "|         1|11247282|0.18361449459522755|\n",
      "|         2|   13001|0.11922159833858934|\n",
      "|         3|    2035| 0.1828009828009828|\n",
      "|         4|    7704| 0.1853582554517134|\n",
      "|         5|    5778|0.12149532710280374|\n",
      "|         7|   43577| 0.3201000527801363|\n",
      "+----------+--------+-------------------+\n",
      "\n",
      "CPU times: user 4 ms, sys: 0 ns, total: 4 ms\n",
      "Wall time: 1.28 s\n"
     ]
    }
   ],
   "source": [
    "%time df.createOrReplaceTempView(\"train\")\n",
    "\n",
    "%time spark.sql(\"SELECT COUNT(*) FROM train\").show()\n",
    "\n",
    "%time spark.sql(\"SELECT click, COUNT(*) AS cnt from train GROUP BY click ORDER BY click\").show()\n",
    "\n",
    "%time spark.sql(\"\\\n",
    "SELECT banner_pos, COUNT(*) AS cnt, AVG(click) AS click \\\n",
    "FROM   train \\\n",
    "GROUP  BY banner_pos \\\n",
    "ORDER  BY banner_pos\").show()"
   ]
  },
  {
   "cell_type": "code",
   "execution_count": 8,
   "metadata": {
    "ExecuteTime": {
     "end_time": "2019-01-26T17:33:21.362419Z",
     "start_time": "2019-01-26T17:33:17.711418Z"
    }
   },
   "outputs": [
    {
     "name": "stdout",
     "output_type": "stream",
     "text": [
      "+-----------+---------+-------------------+\n",
      "|device_type|count(id)|         avg(click)|\n",
      "+-----------+---------+-------------------+\n",
      "|          1| 37304667|0.16917577631774597|\n",
      "|          0|  2220812|0.21073148019733323|\n",
      "|          4|   774272|0.09544449495784427|\n",
      "|          5|   129185|0.09384216433796494|\n",
      "|          2|       31|0.06451612903225806|\n",
      "+-----------+---------+-------------------+\n",
      "\n",
      "CPU times: user 8 ms, sys: 0 ns, total: 8 ms\n",
      "Wall time: 3.65 s\n"
     ]
    }
   ],
   "source": [
    "%time df.groupBy(\"device_type\").agg({'id': 'count', 'click': 'avg'}).sort(desc(\"count(id)\")).show()"
   ]
  },
  {
   "cell_type": "code",
   "execution_count": 9,
   "metadata": {
    "ExecuteTime": {
     "end_time": "2019-01-26T17:33:41.566797Z",
     "start_time": "2019-01-26T17:33:31.728547Z"
    }
   },
   "outputs": [
    {
     "name": "stdout",
     "output_type": "stream",
     "text": [
      "CPU times: user 4 ms, sys: 0 ns, total: 4 ms\n",
      "Wall time: 9.65 ms\n",
      "CPU times: user 0 ns, sys: 0 ns, total: 0 ns\n",
      "Wall time: 7.32 ms\n",
      "CPU times: user 0 ns, sys: 4 ms, total: 4 ms\n",
      "Wall time: 9.81 s\n"
     ]
    },
    {
     "data": {
      "text/plain": [
       "[Row(device_id='8b9dfa40', sum(count(id))=2, count(1)=1),\n",
       " Row(device_id='bf886e47', sum(count(id))=1, count(1)=1),\n",
       " Row(device_id='86eb71fe', sum(count(id))=3, count(1)=1)]"
      ]
     },
     "execution_count": 9,
     "metadata": {},
     "output_type": "execute_result"
    }
   ],
   "source": [
    "%time device_id_type = df.groupBy(\"device_id\", \"device_type\").agg({'id': 'count'})\n",
    "%time device_id = device_id_type.groupBy(\"device_id\").agg({'*': 'count', 'count(id)': 'sum'})\n",
    "\n",
    "%time device_id.head(3)"
   ]
  },
  {
   "cell_type": "code",
   "execution_count": 10,
   "metadata": {
    "ExecuteTime": {
     "end_time": "2019-01-26T17:34:13.221022Z",
     "start_time": "2019-01-26T17:34:04.219749Z"
    }
   },
   "outputs": [
    {
     "name": "stdout",
     "output_type": "stream",
     "text": [
      "+--------+----------------+\n",
      "|count(1)|count(device_id)|\n",
      "+--------+----------------+\n",
      "|       4|               1|\n",
      "|       3|              13|\n",
      "|       2|            1465|\n",
      "+--------+----------------+\n",
      "\n",
      "CPU times: user 0 ns, sys: 8 ms, total: 8 ms\n",
      "Wall time: 9 s\n"
     ]
    }
   ],
   "source": [
    "%time device_id.filter(device_id[\"count(1)\"] >=2) \\\n",
    "               .groupBy(\"count(1)\") \\\n",
    "               .agg({'device_id': 'count'}) \\\n",
    "               .sort(desc('count(1)')).show()"
   ]
  },
  {
   "cell_type": "code",
   "execution_count": 26,
   "metadata": {
    "ExecuteTime": {
     "end_time": "2019-01-26T17:42:34.746643Z",
     "start_time": "2019-01-26T17:42:34.570695Z"
    }
   },
   "outputs": [
    {
     "name": "stdout",
     "output_type": "stream",
     "text": [
      "+---------+-------+--------+\n",
      "|device_id|int_day|int_hour|\n",
      "+---------+-------+--------+\n",
      "| a99f214a|     29|      16|\n",
      "| a99f214a|     29|      16|\n",
      "| a99f214a|     29|      16|\n",
      "| a99f214a|     29|      16|\n",
      "| a99f214a|     29|      16|\n",
      "| a99f214a|     29|      16|\n",
      "| 058cb1c3|     29|      16|\n",
      "| caf850ad|     29|      16|\n",
      "| 20c5f715|     29|      16|\n",
      "| a99f214a|     29|      16|\n",
      "| a99f214a|     29|      16|\n",
      "| a99f214a|     29|      16|\n",
      "| a99f214a|     29|      16|\n",
      "| a99f214a|     29|      16|\n",
      "| a99f214a|     29|      16|\n",
      "| a99f214a|     29|      16|\n",
      "| 74d0d05a|     29|      16|\n",
      "| 5b0ced18|     29|      16|\n",
      "| a99f214a|     29|      16|\n",
      "| a99f214a|     29|      16|\n",
      "+---------+-------+--------+\n",
      "only showing top 20 rows\n",
      "\n"
     ]
    }
   ],
   "source": [
    "train3 = df. \\\n",
    "    withColumn(\"int_day\", df.hour.substr(5, 2)). \\\n",
    "    withColumn(\"int_hour\", df.hour.substr(7, 2))\n",
    "\n",
    "train3.select(\"device_id\", \"int_day\", \"int_hour\").show()"
   ]
  },
  {
   "cell_type": "code",
   "execution_count": 28,
   "metadata": {
    "ExecuteTime": {
     "end_time": "2019-01-26T17:42:49.339513Z",
     "start_time": "2019-01-26T17:42:49.292698Z"
    }
   },
   "outputs": [],
   "source": [
    "train4 = train3 \\\n",
    "    .sort('device_id', 'device_ip', 'int_day', 'int_hour') \\\n",
    "    .select('device_id', 'device_ip', 'int_day', 'int_hour')\n",
    "\n",
    "device_plus_dt = train3 \\\n",
    "    .withColumn('dt_hour',\n",
    "                train4.int_hour.cast(\"int\") - \n",
    "                    lag(train4.int_hour).over(Window.partitionBy(\"device_id\", \"device_ip\", \"int_day\") \\\n",
    "                                                    .orderBy(\"int_hour\")) \\\n",
    "                                        .cast('int')\n",
    "               )"
   ]
  },
  {
   "cell_type": "code",
   "execution_count": 30,
   "metadata": {
    "ExecuteTime": {
     "end_time": "2019-01-26T17:43:36.517027Z",
     "start_time": "2019-01-26T17:43:05.425636Z"
    }
   },
   "outputs": [
    {
     "name": "stdout",
     "output_type": "stream",
     "text": [
      "CPU times: user 8 ms, sys: 0 ns, total: 8 ms\n",
      "Wall time: 31.1 s\n"
     ]
    },
    {
     "data": {
      "text/plain": [
       "11411016"
      ]
     },
     "execution_count": 30,
     "metadata": {},
     "output_type": "execute_result"
    }
   ],
   "source": [
    "%%time\n",
    "\n",
    "device_plus_dt \\\n",
    "    .filter(isnull(device_plus_dt.dt_hour)) \\\n",
    "    .count()"
   ]
  },
  {
   "cell_type": "code",
   "execution_count": 66,
   "metadata": {
    "ExecuteTime": {
     "end_time": "2019-01-26T18:02:39.126076Z",
     "start_time": "2019-01-26T18:02:14.644727Z"
    }
   },
   "outputs": [
    {
     "name": "stdout",
     "output_type": "stream",
     "text": [
      "+--------+\n",
      "|count(1)|\n",
      "+--------+\n",
      "|11411016|\n",
      "+--------+\n",
      "\n",
      "CPU times: user 4 ms, sys: 0 ns, total: 4 ms\n",
      "Wall time: 24.4 s\n"
     ]
    }
   ],
   "source": [
    "spark.sql(\" \\\n",
    "select *, cast(substr(hour, 5, 2) as integer) as int_day, cast(substr(hour, 7, 2) as integer) as int_hour from train\") \\\n",
    "    .createOrReplaceTempView(\"train3\")\n",
    "    \n",
    "spark.sql(\" \\\n",
    "select *, \\\n",
    "(int_hour - (lag(int_hour) over (partition by device_id, device_ip, int_day order by int_hour))) as dt_hour \\\n",
    "from train3\").createOrReplaceTempView(\"device_plus_dt\")\n",
    "\n",
    "%time spark.sql(\"\\\n",
    "select count(*) from device_plus_dt where dt_hour is null\").show()"
   ]
  },
  {
   "cell_type": "code",
   "execution_count": 48,
   "metadata": {
    "ExecuteTime": {
     "end_time": "2019-01-26T17:52:31.614373Z",
     "start_time": "2019-01-26T17:52:29.372001Z"
    }
   },
   "outputs": [
    {
     "name": "stdout",
     "output_type": "stream",
     "text": [
      "CPU times: user 0 ns, sys: 0 ns, total: 0 ns\n",
      "Wall time: 12.6 ms\n",
      "CPU times: user 0 ns, sys: 0 ns, total: 0 ns\n",
      "Wall time: 19.8 ms\n",
      "+------+--------------+\n",
      "|   day|clicks_per_day|\n",
      "+------+--------------+\n",
      "|141021|          7257|\n",
      "|141022|          8115|\n",
      "|141023|          7163|\n",
      "|141024|          6762|\n",
      "|141025|          6698|\n",
      "|141026|          7339|\n",
      "+------+--------------+\n",
      "\n",
      "CPU times: user 4 ms, sys: 0 ns, total: 4 ms\n",
      "Wall time: 2.2 s\n"
     ]
    }
   ],
   "source": [
    "%time spark.sql(\" \\\n",
    "SELECT * \\\n",
    "FROM train \\\n",
    "WHERE device_ip = '8a014cbb' \").createOrReplaceTempView(\"filter_8a\")\n",
    "\n",
    "%time spark.sql(\" \\\n",
    "SELECT substring(hour, 1, 6) AS day, \\\n",
    "       count(*) AS clicks_per_day \\\n",
    "FROM filter_8a \\\n",
    " GROUP BY day \\\n",
    " ORDER BY day\").createOrReplaceTempView(\"count_8a\")\n",
    "\n",
    "%time spark.sql(\"select * from count_8a limit 6\").show()"
   ]
  },
  {
   "cell_type": "code",
   "execution_count": 69,
   "metadata": {
    "ExecuteTime": {
     "end_time": "2019-01-26T18:08:38.756283Z",
     "start_time": "2019-01-26T18:07:29.153124Z"
    }
   },
   "outputs": [
    {
     "name": "stdout",
     "output_type": "stream",
     "text": [
      "CPU times: user 30.1 s, sys: 556 ms, total: 30.7 s\n",
      "Wall time: 1min 9s\n"
     ]
    },
    {
     "data": {
      "text/plain": [
       "[Row(device_ip='6b9769f2', cnt=208701),\n",
       " Row(device_ip='431b3174', cnt=135322),\n",
       " Row(device_ip='2f323f36', cnt=88499),\n",
       " Row(device_ip='af9205f9', cnt=87844),\n",
       " Row(device_ip='930ec31d', cnt=86996),\n",
       " Row(device_ip='af62faf4', cnt=85802),\n",
       " Row(device_ip='009a7861', cnt=85382),\n",
       " Row(device_ip='285aa37d', cnt=85313),\n",
       " Row(device_ip='6394f6f6', cnt=83184),\n",
       " Row(device_ip='d90a7774', cnt=82980),\n",
       " Row(device_ip='c6563308', cnt=71290),\n",
       " Row(device_ip='57cd4006', cnt=70449),\n",
       " Row(device_ip='75bb1b58', cnt=70262),\n",
       " Row(device_ip='1cf29716', cnt=70028),\n",
       " Row(device_ip='ddd2926e', cnt=69816),\n",
       " Row(device_ip='0489ce3f', cnt=69756),\n",
       " Row(device_ip='a8536f3a', cnt=69594),\n",
       " Row(device_ip='488a9a3e', cnt=69550),\n",
       " Row(device_ip='ceffea69', cnt=68731),\n",
       " Row(device_ip='8a014cbb', cnt=68506)]"
      ]
     },
     "execution_count": 69,
     "metadata": {},
     "output_type": "execute_result"
    }
   ],
   "source": [
    "%time count_device_ip = spark.sql(\"\\\n",
    "select device_ip, count(*) as cnt from train group by device_ip order by cnt desc\").collect()\n",
    "\n",
    "count_device_ip[:20]"
   ]
  },
  {
   "cell_type": "code",
   "execution_count": 70,
   "metadata": {
    "ExecuteTime": {
     "end_time": "2019-01-26T18:10:32.803986Z",
     "start_time": "2019-01-26T18:10:22.148379Z"
    }
   },
   "outputs": [
    {
     "name": "stdout",
     "output_type": "stream",
     "text": [
      "+--------+\n",
      "|count(1)|\n",
      "+--------+\n",
      "|  462718|\n",
      "+--------+\n",
      "\n",
      "CPU times: user 4 ms, sys: 0 ns, total: 4 ms\n",
      "Wall time: 10.6 s\n"
     ]
    }
   ],
   "source": [
    "spark.sql(\"\\\n",
    "select device_ip, count(*) as cnt from train group by device_ip order by cnt desc\") \\\n",
    ".createOrReplaceTempView(\"count_device_ip\")\n",
    "\n",
    "%time spark.sql(\"select count(*) from count_device_ip where cnt > 10\").show()"
   ]
  },
  {
   "cell_type": "code",
   "execution_count": null,
   "metadata": {},
   "outputs": [],
   "source": []
  }
 ],
 "metadata": {
  "kernelspec": {
   "display_name": "Python 3",
   "language": "python",
   "name": "python3"
  },
  "language_info": {
   "codemirror_mode": {
    "name": "ipython",
    "version": 3
   },
   "file_extension": ".py",
   "mimetype": "text/x-python",
   "name": "python",
   "nbconvert_exporter": "python",
   "pygments_lexer": "ipython3",
   "version": "3.6.4"
  },
  "toc": {
   "nav_menu": {},
   "number_sections": true,
   "sideBar": true,
   "skip_h1_title": false,
   "toc_cell": false,
   "toc_position": {},
   "toc_section_display": "block",
   "toc_window_display": false
  },
  "varInspector": {
   "cols": {
    "lenName": 16,
    "lenType": 16,
    "lenVar": 40
   },
   "kernels_config": {
    "python": {
     "delete_cmd_postfix": "",
     "delete_cmd_prefix": "del ",
     "library": "var_list.py",
     "varRefreshCmd": "print(var_dic_list())"
    },
    "r": {
     "delete_cmd_postfix": ") ",
     "delete_cmd_prefix": "rm(",
     "library": "var_list.r",
     "varRefreshCmd": "cat(var_dic_list()) "
    }
   },
   "types_to_exclude": [
    "module",
    "function",
    "builtin_function_or_method",
    "instance",
    "_Feature"
   ],
   "window_display": false
  }
 },
 "nbformat": 4,
 "nbformat_minor": 2
}
