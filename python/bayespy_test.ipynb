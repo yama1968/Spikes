{
 "cells": [
  {
   "cell_type": "code",
   "execution_count": 133,
   "metadata": {
    "collapsed": false
   },
   "outputs": [
    {
     "name": "stdout",
     "output_type": "stream",
     "text": [
      "52 100\n"
     ]
    },
    {
     "data": {
      "image/png": "[encoded data removed]",
      "text/plain": [
       "<matplotlib.figure.Figure at 0x1d99062c320>"
      ]
     },
     "metadata": {},
     "output_type": "display_data"
    }
   ],
   "source": [
    "import numpy as np\n",
    "import matplotlib\n",
    "import matplotlib.pyplot as plt\n",
    "%matplotlib inline\n",
    "plt.style.use('ggplot')\n",
    "\n",
    "from random import seed\n",
    "\n",
    "seed(1234)\n",
    "\n",
    "n = 100\n",
    "p = 0.5\n",
    "choice = np.random.binomial(1, p, size=(n,))\n",
    "print(choice.sum(), n)\n",
    "data = choice * np.random.normal(0, 5, size=(n,)) + (1-choice) * np.random.normal(10, 10, size=(n,))\n",
    "_ = plt.hist(data, bins=20)"
   ]
  },
  {
   "cell_type": "code",
   "execution_count": 134,
   "metadata": {
    "collapsed": true
   },
   "outputs": [],
   "source": [
    "import bayespy\n"
   ]
  },
  {
   "cell_type": "code",
   "execution_count": 135,
   "metadata": {
    "collapsed": true
   },
   "outputs": [],
   "source": [
    "from bayespy.nodes import GaussianARD, Gamma\n",
    "mu = GaussianARD(0, 1e-6)\n",
    "tau = Gamma(1e-6, 1e-6)\n",
    "y = GaussianARD(mu, tau, plates=(n,))"
   ]
  },
  {
   "cell_type": "code",
   "execution_count": 136,
   "metadata": {
    "collapsed": false
   },
   "outputs": [],
   "source": [
    "y.observe(data)"
   ]
  },
  {
   "cell_type": "code",
   "execution_count": 137,
   "metadata": {
    "collapsed": false
   },
   "outputs": [
    {
     "data": {
      "text/plain": [
       "<bayespy.inference.vmp.vmp.VB at 0x1d990a91c50>"
      ]
     },
     "execution_count": 137,
     "metadata": {},
     "output_type": "execute_result"
    }
   ],
   "source": [
    "from bayespy.inference import VB\n",
    "Q = VB(mu, tau, y)\n",
    "Q"
   ]
  },
  {
   "cell_type": "code",
   "execution_count": 138,
   "metadata": {
    "collapsed": false
   },
   "outputs": [
    {
     "name": "stdout",
     "output_type": "stream",
     "text": [
      "Iteration 1: loglike=-3.938639e+02 (0.004 seconds)\n",
      "Iteration 2: loglike=-3.920722e+02 (0.003 seconds)\n",
      "Iteration 3: loglike=-3.920721e+02 (0.002 seconds)\n",
      "Converged at iteration 3.\n"
     ]
    }
   ],
   "source": [
    "Q.update(repeat=20)"
   ]
  },
  {
   "cell_type": "code",
   "execution_count": 139,
   "metadata": {
    "collapsed": false
   },
   "outputs": [
    {
     "data": {
      "image/png": "[encoded data removed]",
      "text/plain": [
       "<matplotlib.figure.Figure at 0x1d990606cf8>"
      ]
     },
     "metadata": {},
     "output_type": "display_data"
    }
   ],
   "source": [
    "import bayespy.plot as bpplt\n",
    "bpplt.pyplot.subplot(2, 1, 1)\n",
    "bpplt.pdf(mu, np.linspace(-10, 20, num=100), color='k', name=r'\\mu')\n",
    "bpplt.pyplot.subplot(2, 1, 2)\n",
    "bpplt.pdf(tau, np.linspace(1e-6, 0.08, num=100), color='k', name=r'\\tau')\n",
    "bpplt.pyplot.tight_layout()\n",
    "bpplt.pyplot.show()"
   ]
  }
 ],
 "metadata": {
  "kernelspec": {
   "display_name": "Python 3",
   "language": "python",
   "name": "python3"
  },
  "language_info": {
   "codemirror_mode": {
    "name": "ipython",
    "version": 3
   },
   "file_extension": ".py",
   "mimetype": "text/x-python",
   "name": "python",
   "nbconvert_exporter": "python",
   "pygments_lexer": "ipython3",
   "version": "3.5.1"
  }
 },
 "nbformat": 4,
 "nbformat_minor": 0
}
