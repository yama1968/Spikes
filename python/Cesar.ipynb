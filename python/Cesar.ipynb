{
 "cells": [
  {
   "cell_type": "code",
   "execution_count": 1,
   "metadata": {
    "collapsed": true
   },
   "outputs": [],
   "source": [
    "message = \"bwfwkmakhsksjjanwsvwujqhlwjuwewkksyw\""
   ]
  },
  {
   "cell_type": "code",
   "execution_count": 3,
   "metadata": {
    "collapsed": false
   },
   "outputs": [
    {
     "data": {
      "text/plain": [
       "Counter({'a': 2,\n",
       "         'b': 1,\n",
       "         'e': 1,\n",
       "         'f': 1,\n",
       "         'h': 2,\n",
       "         'j': 4,\n",
       "         'k': 5,\n",
       "         'l': 1,\n",
       "         'm': 1,\n",
       "         'n': 1,\n",
       "         'q': 1,\n",
       "         's': 4,\n",
       "         'u': 2,\n",
       "         'v': 1,\n",
       "         'w': 8,\n",
       "         'y': 1})"
      ]
     },
     "execution_count": 3,
     "metadata": {},
     "output_type": "execute_result"
    }
   ],
   "source": [
    "from collections import Counter\n",
    "\n",
    "Counter(message)"
   ]
  },
  {
   "cell_type": "code",
   "execution_count": 15,
   "metadata": {
    "collapsed": true
   },
   "outputs": [],
   "source": [
    "def shift_it(m, k):\n",
    "\n",
    "    mc = [ord(l) - ord(\"a\") for l in m]\n",
    "\n",
    "    md = [chr((i + k) % 26 + ord(\"a\")) for i in mc]\n",
    "    \n",
    "    return \"\".join(md)"
   ]
  },
  {
   "cell_type": "code",
   "execution_count": 16,
   "metadata": {
    "collapsed": false
   },
   "outputs": [
    {
     "data": {
      "text/plain": [
       "'jenesuispasarriveadecryptercemessage'"
      ]
     },
     "execution_count": 16,
     "metadata": {},
     "output_type": "execute_result"
    }
   ],
   "source": [
    "shift_it(message, ord(\"e\") - ord(\"w\"))"
   ]
  },
  {
   "cell_type": "code",
   "execution_count": null,
   "metadata": {
    "collapsed": true
   },
   "outputs": [],
   "source": []
  }
 ],
 "metadata": {
  "kernelspec": {
   "display_name": "Python [py35]",
   "language": "python",
   "name": "Python [py35]"
  },
  "language_info": {
   "codemirror_mode": {
    "name": "ipython",
    "version": 3
   },
   "file_extension": ".py",
   "mimetype": "text/x-python",
   "name": "python",
   "nbconvert_exporter": "python",
   "pygments_lexer": "ipython3",
   "version": "3.5.2"
  }
 },
 "nbformat": 4,
 "nbformat_minor": 0
}
