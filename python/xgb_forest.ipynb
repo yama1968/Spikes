{
 "cells": [
  {
   "cell_type": "code",
   "execution_count": 1,
   "metadata": {
    "collapsed": false
   },
   "outputs": [],
   "source": [
    "from sklearn import datasets\n",
    "from scipy.io.arff import loadarff\n",
    "from sklearn.cross_validation import train_test_split\n",
    "from sklearn.metrics import roc_auc_score\n",
    "\n",
    "import numpy as np\n",
    "import pandas as pd\n"
   ]
  },
  {
   "cell_type": "code",
   "execution_count": 2,
   "metadata": {
    "collapsed": false
   },
   "outputs": [],
   "source": [
    "forest = datasets.fetch_covtype()"
   ]
  },
  {
   "cell_type": "code",
   "execution_count": 3,
   "metadata": {
    "collapsed": false
   },
   "outputs": [
    {
     "data": {
      "text/plain": [
       "sklearn.datasets.base.Bunch"
      ]
     },
     "execution_count": 3,
     "metadata": {},
     "output_type": "execute_result"
    }
   ],
   "source": [
    "type(forest)"
   ]
  },
  {
   "cell_type": "code",
   "execution_count": 4,
   "metadata": {
    "collapsed": false
   },
   "outputs": [],
   "source": [
    "X, X_test, y, y_test = train_test_split(\n",
    "    forest.data, forest.target == 2, test_size=0.3, random_state=1234)"
   ]
  },
  {
   "cell_type": "code",
   "execution_count": 5,
   "metadata": {
    "collapsed": false
   },
   "outputs": [
    {
     "name": "stdout",
     "output_type": "stream",
     "text": [
      "(406708, 54) (406708,) (174304, 54) (174304,)\n"
     ]
    }
   ],
   "source": [
    "print(X.shape, y.shape, X_test.shape, y_test.shape)"
   ]
  },
  {
   "cell_type": "markdown",
   "metadata": {},
   "source": [
    "## Maintenant un peu de xgboost!\n",
    "\n",
    "### D'abord sans deap"
   ]
  },
  {
   "cell_type": "code",
   "execution_count": 6,
   "metadata": {
    "collapsed": false
   },
   "outputs": [
    {
     "name": "stderr",
     "output_type": "stream",
     "text": [
      "[0]\teval-auc:0.798104\ttrain-auc:0.797500\n",
      "[40]\teval-auc:0.922583\ttrain-auc:0.925691\n",
      "[80]\teval-auc:0.939016\ttrain-auc:0.943107\n",
      "[120]\teval-auc:0.953977\ttrain-auc:0.958951\n",
      "[160]\teval-auc:0.961968\ttrain-auc:0.967478\n",
      "[200]\teval-auc:0.967300\ttrain-auc:0.973411\n"
     ]
    }
   ],
   "source": [
    "import xgboost as xgb\n",
    "\n",
    "dtrain = xgb.DMatrix(X, label=y)\n",
    "dtest  = xgb.DMatrix(X_test, label=y_test)\n",
    "evallist = [(dtest, 'eval'), (dtrain, 'train')]\n",
    "\n",
    "param = {\n",
    "    'bst:max_depth': 5, \n",
    "    'bst:eta': 0.5, \n",
    "    'silent': True, \n",
    "    'verbose': 0,\n",
    "    'objective': 'binary:logistic',\n",
    "    'nthread': 4,\n",
    "    'eval_metric': 'auc'\n",
    "}\n",
    "\n",
    "num_round = 201\n",
    "bst = xgb.train(param,\n",
    "                dtrain,\n",
    "                num_round,\n",
    "                evallist,\n",
    "                verbose_eval    = 40\n",
    "               )\n"
   ]
  },
  {
   "cell_type": "code",
   "execution_count": 7,
   "metadata": {
    "collapsed": false
   },
   "outputs": [
    {
     "name": "stderr",
     "output_type": "stream",
     "text": [
      "[0]\teval-auc:0.744344\ttrain-auc:0.747410\n",
      "[40]\teval-auc:0.975541\ttrain-auc:0.983620\n",
      "[80]\teval-auc:0.986208\ttrain-auc:0.994752\n",
      "[120]\teval-auc:0.990154\ttrain-auc:0.998182\n",
      "[160]\teval-auc:0.992087\ttrain-auc:0.999415\n",
      "[200]\teval-auc:0.992860\ttrain-auc:0.999795\n"
     ]
    }
   ],
   "source": [
    "param = {\n",
    "    'bst:max_depth': 9, \n",
    "    'bst:eta': 0.6,\n",
    "    'colsample_bytree': 0.74,\n",
    "    'subsample': 0.66,\n",
    "    'silent': True, \n",
    "    'verbose': 0,\n",
    "    'objective': 'binary:logistic',\n",
    "    'nthread': 4,\n",
    "    'eval_metric': 'auc'\n",
    "}\n",
    "\n",
    "num_round = 201\n",
    "bst = xgb.train(param,\n",
    "                dtrain,\n",
    "                num_round,\n",
    "                evallist,\n",
    "                verbose_eval    = 40\n",
    "               )\n"
   ]
  }
 ],
 "metadata": {
  "kernelspec": {
   "display_name": "Python 3",
   "language": "python",
   "name": "python3"
  },
  "language_info": {
   "codemirror_mode": {
    "name": "ipython",
    "version": 3
   },
   "file_extension": ".py",
   "mimetype": "text/x-python",
   "name": "python",
   "nbconvert_exporter": "python",
   "pygments_lexer": "ipython3",
   "version": "3.5.1"
  }
 },
 "nbformat": 4,
 "nbformat_minor": 0
}
