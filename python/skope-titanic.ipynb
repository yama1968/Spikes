{
 "cells": [
  {
   "cell_type": "markdown",
   "metadata": {},
   "source": [
    "# Skope-Rules Demo: application to titanic survivors classification"
   ]
  },
  {
   "cell_type": "markdown",
   "metadata": {},
   "source": [
    "This notebook shows a demo of skope-rules on the well-known titanic dataset. The dataset is available here: https://www.kaggle.com/c/titanic\n",
    "\n",
    "skope-rules is appropritate in the following situations:\n",
    "1. Addressing a classification problem with a binary outcome\n",
    "2. Extracting decision rules which are interpretable\n",
    "\n",
    "The notebook is structured into 5 parts:\n",
    "1. Imports\n",
    "2. Data preparation\n",
    "3. Model training (use of ScopeRules().score_top_rules() method)\n",
    "4. Interpretation of \"Survival Rules\" (use of SkopeRules().rules_ attribute)\n",
    "5. Performance analysis (use of SkopeRules.predict_top_rules() method)"
   ]
  },
  {
   "cell_type": "markdown",
   "metadata": {},
   "source": [
    "## 1. Imports"
   ]
  },
  {
   "cell_type": "code",
   "execution_count": 2,
   "metadata": {
    "ExecuteTime": {
     "end_time": "2019-03-04T15:19:54.717971Z",
     "start_time": "2019-03-04T15:19:54.687299Z"
    }
   },
   "outputs": [],
   "source": [
    "# Import skope-rules\n",
    "from skrules import SkopeRules\n",
    "\n",
    "\n",
    "# Import librairies\n",
    "import pandas as pd\n",
    "from sklearn.ensemble import GradientBoostingClassifier, RandomForestClassifier\n",
    "from sklearn.model_selection import train_test_split\n",
    "from sklearn.tree import DecisionTreeClassifier\n",
    "import matplotlib.pyplot as plt\n",
    "from sklearn.metrics import roc_curve, precision_recall_curve\n",
    "from matplotlib import cm\n",
    "import numpy as np\n",
    "from sklearn.metrics import confusion_matrix\n",
    "from IPython.display import display\n",
    "\n",
    "\n",
    "# Import Titanic data\n",
    "data = pd.read_csv('titanic-train.csv')"
   ]
  },
  {
   "cell_type": "markdown",
   "metadata": {},
   "source": [
    "## 2. Data Preparation"
   ]
  },
  {
   "cell_type": "code",
   "execution_count": 3,
   "metadata": {
    "ExecuteTime": {
     "end_time": "2019-03-04T15:19:58.262103Z",
     "start_time": "2019-03-04T15:19:58.127892Z"
    }
   },
   "outputs": [
    {
     "name": "stdout",
     "output_type": "stream",
     "text": [
      "Column names are: Pclass Age SibSp Parch Fare isFemale Embarked_C Embarked_Q Embarked_S.\n",
      "Shape of training set is: (535, 9).\n"
     ]
    }
   ],
   "source": [
    "# Remove rows with age missing\n",
    "data = data.query('Age == Age')\n",
    "\n",
    "# Create dummy for variable Sex\n",
    "data['isFemale'] = (data['Sex'] == 'female') * 1\n",
    "\n",
    "# Create dummies for variable Embarked\n",
    "data = pd.concat(\n",
    "    [data,\n",
    "    pd.get_dummies(data.loc[:,'Embarked'], dummy_na=False, prefix='Embarked', prefix_sep='_')],\n",
    "    axis=1\n",
    ")\n",
    "\n",
    "# Remove unused columns\n",
    "data = data.drop(['Name', 'Ticket', 'Cabin', 'PassengerId', 'Sex', 'Embarked'], axis = 1)\n",
    "\n",
    "# Create training and testing set\n",
    "X_train, X_test, y_train, y_test = train_test_split(\n",
    "    data.drop(['Survived'], axis=1), data['Survived'], test_size=0.25, random_state=42)\n",
    "feature_names = X_train.columns\n",
    "\n",
    "print('Column names are: ' + ' '.join(feature_names.tolist())+'.')\n",
    "print('Shape of training set is: ' + str(X_train.shape) + '.')"
   ]
  },
  {
   "cell_type": "markdown",
   "metadata": {},
   "source": [
    "## 3. Train models"
   ]
  },
  {
   "cell_type": "code",
   "execution_count": 103,
   "metadata": {
    "ExecuteTime": {
     "end_time": "2019-03-04T15:42:24.771216Z",
     "start_time": "2019-03-04T15:42:20.165554Z"
    }
   },
   "outputs": [],
   "source": [
    "# Train a gradient boosting classifier for benchmark\n",
    "gradient_boost_clf = GradientBoostingClassifier(random_state=42, n_estimators=30, max_depth = 5)\n",
    "gradient_boost_clf.fit(X_train, y_train)\n",
    "\n",
    "# Train a random forest classifier for benchmark\n",
    "random_forest_clf = RandomForestClassifier(random_state=42, n_estimators=30, max_depth = 5)\n",
    "random_forest_clf.fit(X_train, y_train)\n",
    "\n",
    "# Train a decision tree classifier for benchmark\n",
    "decision_tree_clf = DecisionTreeClassifier(random_state=42, max_depth = 5)\n",
    "decision_tree_clf.fit(X_train, y_train)\n",
    "\n",
    "# Train a skope-rules-boosting classifier\n",
    "skope_rules_clf = SkopeRules(feature_names=feature_names, random_state=42, n_estimators=30,\n",
    "                               recall_min=0.02, precision_min=0.9,\n",
    "                               max_samples=0.7,\n",
    "                               max_depth_duplication= 4, max_depth = 5)\n",
    "skope_rules_clf.fit(X_train, y_train)\n",
    "\n",
    "\n",
    "# Compute prediction scores\n",
    "gradient_boost_scoring = gradient_boost_clf.predict_proba(X_test)[:, 1]\n",
    "random_forest_scoring = random_forest_clf.predict_proba(X_test)[:, 1]\n",
    "decision_tree_scoring = decision_tree_clf.predict_proba(X_test)[:, 1]\n",
    "\n",
    "skope_rules_scoring = skope_rules_clf.score_top_rules(X_test)"
   ]
  },
  {
   "cell_type": "markdown",
   "metadata": {},
   "source": [
    "The *score_top_rules* method is used to get the skope-rules score from new data."
   ]
  },
  {
   "cell_type": "markdown",
   "metadata": {},
   "source": [
    "## 4. \"Rules of Survival\" extraction"
   ]
  },
  {
   "cell_type": "code",
   "execution_count": 110,
   "metadata": {
    "ExecuteTime": {
     "end_time": "2019-03-04T15:43:17.235030Z",
     "start_time": "2019-03-04T15:43:17.212066Z"
    }
   },
   "outputs": [
    {
     "name": "stdout",
     "output_type": "stream",
     "text": [
      "13 rules have been built with SkopeRules.\n",
      "\n",
      "The 6 most performing \"Titanic survival rules\" are the following one:\n",
      "\n",
      "Age <= 37.0 and Age > 2.5 and Pclass <= 2.5 and isFemale > 0.5\n",
      "(0.9090909090909091, 0.3508771929824561, 2)\n",
      "-> The women between 3 and 37, who were in first or second class.\n",
      "\n",
      "Age > 2.5 and Fare > 26.125 and Pclass <= 2.5 and isFemale > 0.5\n",
      "(0.9565029173724826, 0.34027886642926586, 12)\n",
      "-> The women aged more than 3 in first or second class, who paid more than 26€.\n",
      "\n",
      "Fare > 29.356250762939453 and Pclass <= 2.5 and isFemale > 0.5\n",
      "(0.9544763515351751, 0.3197330003914728, 14)\n",
      "-> The women in first or second class, who paid more than 29€.\n",
      "\n",
      "Age > 38.5 and Pclass <= 2.5 and isFemale > 0.5\n",
      "(0.9285714285714286, 0.22807017543859648, 2)\n",
      "-> The women aged more than 39, in first or second class.\n",
      "\n",
      "Age > 3.0 and Fare <= 28.231250762939453 and Pclass <= 2.5 and isFemale > 0.5\n",
      "(0.9375, 0.22388059701492538, 2)\n",
      "-> \n",
      "\n",
      "Fare <= 28.231250762939453 and Pclass <= 2.5 and SibSp <= 0.5 and isFemale > 0.5\n",
      "(0.9230769230769231, 0.18461538461538463, 2)\n",
      "-> \n",
      "\n"
     ]
    }
   ],
   "source": [
    "# Get number of survival rules created\n",
    "print(str(len(skope_rules_clf.rules_)) + ' rules have been built with ' +\n",
    "      'SkopeRules.\\n')\n",
    "\n",
    "# Print the rules\n",
    "rules_explanations = [\n",
    "    'The women between 3 and 37, who were in first or second class.',\n",
    "    'The women aged more than 3 in first or second class, who paid more than 26€.',\n",
    "    'The women in first or second class, who paid more than 29€.',\n",
    "    'The women aged more than 39, in first or second class.','','','',''\n",
    "]\n",
    "print('The 6 most performing \"Titanic survival rules\" are the following one:\\n')\n",
    "for i_rule, rule in enumerate(skope_rules_clf.rules_[:6]):\n",
    "    print(rule[0])\n",
    "    print(rule[1])\n",
    "    print('-> '+rules_explanations[i_rule]+ '\\n')\n",
    "    "
   ]
  },
  {
   "cell_type": "code",
   "execution_count": 105,
   "metadata": {
    "ExecuteTime": {
     "end_time": "2019-03-04T15:42:24.792302Z",
     "start_time": "2019-03-04T15:42:24.786473Z"
    }
   },
   "outputs": [
    {
     "data": {
      "text/plain": [
       "[]"
      ]
     },
     "execution_count": 105,
     "metadata": {},
     "output_type": "execute_result"
    }
   ],
   "source": [
    "[rule[0] for rule in skope_rules_clf.rules_ if not 'isFemale' in rule[0]]"
   ]
  },
  {
   "cell_type": "code",
   "execution_count": 106,
   "metadata": {
    "ExecuteTime": {
     "end_time": "2019-03-04T15:42:24.800214Z",
     "start_time": "2019-03-04T15:42:24.794121Z"
    }
   },
   "outputs": [
    {
     "data": {
      "text/plain": [
       "[(8,\n",
       "  ('Age <= 6.0 and SibSp <= 2.5 and isFemale <= 0.5',\n",
       "   (1.0, 0.08196721311475409, 2))),\n",
       " (9,\n",
       "  ('Age <= 3.5 and Pclass <= 2.5 and isFemale <= 0.5',\n",
       "   (1.0, 0.045454545454545456, 2))),\n",
       " (10,\n",
       "  ('Age <= 3.5 and Pclass > 1.5 and SibSp <= 2.5 and isFemale <= 0.5',\n",
       "   (1.0, 0.03333333333333333, 2))),\n",
       " (11,\n",
       "  ('Age > 3.5 and Fare > 48.091651916503906 and Pclass > 2.5 and isFemale <= 0.5',\n",
       "   (1.0, 0.03125, 2)))]"
      ]
     },
     "execution_count": 106,
     "metadata": {},
     "output_type": "execute_result"
    }
   ],
   "source": [
    "[(i,rule) for (i,rule) in enumerate(skope_rules_clf.rules_) if 'isFemale <' in rule[0]]"
   ]
  },
  {
   "cell_type": "code",
   "execution_count": 107,
   "metadata": {
    "ExecuteTime": {
     "end_time": "2019-03-04T15:42:24.916277Z",
     "start_time": "2019-03-04T15:42:24.801476Z"
    }
   },
   "outputs": [
    {
     "name": "stdout",
     "output_type": "stream",
     "text": [
      "Precision = 0.96 means that 96% of people identified by the rule are survivors.\n",
      "Recall = 0.12 means that the survivors identified by the rule are 12% of the total number of survivors.\n",
      "\n",
      "Rule 1:\n"
     ]
    },
    {
     "data": {
      "text/html": [
       "<div>\n",
       "<style scoped>\n",
       "    .dataframe tbody tr th:only-of-type {\n",
       "        vertical-align: middle;\n",
       "    }\n",
       "\n",
       "    .dataframe tbody tr th {\n",
       "        vertical-align: top;\n",
       "    }\n",
       "\n",
       "    .dataframe thead th {\n",
       "        text-align: right;\n",
       "    }\n",
       "</style>\n",
       "<table border=\"1\" class=\"dataframe\">\n",
       "  <thead>\n",
       "    <tr style=\"text-align: right;\">\n",
       "      <th></th>\n",
       "      <th>precision</th>\n",
       "      <th>recall</th>\n",
       "    </tr>\n",
       "  </thead>\n",
       "  <tbody>\n",
       "    <tr>\n",
       "      <th>train_set</th>\n",
       "      <td>0.974026</td>\n",
       "      <td>0.344037</td>\n",
       "    </tr>\n",
       "    <tr>\n",
       "      <th>test_set</th>\n",
       "      <td>0.928571</td>\n",
       "      <td>0.361111</td>\n",
       "    </tr>\n",
       "  </tbody>\n",
       "</table>\n",
       "</div>"
      ],
      "text/plain": [
       "           precision    recall\n",
       "train_set   0.974026  0.344037\n",
       "test_set    0.928571  0.361111"
      ]
     },
     "metadata": {},
     "output_type": "display_data"
    },
    {
     "name": "stdout",
     "output_type": "stream",
     "text": [
      "Rule 2:\n"
     ]
    },
    {
     "data": {
      "text/html": [
       "<div>\n",
       "<style scoped>\n",
       "    .dataframe tbody tr th:only-of-type {\n",
       "        vertical-align: middle;\n",
       "    }\n",
       "\n",
       "    .dataframe tbody tr th {\n",
       "        vertical-align: top;\n",
       "    }\n",
       "\n",
       "    .dataframe thead th {\n",
       "        text-align: right;\n",
       "    }\n",
       "</style>\n",
       "<table border=\"1\" class=\"dataframe\">\n",
       "  <thead>\n",
       "    <tr style=\"text-align: right;\">\n",
       "      <th></th>\n",
       "      <th>precision</th>\n",
       "      <th>recall</th>\n",
       "    </tr>\n",
       "  </thead>\n",
       "  <tbody>\n",
       "    <tr>\n",
       "      <th>train_set</th>\n",
       "      <td>0.986667</td>\n",
       "      <td>0.339450</td>\n",
       "    </tr>\n",
       "    <tr>\n",
       "      <th>test_set</th>\n",
       "      <td>0.960000</td>\n",
       "      <td>0.333333</td>\n",
       "    </tr>\n",
       "  </tbody>\n",
       "</table>\n",
       "</div>"
      ],
      "text/plain": [
       "           precision    recall\n",
       "train_set   0.986667  0.339450\n",
       "test_set    0.960000  0.333333"
      ]
     },
     "metadata": {},
     "output_type": "display_data"
    },
    {
     "name": "stdout",
     "output_type": "stream",
     "text": [
      "Rule 3:\n"
     ]
    },
    {
     "data": {
      "text/html": [
       "<div>\n",
       "<style scoped>\n",
       "    .dataframe tbody tr th:only-of-type {\n",
       "        vertical-align: middle;\n",
       "    }\n",
       "\n",
       "    .dataframe tbody tr th {\n",
       "        vertical-align: top;\n",
       "    }\n",
       "\n",
       "    .dataframe thead th {\n",
       "        text-align: right;\n",
       "    }\n",
       "</style>\n",
       "<table border=\"1\" class=\"dataframe\">\n",
       "  <thead>\n",
       "    <tr style=\"text-align: right;\">\n",
       "      <th></th>\n",
       "      <th>precision</th>\n",
       "      <th>recall</th>\n",
       "    </tr>\n",
       "  </thead>\n",
       "  <tbody>\n",
       "    <tr>\n",
       "      <th>train_set</th>\n",
       "      <td>0.985507</td>\n",
       "      <td>0.311927</td>\n",
       "    </tr>\n",
       "    <tr>\n",
       "      <th>test_set</th>\n",
       "      <td>0.950000</td>\n",
       "      <td>0.263889</td>\n",
       "    </tr>\n",
       "  </tbody>\n",
       "</table>\n",
       "</div>"
      ],
      "text/plain": [
       "           precision    recall\n",
       "train_set   0.985507  0.311927\n",
       "test_set    0.950000  0.263889"
      ]
     },
     "metadata": {},
     "output_type": "display_data"
    },
    {
     "name": "stdout",
     "output_type": "stream",
     "text": [
      "Rule 4:\n"
     ]
    },
    {
     "data": {
      "text/html": [
       "<div>\n",
       "<style scoped>\n",
       "    .dataframe tbody tr th:only-of-type {\n",
       "        vertical-align: middle;\n",
       "    }\n",
       "\n",
       "    .dataframe tbody tr th {\n",
       "        vertical-align: top;\n",
       "    }\n",
       "\n",
       "    .dataframe thead th {\n",
       "        text-align: right;\n",
       "    }\n",
       "</style>\n",
       "<table border=\"1\" class=\"dataframe\">\n",
       "  <thead>\n",
       "    <tr style=\"text-align: right;\">\n",
       "      <th></th>\n",
       "      <th>precision</th>\n",
       "      <th>recall</th>\n",
       "    </tr>\n",
       "  </thead>\n",
       "  <tbody>\n",
       "    <tr>\n",
       "      <th>train_set</th>\n",
       "      <td>0.942857</td>\n",
       "      <td>0.151376</td>\n",
       "    </tr>\n",
       "    <tr>\n",
       "      <th>test_set</th>\n",
       "      <td>0.923077</td>\n",
       "      <td>0.166667</td>\n",
       "    </tr>\n",
       "  </tbody>\n",
       "</table>\n",
       "</div>"
      ],
      "text/plain": [
       "           precision    recall\n",
       "train_set   0.942857  0.151376\n",
       "test_set    0.923077  0.166667"
      ]
     },
     "metadata": {},
     "output_type": "display_data"
    }
   ],
   "source": [
    "def compute_y_pred_from_query(X, rule):\n",
    "    score = np.zeros(X.shape[0])\n",
    "    X = X.reset_index(drop=True)\n",
    "    score[list(X.query(rule).index)] = 1\n",
    "    return(score)\n",
    "\n",
    "def compute_performances_from_y_pred(y_true, y_pred, index_name='default_index'):\n",
    "    df = pd.DataFrame(data=\n",
    "        {\n",
    "            'precision':[sum(y_true * y_pred)/sum(y_pred)],\n",
    "            'recall':[sum(y_true * y_pred)/sum(y_true)]\n",
    "        },\n",
    "        index=[index_name],\n",
    "        columns=['precision', 'recall']\n",
    "    )\n",
    "    return(df)\n",
    "\n",
    "def compute_train_test_query_performances(X_train, y_train, X_test, y_test, rule):\n",
    "    \n",
    "    y_train_pred = compute_y_pred_from_query(X_train, rule)\n",
    "    y_test_pred = compute_y_pred_from_query(X_test, rule)\n",
    "    \n",
    "    performances = None\n",
    "    performances = pd.concat([\n",
    "        performances,\n",
    "        compute_performances_from_y_pred(y_train, y_train_pred, 'train_set')],\n",
    "        axis=0)\n",
    "    performances = pd.concat([\n",
    "        performances,\n",
    "        compute_performances_from_y_pred(y_test, y_test_pred, 'test_set')],\n",
    "        axis=0)\n",
    "            \n",
    "    return(performances)\n",
    "\n",
    "\n",
    "print('Precision = 0.96 means that 96% of people identified by the rule are survivors.')\n",
    "print('Recall = 0.12 means that the survivors identified by the rule are 12% of the total number of survivors.\\n')\n",
    "\n",
    "for i in range(4):\n",
    "    print('Rule '+str(i+1)+':')\n",
    "    display(compute_train_test_query_performances(X_train, y_train,\n",
    "                                                  X_test, y_test,\n",
    "                                                  skope_rules_clf.rules_[i][0])\n",
    "           )"
   ]
  },
  {
   "cell_type": "markdown",
   "metadata": {},
   "source": [
    "## 5. Performance analysis"
   ]
  },
  {
   "cell_type": "code",
   "execution_count": 108,
   "metadata": {
    "ExecuteTime": {
     "end_time": "2019-03-04T15:42:25.225331Z",
     "start_time": "2019-03-04T15:42:24.918175Z"
    }
   },
   "outputs": [
    {
     "data": {
      "image/png": "[encoded data removed]",
      "text/plain": [
       "<matplotlib.figure.Figure at 0x7fa965f4f2e8>"
      ]
     },
     "metadata": {},
     "output_type": "display_data"
    }
   ],
   "source": [
    "def plot_titanic_scores(y_true, scores_with_line=[], scores_with_points=[],\n",
    "                        labels_with_line=['Gradient Boosting', 'Random Forest', 'Decision Tree'],\n",
    "                        labels_with_points=['skope-rules']):\n",
    "    gradient = np.linspace(0, 1, 10)\n",
    "    color_list = [ cm.tab10(x) for x in gradient ]\n",
    "\n",
    "    fig, axes = plt.subplots(1, 2, figsize=(12, 5),\n",
    "                         sharex=True, sharey=True)\n",
    "    ax = axes[0]\n",
    "    n_line = 0\n",
    "    for i_score, score in enumerate(scores_with_line):\n",
    "        n_line = n_line + 1\n",
    "        fpr, tpr, _ = roc_curve(y_true, score)\n",
    "        ax.plot(fpr, tpr, linestyle='-.', c=color_list[i_score], lw=1, label=labels_with_line[i_score])\n",
    "    for i_score, score in enumerate(scores_with_points):\n",
    "        fpr, tpr, _ = roc_curve(y_true, score)\n",
    "        ax.scatter(fpr[:-1], tpr[:-1], c=color_list[n_line + i_score], s=10, label=labels_with_points[i_score])\n",
    "    ax.set_title(\"ROC\", fontsize=20)\n",
    "    ax.set_xlabel('False Positive Rate', fontsize=18)\n",
    "    ax.set_ylabel('True Positive Rate (Recall)', fontsize=18)\n",
    "    ax.legend(loc='lower center', fontsize=8)\n",
    "\n",
    "    ax = axes[1]\n",
    "    n_line = 0\n",
    "    for i_score, score in enumerate(scores_with_line):\n",
    "        n_line = n_line + 1\n",
    "        precision, recall, _ = precision_recall_curve(y_true, score)\n",
    "        ax.step(recall, precision, linestyle='-.', c=color_list[i_score], lw=1, where='post', label=labels_with_line[i_score])\n",
    "    for i_score, score in enumerate(scores_with_points):\n",
    "        precision, recall, _ = precision_recall_curve(y_true, score)\n",
    "        ax.scatter(recall, precision, c=color_list[n_line + i_score], s=10, label=labels_with_points[i_score])\n",
    "    ax.set_title(\"Precision-Recall\", fontsize=20)\n",
    "    ax.set_xlabel('Recall (True Positive Rate)', fontsize=18)\n",
    "    ax.set_ylabel('Precision', fontsize=18)\n",
    "    ax.legend(loc='lower center', fontsize=8)\n",
    "    plt.show()\n",
    "    \n",
    "plot_titanic_scores(y_test,\n",
    "                    scores_with_line=[gradient_boost_scoring, random_forest_scoring, decision_tree_scoring],\n",
    "                    scores_with_points=[skope_rules_scoring]\n",
    "                   )"
   ]
  },
  {
   "cell_type": "markdown",
   "metadata": {},
   "source": [
    "On the ROC curve, each red point corresponds to a number of rules (from skope-rules) activated. For example, the lowest point is the performance point for 1 rule (the best). The second-lowest point is plot for 2 rules, etc.\n",
    "\n",
    "On the Precision-Recall curve, the same points are plot but with different axes. Warning: the first red point on the left (0% recall, 100% precision) corresponds to 0 rule. The second point on the left is the first rule, etc.\n",
    "\n",
    "Some conclusions can be drawn from this example:\n",
    "- skope-rules performs better than a decision tree.\n",
    "- skope-rules have similar performances than a random-forest/gradient boosting (in this example)\n",
    "- Using 4 rules leads to a great performance (61% recall, 94% precision) (in this example)."
   ]
  },
  {
   "cell_type": "code",
   "execution_count": 109,
   "metadata": {
    "ExecuteTime": {
     "end_time": "2019-03-04T15:42:25.862196Z",
     "start_time": "2019-03-04T15:42:25.226781Z"
    },
    "scrolled": false
   },
   "outputs": [
    {
     "name": "stdout",
     "output_type": "stream",
     "text": [
      "4 discovered rules =>            precision    recall\n",
      "test_set   0.928571  0.541667\n",
      "5 discovered rules =>            precision    recall\n",
      "test_set   0.928571  0.541667\n",
      "6 discovered rules =>            precision    recall\n",
      "test_set   0.928571  0.541667\n",
      "7 discovered rules =>            precision    recall\n",
      "test_set   0.928571  0.541667\n",
      "8 discovered rules =>            precision    recall\n",
      "test_set   0.888889  0.555556\n",
      "9 discovered rules =>            precision    recall\n",
      "test_set   0.895833  0.597222\n",
      "10 discovered rules =>            precision    recall\n",
      "test_set   0.895833  0.597222\n",
      "11 discovered rules =>            precision    recall\n",
      "test_set   0.895833  0.597222\n",
      "12 discovered rules =>            precision    recall\n",
      "test_set   0.877551  0.597222\n",
      "13 discovered rules =>            precision    recall\n",
      "test_set       0.86  0.597222\n"
     ]
    }
   ],
   "source": [
    "for n_rule_chosen in range(4, 1+len(skope_rules_clf.rules_)):\n",
    "    y_pred = skope_rules_clf.predict_top_rules(X_test, n_rule_chosen)\n",
    "\n",
    "    print(str(n_rule_chosen)+' discovered rules => ',\n",
    "          compute_performances_from_y_pred(y_test, y_pred, 'test_set'))"
   ]
  },
  {
   "cell_type": "markdown",
   "metadata": {},
   "source": [
    "The *predict_top_rules(new_data, n_r)* method is used to compute predictions on *new_data* with the *n_r* first rules of skope-rules."
   ]
  },
  {
   "cell_type": "code",
   "execution_count": null,
   "metadata": {},
   "outputs": [],
   "source": []
  }
 ],
 "metadata": {
  "kernelspec": {
   "display_name": "Python 3",
   "language": "python",
   "name": "python3"
  },
  "language_info": {
   "codemirror_mode": {
    "name": "ipython",
    "version": 3
   },
   "file_extension": ".py",
   "mimetype": "text/x-python",
   "name": "python",
   "nbconvert_exporter": "python",
   "pygments_lexer": "ipython3",
   "version": "3.6.6"
  },
  "toc": {
   "nav_menu": {},
   "number_sections": true,
   "sideBar": true,
   "skip_h1_title": false,
   "toc_cell": false,
   "toc_position": {},
   "toc_section_display": "block",
   "toc_window_display": false
  },
  "varInspector": {
   "cols": {
    "lenName": 16,
    "lenType": 16,
    "lenVar": 40
   },
   "kernels_config": {
    "python": {
     "delete_cmd_postfix": "",
     "delete_cmd_prefix": "del ",
     "library": "var_list.py",
     "varRefreshCmd": "print(var_dic_list())"
    },
    "r": {
     "delete_cmd_postfix": ") ",
     "delete_cmd_prefix": "rm(",
     "library": "var_list.r",
     "varRefreshCmd": "cat(var_dic_list()) "
    }
   },
   "types_to_exclude": [
    "module",
    "function",
    "builtin_function_or_method",
    "instance",
    "_Feature"
   ],
   "window_display": false
  }
 },
 "nbformat": 4,
 "nbformat_minor": 2
}
