{
 "cells": [
  {
   "cell_type": "code",
   "execution_count": 1,
   "metadata": {},
   "outputs": [],
   "source": [
    "import tensorflow as tf"
   ]
  },
  {
   "cell_type": "code",
   "execution_count": 2,
   "metadata": {},
   "outputs": [
    {
     "name": "stdout",
     "output_type": "stream",
     "text": [
      "WARNING:tensorflow:From <ipython-input-2-120cfb116c1a>:2: read_data_sets (from tensorflow.contrib.learn.python.learn.datasets.mnist) is deprecated and will be removed in a future version.\n",
      "Instructions for updating:\n",
      "Please use alternatives such as official/mnist/dataset.py from tensorflow/models.\n",
      "WARNING:tensorflow:From /home/yannick/bin/anaconda3_2018.12/envs/tf/lib/python3.7/site-packages/tensorflow/contrib/learn/python/learn/datasets/mnist.py:260: maybe_download (from tensorflow.contrib.learn.python.learn.datasets.base) is deprecated and will be removed in a future version.\n",
      "Instructions for updating:\n",
      "Please write your own downloading logic.\n",
      "WARNING:tensorflow:From /home/yannick/bin/anaconda3_2018.12/envs/tf/lib/python3.7/site-packages/tensorflow/contrib/learn/python/learn/datasets/mnist.py:262: extract_images (from tensorflow.contrib.learn.python.learn.datasets.mnist) is deprecated and will be removed in a future version.\n",
      "Instructions for updating:\n",
      "Please use tf.data to implement this functionality.\n",
      "Extracting MNIST_data/train-images-idx3-ubyte.gz\n",
      "WARNING:tensorflow:From /home/yannick/bin/anaconda3_2018.12/envs/tf/lib/python3.7/site-packages/tensorflow/contrib/learn/python/learn/datasets/mnist.py:267: extract_labels (from tensorflow.contrib.learn.python.learn.datasets.mnist) is deprecated and will be removed in a future version.\n",
      "Instructions for updating:\n",
      "Please use tf.data to implement this functionality.\n",
      "Extracting MNIST_data/train-labels-idx1-ubyte.gz\n",
      "WARNING:tensorflow:From /home/yannick/bin/anaconda3_2018.12/envs/tf/lib/python3.7/site-packages/tensorflow/contrib/learn/python/learn/datasets/mnist.py:110: dense_to_one_hot (from tensorflow.contrib.learn.python.learn.datasets.mnist) is deprecated and will be removed in a future version.\n",
      "Instructions for updating:\n",
      "Please use tf.one_hot on tensors.\n",
      "Extracting MNIST_data/t10k-images-idx3-ubyte.gz\n",
      "Extracting MNIST_data/t10k-labels-idx1-ubyte.gz\n",
      "WARNING:tensorflow:From /home/yannick/bin/anaconda3_2018.12/envs/tf/lib/python3.7/site-packages/tensorflow/contrib/learn/python/learn/datasets/mnist.py:290: DataSet.__init__ (from tensorflow.contrib.learn.python.learn.datasets.mnist) is deprecated and will be removed in a future version.\n",
      "Instructions for updating:\n",
      "Please use alternatives such as official/mnist/dataset.py from tensorflow/models.\n"
     ]
    },
    {
     "data": {
      "text/plain": [
       "Datasets(train=<tensorflow.contrib.learn.python.learn.datasets.mnist.DataSet object at 0x7ff3cc380eb8>, validation=<tensorflow.contrib.learn.python.learn.datasets.mnist.DataSet object at 0x7ff33f0c2860>, test=<tensorflow.contrib.learn.python.learn.datasets.mnist.DataSet object at 0x7ff33f0c2be0>)"
      ]
     },
     "execution_count": 2,
     "metadata": {},
     "output_type": "execute_result"
    }
   ],
   "source": [
    "from tensorflow.examples.tutorials.mnist import input_data\n",
    "mnist = input_data.read_data_sets(\"MNIST_data\", one_hot=True)\n",
    "mnist"
   ]
  },
  {
   "cell_type": "code",
   "execution_count": 3,
   "metadata": {
    "collapsed": true
   },
   "outputs": [],
   "source": [
    "sess = tf.InteractiveSession()"
   ]
  },
  {
   "cell_type": "code",
   "execution_count": 4,
   "metadata": {},
   "outputs": [
    {
     "name": "stdout",
     "output_type": "stream",
     "text": [
      "WARNING:tensorflow:From /home/yannick/bin/anaconda3_2018.12/envs/tf/lib/python3.7/site-packages/tensorflow/python/framework/op_def_library.py:263: colocate_with (from tensorflow.python.framework.ops) is deprecated and will be removed in a future version.\n",
      "Instructions for updating:\n",
      "Colocations handled automatically by placer.\n",
      "WARNING:tensorflow:From /home/yannick/bin/anaconda3_2018.12/envs/tf/lib/python3.7/site-packages/tensorflow/python/util/tf_should_use.py:193: initialize_all_variables (from tensorflow.python.ops.variables) is deprecated and will be removed after 2017-03-02.\n",
      "Instructions for updating:\n",
      "Use `tf.global_variables_initializer` instead.\n"
     ]
    }
   ],
   "source": [
    "x = tf.placeholder(tf.float32, shape=[None, 784])\n",
    "y_ = tf.placeholder(tf.float32, shape=[None, 10])\n",
    "\n",
    "W = tf.Variable(tf.zeros([784, 10]))\n",
    "b = tf.Variable(tf.zeros([10]))\n",
    "\n",
    "sess.run(tf.initialize_all_variables())"
   ]
  },
  {
   "cell_type": "code",
   "execution_count": 5,
   "metadata": {
    "collapsed": true
   },
   "outputs": [],
   "source": [
    "y = tf.nn.softmax(tf.matmul(x, W) + b)\n",
    "\n",
    "cross_entropy = tf.reduce_mean(-tf.reduce_sum(y_ * tf.log(y),\n",
    "                                              reduction_indices=[1]))"
   ]
  },
  {
   "cell_type": "code",
   "execution_count": 6,
   "metadata": {
    "collapsed": true
   },
   "outputs": [
    {
     "name": "stdout",
     "output_type": "stream",
     "text": [
      "WARNING:tensorflow:From /home/yannick/bin/anaconda3_2018.12/envs/tf/lib/python3.7/site-packages/tensorflow/python/ops/math_ops.py:3066: to_int32 (from tensorflow.python.ops.math_ops) is deprecated and will be removed in a future version.\n",
      "Instructions for updating:\n",
      "Use tf.cast instead.\n"
     ]
    }
   ],
   "source": [
    "train_step = tf.train.GradientDescentOptimizer(0.5) \\\n",
    "    .minimize(cross_entropy)\n",
    "    \n",
    "def do_train_steps(train_step = train_step, \n",
    "                   mnist=mnist, \n",
    "                   n=1001,\n",
    "                   batch_size=50):\n",
    "    \n",
    "    for i in range(n):\n",
    "        \n",
    "        batch = mnist.train.next_batch(batch_size)\n",
    "        train_step.run(feed_dict={x: batch[0], y_: batch[1]})\n",
    "        \n",
    "        if i % 200 == 0:\n",
    "            correct_prediction = tf.equal(tf.argmax(y, 1), tf.argmax(y_, 1))\n",
    "            accuracy = tf.reduce_mean(tf.cast(correct_prediction, tf.float32))\n",
    "            print(\"Step [%d], acc = %.1f%%\" % (\n",
    "                    i,\n",
    "                    100. * accuracy.eval(feed_dict = {x: mnist.test.images,\n",
    "                                                      y_: mnist.test.labels})))"
   ]
  },
  {
   "cell_type": "code",
   "execution_count": 7,
   "metadata": {
    "scrolled": true
   },
   "outputs": [
    {
     "name": "stdout",
     "output_type": "stream",
     "text": [
      "Step [0], acc = 36.0%\n",
      "Step [200], acc = 89.1%\n",
      "Step [400], acc = 90.0%\n",
      "Step [600], acc = 90.5%\n",
      "Step [800], acc = 91.5%\n",
      "Step [1000], acc = 91.2%\n"
     ]
    }
   ],
   "source": [
    "do_train_steps(n=1001)"
   ]
  },
  {
   "cell_type": "code",
   "execution_count": 8,
   "metadata": {
    "collapsed": true
   },
   "outputs": [
    {
     "name": "stdout",
     "output_type": "stream",
     "text": [
      "WARNING:tensorflow:From <ipython-input-8-208b8aaa1379>:17: calling dropout (from tensorflow.python.ops.nn_ops) with keep_prob is deprecated and will be removed in a future version.\n",
      "Instructions for updating:\n",
      "Please use `rate` instead of `keep_prob`. Rate should be set to `rate = 1 - keep_prob`.\n"
     ]
    }
   ],
   "source": [
    "x = tf.placeholder(tf.float32, shape=[None, 784])\n",
    "y_ = tf.placeholder(tf.float32, shape=[None, 10])\n",
    "\n",
    "n_hidden = 200\n",
    "\n",
    "W1 = tf.Variable(tf.zeros([784, n_hidden]))\n",
    "b1 = tf.Variable(tf.zeros([n_hidden]))\n",
    "\n",
    "W2 = tf.Variable(tf.zeros([n_hidden, n_hidden]))\n",
    "b2 = tf.Variable(tf.zeros([n_hidden]))\n",
    "\n",
    "W3 = tf.Variable(tf.zeros([n_hidden, 10]))\n",
    "b3 = tf.Variable(tf.zeros([10]))\n",
    "\n",
    "sess.run(tf.initialize_all_variables())\n",
    "\n",
    "y1 = tf.nn.dropout(tf.nn.sigmoid(tf.matmul(x, W1) + b1),  keep_prob=0.5)\n",
    "y2 = tf.nn.dropout(tf.nn.sigmoid(tf.matmul(y1, W2) + b2),  keep_prob=0.5)\n",
    "y3 = tf.nn.softmax(tf.matmul(y2, W3) + b3)\n",
    "\n",
    "cross_entropy = tf.reduce_mean(-tf.reduce_sum(y_ * tf.log(y3),\n",
    "                                              reduction_indices=[1]))"
   ]
  },
  {
   "cell_type": "code",
   "execution_count": 9,
   "metadata": {
    "collapsed": true
   },
   "outputs": [],
   "source": [
    "train_step = tf.train.GradientDescentOptimizer(0.5) \\\n",
    "    .minimize(cross_entropy)\n",
    "    \n",
    "def do_train_steps(train_step = train_step, \n",
    "                   mnist=mnist, \n",
    "                   n=1001,\n",
    "                   batch_size=50):\n",
    "    \n",
    "    c = 32\n",
    "    \n",
    "    for i in range(n):\n",
    "        \n",
    "        batch = mnist.train.next_batch(batch_size)\n",
    "        train_step.run(feed_dict={x: batch[0], y_: batch[1]})\n",
    "        \n",
    "        if i >= c:\n",
    "            c *= 2\n",
    "            correct_prediction = tf.equal(tf.argmax(y3, 1), tf.argmax(y_, 1))\n",
    "            accuracy = tf.reduce_mean(tf.cast(correct_prediction, tf.float32))\n",
    "            print(\"Step [%d], acc = %.1f%%\" % (\n",
    "                    i,\n",
    "                    100. * accuracy.eval(feed_dict = {x: mnist.test.images,\n",
    "                                                      y_: mnist.test.labels})))"
   ]
  },
  {
   "cell_type": "code",
   "execution_count": 10,
   "metadata": {},
   "outputs": [
    {
     "name": "stdout",
     "output_type": "stream",
     "text": [
      "Step [32], acc = 10.1%\n",
      "Step [64], acc = 10.0%\n",
      "Step [128], acc = 12.3%\n",
      "Step [256], acc = 18.3%\n",
      "Step [512], acc = 31.9%\n",
      "Step [1024], acc = 47.6%\n",
      "Step [2048], acc = 82.8%\n",
      "Step [4096], acc = 89.5%\n",
      "Step [8192], acc = 92.3%\n",
      "Step [16384], acc = 94.4%\n",
      "Step [32768], acc = 95.1%\n",
      "CPU times: user 1min 27s, sys: 5.02 s, total: 1min 32s\n",
      "Wall time: 55.7 s\n"
     ]
    }
   ],
   "source": [
    "%time do_train_steps(n=2**15+1)"
   ]
  },
  {
   "cell_type": "code",
   "execution_count": null,
   "metadata": {
    "collapsed": true
   },
   "outputs": [],
   "source": []
  }
 ],
 "metadata": {
  "kernelspec": {
   "display_name": "Python 3",
   "language": "python",
   "name": "python3"
  },
  "language_info": {
   "codemirror_mode": {
    "name": "ipython",
    "version": 3
   },
   "file_extension": ".py",
   "mimetype": "text/x-python",
   "name": "python",
   "nbconvert_exporter": "python",
   "pygments_lexer": "ipython3",
   "version": "3.7.0"
  }
 },
 "nbformat": 4,
 "nbformat_minor": 2
}
