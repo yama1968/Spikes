{
 "cells": [
  {
   "cell_type": "code",
   "execution_count": 1,
   "metadata": {
    "collapsed": false
   },
   "outputs": [],
   "source": [
    "import tensorflow as tf"
   ]
  },
  {
   "cell_type": "code",
   "execution_count": 2,
   "metadata": {
    "collapsed": false
   },
   "outputs": [
    {
     "name": "stdout",
     "output_type": "stream",
     "text": [
      "Extracting MNIST_data/train-images-idx3-ubyte.gz\n",
      "Extracting MNIST_data/train-labels-idx1-ubyte.gz\n",
      "Extracting MNIST_data/t10k-images-idx3-ubyte.gz\n",
      "Extracting MNIST_data/t10k-labels-idx1-ubyte.gz\n"
     ]
    },
    {
     "data": {
      "text/plain": [
       "Datasets(train=<tensorflow.contrib.learn.python.learn.datasets.mnist.DataSet object at 0x7f5565817198>, validation=<tensorflow.contrib.learn.python.learn.datasets.mnist.DataSet object at 0x7f55b1570518>, test=<tensorflow.contrib.learn.python.learn.datasets.mnist.DataSet object at 0x7f55657b5f60>)"
      ]
     },
     "execution_count": 2,
     "metadata": {},
     "output_type": "execute_result"
    }
   ],
   "source": [
    "from tensorflow.examples.tutorials.mnist import input_data\n",
    "mnist = input_data.read_data_sets(\"MNIST_data\", one_hot=True)\n",
    "mnist"
   ]
  },
  {
   "cell_type": "code",
   "execution_count": 3,
   "metadata": {
    "collapsed": false
   },
   "outputs": [],
   "source": [
    "sess = tf.InteractiveSession()"
   ]
  },
  {
   "cell_type": "code",
   "execution_count": 4,
   "metadata": {
    "collapsed": false
   },
   "outputs": [
    {
     "name": "stdout",
     "output_type": "stream",
     "text": [
      "WARNING:tensorflow:From <ipython-input-4-be3ce8250530>:7: initialize_all_variables (from tensorflow.python.ops.variables) is deprecated and will be removed after 2017-03-02.\n",
      "Instructions for updating:\n",
      "Use `tf.global_variables_initializer` instead.\n"
     ]
    }
   ],
   "source": [
    "x = tf.placeholder(tf.float32, shape=[None, 784])\n",
    "y_ = tf.placeholder(tf.float32, shape=[None, 10])\n",
    "\n",
    "W = tf.Variable(tf.zeros([784, 10]))\n",
    "b = tf.Variable(tf.zeros([10]))\n",
    "\n",
    "sess.run(tf.initialize_all_variables())"
   ]
  },
  {
   "cell_type": "code",
   "execution_count": 5,
   "metadata": {
    "collapsed": false
   },
   "outputs": [],
   "source": [
    "y = tf.nn.softmax(tf.matmul(x, W) + b)\n",
    "\n",
    "cross_entropy = tf.reduce_mean(-tf.reduce_sum(y_ * tf.log(y),\n",
    "                                              reduction_indices=[1]))"
   ]
  },
  {
   "cell_type": "code",
   "execution_count": 6,
   "metadata": {
    "collapsed": false
   },
   "outputs": [],
   "source": [
    "train_step = tf.train.GradientDescentOptimizer(0.5) \\\n",
    "    .minimize(cross_entropy)\n",
    "    \n",
    "def do_train_steps(train_step = train_step, \n",
    "                   mnist=mnist, \n",
    "                   n=1001,\n",
    "                   batch_size=50):\n",
    "    \n",
    "    for i in range(n):\n",
    "        \n",
    "        batch = mnist.train.next_batch(batch_size)\n",
    "        train_step.run(feed_dict={x: batch[0], y_: batch[1]})\n",
    "        \n",
    "        if i % 200 == 0:\n",
    "            correct_prediction = tf.equal(tf.argmax(y, 1), tf.argmax(y_, 1))\n",
    "            accuracy = tf.reduce_mean(tf.cast(correct_prediction, tf.float32))\n",
    "            print(\"Step [%d], acc = %.1f%%\" % (\n",
    "                    i,\n",
    "                    100. * accuracy.eval(feed_dict = {x: mnist.test.images,\n",
    "                                                      y_: mnist.test.labels})))"
   ]
  },
  {
   "cell_type": "code",
   "execution_count": 7,
   "metadata": {
    "collapsed": false,
    "scrolled": true
   },
   "outputs": [
    {
     "name": "stdout",
     "output_type": "stream",
     "text": [
      "Step [0], acc = 28.5%\n",
      "Step [200], acc = 89.5%\n",
      "Step [400], acc = 90.3%\n",
      "Step [600], acc = 91.1%\n",
      "Step [800], acc = 89.0%\n",
      "Step [1000], acc = 90.9%\n"
     ]
    }
   ],
   "source": [
    "do_train_steps(n=1001)"
   ]
  },
  {
   "cell_type": "code",
   "execution_count": 8,
   "metadata": {
    "collapsed": false
   },
   "outputs": [
    {
     "name": "stdout",
     "output_type": "stream",
     "text": [
      "WARNING:tensorflow:From <ipython-input-8-d566240edc07>:15: initialize_all_variables (from tensorflow.python.ops.variables) is deprecated and will be removed after 2017-03-02.\n",
      "Instructions for updating:\n",
      "Use `tf.global_variables_initializer` instead.\n"
     ]
    }
   ],
   "source": [
    "x = tf.placeholder(tf.float32, shape=[None, 784])\n",
    "y_ = tf.placeholder(tf.float32, shape=[None, 10])\n",
    "\n",
    "n_hidden = 200\n",
    "\n",
    "W1 = tf.Variable(tf.zeros([784, n_hidden]))\n",
    "b1 = tf.Variable(tf.zeros([n_hidden]))\n",
    "\n",
    "W2 = tf.Variable(tf.zeros([n_hidden, n_hidden]))\n",
    "b2 = tf.Variable(tf.zeros([n_hidden]))\n",
    "\n",
    "W3 = tf.Variable(tf.zeros([n_hidden, 10]))\n",
    "b3 = tf.Variable(tf.zeros([10]))\n",
    "\n",
    "sess.run(tf.initialize_all_variables())\n",
    "\n",
    "y1 = tf.nn.dropout(tf.nn.sigmoid(tf.matmul(x, W1) + b1),  keep_prob=0.5)\n",
    "y2 = tf.nn.dropout(tf.nn.sigmoid(tf.matmul(y1, W2) + b2),  keep_prob=0.5)\n",
    "y3 = tf.nn.softmax(tf.matmul(y2, W3) + b3)\n",
    "\n",
    "cross_entropy = tf.reduce_mean(-tf.reduce_sum(y_ * tf.log(y3),\n",
    "                                              reduction_indices=[1]))"
   ]
  },
  {
   "cell_type": "code",
   "execution_count": 9,
   "metadata": {
    "collapsed": true
   },
   "outputs": [],
   "source": [
    "train_step = tf.train.GradientDescentOptimizer(0.5) \\\n",
    "    .minimize(cross_entropy)\n",
    "    \n",
    "def do_train_steps(train_step = train_step, \n",
    "                   mnist=mnist, \n",
    "                   n=1001,\n",
    "                   batch_size=50):\n",
    "    \n",
    "    c = 32\n",
    "    \n",
    "    for i in range(n):\n",
    "        \n",
    "        batch = mnist.train.next_batch(batch_size)\n",
    "        train_step.run(feed_dict={x: batch[0], y_: batch[1]})\n",
    "        \n",
    "        if i >= c:\n",
    "            c *= 2\n",
    "            correct_prediction = tf.equal(tf.argmax(y3, 1), tf.argmax(y_, 1))\n",
    "            accuracy = tf.reduce_mean(tf.cast(correct_prediction, tf.float32))\n",
    "            print(\"Step [%d], acc = %.1f%%\" % (\n",
    "                    i,\n",
    "                    100. * accuracy.eval(feed_dict = {x: mnist.test.images,\n",
    "                                                      y_: mnist.test.labels})))"
   ]
  },
  {
   "cell_type": "code",
   "execution_count": 10,
   "metadata": {
    "collapsed": false
   },
   "outputs": [
    {
     "name": "stdout",
     "output_type": "stream",
     "text": [
      "Step [32], acc = 11.0%\n",
      "Step [64], acc = 11.2%\n",
      "Step [128], acc = 12.5%\n",
      "Step [256], acc = 20.4%\n",
      "Step [512], acc = 31.4%\n",
      "Step [1024], acc = 49.9%\n",
      "Step [2048], acc = 83.2%\n",
      "Step [4096], acc = 89.1%\n",
      "Step [8192], acc = 92.8%\n",
      "Step [16384], acc = 94.6%\n",
      "Step [32768], acc = 95.4%\n",
      "CPU times: user 1min 41s, sys: 7.4 s, total: 1min 48s\n",
      "Wall time: 1min 12s\n"
     ]
    }
   ],
   "source": [
    "%time do_train_steps(n=2**15+1)"
   ]
  },
  {
   "cell_type": "code",
   "execution_count": null,
   "metadata": {
    "collapsed": true
   },
   "outputs": [],
   "source": []
  }
 ],
 "metadata": {
  "kernelspec": {
   "display_name": "Python [tf]",
   "language": "python",
   "name": "Python [tf]"
  },
  "language_info": {
   "codemirror_mode": {
    "name": "ipython",
    "version": 3
   },
   "file_extension": ".py",
   "mimetype": "text/x-python",
   "name": "python",
   "nbconvert_exporter": "python",
   "pygments_lexer": "ipython3",
   "version": "3.5.2"
  }
 },
 "nbformat": 4,
 "nbformat_minor": 0
}
