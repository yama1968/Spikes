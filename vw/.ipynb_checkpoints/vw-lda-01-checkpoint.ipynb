{
 "metadata": {
  "name": "",
  "signature": "sha256:004ef7c3321d032c44455f6e1752a526d56b3a998579cd6c1abecc4e11c7972b"
 },
 "nbformat": 3,
 "nbformat_minor": 0,
 "worksheets": [
  {
   "cells": [
    {
     "cell_type": "code",
     "collapsed": false,
     "input": [
      "import os, sys\n",
      "\n",
      "documents = [\"Human machine interface for lab abc computer applications\",\n",
      "             \"A survey of user opinion of computer system response time\",\n",
      "             \"The EPS user interface management system\",\n",
      "             \"System and human system engineering testing of EPS\",\n",
      "             \"Relation of user perceived response time to error measurement\",\n",
      "             \"The generation of random binary unordered trees\",\n",
      "             \"The intersection graph of paths in trees\",\n",
      "             \"Graph minors IV Widths of trees and well quasi ordering\",\n",
      "             \"Graph minors A survey\"]\n",
      "\n",
      "f_in = \"/tmp/mytext.vw\"\n",
      "f_lda = \"lda.model.vw\"\n",
      "\n",
      "with open(f_in, \"w\") as f:\n",
      "    for i in documents:\n",
      "        f.write(\"| \" + i + \"\\n\")\n",
      "\n",
      "cmd = \"vw -d /tmp/mytext.vw --lda 3 --readable_model %s --lda_D 10\" % f_lda\n",
      "os.system(cmd)\n",
      "\n",
      "with open(f_lda) as f:\n",
      "    for i in range(30):\n",
      "        l = f.readline()\n",
      "        sys.stdout.write(l)"
     ],
     "language": "python",
     "metadata": {},
     "outputs": [
      {
       "output_type": "stream",
       "stream": "stdout",
       "text": [
        "Version 7.8.0\n",
        "Min label:0.000000\n",
        "Max label:1.000000\n",
        "bits:18\n",
        "0 pairs: \n",
        "0 triples: \n",
        "rank:0\n",
        "lda:3\n",
        "0 ngram: \n",
        "0 skip: \n",
        "options: --lda 3\n",
        "0 0.100350 0.100334 0.100213 \n",
        "1 0.100771 0.100366 0.100257 \n",
        "2 0.100172 0.100291 0.100634 \n",
        "3 0.100631 0.100825 0.100308 \n",
        "4 0.100190 0.100381 0.100252 \n",
        "5 0.100392 0.100201 0.100259 \n",
        "6 0.100509 0.100187 0.100240 \n",
        "7 0.100186 0.100252 0.100314 \n",
        "8 0.100293 0.100312 0.100617 \n",
        "9 0.100177 0.100401 0.100212 \n",
        "10 0.100338 0.100347 0.100209 \n",
        "11 0.100213 0.100278 0.100166 \n",
        "12 0.100291 0.100208 0.100338 \n",
        "13 0.100262 0.100215 0.100207 \n",
        "14 0.100167 0.100153 0.100229 \n",
        "15 0.100346 0.100409 0.100174 \n",
        "16 0.100224 0.100252 0.100304 \n",
        "17 0.100189 0.100176 0.100281 \n",
        "18 0.100162 0.100230 0.100271 \n"
       ]
      }
     ],
     "prompt_number": 24
    },
    {
     "cell_type": "code",
     "collapsed": false,
     "input": [
      "# remove common words and tokenize\n",
      "stoplist = set('for a of the and to in'.split())\n",
      "texts = [[word for word in document.lower().split() if word not in stoplist]\n",
      "         for document in documents]\n",
      "\n",
      "# remove words that appear only once\n",
      "all_tokens = sum(texts, [])\n",
      "tokens_once = set(word for word in set(all_tokens) if all_tokens.count(word) == 1)\n",
      "texts = [[word for word in text if word not in tokens_once]\n",
      "         for text in texts]\n",
      "print(texts)"
     ],
     "language": "python",
     "metadata": {},
     "outputs": [
      {
       "output_type": "stream",
       "stream": "stdout",
       "text": [
        "[['human', 'interface', 'computer'], ['survey', 'user', 'computer', 'system', 'response', 'time'], ['eps', 'user', 'interface', 'system'], ['system', 'human', 'system', 'eps'], ['user', 'response', 'time'], ['trees'], ['graph', 'trees'], ['graph', 'minors', 'trees'], ['graph', 'minors', 'survey']]\n"
       ]
      }
     ],
     "prompt_number": 25
    },
    {
     "cell_type": "code",
     "collapsed": false,
     "input": [
      "import logging\n",
      "logging.basicConfig(format='%(asctime)s : %(levelname)s : %(message)s', level=logging.INFO)\n",
      "\n",
      "from gensim import corpora, models, similarities\n",
      "\n",
      "dictionary = corpora.Dictionary(texts)\n",
      "dictionary.save('/tmp/deerwester.dict') # store the dictionary, for future reference\n",
      "print(dictionary)"
     ],
     "language": "python",
     "metadata": {},
     "outputs": [
      {
       "output_type": "stream",
       "stream": "stdout",
       "text": [
        "Dictionary(12 unique tokens: [u'minors', u'graph', u'system', u'trees', u'eps']...)\n"
       ]
      }
     ],
     "prompt_number": 26
    },
    {
     "cell_type": "code",
     "collapsed": false,
     "input": [
      "new_doc = \"Human computer interaction and user interface management for human\"\n",
      "new_vec = dictionary.doc2bow(new_doc.lower().split())\n",
      "print(new_vec) # the word \"interaction\" does not appear in the dictionary and is ignored"
     ],
     "language": "python",
     "metadata": {},
     "outputs": [
      {
       "output_type": "stream",
       "stream": "stdout",
       "text": [
        "[(0, 1), (1, 2), (2, 1), (7, 1)]\n"
       ]
      }
     ],
     "prompt_number": 27
    },
    {
     "cell_type": "code",
     "collapsed": false,
     "input": [
      "corpus = [dictionary.doc2bow(t) for t in texts]\n",
      "\n",
      "dictionary.save('/tmp/deerwester.dict')\n",
      "corpora.SvmLightCorpus.serialize('/tmp/corpus.svmlight', corpus)\n",
      "with open(\"/tmp/corpus.svmlight\") as f:\n",
      "    print f.read()"
     ],
     "language": "python",
     "metadata": {},
     "outputs": [
      {
       "output_type": "stream",
       "stream": "stdout",
       "text": [
        "0 1:1 2:1 3:1\n",
        "0 1:1 4:1 5:1 6:1 7:1 8:1\n",
        "0 3:1 6:1 8:1 9:1\n",
        "0 2:1 6:2 9:1\n",
        "0 4:1 7:1 8:1\n",
        "0 10:1\n",
        "0 10:1 11:1\n",
        "0 10:1 11:1 12:1\n",
        "0 5:1 11:1 12:1\n",
        "\n"
       ]
      }
     ],
     "prompt_number": 28
    },
    {
     "cell_type": "code",
     "collapsed": false,
     "input": [
      "dictionary = corpora.Dictionary.load('/tmp/deerwester.dict')\n",
      "corpus = corpora.SvmLightCorpus(\"/tmp/corpus.svmlight\")\n",
      "print corpus"
     ],
     "language": "python",
     "metadata": {},
     "outputs": [
      {
       "output_type": "stream",
       "stream": "stdout",
       "text": [
        "<gensim.corpora.svmlightcorpus.SvmLightCorpus object at 0x7fe5c9bf7610>\n"
       ]
      }
     ],
     "prompt_number": 29
    },
    {
     "cell_type": "code",
     "collapsed": false,
     "input": [
      "tfidf = models.TfidfModel(corpus)\n",
      "corpus_tfidf = tfidf[corpus]\n",
      "for doc in corpus_tfidf:\n",
      "     print(doc)"
     ],
     "language": "python",
     "metadata": {},
     "outputs": [
      {
       "output_type": "stream",
       "stream": "stdout",
       "text": [
        "[(0, 0.5773502691896257), (1, 0.5773502691896257), (2, 0.5773502691896257)]\n",
        "[(0, 0.44424552527467476), (3, 0.44424552527467476), (4, 0.44424552527467476), (5, 0.3244870206138555), (6, 0.44424552527467476), (7, 0.3244870206138555)]\n",
        "[(2, 0.5710059809418182), (5, 0.4170757362022777), (7, 0.4170757362022777), (8, 0.5710059809418182)]\n",
        "[(1, 0.49182558987264147), (5, 0.7184811607083769), (8, 0.49182558987264147)]\n",
        "[(3, 0.6282580468670046), (6, 0.6282580468670046), (7, 0.45889394536615247)]\n",
        "[(9, 1.0)]\n",
        "[(9, 0.7071067811865475), (10, 0.7071067811865475)]\n",
        "[(9, 0.5080429008916749), (10, 0.5080429008916749), (11, 0.695546419520037)]\n",
        "[(4, 0.6282580468670046), (10, 0.45889394536615247), (11, 0.6282580468670046)]\n"
       ]
      }
     ],
     "prompt_number": 30
    },
    {
     "cell_type": "code",
     "collapsed": false,
     "input": [
      "model = models.LsiModel(corpus_tfidf, id2word=dictionary, num_topics=3)\n",
      "corpus_lsi = model[corpus]\n",
      "for doc in corpus_lsi:\n",
      "    print doc"
     ],
     "language": "python",
     "metadata": {},
     "outputs": [
      {
       "output_type": "stream",
       "stream": "stdout",
       "text": [
        "[(0, 0.11432892211785882), (1, -0.90078823617101611), (2, -0.65210987555291533)]\n",
        "[(0, 0.47495894134526739), (1, -1.9374574961566402), (2, 1.1263609164738184)]\n",
        "[(0, 0.18972762200487894), (1, -1.4928026686164642), (2, -0.7335644613109622)]\n",
        "[(0, 0.18731960517322882), (1, -1.5332646148186704), (2, -1.2460682479685148)]\n",
        "[(0, 0.17726201980296222), (1, -1.0136760025289251), (2, 1.1253408867469319)]\n",
        "[(0, 0.70321089393783009), (1, 0.16115180214025998), (2, -0.18266089635241542)]\n",
        "[(0, 1.2409423734270302), (1, 0.23700673378549242), (2, -0.15387806950987781)]\n",
        "[(0, 1.6426560442980496), (1, 0.26641662958808399), (2, -0.040229523060851466)]\n",
        "[(0, 1.1263762516982823), (1, -0.06539028592830054), (2, 0.41473684022385815)]\n"
       ]
      }
     ],
     "prompt_number": 31
    },
    {
     "cell_type": "code",
     "collapsed": false,
     "input": [],
     "language": "python",
     "metadata": {},
     "outputs": [],
     "prompt_number": 31
    }
   ],
   "metadata": {}
  }
 ]
}