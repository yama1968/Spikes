{
 "cells": [
  {
   "cell_type": "code",
   "execution_count": 6,
   "metadata": {},
   "outputs": [
    {
     "name": "stdout",
     "output_type": "stream",
     "text": [
      "0 {'colsample_bylevel': 0.3503300926605101, 'colsample_bytree': 0.20940296491467594, 'eta': 0.2333506650560381, 'gamma': 22.66172681623253, 'max_depth': 9, 'subsample': 0.8735160930695278, 'objective': 'binary:logistic', 'silent': True}  =>  -0.830764142857143\n",
      "     test-auc-mean  test-auc-std  train-auc-mean  train-auc-std\n",
      "106       0.830764      0.028097        0.844494       0.008394\n",
      "0:00:00.515176\n",
      "2 {'colsample_bylevel': 0.8732814735172721, 'colsample_bytree': 0.2479004807725096, 'eta': 0.03390206253614466, 'gamma': 0.5774433684659517, 'max_depth': 6, 'subsample': 0.3685519377511912, 'objective': 'binary:logistic', 'silent': True}  =>  -0.8355104285714287\n",
      "    test-auc-mean  test-auc-std  train-auc-mean  train-auc-std\n",
      "60        0.83551      0.025908        0.911977       0.007368\n",
      "0:00:01.226509\n",
      "3 {'colsample_bylevel': 0.9874155956927094, 'colsample_bytree': 0.9171240267070774, 'eta': 0.0332254079953736, 'gamma': 1.4255394727886692, 'max_depth': 6, 'subsample': 0.20474734641107056, 'objective': 'binary:logistic', 'silent': True}  =>  -0.8575095714285713\n",
      "    test-auc-mean  test-auc-std  train-auc-mean  train-auc-std\n",
      "54        0.85751      0.018714        0.912074       0.003563\n",
      "0:00:01.618352\n",
      "16 {'colsample_bylevel': 0.374017829154755, 'colsample_bytree': 0.7579723809489919, 'eta': 0.10322547891953329, 'gamma': 3.9610342917831556, 'max_depth': 5, 'subsample': 0.8571117895730183, 'objective': 'binary:logistic', 'silent': True}  =>  -0.862445142857143\n",
      "     test-auc-mean  test-auc-std  train-auc-mean  train-auc-std\n",
      "189       0.862445      0.017404        0.953501       0.001683\n",
      "0:00:07.372324\n",
      "107 {'colsample_bylevel': 0.7011376184070897, 'colsample_bytree': 0.9273388168815301, 'eta': 0.08446736422344621, 'gamma': 4.624715299089163, 'max_depth': 10, 'subsample': 0.26918730974394356, 'objective': 'binary:logistic', 'silent': True}  =>  -0.8644631428571429\n",
      "    test-auc-mean  test-auc-std  train-auc-mean  train-auc-std\n",
      "75       0.864463      0.017776        0.903224       0.005095\n",
      "0:01:04.229988\n",
      "262 {'colsample_bylevel': 0.9050090918943751, 'colsample_bytree': 0.7556138614564084, 'eta': 0.13125658973284576, 'gamma': 0.49502643112385725, 'max_depth': 5, 'subsample': 0.38694532875482307, 'objective': 'binary:logistic', 'silent': True}  =>  -0.8649804285714285\n",
      "    test-auc-mean  test-auc-std  train-auc-mean  train-auc-std\n",
      "50        0.86498      0.016413        0.971325       0.002469\n",
      "0:02:45.110994\n",
      "263 {'colsample_bylevel': 0.8935059856587279, 'colsample_bytree': 0.7454796241421747, 'eta': 0.13183928352102295, 'gamma': 0.6605427771354448, 'max_depth': 5, 'subsample': 0.4374397342613749, 'objective': 'binary:logistic', 'silent': True}  =>  -0.8651724285714285\n",
      "    test-auc-mean  test-auc-std  train-auc-mean  train-auc-std\n",
      "32       0.865172      0.015831        0.957069       0.002946\n",
      "0:02:46.609416\n",
      "304 {'colsample_bylevel': 0.9198180687807533, 'colsample_bytree': 0.9143841093736774, 'eta': 0.15478625090904952, 'gamma': 5.739149937786068, 'max_depth': 5, 'subsample': 0.5405758044065806, 'objective': 'binary:logistic', 'silent': True}  =>  -0.8678415714285713\n",
      "    test-auc-mean  test-auc-std  train-auc-mean  train-auc-std\n",
      "47       0.867842        0.0151         0.91364       0.002839\n",
      "0:03:20.657541\n",
      "{'colsample_bylevel': 0.9198180687807533, 'colsample_bytree': 0.9143841093736774, 'eta': 0.15478625090904952, 'gamma': 5.739149937786068, 'max_depth': 5, 'subsample': 0.5405758044065806, 'objective': 'binary:logistic', 'silent': True}\n"
     ]
    }
   ],
   "source": [
    "# No one-hot, xgboost with hyperopt\n",
    "\n",
    "%run couples-lime.py noonehost hyperopt"
   ]
  },
  {
   "cell_type": "code",
   "execution_count": 7,
   "metadata": {},
   "outputs": [
    {
     "name": "stdout",
     "output_type": "stream",
     "text": [
      "0 {'colsample_bylevel': 0.8504559715547482, 'colsample_bytree': 0.48208586028576295, 'eta': 0.04948735461961558, 'gamma': 2.7236495887192147, 'max_depth': 9, 'subsample': 0.22928807221967712, 'objective': 'binary:logistic', 'silent': True}  =>  -0.8596952857142857\n",
      "     test-auc-mean  test-auc-std  train-auc-mean  train-auc-std\n",
      "107       0.859695      0.014833         0.91391       0.003092\n",
      "0:00:01.002614\n",
      "18 {'colsample_bylevel': 0.9070268105366545, 'colsample_bytree': 0.5125387622460003, 'eta': 0.04802905245633772, 'gamma': 3.5333451825555993, 'max_depth': 9, 'subsample': 0.40304122447522694, 'objective': 'binary:logistic', 'silent': True}  =>  -0.8615250000000001\n",
      "    test-auc-mean  test-auc-std  train-auc-mean  train-auc-std\n",
      "78       0.861525      0.014633        0.916666       0.004062\n",
      "0:00:17.086877\n",
      "71 {'colsample_bylevel': 0.9519369233930538, 'colsample_bytree': 0.8463300377800943, 'eta': 0.11938500941856824, 'gamma': 3.4656919540065583, 'max_depth': 4, 'subsample': 0.6294908385402628, 'objective': 'binary:logistic', 'silent': True}  =>  -0.865203\n",
      "    test-auc-mean  test-auc-std  train-auc-mean  train-auc-std\n",
      "47       0.865203      0.017543        0.932407       0.005188\n",
      "0:01:00.866316\n",
      "868 {'colsample_bylevel': 0.9357395833897433, 'colsample_bytree': 0.5870547295607346, 'eta': 0.18681787889857712, 'gamma': 2.4423010301324264, 'max_depth': 5, 'subsample': 0.6272383890288548, 'objective': 'binary:logistic', 'silent': True}  =>  -0.8655171428571428\n",
      "    test-auc-mean  test-auc-std  train-auc-mean  train-auc-std\n",
      "16       0.865517      0.015523        0.928815       0.002571\n",
      "0:16:27.635350\n",
      "{'colsample_bylevel': 0.9357395833897433, 'colsample_bytree': 0.5870547295607346, 'eta': 0.18681787889857712, 'gamma': 2.4423010301324264, 'max_depth': 5, 'subsample': 0.6272383890288548, 'objective': 'binary:logistic', 'silent': True}\n"
     ]
    }
   ],
   "source": [
    "%run couples-lime.py onehot hyperopt"
   ]
  },
  {
   "cell_type": "code",
   "execution_count": 8,
   "metadata": {},
   "outputs": [
    {
     "name": "stdout",
     "output_type": "stream",
     "text": [
      "Types [1, 2, 1, 2, 2, 2] and maxint [9, 9, 29, 16, 16, 16] detected\n",
      "--- Evolve in 14739000 possible combinations ---\n",
      "gen\tnevals\tavg     \tmin\tmax     \tstd      \n",
      "0  \t200   \t0.804165\t0.5\t0.859048\t0.0975845\n",
      "1  \t127   \t0.851588\t0.816186\t0.863055\t0.00695789\n",
      "2  \t114   \t0.854716\t0.5     \t0.864383\t0.0259474 \n",
      "3  \t96    \t0.858855\t0.8122  \t0.864383\t0.00644814\n",
      "4  \t128   \t0.858397\t0.5     \t0.864849\t0.0260644 \n",
      "5  \t110   \t0.862579\t0.832167\t0.86737 \t0.00413889\n",
      "6  \t122   \t0.859057\t0.5     \t0.86737 \t0.0362892 \n",
      "7  \t116   \t0.863878\t0.831926\t0.86737 \t0.00383563\n",
      "8  \t115   \t0.865146\t0.831488\t0.86737 \t0.00632459\n",
      "9  \t112   \t0.862573\t0.5     \t0.870661\t0.0366849 \n",
      "10 \t120   \t0.865932\t0.831507\t0.870661\t0.00525976\n",
      "11 \t117   \t0.86674 \t0.831611\t0.870661\t0.00477915\n",
      "12 \t119   \t0.866352\t0.5     \t0.870661\t0.026586  \n",
      "13 \t121   \t0.866426\t0.5     \t0.870661\t0.0271385 \n",
      "14 \t126   \t0.868582\t0.833139\t0.870661\t0.00637853\n",
      "15 \t124   \t0.866646\t0.5     \t0.870661\t0.0268958 \n",
      "16 \t110   \t0.868999\t0.830592\t0.870661\t0.00623185\n",
      "17 \t115   \t0.866633\t0.5     \t0.870661\t0.0268378 \n",
      "18 \t121   \t0.86891 \t0.830407\t0.870661\t0.00628225\n",
      "19 \t137   \t0.86873 \t0.841688\t0.870661\t0.0054804 \n",
      "20 \t123   \t0.867105\t0.5     \t0.870661\t0.0266564 \n",
      "21 \t128   \t0.867087\t0.5     \t0.870661\t0.0267352 \n",
      "22 \t107   \t0.86843 \t0.830592\t0.870661\t0.00684713\n",
      "23 \t119   \t0.868419\t0.828594\t0.870661\t0.00605519\n",
      "24 \t124   \t0.867577\t0.82668 \t0.870661\t0.00871115\n",
      "25 \t112   \t0.868064\t0.830592\t0.870661\t0.00718094\n",
      "26 \t110   \t0.868866\t0.833588\t0.870661\t0.00562401\n",
      "27 \t127   \t0.869001\t0.837634\t0.870661\t0.00535919\n",
      "28 \t120   \t0.866417\t0.5     \t0.870661\t0.02669   \n",
      "29 \t129   \t0.863563\t0.5     \t0.870661\t0.0451817 \n",
      "30 \t119   \t0.868866\t0.835913\t0.870661\t0.00529128\n",
      "31 \t124   \t0.86841 \t0.8183  \t0.870661\t0.00674843\n",
      "32 \t125   \t0.867975\t0.805328\t0.870661\t0.00838351\n",
      "33 \t121   \t0.864357\t0.5     \t0.870661\t0.0372907 \n",
      "34 \t110   \t0.866037\t0.5     \t0.870661\t0.0370871 \n",
      "35 \t121   \t0.869247\t0.840779\t0.870661\t0.00480976\n",
      "36 \t113   \t0.869242\t0.847551\t0.870661\t0.00419022\n",
      "37 \t118   \t0.86888 \t0.838   \t0.870661\t0.0053121 \n",
      "38 \t115   \t0.869446\t0.833616\t0.870661\t0.00453583\n",
      "39 \t116   \t0.868323\t0.753082\t0.870661\t0.009603  \n",
      "40 \t127   \t0.868642\t0.829007\t0.870661\t0.00623602\n",
      "Best individual is: {'max_depth': 3, 'learning_rate': 0.14319442689206871, 'gamma': 5, 'colsample_bytree': 0.84999999999999987, 'colsample_bylevel': 0.69999999999999996, 'subsample': 0.54999999999999993}\n",
      "with fitness: 0.870660937153356\n"
     ]
    }
   ],
   "source": [
    "%run couples-lime.py deap noonehot"
   ]
  },
  {
   "cell_type": "code",
   "execution_count": 9,
   "metadata": {},
   "outputs": [
    {
     "name": "stdout",
     "output_type": "stream",
     "text": [
      "Types [1, 2, 1, 2, 2, 2] and maxint [9, 9, 29, 16, 16, 16] detected\n",
      "--- Evolve in 14739000 possible combinations ---\n",
      "gen\tnevals\tavg     \tmin\tmax     \tstd      \n",
      "0  \t200   \t0.809494\t0.5\t0.861775\t0.0979547\n",
      "1  \t136   \t0.851846\t0.818536\t0.865285\t0.00681642\n",
      "2  \t115   \t0.854731\t0.5     \t0.865285\t0.0257996 \n",
      "3  \t107   \t0.859276\t0.830244\t0.865285\t0.00605207\n",
      "4  \t126   \t0.859327\t0.5     \t0.866731\t0.0264613 \n",
      "5  \t123   \t0.862924\t0.814377\t0.866731\t0.00769628\n",
      "6  \t122   \t0.861076\t0.5     \t0.866731\t0.0263455 \n",
      "7  \t126   \t0.862086\t0.5     \t0.866731\t0.0261394 \n",
      "8  \t122   \t0.862707\t0.5     \t0.867094\t0.0264298 \n",
      "9  \t104   \t0.865469\t0.836446\t0.868623\t0.00449496\n",
      "10 \t121   \t0.863443\t0.5     \t0.868623\t0.0262662 \n",
      "11 \t117   \t0.866344\t0.838008\t0.868623\t0.00453115\n",
      "12 \t115   \t0.864852\t0.5     \t0.869007\t0.0265862 \n",
      "13 \t114   \t0.864352\t0.5     \t0.869007\t0.0367277 \n",
      "14 \t123   \t0.867232\t0.826796\t0.869007\t0.00579676\n",
      "15 \t112   \t0.865382\t0.5     \t0.869007\t0.0266052 \n",
      "16 \t114   \t0.86727 \t0.831583\t0.869007\t0.00586317\n",
      "17 \t116   \t0.867001\t0.837955\t0.869007\t0.00552657\n",
      "18 \t124   \t0.867648\t0.832155\t0.869007\t0.00501802\n",
      "19 \t139   \t0.865984\t0.5     \t0.869007\t0.0262449 \n",
      "20 \t112   \t0.865787\t0.5     \t0.869007\t0.0264314 \n",
      "21 \t134   \t0.86557 \t0.5     \t0.869007\t0.0265472 \n",
      "22 \t105   \t0.866997\t0.837955\t0.869007\t0.00609858\n",
      "23 \t121   \t0.867214\t0.835955\t0.869007\t0.00535439\n",
      "24 \t132   \t0.866508\t0.837121\t0.869007\t0.00701108\n",
      "25 \t118   \t0.866636\t0.826221\t0.869007\t0.00689876\n",
      "26 \t104   \t0.867855\t0.835079\t0.869007\t0.00396724\n",
      "27 \t122   \t0.867129\t0.828366\t0.869007\t0.00611166\n",
      "28 \t128   \t0.865077\t0.5     \t0.869007\t0.0265589 \n",
      "29 \t133   \t0.865533\t0.5     \t0.869007\t0.0266078 \n",
      "30 \t124   \t0.865653\t0.5     \t0.869007\t0.0263892 \n",
      "31 \t133   \t0.86695 \t0.828782\t0.869007\t0.00628952\n",
      "32 \t131   \t0.86642 \t0.804172\t0.869007\t0.00795488\n",
      "33 \t121   \t0.865043\t0.5     \t0.869007\t0.0265299 \n",
      "34 \t102   \t0.864422\t0.5     \t0.869007\t0.0368118 \n",
      "35 \t127   \t0.868014\t0.834687\t0.869007\t0.00379773\n",
      "36 \t115   \t0.867466\t0.847124\t0.869007\t0.00428283\n",
      "37 \t111   \t0.865383\t0.5     \t0.869007\t0.0265258 \n",
      "38 \t125   \t0.866255\t0.5     \t0.869007\t0.0262322 \n",
      "39 \t118   \t0.867048\t0.826092\t0.869007\t0.00583527\n",
      "40 \t135   \t0.867092\t0.836959\t0.869007\t0.00607195\n",
      "Best individual is: {'max_depth': 7, 'learning_rate': 0.076630943239355306, 'gamma': 4, 'colsample_bytree': 0.69999999999999996, 'colsample_bylevel': 0.74999999999999978, 'subsample': 0.59999999999999987}\n",
      "with fitness: 0.8690068275859294\n"
     ]
    }
   ],
   "source": [
    "%run couples-lime.py deap onehot"
   ]
  },
  {
   "cell_type": "code",
   "execution_count": null,
   "metadata": {
    "collapsed": true
   },
   "outputs": [],
   "source": []
  }
 ],
 "metadata": {
  "kernelspec": {
   "display_name": "Python 3",
   "language": "python",
   "name": "python3"
  },
  "language_info": {
   "codemirror_mode": {
    "name": "ipython",
    "version": 3
   },
   "file_extension": ".py",
   "mimetype": "text/x-python",
   "name": "python",
   "nbconvert_exporter": "python",
   "pygments_lexer": "ipython3",
   "version": "3.6.1"
  }
 },
 "nbformat": 4,
 "nbformat_minor": 2
}
