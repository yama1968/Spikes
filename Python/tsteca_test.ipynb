{
 "cells": [
  {
   "cell_type": "markdown",
   "metadata": {},
   "source": [
    "## Load the digits dataset and evolutionary_search"
   ]
  },
  {
   "cell_type": "code",
   "execution_count": 2,
   "metadata": {
    "collapsed": false,
    "scrolled": false
   },
   "outputs": [
    {
     "data": {
      "text/plain": [
       "((1797, 64), (1797,))"
      ]
     },
     "execution_count": 2,
     "metadata": {},
     "output_type": "execute_result"
    }
   ],
   "source": [
    "from evolutionary_search import EvolutionaryAlgorithmSearchCV\n",
    "import sklearn.datasets\n",
    "import numpy as np\n",
    "\n",
    "data = sklearn.datasets.load_digits()\n",
    "X = data[\"data\"]\n",
    "y = data[\"target\"]\n",
    "\n",
    "# make it a 2-class problem by only classifying the digit \"5\" vs the rest\n",
    "y = np.array([1 if yy == 5 else 0 for yy in y])\n",
    "\n",
    "X.shape, y.shape"
   ]
  },
  {
   "cell_type": "markdown",
   "metadata": {},
   "source": [
    "## Train an SVM with RBF kernel"
   ]
  },
  {
   "cell_type": "markdown",
   "metadata": {},
   "source": [
    "### Using conventional GridSearchCV"
   ]
  },
  {
   "cell_type": "markdown",
   "metadata": {},
   "source": [
    "Parameter grid: 625 parameter combinations"
   ]
  },
  {
   "cell_type": "code",
   "execution_count": 3,
   "metadata": {
    "collapsed": true
   },
   "outputs": [],
   "source": [
    "paramgrid = {\"kernel\": [\"rbf\"],\n",
    "             \"C\"     : np.logspace(-9, 9, num=25, base=10),\n",
    "             \"gamma\" : np.logspace(-9, 9, num=25, base=10)}"
   ]
  },
  {
   "cell_type": "code",
   "execution_count": 4,
   "metadata": {
    "collapsed": false
   },
   "outputs": [
    {
     "name": "stderr",
     "output_type": "stream",
     "text": [
      "[Parallel(n_jobs=1)]: Done   1 jobs       | elapsed:    0.1s\n",
      "[Parallel(n_jobs=1)]: Done  50 jobs       | elapsed:    3.3s\n",
      "[Parallel(n_jobs=1)]: Done 200 jobs       | elapsed:   12.7s\n",
      "[Parallel(n_jobs=1)]: Done 450 jobs       | elapsed:   28.3s\n",
      "[Parallel(n_jobs=1)]: Done 800 jobs       | elapsed:   50.1s\n",
      "[Parallel(n_jobs=1)]: Done 1250 jobs       | elapsed:  1.3min\n",
      "[Parallel(n_jobs=1)]: Done 1800 jobs       | elapsed:  1.9min\n",
      "[Parallel(n_jobs=1)]: Done 2450 jobs       | elapsed:  3.0min\n",
      "[Parallel(n_jobs=1)]: Done 3200 jobs       | elapsed:  5.7min\n",
      "[Parallel(n_jobs=1)]: Done 4050 jobs       | elapsed:  9.0min\n",
      "[Parallel(n_jobs=1)]: Done 5000 jobs       | elapsed: 12.7min\n",
      "[Parallel(n_jobs=1)]: Done 6050 jobs       | elapsed: 16.5min\n"
     ]
    },
    {
     "name": "stdout",
     "output_type": "stream",
     "text": [
      "Fitting 10 folds for each of 625 candidates, totalling 6250 fits\n",
      "CPU times: user 17min 15s, sys: 13 s, total: 17min 28s\n",
      "Wall time: 17min 30s\n"
     ]
    },
    {
     "name": "stderr",
     "output_type": "stream",
     "text": [
      "[Parallel(n_jobs=1)]: Done 6250 out of 6250 | elapsed: 17.5min finished\n"
     ]
    },
    {
     "data": {
      "text/plain": [
       "GridSearchCV(cv=sklearn.cross_validation.StratifiedKFold(labels=[0 0 ..., 0 0], n_folds=10, shuffle=False, random_state=None),\n",
       "       error_score='raise',\n",
       "       estimator=SVC(C=1.0, cache_size=200, class_weight=None, coef0=0.0, degree=3, gamma=0.0,\n",
       "  kernel='rbf', max_iter=-1, probability=False, random_state=None,\n",
       "  shrinking=True, tol=0.001, verbose=False),\n",
       "       fit_params={}, iid=True, loss_func=None, n_jobs=1,\n",
       "       param_grid={'kernel': ['rbf'], 'C': array([  1.00000e-09,   5.62341e-09,   3.16228e-08,   1.77828e-07,\n",
       "         1.00000e-06,   5.62341e-06,   3.16228e-05,   1.77828e-04,\n",
       "         1.00000e-03,   5.62341e-03,   3.16228e-02,   1.77828e-01,\n",
       "         1.00000e+00,   5.62341e+00,   3.16228e+01,   1.77828e+...7828e+05,\n",
       "         1.00000e+06,   5.62341e+06,   3.16228e+07,   1.77828e+08,\n",
       "         1.00000e+09])},\n",
       "       pre_dispatch='2*n_jobs', refit=True, score_func=None,\n",
       "       scoring='accuracy', verbose=1)"
      ]
     },
     "execution_count": 4,
     "metadata": {},
     "output_type": "execute_result"
    }
   ],
   "source": [
    "from sklearn.cross_validation import StratifiedKFold\n",
    "from sklearn.grid_search import GridSearchCV\n",
    "from sklearn.svm import SVC\n",
    "\n",
    "cv = GridSearchCV(estimator=SVC(),\n",
    "                  param_grid=paramgrid,\n",
    "                  scoring=\"accuracy\",\n",
    "                  cv=StratifiedKFold(y, n_folds=10),\n",
    "                  verbose=1)\n",
    "%time cv.fit(X, y)"
   ]
  },
  {
   "cell_type": "markdown",
   "metadata": {},
   "source": [
    "### Best score + params"
   ]
  },
  {
   "cell_type": "code",
   "execution_count": 5,
   "metadata": {
    "collapsed": false
   },
   "outputs": [
    {
     "data": {
      "text/plain": [
       "(0.99443516972732326, {'C': 1.0, 'gamma': 0.001, 'kernel': 'rbf'})"
      ]
     },
     "execution_count": 5,
     "metadata": {},
     "output_type": "execute_result"
    }
   ],
   "source": [
    "cv.best_score_, cv.best_params_"
   ]
  },
  {
   "cell_type": "markdown",
   "metadata": {},
   "source": [
    "### Using RandomizedSearchCV"
   ]
  },
  {
   "cell_type": "markdown",
   "metadata": {},
   "source": [
    "Same parameter space, but only test 250 random combinations."
   ]
  },
  {
   "cell_type": "code",
   "execution_count": 6,
   "metadata": {
    "collapsed": true
   },
   "outputs": [],
   "source": [
    "paramgrid = {\"kernel\": [\"rbf\"],\n",
    "             \"C\"     : np.logspace(-9, 9, num=100, base=10),\n",
    "             \"gamma\" : np.logspace(-9, 9, num=100, base=10)}"
   ]
  },
  {
   "cell_type": "code",
   "execution_count": 7,
   "metadata": {
    "collapsed": false,
    "scrolled": false
   },
   "outputs": [
    {
     "name": "stderr",
     "output_type": "stream",
     "text": [
      "[Parallel(n_jobs=1)]: Done   1 jobs       | elapsed:    0.1s\n",
      "[Parallel(n_jobs=1)]: Done  50 jobs       | elapsed:   11.5s\n",
      "[Parallel(n_jobs=1)]: Done 200 jobs       | elapsed:   38.8s\n",
      "[Parallel(n_jobs=1)]: Done 450 jobs       | elapsed:  1.3min\n",
      "[Parallel(n_jobs=1)]: Done 800 jobs       | elapsed:  2.3min\n",
      "[Parallel(n_jobs=1)]: Done 1250 jobs       | elapsed:  3.7min\n",
      "[Parallel(n_jobs=1)]: Done 1800 jobs       | elapsed:  5.1min\n",
      "[Parallel(n_jobs=1)]: Done 2450 jobs       | elapsed:  6.9min\n"
     ]
    },
    {
     "name": "stdout",
     "output_type": "stream",
     "text": [
      "Fitting 10 folds for each of 250 candidates, totalling 2500 fits\n",
      "CPU times: user 7min 5s, sys: 5.25 s, total: 7min 10s\n",
      "Wall time: 7min 11s\n"
     ]
    },
    {
     "name": "stderr",
     "output_type": "stream",
     "text": [
      "[Parallel(n_jobs=1)]: Done 2500 out of 2500 | elapsed:  7.2min finished\n"
     ]
    },
    {
     "data": {
      "text/plain": [
       "RandomizedSearchCV(cv=sklearn.cross_validation.StratifiedKFold(labels=[0 0 ..., 0 0], n_folds=10, shuffle=False, random_state=None),\n",
       "          error_score='raise',\n",
       "          estimator=SVC(C=1.0, cache_size=200, class_weight=None, coef0=0.0, degree=3, gamma=0.0,\n",
       "  kernel='rbf', max_iter=-1, probability=False, random_state=None,\n",
       "  shrinking=True, tol=0.001, verbose=False),\n",
       "          fit_params={}, iid=True, n_iter=250, n_jobs=1,\n",
       "          param_distributions={'kernel': ['rbf'], 'C': array([  1.00000e-09,   1.51991e-09, ...,   6.57933e+08,   1.00000e+09]), 'gamma': array([  1.00000e-09,   1.51991e-09, ...,   6.57933e+08,   1.00000e+09])},\n",
       "          pre_dispatch='2*n_jobs', random_state=None, refit=True,\n",
       "          scoring='accuracy', verbose=1)"
      ]
     },
     "execution_count": 7,
     "metadata": {},
     "output_type": "execute_result"
    }
   ],
   "source": [
    "from sklearn.grid_search import RandomizedSearchCV\n",
    "\n",
    "cv = RandomizedSearchCV(estimator=SVC(),\n",
    "                        param_distributions=paramgrid,\n",
    "                        n_iter=250,\n",
    "                        scoring=\"accuracy\",\n",
    "                        cv=StratifiedKFold(y, n_folds=10),\n",
    "                        verbose=1)\n",
    "%time cv.fit(X, y)"
   ]
  },
  {
   "cell_type": "markdown",
   "metadata": {},
   "source": [
    "### Best score + params"
   ]
  },
  {
   "cell_type": "code",
   "execution_count": 8,
   "metadata": {
    "collapsed": false
   },
   "outputs": [
    {
     "data": {
      "text/plain": [
       "(0.99443516972732326,\n",
       " {'C': 5336.6992312063239, 'gamma': 0.0015199110829529332, 'kernel': 'rbf'})"
      ]
     },
     "execution_count": 8,
     "metadata": {},
     "output_type": "execute_result"
    }
   ],
   "source": [
    "cv.best_score_, cv.best_params_"
   ]
  },
  {
   "cell_type": "markdown",
   "metadata": {},
   "source": [
    "### Using EvolutionaryAlgorithmSearchCV"
   ]
  },
  {
   "cell_type": "markdown",
   "metadata": {},
   "source": [
    "Again same parameter space, optimize for 10 generations."
   ]
  },
  {
   "cell_type": "code",
   "execution_count": 9,
   "metadata": {
    "collapsed": true
   },
   "outputs": [],
   "source": [
    "paramgrid = {\"kernel\": [\"rbf\"],\n",
    "             \"C\"     : np.logspace(-9, 9, num=100, base=10),\n",
    "             \"gamma\" : np.logspace(-9, 9, num=100, base=10)}"
   ]
  },
  {
   "cell_type": "code",
   "execution_count": 10,
   "metadata": {
    "collapsed": false
   },
   "outputs": [
    {
     "name": "stdout",
     "output_type": "stream",
     "text": [
      "--- Evolve in 10000 possible combinations ---\n",
      "gen\tnevals\tavg    \tmin\tmax     \n",
      "0  \t50    \t0.62391\t0  \t0.992762\n",
      "1  \t38    \t0.843243\t0  \t0.994438\n",
      "2  \t23    \t0.933237\t0.898726\t0.994438\n",
      "3  \t29    \t0.902628\t0       \t0.994438\n",
      "4  \t32    \t0.846655\t0       \t0.994438\n",
      "5  \t22    \t0.975516\t0.898726\t0.994438\n",
      "6  \t30    \t0.972667\t0.898726\t0.994438\n",
      "7  \t26    \t0.986291\t0.898726\t0.994438\n",
      "8  \t36    \t0.960804\t0       \t0.994438\n",
      "9  \t33    \t0.914839\t0       \t0.994438\n",
      "10 \t27    \t0.972235\t0       \t0.994438\n",
      "Best individual is: {\"kernel\": \"rbf\", \"C\": 432876128.10830617, \"gamma\": 0.0015199110829529332}\n",
      "with fitness: (0.9944381342359675,)\n",
      "CPU times: user 4min 32s, sys: 3.35 s, total: 4min 35s\n",
      "Wall time: 4min 35s\n"
     ]
    }
   ],
   "source": [
    "cv = EvolutionaryAlgorithmSearchCV(estimator=SVC(),\n",
    "                                   param_grid=paramgrid,\n",
    "                                   scoring=\"accuracy\",\n",
    "                                   cv=StratifiedKFold(y, n_folds=10),\n",
    "                                   verbose=True,\n",
    "                                   population_size=50,\n",
    "                                   mutation_prob=0.10,\n",
    "                                   tournament_size=3,\n",
    "                                   generations_number=10)\n",
    "%time cv.fit(X, y)"
   ]
  },
  {
   "cell_type": "markdown",
   "metadata": {},
   "source": [
    "### Best score + params"
   ]
  },
  {
   "cell_type": "code",
   "execution_count": 11,
   "metadata": {
    "collapsed": false
   },
   "outputs": [
    {
     "data": {
      "text/plain": [
       "(deap.creator.FitnessMax((0.9944381342359675,)),\n",
       " {'C': 432876128.10830617, 'gamma': 0.0015199110829529332, 'kernel': 'rbf'})"
      ]
     },
     "execution_count": 11,
     "metadata": {},
     "output_type": "execute_result"
    }
   ],
   "source": [
    "cv.best_score_, cv.best_params_"
   ]
  }
 ],
 "metadata": {
  "kernelspec": {
   "display_name": "Python 2",
   "language": "python",
   "name": "python2"
  },
  "language_info": {
   "codemirror_mode": {
    "name": "ipython",
    "version": 2
   },
   "file_extension": ".py",
   "mimetype": "text/x-python",
   "name": "python",
   "nbconvert_exporter": "python",
   "pygments_lexer": "ipython2",
   "version": "2.7.6"
  }
 },
 "nbformat": 4,
 "nbformat_minor": 0
}
