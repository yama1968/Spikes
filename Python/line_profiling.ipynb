{
 "cells": [
  {
   "cell_type": "markdown",
   "metadata": {},
   "source": [
    "# Memory profiling - p122"
   ]
  },
  {
   "cell_type": "code",
   "execution_count": 1,
   "metadata": {
    "collapsed": false
   },
   "outputs": [],
   "source": [
    "import numpy as np\n",
    "from imp import reload\n",
    "\n",
    "%load_ext line_profiler"
   ]
  },
  {
   "cell_type": "code",
   "execution_count": 2,
   "metadata": {
    "collapsed": false
   },
   "outputs": [
    {
     "name": "stdout",
     "output_type": "stream",
     "text": [
      "Overwriting _simulation.py\n"
     ]
    }
   ],
   "source": [
    "%%writefile _simulation.py\n",
    "\n",
    "import numpy as np\n",
    "\n",
    "def step(*shape):\n",
    "    # Create random vector with +1 or -1\n",
    "    return (2 * (np.random.random_sample(shape) < 0.5) - 1)\n",
    "\n",
    "def simulate(iterations, n=10000):\n",
    "    s = step(iterations, n)\n",
    "    x = np.cumsum(s, axis=0)\n",
    "    bins = np.arange(-30, 30, 1)\n",
    "    y = np.vstack([np.histogram(x[i,:], bins)[0]\n",
    "                  for i in range(iterations)])\n",
    "    return y"
   ]
  },
  {
   "cell_type": "code",
   "execution_count": 3,
   "metadata": {
    "collapsed": false
   },
   "outputs": [
    {
     "data": {
      "text/plain": [
       "<module '_simulation' from '/home2/yannick2/github/Spikes/Python/_simulation.py'>"
      ]
     },
     "execution_count": 3,
     "metadata": {},
     "output_type": "execute_result"
    }
   ],
   "source": [
    "import _simulation\n",
    "reload(_simulation)"
   ]
  },
  {
   "cell_type": "code",
   "execution_count": 4,
   "metadata": {
    "collapsed": false
   },
   "outputs": [
    {
     "name": "stdout",
     "output_type": "stream",
     "text": [
      "\n",
      "*** Profile printout saved to text file 'lprof0'. \n"
     ]
    }
   ],
   "source": [
    "%lprun -T lprof0 -f _simulation.simulate _simulation.simulate(500)"
   ]
  },
  {
   "cell_type": "code",
   "execution_count": 5,
   "metadata": {
    "collapsed": false
   },
   "outputs": [
    {
     "name": "stdout",
     "output_type": "stream",
     "text": [
      "Timer unit: 1e-06 s\r\n",
      "\r\n",
      "Total time: 0.27732 s\r\n",
      "File: /home2/yannick2/github/Spikes/Python/_simulation.py\r\n",
      "Function: simulate at line 8\r\n",
      "\r\n",
      "Line #      Hits         Time  Per Hit   % Time  Line Contents\r\n",
      "==============================================================\r\n",
      "     8                                           def simulate(iterations, n=10000):\r\n",
      "     9         1        74061  74061.0     26.7      s = step(iterations, n)\r\n",
      "    10         1        23803  23803.0      8.6      x = np.cumsum(s, axis=0)\r\n",
      "    11         1           22     22.0      0.0      bins = np.arange(-30, 30, 1)\r\n",
      "    12         1            3      3.0      0.0      y = np.vstack([np.histogram(x[i,:], bins)[0]\r\n",
      "    13         1       179430 179430.0     64.7                    for i in range(iterations)])\r\n",
      "    14         1            1      1.0      0.0      return y"
     ]
    }
   ],
   "source": [
    "! cat lprof0"
   ]
  },
  {
   "cell_type": "code",
   "execution_count": 6,
   "metadata": {
    "collapsed": false
   },
   "outputs": [
    {
     "name": "stdout",
     "output_type": "stream",
     "text": [
      "\n",
      "\n",
      "*** Profile printout saved to text file mprof0. \n",
      "Filename: /home2/yannick2/github/Spikes/Python/_simulation.py\r\n",
      "\r\n",
      "Line #    Mem usage    Increment   Line Contents\r\n",
      "================================================\r\n",
      "     8     46.8 MiB      0.0 MiB   def simulate(iterations, n=10000):\r\n",
      "     9     89.5 MiB     42.8 MiB       s = step(iterations, n)\r\n",
      "    10    127.5 MiB     38.0 MiB       x = np.cumsum(s, axis=0)\r\n",
      "    11    127.5 MiB      0.0 MiB       bins = np.arange(-30, 30, 1)\r\n",
      "    12    127.5 MiB      0.0 MiB       y = np.vstack([np.histogram(x[i,:], bins)[0]\r\n",
      "    13    127.5 MiB      0.0 MiB                     for i in range(iterations)])\r\n",
      "    14    127.5 MiB      0.0 MiB       return y"
     ]
    }
   ],
   "source": [
    "%load_ext memory_profiler\n",
    "\n",
    "import gc\n",
    "\n",
    "gc.collect()\n",
    "\n",
    "%mprun -T mprof0 -f _simulation.simulate _simulation.simulate(50, int(1e5))\n",
    "! cat mprof0"
   ]
  },
  {
   "cell_type": "code",
   "execution_count": 7,
   "metadata": {
    "collapsed": false
   },
   "outputs": [
    {
     "name": "stdout",
     "output_type": "stream",
     "text": [
      "peak memory: 127.73 MiB, increment: 76.33 MiB\n"
     ]
    }
   ],
   "source": [
    "%memit y = np.random.randn(1000,10000)"
   ]
  },
  {
   "cell_type": "code",
   "execution_count": 8,
   "metadata": {
    "collapsed": false
   },
   "outputs": [
    {
     "name": "stdout",
     "output_type": "stream",
     "text": [
      "peak memory: 127.75 MiB, increment: -76.29 MiB\n",
      "peak memory: 199.21 MiB, increment: 71.46 MiB\n",
      "CPU times: user 52.5 ms, sys: 20.8 ms, total: 73.3 ms\n",
      "Wall time: 184 ms\n",
      "peak memory: 127.76 MiB, increment: 0.00 MiB\n",
      "CPU times: user 35.2 ms, sys: 41.6 ms, total: 76.8 ms\n",
      "Wall time: 191 ms\n",
      "peak memory: 127.76 MiB, increment: 0.00 MiB\n",
      "peak memory: 127.76 MiB, increment: 0.00 MiB\n",
      "peak memory: 127.91 MiB, increment: 0.15 MiB\n",
      "peak memory: 204.21 MiB, increment: 76.30 MiB\n"
     ]
    }
   ],
   "source": [
    "x = np.random.randn(10000, 1000)\n",
    "%memit y = None\n",
    "%time %memit x = x * 2\n",
    "%time %memit x *= 2\n",
    "%memit x[10,:] = x[11,:] * 2\n",
    "%memit y = x[11,:] * 2\n",
    "%memit y = y * 3\n",
    "%memit x[:] = x[:] * 2"
   ]
  },
  {
   "cell_type": "code",
   "execution_count": 20,
   "metadata": {
    "collapsed": false
   },
   "outputs": [
    {
     "name": "stdout",
     "output_type": "stream",
     "text": [
      "peak memory: 360.95 MiB, increment: 0.00 MiB\n",
      "peak memory: 238.88 MiB, increment: 0.00 MiB\n",
      "CPU times: user 25.3 ms, sys: 19.2 ms, total: 44.5 ms\n",
      "Wall time: 170 ms\n",
      "3935\n",
      "CPU times: user 547 µs, sys: 62 µs, total: 609 µs\n",
      "Wall time: 498 µs\n",
      "peak memory: 238.88 MiB, increment: 0.00 MiB\n",
      "peak memory: 405.99 MiB, increment: 167.12 MiB\n",
      "CPU times: user 349 ms, sys: 14.9 ms, total: 364 ms\n",
      "Wall time: 468 ms\n",
      "14602353\n",
      "CPU times: user 775 ms, sys: 12.4 ms, total: 787 ms\n",
      "Wall time: 787 ms\n",
      "peak memory: 525.86 MiB, increment: 119.87 MiB\n",
      "peak memory: 360.95 MiB, increment: 122.07 MiB\n",
      "CPU times: user 7.77 s, sys: 107 ms, total: 7.88 s\n",
      "Wall time: 2.57 s\n",
      "14602353\n",
      "CPU times: user 62.3 ms, sys: 3.81 ms, total: 66.1 ms\n",
      "Wall time: 33.1 ms\n"
     ]
    }
   ],
   "source": [
    "import scipy \n",
    "import scipy.sparse\n",
    "\n",
    "N = 4000\n",
    "s = 4000\n",
    "\n",
    "def bigsparse (N, s):\n",
    "    x = np.random.randint(0, N, s)\n",
    "    y = np.random.randint(0, N, s)\n",
    "    return scipy.sparse.csr_matrix((np.ones(s), (x,y)), (N,N))\n",
    "\n",
    "sparse1 = None\n",
    "sparse2 = None\n",
    "%memit sparse1 = bigsparse(N, s)\n",
    "foo = None\n",
    "%time %memit foo = sparse1 * sparse1\n",
    "%time print((foo != 0).sum())\n",
    "\n",
    "%memit sparse2 = bigsparse(N, s * 100)\n",
    "foo = None\n",
    "%time %memit foo = sparse2 * sparse2\n",
    "%time print((foo != 0).sum())\n",
    "\n",
    "%memit nonsparse_m = sparse2.todense()\n",
    "foo = None\n",
    "%time %memit foo = nonsparse_m * nonsparse_m\n",
    "%time print((foo != 0).sum())"
   ]
  }
 ],
 "metadata": {
  "celltoolbar": "Raw Cell Format",
  "kernelspec": {
   "display_name": "Python 3",
   "language": "python",
   "name": "python3"
  },
  "language_info": {
   "codemirror_mode": {
    "name": "ipython",
    "version": 3
   },
   "file_extension": ".py",
   "mimetype": "text/x-python",
   "name": "python",
   "nbconvert_exporter": "python",
   "pygments_lexer": "ipython3",
   "version": "3.5.1"
  }
 },
 "nbformat": 4,
 "nbformat_minor": 0
}
