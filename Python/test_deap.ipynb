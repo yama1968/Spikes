{
 "cells": [
  {
   "cell_type": "code",
   "execution_count": 2,
   "metadata": {
    "collapsed": false
   },
   "outputs": [
    {
     "name": "stdout",
     "output_type": "stream",
     "text": [
      "Types [1, 2, 2] and maxint [0, 399, 399] detected\n",
      "--- Evolve in 160000 possible combinations ---\n",
      "Scoring evaluations: 16, Cache hits: 64, Total: 80\n",
      "Scoring evaluations: 32, Cache hits: 128, Total: 160\n",
      "Scoring evaluations: 48, Cache hits: 192, Total: 240\n",
      "Scoring evaluations: 64, Cache hits: 256, Total: 320\n",
      "Scoring evaluations: 80, Cache hits: 320, Total: 400\n",
      "gen\tnevals\tavg    \tmin     \tmax     \n",
      "0  \t80    \t0.21978\t0.101648\t0.980769\n",
      "Scoring evaluations: 92, Cache hits: 388, Total: 480\n",
      "Scoring evaluations: 107, Cache hits: 453, Total: 560\n",
      "1  \t45    \t0.607761\t0.101648\t0.983516\n",
      "Scoring evaluations: 121, Cache hits: 519, Total: 640\n",
      "Scoring evaluations: 133, Cache hits: 587, Total: 720\n",
      "Scoring evaluations: 140, Cache hits: 660, Total: 800\n",
      "2  \t45    \t0.9     \t0.101648\t0.983516\n",
      "Scoring evaluations: 144, Cache hits: 736, Total: 880\n",
      "Scoring evaluations: 149, Cache hits: 811, Total: 960\n",
      "Scoring evaluations: 161, Cache hits: 879, Total: 1040\n",
      "3  \t50    \t0.893063\t0.101648\t0.983516\n",
      "Scoring evaluations: 167, Cache hits: 953, Total: 1120\n",
      "Scoring evaluations: 176, Cache hits: 1024, Total: 1200\n",
      "Scoring evaluations: 186, Cache hits: 1094, Total: 1280\n",
      "4  \t46    \t0.89454 \t0.101648\t0.983516\n",
      "Best individual is: {'kernel': 'rbf', 'C': 12742749.857031321, 'gamma': 0.00053619567705688164}\n",
      "with fitness: 0.983516483516\n",
      "Scoring evaluations: 192, Cache hits: 1138, Total: 1330\n"
     ]
    }
   ],
   "source": [
    "import sklearn.datasets\n",
    "import numpy as np\n",
    "import random\n",
    "\n",
    "data = sklearn.datasets.load_digits()\n",
    "X = data[\"data\"]\n",
    "y = data[\"target\"]\n",
    "\n",
    "from sklearn.svm import SVC\n",
    "from sklearn.cross_validation import StratifiedKFold\n",
    "\n",
    "paramgrid = {\"kernel\": [\"rbf\"],\n",
    "             \"C\"     : np.logspace(-9, 9, num=400, base=10),\n",
    "             \"gamma\" : np.logspace(-9, 9, num=400, base=10)}\n",
    "\n",
    "random.seed(1)\n",
    "\n",
    "from evolutionary_search import EvolutionaryAlgorithmSearchCV\n",
    "cv = EvolutionaryAlgorithmSearchCV(estimator=SVC(),\n",
    "                                   params=paramgrid,\n",
    "                                   scoring=\"accuracy\",\n",
    "                                   cv=StratifiedKFold(y, n_folds=5),\n",
    "                                   verbose=1,\n",
    "                                   population_size=80,\n",
    "                                   gene_mutation_prob=0.4,\n",
    "                                   gene_crossover_prob=0.5,\n",
    "                                   tournament_size=8,\n",
    "                                   generations_number=4,\n",
    "                                   n_jobs=1)\n",
    "cv.fit(X, y)"
   ]
  },
  {
   "cell_type": "code",
   "execution_count": 15,
   "metadata": {
    "collapsed": false
   },
   "outputs": [
    {
     "name": "stdout",
     "output_type": "stream",
     "text": [
      "((1797L, 64L), (1797L,))\n"
     ]
    }
   ],
   "source": [
    "print(X.shape, y.shape)"
   ]
  }
 ],
 "metadata": {
  "kernelspec": {
   "display_name": "Python 2",
   "language": "python",
   "name": "python2"
  },
  "language_info": {
   "codemirror_mode": {
    "name": "ipython",
    "version": 2
   },
   "file_extension": ".py",
   "mimetype": "text/x-python",
   "name": "python",
   "nbconvert_exporter": "python",
   "pygments_lexer": "ipython2",
   "version": "2.7.11"
  }
 },
 "nbformat": 4,
 "nbformat_minor": 0
}
