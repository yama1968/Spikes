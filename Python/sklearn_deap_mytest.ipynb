{
 "cells": [
  {
   "cell_type": "code",
   "execution_count": 10,
   "metadata": {
    "collapsed": false
   },
   "outputs": [
    {
     "name": "stdout",
     "output_type": "stream",
     "text": [
      "Types [1, 2, 2] and maxint [0, 99, 99] detected\n",
      "--- Evolve in 10000 possible combinations ---\n",
      "Scoring evaluations: 50, Cache hits: 150, Total: 200\n",
      "Scoring evaluations: 100, Cache hits: 300, Total: 400\n",
      "Scoring evaluations: 149, Cache hits: 451, Total: 600\n",
      "Scoring evaluations: 198, Cache hits: 602, Total: 800\n",
      "gen\tnevals\tavg     \tmin     \tmax     \n",
      "0  \t200   \t0.247015\t0.101322\t0.975771\n",
      "Scoring evaluations: 233, Cache hits: 767, Total: 1000\n",
      "Scoring evaluations: 262, Cache hits: 938, Total: 1200\n",
      "1  \t115   \t0.5862  \t0.101322\t0.982379\n",
      "Scoring evaluations: 296, Cache hits: 1104, Total: 1400\n",
      "Scoring evaluations: 321, Cache hits: 1279, Total: 1600\n",
      "2  \t114   \t0.932874\t0.101322\t0.982379\n",
      "Scoring evaluations: 348, Cache hits: 1452, Total: 1800\n",
      "Scoring evaluations: 372, Cache hits: 1628, Total: 2000\n",
      "3  \t109   \t0.940165\t0.101322\t0.982379\n",
      "Scoring evaluations: 384, Cache hits: 1816, Total: 2200\n",
      "Scoring evaluations: 400, Cache hits: 2000, Total: 2400\n",
      "Scoring evaluations: 415, Cache hits: 2185, Total: 2600\n",
      "4  \t115   \t0.922841\t0.101322\t0.982379\n",
      "Scoring evaluations: 428, Cache hits: 2372, Total: 2800\n",
      "Scoring evaluations: 437, Cache hits: 2563, Total: 3000\n",
      "5  \t106   \t0.937654\t0.101322\t0.982379\n",
      "Best individual is: {'kernel': 'rbf', 'C': 2.8480358684358049, 'gamma': 0.00065793322465756824}\n",
      "with fitness: 0.982378854626\n",
      "Scoring evaluations: 440, Cache hits: 2596, Total: 3036\n",
      "CPU times: user 1min 40s, sys: 180 ms, total: 1min 40s\n",
      "Wall time: 1min 40s\n"
     ]
    }
   ],
   "source": [
    "import sklearn.datasets\n",
    "import numpy as np\n",
    "import random\n",
    "\n",
    "data = sklearn.datasets.load_digits()\n",
    "X = data[\"data\"]\n",
    "y = data[\"target\"]\n",
    "\n",
    "from sklearn.svm import SVC\n",
    "from sklearn.cross_validation import StratifiedKFold\n",
    "\n",
    "paramgrid = {\"kernel\": [\"rbf\"],\n",
    "             \"C\"     : np.logspace(-9, 9, num=100, base=10),\n",
    "             \"gamma\" : np.logspace(-9, 9, num=100, base=10)}\n",
    "\n",
    "random.seed(1)\n",
    "\n",
    "from evolutionary_search import EvolutionaryAlgorithmSearchCV\n",
    "cv = EvolutionaryAlgorithmSearchCV(estimator=SVC(),\n",
    "                                   params=paramgrid,\n",
    "                                   scoring=\"accuracy\",\n",
    "                                   cv=StratifiedKFold(y, n_folds=4),\n",
    "                                   verbose=1,\n",
    "                                   population_size=200,\n",
    "                                   gene_mutation_prob=0.2,\n",
    "                                   gene_crossover_prob=0.5,\n",
    "                                   tournament_size=5,\n",
    "                                   generations_number=5,\n",
    "                                   n_jobs=1)\n",
    "%time cv.fit(X, y)"
   ]
  },
  {
   "cell_type": "code",
   "execution_count": 33,
   "metadata": {
    "collapsed": false
   },
   "outputs": [
    {
     "name": "stdout",
     "output_type": "stream",
     "text": [
      "Types [1, 2, 2] and maxint [0, 99, 99] detected\n",
      "--- Evolve in 10000 possible combinations ---\n",
      "gen\tnevals\tavg     \tmin     \tmax     \n",
      "0  \t50    \t0.251366\t0.101322\t0.975771\n",
      "1  \t32    \t0.701674\t0.101322\t0.982379\n",
      "2  \t29    \t0.904449\t0.101322\t0.982379\n",
      "3  \t33    \t0.959119\t0.101322\t0.982379\n",
      "4  \t21    \t0.944934\t0.101322\t0.982379\n",
      "5  \t34    \t0.964317\t0.101322\t0.982379\n",
      "Best individual is: {'kernel': 'rbf', 'C': 657.93322465756819, 'gamma': 0.00065793322465756824}\n",
      "with fitness: 0.982378854626\n",
      "Scoring evaluations: 0, Cache hits: 0, Total: 0\n",
      "CPU times: user 274 ms, sys: 94.2 ms, total: 369 ms\n",
      "Wall time: 11.1 s\n",
      "1\n"
     ]
    }
   ],
   "source": [
    "from evolutionary_search import EvolutionaryAlgorithmSearchCV\n",
    "\n",
    "cnt = 0\n",
    "\n",
    "class FooSVC(SVC):\n",
    "    \n",
    "    def fit(self, *args, **kwargs):\n",
    "        \n",
    "        global cnt\n",
    "        cnt +=1\n",
    "        \n",
    "        super(FooSVC, self).fit(*args, **kwargs)\n",
    "\n",
    "random.seed(1234)\n",
    "\n",
    "cv = EvolutionaryAlgorithmSearchCV(estimator=FooSVC(),\n",
    "                                   params=paramgrid,\n",
    "                                   scoring=\"accuracy\",\n",
    "                                   cv=StratifiedKFold(y, n_folds=4),\n",
    "                                   verbose=1,\n",
    "                                   population_size=50,\n",
    "                                   gene_mutation_prob=0.15,\n",
    "                                   gene_crossover_prob=0.5,\n",
    "                                   tournament_size=5,\n",
    "                                   generations_number=5,\n",
    "                                   n_jobs=4)\n",
    "%time cv.fit(X, y)\n",
    "\n",
    "print cnt"
   ]
  },
  {
   "cell_type": "code",
   "execution_count": 26,
   "metadata": {
    "collapsed": false
   },
   "outputs": [
    {
     "data": {
      "text/plain": [
       "82"
      ]
     },
     "execution_count": 26,
     "metadata": {},
     "output_type": "execute_result"
    }
   ],
   "source": [
    "cnt"
   ]
  }
 ],
 "metadata": {
  "kernelspec": {
   "display_name": "Python 2",
   "language": "python",
   "name": "python2"
  },
  "language_info": {
   "codemirror_mode": {
    "name": "ipython",
    "version": 2
   },
   "file_extension": ".py",
   "mimetype": "text/x-python",
   "name": "python",
   "nbconvert_exporter": "python",
   "pygments_lexer": "ipython2",
   "version": "2.7.11"
  }
 },
 "nbformat": 4,
 "nbformat_minor": 0
}
