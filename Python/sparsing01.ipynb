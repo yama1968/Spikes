{
 "cells": [
  {
   "cell_type": "code",
   "execution_count": 1,
   "metadata": {
    "collapsed": true
   },
   "outputs": [],
   "source": [
    "import pandas as pd\n",
    "import numpy as np\n",
    "\n",
    "from numpy.random import random_integers"
   ]
  },
  {
   "cell_type": "code",
   "execution_count": 2,
   "metadata": {
    "collapsed": false
   },
   "outputs": [],
   "source": [
    "N    = 10000\n",
    "K    =  1000\n",
    "recs = 40000\n",
    "\n",
    "def get_sample_df(N = N, K = K, recs = recs): \n",
    "    df = pd.DataFrame({\n",
    "            'u': random_integers(low = 0, high = N, size = recs),\n",
    "            'i': random_integers(low = 0, high = K, size = recs)\n",
    "            })\n",
    "    return df\n",
    "\n",
    "def get_dummied(df, sparse = True):\n",
    "    d = pd.get_dummies(df, columns=[\"i\"], sparse=sparse)\n",
    "    print (d.shape)\n",
    "    return d"
   ]
  },
  {
   "cell_type": "code",
   "execution_count": 3,
   "metadata": {
    "collapsed": false
   },
   "outputs": [
    {
     "name": "stdout",
     "output_type": "stream",
     "text": [
      "[1, 1, 1]\n",
      "(40000, 2)\n",
      "(40000, 1002)\n",
      "CPU times: user 3.07 s, sys: 17.8 ms, total: 3.08 s\n",
      "Wall time: 3.08 s\n",
      "[10, 1, 1]\n",
      "(40000, 2)\n",
      "(40000, 1002)\n",
      "CPU times: user 3.12 s, sys: 5.36 ms, total: 3.13 s\n",
      "Wall time: 3.13 s\n",
      "[1, 10, 1]\n",
      "(40000, 2)\n",
      "(40000, 9803)\n",
      "CPU times: user 4min 10s, sys: 1.94 s, total: 4min 12s\n",
      "Wall time: 4min 12s\n",
      "[1, 1, 10]\n",
      "(400000, 2)\n",
      "(400000, 1002)\n",
      "CPU times: user 4.3 s, sys: 13.5 ms, total: 4.31 s\n",
      "Wall time: 4.31 s\n",
      "[10, 1, 10]\n",
      "(400000, 2)\n",
      "(400000, 1002)\n",
      "CPU times: user 4.32 s, sys: 12.7 ms, total: 4.34 s\n",
      "Wall time: 4.33 s\n"
     ]
    }
   ],
   "source": [
    "N    = 10000\n",
    "K    =  1000\n",
    "recs = 40000\n",
    "\n",
    "tests = [\n",
    "    [1, 1, 1],\n",
    "    [10, 1, 1],\n",
    "    [1, 10, 1],\n",
    "    [1, 1, 10],\n",
    "    [10, 1, 10]\n",
    "]\n",
    "\n",
    "for t in tests:\n",
    "    print (t)\n",
    "    s = get_sample_df(*list(np.array([N, K, recs]) * t))\n",
    "    print(s.shape)\n",
    "    %time get_dummied(s)\n",
    "    "
   ]
  },
  {
   "cell_type": "code",
   "execution_count": 4,
   "metadata": {
    "collapsed": false
   },
   "outputs": [
    {
     "name": "stdout",
     "output_type": "stream",
     "text": [
      "[1, 1, 1]\n",
      "(40000, 2)\n",
      "(40000, 1002)\n",
      "CPU times: user 269 ms, sys: 48.4 ms, total: 318 ms\n",
      "Wall time: 318 ms\n",
      "[10, 1, 1]\n",
      "(40000, 2)\n",
      "(40000, 1002)\n",
      "CPU times: user 267 ms, sys: 47.9 ms, total: 315 ms\n",
      "Wall time: 315 ms\n",
      "[1, 10, 1]\n",
      "(40000, 2)\n",
      "(40000, 9831)\n",
      "CPU times: user 2.7 s, sys: 1.51 s, total: 4.21 s\n",
      "Wall time: 4.42 s\n",
      "[1, 1, 10]\n",
      "(400000, 2)\n",
      "(400000, 1002)\n",
      "CPU times: user 6.41 s, sys: 1.77 s, total: 8.18 s\n",
      "Wall time: 9.86 s\n",
      "[10, 1, 10]\n",
      "(400000, 2)\n",
      "(400000, 1002)\n",
      "CPU times: user 6.39 s, sys: 1.45 s, total: 7.83 s\n",
      "Wall time: 7.85 s\n"
     ]
    }
   ],
   "source": [
    "for t in tests:\n",
    "    print (t)\n",
    "    s = get_sample_df(*list(np.array([N, K, recs]) * t))\n",
    "    print(s.shape)\n",
    "    %time get_dummied(s, sparse=False)"
   ]
  },
  {
   "cell_type": "code",
   "execution_count": 5,
   "metadata": {
    "collapsed": true
   },
   "outputs": [],
   "source": [
    "from scipy.sparse import csr_matrix\n",
    "\n",
    "def get_csr(df):\n",
    "    d = csr_matrix((np.ones(len(df)), (df.u, df.i)))\n",
    "    print (d.shape)\n",
    "    return d"
   ]
  },
  {
   "cell_type": "code",
   "execution_count": 6,
   "metadata": {
    "collapsed": false
   },
   "outputs": [
    {
     "name": "stdout",
     "output_type": "stream",
     "text": [
      "(5, 4)\n"
     ]
    },
    {
     "data": {
      "text/plain": [
       "array([[ 1.,  0.,  0.,  0.],\n",
       "       [ 0.,  2.,  0.,  0.],\n",
       "       [ 1.,  2.,  0.,  0.],\n",
       "       [ 0.,  0.,  0.,  0.],\n",
       "       [ 0.,  1.,  2.,  1.]])"
      ]
     },
     "execution_count": 6,
     "metadata": {},
     "output_type": "execute_result"
    }
   ],
   "source": [
    "get_csr(get_sample_df(4, 3, 10)).toarray()"
   ]
  },
  {
   "cell_type": "code",
   "execution_count": 7,
   "metadata": {
    "collapsed": false
   },
   "outputs": [
    {
     "name": "stdout",
     "output_type": "stream",
     "text": [
      "[1, 1, 1]\n",
      "(40000, 2)\n",
      "(10001, 1001)\n",
      "CPU times: user 2.28 ms, sys: 13 µs, total: 2.29 ms\n",
      "Wall time: 2.32 ms\n",
      "[10, 1, 1]\n",
      "(40000, 2)\n",
      "(99997, 1001)\n",
      "CPU times: user 3.58 ms, sys: 155 µs, total: 3.74 ms\n",
      "Wall time: 3.58 ms\n",
      "[1, 10, 1]\n",
      "(40000, 2)\n",
      "(10001, 10000)\n",
      "CPU times: user 2.19 ms, sys: 2 µs, total: 2.19 ms\n",
      "Wall time: 2.2 ms\n",
      "[1, 1, 10]\n",
      "(400000, 2)\n",
      "(10001, 1001)\n",
      "CPU times: user 22.7 ms, sys: 60 µs, total: 22.7 ms\n",
      "Wall time: 22.8 ms\n",
      "[10, 1, 10]\n",
      "(400000, 2)\n",
      "(100001, 1001)\n",
      "CPU times: user 19.7 ms, sys: 50 µs, total: 19.7 ms\n",
      "Wall time: 19.8 ms\n"
     ]
    }
   ],
   "source": [
    "N    = 10000\n",
    "K    =  1000\n",
    "recs = 40000\n",
    "\n",
    "for t in tests:\n",
    "    print (t)\n",
    "    s = get_sample_df(*list(np.array([N, K, recs]) * t))\n",
    "    print(s.shape)\n",
    "    %time get_csr(s)"
   ]
  },
  {
   "cell_type": "code",
   "execution_count": 8,
   "metadata": {
    "collapsed": false
   },
   "outputs": [
    {
     "name": "stdout",
     "output_type": "stream",
     "text": [
      "[1, 1, 1]\n",
      "(4000000, 2)\n",
      "(500001, 10001)\n",
      "CPU times: user 214 ms, sys: 4.88 ms, total: 219 ms\n",
      "Wall time: 219 ms\n",
      "[10, 1, 1]\n",
      "(4000000, 2)\n",
      "(5000001, 10001)\n",
      "CPU times: user 508 ms, sys: 5.98 ms, total: 513 ms\n",
      "Wall time: 515 ms\n",
      "[1, 10, 1]\n",
      "(4000000, 2)\n",
      "(500001, 100001)\n",
      "CPU times: user 214 ms, sys: 2.04 ms, total: 216 ms\n",
      "Wall time: 216 ms\n",
      "[1, 1, 10]\n",
      "(40000000, 2)\n",
      "(500001, 10001)\n",
      "CPU times: user 2.73 s, sys: 111 ms, total: 2.84 s\n",
      "Wall time: 2.85 s\n",
      "[10, 1, 10]\n",
      "(40000000, 2)\n",
      "(5000001, 10001)\n",
      "CPU times: user 4.58 s, sys: 112 ms, total: 4.7 s\n",
      "Wall time: 4.7 s\n"
     ]
    }
   ],
   "source": [
    "N    = 500000\n",
    "K    =  10000\n",
    "recs = 4000000\n",
    "\n",
    "for t in tests:\n",
    "    print (t)\n",
    "    s = get_sample_df(*list(np.array([N, K, recs]) * t))\n",
    "    print(s.shape)\n",
    "    %time get_csr(s)"
   ]
  },
  {
   "cell_type": "code",
   "execution_count": 12,
   "metadata": {
    "collapsed": false
   },
   "outputs": [
    {
     "name": "stdout",
     "output_type": "stream",
     "text": [
      "(500001, 10001)\n",
      "CPU times: user 21.9 ms, sys: 51 µs, total: 21.9 ms\n",
      "Wall time: 22 ms\n"
     ]
    },
    {
     "data": {
      "text/plain": [
       "<500001x10001 sparse matrix of type '<type 'numpy.float64'>'\n",
       "\twith 3998377 stored elements in Compressed Sparse Row format>"
      ]
     },
     "execution_count": 12,
     "metadata": {},
     "output_type": "execute_result"
    }
   ],
   "source": [
    "m = get_csr(get_sample_df(N, K, recs))\n",
    "%time m+m"
   ]
  },
  {
   "cell_type": "code",
   "execution_count": 19,
   "metadata": {
    "collapsed": false
   },
   "outputs": [
    {
     "name": "stdout",
     "output_type": "stream",
     "text": [
      "(1, 500001)\n",
      "(500001, 10001)\n",
      "CPU times: user 8.36 ms, sys: 152 µs, total: 8.51 ms\n",
      "Wall time: 8.23 ms\n"
     ]
    },
    {
     "data": {
      "text/plain": [
       "array([[  3., -11., -15., ..., -10.,   2., -17.]])"
      ]
     },
     "execution_count": 19,
     "metadata": {},
     "output_type": "execute_result"
    }
   ],
   "source": [
    "foo = np.array([random_integers(low=-1, high=1, size=N+1)])\n",
    "print(foo.shape)\n",
    "print(m.shape)\n",
    "%time foo * m"
   ]
  },
  {
   "cell_type": "code",
   "execution_count": 21,
   "metadata": {
    "collapsed": false
   },
   "outputs": [
    {
     "name": "stdout",
     "output_type": "stream",
     "text": [
      "[1, 1, 1]\n",
      "(4000000, 2)\n",
      "(500001, 10001)\n",
      "\n",
      "(500001, 10001)\n",
      "\n",
      "(500001, 10001)\n",
      "\n",
      "(500001, 10001)\n",
      "\n",
      "1 loops, best of 3: 225 ms per loop\n",
      "[10, 1, 1]\n",
      "(4000000, 2)\n",
      "(5000001, 10001)\n",
      "\n",
      "(5000001, 10001)\n",
      "\n",
      "(5000001, 10001)\n",
      "\n",
      "(5000001, 10001)\n",
      "\n",
      "1 loops, best of 3: 338 ms per loop\n",
      "[1, 10, 1]\n",
      "(4000000, 2)\n",
      "(500001, 100001)\n",
      "\n",
      "(500001, 100001)\n",
      "\n",
      "(500001, 100001)\n",
      "\n",
      "(500001, 100001)\n",
      "\n",
      "1 loops, best of 3: 226 ms per loop\n",
      "[1, 1, 10]\n",
      "(40000000, 2)\n",
      "(500001, 10001)\n",
      "\n",
      "(500001, 10001)\n",
      "\n",
      "(500001, 10001)\n",
      "\n",
      "(500001, 10001)\n",
      "\n",
      "1 loops, best of 3: 2.82 s per loop\n",
      "[10, 1, 10]\n",
      "(40000000, 2)\n",
      "(5000001, 10001)\n",
      "\n",
      "(5000001, 10001)\n",
      "\n",
      "(5000001, 10001)\n",
      "\n",
      "(5000001, 10001)\n",
      "\n",
      "1 loops, best of 3: 3.4 s per loop\n"
     ]
    }
   ],
   "source": [
    "from numba import jit\n",
    "\n",
    "get_csr2 = jit(get_csr)\n",
    "\n",
    "N    = 500000\n",
    "K    =  10000\n",
    "recs = 4000000\n",
    "\n",
    "for t in tests:\n",
    "    print (t)\n",
    "    s = get_sample_df(*list(np.array([N, K, recs]) * t))\n",
    "    print(s.shape)\n",
    "    %timeit get_csr2(s)"
   ]
  },
  {
   "cell_type": "code",
   "execution_count": 22,
   "metadata": {
    "collapsed": false
   },
   "outputs": [
    {
     "name": "stdout",
     "output_type": "stream",
     "text": [
      "The slowest run took 5.42 times longer than the fastest. This could mean that an intermediate result is being cached \n",
      "100 loops, best of 3: 8.09 ms per loop\n"
     ]
    }
   ],
   "source": [
    "@jit\n",
    "def test1():\n",
    "    return foo * m\n",
    "\n",
    "%timeit test1()"
   ]
  }
 ],
 "metadata": {
  "kernelspec": {
   "display_name": "Python 2",
   "language": "python",
   "name": "python2"
  },
  "language_info": {
   "codemirror_mode": {
    "name": "ipython",
    "version": 2
   },
   "file_extension": ".py",
   "mimetype": "text/x-python",
   "name": "python",
   "nbconvert_exporter": "python",
   "pygments_lexer": "ipython2",
   "version": "2.7.11"
  }
 },
 "nbformat": 4,
 "nbformat_minor": 0
}
