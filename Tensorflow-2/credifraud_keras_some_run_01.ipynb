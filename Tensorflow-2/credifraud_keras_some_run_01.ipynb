{
 "cells": [
  {
   "cell_type": "code",
   "execution_count": 0,
   "metadata": {},
   "outputs": [],
   "source": [
    "# Change directory to VSCode workspace root so that relative path loads work correctly. Turn this addition off with the DataScience.changeDirOnImportExport setting\n",
    "# ms-python.python added\n",
    "import os\n",
    "try:\n",
    "\tos.chdir(os.path.join(os.getcwd(), 'Work/github'))\n",
    "\tprint(os.getcwd())\n",
    "except:\n",
    "\tpass\n"
   ]
  },
  {
   "cell_type": "code",
   "execution_count": 1,
   "metadata": {},
   "outputs": [
    {
     "name": "stdout",
     "output_type": "stream",
     "text": [
      "loaded ~/.kaggle/creditcard.csv and got ((284807, 30), (284807,)) from (284807, 31)\n",
      "Epoch 1/3\n",
      "380/380 [==============================] - 6s 15ms/step - loss: 0.3198 - accuracy: 0.7739 - aucpr: 0.8911\n",
      "Epoch 2/3\n",
      "380/380 [==============================] - 6s 15ms/step - loss: 0.1420 - accuracy: 0.9418 - aucpr: 0.9871\n",
      "Epoch 3/3\n",
      "380/380 [==============================] - 6s 15ms/step - loss: 0.1138 - accuracy: 0.9535 - aucpr: 0.9920\n",
      "/home/yannick/bin/anaconda3_2018.12/envs/tf/lib/python3.7/site-packages/sklearn/metrics/ranking.py:528: RuntimeWarning: invalid value encountered in true_divide\n",
      "  recall = tps / tps[-1]\n",
      "93987/1 - 5s - loss: 0.0364 - accuracy: 0.9836 - aucpr: nan\n"
     ]
    },
    {
     "data": {
      "text/plain": [
       "[0.06748286134530379, 0.9835722, nan]"
      ]
     },
     "execution_count": 1,
     "metadata": {},
     "output_type": "execute_result"
    }
   ],
   "source": [
    "from __future__ import absolute_import, division, print_function, unicode_literals\n",
    "\n",
    "import tensorflow as tf\n",
    "\n",
    "##\n",
    "\n",
    "import numpy as np\n",
    "import pandas as pd\n",
    "\n",
    "from sklearn.model_selection import train_test_split\n",
    "from sklearn.preprocessing import StandardScaler\n",
    "\n",
    "from imblearn.over_sampling import SMOTE, RandomOverSampler\n",
    "from imblearn.keras import BalancedBatchGenerator\n",
    "\n",
    "\n",
    "only_test = False\n",
    "\n",
    "data_file = \"~/.kaggle/creditcard.csv\"\n",
    "\n",
    "raw = pd.read_csv(data_file)\n",
    "if only_test: raw = raw.head(60000)\n",
    "raw.describe().T\n",
    "\n",
    "X = np.array(raw[[\"Amount\", \"Time\"] + [\"V%d\" % i for i in range(1, 29)]]).astype(np.float32)\n",
    "y = np.array(raw.Class.astype(np.int64))\n",
    "\n",
    "scaler = StandardScaler()\n",
    "\n",
    "X = scaler.fit_transform(X).astype(np.float32)\n",
    "\n",
    "\n",
    "print(\"loaded %s and got %s from %s\" % (data_file, str((X.shape, y.shape)), raw.shape))\n",
    "raw = None\n",
    "\n",
    "##\n",
    "\n",
    "(x_train, x_test, y_train, y_test) = train_test_split(X, y, test_size=.33, random_state=42)\n",
    "\n",
    "\n",
    "training_generator = BalancedBatchGenerator(x_train, y_train,\n",
    "                                            sampler=RandomOverSampler(sampling_strategy=1.),\n",
    "                                            batch_size=1000,\n",
    "                                            random_state=42)\n",
    "\n",
    "\n",
    "model = tf.keras.models.Sequential([\n",
    "  tf.keras.layers.Dense(x_train.shape[1], activation='relu'),\n",
    "  tf.keras.layers.Dropout(0.5),\n",
    "  tf.keras.layers.Dense(1, activation='sigmoid')\n",
    "])\n",
    "\n",
    "\n",
    "from sklearn.metrics import roc_auc_score, average_precision_score\n",
    "\n",
    "def aucpr(y_true, y_pred):\n",
    "    return tf.py_function(average_precision_score, (y_true, y_pred), tf.double)\n",
    "\n",
    "class_weight = {0: 1., 1: 10.}\n",
    "\n",
    "\n",
    "model.compile(optimizer='adam',\n",
    "              loss='binary_crossentropy',\n",
    "              metrics=['accuracy', aucpr])\n",
    "\n",
    "model.fit_generator(training_generator, epochs=3)\n",
    "\n",
    "model.evaluate(x_test,  y_test, verbose=2)\n"
   ]
  },
  {
   "cell_type": "code",
   "execution_count": 3,
   "metadata": {},
   "outputs": [
    {
     "name": "stdout",
     "output_type": "stream",
     "text": [
      "Epoch 1/5\n",
      "744/744 [==============================] - 10s 14ms/step - loss: 0.3306 - accuracy: 0.7723 - aucpr: 0.8573\n",
      "Epoch 2/5\n",
      "744/744 [==============================] - 10s 14ms/step - loss: 0.1196 - accuracy: 0.9522 - aucpr: 0.9901\n",
      "Epoch 3/5\n",
      "744/744 [==============================] - 11s 14ms/step - loss: 0.0911 - accuracy: 0.9633 - aucpr: 0.9949\n",
      "Epoch 4/5\n",
      "744/744 [==============================] - 10s 14ms/step - loss: 0.0758 - accuracy: 0.9693 - aucpr: 0.9965\n",
      "Epoch 5/5\n",
      "744/744 [==============================] - 10s 14ms/step - loss: 0.0640 - accuracy: 0.9751 - aucpr: 0.9975\n",
      "/home/yannick/bin/anaconda3_2018.12/envs/tf/lib/python3.7/site-packages/sklearn/metrics/ranking.py:528: RuntimeWarning: invalid value encountered in true_divide\n",
      "  recall = tps / tps[-1]\n",
      "93987/1 - 5s - loss: 0.0197 - accuracy: 0.9894 - aucpr: nan\n"
     ]
    },
    {
     "data": {
      "text/plain": [
       "[0.03926939924316181, 0.98939216, nan]"
      ]
     },
     "execution_count": 3,
     "metadata": {},
     "output_type": "execute_result"
    }
   ],
   "source": [
    "(x_train, x_test, y_train, y_test) = train_test_split(X, y, \n",
    "                                                      test_size=.33, \n",
    "                                                      random_state=42,\n",
    "                                                      stratify=y)\n",
    "\n",
    "training_generator = BalancedBatchGenerator(x_train, y_train,\n",
    "                                            sampler=RandomOverSampler(sampling_strategy=1.),\n",
    "                                            batch_size=512,\n",
    "                                            random_state=42)\n",
    "\n",
    "model = tf.keras.models.Sequential([\n",
    "  tf.keras.layers.Dense(x_train.shape[1], activation='relu'),\n",
    "  tf.keras.layers.Dropout(0.5),\n",
    "  tf.keras.layers.Dense(1, activation='sigmoid')\n",
    "])\n",
    "\n",
    "from sklearn.metrics import roc_auc_score, average_precision_score\n",
    "\n",
    "def aucpr(y_true, y_pred):\n",
    "    return tf.py_function(average_precision_score, (y_true, y_pred), tf.double)\n",
    "\n",
    "class_weight = {0: 1., 1: 10.}\n",
    "\n",
    "model.compile(optimizer='adam',\n",
    "              loss='binary_crossentropy',\n",
    "              metrics=['accuracy', aucpr])\n",
    "\n",
    "model.fit_generator(training_generator, epochs=5)\n",
    "model.evaluate(x_test,  y_test, verbose=2)\n"
   ]
  },
  {
   "cell_type": "code",
   "execution_count": 4,
   "metadata": {},
   "outputs": [],
   "source": [
    "y_hat = model.predict_proba(x_test)"
   ]
  },
  {
   "cell_type": "code",
   "execution_count": 5,
   "metadata": {},
   "outputs": [
    {
     "data": {
      "text/plain": [
       "array([[2.9504299e-06],\n",
       "       [0.0000000e+00],\n",
       "       [2.6166439e-04],\n",
       "       ...,\n",
       "       [4.9212508e-06],\n",
       "       [3.1488496e-04],\n",
       "       [4.1898610e-07]], dtype=float32)"
      ]
     },
     "execution_count": 5,
     "metadata": {},
     "output_type": "execute_result"
    }
   ],
   "source": [
    "y_hat"
   ]
  },
  {
   "cell_type": "code",
   "execution_count": 6,
   "metadata": {},
   "outputs": [
    {
     "data": {
      "text/plain": [
       "0.713396302653385"
      ]
     },
     "execution_count": 6,
     "metadata": {},
     "output_type": "execute_result"
    }
   ],
   "source": [
    "average_precision_score(y_test, y_hat)"
   ]
  },
  {
   "cell_type": "code",
   "execution_count": 7,
   "metadata": {},
   "outputs": [
    {
     "name": "stdout",
     "output_type": "stream",
     "text": [
      "Epoch 1/5\n",
      "744/744 [==============================] - 12s 16ms/step - loss: 0.3026 - accuracy: 0.7701 - aucpr: 0.8796\n",
      "Epoch 2/5\n",
      "744/744 [==============================] - 12s 16ms/step - loss: 0.1122 - accuracy: 0.9478 - aucpr: 0.9913\n",
      "Epoch 3/5\n",
      "744/744 [==============================] - 13s 17ms/step - loss: 0.0773 - accuracy: 0.9626 - aucpr: 0.9961\n",
      "Epoch 4/5\n",
      "744/744 [==============================] - 12s 16ms/step - loss: 0.0602 - accuracy: 0.9724 - aucpr: 0.9976\n",
      "Epoch 5/5\n",
      "744/744 [==============================] - 13s 17ms/step - loss: 0.0481 - accuracy: 0.9838 - aucpr: 0.9983\n",
      "/home/yannick/bin/anaconda3_2018.12/envs/tf/lib/python3.7/site-packages/sklearn/metrics/ranking.py:528: RuntimeWarning: invalid value encountered in true_divide\n",
      "  recall = tps / tps[-1]\n",
      "test score = 0.679\n"
     ]
    }
   ],
   "source": [
    "training_generator = BalancedBatchGenerator(x_train, y_train,\n",
    "                                            sampler=RandomOverSampler(sampling_strategy=1.),\n",
    "                                            batch_size=512,\n",
    "                                            random_state=42)\n",
    "\n",
    "model = tf.keras.models.Sequential([\n",
    "  tf.keras.layers.Dense(x_train.shape[1], activation='relu'),\n",
    "  tf.keras.layers.Dropout(0.5),\n",
    "  tf.keras.layers.Dense(15, activation='relu'),\n",
    "  tf.keras.layers.Dropout(0.5),\n",
    "  tf.keras.layers.Dense(1, activation='sigmoid')\n",
    "])\n",
    "\n",
    "from sklearn.metrics import roc_auc_score, average_precision_score\n",
    "\n",
    "def aucpr(y_true, y_pred):\n",
    "    return tf.py_function(average_precision_score, (y_true, y_pred), tf.double)\n",
    "\n",
    "class_weight = {0: 1., 1: 10.}\n",
    "\n",
    "model.compile(optimizer='adam',\n",
    "              loss='binary_crossentropy',\n",
    "              metrics=['accuracy', aucpr])\n",
    "\n",
    "model.fit_generator(training_generator, epochs=5)\n",
    "model.evaluate(x_test,  y_test, verbose=4)\n",
    "y_hat = model.predict_proba(x_test)\n",
    "print(\"test score = %.3f\" % average_precision_score(y_test, y_hat))\n"
   ]
  },
  {
   "cell_type": "code",
   "execution_count": 8,
   "metadata": {},
   "outputs": [
    {
     "name": "stdout",
     "output_type": "stream",
     "text": [
      "Epoch 1/20\n",
      "2976/2976 [==============================] - 47s 16ms/step - loss: 0.1539 - accuracy: 0.8765 - aucpr: 0.9589\n",
      "Epoch 2/20\n",
      "2976/2976 [==============================] - 47s 16ms/step - loss: 0.0498 - accuracy: 0.9802 - aucpr: 0.9979\n",
      "Epoch 3/20\n",
      "2976/2976 [==============================] - 47s 16ms/step - loss: 0.0353 - accuracy: 0.9889 - aucpr: 0.9989\n",
      "Epoch 4/20\n",
      "2976/2976 [==============================] - 47s 16ms/step - loss: 0.0321 - accuracy: 0.9900 - aucpr: 0.9991\n",
      "Epoch 5/20\n",
      "2976/2976 [==============================] - 48s 16ms/step - loss: 0.0302 - accuracy: 0.9911 - aucpr: 0.9991\n",
      "Epoch 6/20\n",
      "2976/2976 [==============================] - 47s 16ms/step - loss: 0.0303 - accuracy: 0.9906 - aucpr: 0.9992\n",
      "Epoch 7/20\n",
      "2976/2976 [==============================] - 47s 16ms/step - loss: 0.0298 - accuracy: 0.9913 - aucpr: 0.9992\n",
      "Epoch 8/20\n",
      "2976/2976 [==============================] - 47s 16ms/step - loss: 0.0288 - accuracy: 0.9913 - aucpr: 0.9990\n",
      "Epoch 9/20\n",
      "2976/2976 [==============================] - 47s 16ms/step - loss: 0.0287 - accuracy: 0.9915 - aucpr: 0.9991\n",
      "Epoch 10/20\n",
      "2976/2976 [==============================] - 47s 16ms/step - loss: 0.0287 - accuracy: 0.9916 - aucpr: 0.9992\n",
      "Epoch 11/20\n",
      "2976/2976 [==============================] - 48s 16ms/step - loss: 0.0276 - accuracy: 0.9918 - aucpr: 0.9991\n",
      "Epoch 12/20\n",
      "2976/2976 [==============================] - 47s 16ms/step - loss: 0.0284 - accuracy: 0.9916 - aucpr: 0.9992\n",
      "Epoch 13/20\n",
      "2976/2976 [==============================] - 47s 16ms/step - loss: 0.0270 - accuracy: 0.9922 - aucpr: 0.9992\n",
      "Epoch 14/20\n",
      "2976/2976 [==============================] - 48s 16ms/step - loss: 0.0274 - accuracy: 0.9917 - aucpr: 0.9991\n",
      "Epoch 15/20\n",
      "2976/2976 [==============================] - 48s 16ms/step - loss: 0.0271 - accuracy: 0.9921 - aucpr: 0.9992\n",
      "Epoch 16/20\n",
      "2976/2976 [==============================] - 47s 16ms/step - loss: 0.0265 - accuracy: 0.9923 - aucpr: 0.9993\n",
      "Epoch 17/20\n",
      "2976/2976 [==============================] - 47s 16ms/step - loss: 0.0269 - accuracy: 0.9919 - aucpr: 0.9992\n",
      "Epoch 18/20\n",
      "2976/2976 [==============================] - 48s 16ms/step - loss: 0.0268 - accuracy: 0.9922 - aucpr: 0.9992\n",
      "Epoch 19/20\n",
      "2976/2976 [==============================] - 47s 16ms/step - loss: 0.0263 - accuracy: 0.9922 - aucpr: 0.9992\n",
      "Epoch 20/20\n",
      "2976/2976 [==============================] - 47s 16ms/step - loss: 0.0261 - accuracy: 0.9928 - aucpr: 0.9993\n",
      "/home/yannick/bin/anaconda3_2018.12/envs/tf/lib/python3.7/site-packages/sklearn/metrics/ranking.py:528: RuntimeWarning: invalid value encountered in true_divide\n",
      "  recall = tps / tps[-1]\n",
      "test score = 0.665\n"
     ]
    }
   ],
   "source": [
    "training_generator = BalancedBatchGenerator(x_train, y_train,\n",
    "                                            sampler=RandomOverSampler(sampling_strategy=1.),\n",
    "                                            batch_size=128,\n",
    "                                            random_state=42)\n",
    "\n",
    "model = tf.keras.models.Sequential([\n",
    "  tf.keras.layers.Dense(x_train.shape[1], activation='relu'),\n",
    "  tf.keras.layers.Dropout(0.5),\n",
    "  tf.keras.layers.Dense(15, activation='relu'),\n",
    "  tf.keras.layers.Dropout(0.5),\n",
    "  tf.keras.layers.Dense(1, activation='sigmoid')\n",
    "])\n",
    "\n",
    "from sklearn.metrics import roc_auc_score, average_precision_score\n",
    "\n",
    "def aucpr(y_true, y_pred):\n",
    "    return tf.py_function(average_precision_score, (y_true, y_pred), tf.double)\n",
    "\n",
    "class_weight = {0: 1., 1: 10.}\n",
    "\n",
    "model.compile(optimizer='adam',\n",
    "              loss='binary_crossentropy',\n",
    "              metrics=['accuracy', aucpr])\n",
    "\n",
    "model.fit_generator(training_generator, epochs=20)\n",
    "model.evaluate(x_test,  y_test, verbose=4)\n",
    "y_hat = model.predict_proba(x_test)\n",
    "print(\"test score = %.3f\" % average_precision_score(y_test, y_hat))\n"
   ]
  },
  {
   "cell_type": "code",
   "execution_count": 9,
   "metadata": {},
   "outputs": [
    {
     "name": "stdout",
     "output_type": "stream",
     "text": [
      "Epoch 1/7\n",
      "2976/2976 [==============================] - 46s 16ms/step - loss: 7.1271 - accuracy: 0.5077 - aucpr: 0.9258\n",
      "Epoch 2/7\n",
      "2976/2976 [==============================] - 47s 16ms/step - loss: 2.0867 - accuracy: 0.5065 - aucpr: 0.9725\n",
      "Epoch 3/7\n",
      "2976/2976 [==============================] - 46s 15ms/step - loss: 1.3462 - accuracy: 0.6101 - aucpr: 0.9787\n",
      "Epoch 4/7\n",
      "2976/2976 [==============================] - 58s 20ms/step - loss: 0.9551 - accuracy: 0.7708 - aucpr: 0.9796\n",
      "Epoch 5/7\n",
      "2976/2976 [==============================] - 60s 20ms/step - loss: 0.7468 - accuracy: 0.8503 - aucpr: 0.9833\n",
      "Epoch 6/7\n",
      "2976/2976 [==============================] - 63s 21ms/step - loss: 0.6687 - accuracy: 0.8687 - aucpr: 0.9870\n",
      "Epoch 7/7\n",
      "2976/2976 [==============================] - 47s 16ms/step - loss: 0.6060 - accuracy: 0.8762 - aucpr: 0.9899\n",
      "/home/yannick/bin/anaconda3_2018.12/envs/tf/lib/python3.7/site-packages/sklearn/metrics/ranking.py:528: RuntimeWarning: invalid value encountered in true_divide\n",
      "  recall = tps / tps[-1]\n",
      "test score = 0.194\n"
     ]
    }
   ],
   "source": [
    "training_generator = BalancedBatchGenerator(x_train, y_train,\n",
    "                                            sampler=RandomOverSampler(sampling_strategy=1.),\n",
    "                                            batch_size=128,\n",
    "                                            random_state=42)\n",
    "\n",
    "model = tf.keras.models.Sequential([\n",
    "  tf.keras.layers.Dense(x_train.shape[1], activation='relu'),\n",
    "  tf.keras.layers.Dropout(0.5),\n",
    "  tf.keras.layers.Dense(15, activation='relu'),\n",
    "  tf.keras.layers.Dropout(0.5),\n",
    "  tf.keras.layers.Dense(1, activation='sigmoid')\n",
    "])\n",
    "\n",
    "from sklearn.metrics import roc_auc_score, average_precision_score\n",
    "\n",
    "def aucpr(y_true, y_pred):\n",
    "    return tf.py_function(average_precision_score, (y_true, y_pred), tf.double)\n",
    "\n",
    "class_weight = {0: 1., 1: 1/y_train.mean()} # shall we use them?\n",
    "\n",
    "model.compile(optimizer='adam',\n",
    "              loss='binary_crossentropy',\n",
    "              metrics=['accuracy', aucpr])\n",
    "\n",
    "model.fit_generator(training_generator, epochs=7, class_weight=class_weight)\n",
    "model.evaluate(x_test, y_test, verbose=4)\n",
    "y_hat = model.predict_proba(x_test)\n",
    "print(\"test score = %.3f\" % average_precision_score(y_test, y_hat))\n"
   ]
  },
  {
   "cell_type": "code",
   "execution_count": 13,
   "metadata": {},
   "outputs": [
    {
     "name": "stdout",
     "output_type": "stream",
     "text": [
      "Epoch 1/7\n",
      "2976/2976 [==============================] - 59s 20ms/step - loss: 0.0223 - accuracy: 0.9928 - aucpr: 0.9989\n",
      "Epoch 2/7\n",
      "2976/2976 [==============================] - 61s 20ms/step - loss: 0.0065 - accuracy: 0.9987 - aucpr: 0.9997\n",
      "Epoch 3/7\n",
      "2976/2976 [==============================] - 61s 20ms/step - loss: 0.0046 - accuracy: 0.9991 - aucpr: 0.9997\n",
      "Epoch 4/7\n",
      "2976/2976 [==============================] - 59s 20ms/step - loss: 0.0058 - accuracy: 0.9991 - aucpr: 0.9996\n",
      "Epoch 5/7\n",
      "2976/2976 [==============================] - 55s 19ms/step - loss: 0.0069 - accuracy: 0.9991 - aucpr: 0.9995\n",
      "Epoch 6/7\n",
      "2976/2976 [==============================] - 56s 19ms/step - loss: 0.0059 - accuracy: 0.9992 - aucpr: 0.9996\n",
      "Epoch 7/7\n",
      "2976/2976 [==============================] - 56s 19ms/step - loss: 0.0037 - accuracy: 0.9994 - aucpr: 0.9997\n",
      "/home/yannick/bin/anaconda3_2018.12/envs/tf/lib/python3.7/site-packages/sklearn/metrics/ranking.py:528: RuntimeWarning: invalid value encountered in true_divide\n",
      "  recall = tps / tps[-1]\n",
      "test score = 0.678\n"
     ]
    }
   ],
   "source": [
    "training_generator = BalancedBatchGenerator(x_train, y_train,\n",
    "                                            sampler=RandomOverSampler(sampling_strategy=1.),\n",
    "                                            batch_size=128,\n",
    "                                            random_state=42)\n",
    "\n",
    "model = tf.keras.models.Sequential([\n",
    "  tf.keras.layers.Dense(256, input_shape=(x_train.shape[-1],), activation='relu'),\n",
    "  tf.keras.layers.Dropout(0.3),\n",
    "  tf.keras.layers.Dense(256, activation='relu'),\n",
    "  tf.keras.layers.Dropout(0.3),\n",
    "  tf.keras.layers.Dense(1, activation='sigmoid')\n",
    "])\n",
    "\n",
    "from sklearn.metrics import roc_auc_score, average_precision_score\n",
    "\n",
    "def aucpr(y_true, y_pred):\n",
    "    return tf.py_function(average_precision_score, (y_true, y_pred), tf.double)\n",
    "\n",
    "class_weight = {0: 1., 1: 1/y_train.mean()} # shall we use them?\n",
    "\n",
    "model.compile(optimizer='adam',\n",
    "              loss='binary_crossentropy',\n",
    "              metrics=['accuracy', aucpr])\n",
    "\n",
    "model.fit_generator(training_generator, epochs=7)\n",
    "model.evaluate(x_test, y_test, verbose=4)\n",
    "y_hat = model.predict_proba(x_test)\n",
    "print(\"test score = %.3f\" % average_precision_score(y_test, y_hat))\n"
   ]
  },
  {
   "cell_type": "code",
   "execution_count": 14,
   "metadata": {},
   "outputs": [
    {
     "name": "stdout",
     "output_type": "stream",
     "text": [
      "Train on 190820 samples\n",
      "Epoch 1/7\n",
      "  1696/190820 [..............................] - ETA: 1:28 - loss: 0.1613 - accuracy: 0.9752 - aucpr: nan/home/yannick/bin/anaconda3_2018.12/envs/tf/lib/python3.7/site-packages/sklearn/metrics/ranking.py:528: RuntimeWarning: invalid value encountered in true_divide\n",
      "  recall = tps / tps[-1]\n",
      "190820/190820 [==============================] - 16s 85us/sample - loss: 0.0064 - accuracy: 0.9991 - aucpr: nan\n",
      "Epoch 2/7\n",
      "190820/190820 [==============================] - 16s 82us/sample - loss: 0.0039 - accuracy: 0.9994 - aucpr: nan\n",
      "Epoch 3/7\n",
      "190820/190820 [==============================] - 17s 87us/sample - loss: 0.0039 - accuracy: 0.9994 - aucpr: nan\n",
      "Epoch 4/7\n",
      "190820/190820 [==============================] - 16s 85us/sample - loss: 0.0038 - accuracy: 0.9994 - aucpr: nan\n",
      "Epoch 5/7\n",
      "190820/190820 [==============================] - 16s 83us/sample - loss: 0.0036 - accuracy: 0.9994 - aucpr: nan\n",
      "Epoch 6/7\n",
      "190820/190820 [==============================] - 17s 87us/sample - loss: 0.0035 - accuracy: 0.9994 - aucpr: nan\n",
      "Epoch 7/7\n",
      "190820/190820 [==============================] - 16s 82us/sample - loss: 0.0039 - accuracy: 0.9994 - aucpr: nan\n",
      "test score = 0.813\n"
     ]
    }
   ],
   "source": [
    "training_generator = BalancedBatchGenerator(x_train, y_train,\n",
    "                                            sampler=RandomOverSampler(sampling_strategy=1.),\n",
    "                                            batch_size=2048,\n",
    "                                            random_state=42)\n",
    "\n",
    "model = tf.keras.models.Sequential([\n",
    "  tf.keras.layers.Dense(256, input_shape=(x_train.shape[-1],), activation='relu'),\n",
    "  tf.keras.layers.Dropout(0.3),\n",
    "  tf.keras.layers.Dense(256, activation='relu'),\n",
    "  tf.keras.layers.Dropout(0.3),\n",
    "  tf.keras.layers.Dense(1, activation='sigmoid')\n",
    "])\n",
    "\n",
    "from sklearn.metrics import roc_auc_score, average_precision_score\n",
    "\n",
    "def aucpr(y_true, y_pred):\n",
    "    return tf.py_function(average_precision_score, (y_true, y_pred), tf.double)\n",
    "\n",
    "class_weight = {0: 1., 1: 1/y_train.mean()} # shall we use them?\n",
    "\n",
    "model.compile(optimizer='adam',\n",
    "              loss='binary_crossentropy',\n",
    "              metrics=['accuracy', aucpr])\n",
    "\n",
    "model.fit(x_train, y_train, epochs=7)\n",
    "# model.fit_generator(training_generator, epochs=7)\n",
    "\n",
    "model.evaluate(x_test, y_test, verbose=4)\n",
    "y_hat = model.predict_proba(x_test)\n",
    "print(\"test score = %.3f\" % average_precision_score(y_test, y_hat))\n"
   ]
  }
 ],
 "metadata": {
  "file_extension": ".py",
  "kernelspec": {
   "display_name": "Python 3",
   "language": "python",
   "name": "python3"
  },
  "language_info": {
   "codemirror_mode": {
    "name": "ipython",
    "version": 3
   },
   "file_extension": ".py",
   "mimetype": "text/x-python",
   "name": "python",
   "nbconvert_exporter": "python",
   "pygments_lexer": "ipython3",
   "version": "3.7.3"
  },
  "mimetype": "text/x-python",
  "name": "python",
  "npconvert_exporter": "python",
  "pygments_lexer": "ipython3",
  "toc": {
   "base_numbering": 1,
   "nav_menu": {},
   "number_sections": true,
   "sideBar": true,
   "skip_h1_title": false,
   "title_cell": "Table of Contents",
   "title_sidebar": "Contents",
   "toc_cell": false,
   "toc_position": {},
   "toc_section_display": true,
   "toc_window_display": false
  },
  "varInspector": {
   "cols": {
    "lenName": 16,
    "lenType": 16,
    "lenVar": 40
   },
   "kernels_config": {
    "python": {
     "delete_cmd_postfix": "",
     "delete_cmd_prefix": "del ",
     "library": "var_list.py",
     "varRefreshCmd": "print(var_dic_list())"
    },
    "r": {
     "delete_cmd_postfix": ") ",
     "delete_cmd_prefix": "rm(",
     "library": "var_list.r",
     "varRefreshCmd": "cat(var_dic_list()) "
    }
   },
   "types_to_exclude": [
    "module",
    "function",
    "builtin_function_or_method",
    "instance",
    "_Feature"
   ],
   "window_display": false
  },
  "version": 3
 },
 "nbformat": 4,
 "nbformat_minor": 2
}
