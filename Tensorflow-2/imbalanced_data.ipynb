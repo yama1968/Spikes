{
 "cells": [
  {
   "cell_type": "markdown",
   "metadata": {
    "colab_type": "text",
    "id": "dUeKVCYTbcyT"
   },
   "source": [
    "#### Copyright 2019 The TensorFlow Authors."
   ]
  },
  {
   "cell_type": "code",
   "execution_count": 1,
   "metadata": {
    "cellView": "form",
    "colab": {},
    "colab_type": "code",
    "id": "4ellrPx7tdxq"
   },
   "outputs": [],
   "source": [
    "#@title Licensed under the Apache License, Version 2.0 (the \"License\");\n",
    "# you may not use this file except in compliance with the License.\n",
    "# You may obtain a copy of the License at\n",
    "#\n",
    "# https://www.apache.org/licenses/LICENSE-2.0\n",
    "#\n",
    "# Unless required by applicable law or agreed to in writing, software\n",
    "# distributed under the License is distributed on an \"AS IS\" BASIS,\n",
    "# WITHOUT WARRANTIES OR CONDITIONS OF ANY KIND, either express or implied.\n",
    "# See the License for the specific language governing permissions and\n",
    "# limitations under the License."
   ]
  },
  {
   "cell_type": "markdown",
   "metadata": {
    "colab_type": "text",
    "id": "7JfLUlawto_D"
   },
   "source": [
    "# Classification on imbalanced data"
   ]
  },
  {
   "cell_type": "markdown",
   "metadata": {
    "colab_type": "text",
    "id": "DwdpaTKJOoPu"
   },
   "source": [
    "<table class=\"tfo-notebook-buttons\" align=\"left\">\n",
    "  <td>\n",
    "    <a target=\"_blank\" href=\"https://www.tensorflow.org/tutorials/structured_data/imbalanced_data\"><img src=\"https://www.tensorflow.org/images/tf_logo_32px.png\" />View on TensorFlow.org</a>\n",
    "  </td>\n",
    "  <td>\n",
    "    <a target=\"_blank\" href=\"https://colab.research.google.com/github/tensorflow/docs/blob/master/site/en/tutorials/structured_data/imbalanced_data.ipynb\"><img src=\"https://www.tensorflow.org/images/colab_logo_32px.png\" />Run in Google Colab</a>\n",
    "  </td>\n",
    "  <td>\n",
    "    <a target=\"_blank\" href=\"https://github.com/tensorflow/docs/blob/master/site/en/tutorials/structured_data/imbalanced_data.ipynb\"><img src=\"https://www.tensorflow.org/images/GitHub-Mark-32px.png\" />View source on GitHub</a>\n",
    "  </td>\n",
    "  <td>\n",
    "    <a href=\"https://storage.googleapis.com/tensorflow_docs/docs/site/en/tutorials/structured_data/imbalanced_data.ipynb\"><img src=\"https://www.tensorflow.org/images/download_logo_32px.png\" />Download notebook</a>\n",
    "  </td>\n",
    "</table>"
   ]
  },
  {
   "cell_type": "markdown",
   "metadata": {
    "colab_type": "text",
    "id": "mthoSGBAOoX-"
   },
   "source": [
    "This tutorial demonstrates how to classify a highly imbalanced dataset in which the number of examples in one class greatly outnumbers the examples in another. You will work with the [Credit Card Fraud Detection](https://www.kaggle.com/mlg-ulb/creditcardfraud) dataset hosted on Kaggle. The aim is to detect a mere 492 fraudulent transactions from 284,807 transactions in total. You will use [Keras](../../guide/keras/overview.ipynb) to define the model and [class weights](https://www.tensorflow.org/versions/r2.0/api_docs/python/tf/keras/Model) to help the model learn from the imbalanced data. You will display metrics for precision, recall, true positives, false positives, true negatives, false negatives, and AUC while training the model. These are more informative than accuracy when working with imbalanced datasets classification.\n",
    "\n",
    "This tutorial contains complete code to:\n",
    "\n",
    "* Load a CSV file using Pandas.\n",
    "* Create train, validation, and test sets.\n",
    "* Define and train a model using Keras (including setting class weights).\n",
    "* Evaluate the model using various metrics (including precision and recall)."
   ]
  },
  {
   "cell_type": "markdown",
   "metadata": {
    "colab_type": "text",
    "id": "kRHmSyHxEIhN"
   },
   "source": [
    "## Import TensorFlow and other libraries"
   ]
  },
  {
   "cell_type": "code",
   "execution_count": 1,
   "metadata": {
    "colab": {},
    "colab_type": "code",
    "id": "yJHVo_K_v20i"
   },
   "outputs": [],
   "source": [
    "from __future__ import absolute_import, division, print_function, unicode_literals"
   ]
  },
  {
   "cell_type": "code",
   "execution_count": 2,
   "metadata": {
    "colab": {},
    "colab_type": "code",
    "id": "fYBlUQ5FvzxP"
   },
   "outputs": [],
   "source": [
    "try:\n",
    "  # %tensorflow_version only exists in Colab.\n",
    "  %tensorflow_version 2.x\n",
    "except Exception:\n",
    "  pass"
   ]
  },
  {
   "cell_type": "markdown",
   "metadata": {
    "colab": {},
    "colab_type": "code",
    "id": "jZk7QMofhnk_"
   },
   "source": [
    "!pip install -q imblearn"
   ]
  },
  {
   "cell_type": "code",
   "execution_count": 3,
   "metadata": {
    "colab": {},
    "colab_type": "code",
    "id": "JM7hDSNClfoK"
   },
   "outputs": [],
   "source": [
    "import tensorflow as tf\n",
    "from tensorflow import keras\n",
    "\n",
    "import matplotlib.pyplot as plt\n",
    "import numpy as np\n",
    "import pandas as pd\n",
    "from sklearn.metrics import confusion_matrix\n",
    "from sklearn.model_selection import train_test_split\n",
    "from sklearn.preprocessing import StandardScaler\n",
    "\n",
    "from sklearn.metrics import roc_auc_score, average_precision_score\n",
    "\n",
    "from imblearn.over_sampling import SMOTE, RandomOverSampler"
   ]
  },
  {
   "cell_type": "code",
   "execution_count": 4,
   "metadata": {},
   "outputs": [
    {
     "name": "stdout",
     "output_type": "stream",
     "text": [
      "[PhysicalDevice(name='/physical_device:CPU:0', device_type='CPU'), PhysicalDevice(name='/physical_device:XLA_CPU:0', device_type='XLA_CPU'), PhysicalDevice(name='/physical_device:XLA_GPU:0', device_type='XLA_GPU'), PhysicalDevice(name='/physical_device:GPU:0', device_type='GPU')]\n"
     ]
    }
   ],
   "source": [
    "\"\"\"\n",
    "import os\n",
    "os.environ[\"CUDA_DEVICE_ORDER\"] = \"PCI_BUS_ID\"   # see issue #152\n",
    "os.environ[\"CUDA_VISIBLE_DEVICES\"] = \"\"\n",
    "\"\"\"\n",
    "\n",
    "my_devices = tf.config.experimental.list_physical_devices()\n",
    "print(my_devices)"
   ]
  },
  {
   "cell_type": "markdown",
   "metadata": {
    "colab_type": "text",
    "id": "4sA9WOcmzH2D"
   },
   "source": [
    "## Use Pandas to get the Kaggle Credit Card Fraud data set\n",
    "\n",
    "Pandas is a Python library with many helpful utilities for loading and working with structured data and can be used to download CSVs into a dataframe.\n",
    "\n",
    "Note: This dataset has been collected and analysed during a research collaboration of Worldline and the [Machine Learning Group](http://mlg.ulb.ac.be) of ULB (Université Libre de Bruxelles) on big data mining and fraud detection. More details on current and past projects on related topics are available [here](https://www.researchgate.net/project/Fraud-detection-5) and the page of the [DefeatFraud](https://mlg.ulb.ac.be/wordpress/portfolio_page/defeatfraud-assessment-and-validation-of-deep-feature-engineering-and-learning-solutions-for-fraud-detection/) project"
   ]
  },
  {
   "cell_type": "code",
   "execution_count": 5,
   "metadata": {
    "colab": {},
    "colab_type": "code",
    "id": "pR_SnbMArXr7"
   },
   "outputs": [
    {
     "data": {
      "text/html": [
       "<div>\n",
       "<style scoped>\n",
       "    .dataframe tbody tr th:only-of-type {\n",
       "        vertical-align: middle;\n",
       "    }\n",
       "\n",
       "    .dataframe tbody tr th {\n",
       "        vertical-align: top;\n",
       "    }\n",
       "\n",
       "    .dataframe thead th {\n",
       "        text-align: right;\n",
       "    }\n",
       "</style>\n",
       "<table border=\"1\" class=\"dataframe\">\n",
       "  <thead>\n",
       "    <tr style=\"text-align: right;\">\n",
       "      <th></th>\n",
       "      <th>Time</th>\n",
       "      <th>V1</th>\n",
       "      <th>V2</th>\n",
       "      <th>V3</th>\n",
       "      <th>V4</th>\n",
       "      <th>V5</th>\n",
       "      <th>V6</th>\n",
       "      <th>V7</th>\n",
       "      <th>V8</th>\n",
       "      <th>V9</th>\n",
       "      <th>...</th>\n",
       "      <th>V21</th>\n",
       "      <th>V22</th>\n",
       "      <th>V23</th>\n",
       "      <th>V24</th>\n",
       "      <th>V25</th>\n",
       "      <th>V26</th>\n",
       "      <th>V27</th>\n",
       "      <th>V28</th>\n",
       "      <th>Amount</th>\n",
       "      <th>Class</th>\n",
       "    </tr>\n",
       "  </thead>\n",
       "  <tbody>\n",
       "    <tr>\n",
       "      <th>0</th>\n",
       "      <td>0.0</td>\n",
       "      <td>-1.359807</td>\n",
       "      <td>-0.072781</td>\n",
       "      <td>2.536347</td>\n",
       "      <td>1.378155</td>\n",
       "      <td>-0.338321</td>\n",
       "      <td>0.462388</td>\n",
       "      <td>0.239599</td>\n",
       "      <td>0.098698</td>\n",
       "      <td>0.363787</td>\n",
       "      <td>...</td>\n",
       "      <td>-0.018307</td>\n",
       "      <td>0.277838</td>\n",
       "      <td>-0.110474</td>\n",
       "      <td>0.066928</td>\n",
       "      <td>0.128539</td>\n",
       "      <td>-0.189115</td>\n",
       "      <td>0.133558</td>\n",
       "      <td>-0.021053</td>\n",
       "      <td>149.62</td>\n",
       "      <td>0</td>\n",
       "    </tr>\n",
       "    <tr>\n",
       "      <th>1</th>\n",
       "      <td>0.0</td>\n",
       "      <td>1.191857</td>\n",
       "      <td>0.266151</td>\n",
       "      <td>0.166480</td>\n",
       "      <td>0.448154</td>\n",
       "      <td>0.060018</td>\n",
       "      <td>-0.082361</td>\n",
       "      <td>-0.078803</td>\n",
       "      <td>0.085102</td>\n",
       "      <td>-0.255425</td>\n",
       "      <td>...</td>\n",
       "      <td>-0.225775</td>\n",
       "      <td>-0.638672</td>\n",
       "      <td>0.101288</td>\n",
       "      <td>-0.339846</td>\n",
       "      <td>0.167170</td>\n",
       "      <td>0.125895</td>\n",
       "      <td>-0.008983</td>\n",
       "      <td>0.014724</td>\n",
       "      <td>2.69</td>\n",
       "      <td>0</td>\n",
       "    </tr>\n",
       "    <tr>\n",
       "      <th>2</th>\n",
       "      <td>1.0</td>\n",
       "      <td>-1.358354</td>\n",
       "      <td>-1.340163</td>\n",
       "      <td>1.773209</td>\n",
       "      <td>0.379780</td>\n",
       "      <td>-0.503198</td>\n",
       "      <td>1.800499</td>\n",
       "      <td>0.791461</td>\n",
       "      <td>0.247676</td>\n",
       "      <td>-1.514654</td>\n",
       "      <td>...</td>\n",
       "      <td>0.247998</td>\n",
       "      <td>0.771679</td>\n",
       "      <td>0.909412</td>\n",
       "      <td>-0.689281</td>\n",
       "      <td>-0.327642</td>\n",
       "      <td>-0.139097</td>\n",
       "      <td>-0.055353</td>\n",
       "      <td>-0.059752</td>\n",
       "      <td>378.66</td>\n",
       "      <td>0</td>\n",
       "    </tr>\n",
       "    <tr>\n",
       "      <th>3</th>\n",
       "      <td>1.0</td>\n",
       "      <td>-0.966272</td>\n",
       "      <td>-0.185226</td>\n",
       "      <td>1.792993</td>\n",
       "      <td>-0.863291</td>\n",
       "      <td>-0.010309</td>\n",
       "      <td>1.247203</td>\n",
       "      <td>0.237609</td>\n",
       "      <td>0.377436</td>\n",
       "      <td>-1.387024</td>\n",
       "      <td>...</td>\n",
       "      <td>-0.108300</td>\n",
       "      <td>0.005274</td>\n",
       "      <td>-0.190321</td>\n",
       "      <td>-1.175575</td>\n",
       "      <td>0.647376</td>\n",
       "      <td>-0.221929</td>\n",
       "      <td>0.062723</td>\n",
       "      <td>0.061458</td>\n",
       "      <td>123.50</td>\n",
       "      <td>0</td>\n",
       "    </tr>\n",
       "    <tr>\n",
       "      <th>4</th>\n",
       "      <td>2.0</td>\n",
       "      <td>-1.158233</td>\n",
       "      <td>0.877737</td>\n",
       "      <td>1.548718</td>\n",
       "      <td>0.403034</td>\n",
       "      <td>-0.407193</td>\n",
       "      <td>0.095921</td>\n",
       "      <td>0.592941</td>\n",
       "      <td>-0.270533</td>\n",
       "      <td>0.817739</td>\n",
       "      <td>...</td>\n",
       "      <td>-0.009431</td>\n",
       "      <td>0.798278</td>\n",
       "      <td>-0.137458</td>\n",
       "      <td>0.141267</td>\n",
       "      <td>-0.206010</td>\n",
       "      <td>0.502292</td>\n",
       "      <td>0.219422</td>\n",
       "      <td>0.215153</td>\n",
       "      <td>69.99</td>\n",
       "      <td>0</td>\n",
       "    </tr>\n",
       "  </tbody>\n",
       "</table>\n",
       "<p>5 rows × 31 columns</p>\n",
       "</div>"
      ],
      "text/plain": [
       "   Time        V1        V2        V3        V4        V5        V6        V7  \\\n",
       "0   0.0 -1.359807 -0.072781  2.536347  1.378155 -0.338321  0.462388  0.239599   \n",
       "1   0.0  1.191857  0.266151  0.166480  0.448154  0.060018 -0.082361 -0.078803   \n",
       "2   1.0 -1.358354 -1.340163  1.773209  0.379780 -0.503198  1.800499  0.791461   \n",
       "3   1.0 -0.966272 -0.185226  1.792993 -0.863291 -0.010309  1.247203  0.237609   \n",
       "4   2.0 -1.158233  0.877737  1.548718  0.403034 -0.407193  0.095921  0.592941   \n",
       "\n",
       "         V8        V9  ...       V21       V22       V23       V24       V25  \\\n",
       "0  0.098698  0.363787  ... -0.018307  0.277838 -0.110474  0.066928  0.128539   \n",
       "1  0.085102 -0.255425  ... -0.225775 -0.638672  0.101288 -0.339846  0.167170   \n",
       "2  0.247676 -1.514654  ...  0.247998  0.771679  0.909412 -0.689281 -0.327642   \n",
       "3  0.377436 -1.387024  ... -0.108300  0.005274 -0.190321 -1.175575  0.647376   \n",
       "4 -0.270533  0.817739  ... -0.009431  0.798278 -0.137458  0.141267 -0.206010   \n",
       "\n",
       "        V26       V27       V28  Amount  Class  \n",
       "0 -0.189115  0.133558 -0.021053  149.62      0  \n",
       "1  0.125895 -0.008983  0.014724    2.69      0  \n",
       "2 -0.139097 -0.055353 -0.059752  378.66      0  \n",
       "3 -0.221929  0.062723  0.061458  123.50      0  \n",
       "4  0.502292  0.219422  0.215153   69.99      0  \n",
       "\n",
       "[5 rows x 31 columns]"
      ]
     },
     "execution_count": 5,
     "metadata": {},
     "output_type": "execute_result"
    }
   ],
   "source": [
    "# raw_df = pd.read_csv('https://storage.googleapis.com/download.tensorflow.org/data/creditcard.csv')\n",
    "raw_df = pd.read_csv(\"/home/yannick/.kaggle/creditcard.csv\")\n",
    "raw_df.head()"
   ]
  },
  {
   "cell_type": "markdown",
   "metadata": {
    "colab_type": "text",
    "id": "6qox6ryyzwdr"
   },
   "source": [
    "## Split the dataframe into train, validation, and test\n",
    "\n",
    "Split the dataset into train, validation, and test sets. The validation set is used during the model fitting to evaluate the loss and any metrics, however the model is not fit with this data. The test set is completely unused during the training phase and is only used at the end to evaluate how well the model generalizes to new data. This is especially important with imbalanced datasets where [overfitting](https://developers.google.com/machine-learning/crash-course/generalization/peril-of-overfitting) is a significant concern from the lack of training data."
   ]
  },
  {
   "cell_type": "code",
   "execution_count": 6,
   "metadata": {
    "colab": {},
    "colab_type": "code",
    "id": "IO-qEUmJ5JQg"
   },
   "outputs": [
    {
     "name": "stdout",
     "output_type": "stream",
     "text": [
      "Training labels shape: (179427,)\n",
      "Validation labels shape: (19937,)\n",
      "Test labels shape: (85443,)\n",
      "Training features shape: (179427, 30)\n",
      "Validation features shape: (19937, 30)\n",
      "Test features shape: (85443, 30)\n"
     ]
    }
   ],
   "source": [
    "# Use a utility from sklearn to split and shuffle our dataset.\n",
    "train_df, test_df = train_test_split(raw_df, test_size=0.3, random_state=42)\n",
    "train_df, val_df = train_test_split(train_df, test_size=0.1, random_state=42)\n",
    "\n",
    "# Form np arrays of labels and features.\n",
    "train_labels = np.array(train_df.pop('Class'))\n",
    "val_labels = np.array(val_df.pop('Class'))\n",
    "test_labels = np.array(test_df.pop('Class'))\n",
    "\n",
    "train_features = np.array(train_df)\n",
    "val_features = np.array(val_df)\n",
    "test_features = np.array(test_df)\n",
    "\n",
    "# Normalize the input features using the sklearn StandardScaler.\n",
    "# This will set the mean to 0 and standard deviation to 1.\n",
    "scaler = StandardScaler()\n",
    "train_features = scaler.fit_transform(train_features)\n",
    "val_features = scaler.transform(val_features)\n",
    "test_features = scaler.transform(test_features)\n",
    "\n",
    "print('Training labels shape:', train_labels.shape)\n",
    "print('Validation labels shape:', val_labels.shape)\n",
    "print('Test labels shape:', test_labels.shape)\n",
    "\n",
    "print('Training features shape:', train_features.shape)\n",
    "print('Validation features shape:', val_features.shape)\n",
    "print('Test features shape:', test_features.shape)\n"
   ]
  },
  {
   "cell_type": "markdown",
   "metadata": {
    "colab_type": "text",
    "id": "xWKB_CVZFLpB"
   },
   "source": [
    "## Examine the class label imbalance\n",
    "\n",
    "Let's look at the dataset imbalance:"
   ]
  },
  {
   "cell_type": "code",
   "execution_count": 7,
   "metadata": {
    "colab": {},
    "colab_type": "code",
    "id": "HCJFrtuY2iLF"
   },
   "outputs": [
    {
     "name": "stdout",
     "output_type": "stream",
     "text": [
      "319 positive samples out of 179427 training samples (0.18% of total)\n"
     ]
    }
   ],
   "source": [
    "neg, pos = np.bincount(train_labels)\n",
    "total = neg + pos\n",
    "print('{} positive samples out of {} training samples ({:.2f}% of total)'.format(\n",
    "    pos, total, 100 * pos / total))"
   ]
  },
  {
   "cell_type": "markdown",
   "metadata": {
    "colab_type": "text",
    "id": "KnLKFQDsCBUg"
   },
   "source": [
    "This shows a small fraction of positive samples."
   ]
  },
  {
   "cell_type": "markdown",
   "metadata": {
    "colab_type": "text",
    "id": "qFK1u4JX16D8"
   },
   "source": [
    "## Define the model and metrics\n",
    "\n",
    "Define a function that creates a simple neural network with three densely connected hidden layers, an output sigmoid layer that returns the probability of a transaction being fraudulent, and two [dropout](https://developers.google.com/machine-learning/glossary/#dropout_regularization) layers as an effective way to reduce overfitting."
   ]
  },
  {
   "cell_type": "code",
   "execution_count": 8,
   "metadata": {
    "colab": {},
    "colab_type": "code",
    "id": "3JQDzUqT3UYG"
   },
   "outputs": [],
   "source": [
    "def make_model():\n",
    "  model = keras.Sequential([\n",
    "      keras.layers.Dense(512, activation='relu',\n",
    "                         input_shape=(train_features.shape[-1],)),\n",
    "      keras.layers.Dense(256, activation='relu'),\n",
    "      keras.layers.Dropout(0.4),\n",
    "      keras.layers.Dense(256, activation='relu'),\n",
    "      keras.layers.Dropout(0.4),\n",
    "      keras.layers.Dense(1, activation='sigmoid'),\n",
    "  ])\n",
    "\n",
    "  metrics = [\n",
    "      keras.metrics.Accuracy(name='accuracy'),\n",
    "      keras.metrics.TruePositives(name='tp'),\n",
    "      keras.metrics.FalsePositives(name='fp'),\n",
    "      keras.metrics.TrueNegatives(name='tn'),\n",
    "      keras.metrics.FalseNegatives(name='fn'),\n",
    "      keras.metrics.Precision(name='precision'),\n",
    "      keras.metrics.Recall(name='recall'),\n",
    "      keras.metrics.AUC(name='auc')\n",
    "  ]\n",
    "\n",
    "  model.compile(\n",
    "      optimizer='adam',\n",
    "      loss='binary_crossentropy',\n",
    "      metrics=metrics)\n",
    "  \n",
    "  return model"
   ]
  },
  {
   "cell_type": "markdown",
   "metadata": {
    "colab_type": "text",
    "id": "SU0GX6E6mieP"
   },
   "source": [
    "## Understanding useful metrics\n",
    "\n",
    "Notice that there are a few metrics defined above that can be computed by the model that will be helpful when evaluating the performance.\n",
    "\n",
    "\n",
    "\n",
    "*   **False** negatives and **false** positives are samples that were **incorrectly** classified\n",
    "*   **True** negatives and **true** positives are samples that were **correctly** classified\n",
    "*   **Accuracy** is the percentage of examples correctly classified\n",
    ">   $\\frac{\\text{true samples}}{\\text{total samples}}$\n",
    "*   **Precision** is the percentage of **predicted** positives that were correctly classified\n",
    ">   $\\frac{\\text{true positives}}{\\text{true positives + false positives}}$\n",
    "*   **Recall** is the percentage of **actual** positives that were correctly classified\n",
    ">   $\\frac{\\text{true positives}}{\\text{true positives + false negatives}}$\n",
    "*   **AUC** refers to the Area Under the Curve of a Receiver Operating Characteristic curve (ROC-AUC). This metric is equal to the probability that a classifier will rank a random positive sample higher than than a random negative sample.\n",
    "\n",
    "<br>\n",
    "\n",
    "Read more:\n",
    "*  [True vs. False and Positive vs. Negative](https://developers.google.com/machine-learning/crash-course/classification/true-false-positive-negative)\n",
    "*  [Accuracy](https://developers.google.com/machine-learning/crash-course/classification/accuracy)\n",
    "*   [Precision and Recall](https://developers.google.com/machine-learning/crash-course/classification/precision-and-recall)\n",
    "*   [ROC-AUC](https://developers.google.com/machine-learning/crash-course/classification/roc-and-auc)"
   ]
  },
  {
   "cell_type": "markdown",
   "metadata": {
    "colab_type": "text",
    "id": "IDbltVPg2m2q"
   },
   "source": [
    "## Train a baseline model\n",
    "\n",
    "Now create and train your model using the function that was defined earlier. Notice that the model is fit using a larger than default batch size of 2048, this is important to ensure that each batch has a decent chance of containing a few positive samples. If the batch size was too small, they would likely have no fraudelent transactions to learn from.\n",
    "\n",
    "\n",
    "Note: this model will not handle the class imbalance well. You will improve it later in this tutorial."
   ]
  },
  {
   "cell_type": "code",
   "execution_count": 11,
   "metadata": {
    "colab": {},
    "colab_type": "code",
    "id": "yZKAc8NCDnoR"
   },
   "outputs": [
    {
     "name": "stdout",
     "output_type": "stream",
     "text": [
      "test score = 0.848\n",
      "CPU times: user 42 s, sys: 2.66 s, total: 44.6 s\n",
      "Wall time: 30.6 s\n"
     ]
    }
   ],
   "source": [
    "%%time\n",
    "\n",
    "model = make_model()\n",
    "\n",
    "EPOCHS = 40\n",
    "BATCH_SIZE = 2048\n",
    "\n",
    "history = model.fit(\n",
    "    train_features,\n",
    "    train_labels,\n",
    "    batch_size=BATCH_SIZE,\n",
    "    epochs=EPOCHS,\n",
    "    validation_data=(val_features, val_labels),\n",
    "    verbose=0)\n",
    "\n",
    "y_hat = model.predict_proba(test_features)\n",
    "print(\"test score = %.3f\" % average_precision_score(test_labels, y_hat))"
   ]
  },
  {
   "cell_type": "code",
   "execution_count": 10,
   "metadata": {},
   "outputs": [
    {
     "name": "stdout",
     "output_type": "stream",
     "text": [
      "Model: \"sequential\"\n",
      "_________________________________________________________________\n",
      "Layer (type)                 Output Shape              Param #   \n",
      "=================================================================\n",
      "dense (Dense)                (None, 512)               15872     \n",
      "_________________________________________________________________\n",
      "dense_1 (Dense)              (None, 256)               131328    \n",
      "_________________________________________________________________\n",
      "dropout (Dropout)            (None, 256)               0         \n",
      "_________________________________________________________________\n",
      "dense_2 (Dense)              (None, 256)               65792     \n",
      "_________________________________________________________________\n",
      "dropout_1 (Dropout)          (None, 256)               0         \n",
      "_________________________________________________________________\n",
      "dense_3 (Dense)              (None, 1)                 257       \n",
      "=================================================================\n",
      "Total params: 213,249\n",
      "Trainable params: 213,249\n",
      "Non-trainable params: 0\n",
      "_________________________________________________________________\n"
     ]
    }
   ],
   "source": [
    "model.summary()"
   ]
  },
  {
   "cell_type": "markdown",
   "metadata": {
    "colab_type": "text",
    "id": "iSaDBYU9xtP6"
   },
   "source": [
    "## Plot metrics on the training and validation sets\n",
    "In this section, you will produce plots of your model's accuracy and loss on the training and validation set. These are useful to check for overfitting, which you can learn more about in this [tutorial](https://www.tensorflow.org/tutorials/keras/overfit_and_underfit).\n",
    "\n",
    "Additionally, you can produce these plots for any of the metrics you created above. False negatives are included as an example."
   ]
  },
  {
   "cell_type": "code",
   "execution_count": 12,
   "metadata": {
    "colab": {},
    "colab_type": "code",
    "id": "WTSkhT1jyGu6"
   },
   "outputs": [
    {
     "data": {
      "text/plain": [
       "<matplotlib.legend.Legend at 0x7fc58c49d8d0>"
      ]
     },
     "execution_count": 12,
     "metadata": {},
     "output_type": "execute_result"
    },
    {
     "data": {
      "image/png": "[encoded data removed]",
      "text/plain": [
       "<Figure size 432x288 with 1 Axes>"
      ]
     },
     "metadata": {
      "needs_background": "light"
     },
     "output_type": "display_data"
    },
    {
     "data": {
      "image/png": "[encoded data removed]",
      "text/plain": [
       "<Figure size 432x288 with 1 Axes>"
      ]
     },
     "metadata": {
      "needs_background": "light"
     },
     "output_type": "display_data"
    },
    {
     "data": {
      "image/png": "[encoded data removed]",
      "text/plain": [
       "<Figure size 432x288 with 1 Axes>"
      ]
     },
     "metadata": {
      "needs_background": "light"
     },
     "output_type": "display_data"
    }
   ],
   "source": [
    "epochs = range(EPOCHS)\n",
    "\n",
    "plt.title('Accuracy')\n",
    "plt.plot(epochs,  history.history['accuracy'], color='blue', label='Train')\n",
    "plt.plot(epochs, history.history['val_accuracy'], color='orange', label='Val')\n",
    "plt.xlabel('Epoch')\n",
    "plt.ylabel('Accuracy')\n",
    "plt.legend()\n",
    "\n",
    "_ = plt.figure()\n",
    "plt.title('Loss')\n",
    "plt.plot(epochs, history.history['loss'], color='blue', label='Train')\n",
    "plt.plot(epochs, history.history['val_loss'], color='orange', label='Val')\n",
    "plt.xlabel('Epoch')\n",
    "plt.ylabel('Loss')\n",
    "plt.legend()\n",
    "\n",
    "_ = plt.figure()\n",
    "plt.title('False Negatives')\n",
    "plt.plot(epochs, history.history['fn'], color='blue', label='Train')\n",
    "plt.plot(epochs, history.history['val_fn'], color='orange', label='Val')\n",
    "plt.xlabel('Epoch')\n",
    "plt.ylabel('False Negatives')\n",
    "plt.legend()"
   ]
  },
  {
   "cell_type": "markdown",
   "metadata": {
    "colab_type": "text",
    "id": "oyOhKsc0yYxg"
   },
   "source": [
    "## Evaluate the baseline model\n",
    "\n",
    "Evaluate your model on the test dataset and display results for the metrics you created above."
   ]
  },
  {
   "cell_type": "code",
   "execution_count": 13,
   "metadata": {
    "colab": {},
    "colab_type": "code",
    "id": "rPfIaXn3Jr6B"
   },
   "outputs": [
    {
     "name": "stdout",
     "output_type": "stream",
     "text": [
      "85443/1 - 14s - loss: 0.0015 - accuracy: 0.5401 - tp: 113.0000 - fp: 14.0000 - tn: 85293.0000 - fn: 23.0000 - precision: 0.8898 - recall: 0.8309 - auc: 0.9482\n",
      "loss :  0.0029589861004233452\n",
      "accuracy :  0.5401379\n",
      "tp :  113.0\n",
      "fp :  14.0\n",
      "tn :  85293.0\n",
      "fn :  23.0\n",
      "precision :  0.8897638\n",
      "recall :  0.8308824\n",
      "auc :  0.9482409\n"
     ]
    }
   ],
   "source": [
    "results = model.evaluate(test_features, test_labels, verbose=2)\n",
    "for name, value in zip(model.metrics_names, results):\n",
    "  print(name, ': ', value)"
   ]
  },
  {
   "cell_type": "markdown",
   "metadata": {
    "colab_type": "text",
    "id": "gpdsFyp64DhY"
   },
   "source": [
    "It looks like the precision is relatively high, but the recall and AUC aren't as high as you might like. Classifiers often face challenges when trying to maximize both precision and recall, which is especially true when working with imbalanced datasets. However, because missing fraudulent transactions (false negatives) may have significantly worse business consequences than incorrectly flagging fraudulent transactions (false positives), recall may be more important than precision in this case."
   ]
  },
  {
   "cell_type": "markdown",
   "metadata": {
    "colab_type": "text",
    "id": "aJC1booryouo"
   },
   "source": [
    "## Examine the confusion matrix\n",
    "\n",
    "You can use a [confusion matrix](https://developers.google.com/machine-learning/glossary/#confusion_matrix) to summarize the actual vs. predicted labels where the X axis is the predicted label and the Y axis is the actual label."
   ]
  },
  {
   "cell_type": "code",
   "execution_count": 14,
   "metadata": {
    "colab": {},
    "colab_type": "code",
    "id": "poh_hZngt2_9"
   },
   "outputs": [
    {
     "data": {
      "image/png": "[encoded data removed]",
      "text/plain": [
       "<Figure size 288x288 with 1 Axes>"
      ]
     },
     "metadata": {
      "needs_background": "light"
     },
     "output_type": "display_data"
    },
    {
     "name": "stdout",
     "output_type": "stream",
     "text": [
      "Legitimate Transactions Detected (True Negatives):  85293\n",
      "Legitimate Transactions Incorrectly Detected (False Positives):  14\n",
      "Fraudulent Transactions Missed (False Negatives):  23\n",
      "Fraudulent Transactions Detected (True Positives):  113\n",
      "Total Fraudulent Transactions:  136\n"
     ]
    }
   ],
   "source": [
    "predicted_labels = model.predict(test_features)\n",
    "cm = confusion_matrix(test_labels, np.round(predicted_labels))\n",
    "\n",
    "plt.matshow(cm, alpha=0)\n",
    "plt.title('Confusion matrix')\n",
    "plt.ylabel('Actual label')\n",
    "plt.xlabel('Predicted label')\n",
    "\n",
    "for (i, j), z in np.ndenumerate(cm):\n",
    "    plt.text(j, i, str(z), ha='center', va='center')\n",
    "    \n",
    "plt.show()\n",
    "\n",
    "print('Legitimate Transactions Detected (True Negatives): ', cm[0][0])\n",
    "print('Legitimate Transactions Incorrectly Detected (False Positives): ', cm[0][1])\n",
    "print('Fraudulent Transactions Missed (False Negatives): ', cm[1][0])\n",
    "print('Fraudulent Transactions Detected (True Positives): ', cm[1][1])\n",
    "print('Total Fraudulent Transactions: ', np.sum(cm[1]))"
   ]
  },
  {
   "cell_type": "markdown",
   "metadata": {
    "colab_type": "text",
    "id": "PyZtSr1v6L4t"
   },
   "source": [
    "If the model had predicted everything perfectly, this would be a [diagonal matrix](https://en.wikipedia.org/wiki/Diagonal_matrix) where values off the main diagonal, indicating incorrect predictions, would be zero. In this case the matrix shows that you have relatively few false positives, meaning that there were relatively few legitimate transactions that were incorrectly flagged. However, you would likely want to have even fewer false negatives despite the cost of increasing the number of false positives. This trade off may be preferable because false negatives would allow fraudulent transactions to go through, whereas false positives may cause an email to be sent to a customer to ask them to verify their card activity."
   ]
  },
  {
   "cell_type": "markdown",
   "metadata": {
    "colab_type": "text",
    "id": "ePGp6GUE1WfH"
   },
   "source": [
    "## Using class weights for the loss function\n",
    "\n",
    "The goal is to identify fradulent transactions, but you don't have very many of those positive samples to work with, so you would want to have the classifier heavily weight the few examples that are available. You can do this by passing Keras weights for each class through a parameter. These will cause the model to \"pay more attention\" to examples from an under-represented class."
   ]
  },
  {
   "cell_type": "code",
   "execution_count": 15,
   "metadata": {
    "colab": {},
    "colab_type": "code",
    "id": "qjGWErngGny7"
   },
   "outputs": [
    {
     "name": "stdout",
     "output_type": "stream",
     "text": [
      "Weight for class 0: 5.58e-06\n",
      "Weight for class 1: 3.13e-03\n"
     ]
    }
   ],
   "source": [
    "\n",
    "weight_for_0 = 1 / neg\n",
    "weight_for_1 = 1 / pos\n",
    "\n",
    "class_weight = {0: weight_for_0, 1: weight_for_1}\n",
    "\n",
    "print('Weight for class 0: {:.2e}'.format(weight_for_0))\n",
    "print('Weight for class 1: {:.2e}'.format(weight_for_1))"
   ]
  },
  {
   "cell_type": "markdown",
   "metadata": {
    "colab_type": "text",
    "id": "Mk1OOE2ZSHzy"
   },
   "source": [
    "## Train a model with class weights\n",
    "\n",
    "Now try re-training and evaluating the model with class weights to see how that affects the predictions.\n",
    "\n",
    "Note: Using `class_weights` changes the range of the loss. This may affect the stability of the training depending on the optimizer. Optimizers who's step size is dependent on the magnitude of the gradient, like `optimizers.SGD`, may fail. The optimizer used here, `optimizers.Adam`, is unaffected by the scaling change. Also note that because of the weighting, the total losses are not comparable between the two models."
   ]
  },
  {
   "cell_type": "code",
   "execution_count": 16,
   "metadata": {
    "colab": {},
    "colab_type": "code",
    "id": "UJ589fn8ST3x"
   },
   "outputs": [
    {
     "name": "stdout",
     "output_type": "stream",
     "text": [
      "Train on 179427 samples, validate on 19937 samples\n",
      "Epoch 1/20\n",
      "179427/179427 [==============================] - 4s 23us/sample - loss: 5.0033e-06 - accuracy: 1.1147e-05 - tp: 293.0000 - fp: 79426.0000 - tn: 99682.0000 - fn: 26.0000 - precision: 0.0037 - recall: 0.9185 - auc: 0.9144 - val_loss: 2.8265e-06 - val_accuracy: 0.0000e+00 - val_tp: 34.0000 - val_fp: 109.0000 - val_tn: 19791.0000 - val_fn: 3.0000 - val_precision: 0.2378 - val_recall: 0.9189 - val_auc: 0.9743\n",
      "Epoch 2/20\n",
      "179427/179427 [==============================] - 1s 5us/sample - loss: 2.9719e-06 - accuracy: 1.2261e-04 - tp: 271.0000 - fp: 2518.0000 - tn: 176590.0000 - fn: 48.0000 - precision: 0.0972 - recall: 0.8495 - auc: 0.9453 - val_loss: 1.6953e-06 - val_accuracy: 4.5142e-04 - val_tp: 35.0000 - val_fp: 301.0000 - val_tn: 19599.0000 - val_fn: 2.0000 - val_precision: 0.1042 - val_recall: 0.9459 - val_auc: 0.9873\n",
      "Epoch 3/20\n",
      "179427/179427 [==============================] - 1s 5us/sample - loss: 2.1334e-06 - accuracy: 3.0653e-04 - tp: 282.0000 - fp: 4297.0000 - tn: 174811.0000 - fn: 37.0000 - precision: 0.0616 - recall: 0.8840 - auc: 0.9731 - val_loss: 1.2089e-06 - val_accuracy: 5.0158e-04 - val_tp: 35.0000 - val_fp: 328.0000 - val_tn: 19572.0000 - val_fn: 2.0000 - val_precision: 0.0964 - val_recall: 0.9459 - val_auc: 0.9956\n",
      "Epoch 4/20\n",
      "179427/179427 [==============================] - 1s 5us/sample - loss: 1.8976e-06 - accuracy: 4.4586e-04 - tp: 286.0000 - fp: 5309.0000 - tn: 173799.0000 - fn: 33.0000 - precision: 0.0511 - recall: 0.8966 - auc: 0.9791 - val_loss: 9.7087e-07 - val_accuracy: 7.0221e-04 - val_tp: 36.0000 - val_fp: 387.0000 - val_tn: 19513.0000 - val_fn: 1.0000 - val_precision: 0.0851 - val_recall: 0.9730 - val_auc: 0.9971\n",
      "Epoch 5/20\n",
      "179427/179427 [==============================] - 1s 5us/sample - loss: 1.6393e-06 - accuracy: 5.7962e-04 - tp: 289.0000 - fp: 4047.0000 - tn: 175061.0000 - fn: 30.0000 - precision: 0.0667 - recall: 0.9060 - auc: 0.9848 - val_loss: 1.0724e-06 - val_accuracy: 7.5237e-04 - val_tp: 36.0000 - val_fp: 752.0000 - val_tn: 19148.0000 - val_fn: 1.0000 - val_precision: 0.0457 - val_recall: 0.9730 - val_auc: 0.9968\n",
      "Epoch 6/20\n",
      "179427/179427 [==============================] - 1s 5us/sample - loss: 1.4861e-06 - accuracy: 7.9698e-04 - tp: 295.0000 - fp: 5251.0000 - tn: 173857.0000 - fn: 24.0000 - precision: 0.0532 - recall: 0.9248 - auc: 0.9885 - val_loss: 1.0616e-06 - val_accuracy: 8.0253e-04 - val_tp: 35.0000 - val_fp: 815.0000 - val_tn: 19085.0000 - val_fn: 2.0000 - val_precision: 0.0412 - val_recall: 0.9459 - val_auc: 0.9963\n",
      "Epoch 7/20\n",
      "179427/179427 [==============================] - 1s 6us/sample - loss: 1.3727e-06 - accuracy: 0.0011 - tp: 297.0000 - fp: 5394.0000 - tn: 173714.0000 - fn: 22.0000 - precision: 0.0522 - recall: 0.9310 - auc: 0.9912 - val_loss: 1.0354e-06 - val_accuracy: 0.0010 - val_tp: 35.0000 - val_fp: 407.0000 - val_tn: 19493.0000 - val_fn: 2.0000 - val_precision: 0.0792 - val_recall: 0.9459 - val_auc: 0.9948\n",
      "Epoch 8/20\n",
      "179427/179427 [==============================] - 1s 5us/sample - loss: 1.2833e-06 - accuracy: 0.0014 - tp: 302.0000 - fp: 5283.0000 - tn: 173825.0000 - fn: 17.0000 - precision: 0.0541 - recall: 0.9467 - auc: 0.9920 - val_loss: 1.3044e-06 - val_accuracy: 0.0019 - val_tp: 35.0000 - val_fp: 359.0000 - val_tn: 19541.0000 - val_fn: 2.0000 - val_precision: 0.0888 - val_recall: 0.9459 - val_auc: 0.9878\n",
      "Epoch 9/20\n",
      "179427/179427 [==============================] - 1s 5us/sample - loss: 1.1447e-06 - accuracy: 0.0026 - tp: 298.0000 - fp: 4737.0000 - tn: 174371.0000 - fn: 21.0000 - precision: 0.0592 - recall: 0.9342 - auc: 0.9941 - val_loss: 1.2794e-06 - val_accuracy: 0.0023 - val_tp: 35.0000 - val_fp: 535.0000 - val_tn: 19365.0000 - val_fn: 2.0000 - val_precision: 0.0614 - val_recall: 0.9459 - val_auc: 0.9893\n",
      "Epoch 10/20\n",
      "179427/179427 [==============================] - 1s 5us/sample - loss: 1.0672e-06 - accuracy: 0.0035 - tp: 303.0000 - fp: 4687.0000 - tn: 174421.0000 - fn: 16.0000 - precision: 0.0607 - recall: 0.9498 - auc: 0.9948 - val_loss: 1.5958e-06 - val_accuracy: 0.0045 - val_tp: 35.0000 - val_fp: 293.0000 - val_tn: 19607.0000 - val_fn: 2.0000 - val_precision: 0.1067 - val_recall: 0.9459 - val_auc: 0.9774\n",
      "Epoch 11/20\n",
      "179427/179427 [==============================] - 1s 6us/sample - loss: 1.0137e-06 - accuracy: 0.0042 - tp: 308.0000 - fp: 5458.0000 - tn: 173650.0000 - fn: 11.0000 - precision: 0.0534 - recall: 0.9655 - auc: 0.9956 - val_loss: 1.5052e-06 - val_accuracy: 0.0021 - val_tp: 35.0000 - val_fp: 756.0000 - val_tn: 19144.0000 - val_fn: 2.0000 - val_precision: 0.0442 - val_recall: 0.9459 - val_auc: 0.9866\n",
      "Epoch 12/20\n",
      "179427/179427 [==============================] - 1s 5us/sample - loss: 9.8112e-07 - accuracy: 0.0034 - tp: 305.0000 - fp: 4326.0000 - tn: 174782.0000 - fn: 14.0000 - precision: 0.0659 - recall: 0.9561 - auc: 0.9960 - val_loss: 1.2585e-06 - val_accuracy: 0.0034 - val_tp: 35.0000 - val_fp: 740.0000 - val_tn: 19160.0000 - val_fn: 2.0000 - val_precision: 0.0452 - val_recall: 0.9459 - val_auc: 0.9928\n",
      "Epoch 13/20\n",
      "179427/179427 [==============================] - 1s 5us/sample - loss: 7.8488e-07 - accuracy: 0.0049 - tp: 311.0000 - fp: 4045.0000 - tn: 175063.0000 - fn: 8.0000 - precision: 0.0714 - recall: 0.9749 - auc: 0.9976 - val_loss: 1.5817e-06 - val_accuracy: 0.0052 - val_tp: 35.0000 - val_fp: 401.0000 - val_tn: 19499.0000 - val_fn: 2.0000 - val_precision: 0.0803 - val_recall: 0.9459 - val_auc: 0.9793\n",
      "Epoch 14/20\n",
      "179427/179427 [==============================] - 1s 6us/sample - loss: 8.8321e-07 - accuracy: 0.0055 - tp: 306.0000 - fp: 4873.0000 - tn: 174235.0000 - fn: 13.0000 - precision: 0.0591 - recall: 0.9592 - auc: 0.9965 - val_loss: 1.4441e-06 - val_accuracy: 0.0055 - val_tp: 35.0000 - val_fp: 512.0000 - val_tn: 19388.0000 - val_fn: 2.0000 - val_precision: 0.0640 - val_recall: 0.9459 - val_auc: 0.9882\n",
      "Epoch 15/20\n",
      "179427/179427 [==============================] - 1s 6us/sample - loss: 7.0446e-07 - accuracy: 0.0078 - tp: 310.0000 - fp: 3756.0000 - tn: 175352.0000 - fn: 9.0000 - precision: 0.0762 - recall: 0.9718 - auc: 0.9980 - val_loss: 1.5661e-06 - val_accuracy: 0.0077 - val_tp: 35.0000 - val_fp: 567.0000 - val_tn: 19333.0000 - val_fn: 2.0000 - val_precision: 0.0581 - val_recall: 0.9459 - val_auc: 0.9803\n",
      "Epoch 16/20\n",
      "179427/179427 [==============================] - 1s 7us/sample - loss: 6.4889e-07 - accuracy: 0.0103 - tp: 313.0000 - fp: 3419.0000 - tn: 175689.0000 - fn: 6.0000 - precision: 0.0839 - recall: 0.9812 - auc: 0.9983 - val_loss: 1.2788e-06 - val_accuracy: 0.0101 - val_tp: 35.0000 - val_fp: 334.0000 - val_tn: 19566.0000 - val_fn: 2.0000 - val_precision: 0.0949 - val_recall: 0.9459 - val_auc: 0.9929\n",
      "Epoch 17/20\n",
      "179427/179427 [==============================] - 1s 6us/sample - loss: 5.9486e-07 - accuracy: 0.0144 - tp: 307.0000 - fp: 3301.0000 - tn: 175807.0000 - fn: 12.0000 - precision: 0.0851 - recall: 0.9624 - auc: 0.9985 - val_loss: 1.9100e-06 - val_accuracy: 0.0129 - val_tp: 35.0000 - val_fp: 349.0000 - val_tn: 19551.0000 - val_fn: 2.0000 - val_precision: 0.0911 - val_recall: 0.9459 - val_auc: 0.9816\n",
      "Epoch 18/20\n",
      "179427/179427 [==============================] - 1s 5us/sample - loss: 5.0534e-07 - accuracy: 0.0167 - tp: 316.0000 - fp: 3212.0000 - tn: 175896.0000 - fn: 3.0000 - precision: 0.0896 - recall: 0.9906 - auc: 0.9988 - val_loss: 2.2702e-06 - val_accuracy: 0.0166 - val_tp: 35.0000 - val_fp: 272.0000 - val_tn: 19628.0000 - val_fn: 2.0000 - val_precision: 0.1140 - val_recall: 0.9459 - val_auc: 0.9826\n",
      "Epoch 19/20\n",
      "179427/179427 [==============================] - 1s 6us/sample - loss: 4.5297e-07 - accuracy: 0.0266 - tp: 316.0000 - fp: 2456.0000 - tn: 176652.0000 - fn: 3.0000 - precision: 0.1140 - recall: 0.9906 - auc: 0.9990 - val_loss: 2.0139e-06 - val_accuracy: 0.0168 - val_tp: 35.0000 - val_fp: 338.0000 - val_tn: 19562.0000 - val_fn: 2.0000 - val_precision: 0.0938 - val_recall: 0.9459 - val_auc: 0.9827\n",
      "Epoch 20/20\n",
      "179427/179427 [==============================] - 1s 7us/sample - loss: 6.7635e-07 - accuracy: 0.0268 - tp: 311.0000 - fp: 4359.0000 - tn: 174749.0000 - fn: 8.0000 - precision: 0.0666 - recall: 0.9749 - auc: 0.9976 - val_loss: 2.3237e-06 - val_accuracy: 0.0177 - val_tp: 35.0000 - val_fp: 697.0000 - val_tn: 19203.0000 - val_fn: 2.0000 - val_precision: 0.0478 - val_recall: 0.9459 - val_auc: 0.9811\n",
      "test score = 0.740\n"
     ]
    }
   ],
   "source": [
    "weighted_model = make_model()\n",
    "\n",
    "weighted_history = weighted_model.fit(\n",
    "    train_features,\n",
    "    train_labels,\n",
    "    batch_size=BATCH_SIZE,\n",
    "    epochs=EPOCHS,\n",
    "    validation_data=(val_features, val_labels),\n",
    "    class_weight=class_weight)\n",
    "\n",
    "y_hat = weighted_model.predict_proba(test_features)\n",
    "print(\"test score = %.3f\" % average_precision_score(test_labels, y_hat))"
   ]
  },
  {
   "cell_type": "code",
   "execution_count": 17,
   "metadata": {
    "colab": {},
    "colab_type": "code",
    "id": "owKL2vdMBJr6"
   },
   "outputs": [
    {
     "name": "stdout",
     "output_type": "stream",
     "text": [
      "85443/1 - 16s - loss: 0.0510 - accuracy: 0.0186 - tp: 128.0000 - fp: 3072.0000 - tn: 82235.0000 - fn: 8.0000 - precision: 0.0400 - recall: 0.9412 - auc: 0.9802\n",
      "loss :  0.09768208743013762\n",
      "accuracy :  0.018597193\n",
      "tp :  128.0\n",
      "fp :  3072.0\n",
      "tn :  82235.0\n",
      "fn :  8.0\n",
      "precision :  0.04\n",
      "recall :  0.9411765\n",
      "auc :  0.9802051\n"
     ]
    }
   ],
   "source": [
    "weighted_results = weighted_model.evaluate(test_features, test_labels, verbose=2)\n",
    "for name, value in zip(weighted_model.metrics_names, weighted_results):\n",
    "  print(name, ': ', value)"
   ]
  },
  {
   "cell_type": "markdown",
   "metadata": {
    "colab_type": "text",
    "id": "PTh1rtDn8r4-"
   },
   "source": [
    "Here you can see that with class weights the accuracy and precision are lower because there are more false positives, but conversely the recall and AUC are higher because the model also found more true positives. Despite having lower overall accuracy, this approach may be better when considering the consequences of failing to identify fraudulent transactions driving the prioritization of recall. Depending on how bad false negatives are, you might use even more exaggerated weights to further improve recall while dropping precision."
   ]
  },
  {
   "cell_type": "markdown",
   "metadata": {
    "colab_type": "text",
    "id": "18VUHNc-UF5w"
   },
   "source": [
    "## Oversampling the minority class\n",
    "\n",
    "A related approach would be to resample the dataset by oversampling the minority class, which is the process of creating more positive samples using something like sklearn's [imbalanced-learn library](https://github.com/scikit-learn-contrib/imbalanced-learn). This library provides methods to create new positive samples by simply duplicating random existing samples, or by interpolating between them to generate synthetic samples using variations of [SMOTE](https://en.wikipedia.org/wiki/Oversampling_and_undersampling_in_data_analysis#Oversampling_techniques_for_classification_problems). TensorFlow also provides a way to do [Random Oversampling](https://www.tensorflow.org/api_docs/python/tf/data/experimental/sample_from_datasets)."
   ]
  },
  {
   "cell_type": "code",
   "execution_count": 18,
   "metadata": {
    "colab": {},
    "colab_type": "code",
    "id": "jOlgyG1D6kCU"
   },
   "outputs": [
    {
     "name": "stdout",
     "output_type": "stream",
     "text": [
      "89554 positive samples out of 268662 training samples (33.33% of total)\n"
     ]
    }
   ],
   "source": [
    "# with default args this will oversample the minority class to have an equal\n",
    "# number of observations\n",
    "smote = SMOTE()\n",
    "res_features, res_labels = smote.fit_sample(train_features, train_labels)\n",
    "\n",
    "smote = RandomOverSampler(0.5)\n",
    "res_features, res_labels = smote.fit_sample(train_features, train_labels)\n",
    "\n",
    "\n",
    "res_neg, res_pos = np.bincount(res_labels)\n",
    "res_total = res_neg + res_pos\n",
    "print('{} positive samples out of {} training samples ({:.2f}% of total)'.format(\n",
    "    res_pos, res_total, 100 * res_pos / res_total))"
   ]
  },
  {
   "cell_type": "markdown",
   "metadata": {
    "colab_type": "text",
    "id": "XZ1BvEpcBVHP"
   },
   "source": [
    "## Train and evaluate a model on the resampled data\n",
    "\n",
    "Now try training the model with the resampled data set instead of using class weights to see how these methods compare."
   ]
  },
  {
   "cell_type": "code",
   "execution_count": 19,
   "metadata": {
    "colab": {},
    "colab_type": "code",
    "id": "7Hz_-DuLA6Yd"
   },
   "outputs": [
    {
     "name": "stdout",
     "output_type": "stream",
     "text": [
      "Train on 268662 samples, validate on 19937 samples\n",
      "Epoch 1/20\n",
      "268662/268662 [==============================] - 34s 125us/sample - loss: 0.0211 - accuracy: 0.5616 - tp: 88788.0000 - fp: 898.0000 - tn: 178210.0000 - fn: 766.0000 - precision: 0.9900 - recall: 0.9914 - auc: 0.9994 - val_loss: 0.0130 - val_accuracy: 0.6190 - val_tp: 34.0000 - val_fp: 59.0000 - val_tn: 19841.0000 - val_fn: 3.0000 - val_precision: 0.3656 - val_recall: 0.9189 - val_auc: 0.9718\n",
      "Epoch 2/20\n",
      "268662/268662 [==============================] - 31s 116us/sample - loss: 0.0079 - accuracy: 0.6338 - tp: 89428.0000 - fp: 293.0000 - tn: 178815.0000 - fn: 126.0000 - precision: 0.9967 - recall: 0.9986 - auc: 0.9997 - val_loss: 0.0072 - val_accuracy: 0.7926 - val_tp: 34.0000 - val_fp: 17.0000 - val_tn: 19883.0000 - val_fn: 3.0000 - val_precision: 0.6667 - val_recall: 0.9189 - val_auc: 0.9590\n",
      "Epoch 3/20\n",
      "268662/268662 [==============================] - 31s 116us/sample - loss: 0.0057 - accuracy: 0.6877 - tp: 89446.0000 - fp: 212.0000 - tn: 178896.0000 - fn: 108.0000 - precision: 0.9976 - recall: 0.9988 - auc: 0.9998 - val_loss: 0.0072 - val_accuracy: 0.8898 - val_tp: 34.0000 - val_fp: 17.0000 - val_tn: 19883.0000 - val_fn: 3.0000 - val_precision: 0.6667 - val_recall: 0.9189 - val_auc: 0.9591\n",
      "Epoch 4/20\n",
      "268662/268662 [==============================] - 31s 116us/sample - loss: 0.0054 - accuracy: 0.7217 - tp: 89463.0000 - fp: 176.0000 - tn: 178932.0000 - fn: 91.0000 - precision: 0.9980 - recall: 0.9990 - auc: 0.9998 - val_loss: 0.0074 - val_accuracy: 0.8887 - val_tp: 34.0000 - val_fp: 14.0000 - val_tn: 19886.0000 - val_fn: 3.0000 - val_precision: 0.7083 - val_recall: 0.9189 - val_auc: 0.9591\n",
      "Epoch 5/20\n",
      "268662/268662 [==============================] - 31s 115us/sample - loss: 0.0043 - accuracy: 0.7543 - tp: 89481.0000 - fp: 127.0000 - tn: 178981.0000 - fn: 73.0000 - precision: 0.9986 - recall: 0.9992 - auc: 0.9998 - val_loss: 0.0103 - val_accuracy: 0.9640 - val_tp: 33.0000 - val_fp: 10.0000 - val_tn: 19890.0000 - val_fn: 4.0000 - val_precision: 0.7674 - val_recall: 0.8919 - val_auc: 0.9592\n",
      "Epoch 6/20\n",
      "268662/268662 [==============================] - 18s 66us/sample - loss: 0.0046 - accuracy: 0.7921 - tp: 89481.0000 - fp: 129.0000 - tn: 178979.0000 - fn: 73.0000 - precision: 0.9986 - recall: 0.9992 - auc: 0.9998 - val_loss: 0.0119 - val_accuracy: 0.9326 - val_tp: 34.0000 - val_fp: 17.0000 - val_tn: 19883.0000 - val_fn: 3.0000 - val_precision: 0.6667 - val_recall: 0.9189 - val_auc: 0.9590\n",
      "Epoch 7/20\n",
      "268662/268662 [==============================] - 18s 67us/sample - loss: 0.0036 - accuracy: 0.8201 - tp: 89489.0000 - fp: 110.0000 - tn: 178998.0000 - fn: 65.0000 - precision: 0.9988 - recall: 0.9993 - auc: 0.9998 - val_loss: 0.0134 - val_accuracy: 0.9902 - val_tp: 33.0000 - val_fp: 10.0000 - val_tn: 19890.0000 - val_fn: 4.0000 - val_precision: 0.7674 - val_recall: 0.8919 - val_auc: 0.9593\n",
      "Epoch 8/20\n",
      "268662/268662 [==============================] - 17s 63us/sample - loss: 0.0041 - accuracy: 0.8557 - tp: 89497.0000 - fp: 108.0000 - tn: 179000.0000 - fn: 57.0000 - precision: 0.9988 - recall: 0.9994 - auc: 0.9998 - val_loss: 0.0113 - val_accuracy: 0.9700 - val_tp: 34.0000 - val_fp: 14.0000 - val_tn: 19886.0000 - val_fn: 3.0000 - val_precision: 0.7083 - val_recall: 0.9189 - val_auc: 0.9592\n",
      "Epoch 9/20\n",
      "268662/268662 [==============================] - 17s 63us/sample - loss: 0.0042 - accuracy: 0.8699 - tp: 89487.0000 - fp: 95.0000 - tn: 179013.0000 - fn: 67.0000 - precision: 0.9989 - recall: 0.9993 - auc: 0.9998 - val_loss: 0.0117 - val_accuracy: 0.9283 - val_tp: 33.0000 - val_fp: 18.0000 - val_tn: 19882.0000 - val_fn: 4.0000 - val_precision: 0.6471 - val_recall: 0.8919 - val_auc: 0.9591\n",
      "Epoch 10/20\n",
      "268662/268662 [==============================] - 17s 62us/sample - loss: 0.0037 - accuracy: 0.8709 - tp: 89488.0000 - fp: 96.0000 - tn: 179012.0000 - fn: 66.0000 - precision: 0.9989 - recall: 0.9993 - auc: 0.9998 - val_loss: 0.0105 - val_accuracy: 0.9677 - val_tp: 34.0000 - val_fp: 8.0000 - val_tn: 19892.0000 - val_fn: 3.0000 - val_precision: 0.8095 - val_recall: 0.9189 - val_auc: 0.9593\n",
      "Epoch 11/20\n",
      "268662/268662 [==============================] - 17s 63us/sample - loss: 0.0033 - accuracy: 0.9016 - tp: 89510.0000 - fp: 84.0000 - tn: 179024.0000 - fn: 44.0000 - precision: 0.9991 - recall: 0.9995 - auc: 0.9999 - val_loss: 0.0097 - val_accuracy: 0.9682 - val_tp: 34.0000 - val_fp: 9.0000 - val_tn: 19891.0000 - val_fn: 3.0000 - val_precision: 0.7907 - val_recall: 0.9189 - val_auc: 0.9593\n",
      "Epoch 12/20\n",
      "268662/268662 [==============================] - 18s 67us/sample - loss: 0.0033 - accuracy: 0.8938 - tp: 89501.0000 - fp: 79.0000 - tn: 179029.0000 - fn: 53.0000 - precision: 0.9991 - recall: 0.9994 - auc: 0.9998 - val_loss: 0.0085 - val_accuracy: 0.9146 - val_tp: 34.0000 - val_fp: 8.0000 - val_tn: 19892.0000 - val_fn: 3.0000 - val_precision: 0.8095 - val_recall: 0.9189 - val_auc: 0.9592\n",
      "Epoch 13/20\n",
      "268662/268662 [==============================] - 17s 64us/sample - loss: 0.0036 - accuracy: 0.9093 - tp: 89511.0000 - fp: 81.0000 - tn: 179027.0000 - fn: 43.0000 - precision: 0.9991 - recall: 0.9995 - auc: 0.9998 - val_loss: 0.0108 - val_accuracy: 0.9735 - val_tp: 34.0000 - val_fp: 9.0000 - val_tn: 19891.0000 - val_fn: 3.0000 - val_precision: 0.7907 - val_recall: 0.9189 - val_auc: 0.9593\n",
      "Epoch 14/20\n",
      "268662/268662 [==============================] - 17s 65us/sample - loss: 0.0027 - accuracy: 0.9204 - tp: 89515.0000 - fp: 76.0000 - tn: 179032.0000 - fn: 39.0000 - precision: 0.9992 - recall: 0.9996 - auc: 0.9999 - val_loss: 0.0109 - val_accuracy: 0.9783 - val_tp: 34.0000 - val_fp: 8.0000 - val_tn: 19892.0000 - val_fn: 3.0000 - val_precision: 0.8095 - val_recall: 0.9189 - val_auc: 0.9593\n",
      "Epoch 15/20\n",
      "268662/268662 [==============================] - 18s 66us/sample - loss: 0.0034 - accuracy: 0.9129 - tp: 89507.0000 - fp: 75.0000 - tn: 179033.0000 - fn: 47.0000 - precision: 0.9992 - recall: 0.9995 - auc: 0.9998 - val_loss: 0.0126 - val_accuracy: 0.9888 - val_tp: 33.0000 - val_fp: 6.0000 - val_tn: 19894.0000 - val_fn: 4.0000 - val_precision: 0.8462 - val_recall: 0.8919 - val_auc: 0.9458\n",
      "Epoch 16/20\n",
      "268662/268662 [==============================] - 19s 71us/sample - loss: 0.0025 - accuracy: 0.9319 - tp: 89516.0000 - fp: 58.0000 - tn: 179050.0000 - fn: 38.0000 - precision: 0.9994 - recall: 0.9996 - auc: 0.9999 - val_loss: 0.0182 - val_accuracy: 0.9906 - val_tp: 33.0000 - val_fp: 6.0000 - val_tn: 19894.0000 - val_fn: 4.0000 - val_precision: 0.8462 - val_recall: 0.8919 - val_auc: 0.9458\n",
      "Epoch 17/20\n",
      "268662/268662 [==============================] - 18s 68us/sample - loss: 0.0035 - accuracy: 0.9310 - tp: 89511.0000 - fp: 79.0000 - tn: 179029.0000 - fn: 43.0000 - precision: 0.9991 - recall: 0.9995 - auc: 0.9998 - val_loss: 0.0200 - val_accuracy: 0.9884 - val_tp: 33.0000 - val_fp: 7.0000 - val_tn: 19893.0000 - val_fn: 4.0000 - val_precision: 0.8250 - val_recall: 0.8919 - val_auc: 0.9458\n",
      "Epoch 18/20\n",
      "268662/268662 [==============================] - 18s 69us/sample - loss: 0.0026 - accuracy: 0.9455 - tp: 89519.0000 - fp: 64.0000 - tn: 179044.0000 - fn: 35.0000 - precision: 0.9993 - recall: 0.9996 - auc: 0.9999 - val_loss: 0.0200 - val_accuracy: 0.9920 - val_tp: 33.0000 - val_fp: 7.0000 - val_tn: 19893.0000 - val_fn: 4.0000 - val_precision: 0.8250 - val_recall: 0.8919 - val_auc: 0.9458\n",
      "Epoch 19/20\n",
      "268662/268662 [==============================] - 17s 65us/sample - loss: 0.0046 - accuracy: 0.9274 - tp: 89512.0000 - fp: 74.0000 - tn: 179034.0000 - fn: 42.0000 - precision: 0.9992 - recall: 0.9995 - auc: 0.9998 - val_loss: 0.0138 - val_accuracy: 0.9897 - val_tp: 33.0000 - val_fp: 8.0000 - val_tn: 19892.0000 - val_fn: 4.0000 - val_precision: 0.8049 - val_recall: 0.8919 - val_auc: 0.9458\n",
      "Epoch 20/20\n",
      "268662/268662 [==============================] - 17s 63us/sample - loss: 0.0034 - accuracy: 0.9310 - tp: 89516.0000 - fp: 67.0000 - tn: 179041.0000 - fn: 38.0000 - precision: 0.9993 - recall: 0.9996 - auc: 0.9998 - val_loss: 0.0243 - val_accuracy: 0.9956 - val_tp: 33.0000 - val_fp: 7.0000 - val_tn: 19893.0000 - val_fn: 4.0000 - val_precision: 0.8250 - val_recall: 0.8919 - val_auc: 0.9458\n",
      "test score = 0.722\n"
     ]
    }
   ],
   "source": [
    "resampled_model = make_model()\n",
    "\n",
    "resampled_history = resampled_model.fit(\n",
    "    res_features,\n",
    "    res_labels,\n",
    "    batch_size=64,\n",
    "    epochs=EPOCHS,\n",
    "    validation_data=(val_features, val_labels))\n",
    "\n",
    "y_hat = resampled_model.predict_proba(test_features)\n",
    "print(\"test score = %.3f\" % average_precision_score(test_labels, y_hat))"
   ]
  },
  {
   "cell_type": "code",
   "execution_count": 20,
   "metadata": {
    "colab": {},
    "colab_type": "code",
    "id": "FO0mMOYUDWFk"
   },
   "outputs": [
    {
     "name": "stdout",
     "output_type": "stream",
     "text": [
      "85443/1 - 7s - loss: 0.0144 - accuracy: 0.9953 - tp: 117.0000 - fp: 61.0000 - tn: 85246.0000 - fn: 19.0000 - precision: 0.6573 - recall: 0.8603 - auc: 0.9372\n",
      "loss :  0.028710401317508544\n",
      "accuracy :  0.9953068\n",
      "tp :  117.0\n",
      "fp :  61.0\n",
      "tn :  85246.0\n",
      "fn :  19.0\n",
      "precision :  0.6573034\n",
      "recall :  0.8602941\n",
      "auc :  0.9371951\n"
     ]
    }
   ],
   "source": [
    "resampled_results = resampled_model.evaluate(test_features, test_labels, verbose=2)\n",
    "for name, value in zip(resampled_model.metrics_names, resampled_results):\n",
    "  print(name, ': ', value)"
   ]
  },
  {
   "cell_type": "markdown",
   "metadata": {
    "colab_type": "text",
    "id": "w3CDoej5GOui"
   },
   "source": [
    "This approach can be worth trying, but may not provide better results than using class weights because the synthetic examples may not accurately represent the underlying data. "
   ]
  },
  {
   "cell_type": "markdown",
   "metadata": {
    "colab_type": "text",
    "id": "3o3f0ywl8uqW"
   },
   "source": [
    "## Applying this tutorial to your problem\n",
    "\n",
    "Imbalanced data classification is an inherantly difficult task since there are so few samples to learn from. You should always start with the data first and do your best to collect as many samples as possible and give substantial thought to what features may be relevant so the model can get the most out of your minority class. At some point your model may struggle to improve and yield the results you want, so it is important to keep in mind the context of the problem to evaluate how bad your false positives or negatives really are."
   ]
  }
 ],
 "metadata": {
  "colab": {
   "collapsed_sections": [],
   "name": "imbalanced_data.ipynb",
   "private_outputs": true,
   "provenance": [],
   "toc_visible": true
  },
  "kernelspec": {
   "display_name": "Python 3",
   "language": "python",
   "name": "python3"
  },
  "language_info": {
   "codemirror_mode": {
    "name": "ipython",
    "version": 3
   },
   "file_extension": ".py",
   "mimetype": "text/x-python",
   "name": "python",
   "nbconvert_exporter": "python",
   "pygments_lexer": "ipython3",
   "version": "3.7.3"
  }
 },
 "nbformat": 4,
 "nbformat_minor": 4
}
