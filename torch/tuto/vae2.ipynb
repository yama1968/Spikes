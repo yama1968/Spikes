{
 "cells": [
  {
   "cell_type": "code",
   "execution_count": 43,
   "metadata": {},
   "outputs": [],
   "source": [
    "import torch\n",
    "import torchvision.datasets as dset\n",
    "import torchvision.transforms as transforms\n",
    "from torch.autograd import Variable\n",
    "import torch.nn as nn\n",
    "\n",
    "import pyro\n",
    "import pyro.optim as optim\n",
    "from pyro.optim import Adam\n",
    "from pyro.infer import SVI\n",
    "import pyro.distributions as dist\n",
    "from pyro.util import ng_zeros, ng_ones\n",
    "\n",
    "\n",
    "# for loading and batching MNIST dataset\n",
    "def setup_data_loaders(batch_size=128, use_cuda=False):\n",
    "    root = '../data/raw'\n",
    "    download = True\n",
    "    trans = transforms.ToTensor()\n",
    "    train_set = dset.MNIST(root=root, train=True, transform=trans,\n",
    "                           download=download)\n",
    "    test_set = dset.MNIST(root=root, train=False, transform=trans)\n",
    "\n",
    "    kwargs = {'num_workers': 8, 'pin_memory': use_cuda}\n",
    "    train_loader = torch.utils.data.DataLoader(dataset=train_set,\n",
    "        batch_size=batch_size, shuffle=True, **kwargs)\n",
    "    test_loader = torch.utils.data.DataLoader(dataset=test_set,\n",
    "        batch_size=batch_size, shuffle=False, **kwargs)\n",
    "    return train_loader, test_loader"
   ]
  },
  {
   "cell_type": "code",
   "execution_count": 47,
   "metadata": {},
   "outputs": [],
   "source": [
    "class Decoder(nn.Module):\n",
    "    \n",
    "    def __init__(self, z_dim, hidden_dim, fudge=1e-3):\n",
    "        \n",
    "        super(Decoder, self).__init__()\n",
    "\n",
    "        # setup the three linear transformations used\n",
    "        self.fc1 = nn.Linear(z_dim, hidden_dim)\n",
    "        self.fc21 = nn.Linear(hidden_dim, 784)\n",
    "        \n",
    "        # setup the non-linearity\n",
    "        self.softplus = nn.Softplus()\n",
    "        self.sigmoid = nn.Sigmoid()\n",
    "        \n",
    "        self.fudge = fudge\n",
    "\n",
    "        \n",
    "    def forward(self, z):\n",
    "        # define the forward computation on the latent z\n",
    "        # first compute the hidden units\n",
    "        hidden = self.softplus(self.fc1(z))\n",
    "        \n",
    "        # return the parameter for the output Bernoulli\n",
    "        # each is of size batch_size x 784\n",
    "        # fixing numerical instabilities of sigmoid with a fudge\n",
    "        mu_img = (self.sigmoid(self.fc21(hidden))+self.fudge) * (1-2*self.fudge)\n",
    "        \n",
    "        return mu_img"
   ]
  },
  {
   "cell_type": "code",
   "execution_count": 48,
   "metadata": {
    "collapsed": true
   },
   "outputs": [],
   "source": [
    "class Encoder(nn.Module):\n",
    "    \n",
    "    def __init__(self, z_dim, hidden_dim):\n",
    "        \n",
    "        super(Encoder, self).__init__()\n",
    "        \n",
    "        # setup the three linear transformations used\n",
    "        self.fc1 = nn.Linear(784, hidden_dim)\n",
    "        self.fc21 = nn.Linear(hidden_dim, z_dim)\n",
    "        self.fc22 = nn.Linear(hidden_dim, z_dim)\n",
    "        \n",
    "        # setup the non-linearity\n",
    "        self.softplus = nn.Softplus()\n",
    "        self.relu = nn.ReLU()\n",
    "\n",
    "        \n",
    "    def forward(self, x):\n",
    "        \n",
    "        # define the forward computation on the image x\n",
    "        # first shape the mini-batch to have pixels in the rightmost dimension\n",
    "        x = x.view(-1, 784)\n",
    "        \n",
    "        # then compute the hidden units\n",
    "        \n",
    "        hidden = self.softplus(self.fc1(x))\n",
    "        \n",
    "        # then return a mean vector and a (positive) square root covariance\n",
    "        # each of size batch_size x z_dim\n",
    "        z_mu = self.fc21(hidden)\n",
    "        z_sigma = torch.exp(self.fc22(hidden))\n",
    "        \n",
    "        return z_mu, z_sigma"
   ]
  },
  {
   "cell_type": "code",
   "execution_count": 57,
   "metadata": {
    "collapsed": true
   },
   "outputs": [],
   "source": [
    "class VAE(nn.Module):\n",
    "    \n",
    "    # by default our latent space is 50-dimensional\n",
    "    # and we use 400 hidden units\n",
    "    def __init__(self, z_dim=50, hidden_dim=400, use_cuda=False):\n",
    "    \n",
    "        super(VAE, self).__init__()\n",
    "        \n",
    "        # create the encoder and decoder networks\n",
    "        self.encoder = Encoder(z_dim, hidden_dim)\n",
    "        self.decoder = Decoder(z_dim, hidden_dim)\n",
    "\n",
    "        if use_cuda:\n",
    "            # calling cuda() here will put all the parameters of\n",
    "            # the encoder and decoder networks into gpu memory\n",
    "            self.cuda()\n",
    "        \n",
    "        self.use_cuda = use_cuda\n",
    "        self.z_dim = z_dim\n",
    "        \n",
    "        \n",
    "    def model(self, x):\n",
    "\n",
    "        # register PyTorch module `decoder` with Pyro\n",
    "        pyro.module(\"decoder\", self.decoder)\n",
    "\n",
    "        # setup hyperparameters for prior p(z)\n",
    "        # the type_as ensures we get CUDA Tensors if x is on gpu\n",
    "        z_mu = ng_zeros([x.size(0), self.z_dim], type_as=x.data)\n",
    "        z_sigma = ng_ones([x.size(0), self.z_dim], type_as=x.data)\n",
    "\n",
    "        # sample from prior \n",
    "        # (value will be sampled by guide when computing the ELBO)\n",
    "        z = pyro.sample(\"latent\", dist.normal, z_mu, z_sigma)\n",
    "\n",
    "        # decode the latent code z\n",
    "        mu_img = self.decoder(z)\n",
    "\n",
    "        # score against actual images\n",
    "        pyro.observe(\"obs\", dist.bernoulli, x.view(-1, 784), mu_img)\n",
    "\n",
    "        \n",
    "    def guide(self, x): \n",
    "\n",
    "        # register PyTorch module `encoder` with Pyro\n",
    "        pyro.module(\"encoder\", self.encoder)\n",
    "\n",
    "        # use the encoder to get the parameters used to define q(z|x)\n",
    "        z_mu, z_sigma = self.encoder(x)\n",
    "\n",
    "        # sample the latent code z\n",
    "        pyro.sample(\"latent\", dist.normal, z_mu, z_sigma)\n",
    "        \n",
    "        \n",
    "    def reconstruct_img(self, x):\n",
    "            \n",
    "        # encode image x\n",
    "        z_mu, z_sigma = self.encoder(x)\n",
    "        \n",
    "        # sample in latent space\n",
    "        z = dist.normal(z_mu, z_sigma)\n",
    "        \n",
    "        # decode the image (note we don't sample in image space)\n",
    "        mu_img = self.decoder(z)\n",
    "        \n",
    "        return mu_img"
   ]
  },
  {
   "cell_type": "code",
   "execution_count": 50,
   "metadata": {},
   "outputs": [
    {
     "data": {
      "text/plain": [
       "VAE (\n",
       "  (encoder): Encoder (\n",
       "    (fc1): Linear (784 -> 400)\n",
       "    (fc21): Linear (400 -> 50)\n",
       "    (fc22): Linear (400 -> 50)\n",
       "    (softplus): Softplus (beta=1, threshold=20)\n",
       "    (relu): ReLU ()\n",
       "  )\n",
       "  (decoder): Decoder (\n",
       "    (fc1): Linear (50 -> 400)\n",
       "    (fc21): Linear (400 -> 784)\n",
       "    (softplus): Softplus (beta=1, threshold=20)\n",
       "    (sigmoid): Sigmoid ()\n",
       "  )\n",
       ")"
      ]
     },
     "execution_count": 50,
     "metadata": {},
     "output_type": "execute_result"
    }
   ],
   "source": [
    "_ = Encoder(10,10)\n",
    "_ = Decoder(10,10)\n",
    "VAE()"
   ]
  },
  {
   "cell_type": "code",
   "execution_count": 55,
   "metadata": {},
   "outputs": [],
   "source": [
    "class Bunch(object):\n",
    "  def __init__(self, adict):\n",
    "    self.__dict__.update(adict)\n",
    "\n",
    "args = Bunch({'cuda': True,\n",
    "              'num_epochs': 10,\n",
    "              'test_frequency': 10000})"
   ]
  },
  {
   "cell_type": "code",
   "execution_count": 52,
   "metadata": {},
   "outputs": [],
   "source": [
    "train_loader, test_loader = setup_data_loaders(use_cuda = args.cuda)"
   ]
  },
  {
   "cell_type": "code",
   "execution_count": 53,
   "metadata": {},
   "outputs": [
    {
     "name": "stdout",
     "output_type": "stream",
     "text": [
      "VAE (\n",
      "  (encoder): Encoder (\n",
      "    (fc1): Linear (784 -> 400)\n",
      "    (fc21): Linear (400 -> 50)\n",
      "    (fc22): Linear (400 -> 50)\n",
      "    (softplus): Softplus (beta=1, threshold=20)\n",
      "    (relu): ReLU ()\n",
      "  )\n",
      "  (decoder): Decoder (\n",
      "    (fc1): Linear (50 -> 400)\n",
      "    (fc21): Linear (400 -> 784)\n",
      "    (softplus): Softplus (beta=1, threshold=20)\n",
      "    (sigmoid): Sigmoid ()\n",
      "  )\n",
      ")\n"
     ]
    }
   ],
   "source": [
    "vae = VAE(use_cuda=args.cuda)\n",
    "print(vae)\n",
    "\n",
    "optimizer = Adam({'lr': 1e-4})\n",
    "\n",
    "svi = SVI(vae.model, vae.guide, optimizer, loss = 'ELBO')"
   ]
  },
  {
   "cell_type": "code",
   "execution_count": 56,
   "metadata": {},
   "outputs": [],
   "source": [
    "for epoch in range(args.num_epochs):\n",
    "    \n",
    "    # initialize loss accumulator\n",
    "    epoch_loss = 0.\n",
    "    \n",
    "    # do a training epoch over each mini-batch x \n",
    "    # returned by the data loader\n",
    "    for _, (x, _) in enumerate(train_loader):\n",
    "    \n",
    "        # if on GPU put mini-batch into CUDA memory\n",
    "        if args.cuda:\n",
    "            x = x.cuda()\n",
    "        \n",
    "        # wrap the mini-batch in a PyTorch Variable\n",
    "        \n",
    "        x = Variable(x)\n",
    "        \n",
    "        # do ELBO gradient and accumulate loss\n",
    "        epoch_loss += svi.step(x)\n",
    "        \n",
    "    if epoch % args.test_frequency == 0:\n",
    "        \n",
    "        # initialize loss accumulator\n",
    "        test_loss = 0.\n",
    "        \n",
    "        # compute the loss over the entire test set\n",
    "        for i, (x, _) in enumerate(test_loader):\n",
    "        \n",
    "            # if on GPU put mini-batch into CUDA memory\n",
    "            if args.cuda:\n",
    "                x = x.cuda()\n",
    "        \n",
    "            # wrap the mini-batch in a PyTorch Variable\n",
    "            x = Variable(x)\n",
    "\n",
    "            # compute ELBO estimate and accumulate loss\n",
    "            test_loss += svi.evaluate_loss(x)"
   ]
  },
  {
   "cell_type": "code",
   "execution_count": 58,
   "metadata": {},
   "outputs": [
    {
     "data": {
      "text/plain": [
       "(34684585.37890625, 5779326.51171875)"
      ]
     },
     "execution_count": 58,
     "metadata": {},
     "output_type": "execute_result"
    }
   ],
   "source": [
    "epoch_loss, test_loss"
   ]
  },
  {
   "cell_type": "code",
   "execution_count": null,
   "metadata": {
    "collapsed": true
   },
   "outputs": [],
   "source": []
  }
 ],
 "metadata": {
  "kernelspec": {
   "display_name": "Python 3",
   "language": "python",
   "name": "python3"
  },
  "language_info": {
   "codemirror_mode": {
    "name": "ipython",
    "version": 3
   },
   "file_extension": ".py",
   "mimetype": "text/x-python",
   "name": "python",
   "nbconvert_exporter": "python",
   "pygments_lexer": "ipython3",
   "version": "3.6.3"
  }
 },
 "nbformat": 4,
 "nbformat_minor": 2
}
