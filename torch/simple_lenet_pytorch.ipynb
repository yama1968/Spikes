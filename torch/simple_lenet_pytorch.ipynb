{
 "cells": [
  {
   "cell_type": "code",
   "execution_count": 1,
   "metadata": {},
   "outputs": [],
   "source": [
    "import torch\n",
    "import torch.nn as nn\n",
    "import torch.nn.functional as F\n",
    "import torch.optim as optim\n",
    "from torchvision import datasets, transforms\n",
    "from torch.autograd import Variable\n",
    "\n",
    "from datetime import datetime"
   ]
  },
  {
   "cell_type": "code",
   "execution_count": 2,
   "metadata": {},
   "outputs": [],
   "source": [
    "seed = 42\n",
    "cuda = True\n",
    "\n",
    "batch_size = 64\n",
    "log_interval = 1000\n",
    "\n",
    "train_loader = torch.utils.data.DataLoader(\n",
    "    datasets.MNIST('../data', train=True, download=True,\n",
    "                   transform=transforms.Compose([\n",
    "                       transforms.ToTensor(),\n",
    "                       transforms.Normalize((0.1307,), (0.3081,))\n",
    "                   ])),\n",
    "    batch_size=batch_size, shuffle=True)\n",
    "test_loader = torch.utils.data.DataLoader(\n",
    "    datasets.MNIST('../data', train=False, transform=transforms.Compose([\n",
    "                       transforms.ToTensor(),\n",
    "                       transforms.Normalize((0.1307,), (0.3081,))\n",
    "                   ])),\n",
    "    batch_size=batch_size, shuffle=True)"
   ]
  },
  {
   "cell_type": "code",
   "execution_count": 3,
   "metadata": {},
   "outputs": [],
   "source": [
    "class Net1(nn.Module):\n",
    "    def __init__(self):\n",
    "        super(self.__class__, self).__init__()\n",
    "        self.conv1 = nn.Conv2d(1, 10, kernel_size=5)\n",
    "        self.conv2 = nn.Conv2d(10, 20, kernel_size=5)\n",
    "        self.conv2_drop = nn.Dropout2d()\n",
    "        self.fc1 = nn.Linear(320, 50)\n",
    "        self.fc2 = nn.Linear(50, 10)\n",
    "\n",
    "    def forward(self, x):\n",
    "        x = F.relu(F.max_pool2d(self.conv1(x), 2))\n",
    "        x = F.relu(F.max_pool2d(self.conv2_drop(self.conv2(x)), 2))\n",
    "        x = x.view(-1, 320)\n",
    "        x = F.relu(self.fc1(x))\n",
    "        x = F.dropout(x, training=self.training)\n",
    "        x = self.fc2(x)\n",
    "        return F.log_softmax(x)"
   ]
  },
  {
   "cell_type": "code",
   "execution_count": 4,
   "metadata": {},
   "outputs": [],
   "source": [
    "class Lenet(nn.Module):\n",
    "    def __init__(self):\n",
    "        super(self.__class__, self).__init__()\n",
    "        self.conv2_n = 50\n",
    "        self.hiddens = 50*16\n",
    "        \n",
    "        self.conv1 = nn.Conv2d(1, 20, kernel_size=5)\n",
    "        self.conv2 = nn.Conv2d(20, self.conv2_n, kernel_size=5)\n",
    "        self.conv2_drop = nn.Dropout2d()\n",
    "        self.fc1 = nn.Linear(self.hiddens, 512)\n",
    "        self.fc2 = nn.Linear(512, 10)\n",
    "\n",
    "    def forward(self, x):\n",
    "        x = F.tanh(F.max_pool2d(self.conv1(x), 2))\n",
    "        x = F.tanh(F.max_pool2d(self.conv2_drop(self.conv2(x)), 2))\n",
    "        x = x.view(-1, self.hiddens)\n",
    "        x = F.tanh(self.fc1(x))\n",
    "        x = F.dropout(x, training=self.training, p=0.7)\n",
    "        x = self.fc2(x)\n",
    "        return F.log_softmax(x)"
   ]
  },
  {
   "cell_type": "code",
   "execution_count": 5,
   "metadata": {},
   "outputs": [],
   "source": [
    "model = Lenet()\n",
    "if cuda:\n",
    "    model.cuda()\n",
    "\n",
    "epochs = 40\n",
    "lr = 0.01\n",
    "momentum = 0.9\n",
    "\n",
    "optimizer = optim.SGD(model.parameters(), lr=lr, momentum=momentum)"
   ]
  },
  {
   "cell_type": "code",
   "execution_count": 6,
   "metadata": {},
   "outputs": [],
   "source": [
    "def train(epoch):\n",
    "    model.train()\n",
    "    for batch_idx, (data, target) in enumerate(train_loader):\n",
    "        if cuda:\n",
    "            data, target = data.cuda(), target.cuda()\n",
    "        data, target = Variable(data), Variable(target)\n",
    "        optimizer.zero_grad()\n",
    "        output = model(data)\n",
    "        loss = F.nll_loss(output, target)\n",
    "        loss.backward()\n",
    "        optimizer.step()\n",
    "        if batch_idx % log_interval == 0:\n",
    "            print('Train Epoch: {} [{}/{} ({:.0f}%)]\\tLoss: {:.6f}'.format(\n",
    "                epoch, batch_idx * len(data), len(train_loader.dataset),\n",
    "                100. * batch_idx / len(train_loader), loss.data.item()))\n",
    "            \n",
    "def test():\n",
    "    model.eval()\n",
    "    test_loss = 0\n",
    "    correct = 0\n",
    "    for data, target in test_loader:\n",
    "        if cuda:\n",
    "            data, target = data.cuda(), target.cuda()\n",
    "        data, target = Variable(data, volatile=True), Variable(target)\n",
    "        output = model(data)\n",
    "        test_loss += F.nll_loss(output, target, size_average=False).item() # sum up batch loss\n",
    "        pred = output.data.max(1, keepdim=True)[1] # get the index of the max log-probability\n",
    "        correct += pred.eq(target.data.view_as(pred)).cpu().sum()\n",
    "\n",
    "    test_loss /= len(test_loader.dataset)\n",
    "    print('Test set: Average loss: {:.4f}, Accuracy: {}/{} ({:.0f}%)'.format(\n",
    "        test_loss, correct, len(test_loader.dataset),\n",
    "        100. * correct / len(test_loader.dataset)))"
   ]
  },
  {
   "cell_type": "code",
   "execution_count": null,
   "metadata": {},
   "outputs": [
    {
     "name": "stderr",
     "output_type": "stream",
     "text": [
      "/home/yannick/bin/anaconda3_2018.12/envs/py37/lib/python3.7/site-packages/torch/nn/functional.py:1339: UserWarning: nn.functional.tanh is deprecated. Use torch.tanh instead.\n",
      "  warnings.warn(\"nn.functional.tanh is deprecated. Use torch.tanh instead.\")\n",
      "/home/yannick/bin/anaconda3_2018.12/envs/py37/lib/python3.7/site-packages/ipykernel_launcher.py:20: UserWarning: Implicit dimension choice for log_softmax has been deprecated. Change the call to include dim=X as an argument.\n"
     ]
    },
    {
     "name": "stdout",
     "output_type": "stream",
     "text": [
      "Train Epoch: 1 [0/60000 (0%)]\tLoss: 2.310638\n"
     ]
    },
    {
     "name": "stderr",
     "output_type": "stream",
     "text": [
      "/home/yannick/bin/anaconda3_2018.12/envs/py37/lib/python3.7/site-packages/ipykernel_launcher.py:24: UserWarning: volatile was removed and now has no effect. Use `with torch.no_grad():` instead.\n",
      "/home/yannick/bin/anaconda3_2018.12/envs/py37/lib/python3.7/site-packages/torch/nn/_reduction.py:43: UserWarning: size_average and reduce args will be deprecated, please use reduction='sum' instead.\n",
      "  warnings.warn(warning.format(ret))\n"
     ]
    },
    {
     "name": "stdout",
     "output_type": "stream",
     "text": [
      "Test set: Average loss: 0.0851, Accuracy: 9733/10000 (97%)\n",
      ">> 0:00:12.723231 - 0:00:12.723231\n",
      "Train Epoch: 2 [0/60000 (0%)]\tLoss: 0.132408\n",
      "Test set: Average loss: 0.0557, Accuracy: 9835/10000 (98%)\n",
      ">> 0:00:12.401026 - 0:00:25.124257\n",
      "Train Epoch: 3 [0/60000 (0%)]\tLoss: 0.281519\n",
      "Test set: Average loss: 0.0461, Accuracy: 9865/10000 (98%)\n",
      ">> 0:00:12.553679 - 0:00:37.677936\n",
      "Train Epoch: 4 [0/60000 (0%)]\tLoss: 0.006411\n",
      "Test set: Average loss: 0.0382, Accuracy: 9886/10000 (98%)\n",
      ">> 0:00:12.405398 - 0:00:50.083334\n",
      "Train Epoch: 5 [0/60000 (0%)]\tLoss: 0.035521\n",
      "Test set: Average loss: 0.0393, Accuracy: 9885/10000 (98%)\n",
      ">> 0:00:12.485863 - 0:01:02.569197\n",
      "Train Epoch: 6 [0/60000 (0%)]\tLoss: 0.013097\n",
      "Test set: Average loss: 0.0351, Accuracy: 9903/10000 (99%)\n",
      ">> 0:00:12.648960 - 0:01:15.218157\n",
      "Train Epoch: 7 [0/60000 (0%)]\tLoss: 0.077063\n",
      "Test set: Average loss: 0.0363, Accuracy: 9892/10000 (98%)\n",
      ">> 0:00:13.009783 - 0:01:28.227940\n",
      "Train Epoch: 8 [0/60000 (0%)]\tLoss: 0.008616\n",
      "Test set: Average loss: 0.0347, Accuracy: 9891/10000 (98%)\n",
      ">> 0:00:13.139752 - 0:01:41.367692\n",
      "Train Epoch: 9 [0/60000 (0%)]\tLoss: 0.013115\n",
      "Test set: Average loss: 0.0354, Accuracy: 9899/10000 (98%)\n",
      ">> 0:00:13.036355 - 0:01:54.404047\n",
      "Train Epoch: 10 [0/60000 (0%)]\tLoss: 0.024274\n",
      "Test set: Average loss: 0.0331, Accuracy: 9908/10000 (99%)\n",
      ">> 0:00:12.792034 - 0:02:07.196081\n",
      "Train Epoch: 11 [0/60000 (0%)]\tLoss: 0.002362\n",
      "Test set: Average loss: 0.0345, Accuracy: 9905/10000 (99%)\n",
      ">> 0:00:12.496348 - 0:02:19.692429\n",
      "Train Epoch: 12 [0/60000 (0%)]\tLoss: 0.021523\n",
      "Test set: Average loss: 0.0394, Accuracy: 9894/10000 (98%)\n",
      ">> 0:00:12.690600 - 0:02:32.383029\n",
      "Train Epoch: 13 [0/60000 (0%)]\tLoss: 0.030413\n",
      "Test set: Average loss: 0.0359, Accuracy: 9898/10000 (98%)\n",
      ">> 0:00:12.549903 - 0:02:44.932932\n",
      "Train Epoch: 14 [0/60000 (0%)]\tLoss: 0.070350\n",
      "Test set: Average loss: 0.0336, Accuracy: 9901/10000 (99%)\n",
      ">> 0:00:12.710165 - 0:02:57.643097\n",
      "Train Epoch: 15 [0/60000 (0%)]\tLoss: 0.013977\n",
      "Test set: Average loss: 0.0313, Accuracy: 9915/10000 (99%)\n",
      ">> 0:00:12.658578 - 0:03:10.301675\n",
      "Train Epoch: 16 [0/60000 (0%)]\tLoss: 0.013607\n",
      "Test set: Average loss: 0.0321, Accuracy: 9917/10000 (99%)\n",
      ">> 0:00:13.064335 - 0:03:23.366010\n",
      "Train Epoch: 17 [0/60000 (0%)]\tLoss: 0.027633\n",
      "Test set: Average loss: 0.0352, Accuracy: 9909/10000 (99%)\n",
      ">> 0:00:12.840274 - 0:03:36.206284\n",
      "Train Epoch: 18 [0/60000 (0%)]\tLoss: 0.132241\n"
     ]
    }
   ],
   "source": [
    "%%time\n",
    "\n",
    "start = datetime.now()\n",
    "new = start\n",
    "\n",
    "for epoch in range(1, epochs + 1):\n",
    "    train(epoch)\n",
    "    test()\n",
    "    old = new\n",
    "    new = datetime.now()\n",
    "    print(\">> %s - %s\" % (str(new-old), str(new-start)))"
   ]
  },
  {
   "cell_type": "code",
   "execution_count": null,
   "metadata": {},
   "outputs": [],
   "source": [
    "model"
   ]
  },
  {
   "cell_type": "code",
   "execution_count": null,
   "metadata": {
    "collapsed": true
   },
   "outputs": [],
   "source": []
  }
 ],
 "metadata": {
  "kernelspec": {
   "display_name": "Python 3",
   "language": "python",
   "name": "python3"
  },
  "language_info": {
   "codemirror_mode": {
    "name": "ipython",
    "version": 3
   },
   "file_extension": ".py",
   "mimetype": "text/x-python",
   "name": "python",
   "nbconvert_exporter": "python",
   "pygments_lexer": "ipython3",
   "version": "3.7.0"
  }
 },
 "nbformat": 4,
 "nbformat_minor": 2
}
