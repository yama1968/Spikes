{
 "cells": [
  {
   "cell_type": "code",
   "execution_count": 1,
   "metadata": {},
   "outputs": [],
   "source": [
    "import torch\n",
    "import torch.nn as nn\n",
    "import torch.nn.functional as F\n",
    "import torch.optim as optim\n",
    "from torchvision import datasets, transforms\n",
    "from torch.autograd import Variable\n",
    "\n",
    "from datetime import datetime"
   ]
  },
  {
   "cell_type": "code",
   "execution_count": 2,
   "metadata": {},
   "outputs": [
    {
     "name": "stderr",
     "output_type": "stream",
     "text": [
      "\r",
      "0it [00:00, ?it/s]"
     ]
    },
    {
     "name": "stdout",
     "output_type": "stream",
     "text": [
      "Downloading http://yann.lecun.com/exdb/mnist/train-images-idx3-ubyte.gz to ../data/MNIST/raw/train-images-idx3-ubyte.gz\n"
     ]
    },
    {
     "name": "stderr",
     "output_type": "stream",
     "text": [
      "100%|█████████▉| 9887744/9912422 [00:26<00:00, 362420.07it/s]"
     ]
    },
    {
     "name": "stdout",
     "output_type": "stream",
     "text": [
      "Extracting ../data/MNIST/raw/train-images-idx3-ubyte.gz\n"
     ]
    },
    {
     "name": "stderr",
     "output_type": "stream",
     "text": [
      "\n",
      "0it [00:00, ?it/s]\u001b[A"
     ]
    },
    {
     "name": "stdout",
     "output_type": "stream",
     "text": [
      "Downloading http://yann.lecun.com/exdb/mnist/train-labels-idx1-ubyte.gz to ../data/MNIST/raw/train-labels-idx1-ubyte.gz\n"
     ]
    },
    {
     "name": "stderr",
     "output_type": "stream",
     "text": [
      "\n",
      "  0%|          | 0/28881 [00:00<?, ?it/s]\u001b[A\n",
      " 57%|█████▋    | 16384/28881 [00:00<00:00, 153524.65it/s]\u001b[A\n",
      "32768it [00:00, 87489.86it/s]                            \u001b[A\n",
      "0it [00:00, ?it/s]\u001b[A"
     ]
    },
    {
     "name": "stdout",
     "output_type": "stream",
     "text": [
      "Extracting ../data/MNIST/raw/train-labels-idx1-ubyte.gz\n",
      "Downloading http://yann.lecun.com/exdb/mnist/t10k-images-idx3-ubyte.gz to ../data/MNIST/raw/t10k-images-idx3-ubyte.gz\n"
     ]
    },
    {
     "name": "stderr",
     "output_type": "stream",
     "text": [
      "\n",
      "  0%|          | 0/1648877 [00:00<?, ?it/s]\u001b[A\n",
      "  1%|          | 16384/1648877 [00:00<00:10, 148963.68it/s]\u001b[A\n",
      "  3%|▎         | 49152/1648877 [00:00<00:09, 173871.32it/s]\u001b[A\n",
      "  5%|▌         | 90112/1648877 [00:00<00:07, 209905.52it/s]\u001b[A\n",
      "  8%|▊         | 131072/1648877 [00:00<00:06, 237445.56it/s]\u001b[A\n",
      " 11%|█         | 180224/1648877 [00:00<00:05, 272601.84it/s]\u001b[A\n",
      " 13%|█▎        | 221184/1648877 [00:01<00:04, 300630.40it/s]\u001b[A\n",
      " 16%|█▌        | 262144/1648877 [00:01<00:04, 323425.81it/s]\u001b[A\n",
      " 18%|█▊        | 303104/1648877 [00:01<00:03, 341617.73it/s]\u001b[A\n",
      " 21%|██        | 344064/1648877 [00:01<00:03, 344250.76it/s]\u001b[A\n",
      " 23%|██▎       | 385024/1648877 [00:01<00:03, 354823.56it/s]\u001b[A\n",
      " 26%|██▋       | 434176/1648877 [00:01<00:03, 369583.60it/s]\u001b[A\n",
      " 29%|██▉       | 475136/1648877 [00:01<00:03, 375371.08it/s]\u001b[A\n",
      " 31%|███▏      | 516096/1648877 [00:01<00:02, 382653.22it/s]\u001b[A\n",
      " 34%|███▍      | 557056/1648877 [00:01<00:02, 386465.58it/s]\u001b[A\n",
      " 36%|███▋      | 598016/1648877 [00:02<00:02, 375124.25it/s]\u001b[A\n",
      " 39%|███▉      | 638976/1648877 [00:02<00:03, 259399.45it/s]\u001b[A\n",
      " 45%|████▌     | 745472/1648877 [00:02<00:02, 335118.19it/s]\u001b[A\n",
      " 49%|████▊     | 802816/1648877 [00:02<00:02, 351866.69it/s]\u001b[A\n",
      " 52%|█████▏    | 860160/1648877 [00:02<00:02, 357134.79it/s]\u001b[A\n",
      " 55%|█████▌    | 909312/1648877 [00:02<00:02, 367056.68it/s]\u001b[A\n",
      " 58%|█████▊    | 958464/1648877 [00:02<00:01, 377314.94it/s]\u001b[A\n",
      " 61%|██████    | 1007616/1648877 [00:03<00:01, 380299.64it/s]\u001b[A\n",
      " 64%|██████▍   | 1056768/1648877 [00:03<00:01, 383146.60it/s]\u001b[A\n",
      " 67%|██████▋   | 1097728/1648877 [00:03<00:01, 387103.79it/s]\u001b[A\n",
      " 69%|██████▉   | 1138688/1648877 [00:03<00:01, 388963.28it/s]\u001b[A\n",
      " 72%|███████▏  | 1179648/1648877 [00:03<00:01, 373631.94it/s]\u001b[A\n",
      " 74%|███████▍  | 1220608/1648877 [00:03<00:01, 383333.58it/s]\u001b[A\n",
      " 77%|███████▋  | 1261568/1648877 [00:03<00:01, 386849.96it/s]\u001b[A\n",
      " 79%|███████▉  | 1302528/1648877 [00:03<00:00, 390743.46it/s]\u001b[A\n",
      " 81%|████████▏ | 1343488/1648877 [00:03<00:00, 390528.24it/s]\u001b[A\n",
      " 84%|████████▍ | 1384448/1648877 [00:04<00:00, 391946.10it/s]\u001b[A\n",
      " 86%|████████▋ | 1425408/1648877 [00:04<00:00, 394347.76it/s]\u001b[A\n",
      " 89%|████████▉ | 1466368/1648877 [00:04<00:00, 379536.84it/s]\u001b[A\n",
      " 91%|█████████▏| 1507328/1648877 [00:04<00:00, 385253.56it/s]\u001b[A\n",
      " 94%|█████████▍| 1548288/1648877 [00:04<00:00, 391841.57it/s]\u001b[A\n",
      " 96%|█████████▋| 1589248/1648877 [00:04<00:00, 394844.29it/s]\u001b[A\n",
      " 99%|█████████▉| 1630208/1648877 [00:04<00:00, 393106.07it/s]\u001b[A\n",
      "\n",
      "0it [00:00, ?it/s]\u001b[A\u001b[A"
     ]
    },
    {
     "name": "stdout",
     "output_type": "stream",
     "text": [
      "Extracting ../data/MNIST/raw/t10k-images-idx3-ubyte.gz\n",
      "Downloading http://yann.lecun.com/exdb/mnist/t10k-labels-idx1-ubyte.gz to ../data/MNIST/raw/t10k-labels-idx1-ubyte.gz\n"
     ]
    },
    {
     "name": "stderr",
     "output_type": "stream",
     "text": [
      "\n",
      "\n",
      "  0%|          | 0/4542 [00:00<?, ?it/s]\u001b[A\u001b[A\n",
      "\n",
      "8192it [00:00, 35086.52it/s]            \u001b[A\u001b[A"
     ]
    },
    {
     "name": "stdout",
     "output_type": "stream",
     "text": [
      "Extracting ../data/MNIST/raw/t10k-labels-idx1-ubyte.gz\n",
      "Processing...\n",
      "Done!\n"
     ]
    }
   ],
   "source": [
    "seed = 42\n",
    "cuda = True\n",
    "\n",
    "batch_size = 64\n",
    "log_interval = 1000\n",
    "\n",
    "train_loader = torch.utils.data.DataLoader(\n",
    "    datasets.MNIST('../data', train=True, download=True,\n",
    "                   transform=transforms.Compose([\n",
    "                       transforms.ToTensor(),\n",
    "                       transforms.Normalize((0.1307,), (0.3081,))\n",
    "                   ])),\n",
    "    batch_size=batch_size, shuffle=True)\n",
    "test_loader = torch.utils.data.DataLoader(\n",
    "    datasets.MNIST('../data', train=False, transform=transforms.Compose([\n",
    "                       transforms.ToTensor(),\n",
    "                       transforms.Normalize((0.1307,), (0.3081,))\n",
    "                   ])),\n",
    "    batch_size=batch_size, shuffle=True)"
   ]
  },
  {
   "cell_type": "code",
   "execution_count": 3,
   "metadata": {},
   "outputs": [],
   "source": [
    "class Net1(nn.Module):\n",
    "    def __init__(self):\n",
    "        super(self.__class__, self).__init__()\n",
    "        self.conv1 = nn.Conv2d(1, 10, kernel_size=5)\n",
    "        self.conv2 = nn.Conv2d(10, 20, kernel_size=5)\n",
    "        self.conv2_drop = nn.Dropout2d()\n",
    "        self.fc1 = nn.Linear(320, 50)\n",
    "        self.fc2 = nn.Linear(50, 10)\n",
    "\n",
    "    def forward(self, x):\n",
    "        x = F.relu(F.max_pool2d(self.conv1(x), 2))\n",
    "        x = F.relu(F.max_pool2d(self.conv2_drop(self.conv2(x)), 2))\n",
    "        x = x.view(-1, 320)\n",
    "        x = F.relu(self.fc1(x))\n",
    "        x = F.dropout(x, training=self.training)\n",
    "        x = self.fc2(x)\n",
    "        return F.log_softmax(x)"
   ]
  },
  {
   "cell_type": "code",
   "execution_count": 4,
   "metadata": {},
   "outputs": [],
   "source": [
    "class Lenet(nn.Module):\n",
    "    def __init__(self):\n",
    "        super(self.__class__, self).__init__()\n",
    "        self.conv2_n = 50\n",
    "        self.hiddens = 50*16\n",
    "        \n",
    "        self.conv1 = nn.Conv2d(1, 20, kernel_size=5)\n",
    "        self.conv2 = nn.Conv2d(20, self.conv2_n, kernel_size=5)\n",
    "        self.conv2_drop = nn.Dropout2d()\n",
    "        self.fc1 = nn.Linear(self.hiddens, 512)\n",
    "        self.fc2 = nn.Linear(512, 10)\n",
    "\n",
    "    def forward(self, x):\n",
    "        x = F.tanh(F.max_pool2d(self.conv1(x), 2))\n",
    "        x = F.tanh(F.max_pool2d(self.conv2_drop(self.conv2(x)), 2))\n",
    "        x = x.view(-1, self.hiddens)\n",
    "        x = F.tanh(self.fc1(x))\n",
    "        x = F.dropout(x, training=self.training, p=0.7)\n",
    "        x = self.fc2(x)\n",
    "        return F.log_softmax(x)"
   ]
  },
  {
   "cell_type": "code",
   "execution_count": 5,
   "metadata": {},
   "outputs": [
    {
     "name": "stderr",
     "output_type": "stream",
     "text": [
      "\r",
      "9920512it [00:40, 362420.07it/s]                             "
     ]
    }
   ],
   "source": [
    "model = Lenet()\n",
    "if cuda:\n",
    "    model.cuda()\n",
    "\n",
    "epochs = 40\n",
    "lr = 0.01\n",
    "momentum = 0.9\n",
    "\n",
    "optimizer = optim.SGD(model.parameters(), lr=lr, momentum=momentum)"
   ]
  },
  {
   "cell_type": "code",
   "execution_count": 12,
   "metadata": {},
   "outputs": [],
   "source": [
    "def train(epoch):\n",
    "    model.train()\n",
    "    for batch_idx, (data, target) in enumerate(train_loader):\n",
    "        if cuda:\n",
    "            data, target = data.cuda(), target.cuda()\n",
    "        data, target = Variable(data), Variable(target)\n",
    "        optimizer.zero_grad()\n",
    "        output = model(data)\n",
    "        loss = F.nll_loss(output, target)\n",
    "        loss.backward()\n",
    "        optimizer.step()\n",
    "        if batch_idx % log_interval == 0:\n",
    "            print('Train Epoch: {} [{}/{} ({:.0f}%)]\\tLoss: {:.6f}'.format(\n",
    "                epoch, batch_idx * len(data), len(train_loader.dataset),\n",
    "                100. * batch_idx / len(train_loader), loss.data.item()))\n",
    "            \n",
    "def test():\n",
    "    model.eval()\n",
    "    test_loss = 0\n",
    "    correct = 0\n",
    "    for data, target in test_loader:\n",
    "        if cuda:\n",
    "            data, target = data.cuda(), target.cuda()\n",
    "        data, target = Variable(data, volatile=True), Variable(target)\n",
    "        output = model(data)\n",
    "        test_loss += F.nll_loss(output, target, size_average=False).item() # sum up batch loss\n",
    "        pred = output.data.max(1, keepdim=True)[1] # get the index of the max log-probability\n",
    "        correct += pred.eq(target.data.view_as(pred)).cpu().sum()\n",
    "\n",
    "    test_loss /= len(test_loader.dataset)\n",
    "    print('Test set: Average loss: {:.4f}, Accuracy: {}/{} ({:.0f}%)'.format(\n",
    "        test_loss, correct, len(test_loader.dataset),\n",
    "        100. * correct / len(test_loader.dataset)))"
   ]
  },
  {
   "cell_type": "code",
   "execution_count": 13,
   "metadata": {},
   "outputs": [
    {
     "name": "stderr",
     "output_type": "stream",
     "text": [
      "/home/yannick/bin/anaconda3_2018.12/envs/py37/lib/python3.7/site-packages/ipykernel_launcher.py:20: UserWarning: Implicit dimension choice for log_softmax has been deprecated. Change the call to include dim=X as an argument.\n"
     ]
    },
    {
     "name": "stdout",
     "output_type": "stream",
     "text": [
      "Train Epoch: 1 [0/60000 (0%)]\tLoss: 0.256842\n"
     ]
    },
    {
     "name": "stderr",
     "output_type": "stream",
     "text": [
      "/home/yannick/bin/anaconda3_2018.12/envs/py37/lib/python3.7/site-packages/ipykernel_launcher.py:24: UserWarning: volatile was removed and now has no effect. Use `with torch.no_grad():` instead.\n"
     ]
    },
    {
     "name": "stdout",
     "output_type": "stream",
     "text": [
      "Test set: Average loss: 0.0623, Accuracy: 9815/10000 (98%)\n",
      ">> 0:00:11.949046 - 0:00:11.949046\n",
      "Train Epoch: 2 [0/60000 (0%)]\tLoss: 0.090392\n",
      "Test set: Average loss: 0.0490, Accuracy: 9851/10000 (98%)\n",
      ">> 0:00:11.916971 - 0:00:23.866017\n",
      "Train Epoch: 3 [0/60000 (0%)]\tLoss: 0.055971\n",
      "Test set: Average loss: 0.0463, Accuracy: 9863/10000 (98%)\n",
      ">> 0:00:12.105589 - 0:00:35.971606\n",
      "Train Epoch: 4 [0/60000 (0%)]\tLoss: 0.078448\n",
      "Test set: Average loss: 0.0450, Accuracy: 9861/10000 (98%)\n",
      ">> 0:00:11.966944 - 0:00:47.938550\n",
      "Train Epoch: 5 [0/60000 (0%)]\tLoss: 0.063577\n",
      "Test set: Average loss: 0.0437, Accuracy: 9878/10000 (98%)\n",
      ">> 0:00:11.859318 - 0:00:59.797868\n",
      "Train Epoch: 6 [0/60000 (0%)]\tLoss: 0.037095\n",
      "Test set: Average loss: 0.0380, Accuracy: 9882/10000 (98%)\n",
      ">> 0:00:11.963834 - 0:01:11.761702\n",
      "Train Epoch: 7 [0/60000 (0%)]\tLoss: 0.069324\n",
      "Test set: Average loss: 0.0420, Accuracy: 9872/10000 (98%)\n",
      ">> 0:00:11.800502 - 0:01:23.562204\n",
      "Train Epoch: 8 [0/60000 (0%)]\tLoss: 0.174236\n",
      "Test set: Average loss: 0.0356, Accuracy: 9890/10000 (98%)\n",
      ">> 0:00:11.701291 - 0:01:35.263495\n",
      "Train Epoch: 9 [0/60000 (0%)]\tLoss: 0.094540\n",
      "Test set: Average loss: 0.0322, Accuracy: 9912/10000 (99%)\n",
      ">> 0:00:12.105601 - 0:01:47.369096\n",
      "Train Epoch: 10 [0/60000 (0%)]\tLoss: 0.042295\n",
      "Test set: Average loss: 0.0338, Accuracy: 9902/10000 (99%)\n",
      ">> 0:00:11.781971 - 0:01:59.151067\n",
      "Train Epoch: 11 [0/60000 (0%)]\tLoss: 0.014800\n",
      "Test set: Average loss: 0.0358, Accuracy: 9902/10000 (99%)\n",
      ">> 0:00:12.291629 - 0:02:11.442696\n",
      "Train Epoch: 12 [0/60000 (0%)]\tLoss: 0.042027\n",
      "Test set: Average loss: 0.0337, Accuracy: 9913/10000 (99%)\n",
      ">> 0:00:12.133037 - 0:02:23.575733\n",
      "Train Epoch: 13 [0/60000 (0%)]\tLoss: 0.008513\n",
      "Test set: Average loss: 0.0315, Accuracy: 9910/10000 (99%)\n",
      ">> 0:00:12.138441 - 0:02:35.714174\n",
      "Train Epoch: 14 [0/60000 (0%)]\tLoss: 0.001874\n",
      "Test set: Average loss: 0.0360, Accuracy: 9908/10000 (99%)\n",
      ">> 0:00:11.755119 - 0:02:47.469293\n",
      "Train Epoch: 15 [0/60000 (0%)]\tLoss: 0.015741\n",
      "Test set: Average loss: 0.0316, Accuracy: 9916/10000 (99%)\n",
      ">> 0:00:11.727011 - 0:02:59.196304\n",
      "Train Epoch: 16 [0/60000 (0%)]\tLoss: 0.011862\n",
      "Test set: Average loss: 0.0306, Accuracy: 9916/10000 (99%)\n",
      ">> 0:00:11.920602 - 0:03:11.116906\n",
      "Train Epoch: 17 [0/60000 (0%)]\tLoss: 0.009248\n",
      "Test set: Average loss: 0.0325, Accuracy: 9907/10000 (99%)\n",
      ">> 0:00:11.750422 - 0:03:22.867328\n",
      "Train Epoch: 18 [0/60000 (0%)]\tLoss: 0.006708\n",
      "Test set: Average loss: 0.0326, Accuracy: 9912/10000 (99%)\n",
      ">> 0:00:11.929135 - 0:03:34.796463\n",
      "Train Epoch: 19 [0/60000 (0%)]\tLoss: 0.008616\n",
      "Test set: Average loss: 0.0312, Accuracy: 9917/10000 (99%)\n",
      ">> 0:00:12.220020 - 0:03:47.016483\n",
      "Train Epoch: 20 [0/60000 (0%)]\tLoss: 0.073050\n",
      "Test set: Average loss: 0.0315, Accuracy: 9919/10000 (99%)\n",
      ">> 0:00:11.960723 - 0:03:58.977206\n",
      "Train Epoch: 21 [0/60000 (0%)]\tLoss: 0.016748\n",
      "Test set: Average loss: 0.0332, Accuracy: 9913/10000 (99%)\n",
      ">> 0:00:12.958828 - 0:04:11.936034\n",
      "Train Epoch: 22 [0/60000 (0%)]\tLoss: 0.044430\n",
      "Test set: Average loss: 0.0322, Accuracy: 9920/10000 (99%)\n",
      ">> 0:00:12.440669 - 0:04:24.376703\n",
      "Train Epoch: 23 [0/60000 (0%)]\tLoss: 0.005601\n",
      "Test set: Average loss: 0.0311, Accuracy: 9919/10000 (99%)\n",
      ">> 0:00:12.594367 - 0:04:36.971070\n",
      "Train Epoch: 24 [0/60000 (0%)]\tLoss: 0.058427\n",
      "Test set: Average loss: 0.0296, Accuracy: 9933/10000 (99%)\n",
      ">> 0:00:11.742881 - 0:04:48.713951\n",
      "Train Epoch: 25 [0/60000 (0%)]\tLoss: 0.035168\n",
      "Test set: Average loss: 0.0335, Accuracy: 9921/10000 (99%)\n",
      ">> 0:00:11.876945 - 0:05:00.590896\n",
      "Train Epoch: 26 [0/60000 (0%)]\tLoss: 0.004250\n",
      "Test set: Average loss: 0.0319, Accuracy: 9924/10000 (99%)\n",
      ">> 0:00:11.921029 - 0:05:12.511925\n",
      "Train Epoch: 27 [0/60000 (0%)]\tLoss: 0.007350\n",
      "Test set: Average loss: 0.0344, Accuracy: 9909/10000 (99%)\n",
      ">> 0:00:11.876594 - 0:05:24.388519\n",
      "Train Epoch: 28 [0/60000 (0%)]\tLoss: 0.003849\n",
      "Test set: Average loss: 0.0337, Accuracy: 9915/10000 (99%)\n",
      ">> 0:00:11.713601 - 0:05:36.102120\n",
      "Train Epoch: 29 [0/60000 (0%)]\tLoss: 0.012657\n",
      "Test set: Average loss: 0.0319, Accuracy: 9925/10000 (99%)\n",
      ">> 0:00:11.933055 - 0:05:48.035175\n",
      "Train Epoch: 30 [0/60000 (0%)]\tLoss: 0.008293\n",
      "Test set: Average loss: 0.0312, Accuracy: 9920/10000 (99%)\n",
      ">> 0:00:11.997860 - 0:06:00.033035\n",
      "Train Epoch: 31 [0/60000 (0%)]\tLoss: 0.096155\n",
      "Test set: Average loss: 0.0315, Accuracy: 9927/10000 (99%)\n",
      ">> 0:00:11.851577 - 0:06:11.884612\n",
      "Train Epoch: 32 [0/60000 (0%)]\tLoss: 0.018302\n",
      "Test set: Average loss: 0.0315, Accuracy: 9920/10000 (99%)\n",
      ">> 0:00:11.777313 - 0:06:23.661925\n",
      "Train Epoch: 33 [0/60000 (0%)]\tLoss: 0.011860\n",
      "Test set: Average loss: 0.0329, Accuracy: 9926/10000 (99%)\n",
      ">> 0:00:11.900816 - 0:06:35.562741\n",
      "Train Epoch: 34 [0/60000 (0%)]\tLoss: 0.011519\n",
      "Test set: Average loss: 0.0339, Accuracy: 9919/10000 (99%)\n",
      ">> 0:00:11.891135 - 0:06:47.453876\n",
      "Train Epoch: 35 [0/60000 (0%)]\tLoss: 0.003030\n",
      "Test set: Average loss: 0.0367, Accuracy: 9916/10000 (99%)\n",
      ">> 0:00:12.106846 - 0:06:59.560722\n",
      "Train Epoch: 36 [0/60000 (0%)]\tLoss: 0.047686\n",
      "Test set: Average loss: 0.0351, Accuracy: 9918/10000 (99%)\n",
      ">> 0:00:11.877880 - 0:07:11.438602\n",
      "Train Epoch: 37 [0/60000 (0%)]\tLoss: 0.027316\n",
      "Test set: Average loss: 0.0372, Accuracy: 9918/10000 (99%)\n",
      ">> 0:00:11.934680 - 0:07:23.373282\n",
      "Train Epoch: 38 [0/60000 (0%)]\tLoss: 0.007075\n",
      "Test set: Average loss: 0.0316, Accuracy: 9916/10000 (99%)\n",
      ">> 0:00:11.803268 - 0:07:35.176550\n",
      "Train Epoch: 39 [0/60000 (0%)]\tLoss: 0.033807\n",
      "Test set: Average loss: 0.0318, Accuracy: 9920/10000 (99%)\n",
      ">> 0:00:11.851672 - 0:07:47.028222\n",
      "Train Epoch: 40 [0/60000 (0%)]\tLoss: 0.006533\n",
      "Test set: Average loss: 0.0348, Accuracy: 9919/10000 (99%)\n",
      ">> 0:00:11.766976 - 0:07:58.795198\n",
      "CPU times: user 7min 56s, sys: 2.32 s, total: 7min 58s\n",
      "Wall time: 7min 58s\n"
     ]
    }
   ],
   "source": [
    "%%time\n",
    "\n",
    "start = datetime.now()\n",
    "new = start\n",
    "\n",
    "for epoch in range(1, epochs + 1):\n",
    "    train(epoch)\n",
    "    test()\n",
    "    old = new\n",
    "    new = datetime.now()\n",
    "    print(\">> %s - %s\" % (str(new-old), str(new-start)))"
   ]
  },
  {
   "cell_type": "code",
   "execution_count": 14,
   "metadata": {},
   "outputs": [
    {
     "data": {
      "text/plain": [
       "Lenet(\n",
       "  (conv1): Conv2d(1, 20, kernel_size=(5, 5), stride=(1, 1))\n",
       "  (conv2): Conv2d(20, 50, kernel_size=(5, 5), stride=(1, 1))\n",
       "  (conv2_drop): Dropout2d(p=0.5)\n",
       "  (fc1): Linear(in_features=800, out_features=512, bias=True)\n",
       "  (fc2): Linear(in_features=512, out_features=10, bias=True)\n",
       ")"
      ]
     },
     "execution_count": 14,
     "metadata": {},
     "output_type": "execute_result"
    }
   ],
   "source": [
    "model"
   ]
  },
  {
   "cell_type": "code",
   "execution_count": null,
   "metadata": {
    "collapsed": true
   },
   "outputs": [],
   "source": []
  }
 ],
 "metadata": {
  "kernelspec": {
   "display_name": "Python 3",
   "language": "python",
   "name": "python3"
  },
  "language_info": {
   "codemirror_mode": {
    "name": "ipython",
    "version": 3
   },
   "file_extension": ".py",
   "mimetype": "text/x-python",
   "name": "python",
   "nbconvert_exporter": "python",
   "pygments_lexer": "ipython3",
   "version": "3.7.0"
  }
 },
 "nbformat": 4,
 "nbformat_minor": 2
}
