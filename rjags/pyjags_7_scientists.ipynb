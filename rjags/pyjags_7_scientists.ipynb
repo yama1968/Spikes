{
 "cells": [
  {
   "cell_type": "code",
   "execution_count": 3,
   "metadata": {
    "collapsed": false
   },
   "outputs": [],
   "source": [
    "import matplotlib.pyplot as plt\n",
    "plt.style.use('ggplot')\n",
    "%matplotlib inline\n",
    "%precision 4\n",
    "\n",
    "import pyjags\n",
    "import numpy as np"
   ]
  },
  {
   "cell_type": "code",
   "execution_count": 4,
   "metadata": {
    "collapsed": false,
    "scrolled": true
   },
   "outputs": [
    {
     "name": "stdout",
     "output_type": "stream",
     "text": [
      "adapting: iterations 4000 of 4000, elapsed 0:00:00, remaining 0:00:00\n",
      "CPU times: user 96 ms, sys: 224 ms, total: 320 ms\n",
      "Wall time: 105 ms\n",
      "sampling: iterations 75584 of 80000, elapsed 0:00:01, remaining 0:00:00\n",
      "sampling: iterations 80000 of 80000, elapsed 0:00:01, remaining 0:00:00\n",
      "CPU times: user 644 ms, sys: 48 ms, total: 692 ms\n",
      "Wall time: 642 ms\n"
     ]
    },
    {
     "data": {
      "text/plain": [
       "dict_keys(['sigma', 'mu', 'lambda'])"
      ]
     },
     "execution_count": 4,
     "metadata": {},
     "output_type": "execute_result"
    }
   ],
   "source": [
    "sample = [-27.020,3.570,8.191,9.898,9.603,9.945,10.056]\n",
    "n = len(sample)\n",
    "\n",
    "code = \"\"\"\n",
    "# bugs model for seven scientists\n",
    "\n",
    "model{\n",
    "        for (i in 1:n) {\n",
    "                x[i] ~ dnorm(mu, lambda[i])\n",
    "        }\n",
    "        mu ~ dnorm(0,.001)\n",
    "        for (i in 1:n) {\n",
    "                sigma[i] ~ dunif(0.1,40)\n",
    "                lambda[i] <- 1 / (sigma[i] * sigma[i])\n",
    "        }\n",
    "}\n",
    "\"\"\"\n",
    "\n",
    "myvars=['mu', 'lambda', 'sigma']\n",
    "\n",
    "%time model = pyjags.Model(code, data=dict(x=sample, n=n), chains=4)\n",
    "%time samples = model.sample(20000, vars=myvars)\n",
    "samples.keys()"
   ]
  },
  {
   "cell_type": "code",
   "execution_count": 5,
   "metadata": {
    "collapsed": false
   },
   "outputs": [
    {
     "name": "stdout",
     "output_type": "stream",
     "text": [
      "mu    [0] mean =       8.8661 (std =     2.4904), 95% credible interval [  4.0  11.5]\n",
      "lambda[0] mean =       0.0015 (std =     0.0015), 95% credible interval [  0.0   0.0]\n",
      "lambda[1] mean =       0.1005 (std =     1.7060), 95% credible interval [  0.0   0.1]\n",
      "lambda[2] mean =       0.6523 (std =     4.2909), 95% credible interval [  0.0   1.5]\n",
      "lambda[3] mean =       1.8087 (std =     8.0567), 95% credible interval [  0.0   7.7]\n",
      "lambda[4] mean =       1.6206 (std =     7.3929), 95% credible interval [  0.0   6.7]\n",
      "lambda[5] mean =       1.7237 (std =     7.7004), 95% credible interval [  0.0   7.6]\n",
      "lambda[6] mean =       1.6402 (std =     7.4845), 95% credible interval [  0.0   6.8]\n",
      "sigma [0] mean =      28.8654 (std =     6.9913), 95% credible interval [ 16.6  39.0]\n",
      "sigma [1] mean =      16.1146 (std =    10.4303), 95% credible interval [  3.1  36.1]\n",
      "sigma [2] mean =      11.7285 (std =    10.6330), 95% credible interval [  0.8  34.3]\n",
      "sigma [3] mean =      10.5593 (std =    10.5955), 95% credible interval [  0.4  33.4]\n",
      "sigma [4] mean =      10.4815 (std =    10.5971), 95% credible interval [  0.4  33.6]\n",
      "sigma [5] mean =      10.4926 (std =    10.5666), 95% credible interval [  0.4  33.7]\n",
      "sigma [6] mean =      10.5505 (std =    10.6152), 95% credible interval [  0.4  33.7]\n"
     ]
    }
   ],
   "source": [
    "def summary(samples, varname, p=95, burnin=0, thin=1):\n",
    "    values = samples[varname]\n",
    "    (nb, iter, chains) = values.shape\n",
    "    \n",
    "    for i in range(nb):\n",
    "        data = values[i][burnin::thin]\n",
    "\n",
    "        ci = np.percentile(data, [100-p, p])\n",
    "        \n",
    "        print('{:<6}[{}] mean = {:>12.4f} (std = {:>10.4f}), {}% credible interval [{:>5.1f} {:>5.1f}]'.format(\n",
    "          varname, i, np.mean(data), np.std(data), p, *ci))\n",
    "\n",
    "burnin = 5000\n",
    "        \n",
    "for varname in myvars:\n",
    "    summary(samples, varname, burnin=burnin, thin=4)"
   ]
  },
  {
   "cell_type": "code",
   "execution_count": 6,
   "metadata": {
    "collapsed": false
   },
   "outputs": [
    {
     "data": {
      "text/plain": [
       "(16000, 4)"
      ]
     },
     "execution_count": 6,
     "metadata": {},
     "output_type": "execute_result"
    }
   ],
   "source": [
    "samples['lambda'][1][4000:].shape"
   ]
  },
  {
   "cell_type": "code",
   "execution_count": 7,
   "metadata": {
    "collapsed": false
   },
   "outputs": [
    {
     "data": {
      "text/plain": [
       "3.4633"
      ]
     },
     "execution_count": 7,
     "metadata": {},
     "output_type": "execute_result"
    }
   ],
   "source": [
    "np.mean(sample)"
   ]
  },
  {
   "cell_type": "code",
   "execution_count": 8,
   "metadata": {
    "collapsed": false,
    "scrolled": false
   },
   "outputs": [
    {
     "name": "stdout",
     "output_type": "stream",
     "text": [
      "CPU times: user 0 ns, sys: 0 ns, total: 0 ns\n",
      "Wall time: 1.78 ms\n",
      "sampling: iterations 240464 of 320000, elapsed 0:00:01, remaining 0:00:00\n",
      "sampling: iterations 320000 of 320000, elapsed 0:00:01, remaining 0:00:00\n",
      "CPU times: user 1.36 s, sys: 8 ms, total: 1.37 s\n",
      "Wall time: 1.37 s\n",
      "(1, 80000, 4)\n",
      "mu    [0] mean =       9.8598 (std =     0.2368), 95% credible interval [  9.5  10.1]\n",
      "lambda[0] mean =       0.0007 (std =     0.0010), 95% credible interval [  0.0   0.0]\n",
      "lambda[1] mean =       0.0262 (std =     0.0622), 95% credible interval [  0.0   0.1]\n",
      "lambda[2] mean =       0.4787 (std =     2.9538), 95% credible interval [  0.0   1.5]\n",
      "lambda[3] mean =      31.4206 (std =    51.4238), 95% credible interval [  0.1 132.1]\n",
      "lambda[4] mean =      15.0338 (std =    31.1242), 95% credible interval [  0.0  64.5]\n",
      "lambda[5] mean =      30.4616 (std =    50.4231), 95% credible interval [  0.1 128.2]\n",
      "lambda[6] mean =      23.3338 (std =    42.0002), 95% credible interval [  0.1 101.9]\n",
      "sigma [0] mean =     375.0830 (std = 16617.7862), 95% credible interval [ 18.8 550.9]\n",
      "sigma [1] mean =      52.0122 (std =   985.5698), 95% credible interval [  3.2  95.2]\n",
      "sigma [2] mean =      26.0090 (std =  3495.9031), 95% credible interval [  0.8  24.0]\n",
      "sigma [3] mean =       1.9559 (std =   119.8056), 95% credible interval [  0.1   3.3]\n",
      "sigma [4] mean =       3.4900 (std =   172.5648), 95% credible interval [  0.1   5.0]\n",
      "sigma [5] mean =       1.7488 (std =    33.3303), 95% credible interval [  0.1   3.5]\n",
      "sigma [6] mean =       3.1264 (std =   193.3010), 95% credible interval [  0.1   4.1]\n",
      "p     [0] mean =       0.2462 (std =     0.4308), 95% credible interval [  0.0   1.0]\n",
      "p     [1] mean =       0.2464 (std =     0.4309), 95% credible interval [  0.0   1.0]\n",
      "p     [2] mean =       0.2467 (std =     0.4311), 95% credible interval [  0.0   1.0]\n",
      "p     [3] mean =       0.5123 (std =     0.4998), 95% credible interval [  0.0   1.0]\n",
      "p     [4] mean =       0.3118 (std =     0.4632), 95% credible interval [  0.0   1.0]\n",
      "p     [5] mean =       0.5618 (std =     0.4962), 95% credible interval [  0.0   1.0]\n",
      "p     [6] mean =       0.6562 (std =     0.4750), 95% credible interval [  0.0   1.0]\n"
     ]
    }
   ],
   "source": [
    "sample2 = [-27.020,3.570,8.191,9.898,9.603,9.945,10.056]\n",
    "n = len(sample2)\n",
    "\n",
    "code2 = \"\"\"\n",
    "# bugs model for seven scientists\n",
    "\n",
    "model{\n",
    "        for (i in 1:n) {\n",
    "                x[i] ~ dnorm(mu, lambda[i])\n",
    "                \n",
    "                x_rep[i] ~ dnorm(mu, lambda[i])\n",
    "                p[i] <- step(x[i] - x_rep[i])\n",
    "        }\n",
    "        mu ~ dnorm(0,.001)\n",
    "        for (i in 1:n) {\n",
    "                lambda[i] ~ dgamma(.01, .01)\n",
    "                sigma[i] <- 1/sqrt(lambda[i])\n",
    "        }\n",
    "}\n",
    "\n",
    "\"\"\"\n",
    "\n",
    "burnin = 20000\n",
    "\n",
    "myvars2=['mu', 'lambda', 'sigma', 'p']\n",
    "\n",
    "%time model2 = pyjags.Model(code2, data=dict(x=sample2, n=n), chains=4)\n",
    "%time samples2 = model2.sample(80000, vars=myvars2)\n",
    "\n",
    "print (samples2['mu'].shape)\n",
    "\n",
    "for varname in myvars2:\n",
    "    summary(samples2, varname, burnin=burnin, thin=4)"
   ]
  }
 ],
 "metadata": {
  "kernelspec": {
   "display_name": "Python 3",
   "language": "python",
   "name": "python3"
  },
  "language_info": {
   "codemirror_mode": {
    "name": "ipython",
    "version": 3
   },
   "file_extension": ".py",
   "mimetype": "text/x-python",
   "name": "python",
   "nbconvert_exporter": "python",
   "pygments_lexer": "ipython3",
   "version": "3.5.1"
  }
 },
 "nbformat": 4,
 "nbformat_minor": 0
}
