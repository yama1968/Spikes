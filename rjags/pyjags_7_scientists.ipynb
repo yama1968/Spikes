{
 "cells": [
  {
   "cell_type": "code",
   "execution_count": 1,
   "metadata": {
    "collapsed": true
   },
   "outputs": [],
   "source": [
    "import matplotlib.pyplot as plt\n",
    "plt.style.use('ggplot')\n",
    "%matplotlib inline\n",
    "%precision 4\n",
    "\n",
    "import pyjags\n",
    "import numpy as np"
   ]
  },
  {
   "cell_type": "code",
   "execution_count": 2,
   "metadata": {
    "collapsed": false,
    "scrolled": true
   },
   "outputs": [
    {
     "name": "stdout",
     "output_type": "stream",
     "text": [
      "adapting: iterations 4000 of 4000, elapsed 0:00:00, remaining 0:00:00\n",
      "CPU times: user 100 ms, sys: 340 ms, total: 440 ms\n",
      "Wall time: 114 ms\n",
      "sampling: iterations 71772 of 80000, elapsed 0:00:01, remaining 0:00:00\n",
      "sampling: iterations 80000 of 80000, elapsed 0:00:01, remaining 0:00:00\n",
      "CPU times: user 720 ms, sys: 20 ms, total: 740 ms\n",
      "Wall time: 727 ms\n"
     ]
    },
    {
     "data": {
      "text/plain": [
       "dict_keys(['sigma', 'mu', 'lambda'])"
      ]
     },
     "execution_count": 2,
     "metadata": {},
     "output_type": "execute_result"
    }
   ],
   "source": [
    "sample = [-27.020,3.570,8.191,9.898,9.603,9.945,10.056]\n",
    "n = len(sample)\n",
    "\n",
    "code = \"\"\"\n",
    "# bugs model for seven scientists\n",
    "\n",
    "model{\n",
    "        for (i in 1:n) {\n",
    "                x[i] ~ dnorm(mu, lambda[i])\n",
    "        }\n",
    "        mu ~ dnorm(0,.001)\n",
    "        for (i in 1:n) {\n",
    "                sigma[i] ~ dunif(0.1,40)\n",
    "                lambda[i] <- 1 / (sigma[i] * sigma[i])\n",
    "        }\n",
    "}\n",
    "\"\"\"\n",
    "\n",
    "myvars=['mu', 'lambda', 'sigma']\n",
    "\n",
    "%time model = pyjags.Model(code, data=dict(x=sample, n=n), chains=4)\n",
    "%time samples = model.sample(20000, vars=myvars)\n",
    "samples.keys()"
   ]
  },
  {
   "cell_type": "code",
   "execution_count": 3,
   "metadata": {
    "collapsed": false
   },
   "outputs": [
    {
     "name": "stdout",
     "output_type": "stream",
     "text": [
      "mu    [0] mean =       8.9248 (std =     2.4111), 95% credible interval [  4.2  11.6]\n",
      "lambda[0] mean =       0.0015 (std =     0.0011), 95% credible interval [  0.0   0.0]\n",
      "lambda[1] mean =       0.1152 (std =     1.7023), 95% credible interval [  0.0   0.1]\n",
      "lambda[2] mean =       0.7373 (std =     4.9515), 95% credible interval [  0.0   1.5]\n",
      "lambda[3] mean =       1.9164 (std =     8.1970), 95% credible interval [  0.0   8.8]\n",
      "lambda[4] mean =       1.6728 (std =     7.4455), 95% credible interval [  0.0   7.2]\n",
      "lambda[5] mean =       2.0237 (std =     8.5688), 95% credible interval [  0.0   9.4]\n",
      "lambda[6] mean =       1.6147 (std =     7.3730), 95% credible interval [  0.0   6.9]\n",
      "sigma [0] mean =      28.9428 (std =     6.9503), 95% credible interval [ 16.8  38.9]\n",
      "sigma [1] mean =      16.2200 (std =    10.3956), 95% credible interval [  3.2  36.1]\n",
      "sigma [2] mean =      11.6421 (std =    10.5403), 95% credible interval [  0.8  34.0]\n",
      "sigma [3] mean =      10.2735 (std =    10.5037), 95% credible interval [  0.3  33.5]\n",
      "sigma [4] mean =      10.3517 (std =    10.5260), 95% credible interval [  0.4  33.4]\n",
      "sigma [5] mean =      10.1447 (std =    10.4674), 95% credible interval [  0.3  33.3]\n",
      "sigma [6] mean =      10.5504 (std =    10.5180), 95% credible interval [  0.4  33.2]\n"
     ]
    }
   ],
   "source": [
    "def summary(samples, varname, p=95, burnin=0, thin=1):\n",
    "    values = samples[varname]\n",
    "    (nb, iter, chains) = values.shape\n",
    "    \n",
    "    for i in range(nb):\n",
    "        data = values[i][burnin::thin]\n",
    "\n",
    "        ci = np.percentile(data, [100-p, p])\n",
    "        \n",
    "        print('{:<6}[{}] mean = {:>12.4f} (std = {:>10.4f}), {}% credible interval [{:>5.1f} {:>5.1f}]'.format(\n",
    "          varname, i, np.mean(data), np.std(data), p, *ci))\n",
    "\n",
    "burnin = 5000\n",
    "        \n",
    "for varname in myvars:\n",
    "    summary(samples, varname, burnin=burnin, thin=4)"
   ]
  },
  {
   "cell_type": "code",
   "execution_count": 4,
   "metadata": {
    "collapsed": false
   },
   "outputs": [
    {
     "data": {
      "text/plain": [
       "(16000, 4)"
      ]
     },
     "execution_count": 4,
     "metadata": {},
     "output_type": "execute_result"
    }
   ],
   "source": [
    "samples['lambda'][1][4000:].shape"
   ]
  },
  {
   "cell_type": "code",
   "execution_count": 5,
   "metadata": {
    "collapsed": false
   },
   "outputs": [
    {
     "data": {
      "text/plain": [
       "3.4633"
      ]
     },
     "execution_count": 5,
     "metadata": {},
     "output_type": "execute_result"
    }
   ],
   "source": [
    "np.mean(sample)"
   ]
  },
  {
   "cell_type": "code",
   "execution_count": 6,
   "metadata": {
    "collapsed": false,
    "scrolled": false
   },
   "outputs": [
    {
     "name": "stdout",
     "output_type": "stream",
     "text": [
      "CPU times: user 0 ns, sys: 0 ns, total: 0 ns\n",
      "Wall time: 1.2 ms\n",
      "sampling: iterations 155556 of 320000, elapsed 0:00:01, remaining 0:00:01\n",
      "sampling: iterations 285324 of 320000, elapsed 0:00:01, remaining 0:00:00\n",
      "sampling: iterations 320000 of 320000, elapsed 0:00:01, remaining 0:00:00\n",
      "CPU times: user 1.3 s, sys: 12 ms, total: 1.31 s\n",
      "Wall time: 1.31 s\n",
      "(1, 80000, 4)\n",
      "mu    [0] mean =       9.8595 (std =     0.2437), 95% credible interval [  9.5  10.1]\n",
      "lambda[0] mean =       0.0007 (std =     0.0010), 95% credible interval [  0.0   0.0]\n",
      "lambda[1] mean =       0.0260 (std =     0.0367), 95% credible interval [  0.0   0.1]\n",
      "lambda[2] mean =       0.4902 (std =     3.1438), 95% credible interval [  0.0   1.5]\n",
      "lambda[3] mean =      31.0347 (std =    51.1958), 95% credible interval [  0.1 130.5]\n",
      "lambda[4] mean =      14.9909 (std =    30.7486), 95% credible interval [  0.0  64.3]\n",
      "lambda[5] mean =      30.7824 (std =    51.0817), 95% credible interval [  0.1 129.8]\n",
      "lambda[6] mean =      23.2234 (std =    41.4608), 95% credible interval [  0.1 100.8]\n",
      "sigma [0] mean =     292.1820 (std =  9242.8312), 95% credible interval [ 18.7 542.7]\n",
      "sigma [1] mean =      62.2990 (std =  2576.1299), 95% credible interval [  3.2  91.3]\n",
      "sigma [2] mean =      13.2449 (std =   415.8061), 95% credible interval [  0.8  25.1]\n",
      "sigma [3] mean =       1.7910 (std =    42.3981), 95% credible interval [  0.1   3.3]\n",
      "sigma [4] mean =       2.4139 (std =    35.7585), 95% credible interval [  0.1   5.2]\n",
      "sigma [5] mean =       2.3729 (std =   139.8940), 95% credible interval [  0.1   3.5]\n",
      "sigma [6] mean =       2.5522 (std =    68.9815), 95% credible interval [  0.1   4.2]\n",
      "p     [0] mean =       0.2456 (std =     0.4305), 95% credible interval [  0.0   1.0]\n",
      "p     [1] mean =       0.2457 (std =     0.4305), 95% credible interval [  0.0   1.0]\n",
      "p     [2] mean =       0.2480 (std =     0.4319), 95% credible interval [  0.0   1.0]\n",
      "p     [3] mean =       0.5130 (std =     0.4998), 95% credible interval [  0.0   1.0]\n",
      "p     [4] mean =       0.3127 (std =     0.4636), 95% credible interval [  0.0   1.0]\n",
      "p     [5] mean =       0.5587 (std =     0.4965), 95% credible interval [  0.0   1.0]\n",
      "p     [6] mean =       0.6588 (std =     0.4741), 95% credible interval [  0.0   1.0]\n"
     ]
    }
   ],
   "source": [
    "sample2 = [-27.020,3.570,8.191,9.898,9.603,9.945,10.056]\n",
    "n = len(sample2)\n",
    "\n",
    "code2 = \"\"\"\n",
    "# bugs model for seven scientists\n",
    "\n",
    "model{\n",
    "        for (i in 1:n) {\n",
    "                x[i] ~ dnorm(mu, lambda[i])\n",
    "                \n",
    "                x_rep[i] ~ dnorm(mu, lambda[i])\n",
    "                p[i] <- step(x[i] - x_rep[i])\n",
    "        }\n",
    "        mu ~ dnorm(0,.001)\n",
    "        for (i in 1:n) {\n",
    "                lambda[i] ~ dgamma(.01, .01)\n",
    "                sigma[i] <- 1/sqrt(lambda[i])\n",
    "        }\n",
    "}\n",
    "\n",
    "\"\"\"\n",
    "\n",
    "burnin = 20000\n",
    "\n",
    "myvars2=['mu', 'lambda', 'sigma', 'p']\n",
    "\n",
    "%time model2 = pyjags.Model(code2, data=dict(x=sample2, n=n), chains=4)\n",
    "%time samples2 = model2.sample(80000, vars=myvars2)\n",
    "\n",
    "print (samples2['mu'].shape)\n",
    "\n",
    "for varname in myvars2:\n",
    "    summary(samples2, varname, burnin=burnin, thin=4)"
   ]
  },
  {
   "cell_type": "code",
   "execution_count": null,
   "metadata": {
    "collapsed": true
   },
   "outputs": [],
   "source": []
  }
 ],
 "metadata": {
  "kernelspec": {
   "display_name": "Python 3",
   "language": "python",
   "name": "python3"
  },
  "language_info": {
   "codemirror_mode": {
    "name": "ipython",
    "version": 3
   },
   "file_extension": ".py",
   "mimetype": "text/x-python",
   "name": "python",
   "nbconvert_exporter": "python",
   "pygments_lexer": "ipython3",
   "version": "3.5.1"
  }
 },
 "nbformat": 4,
 "nbformat_minor": 0
}
