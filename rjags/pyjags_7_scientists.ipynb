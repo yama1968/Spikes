{
 "cells": [
  {
   "cell_type": "code",
   "execution_count": 1,
   "metadata": {
    "collapsed": true
   },
   "outputs": [],
   "source": [
    "import matplotlib.pyplot as plt\n",
    "plt.style.use('ggplot')\n",
    "%matplotlib inline\n",
    "%precision 4\n",
    "\n",
    "import pyjags\n",
    "import numpy as np"
   ]
  },
  {
   "cell_type": "code",
   "execution_count": 19,
   "metadata": {
    "collapsed": false,
    "scrolled": true
   },
   "outputs": [
    {
     "name": "stdout",
     "output_type": "stream",
     "text": [
      "adapting: iterations 4000 of 4000, elapsed 0:00:00, remaining 0:00:00\n",
      "CPU times: user 29.2 ms, sys: 421 µs, total: 29.6 ms\n",
      "Wall time: 29.2 ms\n",
      "sampling: iterations 80000 of 80000, elapsed 0:00:01, remaining 0:00:00\n",
      "sampling: iterations 80000 of 80000, elapsed 0:00:01, remaining 0:00:00\n",
      "CPU times: user 556 ms, sys: 1.02 ms, total: 557 ms\n",
      "Wall time: 555 ms\n"
     ]
    },
    {
     "data": {
      "text/plain": [
       "dict_keys(['lambda', 'sigma', 'mu'])"
      ]
     },
     "execution_count": 19,
     "metadata": {},
     "output_type": "execute_result"
    }
   ],
   "source": [
    "sample = [-27.020,3.570,8.191,9.898,9.603,9.945,10.056]\n",
    "n = len(sample)\n",
    "\n",
    "code = \"\"\"\n",
    "# bugs model for seven scientists\n",
    "\n",
    "model{\n",
    "        for (i in 1:n) {\n",
    "                x[i] ~ dnorm(mu, lambda[i])\n",
    "        }\n",
    "        mu ~ dnorm(0,.001)\n",
    "        for (i in 1:n) {\n",
    "                sigma[i] ~ dunif(0.1,40)\n",
    "                lambda[i] <- 1 / (sigma[i] * sigma[i])\n",
    "        }\n",
    "}\n",
    "\"\"\"\n",
    "\n",
    "myvars=['mu', 'lambda', 'sigma']\n",
    "\n",
    "%time model = pyjags.Model(code, data=dict(x=sample, n=n), chains=4)\n",
    "%time samples = model.sample(20000, vars=myvars)\n",
    "samples.keys()"
   ]
  },
  {
   "cell_type": "code",
   "execution_count": 20,
   "metadata": {
    "collapsed": false
   },
   "outputs": [
    {
     "name": "stdout",
     "output_type": "stream",
     "text": [
      "mu    [0] mean =       8.9514 (std =     2.4275), 95% credible interval [  4.1  11.6]\n",
      "lambda[0] mean =       0.0015 (std =     0.0011), 95% credible interval [  0.0   0.0]\n",
      "lambda[1] mean =       0.0795 (std =     1.1251), 95% credible interval [  0.0   0.1]\n",
      "lambda[2] mean =       0.6792 (std =     4.6330), 95% credible interval [  0.0   1.5]\n",
      "lambda[3] mean =       1.9033 (std =     8.2346), 95% credible interval [  0.0   9.0]\n",
      "lambda[4] mean =       1.6225 (std =     7.4375), 95% credible interval [  0.0   6.7]\n",
      "lambda[5] mean =       1.9381 (std =     8.4027), 95% credible interval [  0.0   8.8]\n",
      "lambda[6] mean =       1.7623 (std =     8.0225), 95% credible interval [  0.0   7.4]\n",
      "sigma [0] mean =      28.8989 (std =     6.9718), 95% credible interval [ 16.7  38.9]\n",
      "sigma [1] mean =      16.1981 (std =    10.4464), 95% credible interval [  3.2  36.3]\n",
      "sigma [2] mean =      11.7016 (std =    10.6201), 95% credible interval [  0.8  34.0]\n",
      "sigma [3] mean =      10.2340 (std =    10.5299), 95% credible interval [  0.3  33.4]\n",
      "sigma [4] mean =      10.2838 (std =    10.4687), 95% credible interval [  0.4  33.3]\n",
      "sigma [5] mean =      10.3345 (std =    10.5187), 95% credible interval [  0.3  33.4]\n",
      "sigma [6] mean =      10.5827 (std =    10.6242), 95% credible interval [  0.4  33.7]\n"
     ]
    }
   ],
   "source": [
    "def summary(samples, varname, p=95, burnin=0, thin=1):\n",
    "    values = samples[varname]\n",
    "    (nb, iter, chains) = values.shape\n",
    "    \n",
    "    for i in range(nb):\n",
    "        data = values[i][burnin::thin]\n",
    "\n",
    "        ci = np.percentile(data, [100-p, p])\n",
    "        \n",
    "        print('{:<6}[{}] mean = {:>12.4f} (std = {:>10.4f}), {}% credible interval [{:>5.1f} {:>5.1f}]'.format(\n",
    "          varname, i, np.mean(data), np.std(data), p, *ci))\n",
    "\n",
    "burnin = 5000\n",
    "        \n",
    "for varname in myvars:\n",
    "    summary(samples, varname, burnin=burnin, thin=4)"
   ]
  },
  {
   "cell_type": "code",
   "execution_count": 5,
   "metadata": {
    "collapsed": false
   },
   "outputs": [
    {
     "data": {
      "text/plain": [
       "(16000, 4)"
      ]
     },
     "execution_count": 5,
     "metadata": {},
     "output_type": "execute_result"
    }
   ],
   "source": [
    "samples['lambda'][1][4000:].shape"
   ]
  },
  {
   "cell_type": "code",
   "execution_count": 6,
   "metadata": {
    "collapsed": false
   },
   "outputs": [
    {
     "data": {
      "text/plain": [
       "3.4633"
      ]
     },
     "execution_count": 6,
     "metadata": {},
     "output_type": "execute_result"
    }
   ],
   "source": [
    "np.mean(sample)"
   ]
  },
  {
   "cell_type": "code",
   "execution_count": 21,
   "metadata": {
    "collapsed": false,
    "scrolled": false
   },
   "outputs": [
    {
     "name": "stdout",
     "output_type": "stream",
     "text": [
      "CPU times: user 1.93 ms, sys: 282 µs, total: 2.21 ms\n",
      "Wall time: 1.83 ms\n",
      "sampling: iterations 160888 of 320000, elapsed 0:00:01, remaining 0:00:01\n",
      "sampling: iterations 320000 of 320000, elapsed 0:00:01, remaining 0:00:00\n",
      "sampling: iterations 320000 of 320000, elapsed 0:00:01, remaining 0:00:00\n",
      "CPU times: user 1.23 s, sys: 9.86 ms, total: 1.24 s\n",
      "Wall time: 1.24 s\n",
      "(1, 80000, 4)\n",
      "mu    [0] mean =       9.8605 (std =     0.2315), 95% credible interval [  9.5  10.1]\n",
      "lambda[0] mean =       0.0007 (std =     0.0010), 95% credible interval [  0.0   0.0]\n",
      "lambda[1] mean =       0.0258 (std =     0.0359), 95% credible interval [  0.0   0.1]\n",
      "lambda[2] mean =       0.4846 (std =     2.6583), 95% credible interval [  0.0   1.5]\n",
      "lambda[3] mean =      30.9149 (std =    50.7218), 95% credible interval [  0.1 129.8]\n",
      "lambda[4] mean =      14.7713 (std =    30.0646), 95% credible interval [  0.0  63.6]\n",
      "lambda[5] mean =      30.8313 (std =    50.8860), 95% credible interval [  0.1 129.4]\n",
      "lambda[6] mean =      23.5770 (std =    42.7295), 95% credible interval [  0.1 102.4]\n",
      "sigma [0] mean =     237.9818 (std =  2524.4247), 95% credible interval [ 18.8 557.4]\n",
      "sigma [1] mean =      65.0407 (std =  4174.8266), 95% credible interval [  3.2  95.0]\n",
      "sigma [2] mean =      17.6854 (std =  1240.8643), 95% credible interval [  0.8  24.8]\n",
      "sigma [3] mean =       1.9272 (std =    59.3728), 95% credible interval [  0.1   3.4]\n",
      "sigma [4] mean =       2.8356 (std =    58.7434), 95% credible interval [  0.1   5.2]\n",
      "sigma [5] mean =       2.2383 (std =   105.9290), 95% credible interval [  0.1   3.6]\n",
      "sigma [6] mean =       2.8065 (std =   116.2559), 95% credible interval [  0.1   4.2]\n",
      "p     [0] mean =       0.2475 (std =     0.4315), 95% credible interval [  0.0   1.0]\n",
      "p     [1] mean =       0.2458 (std =     0.4306), 95% credible interval [  0.0   1.0]\n",
      "p     [2] mean =       0.2518 (std =     0.4341), 95% credible interval [  0.0   1.0]\n",
      "p     [3] mean =       0.5125 (std =     0.4998), 95% credible interval [  0.0   1.0]\n",
      "p     [4] mean =       0.3117 (std =     0.4632), 95% credible interval [  0.0   1.0]\n",
      "p     [5] mean =       0.5610 (std =     0.4963), 95% credible interval [  0.0   1.0]\n",
      "p     [6] mean =       0.6605 (std =     0.4736), 95% credible interval [  0.0   1.0]\n"
     ]
    }
   ],
   "source": [
    "sample2 = [-27.020,3.570,8.191,9.898,9.603,9.945,10.056]\n",
    "n = len(sample2)\n",
    "\n",
    "code2 = \"\"\"\n",
    "# bugs model for seven scientists\n",
    "\n",
    "model{\n",
    "        for (i in 1:n) {\n",
    "                x[i] ~ dnorm(mu, lambda[i])\n",
    "                \n",
    "                x_rep[i] ~ dnorm(mu, lambda[i])\n",
    "                p[i] <- step(x[i] - x_rep[i])\n",
    "        }\n",
    "        mu ~ dnorm(0,.001)\n",
    "        for (i in 1:n) {\n",
    "                lambda[i] ~ dgamma(.01, .01)\n",
    "                sigma[i] <- 1/sqrt(lambda[i])\n",
    "        }\n",
    "}\n",
    "\n",
    "\"\"\"\n",
    "\n",
    "burnin = 20000\n",
    "\n",
    "myvars2=['mu', 'lambda', 'sigma', 'p']\n",
    "\n",
    "%time model2 = pyjags.Model(code2, data=dict(x=sample2, n=n), chains=4)\n",
    "%time samples2 = model2.sample(80000, vars=myvars2)\n",
    "\n",
    "print (samples2['mu'].shape)\n",
    "\n",
    "for varname in myvars2:\n",
    "    summary(samples2, varname, burnin=burnin, thin=4)"
   ]
  },
  {
   "cell_type": "code",
   "execution_count": null,
   "metadata": {
    "collapsed": true
   },
   "outputs": [],
   "source": []
  }
 ],
 "metadata": {
  "kernelspec": {
   "display_name": "Python 3",
   "language": "python",
   "name": "python3"
  },
  "language_info": {
   "codemirror_mode": {
    "name": "ipython",
    "version": 3
   },
   "file_extension": ".py",
   "mimetype": "text/x-python",
   "name": "python",
   "nbconvert_exporter": "python",
   "pygments_lexer": "ipython3",
   "version": "3.5.1"
  }
 },
 "nbformat": 4,
 "nbformat_minor": 0
}
