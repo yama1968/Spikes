{
 "cells": [
  {
   "cell_type": "code",
   "execution_count": 2,
   "metadata": {
    "collapsed": false
   },
   "outputs": [
    {
     "data": {
      "text/plain": [
       "   user  system elapsed \n",
       "  0.046   0.012   1.033 "
      ]
     },
     "execution_count": 2,
     "metadata": {},
     "output_type": "execute_result"
    },
    {
     "data": {
      "text/plain": [
       "Inference for Bugs model at \"7scientists2.bug\", fit using jags,\n",
       " 4 chains, each with 20000 iterations (first 4000 discarded), n.thin = 16\n",
       " n.sims = 4000 iterations saved\n",
       "         mu.vect sd.vect   2.5%    25%    50%    75%  97.5%  Rhat n.eff\n",
       "mu         9.160   1.638  4.469  8.684  9.644  9.986 11.257 1.003  2100\n",
       "sigma[1]  17.072   2.160 12.150 15.657 17.504 18.871 19.902 1.001  4000\n",
       "sigma[2]  10.115   4.879  2.542  6.055  9.560 13.910 19.289 1.001  4000\n",
       "sigma[3]   6.602   5.243  0.389  2.293  4.980 10.094 18.615 1.002  4000\n",
       "sigma[4]   5.555   5.407  0.081  1.119  3.571  8.888 18.520 1.001  4000\n",
       "sigma[5]   5.620   5.359  0.137  1.203  3.695  8.834 18.336 1.002  1400\n",
       "sigma[6]   5.506   5.371  0.067  1.123  3.504  8.672 18.550 1.002  1800\n",
       "sigma[7]   5.633   5.366  0.107  1.220  3.703  8.878 18.288 1.002  1300\n",
       "deviance  40.942   7.059 26.406 36.304 41.369 46.247 52.878 1.001  4000\n",
       "\n",
       "For each parameter, n.eff is a crude measure of effective sample size,\n",
       "and Rhat is the potential scale reduction factor (at convergence, Rhat=1).\n",
       "\n",
       "DIC info (using the rule, pD = var(deviance)/2)\n",
       "pD = 24.9 and DIC = 65.9\n",
       "DIC is an estimate of expected predictive error (lower deviance is better)."
      ]
     },
     "execution_count": 2,
     "metadata": {},
     "output_type": "execute_result"
    }
   ],
   "source": [
    "library('R2jags')\n",
    "\n",
    "x <- c(-27.020,3.570,8.191,9.898,9.603,9.945,10.056)\n",
    "n <- length(x)\n",
    "\n",
    "m <- NA\n",
    "cluster <- NA\n",
    "\n",
    "chains <- 4\n",
    "nodes <- 4\n",
    "\n",
    "system.time (m <- jags.parallel(\n",
    "    model.file = '7scientists2.bug',\n",
    "    data = list('x' = x,\n",
    "                'n' = n),\n",
    "    n.chains = chains,\n",
    "    n.cluster = nodes,\n",
    "    n.burnin = 4000,\n",
    "    parameters.to.save = c(\"mu\", \"sigma\", \"deviance\", \"pD\"),\n",
    "    jags.module = c(\"dic\"),\n",
    "    n.iter = 20000,\n",
    "    DIC = TRUE\n",
    "))\n",
    "\n",
    "m"
   ]
  },
  {
   "cell_type": "code",
   "execution_count": null,
   "metadata": {
    "collapsed": true
   },
   "outputs": [],
   "source": []
  }
 ],
 "metadata": {
  "kernelspec": {
   "display_name": "R",
   "language": "R",
   "name": "ir"
  },
  "language_info": {
   "codemirror_mode": "r",
   "file_extension": ".r",
   "mimetype": "text/x-r-source",
   "name": "R",
   "pygments_lexer": "r",
   "version": "3.2.2"
  }
 },
 "nbformat": 4,
 "nbformat_minor": 0
}
