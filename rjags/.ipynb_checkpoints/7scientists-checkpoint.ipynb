{
 "cells": [
  {
   "cell_type": "code",
   "execution_count": 1,
   "metadata": {
    "collapsed": false
   },
   "outputs": [
    {
     "name": "stderr",
     "output_type": "stream",
     "text": [
      "Loading required package: coda\n",
      "Loading required package: parallel\n",
      "dclone 2.0-0 \t 2013-09-27\n",
      "Linked to JAGS 3.4.0\n",
      "Loaded modules: basemod,bugs\n"
     ]
    },
    {
     "name": "stdout",
     "output_type": "stream",
     "text": [
      "\n",
      "Parallel computation in progress\n",
      "\n"
     ]
    },
    {
     "data": {
      "text/plain": [
       "\n",
       "Iterations = 2001:7000\n",
       "Thinning interval = 1 \n",
       "Number of chains = 8 \n",
       "Sample size per chain = 5000 \n",
       "\n",
       "1. Empirical mean and standard deviation for each variable,\n",
       "   plus standard error of the mean:\n",
       "\n",
       "           Mean    SD Naive SE Time-series SE\n",
       "mu        9.125 1.656 0.008282        0.02022\n",
       "sigma[1] 17.047 2.203 0.011014        0.01825\n",
       "sigma[2] 10.098 4.917 0.024586        0.03657\n",
       "sigma[3]  6.657 5.311 0.026555        0.05267\n",
       "sigma[4]  5.528 5.411 0.027055        0.07390\n",
       "sigma[5]  5.554 5.327 0.026634        0.06386\n",
       "sigma[6]  5.532 5.361 0.026806        0.07033\n",
       "sigma[7]  5.672 5.375 0.026874        0.06689\n",
       "\n",
       "2. Quantiles for each variable:\n",
       "\n",
       "             2.5%    25%    50%    75% 97.5%\n",
       "mu        4.21158  8.605  9.638  9.980 11.25\n",
       "sigma[1] 11.93121 15.648 17.484 18.857 19.89\n",
       "sigma[2]  2.38212  5.995  9.515 14.008 19.31\n",
       "sigma[3]  0.35479  2.248  5.056 10.138 18.69\n",
       "sigma[4]  0.06829  1.060  3.532  8.823 18.36\n",
       "sigma[5]  0.13976  1.242  3.588  8.654 18.47\n",
       "sigma[6]  0.07539  1.135  3.594  8.663 18.44\n",
       "sigma[7]  0.10348  1.234  3.782  8.862 18.50\n"
      ]
     },
     "execution_count": 1,
     "metadata": {},
     "output_type": "execute_result"
    }
   ],
   "source": [
    "library('dclone')\n",
    "library('rjags')\n",
    "\n",
    "x <- c(-27.020,3.570,8.191,9.898,9.603,9.945,10.056)\n",
    "n <- length(x)\n",
    "\n",
    "m <- NA\n",
    "\n",
    "chains <- 8\n",
    "nodes <- 4\n",
    "\n",
    "m <- jags.parfit(cl = nodes,\n",
    "                 model = '7scientists2.bug',\n",
    "                 data = list('x' = x,\n",
    "                             'n' = n),\n",
    "                 n.chains = chains,\n",
    "                 n.adapt = 1000,\n",
    "                 params = c(\"mu\", \"sigma\"),\n",
    "                 n.iter = 5000)\n",
    "\n",
    "summary(m)"
   ]
  }
 ],
 "metadata": {
  "kernelspec": {
   "display_name": "R",
   "language": "R",
   "name": "ir"
  },
  "language_info": {
   "codemirror_mode": "r",
   "file_extension": ".r",
   "mimetype": "text/x-r-source",
   "name": "R",
   "pygments_lexer": "r",
   "version": "3.2.2"
  }
 },
 "nbformat": 4,
 "nbformat_minor": 0
}
