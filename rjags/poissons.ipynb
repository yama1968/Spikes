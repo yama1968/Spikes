{
 "cells": [
  {
   "cell_type": "code",
   "execution_count": 4,
   "metadata": {
    "collapsed": false
   },
   "outputs": [],
   "source": [
    "import matplotlib.pyplot as plt\n",
    "plt.style.use('ggplot')\n",
    "%matplotlib inline\n",
    "%precision 4\n",
    "\n",
    "import pyjags\n",
    "import numpy as np\n",
    "\n",
    "def summary(samples, varname, p=95, burnin=0, thin=1):\n",
    "    values = samples[varname]\n",
    "    (nb, iter, chains) = values.shape\n",
    "    \n",
    "    for i in range(nb):\n",
    "        data = values[i][burnin::thin]\n",
    "\n",
    "        ci = np.percentile(data, [100-p, p])\n",
    "        \n",
    "        print('{:<8}[{}] mean = {:>12.4f} (std = {:>10.4f}), {}% credible interval [{:>5.2f} {:>5.2f}]'.format(\n",
    "          varname, i, np.mean(data), np.std(data), p, *ci))"
   ]
  },
  {
   "cell_type": "code",
   "execution_count": 20,
   "metadata": {
    "collapsed": false,
    "scrolled": true
   },
   "outputs": [
    {
     "name": "stdout",
     "output_type": "stream",
     "text": [
      "4 5\n",
      "adapting: iterations 4000 of 4000, elapsed 0:00:00, remaining 0:00:00\n",
      "CPU times: user 480 ms, sys: 0 ns, total: 480 ms\n",
      "Wall time: 154 ms\n",
      "sampling: iterations 22851 of 80000, elapsed 0:00:01, remaining 0:00:02\n",
      "sampling: iterations 55332 of 80000, elapsed 0:00:01, remaining 0:00:01\n",
      "sampling: iterations 75611 of 80000, elapsed 0:00:02, remaining 0:00:00\n",
      "sampling: iterations 80000 of 80000, elapsed 0:00:02, remaining 0:00:00\n",
      "CPU times: user 6.62 s, sys: 0 ns, total: 6.62 s\n",
      "Wall time: 2.01 s\n"
     ]
    },
    {
     "data": {
      "text/plain": [
       "dict_keys(['N', 'a', 'NN'])"
      ]
     },
     "execution_count": 20,
     "metadata": {},
     "output_type": "execute_result"
    }
   ],
   "source": [
    "sample = np.array([\n",
    "        [10, 5, 12, 14, 30],\n",
    "        [20, 14, 18, 22, 50],\n",
    "        [20, 14, 18, 15, 25],\n",
    "        [3, 2, 1, 2, 0]\n",
    "    ])\n",
    "\n",
    "cp, T = sample.shape\n",
    "\n",
    "print(cp, T)\n",
    "\n",
    "code = \"\"\"\n",
    "# bugs model for poisson distribs\n",
    "\n",
    "model{\n",
    "        for (i in 1:cp) {\n",
    "            for (t in 1:T) {\n",
    "                n[i, t] ~ dpois(a[i] * N[t])\n",
    "            }\n",
    "        }\n",
    "        \n",
    "        for (t in 1:T) {\n",
    "            N[t]   ~ dpois(NN)\n",
    "        }\n",
    "        NN      ~ dunif(10,100)\n",
    "        \n",
    "        for (i in 1:cp) {\n",
    "            b[i]   ~ dnorm(0, 10) I(0,)\n",
    "        }\n",
    "        \n",
    "        for (i in 1:cp) {\n",
    "            a[i]  <- b[i] / sum(b)\n",
    "        }\n",
    "}\n",
    "\"\"\"\n",
    "\n",
    "myvars=['NN', 'N', 'a']\n",
    "\n",
    "%time model = pyjags.Model(code, data=dict(n=sample, cp=cp, T=T), chains=4, threads=4)\n",
    "%time samples = model.sample(20000, vars=myvars)\n",
    "samples.keys()"
   ]
  },
  {
   "cell_type": "code",
   "execution_count": 21,
   "metadata": {
    "collapsed": false
   },
   "outputs": [
    {
     "name": "stdout",
     "output_type": "stream",
     "text": [
      "NN      [0] mean =      58.5320 (std =     4.8235), 95% credible interval [50.78 66.55]\n",
      "N       [0] mean =      55.8446 (std =     5.8288), 95% credible interval [47.00 66.00]\n",
      "N       [1] mean =      46.1507 (std =     5.6240), 95% credible interval [37.00 56.00]\n",
      "N       [2] mean =      53.7283 (std =     5.7567), 95% credible interval [45.00 64.00]\n",
      "N       [3] mean =      55.8379 (std =     5.8477), 95% credible interval [46.00 66.00]\n",
      "N       [4] mean =      80.0961 (std =     6.5587), 95% credible interval [69.00 91.00]\n",
      "a       [0] mean =       0.2415 (std =     0.0244), 95% credible interval [ 0.20  0.28]\n",
      "a       [1] mean =       0.4169 (std =     0.0283), 95% credible interval [ 0.37  0.46]\n",
      "a       [2] mean =       0.3112 (std =     0.0266), 95% credible interval [ 0.27  0.36]\n",
      "a       [3] mean =       0.0305 (std =     0.0101), 95% credible interval [ 0.02  0.05]\n"
     ]
    }
   ],
   "source": [
    "burnin = 5000\n",
    "        \n",
    "for varname in myvars:\n",
    "    summary(samples, varname, burnin=burnin, thin=4)"
   ]
  },
  {
   "cell_type": "markdown",
   "metadata": {
    "collapsed": false
   },
   "source": [
    "## Now with some noise"
   ]
  },
  {
   "cell_type": "code",
   "execution_count": 87,
   "metadata": {
    "collapsed": false
   },
   "outputs": [
    {
     "name": "stdout",
     "output_type": "stream",
     "text": [
      "5 5\n",
      "adapting: iterations 4348 of 16000, elapsed 0:00:01, remaining 0:00:02\n",
      "adapting: iterations 11956 of 16000, elapsed 0:00:01, remaining 0:00:00\n",
      "adapting: iterations 15036 of 16000, elapsed 0:00:02, remaining 0:00:00\n",
      "adapting: iterations 16000 of 16000, elapsed 0:00:02, remaining 0:00:00\n",
      "CPU times: user 6.06 s, sys: 0 ns, total: 6.06 s\n",
      "Wall time: 2 s\n",
      "sampling: iterations 6125 of 80000, elapsed 0:00:01, remaining 0:00:10\n",
      "sampling: iterations 13767 of 80000, elapsed 0:00:01, remaining 0:00:06\n",
      "sampling: iterations 17713 of 80000, elapsed 0:00:02, remaining 0:00:06\n",
      "sampling: iterations 25369 of 80000, elapsed 0:00:02, remaining 0:00:05\n",
      "sampling: iterations 32193 of 80000, elapsed 0:00:03, remaining 0:00:04\n",
      "sampling: iterations 40171 of 80000, elapsed 0:00:03, remaining 0:00:03\n",
      "sampling: iterations 49186 of 80000, elapsed 0:00:04, remaining 0:00:03\n",
      "sampling: iterations 57166 of 80000, elapsed 0:00:05, remaining 0:00:02\n",
      "sampling: iterations 63538 of 80000, elapsed 0:00:05, remaining 0:00:01\n",
      "sampling: iterations 67140 of 80000, elapsed 0:00:06, remaining 0:00:01\n",
      "sampling: iterations 71745 of 80000, elapsed 0:00:07, remaining 0:00:01\n",
      "sampling: iterations 76494 of 80000, elapsed 0:00:08, remaining 0:00:00\n",
      "sampling: iterations 80000 of 80000, elapsed 0:00:08, remaining 0:00:00\n",
      "CPU times: user 26.5 s, sys: 24 ms, total: 26.5 s\n",
      "Wall time: 7.99 s\n"
     ]
    },
    {
     "data": {
      "text/plain": [
       "dict_keys(['noise', 'NN', 'sigma', 'p_noise', 'N', 'a', 'sigma_outl'])"
      ]
     },
     "execution_count": 87,
     "metadata": {},
     "output_type": "execute_result"
    }
   ],
   "source": [
    "sample = np.array([\n",
    "        [10, 5, 22, 14, 130],\n",
    "        [20, 14, 18, 22, 50],\n",
    "        [20, 600, 18, 200, 25],\n",
    "        [3, 2, 1, 7, 0],\n",
    "        [500, 400, 1000, 300, 300]\n",
    "    ])\n",
    "\n",
    "cp, T = sample.shape\n",
    "\n",
    "print(cp, T)\n",
    "\n",
    "code = \"\"\"\n",
    "# bugs model for poisson distribs\n",
    "\n",
    "model{\n",
    "        for (i in 1:cp) {\n",
    "            for (t in 1:T) {\n",
    "                m[i, t]       ~ dpois(a[i] * N[t])\n",
    "                noise[i, t]   ~ dbern(p_noise)\n",
    "                outl[i, t]    ~ dnorm(0, tau_outl)\n",
    "                mm[i, t, 1]  <- m[i, t]\n",
    "                mm[i, t, 2]  <- m[i, t] * (3 + outl[i, t] * outl[i, t])\n",
    "                \n",
    "                n[i, t]       ~ dnorm(mm[i, t, choice[i, t]], tau)\n",
    "                choice[i, t] <- noise[i, t] + 1\n",
    "            }\n",
    "        }\n",
    "        \n",
    "        tau         <- 1 / sigma / sigma\n",
    "        sigma        ~ dunif(0.0001, 0.001)\n",
    "        \n",
    "        tau_outl    <- 1 / sigma_outl / sigma_outl\n",
    "        sigma_outl   ~ dunif(0.1, 5)\n",
    "        \n",
    "        \n",
    "        for (t in 1:T) {\n",
    "            N[t]   ~ dpois(NNN)\n",
    "        }\n",
    "        \n",
    "        NNN      ~ dunif(NN/2, NN*2)\n",
    "        p_noise  ~ dbeta(10, 1000)\n",
    "        \n",
    "        for (i in 1:cp) {\n",
    "            b[i]   ~ dunif(0, 1)\n",
    "        }\n",
    "        \n",
    "        for (i in 1:cp) {\n",
    "            a[i]  <- b[i] / sum(b)\n",
    "        }\n",
    "}\n",
    "\"\"\"\n",
    "\n",
    "myvars=['NN', 'N', 'a', 'p_noise', 'noise', 'sigma', 'sigma_outl']\n",
    "\n",
    "%time model = pyjags.Model(code,  \\\n",
    "                           data=dict(n=sample, cp=cp, T=T, NN=sample.sum(axis=0).mean()),  \\\n",
    "                           chains=4, threads=4, adapt=4000)\n",
    "%time samples = model.sample(20000, vars=myvars)\n",
    "samples.keys()"
   ]
  },
  {
   "cell_type": "code",
   "execution_count": 88,
   "metadata": {
    "collapsed": false
   },
   "outputs": [
    {
     "name": "stdout",
     "output_type": "stream",
     "text": [
      "NN      [0] mean =     736.2000 (std =     0.0000), 95% credible interval [736.20 736.20]\n",
      "N       [0] mean =     409.4844 (std =   134.6472), 95% credible interval [281.00 654.00]\n",
      "N       [1] mean =     781.3936 (std =    64.8197), 95% credible interval [693.00 886.00]\n",
      "N       [2] mean =     625.3432 (std =   233.7227), 95% credible interval [339.00 902.00]\n",
      "N       [3] mean =     557.0915 (std =    53.7065), 95% credible interval [487.00 645.00]\n",
      "N       [4] mean =     522.8370 (std =    60.4425), 95% credible interval [448.00 627.00]\n",
      "a       [0] mean =       0.0621 (std =     0.0116), 95% credible interval [ 0.05  0.08]\n",
      "a       [1] mean =       0.0247 (std =     0.0064), 95% credible interval [ 0.02  0.04]\n",
      "a       [2] mean =       0.2941 (std =     0.0461), 95% credible interval [ 0.23  0.36]\n",
      "a       [3] mean =       0.0041 (std =     0.0019), 95% credible interval [ 0.00  0.01]\n",
      "a       [4] mean =       0.6150 (std =     0.0556), 95% credible interval [ 0.54  0.69]\n",
      "p_noise [0] mean =       0.0140 (std =     0.0042), 95% credible interval [ 0.01  0.02]\n",
      "sigma   [0] mean =       0.0001 (std =     0.0000), 95% credible interval [ 0.00  0.00]\n",
      "sigma_outl[0] mean =       2.0940 (std =     1.2187), 95% credible interval [ 0.49  4.30]\n"
     ]
    }
   ],
   "source": [
    "for varname in myvars:\n",
    "    if varname != 'noise':\n",
    "        summary(samples, varname, burnin=0, thin=4)"
   ]
  },
  {
   "cell_type": "code",
   "execution_count": 90,
   "metadata": {
    "collapsed": false
   },
   "outputs": [
    {
     "data": {
      "text/plain": [
       "array([[ 0.25  ,  0.    ,  0.    ,  0.    ,  0.    ],\n",
       "       [ 0.25  ,  0.25  ,  0.5   ,  0.25  ,  0.75  ],\n",
       "       [ 0.25  ,  0.    ,  0.    ,  0.    ,  0.25  ],\n",
       "       [ 0.    ,  0.    ,  0.    ,  0.5   ,  0.0143],\n",
       "       [ 0.75  ,  0.    ,  0.5   ,  0.    ,  0.    ]])"
      ]
     },
     "execution_count": 90,
     "metadata": {},
     "output_type": "execute_result"
    }
   ],
   "source": [
    "noise = samples[\"noise\"]\n",
    "(a, b, d, e) = noise.shape\n",
    "\n",
    "noise.mean(axis=2).mean(axis=2)"
   ]
  },
  {
   "cell_type": "code",
   "execution_count": null,
   "metadata": {
    "collapsed": true
   },
   "outputs": [],
   "source": []
  }
 ],
 "metadata": {
  "kernelspec": {
   "display_name": "Python 3",
   "language": "python",
   "name": "python3"
  },
  "language_info": {
   "codemirror_mode": {
    "name": "ipython",
    "version": 3
   },
   "file_extension": ".py",
   "mimetype": "text/x-python",
   "name": "python",
   "nbconvert_exporter": "python",
   "pygments_lexer": "ipython3",
   "version": "3.4.4"
  }
 },
 "nbformat": 4,
 "nbformat_minor": 0
}
