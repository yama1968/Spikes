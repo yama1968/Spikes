{
 "cells": [
  {
   "cell_type": "code",
   "execution_count": 2,
   "metadata": {
    "collapsed": false
   },
   "outputs": [],
   "source": [
    "import matplotlib.pyplot as plt\n",
    "plt.style.use('ggplot')\n",
    "%matplotlib inline\n",
    "%precision 4\n",
    "\n",
    "import pyjags\n",
    "import numpy as np"
   ]
  },
  {
   "cell_type": "code",
   "execution_count": 24,
   "metadata": {
    "collapsed": false,
    "scrolled": true
   },
   "outputs": [
    {
     "name": "stdout",
     "output_type": "stream",
     "text": [
      "4 5\n",
      "adapting: iterations 4000 of 4000, elapsed 0:00:00, remaining 0:00:00\n",
      "CPU times: user 288 ms, sys: 0 ns, total: 288 ms\n",
      "Wall time: 290 ms\n",
      "sampling: iterations 11620 of 80000, elapsed 0:00:01, remaining 0:00:04\n",
      "sampling: iterations 19240 of 80000, elapsed 0:00:01, remaining 0:00:04\n",
      "sampling: iterations 26780 of 80000, elapsed 0:00:02, remaining 0:00:04\n",
      "sampling: iterations 41496 of 80000, elapsed 0:00:03, remaining 0:00:03\n",
      "sampling: iterations 56492 of 80000, elapsed 0:00:04, remaining 0:00:02\n",
      "sampling: iterations 71660 of 80000, elapsed 0:00:05, remaining 0:00:01\n",
      "sampling: iterations 80000 of 80000, elapsed 0:00:05, remaining 0:00:00\n",
      "sampling: iterations 80000 of 80000, elapsed 0:00:05, remaining 0:00:00\n",
      "CPU times: user 5.24 s, sys: 0 ns, total: 5.24 s\n",
      "Wall time: 5.25 s\n"
     ]
    },
    {
     "data": {
      "text/plain": [
       "dict_keys(['N', 'NN', 'a'])"
      ]
     },
     "execution_count": 24,
     "metadata": {},
     "output_type": "execute_result"
    }
   ],
   "source": [
    "sample = np.array([\n",
    "        [10, 5, 12, 14, 30],\n",
    "        [20, 14, 18, 22, 50],\n",
    "        [20, 14, 18, 15, 25],\n",
    "        [3, 2, 1, 2, 0]\n",
    "    ])\n",
    "\n",
    "cp, T = sample.shape\n",
    "\n",
    "print(cp, T)\n",
    "\n",
    "code = \"\"\"\n",
    "# bugs model for poisson distribs\n",
    "\n",
    "model{\n",
    "        for (i in 1:cp) {\n",
    "            for (t in 1:T) {\n",
    "                n[i, t] ~ dpois(a[i] * N[t])\n",
    "            }\n",
    "        }\n",
    "        \n",
    "        for (t in 1:T) {\n",
    "            N[t]   ~ dpois(NN)\n",
    "        }\n",
    "        NN      ~ dunif(10,100)\n",
    "        \n",
    "        for (i in 1:cp) {\n",
    "            b[i]   ~ dnorm(0, 10) I(0, 1)\n",
    "        }\n",
    "        \n",
    "        for (i in 1:cp) {\n",
    "            a[i]  <- b[i] / sum(b)\n",
    "        }\n",
    "}\n",
    "\"\"\"\n",
    "\n",
    "myvars=['NN', 'N', 'a']\n",
    "\n",
    "%time model = pyjags.Model(code, data=dict(n=sample, cp=cp, T=T), chains=4)\n",
    "%time samples = model.sample(20000, vars=myvars)\n",
    "samples.keys()"
   ]
  },
  {
   "cell_type": "code",
   "execution_count": 64,
   "metadata": {
    "collapsed": false
   },
   "outputs": [
    {
     "name": "stdout",
     "output_type": "stream",
     "text": [
      "NN      [0] mean =      87.6116 (std =    10.3345), 95% credible interval [70.05 99.58]\n",
      "N       [0] mean =      69.3833 (std =     7.7991), 95% credible interval [57.00 82.00]\n",
      "N       [1] mean =      68.1669 (std =     7.7374), 95% credible interval [56.00 81.00]\n",
      "N       [2] mean =      72.6515 (std =     7.8645), 95% credible interval [60.00 86.00]\n",
      "N       [3] mean =     127.8812 (std =    22.8213), 95% credible interval [97.00 168.00]\n",
      "N       [4] mean =     110.3000 (std =    28.4964), 95% credible interval [71.00 152.00]\n",
      "a       [0] mean =       0.2365 (std =     0.0708), 95% credible interval [ 0.13  0.35]\n",
      "a       [1] mean =       0.2592 (std =     0.0467), 95% credible interval [ 0.20  0.35]\n",
      "a       [2] mean =       0.4742 (std =     0.0465), 95% credible interval [ 0.39  0.53]\n",
      "a       [3] mean =       0.0301 (std =     0.0096), 95% credible interval [ 0.02  0.05]\n",
      "p_noise [0] mean =       0.1245 (std =     0.0781), 95% credible interval [ 0.02  0.27]\n"
     ]
    },
    {
     "ename": "ValueError",
     "evalue": "too many values to unpack (expected 3)",
     "output_type": "error",
     "traceback": [
      "\u001b[1;31m---------------------------------------------------------------------------\u001b[0m",
      "\u001b[1;31mValueError\u001b[0m                                Traceback (most recent call last)",
      "\u001b[1;32m<ipython-input-64-5df8c5f9615f>\u001b[0m in \u001b[0;36m<module>\u001b[1;34m()\u001b[0m\n\u001b[0;32m     14\u001b[0m \u001b[1;33m\u001b[0m\u001b[0m\n\u001b[0;32m     15\u001b[0m \u001b[1;32mfor\u001b[0m \u001b[0mvarname\u001b[0m \u001b[1;32min\u001b[0m \u001b[0mmyvars\u001b[0m\u001b[1;33m:\u001b[0m\u001b[1;33m\u001b[0m\u001b[0m\n\u001b[1;32m---> 16\u001b[1;33m     \u001b[0msummary\u001b[0m\u001b[1;33m(\u001b[0m\u001b[0msamples\u001b[0m\u001b[1;33m,\u001b[0m \u001b[0mvarname\u001b[0m\u001b[1;33m,\u001b[0m \u001b[0mburnin\u001b[0m\u001b[1;33m=\u001b[0m\u001b[0mburnin\u001b[0m\u001b[1;33m,\u001b[0m \u001b[0mthin\u001b[0m\u001b[1;33m=\u001b[0m\u001b[1;36m4\u001b[0m\u001b[1;33m)\u001b[0m\u001b[1;33m\u001b[0m\u001b[0m\n\u001b[0m",
      "\u001b[1;32m<ipython-input-64-5df8c5f9615f>\u001b[0m in \u001b[0;36msummary\u001b[1;34m(samples, varname, p, burnin, thin)\u001b[0m\n\u001b[0;32m      1\u001b[0m \u001b[1;32mdef\u001b[0m \u001b[0msummary\u001b[0m\u001b[1;33m(\u001b[0m\u001b[0msamples\u001b[0m\u001b[1;33m,\u001b[0m \u001b[0mvarname\u001b[0m\u001b[1;33m,\u001b[0m \u001b[0mp\u001b[0m\u001b[1;33m=\u001b[0m\u001b[1;36m95\u001b[0m\u001b[1;33m,\u001b[0m \u001b[0mburnin\u001b[0m\u001b[1;33m=\u001b[0m\u001b[1;36m0\u001b[0m\u001b[1;33m,\u001b[0m \u001b[0mthin\u001b[0m\u001b[1;33m=\u001b[0m\u001b[1;36m1\u001b[0m\u001b[1;33m)\u001b[0m\u001b[1;33m:\u001b[0m\u001b[1;33m\u001b[0m\u001b[0m\n\u001b[0;32m      2\u001b[0m     \u001b[0mvalues\u001b[0m \u001b[1;33m=\u001b[0m \u001b[0msamples\u001b[0m\u001b[1;33m[\u001b[0m\u001b[0mvarname\u001b[0m\u001b[1;33m]\u001b[0m\u001b[1;33m\u001b[0m\u001b[0m\n\u001b[1;32m----> 3\u001b[1;33m     \u001b[1;33m(\u001b[0m\u001b[0mnb\u001b[0m\u001b[1;33m,\u001b[0m \u001b[0miter\u001b[0m\u001b[1;33m,\u001b[0m \u001b[0mchains\u001b[0m\u001b[1;33m)\u001b[0m \u001b[1;33m=\u001b[0m \u001b[0mvalues\u001b[0m\u001b[1;33m.\u001b[0m\u001b[0mshape\u001b[0m\u001b[1;33m\u001b[0m\u001b[0m\n\u001b[0m\u001b[0;32m      4\u001b[0m \u001b[1;33m\u001b[0m\u001b[0m\n\u001b[0;32m      5\u001b[0m     \u001b[1;32mfor\u001b[0m \u001b[0mi\u001b[0m \u001b[1;32min\u001b[0m \u001b[0mrange\u001b[0m\u001b[1;33m(\u001b[0m\u001b[0mnb\u001b[0m\u001b[1;33m)\u001b[0m\u001b[1;33m:\u001b[0m\u001b[1;33m\u001b[0m\u001b[0m\n",
      "\u001b[1;31mValueError\u001b[0m: too many values to unpack (expected 3)"
     ]
    }
   ],
   "source": [
    "def summary(samples, varname, p=95, burnin=0, thin=1):\n",
    "    values = samples[varname]\n",
    "    (nb, iter, chains) = values.shape\n",
    "    \n",
    "    for i in range(nb):\n",
    "        data = values[i][burnin::thin]\n",
    "\n",
    "        ci = np.percentile(data, [100-p, p])\n",
    "        \n",
    "        print('{:<8}[{}] mean = {:>12.4f} (std = {:>10.4f}), {}% credible interval [{:>5.2f} {:>5.2f}]'.format(\n",
    "          varname, i, np.mean(data), np.std(data), p, *ci))\n",
    "\n",
    "burnin = 5000\n",
    "        \n",
    "for varname in myvars:\n",
    "    summary(samples, varname, burnin=burnin, thin=4)"
   ]
  },
  {
   "cell_type": "markdown",
   "metadata": {
    "collapsed": false
   },
   "source": [
    "## Now with some noise"
   ]
  },
  {
   "cell_type": "code",
   "execution_count": 60,
   "metadata": {
    "collapsed": false
   },
   "outputs": [
    {
     "name": "stdout",
     "output_type": "stream",
     "text": [
      "4 5\n",
      "adapting: iterations 2732 of 4000, elapsed 0:00:01, remaining 0:00:00\n",
      "adapting: iterations 4000 of 4000, elapsed 0:00:01, remaining 0:00:00\n",
      "CPU times: user 960 ms, sys: 4 ms, total: 964 ms\n",
      "Wall time: 960 ms\n",
      "sampling: iterations 4404 of 80000, elapsed 0:00:01, remaining 0:00:16\n",
      "sampling: iterations 8984 of 80000, elapsed 0:00:02, remaining 0:00:15\n",
      "sampling: iterations 11284 of 80000, elapsed 0:00:02, remaining 0:00:15\n",
      "sampling: iterations 13580 of 80000, elapsed 0:00:03, remaining 0:00:14\n",
      "sampling: iterations 18176 of 80000, elapsed 0:00:04, remaining 0:00:14\n",
      "sampling: iterations 20460 of 80000, elapsed 0:00:04, remaining 0:00:13\n",
      "sampling: iterations 25024 of 80000, elapsed 0:00:05, remaining 0:00:12\n",
      "sampling: iterations 29592 of 80000, elapsed 0:00:06, remaining 0:00:11\n",
      "sampling: iterations 34168 of 80000, elapsed 0:00:07, remaining 0:00:10\n",
      "sampling: iterations 38752 of 80000, elapsed 0:00:08, remaining 0:00:09\n",
      "sampling: iterations 43340 of 80000, elapsed 0:00:09, remaining 0:00:08\n",
      "sampling: iterations 47932 of 80000, elapsed 0:00:10, remaining 0:00:07\n",
      "sampling: iterations 52524 of 80000, elapsed 0:00:11, remaining 0:00:06\n",
      "sampling: iterations 57116 of 80000, elapsed 0:00:12, remaining 0:00:05\n",
      "sampling: iterations 61712 of 80000, elapsed 0:00:13, remaining 0:00:04\n",
      "sampling: iterations 66312 of 80000, elapsed 0:00:14, remaining 0:00:03\n",
      "sampling: iterations 68612 of 80000, elapsed 0:00:15, remaining 0:00:02\n",
      "sampling: iterations 70912 of 80000, elapsed 0:00:15, remaining 0:00:02\n",
      "sampling: iterations 75512 of 80000, elapsed 0:00:16, remaining 0:00:01\n",
      "sampling: iterations 80000 of 80000, elapsed 0:00:17, remaining 0:00:00\n",
      "sampling: iterations 80000 of 80000, elapsed 0:00:17, remaining 0:00:00\n",
      "CPU times: user 17.4 s, sys: 4 ms, total: 17.4 s\n",
      "Wall time: 17.4 s\n"
     ]
    },
    {
     "data": {
      "text/plain": [
       "dict_keys(['a', 'tau', 'p_noise', 'outln', 'N', 'NN', 'noise'])"
      ]
     },
     "execution_count": 60,
     "metadata": {},
     "output_type": "execute_result"
    }
   ],
   "source": [
    "sample = np.array([\n",
    "        [10, 5, 22, 14, 130],\n",
    "        [20, 14, 18, 22, 50],\n",
    "        [20, 30, 18, 200, 25],\n",
    "        [3, 2, 1, 7, 0]\n",
    "    ])\n",
    "\n",
    "cp, T = sample.shape\n",
    "\n",
    "print(cp, T)\n",
    "\n",
    "code = \"\"\"\n",
    "# bugs model for poisson distribs\n",
    "\n",
    "model{\n",
    "        for (i in 1:cp) {\n",
    "            for (t in 1:T) {\n",
    "                m[i, t]       ~ dpois(a[i] * N[t])\n",
    "                noise[i, t]   ~ dbern(p_noise)\n",
    "                outl[i, t]    ~ dpois(outln)\n",
    "                mm[i, t, 1]  <- m[i, t]\n",
    "                mm[i, t, 2]  <- m[i, t] + outl[i, t]\n",
    "                \n",
    "                n[i, t]       ~ dnorm(mm[i, t, choice[i, t]], tau)\n",
    "                choice[i, t] <- noise[i, t] + 1\n",
    "            }\n",
    "        }\n",
    "        \n",
    "        tau    <- 1 / sigma / sigma\n",
    "        sigma   ~ dunif(0.0001, 0.001)\n",
    "        \n",
    "        for (t in 1:T) {\n",
    "            N[t]   ~ dpois(NN)\n",
    "        }\n",
    "        NN      ~ dunif(10,100)\n",
    "        p_noise ~ dunif(0, 1)\n",
    "        \n",
    "        outln   ~ dunif(10,100)\n",
    "        \n",
    "        for (i in 1:cp) {\n",
    "            b[i]   ~ dnorm(0, 10) I(0, 1)\n",
    "        }\n",
    "        \n",
    "        for (i in 1:cp) {\n",
    "            a[i]  <- b[i] / sum(b)\n",
    "        }\n",
    "}\n",
    "\"\"\"\n",
    "\n",
    "myvars=['NN', 'N', 'a', 'p_noise', 'noise', 'outln', 'tau']\n",
    "\n",
    "%time model = pyjags.Model(code, data=dict(n=sample, cp=cp, T=T), chains=4)\n",
    "%time samples = model.sample(20000, vars=myvars)\n",
    "samples.keys()"
   ]
  },
  {
   "cell_type": "code",
   "execution_count": 65,
   "metadata": {
    "collapsed": false
   },
   "outputs": [
    {
     "name": "stdout",
     "output_type": "stream",
     "text": [
      "NN      [0] mean =      87.6116 (std =    10.3345), 95% credible interval [70.05 99.58]\n",
      "N       [0] mean =      69.3833 (std =     7.7991), 95% credible interval [57.00 82.00]\n",
      "N       [1] mean =      68.1669 (std =     7.7374), 95% credible interval [56.00 81.00]\n",
      "N       [2] mean =      72.6515 (std =     7.8645), 95% credible interval [60.00 86.00]\n",
      "N       [3] mean =     127.8812 (std =    22.8213), 95% credible interval [97.00 168.00]\n",
      "N       [4] mean =     110.3000 (std =    28.4964), 95% credible interval [71.00 152.00]\n",
      "a       [0] mean =       0.2365 (std =     0.0708), 95% credible interval [ 0.13  0.35]\n",
      "a       [1] mean =       0.2592 (std =     0.0467), 95% credible interval [ 0.20  0.35]\n",
      "a       [2] mean =       0.4742 (std =     0.0465), 95% credible interval [ 0.39  0.53]\n",
      "a       [3] mean =       0.0301 (std =     0.0096), 95% credible interval [ 0.02  0.05]\n",
      "p_noise [0] mean =       0.1245 (std =     0.0781), 95% credible interval [ 0.02  0.27]\n",
      "outln   [0] mean =      69.6113 (std =    21.0568), 95% credible interval [36.19 99.42]\n",
      "tau     [0] mean = 90607929.9843 (std = 8621353.5958), 95% credible interval [73139986.71 99478682.18]\n"
     ]
    }
   ],
   "source": [
    "burnin = 5000\n",
    "        \n",
    "for varname in myvars:\n",
    "    if varname != 'noise':\n",
    "        summary(samples, varname, burnin=burnin, thin=4)"
   ]
  },
  {
   "cell_type": "code",
   "execution_count": 62,
   "metadata": {
    "collapsed": false
   },
   "outputs": [
    {
     "data": {
      "text/plain": [
       "(4, 5, 20000, 4)"
      ]
     },
     "execution_count": 62,
     "metadata": {},
     "output_type": "execute_result"
    }
   ],
   "source": [
    "samples['noise'].shape"
   ]
  },
  {
   "cell_type": "code",
   "execution_count": 63,
   "metadata": {
    "collapsed": false
   },
   "outputs": [
    {
     "data": {
      "text/plain": [
       "array([[ 0.  ,  0.  ,  0.  ,  0.  ,  0.75],\n",
       "       [ 0.  ,  0.  ,  0.  ,  0.  ,  0.25],\n",
       "       [ 0.  ,  0.  ,  0.  ,  0.75,  0.  ],\n",
       "       [ 0.  ,  0.  ,  0.  ,  0.  ,  0.  ]])"
      ]
     },
     "execution_count": 63,
     "metadata": {},
     "output_type": "execute_result"
    }
   ],
   "source": [
    "noise = samples[\"noise\"]\n",
    "(a, b, d, e) = noise.shape\n",
    "\n",
    "noise.mean(axis=2).mean(axis=2)"
   ]
  },
  {
   "cell_type": "markdown",
   "metadata": {},
   "source": [
    "## Proportionated model"
   ]
  },
  {
   "cell_type": "code",
   "execution_count": null,
   "metadata": {
    "collapsed": true
   },
   "outputs": [],
   "source": [
    "# todo -> m[i, t] / sum(m[: , t]) modélisé comme une gamma ???\n",
    "\n",
    "code = \"\"\"\n",
    "# bugs model for poisson distribs\n",
    "\n",
    "model{\n",
    "        for (i in 1:cp) {\n",
    "            for (t in 1:T) {\n",
    "                m[i, t]       ~ dpois(a[i] * N[t])\n",
    "                noise[i, t]   ~ dbern(p_noise)\n",
    "                outl[i, t]    ~ dpois(outln)\n",
    "                mm[i, t, 1]  <- m[i, t]\n",
    "                mm[i, t, 2]  <- m[i, t] + outl[i, t]\n",
    "                \n",
    "                n[i, t]       ~ dnorm(mm[i, t, choice[i, t]], tau)\n",
    "                choice[i, t] <- noise[i, t] + 1\n",
    "            }\n",
    "        }\n",
    "        \n",
    "        tau    <- 1 / sigma / sigma\n",
    "        sigma   ~ dunif(0.0001, 0.001)\n",
    "        \n",
    "        for (t in 1:T) {\n",
    "            N[t]   ~ dpois(NN)\n",
    "        }\n",
    "        NN      ~ dunif(10,100)\n",
    "        p_noise ~ dunif(0, 1)\n",
    "        \n",
    "        outln   ~ dunif(10,100)\n",
    "        \n",
    "        for (i in 1:cp) {\n",
    "            b[i]   ~ dnorm(0, 10) I(0, 1)\n",
    "        }\n",
    "        \n",
    "        for (i in 1:cp) {\n",
    "            a[i]  <- b[i] / sum(b)\n",
    "        }\n",
    "}\n",
    "\"\"\"\n",
    "\n",
    "myvars=['NN', 'N', 'a', 'p_noise', 'noise', 'outln', 'tau']\n",
    "\n",
    "%time model = pyjags.Model(code, data=dict(n=sample, cp=cp, T=T), chains=4)\n",
    "%time samples = model.sample(20000, vars=myvars)\n",
    "samples.keys()"
   ]
  }
 ],
 "metadata": {
  "kernelspec": {
   "display_name": "Python 3",
   "language": "python",
   "name": "python3"
  },
  "language_info": {
   "codemirror_mode": {
    "name": "ipython",
    "version": 3
   },
   "file_extension": ".py",
   "mimetype": "text/x-python",
   "name": "python",
   "nbconvert_exporter": "python",
   "pygments_lexer": "ipython3",
   "version": "3.5.1"
  }
 },
 "nbformat": 4,
 "nbformat_minor": 0
}
