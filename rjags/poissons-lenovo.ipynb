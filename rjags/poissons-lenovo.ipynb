{
 "cells": [
  {
   "cell_type": "code",
   "execution_count": 95,
   "metadata": {
    "collapsed": false
   },
   "outputs": [],
   "source": [
    "import matplotlib.pyplot as plt\n",
    "plt.style.use('ggplot')\n",
    "%matplotlib inline\n",
    "%precision 4\n",
    "\n",
    "import pyjags\n",
    "import numpy as np\n",
    "from scipy.stats import poisson, expon, gamma, bernoulli, norm\n",
    "\n",
    "def summary(samples, varname, p=95, burnin=0, thin=1):\n",
    "    values = samples[varname]\n",
    "    (nb, iter, chains) = values.shape\n",
    "    \n",
    "    for i in range(nb):\n",
    "        data = values[i][burnin::thin]\n",
    "\n",
    "        ci = np.percentile(data, [100-p, p])\n",
    "        \n",
    "        print('{:<8}[{}] mean = {:>12.4f} (std = {:>10.4f}), {}% credible interval [{:>5.2f} {:>5.2f}]'.format(\n",
    "          varname, i, np.mean(data), np.std(data), p, *ci))"
   ]
  },
  {
   "cell_type": "code",
   "execution_count": 98,
   "metadata": {
    "collapsed": false
   },
   "outputs": [],
   "source": [
    "def gen_poisson(T, lambdas):\n",
    "    return np.array([poisson.rvs(l, size=T) for l in lambdas])\n",
    "\n",
    "def gen_lambdas(N, n):\n",
    "    return N * np.abs(norm.rvs(1, 3, size=n))\n",
    "\n",
    "def gen_noised_poisson(T, lambdas, p_noise=0.05, i_noise=2):\n",
    "    poissons = gen_poisson(T, lambdas)\n",
    "    noise = np.array([bernoulli.rvs(p_noise, size=T) * i_noise for l in lambdas])\n",
    "    return poissons * (1 + noise)"
   ]
  },
  {
   "cell_type": "code",
   "execution_count": 99,
   "metadata": {
    "collapsed": false
   },
   "outputs": [
    {
     "data": {
      "text/plain": [
       "(array([[ 17,   5,  10],\n",
       "        [ 88, 104, 113]]),\n",
       " array([ 33.8624,  37.0324,  32.6711,   1.0717]),\n",
       " array([[  1,   3,   1],\n",
       "        [ 48,  38,  39],\n",
       "        [ 16,  20,  18],\n",
       "        [341,  33,  30]]))"
      ]
     },
     "execution_count": 99,
     "metadata": {},
     "output_type": "execute_result"
    }
   ],
   "source": [
    "gen_poisson(3, [10, 100]), gen_lambdas(10, 4), gen_noised_poisson(3, gen_lambdas(10,4), p_noise=0.3, i_noise=10)"
   ]
  },
  {
   "cell_type": "code",
   "execution_count": 2,
   "metadata": {
    "collapsed": false,
    "scrolled": true
   },
   "outputs": [
    {
     "name": "stdout",
     "output_type": "stream",
     "text": [
      "4 5\n",
      "adapting: iterations 4000 of 4000, elapsed 0:00:00, remaining 0:00:00\n",
      "CPU times: user 496 ms, sys: 28.4 ms, total: 525 ms\n",
      "Wall time: 468 ms\n",
      "sampling: iterations 1927 of 80000, elapsed 0:00:01, remaining 0:00:23\n",
      "sampling: iterations 14067 of 80000, elapsed 0:00:01, remaining 0:00:05\n",
      "sampling: iterations 21046 of 80000, elapsed 0:00:02, remaining 0:00:06\n",
      "sampling: iterations 31119 of 80000, elapsed 0:00:03, remaining 0:00:04\n",
      "sampling: iterations 39304 of 80000, elapsed 0:00:03, remaining 0:00:03\n",
      "sampling: iterations 45517 of 80000, elapsed 0:00:04, remaining 0:00:03\n",
      "sampling: iterations 55476 of 80000, elapsed 0:00:04, remaining 0:00:02\n",
      "sampling: iterations 63750 of 80000, elapsed 0:00:05, remaining 0:00:01\n",
      "sampling: iterations 68929 of 80000, elapsed 0:00:05, remaining 0:00:01\n",
      "sampling: iterations 74606 of 80000, elapsed 0:00:06, remaining 0:00:00\n",
      "sampling: iterations 80000 of 80000, elapsed 0:00:06, remaining 0:00:00\n",
      "CPU times: user 8.69 s, sys: 665 ms, total: 9.36 s\n",
      "Wall time: 6.26 s\n"
     ]
    },
    {
     "data": {
      "text/plain": [
       "dict_keys(['NN', 'N', 'a'])"
      ]
     },
     "execution_count": 2,
     "metadata": {},
     "output_type": "execute_result"
    }
   ],
   "source": [
    "sample = np.array([\n",
    "        [10, 5, 12, 14, 30],\n",
    "        [20, 14, 18, 22, 50],\n",
    "        [20, 14, 18, 15, 25],\n",
    "        [3, 2, 1, 2, 0]\n",
    "    ])\n",
    "\n",
    "cp, T = sample.shape\n",
    "\n",
    "print(cp, T)\n",
    "\n",
    "code = \"\"\"\n",
    "# bugs model for poisson distribs\n",
    "\n",
    "model{\n",
    "        for (i in 1:cp) {\n",
    "            for (t in 1:T) {\n",
    "                n[i, t] ~ dpois(a[i] * N[t])\n",
    "            }\n",
    "        }\n",
    "        \n",
    "        for (t in 1:T) {\n",
    "            N[t]   ~ dpois(NN)\n",
    "        }\n",
    "        NN      ~ dunif(10,100)\n",
    "        \n",
    "        for (i in 1:cp) {\n",
    "            b[i]   ~ dnorm(0, 10) I(0,)\n",
    "        }\n",
    "        \n",
    "        for (i in 1:cp) {\n",
    "            a[i]  <- b[i] / sum(b)\n",
    "        }\n",
    "}\n",
    "\"\"\"\n",
    "\n",
    "myvars=['NN', 'N', 'a']\n",
    "\n",
    "%time model = pyjags.Model(code, data=dict(n=sample, cp=cp, T=T), chains=4, threads=4)\n",
    "%time samples = model.sample(20000, vars=myvars)\n",
    "samples.keys()"
   ]
  },
  {
   "cell_type": "code",
   "execution_count": 3,
   "metadata": {
    "collapsed": false
   },
   "outputs": [
    {
     "name": "stdout",
     "output_type": "stream",
     "text": [
      "NN      [0] mean =      58.5322 (std =     4.7832), 95% credible interval [50.83 66.55]\n",
      "N       [0] mean =      55.7821 (std =     5.7967), 95% credible interval [47.00 66.00]\n",
      "N       [1] mean =      46.1269 (std =     5.5198), 95% credible interval [37.00 55.00]\n",
      "N       [2] mean =      53.7649 (std =     5.7647), 95% credible interval [45.00 64.00]\n",
      "N       [3] mean =      55.8573 (std =     5.8246), 95% credible interval [47.00 66.00]\n",
      "N       [4] mean =      80.0723 (std =     6.5386), 95% credible interval [70.00 91.00]\n",
      "a       [0] mean =       0.2418 (std =     0.0246), 95% credible interval [ 0.20  0.28]\n",
      "a       [1] mean =       0.4167 (std =     0.0281), 95% credible interval [ 0.37  0.46]\n",
      "a       [2] mean =       0.3110 (std =     0.0264), 95% credible interval [ 0.27  0.36]\n",
      "a       [3] mean =       0.0304 (std =     0.0100), 95% credible interval [ 0.02  0.05]\n"
     ]
    }
   ],
   "source": [
    "burnin = 5000\n",
    "        \n",
    "for varname in myvars:\n",
    "    summary(samples, varname, burnin=burnin, thin=4)"
   ]
  },
  {
   "cell_type": "markdown",
   "metadata": {
    "collapsed": false
   },
   "source": [
    "## Now with some noise"
   ]
  },
  {
   "cell_type": "code",
   "execution_count": 145,
   "metadata": {
    "collapsed": false
   },
   "outputs": [
    {
     "name": "stdout",
     "output_type": "stream",
     "text": [
      "10 12\n"
     ]
    }
   ],
   "source": [
    "sample = np.array([\n",
    "        [10, 5, 22, 14, 130],\n",
    "        [20, 14, 18, 22, 50],\n",
    "        [20, 600, 18, 200, 25],\n",
    "        [3, 2, 1, 7, 0],\n",
    "        [500, 400, 1000, 300, 300],\n",
    "        [60, 40, 20, 80, 800]\n",
    "    ])\n",
    "\n",
    "sample = np.array([\n",
    "        [ 28, 330,  37,  32,  28,  23],\n",
    "        [ 26,  35,  32,  25, 275,  23],\n",
    "        [ 11,   9,   8,   9, 165,   4],\n",
    "        [ 67,  76,  51, 605,  60,  63],\n",
    "        [ 61, 627,  65,  53,  64,  61]\n",
    "    ])\n",
    "\n",
    "sample = gen_noised_poisson(12, gen_lambdas(30, 10), p_noise=0.05, i_noise=10)\n",
    "\n",
    "\n",
    "cp, T = sample.shape\n",
    "\n",
    "print(cp, T)"
   ]
  },
  {
   "cell_type": "code",
   "execution_count": 154,
   "metadata": {
    "collapsed": false,
    "scrolled": true
   },
   "outputs": [
    {
     "name": "stdout",
     "output_type": "stream",
     "text": [
      "adapting: iterations 17 of 4000, elapsed 0:00:01, remaining 0:02:55\n",
      "adapting: iterations 45 of 4000, elapsed 0:00:01, remaining 0:02:00\n",
      "adapting: iterations 89 of 4000, elapsed 0:00:02, remaining 0:01:22\n",
      "adapting: iterations 114 of 4000, elapsed 0:00:02, remaining 0:01:22\n",
      "adapting: iterations 215 of 4000, elapsed 0:00:03, remaining 0:00:51\n",
      "adapting: iterations 294 of 4000, elapsed 0:00:03, remaining 0:00:43\n",
      "adapting: iterations 389 of 4000, elapsed 0:00:04, remaining 0:00:38\n",
      "adapting: iterations 488 of 4000, elapsed 0:00:05, remaining 0:00:33\n",
      "adapting: iterations 595 of 4000, elapsed 0:00:05, remaining 0:00:29\n",
      "adapting: iterations 668 of 4000, elapsed 0:00:06, remaining 0:00:28\n",
      "adapting: iterations 752 of 4000, elapsed 0:00:06, remaining 0:00:27\n",
      "adapting: iterations 794 of 4000, elapsed 0:00:07, remaining 0:00:27\n",
      "adapting: iterations 882 of 4000, elapsed 0:00:07, remaining 0:00:26\n",
      "adapting: iterations 984 of 4000, elapsed 0:00:08, remaining 0:00:24\n",
      "adapting: iterations 1071 of 4000, elapsed 0:00:08, remaining 0:00:23\n",
      "adapting: iterations 1199 of 4000, elapsed 0:00:09, remaining 0:00:21\n",
      "adapting: iterations 1313 of 4000, elapsed 0:00:10, remaining 0:00:20\n",
      "adapting: iterations 1362 of 4000, elapsed 0:00:10, remaining 0:00:20\n",
      "adapting: iterations 1429 of 4000, elapsed 0:00:11, remaining 0:00:19\n",
      "adapting: iterations 1515 of 4000, elapsed 0:00:11, remaining 0:00:18\n",
      "adapting: iterations 1628 of 4000, elapsed 0:00:12, remaining 0:00:17\n",
      "adapting: iterations 1716 of 4000, elapsed 0:00:13, remaining 0:00:17\n",
      "adapting: iterations 1835 of 4000, elapsed 0:00:13, remaining 0:00:15\n",
      "adapting: iterations 1885 of 4000, elapsed 0:00:14, remaining 0:00:15\n",
      "adapting: iterations 2006 of 4000, elapsed 0:00:14, remaining 0:00:14\n",
      "adapting: iterations 2091 of 4000, elapsed 0:00:15, remaining 0:00:14\n",
      "adapting: iterations 2228 of 4000, elapsed 0:00:16, remaining 0:00:12\n",
      "adapting: iterations 2336 of 4000, elapsed 0:00:16, remaining 0:00:11\n",
      "adapting: iterations 2425 of 4000, elapsed 0:00:17, remaining 0:00:11\n",
      "adapting: iterations 2530 of 4000, elapsed 0:00:17, remaining 0:00:10\n",
      "adapting: iterations 2618 of 4000, elapsed 0:00:18, remaining 0:00:09\n",
      "adapting: iterations 2727 of 4000, elapsed 0:00:18, remaining 0:00:09\n",
      "adapting: iterations 2799 of 4000, elapsed 0:00:19, remaining 0:00:08\n",
      "adapting: iterations 2890 of 4000, elapsed 0:00:19, remaining 0:00:07\n",
      "adapting: iterations 2927 of 4000, elapsed 0:00:20, remaining 0:00:07\n",
      "adapting: iterations 2999 of 4000, elapsed 0:00:21, remaining 0:00:07\n",
      "adapting: iterations 3141 of 4000, elapsed 0:00:21, remaining 0:00:06\n",
      "adapting: iterations 3251 of 4000, elapsed 0:00:22, remaining 0:00:05\n",
      "adapting: iterations 3324 of 4000, elapsed 0:00:22, remaining 0:00:05\n",
      "adapting: iterations 3378 of 4000, elapsed 0:00:23, remaining 0:00:04\n",
      "adapting: iterations 3470 of 4000, elapsed 0:00:24, remaining 0:00:04\n",
      "adapting: iterations 3579 of 4000, elapsed 0:00:24, remaining 0:00:03\n",
      "adapting: iterations 3687 of 4000, elapsed 0:00:25, remaining 0:00:02\n",
      "adapting: iterations 3786 of 4000, elapsed 0:00:25, remaining 0:00:01\n",
      "adapting: iterations 3930 of 4000, elapsed 0:00:26, remaining 0:00:00\n",
      "adapting: iterations 4000 of 4000, elapsed 0:00:26, remaining 0:00:00\n",
      "CPU times: user 39.7 s, sys: 1.6 s, total: 41.3 s\n",
      "Wall time: 26.5 s\n",
      "sampling: iterations 60 of 16000, elapsed 0:00:01, remaining 0:03:25\n",
      "sampling: iterations 105 of 16000, elapsed 0:00:01, remaining 0:03:17\n",
      "sampling: iterations 345 of 16000, elapsed 0:00:02, remaining 0:01:28\n",
      "sampling: iterations 466 of 16000, elapsed 0:00:02, remaining 0:01:23\n",
      "sampling: iterations 591 of 16000, elapsed 0:00:03, remaining 0:01:21\n",
      "sampling: iterations 716 of 16000, elapsed 0:00:04, remaining 0:01:18\n",
      "sampling: iterations 843 of 16000, elapsed 0:00:04, remaining 0:01:16\n",
      "sampling: iterations 997 of 16000, elapsed 0:00:05, remaining 0:01:14\n",
      "sampling: iterations 1124 of 16000, elapsed 0:00:05, remaining 0:01:13\n",
      "sampling: iterations 1202 of 16000, elapsed 0:00:06, remaining 0:01:14\n",
      "sampling: iterations 1332 of 16000, elapsed 0:00:07, remaining 0:01:13\n",
      "sampling: iterations 1407 of 16000, elapsed 0:00:07, remaining 0:01:16\n",
      "sampling: iterations 1506 of 16000, elapsed 0:00:08, remaining 0:01:16\n",
      "sampling: iterations 1623 of 16000, elapsed 0:00:09, remaining 0:01:16\n",
      "sampling: iterations 1743 of 16000, elapsed 0:00:09, remaining 0:01:15\n",
      "sampling: iterations 1862 of 16000, elapsed 0:00:10, remaining 0:01:14\n",
      "sampling: iterations 1935 of 16000, elapsed 0:00:10, remaining 0:01:14\n",
      "sampling: iterations 2076 of 16000, elapsed 0:00:11, remaining 0:01:12\n",
      "sampling: iterations 2198 of 16000, elapsed 0:00:11, remaining 0:01:11\n",
      "sampling: iterations 2295 of 16000, elapsed 0:00:12, remaining 0:01:11\n",
      "sampling: iterations 2391 of 16000, elapsed 0:00:12, remaining 0:01:10\n",
      "sampling: iterations 2510 of 16000, elapsed 0:00:13, remaining 0:01:10\n",
      "sampling: iterations 2629 of 16000, elapsed 0:00:14, remaining 0:01:09\n",
      "sampling: iterations 2726 of 16000, elapsed 0:00:14, remaining 0:01:08\n",
      "sampling: iterations 2845 of 16000, elapsed 0:00:15, remaining 0:01:07\n",
      "sampling: iterations 2968 of 16000, elapsed 0:00:15, remaining 0:01:06\n",
      "sampling: iterations 3089 of 16000, elapsed 0:00:16, remaining 0:01:05\n",
      "sampling: iterations 3186 of 16000, elapsed 0:00:16, remaining 0:01:05\n",
      "sampling: iterations 3330 of 16000, elapsed 0:00:17, remaining 0:01:04\n",
      "sampling: iterations 3451 of 16000, elapsed 0:00:18, remaining 0:01:04\n",
      "sampling: iterations 3549 of 16000, elapsed 0:00:18, remaining 0:01:03\n",
      "sampling: iterations 3673 of 16000, elapsed 0:00:19, remaining 0:01:02\n",
      "sampling: iterations 3819 of 16000, elapsed 0:00:19, remaining 0:01:01\n",
      "sampling: iterations 3943 of 16000, elapsed 0:00:20, remaining 0:01:01\n",
      "sampling: iterations 4089 of 16000, elapsed 0:00:20, remaining 0:00:59\n",
      "sampling: iterations 4187 of 16000, elapsed 0:00:21, remaining 0:00:59\n",
      "sampling: iterations 4310 of 16000, elapsed 0:00:21, remaining 0:00:58\n",
      "sampling: iterations 4436 of 16000, elapsed 0:00:22, remaining 0:00:57\n",
      "sampling: iterations 4535 of 16000, elapsed 0:00:23, remaining 0:00:57\n",
      "sampling: iterations 4658 of 16000, elapsed 0:00:23, remaining 0:00:56\n",
      "sampling: iterations 4782 of 16000, elapsed 0:00:24, remaining 0:00:56\n",
      "sampling: iterations 4882 of 16000, elapsed 0:00:24, remaining 0:00:55\n",
      "sampling: iterations 4982 of 16000, elapsed 0:00:25, remaining 0:00:55\n",
      "sampling: iterations 5106 of 16000, elapsed 0:00:25, remaining 0:00:54\n",
      "sampling: iterations 5206 of 16000, elapsed 0:00:26, remaining 0:00:54\n",
      "sampling: iterations 5358 of 16000, elapsed 0:00:26, remaining 0:00:53\n",
      "sampling: iterations 5482 of 16000, elapsed 0:00:27, remaining 0:00:52\n",
      "sampling: iterations 5609 of 16000, elapsed 0:00:28, remaining 0:00:51\n",
      "sampling: iterations 5709 of 16000, elapsed 0:00:28, remaining 0:00:51\n",
      "sampling: iterations 5858 of 16000, elapsed 0:00:29, remaining 0:00:50\n",
      "sampling: iterations 5958 of 16000, elapsed 0:00:29, remaining 0:00:49\n",
      "sampling: iterations 6082 of 16000, elapsed 0:00:30, remaining 0:00:49\n",
      "sampling: iterations 6207 of 16000, elapsed 0:00:31, remaining 0:00:48\n",
      "sampling: iterations 6307 of 16000, elapsed 0:00:31, remaining 0:00:48\n",
      "sampling: iterations 6458 of 16000, elapsed 0:00:32, remaining 0:00:47\n",
      "sampling: iterations 6558 of 16000, elapsed 0:00:32, remaining 0:00:46\n",
      "sampling: iterations 6707 of 16000, elapsed 0:00:33, remaining 0:00:46\n",
      "sampling: iterations 6858 of 16000, elapsed 0:00:33, remaining 0:00:45\n",
      "sampling: iterations 6983 of 16000, elapsed 0:00:34, remaining 0:00:44\n",
      "sampling: iterations 7111 of 16000, elapsed 0:00:35, remaining 0:00:43\n",
      "sampling: iterations 7237 of 16000, elapsed 0:00:35, remaining 0:00:43\n",
      "sampling: iterations 7338 of 16000, elapsed 0:00:36, remaining 0:00:42\n",
      "sampling: iterations 7439 of 16000, elapsed 0:00:36, remaining 0:00:42\n",
      "sampling: iterations 7589 of 16000, elapsed 0:00:37, remaining 0:00:41\n",
      "sampling: iterations 7717 of 16000, elapsed 0:00:37, remaining 0:00:40\n",
      "sampling: iterations 7794 of 16000, elapsed 0:00:38, remaining 0:00:40\n",
      "sampling: iterations 7945 of 16000, elapsed 0:00:39, remaining 0:00:39\n",
      "sampling: iterations 8099 of 16000, elapsed 0:00:39, remaining 0:00:38\n",
      "sampling: iterations 8226 of 16000, elapsed 0:00:40, remaining 0:00:38\n",
      "sampling: iterations 8328 of 16000, elapsed 0:00:40, remaining 0:00:37\n",
      "sampling: iterations 8455 of 16000, elapsed 0:00:41, remaining 0:00:37\n",
      "sampling: iterations 8581 of 16000, elapsed 0:00:41, remaining 0:00:36\n",
      "sampling: iterations 8683 of 16000, elapsed 0:00:42, remaining 0:00:35\n",
      "sampling: iterations 8813 of 16000, elapsed 0:00:43, remaining 0:00:35\n",
      "sampling: iterations 8915 of 16000, elapsed 0:00:43, remaining 0:00:34\n",
      "sampling: iterations 9017 of 16000, elapsed 0:00:44, remaining 0:00:34\n",
      "sampling: iterations 9119 of 16000, elapsed 0:00:44, remaining 0:00:33\n",
      "sampling: iterations 9221 of 16000, elapsed 0:00:45, remaining 0:00:33\n",
      "sampling: iterations 9373 of 16000, elapsed 0:00:45, remaining 0:00:32\n",
      "sampling: iterations 9475 of 16000, elapsed 0:00:46, remaining 0:00:32\n",
      "sampling: iterations 9601 of 16000, elapsed 0:00:46, remaining 0:00:31\n",
      "sampling: iterations 9727 of 16000, elapsed 0:00:47, remaining 0:00:30\n",
      "sampling: iterations 9854 of 16000, elapsed 0:00:48, remaining 0:00:30\n",
      "sampling: iterations 9931 of 16000, elapsed 0:00:48, remaining 0:00:29\n",
      "sampling: iterations 10111 of 16000, elapsed 0:00:49, remaining 0:00:28\n",
      "sampling: iterations 10238 of 16000, elapsed 0:00:50, remaining 0:00:28\n",
      "sampling: iterations 10340 of 16000, elapsed 0:00:50, remaining 0:00:27\n",
      "sampling: iterations 10519 of 16000, elapsed 0:00:51, remaining 0:00:26\n",
      "sampling: iterations 10645 of 16000, elapsed 0:00:51, remaining 0:00:26\n",
      "sampling: iterations 10772 of 16000, elapsed 0:00:52, remaining 0:00:25\n",
      "sampling: iterations 10875 of 16000, elapsed 0:00:52, remaining 0:00:25\n",
      "sampling: iterations 10977 of 16000, elapsed 0:00:53, remaining 0:00:24\n",
      "sampling: iterations 11079 of 16000, elapsed 0:00:53, remaining 0:00:24\n",
      "sampling: iterations 11130 of 16000, elapsed 0:00:54, remaining 0:00:24\n",
      "sampling: iterations 11231 of 16000, elapsed 0:00:55, remaining 0:00:23\n",
      "sampling: iterations 11332 of 16000, elapsed 0:00:55, remaining 0:00:23\n",
      "sampling: iterations 11458 of 16000, elapsed 0:00:56, remaining 0:00:22\n",
      "sampling: iterations 11559 of 16000, elapsed 0:00:56, remaining 0:00:22\n",
      "sampling: iterations 11684 of 16000, elapsed 0:00:57, remaining 0:00:21\n",
      "sampling: iterations 11761 of 16000, elapsed 0:00:58, remaining 0:00:21\n",
      "sampling: iterations 11861 of 16000, elapsed 0:00:58, remaining 0:00:20\n",
      "sampling: iterations 11961 of 16000, elapsed 0:00:59, remaining 0:00:20\n",
      "sampling: iterations 12061 of 16000, elapsed 0:00:59, remaining 0:00:19\n",
      "sampling: iterations 12160 of 16000, elapsed 0:01:00, remaining 0:00:19\n",
      "sampling: iterations 12260 of 16000, elapsed 0:01:01, remaining 0:00:19\n",
      "sampling: iterations 12385 of 16000, elapsed 0:01:01, remaining 0:00:18\n",
      "sampling: iterations 12509 of 16000, elapsed 0:01:02, remaining 0:00:17\n",
      "sampling: iterations 12633 of 16000, elapsed 0:01:02, remaining 0:00:17\n",
      "sampling: iterations 12733 of 16000, elapsed 0:01:03, remaining 0:00:16\n",
      "sampling: iterations 12833 of 16000, elapsed 0:01:03, remaining 0:00:16\n",
      "sampling: iterations 12935 of 16000, elapsed 0:01:04, remaining 0:00:15\n",
      "sampling: iterations 13084 of 16000, elapsed 0:01:04, remaining 0:00:14\n",
      "sampling: iterations 13184 of 16000, elapsed 0:01:05, remaining 0:00:14\n",
      "sampling: iterations 13284 of 16000, elapsed 0:01:06, remaining 0:00:13\n",
      "sampling: iterations 13384 of 16000, elapsed 0:01:06, remaining 0:00:13\n",
      "sampling: iterations 13535 of 16000, elapsed 0:01:07, remaining 0:00:12\n",
      "sampling: iterations 13659 of 16000, elapsed 0:01:07, remaining 0:00:12\n",
      "sampling: iterations 13786 of 16000, elapsed 0:01:08, remaining 0:00:11\n",
      "sampling: iterations 13910 of 16000, elapsed 0:01:08, remaining 0:00:10\n",
      "sampling: iterations 14009 of 16000, elapsed 0:01:09, remaining 0:00:10\n",
      "sampling: iterations 14132 of 16000, elapsed 0:01:10, remaining 0:00:09\n",
      "sampling: iterations 14231 of 16000, elapsed 0:01:10, remaining 0:00:09\n",
      "sampling: iterations 14379 of 16000, elapsed 0:01:11, remaining 0:00:08\n",
      "sampling: iterations 14505 of 16000, elapsed 0:01:11, remaining 0:00:07\n",
      "sampling: iterations 14628 of 16000, elapsed 0:01:12, remaining 0:00:07\n",
      "sampling: iterations 14742 of 16000, elapsed 0:01:12, remaining 0:00:06\n",
      "sampling: iterations 14862 of 16000, elapsed 0:01:13, remaining 0:00:06\n",
      "sampling: iterations 14958 of 16000, elapsed 0:01:13, remaining 0:00:05\n",
      "sampling: iterations 15081 of 16000, elapsed 0:01:14, remaining 0:00:05\n",
      "sampling: iterations 15203 of 16000, elapsed 0:01:15, remaining 0:00:04\n",
      "sampling: iterations 15302 of 16000, elapsed 0:01:15, remaining 0:00:03\n",
      "sampling: iterations 15425 of 16000, elapsed 0:01:16, remaining 0:00:03\n",
      "sampling: iterations 15524 of 16000, elapsed 0:01:16, remaining 0:00:02\n",
      "sampling: iterations 15649 of 16000, elapsed 0:01:17, remaining 0:00:02\n",
      "sampling: iterations 15724 of 16000, elapsed 0:01:17, remaining 0:00:01\n",
      "sampling: iterations 15849 of 16000, elapsed 0:01:18, remaining 0:00:01\n",
      "sampling: iterations 15961 of 16000, elapsed 0:01:18, remaining 0:00:00\n",
      "sampling: iterations 16000 of 16000, elapsed 0:01:19, remaining 0:00:00\n",
      "CPU times: user 2min 13s, sys: 3.97 s, total: 2min 17s\n",
      "Wall time: 1min 18s\n"
     ]
    },
    {
     "data": {
      "text/plain": [
       "dict_keys(['sigma', 'p_noise', 'NNN', 'noise', 'N', 'a'])"
      ]
     },
     "execution_count": 154,
     "metadata": {},
     "output_type": "execute_result"
    }
   ],
   "source": [
    "code = \"\"\"\n",
    "# bugs model for poisson distribs\n",
    "\n",
    "model{\n",
    "        for (i in 1:cp) {\n",
    "            for (t in 1:T) {\n",
    "                m[i, t]       ~ dpois(a[i] * N[t])\n",
    "                noise[i, t]   ~ dbern(p_noise)\n",
    "                outl_f[i, t]  ~ dt(0, 1.5, 4) I(0,)\n",
    "                outl[i, t]    ~ dpois(N[t] * a[i] * (1 + outl_f[i, t]))\n",
    "                mm[i, t, 1]  <- m[i, t]\n",
    "                mm[i, t, 2]  <- outl[i, t] + 2 * a[i] * N[t]\n",
    "                \n",
    "                n[i, t]       ~ dnorm(mm[i, t, choice[i, t]], tau)\n",
    "                choice[i, t] <- noise[i, t] + 1\n",
    "            }\n",
    "        }\n",
    "        \n",
    "        tau         <- 1 / sigma / sigma\n",
    "        sigma        ~ dunif(0.0001, 0.001)\n",
    "        \n",
    "        for (t in 1:T) {\n",
    "            N[t]   ~ dpois(NNN)\n",
    "        }\n",
    "        \n",
    "        NNN      ~ dunif(NN/2, NN*2)\n",
    "        p_noise  ~ dbeta(2, 40)\n",
    "        \n",
    "        for (i in 1:cp) {\n",
    "            b[i]   ~ dunif(0, 1)\n",
    "        }\n",
    "        \n",
    "        for (i in 1:cp) {\n",
    "            a[i]  <- b[i] / sum(b)\n",
    "        }\n",
    "}\n",
    "\"\"\"\n",
    "\n",
    "myvars=['NNN', 'N', 'a', 'p_noise', 'noise', 'sigma']\n",
    "\n",
    "%time model = pyjags.Model(code,  \\\n",
    "                           data=dict(n=sample, cp=cp, T=T, NN=sample.sum(axis=0).mean()),  \\\n",
    "                           chains=4, threads=4, adapt=1000)\n",
    "%time samples = model.sample(4000, vars=myvars, monitor_type=\"trace\")\n",
    "samples.keys()"
   ]
  },
  {
   "cell_type": "code",
   "execution_count": 155,
   "metadata": {
    "collapsed": false
   },
   "outputs": [
    {
     "name": "stdout",
     "output_type": "stream",
     "text": [
      "NNN     [0] mean =    1164.2617 (std =   161.5225), 95% credible interval [1002.06 1413.31]\n",
      "N       [0] mean =    1579.0000 (std =   522.5165), 95% credible interval [1215.00 2480.00]\n",
      "N       [1] mean =    1863.2500 (std =   748.7955), 95% credible interval [1108.00 2915.00]\n",
      "N       [2] mean =     890.6788 (std =   113.5042), 95% credible interval [751.00 1065.00]\n",
      "N       [3] mean =     984.9578 (std =   118.0141), 95% credible interval [845.00 1144.00]\n",
      "N       [4] mean =     932.0865 (std =    76.3480), 95% credible interval [834.00 1057.00]\n",
      "N       [5] mean =     943.8703 (std =    78.6288), 95% credible interval [842.00 1067.00]\n",
      "N       [6] mean =     900.4707 (std =   101.4395), 95% credible interval [781.00 1077.00]\n",
      "N       [7] mean =     949.8742 (std =    76.1956), 95% credible interval [854.00 1077.00]\n",
      "N       [8] mean =    1700.0642 (std =   280.5644), 95% credible interval [1480.00 2182.00]\n",
      "N       [9] mean =    1283.5000 (std =   145.1456), 95% credible interval [1077.00 1480.00]\n",
      "N       [10] mean =     995.3863 (std =    78.3436), 95% credible interval [897.00 1128.00]\n",
      "N       [11] mean =     946.4780 (std =    75.9899), 95% credible interval [852.00 1073.00]\n",
      "a       [0] mean =       0.1018 (std =     0.0487), 95% credible interval [ 0.06  0.18]\n",
      "a       [1] mean =       0.0628 (std =     0.0302), 95% credible interval [ 0.03  0.10]\n",
      "a       [2] mean =       0.1339 (std =     0.0461), 95% credible interval [ 0.10  0.21]\n",
      "a       [3] mean =       0.0958 (std =     0.0338), 95% credible interval [ 0.04  0.13]\n",
      "a       [4] mean =       0.1695 (std =     0.0823), 95% credible interval [ 0.08  0.27]\n",
      "a       [5] mean =       0.0720 (std =     0.0473), 95% credible interval [ 0.00  0.13]\n",
      "a       [6] mean =       0.1083 (std =     0.0567), 95% credible interval [ 0.02  0.18]\n",
      "a       [7] mean =       0.0939 (std =     0.0254), 95% credible interval [ 0.05  0.11]\n",
      "a       [8] mean =       0.0843 (std =     0.0260), 95% credible interval [ 0.05  0.12]\n",
      "a       [9] mean =       0.0777 (std =     0.0167), 95% credible interval [ 0.05  0.10]\n",
      "p_noise [0] mean =       0.0435 (std =     0.0220), 95% credible interval [ 0.02  0.09]\n",
      "sigma   [0] mean =       0.0006 (std =     0.0004), 95% credible interval [ 0.00  0.00]\n"
     ]
    }
   ],
   "source": [
    "for varname in myvars:\n",
    "    if varname != 'noise':\n",
    "        summary(samples, varname, burnin=0, thin=4)"
   ]
  },
  {
   "cell_type": "code",
   "execution_count": 156,
   "metadata": {
    "collapsed": false
   },
   "outputs": [
    {
     "data": {
      "text/plain": [
       "array([[ 0.  ,  0.  ,  0.  ,  0.  ,  0.  ,  0.  ,  0.  ,  0.  ,  0.  ,\n",
       "         0.  ,  0.  ,  0.  ],\n",
       "       [ 0.  ,  1.  ,  0.  ,  0.  ,  0.  ,  0.  ,  0.  ,  0.  ,  0.  ,\n",
       "         0.  ,  0.  ,  0.  ],\n",
       "       [ 0.  ,  0.  ,  0.25,  0.  ,  0.  ,  0.  ,  0.25,  0.  ,  0.  ,\n",
       "         0.  ,  0.  ,  0.  ],\n",
       "       [ 0.  ,  0.  ,  0.  ,  0.  ,  0.  ,  0.  ,  0.  ,  0.  ,  0.  ,\n",
       "         0.  ,  0.  ,  0.  ],\n",
       "       [ 0.  ,  0.  ,  0.  ,  0.  ,  0.  ,  0.  ,  0.  ,  0.  ,  0.5 ,\n",
       "         0.  ,  0.  ,  0.  ],\n",
       "       [ 0.  ,  0.  ,  0.25,  0.  ,  0.  ,  0.  ,  0.  ,  0.  ,  0.  ,\n",
       "         0.  ,  0.  ,  0.  ],\n",
       "       [ 0.  ,  0.  ,  0.  ,  0.25,  0.25,  0.25,  0.  ,  0.  ,  0.  ,\n",
       "         0.  ,  0.  ,  0.  ],\n",
       "       [ 1.  ,  0.  ,  0.  ,  0.  ,  0.  ,  0.  ,  0.  ,  0.  ,  0.  ,\n",
       "         1.  ,  0.  ,  0.  ],\n",
       "       [ 0.  ,  0.  ,  0.  ,  0.  ,  0.  ,  0.  ,  0.  ,  0.  ,  0.  ,\n",
       "         0.  ,  0.  ,  0.  ],\n",
       "       [ 0.  ,  0.  ,  0.  ,  0.  ,  0.  ,  0.  ,  0.  ,  0.  ,  0.  ,\n",
       "         0.  ,  0.  ,  0.  ]])"
      ]
     },
     "execution_count": 156,
     "metadata": {},
     "output_type": "execute_result"
    }
   ],
   "source": [
    "noise = samples[\"noise\"]\n",
    "(a, b, d, e) = noise.shape\n",
    "\n",
    "noise.mean(axis=2).mean(axis=2)"
   ]
  },
  {
   "cell_type": "code",
   "execution_count": 157,
   "metadata": {
    "collapsed": false
   },
   "outputs": [
    {
     "data": {
      "text/plain": [
       "array([[   0,    2,    0,    0,    0,    0,    0,    0,    0,    0,    0,\n",
       "           0],\n",
       "       [  37,  352,   36,   26,   35,   33,   42,   37,   25,   38,   36,\n",
       "          39],\n",
       "       [ 245,  246,  238,  241,  226,  233,  257,  214,  242,  223,  219,\n",
       "         217],\n",
       "       [   9,    6,   12,    9,    7,   10,    9,    2,    9,   11,   88,\n",
       "          12],\n",
       "       [ 146,  120,  121,  138,  148,  139,  123,  151, 1474,  129,  151,\n",
       "         161],\n",
       "       [  61,   71,   85,   71,   78,   67,   84,   81,   81,   77,   77,\n",
       "          66],\n",
       "       [  74,   78,   73,   92,   74,   88,   96,   85,   93,   84,   73,\n",
       "          92],\n",
       "       [ 396,   32,   31,   27,   27,   30,   23,   37,   24,  407,   41,\n",
       "          34],\n",
       "       [ 126,  106,  100,  110,   84,   97,   92,  113,  121,  109,  123,\n",
       "          94],\n",
       "       [  36,   48,   45,   29,   41,   38,   30,   37,   48,   41,   34,\n",
       "          37]])"
      ]
     },
     "execution_count": 157,
     "metadata": {},
     "output_type": "execute_result"
    }
   ],
   "source": [
    "sample"
   ]
  },
  {
   "cell_type": "code",
   "execution_count": null,
   "metadata": {
    "collapsed": true
   },
   "outputs": [],
   "source": []
  }
 ],
 "metadata": {
  "kernelspec": {
   "display_name": "Python 3",
   "language": "python",
   "name": "python3"
  },
  "language_info": {
   "codemirror_mode": {
    "name": "ipython",
    "version": 3
   },
   "file_extension": ".py",
   "mimetype": "text/x-python",
   "name": "python",
   "nbconvert_exporter": "python",
   "pygments_lexer": "ipython3",
   "version": "3.5.1"
  }
 },
 "nbformat": 4,
 "nbformat_minor": 0
}
