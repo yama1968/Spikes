{
 "cells": [
  {
   "cell_type": "code",
   "execution_count": 1,
   "metadata": {
    "collapsed": false
   },
   "outputs": [],
   "source": [
    "import matplotlib.pyplot as plt\n",
    "plt.style.use('ggplot')\n",
    "%matplotlib inline\n",
    "%precision 4\n",
    "\n",
    "import pyjags\n",
    "import numpy as np\n",
    "\n",
    "def summary(samples, varname, p=95, burnin=0, thin=1):\n",
    "    values = samples[varname]\n",
    "    (nb, iter, chains) = values.shape\n",
    "    \n",
    "    for i in range(nb):\n",
    "        data = values[i][burnin::thin]\n",
    "\n",
    "        ci = np.percentile(data, [100-p, p])\n",
    "        \n",
    "        print('{:<8}[{}] mean = {:>12.4f} (std = {:>10.4f}), {}% credible interval [{:>5.2f} {:>5.2f}]'.format(\n",
    "          varname, i, np.mean(data), np.std(data), p, *ci))"
   ]
  },
  {
   "cell_type": "code",
   "execution_count": 2,
   "metadata": {
    "collapsed": false,
    "scrolled": true
   },
   "outputs": [
    {
     "name": "stdout",
     "output_type": "stream",
     "text": [
      "4 5\n",
      "adapting: iterations 4000 of 4000, elapsed 0:00:00, remaining 0:00:00\n",
      "CPU times: user 496 ms, sys: 28.4 ms, total: 525 ms\n",
      "Wall time: 468 ms\n",
      "sampling: iterations 1927 of 80000, elapsed 0:00:01, remaining 0:00:23\n",
      "sampling: iterations 14067 of 80000, elapsed 0:00:01, remaining 0:00:05\n",
      "sampling: iterations 21046 of 80000, elapsed 0:00:02, remaining 0:00:06\n",
      "sampling: iterations 31119 of 80000, elapsed 0:00:03, remaining 0:00:04\n",
      "sampling: iterations 39304 of 80000, elapsed 0:00:03, remaining 0:00:03\n",
      "sampling: iterations 45517 of 80000, elapsed 0:00:04, remaining 0:00:03\n",
      "sampling: iterations 55476 of 80000, elapsed 0:00:04, remaining 0:00:02\n",
      "sampling: iterations 63750 of 80000, elapsed 0:00:05, remaining 0:00:01\n",
      "sampling: iterations 68929 of 80000, elapsed 0:00:05, remaining 0:00:01\n",
      "sampling: iterations 74606 of 80000, elapsed 0:00:06, remaining 0:00:00\n",
      "sampling: iterations 80000 of 80000, elapsed 0:00:06, remaining 0:00:00\n",
      "CPU times: user 8.69 s, sys: 665 ms, total: 9.36 s\n",
      "Wall time: 6.26 s\n"
     ]
    },
    {
     "data": {
      "text/plain": [
       "dict_keys(['NN', 'N', 'a'])"
      ]
     },
     "execution_count": 2,
     "metadata": {},
     "output_type": "execute_result"
    }
   ],
   "source": [
    "sample = np.array([\n",
    "        [10, 5, 12, 14, 30],\n",
    "        [20, 14, 18, 22, 50],\n",
    "        [20, 14, 18, 15, 25],\n",
    "        [3, 2, 1, 2, 0]\n",
    "    ])\n",
    "\n",
    "cp, T = sample.shape\n",
    "\n",
    "print(cp, T)\n",
    "\n",
    "code = \"\"\"\n",
    "# bugs model for poisson distribs\n",
    "\n",
    "model{\n",
    "        for (i in 1:cp) {\n",
    "            for (t in 1:T) {\n",
    "                n[i, t] ~ dpois(a[i] * N[t])\n",
    "            }\n",
    "        }\n",
    "        \n",
    "        for (t in 1:T) {\n",
    "            N[t]   ~ dpois(NN)\n",
    "        }\n",
    "        NN      ~ dunif(10,100)\n",
    "        \n",
    "        for (i in 1:cp) {\n",
    "            b[i]   ~ dnorm(0, 10) I(0,)\n",
    "        }\n",
    "        \n",
    "        for (i in 1:cp) {\n",
    "            a[i]  <- b[i] / sum(b)\n",
    "        }\n",
    "}\n",
    "\"\"\"\n",
    "\n",
    "myvars=['NN', 'N', 'a']\n",
    "\n",
    "%time model = pyjags.Model(code, data=dict(n=sample, cp=cp, T=T), chains=4, threads=4)\n",
    "%time samples = model.sample(20000, vars=myvars)\n",
    "samples.keys()"
   ]
  },
  {
   "cell_type": "code",
   "execution_count": 3,
   "metadata": {
    "collapsed": false
   },
   "outputs": [
    {
     "name": "stdout",
     "output_type": "stream",
     "text": [
      "NN      [0] mean =      58.5322 (std =     4.7832), 95% credible interval [50.83 66.55]\n",
      "N       [0] mean =      55.7821 (std =     5.7967), 95% credible interval [47.00 66.00]\n",
      "N       [1] mean =      46.1269 (std =     5.5198), 95% credible interval [37.00 55.00]\n",
      "N       [2] mean =      53.7649 (std =     5.7647), 95% credible interval [45.00 64.00]\n",
      "N       [3] mean =      55.8573 (std =     5.8246), 95% credible interval [47.00 66.00]\n",
      "N       [4] mean =      80.0723 (std =     6.5386), 95% credible interval [70.00 91.00]\n",
      "a       [0] mean =       0.2418 (std =     0.0246), 95% credible interval [ 0.20  0.28]\n",
      "a       [1] mean =       0.4167 (std =     0.0281), 95% credible interval [ 0.37  0.46]\n",
      "a       [2] mean =       0.3110 (std =     0.0264), 95% credible interval [ 0.27  0.36]\n",
      "a       [3] mean =       0.0304 (std =     0.0100), 95% credible interval [ 0.02  0.05]\n"
     ]
    }
   ],
   "source": [
    "burnin = 5000\n",
    "        \n",
    "for varname in myvars:\n",
    "    summary(samples, varname, burnin=burnin, thin=4)"
   ]
  },
  {
   "cell_type": "markdown",
   "metadata": {
    "collapsed": false
   },
   "source": [
    "## Now with some noise"
   ]
  },
  {
   "cell_type": "code",
   "execution_count": 24,
   "metadata": {
    "collapsed": false
   },
   "outputs": [
    {
     "name": "stdout",
     "output_type": "stream",
     "text": [
      "6 5\n",
      "adapting: iterations 375 of 16000, elapsed 0:00:01, remaining 0:00:25\n",
      "adapting: iterations 1411 of 16000, elapsed 0:00:01, remaining 0:00:14\n",
      "adapting: iterations 3067 of 16000, elapsed 0:00:02, remaining 0:00:08\n",
      "adapting: iterations 4168 of 16000, elapsed 0:00:02, remaining 0:00:07\n",
      "adapting: iterations 5079 of 16000, elapsed 0:00:03, remaining 0:00:06\n",
      "adapting: iterations 5997 of 16000, elapsed 0:00:04, remaining 0:00:06\n",
      "adapting: iterations 6915 of 16000, elapsed 0:00:04, remaining 0:00:05\n",
      "adapting: iterations 7799 of 16000, elapsed 0:00:05, remaining 0:00:05\n",
      "adapting: iterations 9140 of 16000, elapsed 0:00:05, remaining 0:00:04\n",
      "adapting: iterations 10238 of 16000, elapsed 0:00:06, remaining 0:00:03\n",
      "adapting: iterations 11813 of 16000, elapsed 0:00:07, remaining 0:00:02\n",
      "adapting: iterations 12971 of 16000, elapsed 0:00:07, remaining 0:00:02\n",
      "adapting: iterations 14588 of 16000, elapsed 0:00:08, remaining 0:00:01\n",
      "adapting: iterations 15931 of 16000, elapsed 0:00:08, remaining 0:00:00\n",
      "adapting: iterations 16000 of 16000, elapsed 0:00:08, remaining 0:00:00\n",
      "CPU times: user 13.6 s, sys: 452 ms, total: 14 s\n",
      "Wall time: 8.46 s\n",
      "sampling: iterations 455 of 80000, elapsed 0:00:01, remaining 0:02:53\n",
      "sampling: iterations 2676 of 80000, elapsed 0:00:02, remaining 0:00:45\n",
      "sampling: iterations 3147 of 80000, elapsed 0:00:02, remaining 0:00:51\n",
      "sampling: iterations 4503 of 80000, elapsed 0:00:03, remaining 0:00:45\n",
      "sampling: iterations 5395 of 80000, elapsed 0:00:03, remaining 0:00:44\n",
      "sampling: iterations 6287 of 80000, elapsed 0:00:04, remaining 0:00:43\n",
      "sampling: iterations 7631 of 80000, elapsed 0:00:04, remaining 0:00:40\n",
      "sampling: iterations 8318 of 80000, elapsed 0:00:05, remaining 0:00:41\n",
      "sampling: iterations 9708 of 80000, elapsed 0:00:05, remaining 0:00:38\n",
      "sampling: iterations 11101 of 80000, elapsed 0:00:06, remaining 0:00:37\n",
      "sampling: iterations 12553 of 80000, elapsed 0:00:07, remaining 0:00:35\n",
      "sampling: iterations 13530 of 80000, elapsed 0:00:07, remaining 0:00:35\n",
      "sampling: iterations 14260 of 80000, elapsed 0:00:08, remaining 0:00:35\n",
      "sampling: iterations 15465 of 80000, elapsed 0:00:08, remaining 0:00:35\n",
      "sampling: iterations 16421 of 80000, elapsed 0:00:09, remaining 0:00:34\n",
      "sampling: iterations 17361 of 80000, elapsed 0:00:09, remaining 0:00:34\n",
      "sampling: iterations 18303 of 80000, elapsed 0:00:10, remaining 0:00:34\n",
      "sampling: iterations 19941 of 80000, elapsed 0:00:11, remaining 0:00:32\n",
      "sampling: iterations 20416 of 80000, elapsed 0:00:11, remaining 0:00:33\n",
      "sampling: iterations 21367 of 80000, elapsed 0:00:12, remaining 0:00:32\n",
      "sampling: iterations 22511 of 80000, elapsed 0:00:12, remaining 0:00:31\n",
      "sampling: iterations 23436 of 80000, elapsed 0:00:13, remaining 0:00:31\n",
      "sampling: iterations 24589 of 80000, elapsed 0:00:13, remaining 0:00:30\n",
      "sampling: iterations 25514 of 80000, elapsed 0:00:14, remaining 0:00:30\n",
      "sampling: iterations 26451 of 80000, elapsed 0:00:15, remaining 0:00:29\n",
      "sampling: iterations 27600 of 80000, elapsed 0:00:15, remaining 0:00:29\n",
      "sampling: iterations 28521 of 80000, elapsed 0:00:16, remaining 0:00:28\n",
      "sampling: iterations 29662 of 80000, elapsed 0:00:16, remaining 0:00:27\n",
      "sampling: iterations 30586 of 80000, elapsed 0:00:17, remaining 0:00:27\n",
      "sampling: iterations 31506 of 80000, elapsed 0:00:17, remaining 0:00:27\n",
      "sampling: iterations 32664 of 80000, elapsed 0:00:18, remaining 0:00:26\n",
      "sampling: iterations 33817 of 80000, elapsed 0:00:19, remaining 0:00:25\n",
      "sampling: iterations 34735 of 80000, elapsed 0:00:19, remaining 0:00:25\n",
      "sampling: iterations 36095 of 80000, elapsed 0:00:20, remaining 0:00:24\n",
      "sampling: iterations 37258 of 80000, elapsed 0:00:20, remaining 0:00:23\n",
      "sampling: iterations 37946 of 80000, elapsed 0:00:21, remaining 0:00:23\n",
      "sampling: iterations 38647 of 80000, elapsed 0:00:21, remaining 0:00:23\n",
      "sampling: iterations 39789 of 80000, elapsed 0:00:22, remaining 0:00:22\n",
      "sampling: iterations 40245 of 80000, elapsed 0:00:22, remaining 0:00:22\n",
      "sampling: iterations 41384 of 80000, elapsed 0:00:23, remaining 0:00:21\n",
      "sampling: iterations 42538 of 80000, elapsed 0:00:23, remaining 0:00:21\n",
      "sampling: iterations 43686 of 80000, elapsed 0:00:24, remaining 0:00:20\n",
      "sampling: iterations 44603 of 80000, elapsed 0:00:24, remaining 0:00:19\n",
      "sampling: iterations 45280 of 80000, elapsed 0:00:25, remaining 0:00:19\n",
      "sampling: iterations 45964 of 80000, elapsed 0:00:26, remaining 0:00:19\n",
      "sampling: iterations 46874 of 80000, elapsed 0:00:26, remaining 0:00:19\n",
      "sampling: iterations 47779 of 80000, elapsed 0:00:27, remaining 0:00:18\n",
      "sampling: iterations 48452 of 80000, elapsed 0:00:28, remaining 0:00:18\n",
      "sampling: iterations 49997 of 80000, elapsed 0:00:28, remaining 0:00:17\n",
      "sampling: iterations 51109 of 80000, elapsed 0:00:29, remaining 0:00:16\n",
      "sampling: iterations 52445 of 80000, elapsed 0:00:29, remaining 0:00:15\n",
      "sampling: iterations 53795 of 80000, elapsed 0:00:30, remaining 0:00:15\n",
      "sampling: iterations 55142 of 80000, elapsed 0:00:31, remaining 0:00:14\n",
      "sampling: iterations 56279 of 80000, elapsed 0:00:31, remaining 0:00:13\n",
      "sampling: iterations 57417 of 80000, elapsed 0:00:32, remaining 0:00:12\n",
      "sampling: iterations 58768 of 80000, elapsed 0:00:32, remaining 0:00:12\n",
      "sampling: iterations 59914 of 80000, elapsed 0:00:33, remaining 0:00:11\n",
      "sampling: iterations 61288 of 80000, elapsed 0:00:33, remaining 0:00:10\n",
      "sampling: iterations 62205 of 80000, elapsed 0:00:34, remaining 0:00:10\n",
      "sampling: iterations 63344 of 80000, elapsed 0:00:35, remaining 0:00:09\n",
      "sampling: iterations 64264 of 80000, elapsed 0:00:35, remaining 0:00:09\n",
      "sampling: iterations 65886 of 80000, elapsed 0:00:36, remaining 0:00:08\n",
      "sampling: iterations 67272 of 80000, elapsed 0:00:36, remaining 0:00:07\n",
      "sampling: iterations 68437 of 80000, elapsed 0:00:37, remaining 0:00:06\n",
      "sampling: iterations 69591 of 80000, elapsed 0:00:37, remaining 0:00:06\n",
      "sampling: iterations 70992 of 80000, elapsed 0:00:38, remaining 0:00:05\n",
      "sampling: iterations 71927 of 80000, elapsed 0:00:39, remaining 0:00:04\n",
      "sampling: iterations 73088 of 80000, elapsed 0:00:39, remaining 0:00:04\n",
      "sampling: iterations 74261 of 80000, elapsed 0:00:40, remaining 0:00:03\n",
      "sampling: iterations 75423 of 80000, elapsed 0:00:41, remaining 0:00:02\n",
      "sampling: iterations 76113 of 80000, elapsed 0:00:41, remaining 0:00:02\n",
      "sampling: iterations 77267 of 80000, elapsed 0:00:42, remaining 0:00:01\n",
      "sampling: iterations 78446 of 80000, elapsed 0:00:43, remaining 0:00:01\n",
      "sampling: iterations 79647 of 80000, elapsed 0:00:43, remaining 0:00:00\n",
      "sampling: iterations 80000 of 80000, elapsed 0:00:43, remaining 0:00:00\n",
      "CPU times: user 1min 10s, sys: 2.42 s, total: 1min 12s\n",
      "Wall time: 43.6 s\n"
     ]
    },
    {
     "data": {
      "text/plain": [
       "dict_keys(['sigma', 'p_noise', 'NNN', 'noise', 'N', 'outl_factor', 'a'])"
      ]
     },
     "execution_count": 24,
     "metadata": {},
     "output_type": "execute_result"
    }
   ],
   "source": [
    "sample = np.array([\n",
    "        [10, 5, 22, 14, 130],\n",
    "        [20, 14, 18, 22, 50],\n",
    "        [20, 600, 18, 200, 25],\n",
    "        [3, 2, 1, 7, 0],\n",
    "        [500, 400, 1000, 300, 300],\n",
    "        [60, 40, 20, 80, 800]\n",
    "    ])\n",
    "\n",
    "cp, T = sample.shape\n",
    "\n",
    "print(cp, T)\n",
    "\n",
    "code = \"\"\"\n",
    "# bugs model for poisson distribs\n",
    "\n",
    "model{\n",
    "        for (i in 1:cp) {\n",
    "            for (t in 1:T) {\n",
    "                m[i, t]       ~ dpois(a[i] * N[t])\n",
    "                noise[i, t]   ~ dbern(p_noise)\n",
    "                outl[i, t]    ~ dpois(N[t] * a[i] * outl_factor)\n",
    "                mm[i, t, 1]  <- m[i, t]\n",
    "                mm[i, t, 2]  <- m[i, t] + outl[i, t]\n",
    "                \n",
    "                n[i, t]       ~ dnorm(mm[i, t, choice[i, t]], tau)\n",
    "                choice[i, t] <- noise[i, t] + 1\n",
    "            }\n",
    "        }\n",
    "        \n",
    "        tau         <- 1 / sigma / sigma\n",
    "        sigma        ~ dunif(0.0001, 0.001)\n",
    "        \n",
    "        outl_factor  ~ dunif(1, 5)\n",
    "        \n",
    "        for (t in 1:T) {\n",
    "            N[t]   ~ dpois(NNN)\n",
    "        }\n",
    "        \n",
    "        NNN      ~ dunif(NN/2, NN*2)\n",
    "        p_noise  ~ dbeta(1, 10)\n",
    "        \n",
    "        for (i in 1:cp) {\n",
    "            b[i]   ~ dunif(0, 1)\n",
    "        }\n",
    "        \n",
    "        for (i in 1:cp) {\n",
    "            a[i]  <- b[i] / sum(b)\n",
    "        }\n",
    "}\n",
    "\"\"\"\n",
    "\n",
    "myvars=['NNN', 'N', 'a', 'p_noise', 'noise', 'sigma', 'outl_factor']\n",
    "\n",
    "%time model = pyjags.Model(code,  \\\n",
    "                           data=dict(n=sample, cp=cp, T=T, NN=sample.sum(axis=0).mean()),  \\\n",
    "                           chains=4, threads=4, adapt=4000)\n",
    "%time samples = model.sample(20000, vars=myvars)\n",
    "samples.keys()"
   ]
  },
  {
   "cell_type": "code",
   "execution_count": 25,
   "metadata": {
    "collapsed": false
   },
   "outputs": [
    {
     "name": "stdout",
     "output_type": "stream",
     "text": [
      "NNN     [0] mean =     791.0448 (std =    81.8339), 95% credible interval [709.40 942.39]\n",
      "N       [0] mean =     699.0490 (std =    42.6579), 95% credible interval [645.00 781.00]\n",
      "N       [1] mean =     893.6004 (std =    70.2541), 95% credible interval [787.00 1013.00]\n",
      "N       [2] mean =     701.4340 (std =   176.5661), 95% credible interval [549.00 1021.00]\n",
      "N       [3] mean =     704.1016 (std =    42.8683), 95% credible interval [650.00 786.00]\n",
      "N       [4] mean =     955.6480 (std =   114.6564), 95% credible interval [818.00 1127.00]\n",
      "a       [0] mean =       0.0459 (std =     0.0053), 95% credible interval [ 0.04  0.05]\n",
      "a       [1] mean =       0.0316 (std =     0.0040), 95% credible interval [ 0.02  0.04]\n",
      "a       [2] mean =       0.2036 (std =     0.0309), 95% credible interval [ 0.16  0.24]\n",
      "a       [3] mean =       0.0035 (std =     0.0010), 95% credible interval [ 0.00  0.01]\n",
      "a       [4] mean =       0.5083 (std =     0.0162), 95% credible interval [ 0.49  0.54]\n",
      "a       [5] mean =       0.2072 (std =     0.0320), 95% credible interval [ 0.17  0.26]\n",
      "p_noise [0] mean =       0.0612 (std =     0.0427), 95% credible interval [ 0.01  0.14]\n",
      "sigma   [0] mean =       0.0001 (std =     0.0000), 95% credible interval [ 0.00  0.00]\n",
      "outl_factor[0] mean =       2.2948 (std =     0.8157), 95% credible interval [ 1.57  4.53]\n"
     ]
    }
   ],
   "source": [
    "for varname in myvars:\n",
    "    if varname != 'noise':\n",
    "        summary(samples, varname, burnin=0, thin=4)"
   ]
  },
  {
   "cell_type": "code",
   "execution_count": 26,
   "metadata": {
    "collapsed": false
   },
   "outputs": [
    {
     "data": {
      "text/plain": [
       "array([[  0.0000e+00,   0.0000e+00,   0.0000e+00,   0.0000e+00,\n",
       "          0.0000e+00],\n",
       "       [  0.0000e+00,   0.0000e+00,   0.0000e+00,   0.0000e+00,\n",
       "          0.0000e+00],\n",
       "       [  0.0000e+00,   2.5000e-01,   0.0000e+00,   0.0000e+00,\n",
       "          0.0000e+00],\n",
       "       [  1.1250e-03,   4.8750e-04,   1.4750e-03,   1.0250e-03,\n",
       "          3.3750e-04],\n",
       "       [  0.0000e+00,   0.0000e+00,   7.5000e-01,   0.0000e+00,\n",
       "          0.0000e+00],\n",
       "       [  0.0000e+00,   0.0000e+00,   0.0000e+00,   0.0000e+00,\n",
       "          5.0000e-01]])"
      ]
     },
     "execution_count": 26,
     "metadata": {},
     "output_type": "execute_result"
    }
   ],
   "source": [
    "noise = samples[\"noise\"]\n",
    "(a, b, d, e) = noise.shape\n",
    "\n",
    "noise.mean(axis=2).mean(axis=2)"
   ]
  },
  {
   "cell_type": "code",
   "execution_count": null,
   "metadata": {
    "collapsed": true
   },
   "outputs": [],
   "source": []
  }
 ],
 "metadata": {
  "kernelspec": {
   "display_name": "Python 3",
   "language": "python",
   "name": "python3"
  },
  "language_info": {
   "codemirror_mode": {
    "name": "ipython",
    "version": 3
   },
   "file_extension": ".py",
   "mimetype": "text/x-python",
   "name": "python",
   "nbconvert_exporter": "python",
   "pygments_lexer": "ipython3",
   "version": "3.5.1"
  }
 },
 "nbformat": 4,
 "nbformat_minor": 0
}
