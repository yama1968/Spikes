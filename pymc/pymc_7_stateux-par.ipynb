{
 "cells": [
  {
   "cell_type": "code",
   "execution_count": 5,
   "metadata": {
    "collapsed": false
   },
   "outputs": [],
   "source": [
    "%matplotlib inline\n",
    "import numpy as np\n",
    "from IPython.core.pylabtools import figsize\n",
    "import matplotlib.pyplot as plt\n",
    "import scipy.stats as stats\n",
    "import pymc as pm"
   ]
  },
  {
   "cell_type": "code",
   "execution_count": 30,
   "metadata": {
    "collapsed": false
   },
   "outputs": [
    {
     "name": "stdout",
     "output_type": "stream",
     "text": [
      "7 4\n",
      "[ 14.49126036  24.16197353  87.70223857  60.10582004]\n",
      "[ 12.93385202  12.67588318  31.11432159  19.92530558  24.68227131\n",
      "  27.43383161   5.20534499]\n",
      "[[  12.03078685   24.832857     83.05092007   48.00986301]\n",
      " [  28.58636892   35.22776156   79.51976423   45.51522663]\n",
      " [  67.92999804    6.93565223  137.82356788   86.97856977]\n",
      " [  24.41458039   52.12518311  100.33281127   64.60699078]\n",
      " [  17.04519098   38.60769819   69.62896248   72.5159213 ]\n",
      " [   7.22399185   25.92920677   80.96944166   43.12249473]\n",
      " [  14.68246538   17.46807234   87.93859876   51.36223616]]\n",
      "[24.559054628862079, 28.732347313650383, 91.323438048953705, 58.873043197730873]\n",
      "(7, 4)\n"
     ]
    }
   ],
   "source": [
    "def gen_sample(n, mus, sigmas):\n",
    "    return np.array([mus + stats.norm.rvs(size = n, loc = 0, scale = sigmas[i]) for i in np.arange(len(sigmas)) ])\n",
    "\n",
    "def gen_mus_sigma(nb_stateux, nb_samples):\n",
    "    return (stats.uniform.rvs(size=nb_samples, loc=0, scale=200), stats.uniform.rvs(size=nb_stateux, loc=0, scale=40))\n",
    "\n",
    "nb_stateux = 7\n",
    "sample_length = 4\n",
    "\n",
    "(mus, sigma) = gen_mus_sigma(nb_stateux, sample_length)\n",
    "sample = gen_sample(sample_length, mus, sigma)\n",
    "print (len(sample), len(sample[0]))\n",
    "print (mus)\n",
    "print (sigma)\n",
    "print (sample)\n",
    "print ([np.mean([sample[i, j] for i in np.arange(len(sigma))]) for j in np.arange(len(mus))])\n",
    "\n",
    "print (sample.shape)"
   ]
  },
  {
   "cell_type": "code",
   "execution_count": 31,
   "metadata": {
    "collapsed": false
   },
   "outputs": [
    {
     "name": "stdout",
     "output_type": "stream",
     "text": [
      " [-----------------100%-----------------] 20000 of 20000 complete in 15.4 sec"
     ]
    }
   ],
   "source": [
    "import numpy as np\n",
    "import pymc as pm\n",
    "\n",
    "(nb_stateux, sample_length) = sample.shape\n",
    "\n",
    "v_mus = np.array([pm.Normal(\"mu%d\" % i, mu=0, tau=0.001) for i in np.arange(sample_length)])\n",
    "v_sigmas = [pm.Uniform(\"sigma%d\" % k, lower=0, upper=100) for k in np.arange(nb_stateux)]\n",
    "v_taus = [pm.Lambda(\"tau%d\" % k, lambda sigma=v_sigmas[k]: 1/sigma**2) for k in np.arange(nb_stateux)]\n",
    "\n",
    "x = np.array([[pm.Normal(\"x%d_%d\" % (k,i), mu=v_mus[i], tau=v_taus[k], \n",
    "                         observed=True, value=np.array(sample[k,i])) for i in np.arange(sample_length)]\n",
    "              for k in np.arange(nb_stateux)])\n",
    "\n",
    "mcmc = pm.MCMC([v_mus, v_sigmas, v_taus, x])\n",
    "mcmc.sample(20000,1000)\n",
    "\n",
    "mu_traces = [np.array(mcmc.trace('mu%d' % k)[:]) for k in np.arange(sample_length)]\n",
    "sigma_traces = [np.array(mcmc.trace(\"sigma%d\" % i)[:]) for i in np.arange(nb_stateux)]"
   ]
  },
  {
   "cell_type": "code",
   "execution_count": 32,
   "metadata": {
    "collapsed": false
   },
   "outputs": [
    {
     "name": "stdout",
     "output_type": "stream",
     "text": [
      "File '7stateux_model.py' exists. Overwrite? y\n",
      "Overwriting file.\n"
     ]
    }
   ],
   "source": [
    "%history -f 7stateux_model.py -l 1"
   ]
  },
  {
   "cell_type": "code",
   "execution_count": 33,
   "metadata": {
    "collapsed": false
   },
   "outputs": [
    {
     "name": "stdout",
     "output_type": "stream",
     "text": [
      "11.7390613061\n",
      "24.9124063422\n",
      "82.6744835492\n",
      "47.4399953394\n"
     ]
    },
    {
     "name": "stderr",
     "output_type": "stream",
     "text": [
      "/home/yannick/bin/anaconda3/envs/py35/lib/python3.5/site-packages/matplotlib/axes/_axes.py:519: UserWarning: No labelled objects found. Use label='...' kwarg on individual plots.\n",
      "  warnings.warn(\"No labelled objects found. \"\n"
     ]
    },
    {
     "data": {
      "image/png": "[encoded data removed]",
      "text/plain": [
       "<matplotlib.figure.Figure at 0x7f27d40f6ba8>"
      ]
     },
     "metadata": {},
     "output_type": "display_data"
    }
   ],
   "source": [
    "figsize(12.5, 4)\n",
    "plt.title(\"Posterior distribution of mus\")\n",
    "for i in np.arange(sample_length):\n",
    "    plt.hist(mu_traces[i], bins=50, histtype=\"stepfilled\", normed=True)\n",
    "    plt.legend()\n",
    "    plt.xlim((0,200))\n",
    "    print (mu_traces[i].mean())"
   ]
  },
  {
   "cell_type": "code",
   "execution_count": 34,
   "metadata": {
    "collapsed": false
   },
   "outputs": [
    {
     "name": "stdout",
     "output_type": "stream",
     "text": [
      "3.11097551488\n",
      "16.1422200064\n",
      "56.2734558156\n",
      "29.4096715937\n",
      "24.6325986195\n",
      "5.9564861812\n",
      "9.34934940595\n"
     ]
    },
    {
     "name": "stderr",
     "output_type": "stream",
     "text": [
      "/home/yannick/bin/anaconda3/envs/py35/lib/python3.5/site-packages/matplotlib/axes/_axes.py:519: UserWarning: No labelled objects found. Use label='...' kwarg on individual plots.\n",
      "  warnings.warn(\"No labelled objects found. \"\n"
     ]
    },
    {
     "data": {
      "image/png": "[encoded data removed]",
      "text/plain": [
       "<matplotlib.figure.Figure at 0x7f27d4040f60>"
      ]
     },
     "metadata": {},
     "output_type": "display_data"
    }
   ],
   "source": [
    "figsize(12.5, 4)\n",
    "plt.title(\"Posterior distribution of sigmas\")\n",
    "for i in np.arange(nb_stateux):\n",
    "    plt.hist(sigma_traces[i], bins=50, histtype=\"stepfilled\", normed=True)\n",
    "    plt.legend()\n",
    "    plt.xlim((0,80))\n",
    "    print (sigma_traces[i].mean())"
   ]
  },
  {
   "cell_type": "code",
   "execution_count": 35,
   "metadata": {
    "collapsed": false
   },
   "outputs": [
    {
     "name": "stdout",
     "output_type": "stream",
     "text": [
      "<DirectView [0, 1, 2, 3]>\n",
      "importing pymc on engine(s)\n",
      "importing numpy on engine(s)\n"
     ]
    }
   ],
   "source": [
    "# Now going parallel\n",
    "\n",
    "from IPython.parallel import Client\n",
    "client = Client()\n",
    "\n",
    "direct         = client[:]\n",
    "direct.block   = True\n",
    "print (direct)\n",
    "\n",
    "def checkhostname():\n",
    "    import socket\n",
    "    return socket.gethostname()\n",
    "\n",
    "direct.apply(checkhostname)\n",
    "\n",
    "import numpy as np\n",
    "with direct.sync_imports():\n",
    "    import pymc as pm\n",
    "    import numpy as np"
   ]
  },
  {
   "cell_type": "code",
   "execution_count": 36,
   "metadata": {
    "collapsed": false
   },
   "outputs": [
    {
     "name": "stdout",
     "output_type": "stream",
     "text": [
      "import numpy as np\n",
      "import pymc as pm\n",
      "\n",
      "(nb_stateux, sample_length) = sample.shape\n",
      "\n",
      "v_mus = np.array([pm.Normal(\"mu%d\" % i, mu=0, tau=0.001) for i in np.arange(sample_length)])\n",
      "v_sigmas = [pm.Uniform(\"sigma%d\" % k, lower=0, upper=100) for k in np.arange(nb_stateux)]\n",
      "v_taus = [pm.Lambda(\"tau%d\" % k, lambda sigma=v_sigmas[k]: 1/sigma**2) for k in np.arange(nb_stateux)]\n",
      "\n",
      "x = np.array([[pm.Normal(\"x%d_%d\" % (k,i), mu=v_mus[i], tau=v_taus[k], \n",
      "                         observed=True, value=np.array(sample[k,i])) for i in np.arange(sample_length)]\n",
      "              for k in np.arange(nb_stateux)])\n",
      "\n",
      "mcmc = pm.MCMC([v_mus, v_sigmas, v_taus, x])\n",
      "mcmc.sample(20000,1000)\n",
      "\n",
      "mu_traces = [np.array(mcmc.trace('mu%d' % k)[:]) for k in np.arange(sample_length)]\n",
      "sigma_traces = [np.array(mcmc.trace(\"sigma%d\" % i)[:]) for i in np.arange(nb_stateux)]\n",
      "\n"
     ]
    }
   ],
   "source": [
    "export_dict = {k: globals()[k] for k in ('sample', 'nb_stateux')}\n",
    "direct.push(export_dict, block=True)\n",
    "\n",
    "model_script = open('7stateux_model.py').read()\n",
    "print (model_script)"
   ]
  },
  {
   "cell_type": "code",
   "execution_count": 37,
   "metadata": {
    "collapsed": false
   },
   "outputs": [
    {
     "data": {
      "text/plain": [
       "<AsyncResult: finished>"
      ]
     },
     "execution_count": 37,
     "metadata": {},
     "output_type": "execute_result"
    }
   ],
   "source": [
    "direct.execute(model_script)"
   ]
  },
  {
   "cell_type": "code",
   "execution_count": 38,
   "metadata": {
    "collapsed": false
   },
   "outputs": [
    {
     "name": "stdout",
     "output_type": "stream",
     "text": [
      "[array([ 11.96216857,  11.96216857,  11.96216857, ...,  11.13932379,\n",
      "        11.13932379,  11.13932379]), array([ 23.91339875,  25.63216794,  25.63216794, ...,  23.85862755,\n",
      "        23.85862755,  23.85862755]), array([ 82.12263724,  82.12263724,  82.12263724, ...,  87.49621377,\n",
      "        82.58866466,  82.58866466]), array([ 48.31800337,  48.31800337,  48.29049752, ...,  46.69276436,\n",
      "        46.69276436,  46.69276436])]\n",
      "4 76000\n"
     ]
    }
   ],
   "source": [
    "def get_trace(var_name):\n",
    "    all_traces = direct.pull(var_name)\n",
    "    a = len(all_traces)\n",
    "    b = len(all_traces[0])\n",
    "\n",
    "    y = [np.array([all_traces[i][j] for i in range(a)]).flatten() for j in range(b)]\n",
    "    \n",
    "    return y\n",
    "\n",
    "mu_traces = get_trace(\"mu_traces\")\n",
    "sigma_traces = get_trace(\"sigma_traces\")\n",
    "\n",
    "print (mu_traces)\n",
    "print (len(mu_traces), len(mu_traces[0]))"
   ]
  },
  {
   "cell_type": "code",
   "execution_count": 39,
   "metadata": {
    "collapsed": false
   },
   "outputs": [
    {
     "name": "stdout",
     "output_type": "stream",
     "text": [
      "12.2596462266\n",
      "24.91937009\n",
      "82.7035896346\n",
      "47.6222678434\n"
     ]
    },
    {
     "name": "stderr",
     "output_type": "stream",
     "text": [
      "/home/yannick/bin/anaconda3/envs/py35/lib/python3.5/site-packages/matplotlib/axes/_axes.py:519: UserWarning: No labelled objects found. Use label='...' kwarg on individual plots.\n",
      "  warnings.warn(\"No labelled objects found. \"\n"
     ]
    },
    {
     "data": {
      "image/png": "[encoded data removed]",
      "text/plain": [
       "<matplotlib.figure.Figure at 0x7f27cf783f28>"
      ]
     },
     "metadata": {},
     "output_type": "display_data"
    }
   ],
   "source": [
    "figsize(12.5, 4)\n",
    "plt.title(\"Posterior distribution of mus\")\n",
    "for i in np.arange(sample_length):\n",
    "    plt.hist(mu_traces[i], bins=100, histtype=\"stepfilled\", normed=True)\n",
    "    plt.legend()\n",
    "    plt.xlim((0,200))\n",
    "    print (mu_traces[i].mean()), mus[i]"
   ]
  },
  {
   "cell_type": "code",
   "execution_count": 40,
   "metadata": {
    "collapsed": false
   },
   "outputs": [
    {
     "name": "stderr",
     "output_type": "stream",
     "text": [
      "/home/yannick/bin/anaconda3/envs/py35/lib/python3.5/site-packages/matplotlib/axes/_axes.py:519: UserWarning: No labelled objects found. Use label='...' kwarg on individual plots.\n",
      "  warnings.warn(\"No labelled objects found. \"\n"
     ]
    },
    {
     "name": "stdout",
     "output_type": "stream",
     "text": [
      "3.56702857675 2.59266134413 12.9338520227\n",
      "15.8290507263 13.1870886556 12.6758831764\n",
      "56.3240414563 53.7453287263 31.1143215862\n",
      "29.1368124531 24.9789614198 19.9253055832\n",
      "24.44463009 20.8196235427 24.6822713137\n",
      "6.53817668983 5.17548201691 27.4338316098\n",
      "8.73021900359 7.07254960783 5.2053449931\n"
     ]
    },
    {
     "data": {
      "image/png": "[encoded data removed]",
      "text/plain": [
       "<matplotlib.figure.Figure at 0x7f27cf7e3668>"
      ]
     },
     "metadata": {},
     "output_type": "display_data"
    }
   ],
   "source": [
    "figsize(16, 8)\n",
    "plt.title(\"Posterior distribution of sigmas\")\n",
    "for i in np.arange(nb_stateux):\n",
    "    plt.hist(sigma_traces[i], bins=50, histtype=\"stepfilled\", normed=True)\n",
    "    plt.legend()\n",
    "    plt.xlim((0,100))\n",
    "    print (sigma_traces[i].mean(), np.median(sigma_traces[i]), sigma[i])"
   ]
  }
 ],
 "metadata": {
  "kernelspec": {
   "display_name": "Python 3",
   "language": "python",
   "name": "python3"
  },
  "language_info": {
   "codemirror_mode": {
    "name": "ipython",
    "version": 3
   },
   "file_extension": ".py",
   "mimetype": "text/x-python",
   "name": "python",
   "nbconvert_exporter": "python",
   "pygments_lexer": "ipython3",
   "version": "3.5.1"
  }
 },
 "nbformat": 4,
 "nbformat_minor": 0
}
