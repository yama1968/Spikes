{
 "cells": [
  {
   "cell_type": "code",
   "execution_count": 1,
   "metadata": {
    "collapsed": false
   },
   "outputs": [
    {
     "name": "stderr",
     "output_type": "stream",
     "text": [
      "/home/yannick/bin/anaconda3/envs/py27/lib/python2.7/site-packages/pytz/__init__.py:29: UserWarning: Module argparse was already imported from /home/yannick/bin/anaconda3/envs/py27/lib/python2.7/argparse.pyc, but /home/yannick/bin/anaconda3/envs/py27/lib/python2.7/site-packages is being added to sys.path\n",
      "  from pkg_resources import resource_stream\n"
     ]
    }
   ],
   "source": [
    "%matplotlib inline\n",
    "import numpy as np\n",
    "from IPython.core.pylabtools import figsize\n",
    "import matplotlib.pyplot as plt\n",
    "import scipy.stats as stats\n",
    "import pymc as pm"
   ]
  },
  {
   "cell_type": "code",
   "execution_count": 2,
   "metadata": {
    "collapsed": false
   },
   "outputs": [
    {
     "name": "stdout",
     "output_type": "stream",
     "text": [
      "7 10\n",
      "[ 162.24009551   91.4285223   174.56973426  125.55428022  161.60040067\n",
      "  169.23709891  185.56555089   91.85135561   84.47767457  179.65897542]\n",
      "[ 21.38303043  12.60143185   2.56099709   7.34594796  16.34635367\n",
      "  17.86243362  37.2129251 ]\n",
      "[[ 146.13331399   80.58656486  170.3391262   123.90902538  145.19846667\n",
      "   183.80629678  181.50820343  110.19856587   92.97082215  165.58953037]\n",
      " [ 171.83865153   83.07315743  184.53251626  115.73028073  155.05701749\n",
      "   173.62612795  199.87800487   90.84715652   85.9415822   163.01453984]\n",
      " [ 162.82147452   90.53960006  173.58513218  132.94872322  159.58020773\n",
      "   167.31443897  187.94374504   93.28853976   86.15994293  180.50565526]\n",
      " [ 173.7414296    86.48108239  157.12697932  108.39286669  166.1823561\n",
      "   166.97432026  173.24195171   94.48004491   94.95372799  169.59678454]\n",
      " [ 142.6128171    98.85110072  150.88126495  135.27678947  174.83310397\n",
      "   188.03469474  177.01647968   75.01248874   98.92327053  210.66679394]\n",
      " [ 149.42804966   60.13413227  171.56173148  133.60471331  134.48677146\n",
      "   154.41815821  200.54543716   70.27764169   76.65873554  173.50974951]\n",
      " [ 132.31964668   76.66837283  235.86458476  183.02927707  129.32843653\n",
      "   199.68190196  158.24908987  168.2093307   127.13361665  164.92802009]]\n",
      "[154.12791186942923, 82.333430081073445, 177.69876216416239, 133.27023941152342, 152.09519428139672, 176.26513412321876, 182.62613025206045, 100.33053831513904, 94.677385423213238, 175.40158193561064]\n",
      "(7, 10)\n"
     ]
    }
   ],
   "source": [
    "def gen_sample(n, mus, sigmas):\n",
    "    return np.array([mus + stats.norm.rvs(size = n, loc = 0, scale = sigmas[i]) for i in np.arange(len(sigmas)) ])\n",
    "\n",
    "def gen_mus_sigma(nb_stateux, nb_samples):\n",
    "    return (stats.uniform.rvs(size=nb_samples, loc=0, scale=200), stats.uniform.rvs(size=nb_stateux, loc=0, scale=40))\n",
    "\n",
    "nb_stateux = 7\n",
    "sample_length = 10\n",
    "\n",
    "(mus, sigma) = gen_mus_sigma(nb_stateux, sample_length)\n",
    "sample = gen_sample(sample_length, mus, sigma)\n",
    "print len(sample), len(sample[0])\n",
    "print mus\n",
    "print sigma\n",
    "print sample\n",
    "print [np.mean([sample[i, j] for i in np.arange(len(sigma))]) for j in np.arange(len(mus))]\n",
    "\n",
    "print sample.shape"
   ]
  },
  {
   "cell_type": "code",
   "execution_count": 3,
   "metadata": {
    "collapsed": false
   },
   "outputs": [
    {
     "name": "stdout",
     "output_type": "stream",
     "text": [
      " [-----------------100%-----------------] 5000 of 5000 complete in 6.3 sec"
     ]
    }
   ],
   "source": [
    "import numpy as np\n",
    "import pymc as pm\n",
    "\n",
    "(nb_stateux, sample_length) = sample.shape\n",
    "\n",
    "v_mus = np.array([pm.Normal(\"mu%d\" % i, mu=0, tau=0.001) for i in np.arange(sample_length)])\n",
    "v_sigmas = [pm.Uniform(\"sigma%d\" % k, lower=0, upper=100) for k in np.arange(nb_stateux)]\n",
    "v_taus = [pm.Lambda(\"tau%d\" % k, lambda sigma=v_sigmas[k]: 1/sigma**2) for k in np.arange(nb_stateux)]\n",
    "\n",
    "x = np.array([[pm.Normal(\"x%d_%d\" % (k,i), mu=v_mus[i], tau=v_taus[k], \n",
    "                         observed=True, value=np.array(sample[k,i])) for i in np.arange(sample_length)]\n",
    "              for k in np.arange(nb_stateux)])\n",
    "\n",
    "mcmc = pm.MCMC([v_mus, v_sigmas, v_taus, x])\n",
    "mcmc.sample(5000,1000)\n",
    "\n",
    "mu_traces = [np.array(mcmc.trace('mu%d' % k)[:]) for k in np.arange(sample_length)]\n",
    "sigma_traces = [np.array(mcmc.trace(\"sigma%d\" % i)[:]) for i in np.arange(nb_stateux)]"
   ]
  },
  {
   "cell_type": "code",
   "execution_count": 4,
   "metadata": {
    "collapsed": false
   },
   "outputs": [
    {
     "name": "stdout",
     "output_type": "stream",
     "text": [
      "File u'7stateux_model.py' exists. Overwrite? n\n",
      "Aborting.\n"
     ]
    }
   ],
   "source": [
    "%history -f 7stateux_model.py -l 1"
   ]
  },
  {
   "cell_type": "code",
   "execution_count": 5,
   "metadata": {
    "collapsed": false
   },
   "outputs": [
    {
     "name": "stdout",
     "output_type": "stream",
     "text": [
      "156.535610484\n",
      "81.658085458\n",
      "167.30250582\n",
      "121.793118092\n",
      "151.536698491\n",
      "168.474361567\n",
      "181.920128304\n",
      "92.7839746213\n",
      "87.1917856499\n",
      "169.122307508\n"
     ]
    },
    {
     "name": "stderr",
     "output_type": "stream",
     "text": [
      "/home/yannick/bin/anaconda3/envs/py27/lib/python2.7/site-packages/matplotlib/axes/_axes.py:475: UserWarning: No labelled objects found. Use label='...' kwarg on individual plots.\n",
      "  warnings.warn(\"No labelled objects found. \"\n"
     ]
    },
    {
     "data": {
      "image/png": "[encoded data removed]",
      "text/plain": [
       "<matplotlib.figure.Figure at 0x7fbb2d45de10>"
      ]
     },
     "metadata": {},
     "output_type": "display_data"
    }
   ],
   "source": [
    "figsize(12.5, 4)\n",
    "plt.title(\"Posterior distribution of mus\")\n",
    "for i in np.arange(sample_length):\n",
    "    plt.hist(mu_traces[i], bins=50, histtype=\"stepfilled\", normed=True)\n",
    "    plt.legend()\n",
    "    plt.xlim((0,200))\n",
    "    print (mu_traces[i].mean())"
   ]
  },
  {
   "cell_type": "code",
   "execution_count": 6,
   "metadata": {
    "collapsed": false
   },
   "outputs": [
    {
     "name": "stdout",
     "output_type": "stream",
     "text": [
      "11.4133176319\n",
      "12.5537485715\n",
      "10.0798645669\n",
      "12.9131390724\n",
      "23.9494376975\n",
      "17.6672789091\n",
      "49.1550577114\n"
     ]
    },
    {
     "data": {
      "image/png": "[encoded data removed]",
      "text/plain": [
       "<matplotlib.figure.Figure at 0x7fbb2d051a50>"
      ]
     },
     "metadata": {},
     "output_type": "display_data"
    }
   ],
   "source": [
    "figsize(12.5, 4)\n",
    "plt.title(\"Posterior distribution of sigmas\")\n",
    "for i in np.arange(nb_stateux):\n",
    "    plt.hist(sigma_traces[i], bins=50, histtype=\"stepfilled\", normed=True)\n",
    "    plt.legend()\n",
    "    plt.xlim((0,80))\n",
    "    print (sigma_traces[i].mean())"
   ]
  },
  {
   "cell_type": "code",
   "execution_count": 10,
   "metadata": {
    "collapsed": false
   },
   "outputs": [
    {
     "name": "stdout",
     "output_type": "stream",
     "text": [
      "<DirectView [0, 1, 2, 3,...]>\n",
      "importing pymc on engine(s)\n",
      "importing numpy on engine(s)\n"
     ]
    }
   ],
   "source": [
    "# Now going parallel\n",
    "\n",
    "from IPython.parallel import Client\n",
    "client = Client()\n",
    "\n",
    "direct         = client[:]\n",
    "direct.block   = True\n",
    "print (direct)\n",
    "\n",
    "def checkhostname():\n",
    "    import socket\n",
    "    return socket.gethostname()\n",
    "\n",
    "direct.apply(checkhostname)\n",
    "\n",
    "import numpy as np\n",
    "with direct.sync_imports():\n",
    "    import pymc as pm\n",
    "    import numpy as np"
   ]
  },
  {
   "cell_type": "code",
   "execution_count": 11,
   "metadata": {
    "collapsed": false
   },
   "outputs": [
    {
     "name": "stdout",
     "output_type": "stream",
     "text": [
      "import numpy as np\n",
      "import pymc as pm\n",
      "\n",
      "(nb_stateux, sample_length) = sample.shape\n",
      "\n",
      "v_mus = np.array([pm.Normal(\"mu%d\" % i, mu=0, tau=0.001) for i in np.arange(sample_length)])\n",
      "v_sigmas = [pm.Uniform(\"sigma%d\" % k, lower=0, upper=100) for k in np.arange(nb_stateux)]\n",
      "v_taus = [pm.Lambda(\"tau%d\" % k, lambda sigma=v_sigmas[k]: 1/sigma**2) for k in np.arange(nb_stateux)]\n",
      "\n",
      "x = np.array([[pm.Normal(\"x%d_%d\" % (k,i), mu=v_mus[i], tau=v_taus[k], \n",
      "                         observed=True, value=np.array(sample[k,i])) for i in np.arange(sample_length)]\n",
      "              for k in np.arange(nb_stateux)])\n",
      "\n",
      "mcmc = pm.MCMC([v_mus, v_sigmas, v_taus, x])\n",
      "mcmc.sample(5000,1000)\n",
      "\n",
      "mu_traces = [np.array(mcmc.trace('mu%d' % k)[:]) for k in np.arange(sample_length)]\n",
      "sigma_traces = [np.array(mcmc.trace(\"sigma%d\" % i)[:]) for i in np.arange(nb_stateux)]\n",
      "\n"
     ]
    }
   ],
   "source": [
    "export_dict = {k: globals()[k] for k in ('sample', 'nb_stateux')}\n",
    "direct.push(export_dict, block=True)\n",
    "\n",
    "model_script = open('7stateux_model.py').read()\n",
    "print model_script"
   ]
  },
  {
   "cell_type": "code",
   "execution_count": 12,
   "metadata": {
    "collapsed": false
   },
   "outputs": [
    {
     "data": {
      "text/plain": [
       "<AsyncResult: finished>"
      ]
     },
     "execution_count": 12,
     "metadata": {},
     "output_type": "execute_result"
    }
   ],
   "source": [
    "direct.execute(model_script)"
   ]
  },
  {
   "cell_type": "code",
   "execution_count": 13,
   "metadata": {
    "collapsed": false
   },
   "outputs": [
    {
     "name": "stdout",
     "output_type": "stream",
     "text": [
      "[array([ 155.41201205,  152.6069508 ,  161.11038227, ...,  159.26619286,\n",
      "        159.26619286,  157.60941787]), array([ 83.80046615,  83.80046615,  83.80046615, ...,  80.60369909,\n",
      "        80.60369909,  80.60369909]), array([ 177.84569493,  177.84569493,  177.84569493, ...,  169.42129028,\n",
      "        169.42129028,  169.42129028]), array([ 109.60859323,  121.16692045,  121.16692045, ...,  125.22291796,\n",
      "        125.22291796,  125.22291796]), array([ 149.79899796,  153.57501211,  155.08748611, ...,  152.74140446,\n",
      "        150.89096591,  150.89096591]), array([ 168.77709344,  168.77709344,  168.77709344, ...,  166.74393043,\n",
      "        166.74393043,  166.74393043]), array([ 186.91379619,  186.91379619,  186.91379619, ...,  172.69359518,\n",
      "        172.69359518,  172.69359518]), array([ 78.79413239,  78.79413239,  78.79413239, ...,  89.84395648,\n",
      "        86.30614891,  87.10075857]), array([ 88.0760554 ,  80.52093495,  80.52093495, ...,  90.16020078,\n",
      "        90.16020078,  98.54267902]), array([ 176.88301927,  175.98469514,  177.46683058, ...,  170.81216895,\n",
      "        170.81216895,  170.81216895])]\n",
      "10 32000\n"
     ]
    }
   ],
   "source": [
    "def get_trace(var_name):\n",
    "    all_traces = direct.pull(var_name)\n",
    "    a = len(all_traces)\n",
    "    b = len(all_traces[0])\n",
    "\n",
    "    y = [np.array([all_traces[i][j] for i in range(a)]).flatten() for j in range(b)]\n",
    "    \n",
    "    return y\n",
    "\n",
    "mu_traces = get_trace(\"mu_traces\")\n",
    "sigma_traces = get_trace(\"sigma_traces\")\n",
    "\n",
    "print mu_traces\n",
    "print len(mu_traces), len(mu_traces[0])"
   ]
  },
  {
   "cell_type": "code",
   "execution_count": 14,
   "metadata": {
    "collapsed": false
   },
   "outputs": [
    {
     "name": "stdout",
     "output_type": "stream",
     "text": [
      "155.017071333 162.240095506\n",
      "80.9807370314 91.4285222968\n",
      "165.635934455 174.569734258\n",
      "120.398308689 125.554280218\n",
      "149.968066358 161.600400673\n",
      "164.946711284 169.237098908\n",
      "180.082113663 185.565550891\n",
      "91.0050720839 91.8513556087\n",
      "86.3689339788 84.4776745725\n",
      "167.30709848 179.658975419\n"
     ]
    },
    {
     "data": {
      "image/png": "[encoded data removed]",
      "text/plain": [
       "<matplotlib.figure.Figure at 0x7fbb2d05b210>"
      ]
     },
     "metadata": {},
     "output_type": "display_data"
    }
   ],
   "source": [
    "figsize(12.5, 4)\n",
    "plt.title(\"Posterior distribution of mus\")\n",
    "for i in np.arange(sample_length):\n",
    "    plt.hist(mu_traces[i], bins=100, histtype=\"stepfilled\", normed=True)\n",
    "    plt.legend()\n",
    "    plt.xlim((0,200))\n",
    "    print (mu_traces[i].mean()), mus[i]"
   ]
  },
  {
   "cell_type": "code",
   "execution_count": 15,
   "metadata": {
    "collapsed": false
   },
   "outputs": [
    {
     "name": "stdout",
     "output_type": "stream",
     "text": [
      "(13.788150873611528, 11.491564634573624, 21.383030426817392)\n",
      "(14.483658007986124, 12.21779243116136, 12.60143185336387)\n",
      "(11.890141971896456, 9.6169300048991158, 2.5609970866651954)\n",
      "(14.222295932155431, 12.093184624738887, 7.3459479567563202)\n",
      "(25.555678308136883, 23.102467914979655, 16.346353674206782)\n",
      "(19.190820183938055, 17.066865673928671, 17.862433622536713)\n",
      "(50.372252808870748, 47.821921498359956, 37.21292509976842)\n"
     ]
    },
    {
     "data": {
      "image/png": "[encoded data removed]",
      "text/plain": [
       "<matplotlib.figure.Figure at 0x7fbb2cec4ad0>"
      ]
     },
     "metadata": {},
     "output_type": "display_data"
    }
   ],
   "source": [
    "figsize(16, 8)\n",
    "plt.title(\"Posterior distribution of sigmas\")\n",
    "for i in np.arange(nb_stateux):\n",
    "    plt.hist(sigma_traces[i], bins=50, histtype=\"stepfilled\", normed=True)\n",
    "    plt.legend()\n",
    "    plt.xlim((0,100))\n",
    "    print (sigma_traces[i].mean(), np.median(sigma_traces[i]), sigma[i])"
   ]
  }
 ],
 "metadata": {
  "kernelspec": {
   "display_name": "Python 2",
   "language": "python",
   "name": "python2"
  },
  "language_info": {
   "codemirror_mode": {
    "name": "ipython",
    "version": 2
   },
   "file_extension": ".py",
   "mimetype": "text/x-python",
   "name": "python",
   "nbconvert_exporter": "python",
   "pygments_lexer": "ipython2",
   "version": "2.7.10"
  }
 },
 "nbformat": 4,
 "nbformat_minor": 0
}
