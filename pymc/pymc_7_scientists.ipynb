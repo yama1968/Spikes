{
 "cells": [
  {
   "cell_type": "code",
   "execution_count": 1,
   "metadata": {
    "collapsed": false
   },
   "outputs": [
    {
     "name": "stderr",
     "output_type": "stream",
     "text": [
      "/home/yannick/bin/anaconda3/lib/python3.5/site-packages/matplotlib/font_manager.py:273: UserWarning: Matplotlib is building the font cache using fc-list. This may take a moment.\n",
      "  warnings.warn('Matplotlib is building the font cache using fc-list. This may take a moment.')\n",
      "/home/yannick/bin/anaconda3/lib/python3.5/site-packages/matplotlib/font_manager.py:273: UserWarning: Matplotlib is building the font cache using fc-list. This may take a moment.\n",
      "  warnings.warn('Matplotlib is building the font cache using fc-list. This may take a moment.')\n"
     ]
    }
   ],
   "source": [
    "%matplotlib inline\n",
    "import numpy as np\n",
    "from IPython.core.pylabtools import figsize\n",
    "import matplotlib.pyplot as plt\n",
    "import scipy.stats as stats\n",
    "import pymc as pm"
   ]
  },
  {
   "cell_type": "code",
   "execution_count": 2,
   "metadata": {
    "collapsed": false
   },
   "outputs": [],
   "source": [
    "sample = [-27.020,3.570,8.191,9.898,9.603,9.945,10.056]\n",
    "sample = np.array([[i] for i in sample])"
   ]
  },
  {
   "cell_type": "code",
   "execution_count": 3,
   "metadata": {
    "collapsed": false
   },
   "outputs": [
    {
     "name": "stdout",
     "output_type": "stream",
     "text": [
      "7 1\n",
      " [-----------------100%-----------------] 20000 of 20000 complete in 7.6 sec"
     ]
    }
   ],
   "source": [
    "import numpy as np\n",
    "import pymc as pm\n",
    "\n",
    "(nb_stateux, sample_length) = sample.shape\n",
    "print (nb_stateux, sample_length)\n",
    "\n",
    "v_mus = np.array([pm.Normal(\"mu%d\" % i, mu=0, tau=0.001) for i in np.arange(sample_length)])\n",
    "v_sigmas = [pm.Uniform(\"sigma%d\" % k, lower=0, upper=40) for k in np.arange(nb_stateux)]\n",
    "v_taus = [pm.Lambda(\"tau%d\" % k, lambda sigma=v_sigmas[k]: 1/sigma**2) for k in np.arange(nb_stateux)]\n",
    "\n",
    "x = np.array([[pm.Normal(\"x%d_%d\" % (k,i), mu=v_mus[i], tau=v_taus[k], \n",
    "                         observed=True, value=np.array(sample[k,i])) for i in np.arange(sample_length)]\n",
    "              for k in np.arange(nb_stateux)])\n",
    "\n",
    "mcmc = pm.MCMC([v_mus, v_sigmas, v_taus, x])\n",
    "mcmc.sample(20000,4000)\n",
    "\n",
    "mu_traces = [np.array(mcmc.trace('mu%d' % k)[:]) for k in np.arange(sample_length)]\n",
    "sigma_traces = [np.array(mcmc.trace(\"sigma%d\" % i)[:]) for i in np.arange(nb_stateux)]"
   ]
  },
  {
   "cell_type": "code",
   "execution_count": 4,
   "metadata": {
    "collapsed": false
   },
   "outputs": [
    {
     "name": "stdout",
     "output_type": "stream",
     "text": [
      "File '7stateux_model.py' exists. Overwrite? y\n",
      "Overwriting file.\n"
     ]
    }
   ],
   "source": [
    "%history -f 7stateux_model.py -l 1"
   ]
  },
  {
   "cell_type": "code",
   "execution_count": 5,
   "metadata": {
    "collapsed": false
   },
   "outputs": [
    {
     "name": "stdout",
     "output_type": "stream",
     "text": [
      "8.98401971694\n"
     ]
    },
    {
     "name": "stderr",
     "output_type": "stream",
     "text": [
      "/home/yannick/bin/anaconda3/lib/python3.5/site-packages/matplotlib/axes/_axes.py:519: UserWarning: No labelled objects found. Use label='...' kwarg on individual plots.\n",
      "  warnings.warn(\"No labelled objects found. \"\n"
     ]
    },
    {
     "data": {
      "image/png": "[encoded data removed]",
      "text/plain": [
       "<matplotlib.figure.Figure at 0x7f921142c470>"
      ]
     },
     "metadata": {},
     "output_type": "display_data"
    }
   ],
   "source": [
    "figsize(12.5, 4)\n",
    "plt.title(\"Posterior distribution of mus\")\n",
    "for i in np.arange(sample_length):\n",
    "    plt.hist(mu_traces[i], bins=50, histtype=\"stepfilled\", normed=True)\n",
    "    plt.legend()\n",
    "    plt.xlim((0,200))\n",
    "    print (mu_traces[i].mean())"
   ]
  },
  {
   "cell_type": "code",
   "execution_count": 6,
   "metadata": {
    "collapsed": false
   },
   "outputs": [
    {
     "name": "stdout",
     "output_type": "stream",
     "text": [
      "28.997784173\n",
      "16.2293587073\n",
      "11.6537183695\n",
      "9.9897076372\n",
      "9.90110784089\n",
      "9.52225123464\n",
      "10.1042586269\n"
     ]
    },
    {
     "name": "stderr",
     "output_type": "stream",
     "text": [
      "/home/yannick/bin/anaconda3/lib/python3.5/site-packages/matplotlib/axes/_axes.py:519: UserWarning: No labelled objects found. Use label='...' kwarg on individual plots.\n",
      "  warnings.warn(\"No labelled objects found. \"\n"
     ]
    },
    {
     "data": {
      "image/png": "[encoded data removed]",
      "text/plain": [
       "<matplotlib.figure.Figure at 0x7f9210e51c88>"
      ]
     },
     "metadata": {},
     "output_type": "display_data"
    }
   ],
   "source": [
    "figsize(12.5, 4)\n",
    "plt.title(\"Posterior distribution of sigmas\")\n",
    "for i in np.arange(nb_stateux):\n",
    "    plt.hist(sigma_traces[i], bins=50, histtype=\"stepfilled\", normed=True)\n",
    "    plt.legend()\n",
    "    plt.xlim((0,80))\n",
    "    print (sigma_traces[i].mean())"
   ]
  },
  {
   "cell_type": "code",
   "execution_count": 8,
   "metadata": {
    "collapsed": false
   },
   "outputs": [
    {
     "name": "stdout",
     "output_type": "stream",
     "text": [
      "<DirectView [0, 1, 2, 3]>\n",
      "importing pymc on engine(s)\n",
      "importing numpy on engine(s)\n"
     ]
    }
   ],
   "source": [
    "# Now going parallel\n",
    "\n",
    "from IPython.parallel import Client\n",
    "client = Client()\n",
    "\n",
    "direct         = client[:]\n",
    "direct.block   = True\n",
    "print (direct)\n",
    "\n",
    "def checkhostname():\n",
    "    import socket\n",
    "    return socket.gethostname()\n",
    "\n",
    "direct.apply(checkhostname)\n",
    "\n",
    "import numpy as np\n",
    "with direct.sync_imports():\n",
    "    import pymc as pm\n",
    "    import numpy as np"
   ]
  },
  {
   "cell_type": "code",
   "execution_count": 9,
   "metadata": {
    "collapsed": false
   },
   "outputs": [
    {
     "name": "stdout",
     "output_type": "stream",
     "text": [
      "import numpy as np\n",
      "import pymc as pm\n",
      "\n",
      "(nb_stateux, sample_length) = sample.shape\n",
      "print (nb_stateux, sample_length)\n",
      "\n",
      "v_mus = np.array([pm.Normal(\"mu%d\" % i, mu=0, tau=0.001) for i in np.arange(sample_length)])\n",
      "v_sigmas = [pm.Uniform(\"sigma%d\" % k, lower=0, upper=40) for k in np.arange(nb_stateux)]\n",
      "v_taus = [pm.Lambda(\"tau%d\" % k, lambda sigma=v_sigmas[k]: 1/sigma**2) for k in np.arange(nb_stateux)]\n",
      "\n",
      "x = np.array([[pm.Normal(\"x%d_%d\" % (k,i), mu=v_mus[i], tau=v_taus[k], \n",
      "                         observed=True, value=np.array(sample[k,i])) for i in np.arange(sample_length)]\n",
      "              for k in np.arange(nb_stateux)])\n",
      "\n",
      "mcmc = pm.MCMC([v_mus, v_sigmas, v_taus, x])\n",
      "mcmc.sample(20000,4000)\n",
      "\n",
      "mu_traces = [np.array(mcmc.trace('mu%d' % k)[:]) for k in np.arange(sample_length)]\n",
      "sigma_traces = [np.array(mcmc.trace(\"sigma%d\" % i)[:]) for i in np.arange(nb_stateux)]\n",
      "\n"
     ]
    }
   ],
   "source": [
    "export_dict = {k: globals()[k] for k in ('sample', 'nb_stateux')}\n",
    "direct.push(export_dict, block=True)\n",
    "\n",
    "model_script = open('7stateux_model.py').read()\n",
    "print (model_script)"
   ]
  },
  {
   "cell_type": "code",
   "execution_count": 10,
   "metadata": {
    "collapsed": false
   },
   "outputs": [
    {
     "name": "stdout",
     "output_type": "stream",
     "text": [
      "CPU times: user 100 ms, sys: 0 ns, total: 100 ms\n",
      "Wall time: 11.3 s\n"
     ]
    },
    {
     "data": {
      "text/plain": [
       "<AsyncResult: finished>"
      ]
     },
     "execution_count": 10,
     "metadata": {},
     "output_type": "execute_result"
    }
   ],
   "source": [
    "%time direct.execute(model_script)"
   ]
  },
  {
   "cell_type": "code",
   "execution_count": 11,
   "metadata": {
    "collapsed": false
   },
   "outputs": [
    {
     "name": "stdout",
     "output_type": "stream",
     "text": [
      "[array([ 9.7514497 ,  9.7514497 ,  9.7514497 , ...,  9.38525907,\n",
      "        6.6999932 ,  9.79502938])]\n",
      "1 64000\n"
     ]
    }
   ],
   "source": [
    "def get_trace(var_name):\n",
    "    all_traces = direct.pull(var_name)\n",
    "    a = len(all_traces)\n",
    "    b = len(all_traces[0])\n",
    "\n",
    "    y = [np.array([all_traces[i][j] for i in range(a)]).flatten() for j in range(b)]\n",
    "    \n",
    "    return y\n",
    "\n",
    "mu_traces = get_trace(\"mu_traces\")\n",
    "sigma_traces = get_trace(\"sigma_traces\")\n",
    "\n",
    "print (mu_traces)\n",
    "print (len(mu_traces), len(mu_traces[0]))"
   ]
  },
  {
   "cell_type": "code",
   "execution_count": 12,
   "metadata": {
    "collapsed": false
   },
   "outputs": [
    {
     "name": "stdout",
     "output_type": "stream",
     "text": [
      "9.04304399802\n"
     ]
    },
    {
     "name": "stderr",
     "output_type": "stream",
     "text": [
      "/home/yannick/bin/anaconda3/lib/python3.5/site-packages/matplotlib/axes/_axes.py:519: UserWarning: No labelled objects found. Use label='...' kwarg on individual plots.\n",
      "  warnings.warn(\"No labelled objects found. \"\n"
     ]
    },
    {
     "data": {
      "image/png": "[encoded data removed]",
      "text/plain": [
       "<matplotlib.figure.Figure at 0x7f920cd499b0>"
      ]
     },
     "metadata": {},
     "output_type": "display_data"
    }
   ],
   "source": [
    "figsize(12.5, 4)\n",
    "plt.title(\"Posterior distribution of mus\")\n",
    "for i in np.arange(sample_length):\n",
    "    plt.hist(mu_traces[i], bins=100, histtype=\"stepfilled\", normed=True)\n",
    "    plt.legend()\n",
    "    plt.xlim((0,200))\n",
    "    print (mu_traces[i].mean())"
   ]
  },
  {
   "cell_type": "code",
   "execution_count": 13,
   "metadata": {
    "collapsed": false
   },
   "outputs": [
    {
     "name": "stderr",
     "output_type": "stream",
     "text": [
      "/home/yannick/bin/anaconda3/lib/python3.5/site-packages/matplotlib/axes/_axes.py:519: UserWarning: No labelled objects found. Use label='...' kwarg on individual plots.\n",
      "  warnings.warn(\"No labelled objects found. \"\n"
     ]
    },
    {
     "name": "stdout",
     "output_type": "stream",
     "text": [
      "29.099595274 29.6960181089\n",
      "16.3674615681 13.9724283876\n",
      "11.6255435978 7.81582710266\n",
      "9.89869263019 5.47028684939\n",
      "9.82347560046 5.61228197838\n",
      "9.94949727712 5.63112741256\n",
      "10.2901951201 6.16259101793\n"
     ]
    },
    {
     "data": {
      "image/png": "[encoded data removed]",
      "text/plain": [
       "<matplotlib.figure.Figure at 0x7f920cd30400>"
      ]
     },
     "metadata": {},
     "output_type": "display_data"
    }
   ],
   "source": [
    "figsize(16, 8)\n",
    "plt.title(\"Posterior distribution of sigmas\")\n",
    "for i in np.arange(nb_stateux):\n",
    "    plt.hist(sigma_traces[i], bins=50, histtype=\"stepfilled\", normed=True)\n",
    "    plt.legend()\n",
    "    plt.xlim((0,100))\n",
    "    print (sigma_traces[i].mean(), np.median(sigma_traces[i]))"
   ]
  }
 ],
 "metadata": {
  "kernelspec": {
   "display_name": "Python 3",
   "language": "python",
   "name": "python3"
  },
  "language_info": {
   "codemirror_mode": {
    "name": "ipython",
    "version": 3
   },
   "file_extension": ".py",
   "mimetype": "text/x-python",
   "name": "python",
   "nbconvert_exporter": "python",
   "pygments_lexer": "ipython3",
   "version": "3.5.1"
  }
 },
 "nbformat": 4,
 "nbformat_minor": 0
}
