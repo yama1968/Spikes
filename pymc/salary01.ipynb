{
 "cells": [
  {
   "cell_type": "code",
   "execution_count": 1,
   "metadata": {
    "collapsed": false
   },
   "outputs": [],
   "source": [
    "%matplotlib inline\n",
    "import numpy as np\n",
    "from IPython.core.pylabtools import figsize\n",
    "import matplotlib.pyplot as plt\n",
    "import scipy.stats as stats\n",
    "import pymc as pm\n"
   ]
  },
  {
   "cell_type": "markdown",
   "metadata": {},
   "source": [
    "D'abord avec un seul salaire en fixe"
   ]
  },
  {
   "cell_type": "code",
   "execution_count": 74,
   "metadata": {
    "collapsed": false
   },
   "outputs": [
    {
     "name": "stdout",
     "output_type": "stream",
     "text": [
      "[21 29 27 24 20 19 23 22 22 12 20 23 25 11 18 18 14 15 15 22 14 17 20 27]\n",
      "[ 1902.78520466  1892.21753753  1896.97676198  1906.48332575  1885.55296301\n",
      "  1886.54734412  1893.97115165  1896.92753714  1909.44920136  1911.59882986\n",
      "  1907.58514377  1909.79798249  1884.99625492  1905.93182939  1894.64232463\n",
      "  1915.38787202  1916.09432704  1893.88295789  1898.01100507  1895.36520309\n",
      "  1901.50381578  1912.38504063  1904.01988166  1903.63721435]\n",
      "1901.07294624\n"
     ]
    }
   ],
   "source": [
    "sample_length = 24\n",
    "days = (stats.norm.rvs(size=sample_length)*4 + 20).astype(int)\n",
    "print days\n",
    "true_sal_avg = 1900\n",
    "amounts = (stats.norm.rvs(size=sample_length)*10 + true_sal_avg)\n",
    "print amounts\n",
    "print amounts.mean()"
   ]
  },
  {
   "cell_type": "code",
   "execution_count": 84,
   "metadata": {
    "collapsed": false
   },
   "outputs": [
    {
     "name": "stdout",
     "output_type": "stream",
     "text": [
      " [-----------------100%-----------------] 10000 of 10000 complete in 0.9 sec"
     ]
    }
   ],
   "source": [
    "sal_avg = pm.Normal(\"sal_avg\", mu = 2500., tau = 1e-6)\n",
    "sal_sigma = pm.Uniform(\"sal_sigma\", 0, 100)\n",
    "salary = pm.Normal(\"salary\", mu = sal_avg, tau = 1/sal_sigma**2, value = amounts, observed = True, size = sample_length)\n",
    "\n",
    "mcmc = pm.MCMC([sal_avg, sal_sigma, salary])\n",
    "mcmc.sample(10000,1000)"
   ]
  },
  {
   "cell_type": "code",
   "execution_count": 85,
   "metadata": {
    "collapsed": false
   },
   "outputs": [
    {
     "name": "stdout",
     "output_type": "stream",
     "text": [
      "1900.98270191\n"
     ]
    },
    {
     "data": {
      "image/png": "[encoded data removed]",
      "text/plain": [
       "<matplotlib.figure.Figure at 0x174e6860>"
      ]
     },
     "metadata": {},
     "output_type": "display_data"
    }
   ],
   "source": [
    "figsize(12.5, 4)\n",
    "plt.title(\"Posterior distribution of sal_avg\")\n",
    "plt.hist(mcmc.trace(\"sal_avg\")[:], bins=20, histtype=\"stepfilled\", normed=True)\n",
    "plt.legend()\n",
    "plt.xlim((1800, 2000))\n",
    "print (mcmc.trace(\"sal_avg\")[:].mean())"
   ]
  },
  {
   "cell_type": "code",
   "execution_count": 98,
   "metadata": {
    "collapsed": false
   },
   "outputs": [
    {
     "name": "stdout",
     "output_type": "stream",
     "text": [
      "9.22810481658\n"
     ]
    },
    {
     "data": {
      "image/png": "[encoded data removed]",
      "text/plain": [
       "<matplotlib.figure.Figure at 0x172561d0>"
      ]
     },
     "metadata": {},
     "output_type": "display_data"
    }
   ],
   "source": [
    "\n",
    "plt.title(\"Posterior distribution of sal_sigma\")\n",
    "plt.hist(mcmc.trace(\"sal_sigma\")[:], bins=20, histtype=\"stepfilled\", normed=True)\n",
    "plt.legend()\n",
    "print (mcmc.trace(\"sal_sigma\")[:].mean())"
   ]
  },
  {
   "cell_type": "code",
   "execution_count": null,
   "metadata": {
    "collapsed": false
   },
   "outputs": [],
   "source": []
  },
  {
   "cell_type": "markdown",
   "metadata": {},
   "source": [
    "On ajoute un variable, 1 fois tous les douze mois"
   ]
  },
  {
   "cell_type": "code",
   "execution_count": 180,
   "metadata": {
    "collapsed": false
   },
   "outputs": [
    {
     "name": "stdout",
     "output_type": "stream",
     "text": [
      "[ 1902.78520466  1892.21753753  1896.97676198  3906.48332575  1885.55296301\n",
      "  1886.54734412  1893.97115165  1896.92753714  1909.44920136  1911.59882986\n",
      "  1907.58514377  1909.79798249  1884.99625492  1905.93182939  1894.64232463\n",
      "  3815.38787202  1916.09432704  1893.88295789  1898.01100507  1895.36520309\n",
      "  1901.50381578  1912.38504063  1904.01988166  1903.63721435]\n"
     ]
    }
   ],
   "source": [
    "sample_with_bonus = amounts.copy()\n",
    "sample_with_bonus[3] += 2000\n",
    "sample_with_bonus[15] += 1900\n",
    "print sample_with_bonus"
   ]
  },
  {
   "cell_type": "code",
   "execution_count": 181,
   "metadata": {
    "collapsed": false
   },
   "outputs": [
    {
     "name": "stdout",
     "output_type": "stream",
     "text": [
      "0 10\n",
      "bonus object bonus_month [0.0, 0.0, 0.0, 0.0, 0.0, 0.0, 0.0, 0.0, 0.0, 0.0, 0.68696219697133132, 0.0, 0.0, 0.0, 0.0, 0.0, 0.0, 0.0, 0.0, 0.0, 0.0, 0.0, 0.68696219697133132, 0.0]\n",
      "[ 2046.70875869  2040.25316932  2040.74152868  2043.51699369  2046.74661732\n",
      "  2040.90441973  2029.76712402  2044.86087421  2027.30887079  2037.34477832\n",
      "  3440.48700128  2027.66558364  2042.90593127  2039.71061443  2043.53573151\n",
      "  2046.69252334  2037.88987278  2033.84222182  2042.22263974  2038.03098313\n",
      "  2037.08320147  2030.18998203  3440.8764362   2039.57870453]\n",
      " [-----------------100%-----------------] 10000 of 10000 complete in 3.8 sec"
     ]
    }
   ],
   "source": [
    "bonus_month = pm.DiscreteUniform(\"bonus_month\", lower = 0, upper = 11)\n",
    "print bonus_month.random(), bonus_month.random()\n",
    "bonus_percent = pm.Uniform(\"bonus_percent\", lower = 0.3, upper = 2.)\n",
    "sal_avg = pm.Normal(\"sal_avg\", mu = 2500., tau = 1e-6)\n",
    "sal_sigma = pm.Uniform(\"sal_sigma\", 0, 20)\n",
    "\n",
    "@pm.deterministic\n",
    "def bonus (bonus_percent = bonus_percent, sample_length = sample_length, bonus_month = bonus_month):\n",
    "    return [((month % 12) == bonus_month) * bonus_percent for month in np.arange(sample_length)]\n",
    "\n",
    "print bonus, bonus.dtype, bonus_month, bonus.value\n",
    "\n",
    "total_salary = pm.Normal(\"total_salary\", mu = sal_avg * (np.array([1.] * sample_length) + bonus), tau = 1/sal_sigma**2,\n",
    "                         value = sample_with_bonus, observed = True)\n",
    "\n",
    "print total_salary.random()\n",
    "\n",
    "mcmc = pm.MCMC([bonus_month, bonus_percent, sal_avg, sal_sigma, total_salary])\n",
    "mcmc.sample(10000,1000)"
   ]
  },
  {
   "cell_type": "code",
   "execution_count": 182,
   "metadata": {
    "collapsed": false
   },
   "outputs": [
    {
     "name": "stdout",
     "output_type": "stream",
     "text": [
      "1901.06153772\n"
     ]
    },
    {
     "data": {
      "image/png": "[encoded data removed]",
      "text/plain": [
       "<matplotlib.figure.Figure at 0x16ab3c50>"
      ]
     },
     "metadata": {},
     "output_type": "display_data"
    }
   ],
   "source": [
    "figsize(12.5, 4)\n",
    "plt.title(\"Posterior distribution of sal_avg\")\n",
    "plt.hist(mcmc.trace(\"sal_avg\")[:], bins=20, histtype=\"stepfilled\", normed=True)\n",
    "plt.legend()\n",
    "plt.xlim((1800, 2400))\n",
    "print (mcmc.trace(\"sal_avg\")[:].mean())"
   ]
  },
  {
   "cell_type": "code",
   "execution_count": 183,
   "metadata": {
    "collapsed": false
   },
   "outputs": [
    {
     "name": "stdout",
     "output_type": "stream",
     "text": [
      "1.03079680418\n"
     ]
    },
    {
     "data": {
      "image/png": "[encoded data removed]",
      "text/plain": [
       "<matplotlib.figure.Figure at 0x181ea940>"
      ]
     },
     "metadata": {},
     "output_type": "display_data"
    }
   ],
   "source": [
    "figsize(12.5, 4)\n",
    "plt.title(\"Posterior distribution of bonus_percent\")\n",
    "plt.hist(mcmc.trace(\"bonus_percent\")[:], bins=20, histtype=\"stepfilled\", normed=True)\n",
    "plt.legend()\n",
    "print (mcmc.trace(\"bonus_percent\")[:].mean())"
   ]
  },
  {
   "cell_type": "code",
   "execution_count": 184,
   "metadata": {
    "collapsed": false
   },
   "outputs": [
    {
     "name": "stdout",
     "output_type": "stream",
     "text": [
      "3.0\n"
     ]
    },
    {
     "data": {
      "image/png": "[encoded data removed]",
      "text/plain": [
       "<matplotlib.figure.Figure at 0x172de6a0>"
      ]
     },
     "metadata": {},
     "output_type": "display_data"
    }
   ],
   "source": [
    "figsize(12.5, 4)\n",
    "plt.title(\"Posterior distribution of bonus_month\")\n",
    "plt.hist(mcmc.trace(\"bonus_month\")[:], bins=1, histtype=\"stepfilled\", normed=True)\n",
    "plt.legend()\n",
    "plt.xlim((0, 11))\n",
    "print (mcmc.trace(\"bonus_month\")[:].mean())"
   ]
  },
  {
   "cell_type": "code",
   "execution_count": 131,
   "metadata": {
    "collapsed": false
   },
   "outputs": [
    {
     "name": "stdout",
     "output_type": "stream",
     "text": [
      "[0.0, 0.0, 0.0, 10.0, 0.0, 0.0, 0.0, 0.0, 0.0, 0.0]\n"
     ]
    }
   ],
   "source": [
    "print [(3 == i) * 10. for i in np.arange(10)]"
   ]
  }
 ],
 "metadata": {
  "kernelspec": {
   "display_name": "Python 2",
   "language": "python",
   "name": "python2"
  },
  "language_info": {
   "codemirror_mode": {
    "name": "ipython",
    "version": 2
   },
   "file_extension": ".py",
   "mimetype": "text/x-python",
   "name": "python",
   "nbconvert_exporter": "python",
   "pygments_lexer": "ipython2",
   "version": "2.7.11"
  }
 },
 "nbformat": 4,
 "nbformat_minor": 0
}
