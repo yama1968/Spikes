{
 "cells": [
  {
   "cell_type": "code",
   "execution_count": 1,
   "metadata": {
    "collapsed": false
   },
   "outputs": [
    {
     "name": "stderr",
     "output_type": "stream",
     "text": [
      "/home/yannick/bin/anaconda3/envs/py27/lib/python2.7/site-packages/pytz/__init__.py:29: UserWarning: Module argparse was already imported from /home/yannick/bin/anaconda3/envs/py27/lib/python2.7/argparse.pyc, but /home/yannick/bin/anaconda3/envs/py27/lib/python2.7/site-packages is being added to sys.path\n",
      "  from pkg_resources import resource_stream\n"
     ]
    }
   ],
   "source": [
    "%matplotlib inline\n",
    "import numpy as np\n",
    "from IPython.core.pylabtools import figsize\n",
    "import matplotlib.pyplot as plt\n",
    "import scipy.stats as stats\n",
    "import pymc as pm"
   ]
  },
  {
   "cell_type": "code",
   "execution_count": 2,
   "metadata": {
    "collapsed": false
   },
   "outputs": [
    {
     "name": "stdout",
     "output_type": "stream",
     "text": [
      "7 10\n",
      "[  95.68033462   50.88430194   88.10187499  152.0157205   132.47151369\n",
      "   63.64446586  140.12842423  176.67793942  143.13487934  124.28226706]\n",
      "[ 26.48287874   1.27747026  26.98883247   1.27923535  19.17854338\n",
      "  12.01836621  14.11486976]\n",
      "[[ 108.78319315   22.49471911   38.50578177  180.89878542  117.40144457\n",
      "    72.21201061  170.6341918   169.78681779  134.58405416  122.15217952]\n",
      " [  95.31235178   51.57697795   88.90471418  151.23929246  132.84826694\n",
      "    63.21052661  137.60507033  175.66700944  143.26302471  123.63411152]\n",
      " [  66.51457285   68.46209474  114.68014715  129.02259695  115.43802826\n",
      "    58.69079733   94.44358624  211.07734179  110.45212394  151.22516178]\n",
      " [  94.58241076   49.93815287   88.5808327   150.90752768  132.78784435\n",
      "    64.71646888  142.76616349  175.83267114  143.75215192  125.93021494]\n",
      " [  89.58695829   30.79242723   60.21895026  173.04291288  141.77185985\n",
      "    70.10710728  124.01556932  154.7851288   129.54718727  112.60697502]\n",
      " [  93.54644208   54.81640054   96.97393339  125.35009185  144.67941806\n",
      "    74.39327455  118.66010639  181.06745117  162.88795087  126.63317306]\n",
      " [ 123.06027796   74.54241082   98.15024475  163.44338727  149.23759888\n",
      "    60.11594506  160.14994795  164.46720148  136.15607171  116.9458821 ]]\n",
      "[95.912315269210779, 50.374740463747457, 83.716372028615964, 153.41494207275221, 133.45206584156838, 66.206590047334444, 135.46780507403022, 176.09766022856797, 137.23465208375345, 125.58967113515169]\n"
     ]
    }
   ],
   "source": [
    "def gen_sample(n, mus, sigmas):\n",
    "    return np.array([mus + stats.norm.rvs(size = n, loc = 0, scale = sigmas[i]) for i in np.arange(len(sigmas)) ])\n",
    "\n",
    "def gen_mus_sigma(nb_stateux, nb_samples):\n",
    "    return (stats.uniform.rvs(size=nb_samples, loc=0, scale=200), stats.uniform.rvs(size=nb_stateux, loc=0, scale=40))\n",
    "\n",
    "nb_stateux = 7\n",
    "sample_length = 10\n",
    "\n",
    "(mus, sigma) = gen_mus_sigma(nb_stateux, sample_length)\n",
    "sample = gen_sample(sample_length, mus, sigma)\n",
    "print len(sample), len(sample[0])\n",
    "print mus\n",
    "print sigma\n",
    "print sample\n",
    "print [np.mean([sample[i, j] for i in np.arange(len(sigma))]) for j in np.arange(len(mus))]\n"
   ]
  },
  {
   "cell_type": "code",
   "execution_count": 3,
   "metadata": {
    "collapsed": false
   },
   "outputs": [
    {
     "name": "stdout",
     "output_type": "stream",
     "text": [
      "(7, 10)\n"
     ]
    }
   ],
   "source": [
    "#v_mus = np.array([pm.Uniform(\"mu%d\" % i, lower=0, upper=200) for i in np.arange(sample_length)])\n",
    "v_mus = np.array([pm.Normal(\"mu%d\" % i, mu=0, tau=0.001) for i in np.arange(sample_length)])\n",
    "v_sigmas = [pm.Uniform(\"sigma%d\" % k, lower=0, upper=40) for k in np.arange(nb_stateux)]\n",
    "v_taus = [pm.Lambda(\"tau%d\" % k, lambda sigma=v_sigmas[k]: 1/sigma**2) for k in np.arange(nb_stateux)]\n",
    "\n",
    "x = np.array([[pm.Normal(\"x%d_%d\" % (k,i), mu=v_mus[i], tau=v_taus[k], \n",
    "                         observed=True, value=np.array(sample[k,i])) for i in np.arange(sample_length)]\n",
    "              for k in np.arange(nb_stateux)])\n",
    "\n",
    "print x.shape"
   ]
  },
  {
   "cell_type": "code",
   "execution_count": 4,
   "metadata": {
    "collapsed": false
   },
   "outputs": [
    {
     "ename": "TypeError",
     "evalue": "sample() got an unexpected keyword argument 'njobs'",
     "output_type": "error",
     "traceback": [
      "\u001b[1;31m---------------------------------------------------------------------------\u001b[0m",
      "\u001b[1;31mTypeError\u001b[0m                                 Traceback (most recent call last)",
      "\u001b[1;32m<ipython-input-4-27f0f93059c3>\u001b[0m in \u001b[0;36m<module>\u001b[1;34m()\u001b[0m\n\u001b[0;32m      1\u001b[0m \u001b[0mmcmc\u001b[0m \u001b[1;33m=\u001b[0m \u001b[0mpm\u001b[0m\u001b[1;33m.\u001b[0m\u001b[0mMCMC\u001b[0m\u001b[1;33m(\u001b[0m\u001b[1;33m[\u001b[0m\u001b[0mv_mus\u001b[0m\u001b[1;33m,\u001b[0m \u001b[0mv_sigmas\u001b[0m\u001b[1;33m,\u001b[0m \u001b[0mv_taus\u001b[0m\u001b[1;33m,\u001b[0m \u001b[0mx\u001b[0m\u001b[1;33m]\u001b[0m\u001b[1;33m)\u001b[0m\u001b[1;33m\u001b[0m\u001b[0m\n\u001b[1;32m----> 2\u001b[1;33m \u001b[0mmcmc\u001b[0m\u001b[1;33m.\u001b[0m\u001b[0msample\u001b[0m\u001b[1;33m(\u001b[0m\u001b[1;36m20000\u001b[0m\u001b[1;33m,\u001b[0m\u001b[1;36m4000\u001b[0m\u001b[1;33m,\u001b[0m \u001b[0mnjobs\u001b[0m\u001b[1;33m=\u001b[0m\u001b[0mNone\u001b[0m\u001b[1;33m)\u001b[0m\u001b[1;33m\u001b[0m\u001b[0m\n\u001b[0m",
      "\u001b[1;31mTypeError\u001b[0m: sample() got an unexpected keyword argument 'njobs'"
     ]
    }
   ],
   "source": [
    "mcmc = pm.MCMC([v_mus, v_sigmas, v_taus, x])\n",
    "mcmc.sample(20000,4000)"
   ]
  },
  {
   "cell_type": "code",
   "execution_count": null,
   "metadata": {
    "collapsed": false
   },
   "outputs": [],
   "source": [
    "figsize(12.5, 4)\n",
    "plt.title(\"Posterior distribution of mus\")\n",
    "for i in np.arange(sample_length):\n",
    "    plt.hist(mcmc.trace(\"mu%d\" % i)[:], bins=50, histtype=\"stepfilled\", normed=True)\n",
    "    plt.legend()\n",
    "    plt.xlim((0,200))\n",
    "    print (mcmc.trace(\"mu%d\" % i)[:].mean())\n",
    "\n",
    "print [mcmc.trace(\"mu%d\" % j)[:].mean() for j in np.arange(sample_length)]"
   ]
  },
  {
   "cell_type": "code",
   "execution_count": null,
   "metadata": {
    "collapsed": false
   },
   "outputs": [],
   "source": [
    "x = np.array([[1,2], [1,3], [1,4]])\n",
    "print x\n",
    "y = np.array([10, 20, 30])\n",
    "print y\n",
    "print x+y.reshape(len(y), 1)\n",
    "print type(x), len(x), x.shape"
   ]
  },
  {
   "cell_type": "code",
   "execution_count": null,
   "metadata": {
    "collapsed": true
   },
   "outputs": [],
   "source": []
  },
  {
   "cell_type": "code",
   "execution_count": null,
   "metadata": {
    "collapsed": true
   },
   "outputs": [],
   "source": []
  }
 ],
 "metadata": {
  "kernelspec": {
   "display_name": "Python 3",
   "language": "python",
   "name": "python3"
  },
  "language_info": {
   "codemirror_mode": {
    "name": "ipython",
    "version": 3
   },
   "file_extension": ".py",
   "mimetype": "text/x-python",
   "name": "python",
   "nbconvert_exporter": "python",
   "pygments_lexer": "ipython3",
   "version": "3.4.3"
  }
 },
 "nbformat": 4,
 "nbformat_minor": 0
}
