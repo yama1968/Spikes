{
 "cells": [
  {
   "cell_type": "code",
   "execution_count": 7,
   "metadata": {
    "collapsed": false
   },
   "outputs": [],
   "source": [
    "%matplotlib inline\n",
    "import numpy as np\n",
    "from IPython.core.pylabtools import figsize\n",
    "import matplotlib.pyplot as plt\n",
    "import scipy.stats as stats\n",
    "import pymc as pm\n",
    "import matplotlib\n",
    "\n",
    "import matplotlib.pyplot as plt\n",
    "plt.style.use('ggplot')"
   ]
  },
  {
   "cell_type": "code",
   "execution_count": 8,
   "metadata": {
    "collapsed": false
   },
   "outputs": [
    {
     "name": "stdout",
     "output_type": "stream",
     "text": [
      "7 10\n",
      "[  18.80307253  179.5628036     2.37542792  138.42494617   27.04958283\n",
      "   11.16202959   34.13907059   96.95954748   34.31648309  105.5234277 ]\n",
      "[ 29.09066894  14.71345599   5.28672903  22.58652629  17.84811769\n",
      "   7.19322701   9.38702934]\n",
      "[[  1.29127824e+01   1.63219069e+02   1.80838451e+01   1.30847211e+02\n",
      "    4.16122063e+01  -4.57354427e+01  -1.57032416e+01   1.39858475e+02\n",
      "    5.95971275e+01   1.13480006e+02]\n",
      " [  3.22829407e+01   1.80020246e+02  -1.53870579e+01   1.28328753e+02\n",
      "    3.49259026e+01   1.78190621e+01   5.46445417e+01   9.05689692e+01\n",
      "    5.81235272e+01   9.84085391e+01]\n",
      " [  1.79369440e+01   1.84152698e+02  -1.28432811e+00   1.36267382e+02\n",
      "    2.66210682e+01   5.69570285e+00   2.88462547e+01   9.54672737e+01\n",
      "    3.96172816e+01   1.02889571e+02]\n",
      " [  7.03899125e-02   1.92488192e+02  -3.16558670e+01   9.61809825e+01\n",
      "    4.68245059e+01   1.99289284e+01  -2.39248821e+00   8.85895893e+01\n",
      "    6.06227174e+00   8.60853446e+01]\n",
      " [  1.43698524e+01   1.49722631e+02  -3.66637036e+00   1.49008936e+02\n",
      "    3.73346797e+01  -4.26592702e-01   5.94239678e+01   1.06368457e+02\n",
      "    3.44372166e+01   9.28527184e+01]\n",
      " [  1.80613306e+01   1.82926486e+02   1.58040068e+01   1.41507809e+02\n",
      "    2.81496575e+01   1.12417108e+01   3.22999556e+01   1.00342544e+02\n",
      "    2.74241574e+01   1.08518245e+02]\n",
      " [  2.97239307e+01   1.66447991e+02   1.52812986e+01   1.61736707e+02\n",
      "    2.38450038e+01   2.79829277e+01   2.53813816e+01   1.03629182e+02\n",
      "    3.16219155e+01   9.93016037e+01]]\n",
      "[17.908310075065469, 174.13961626594863, -0.40349611824021309, 134.83968275450476, 34.187574837122028, 5.2151852219508594, 26.071481643568699, 103.54635569473018, 36.697642519104328, 100.2194325787345]\n"
     ]
    }
   ],
   "source": [
    "def gen_sample(n, mus, sigmas):\n",
    "    return np.array([mus + stats.norm.rvs(size = n, loc = 0, scale = sigmas[i]) for i in np.arange(len(sigmas)) ])\n",
    "\n",
    "def gen_mus_sigma(nb_stateux, nb_samples):\n",
    "    return (stats.uniform.rvs(size=nb_samples, loc=0, scale=200), stats.uniform.rvs(size=nb_stateux, loc=0, scale=40))\n",
    "\n",
    "nb_stateux = 7\n",
    "sample_length = 10\n",
    "\n",
    "(mus, sigma) = gen_mus_sigma(nb_stateux, sample_length)\n",
    "sample = gen_sample(sample_length, mus, sigma)\n",
    "print len(sample), len(sample[0])\n",
    "print mus\n",
    "print sigma\n",
    "print sample\n",
    "print [np.mean([sample[i, j] for i in np.arange(len(sigma))]) for j in np.arange(len(mus))]\n"
   ]
  },
  {
   "cell_type": "code",
   "execution_count": 3,
   "metadata": {
    "collapsed": false
   },
   "outputs": [
    {
     "name": "stdout",
     "output_type": "stream",
     "text": [
      "(7, 10)\n"
     ]
    }
   ],
   "source": [
    "#v_mus = np.array([pm.Uniform(\"mu%d\" % i, lower=0, upper=200) for i in np.arange(sample_length)])\n",
    "v_mus = np.array([pm.Normal(\"mu%d\" % i, mu=0, tau=0.001) for i in np.arange(sample_length)])\n",
    "v_sigmas = [pm.Uniform(\"sigma%d\" % k, lower=0, upper=40) for k in np.arange(nb_stateux)]\n",
    "v_taus = [pm.Lambda(\"tau%d\" % k, lambda sigma=v_sigmas[k]: 1/sigma**2) for k in np.arange(nb_stateux)]\n",
    "\n",
    "x = np.array([[pm.Normal(\"x%d_%d\" % (k,i), mu=v_mus[i], tau=v_taus[k], \n",
    "                         observed=True, value=np.array(sample[k,i])) for i in np.arange(sample_length)]\n",
    "              for k in np.arange(nb_stateux)])\n",
    "\n",
    "print x.shape"
   ]
  },
  {
   "cell_type": "code",
   "execution_count": 4,
   "metadata": {
    "collapsed": false
   },
   "outputs": [
    {
     "name": "stdout",
     "output_type": "stream",
     "text": [
      " [-----------------100%-----------------] 20000 of 20000 complete in 28.2 sec"
     ]
    }
   ],
   "source": [
    "mcmc = pm.MCMC([v_mus, v_sigmas, v_taus, x])\n",
    "mcmc.sample(20000,4000)"
   ]
  },
  {
   "cell_type": "code",
   "execution_count": 9,
   "metadata": {
    "collapsed": false
   },
   "outputs": [
    {
     "name": "stdout",
     "output_type": "stream",
     "text": [
      "52.9632086617\n",
      "45.6216450301\n",
      "118.806358399\n",
      "104.812708895\n",
      "113.948024967\n",
      "149.270307874\n",
      "157.083544909\n",
      "150.38448454\n",
      "69.5783852921\n",
      "81.4042799835\n",
      "[52.963208661715697, 45.621645030117769, 118.8063583994594, 104.81270889544484, 113.94802496665771, 149.27030787360147, 157.08354490886282, 150.38448454046562, 69.578385292128218, 81.40427998353745]\n"
     ]
    },
    {
     "data": {
      "image/png": "[encoded data removed]",
      "text/plain": [
       "<matplotlib.figure.Figure at 0x7f8ab7654510>"
      ]
     },
     "metadata": {},
     "output_type": "display_data"
    }
   ],
   "source": [
    "figsize(12.5, 4)\n",
    "plt.title(\"Posterior distribution of mus\")\n",
    "for i in np.arange(sample_length):\n",
    "    plt.hist(mcmc.trace(\"mu%d\" % i)[:], bins=50, histtype=\"stepfilled\", normed=True)\n",
    "    plt.legend()\n",
    "    plt.xlim((0,200))\n",
    "    print (mcmc.trace(\"mu%d\" % i)[:].mean())\n",
    "\n",
    "print [mcmc.trace(\"mu%d\" % j)[:].mean() for j in np.arange(sample_length)]"
   ]
  },
  {
   "cell_type": "code",
   "execution_count": 6,
   "metadata": {
    "collapsed": false
   },
   "outputs": [
    {
     "name": "stdout",
     "output_type": "stream",
     "text": [
      "[[1 2]\n",
      " [1 3]\n",
      " [1 4]]\n",
      "[10 20 30]\n",
      "[[11 12]\n",
      " [21 23]\n",
      " [31 34]]\n",
      "<type 'numpy.ndarray'> 3 (3, 2)\n"
     ]
    }
   ],
   "source": [
    "x = np.array([[1,2], [1,3], [1,4]])\n",
    "print x\n",
    "y = np.array([10, 20, 30])\n",
    "print y\n",
    "print x+y.reshape(len(y), 1)\n",
    "print type(x), len(x), x.shape"
   ]
  },
  {
   "cell_type": "code",
   "execution_count": null,
   "metadata": {
    "collapsed": true
   },
   "outputs": [],
   "source": []
  },
  {
   "cell_type": "code",
   "execution_count": null,
   "metadata": {
    "collapsed": true
   },
   "outputs": [],
   "source": []
  }
 ],
 "metadata": {
  "kernelspec": {
   "display_name": "Python 2",
   "language": "python",
   "name": "python2"
  },
  "language_info": {
   "codemirror_mode": {
    "name": "ipython",
    "version": 2
   },
   "file_extension": ".py",
   "mimetype": "text/x-python",
   "name": "python",
   "nbconvert_exporter": "python",
   "pygments_lexer": "ipython2",
   "version": "2.7.11"
  }
 },
 "nbformat": 4,
 "nbformat_minor": 0
}
