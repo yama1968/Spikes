{
 "cells": [
  {
   "cell_type": "code",
   "execution_count": 2,
   "metadata": {
    "collapsed": false
   },
   "outputs": [],
   "source": [
    "%matplotlib inline\n",
    "import numpy as np\n",
    "from IPython.core.pylabtools import figsize\n",
    "import matplotlib.pyplot as plt\n",
    "import scipy.stats as stats\n",
    "import pymc as pm"
   ]
  },
  {
   "cell_type": "code",
   "execution_count": 3,
   "metadata": {
    "collapsed": false
   },
   "outputs": [
    {
     "name": "stdout",
     "output_type": "stream",
     "text": [
      "7 10\n",
      "[  82.00021377  104.49704235  156.85754124   16.42398901  127.83240113\n",
      "   91.89972517  182.07780032   87.58656711  146.91502968   74.13575152]\n",
      "[ 17.91366558  18.66450744  24.69658324  22.90470022  19.80867484\n",
      "   1.68775236   2.82888324]\n",
      "[[  74.59566374  105.88476958  138.0719017    24.38022228  135.28754567\n",
      "   104.83759537  162.65325784   79.39909917  161.1948631    75.08381985]\n",
      " [  80.93979801  121.44209044  177.32378791    8.53612426  109.22817172\n",
      "    97.32734291  182.28612037   66.4336355   127.2785656    72.37713007]\n",
      " [  65.34225213   87.15335305  137.50943132   18.6306192   121.87919762\n",
      "   117.36247044  194.14108416   69.78440637  143.64917809   95.51325188]\n",
      " [  72.82528187  116.48164993  157.04671707   33.83886682  126.39683113\n",
      "    81.1750875   141.2616631    86.41176819  143.39618527   44.23202114]\n",
      " [  67.74761596  102.9725176   164.76756352    0.67229761  128.64515355\n",
      "   104.93564367  182.24854447  100.13099887  138.19434468   23.48252867]\n",
      " [  80.96596052  105.50028911  155.48296221   15.75112588  127.77882846\n",
      "    92.37195828  184.86281024   87.73878233  146.26824275   70.94446398]\n",
      " [  84.80676063  107.8034858   161.73004242   16.41081519  125.44778401\n",
      "    87.50598753  179.32713401   85.89385476  142.2433055    79.66331375]]\n",
      "[75.317618978996123, 106.74830792933206, 155.99034373640075, 16.888581605704672, 124.95193030636337, 97.930869386759198, 175.25437345547738, 82.256077882778854, 143.174954996721, 65.899504191846674]\n"
     ]
    }
   ],
   "source": [
    "def gen_sample(n, mus, sigmas):\n",
    "    return np.array([mus + stats.norm.rvs(size = n, loc = 0, scale = sigmas[i]) for i in np.arange(len(sigmas)) ])\n",
    "\n",
    "def gen_mus_sigma(nb_stateux, nb_samples):\n",
    "    return (stats.uniform.rvs(size=nb_samples, loc=0, scale=200), stats.uniform.rvs(size=nb_stateux, loc=0, scale=40))\n",
    "\n",
    "nb_stateux = 7\n",
    "sample_length = 10\n",
    "\n",
    "(mus, sigma) = gen_mus_sigma(nb_stateux, sample_length)\n",
    "sample = gen_sample(sample_length, mus, sigma)\n",
    "print len(sample), len(sample[0])\n",
    "print mus\n",
    "print sigma\n",
    "print sample\n",
    "print [np.mean([sample[i, j] for i in np.arange(len(sigma))]) for j in np.arange(len(mus))]\n"
   ]
  },
  {
   "cell_type": "code",
   "execution_count": 14,
   "metadata": {
    "collapsed": false
   },
   "outputs": [
    {
     "name": "stdout",
     "output_type": "stream",
     "text": [
      "(7L, 10L)\n"
     ]
    }
   ],
   "source": [
    "#v_mus = np.array([pm.Uniform(\"mu%d\" % i, lower=0, upper=200) for i in np.arange(sample_length)])\n",
    "v_mus = np.array([pm.Normal(\"mu%d\" % i, mu=0, tau=0.001) for i in np.arange(sample_length)])\n",
    "v_sigmas = [pm.Uniform(\"sigma%d\" % k, lower=0, upper=40) for k in np.arange(nb_stateux)]\n",
    "v_taus = [pm.Lambda(\"tau%d\" % k, lambda sigma=v_sigmas[k]: 1/sigma**2) for k in np.arange(nb_stateux)]\n",
    "\n",
    "x = np.array([[pm.Normal(\"x%d_%d\" % (k,i), mu=v_mus[i], tau=v_taus[k], \n",
    "                         observed=True, value=np.array(sample[k,i])) for i in np.arange(sample_length)]\n",
    "              for k in np.arange(nb_stateux)])\n",
    "\n",
    "print x.shape"
   ]
  },
  {
   "cell_type": "code",
   "execution_count": 15,
   "metadata": {
    "collapsed": false
   },
   "outputs": [
    {
     "name": "stdout",
     "output_type": "stream",
     "text": [
      " [-----------------100%-----------------] 10000 of 10000 complete in 67.3 sec"
     ]
    }
   ],
   "source": [
    "mcmc = pm.MCMC([v_mus, v_sigmas, v_taus, x])\n",
    "mcmc.sample(10000)"
   ]
  },
  {
   "cell_type": "code",
   "execution_count": 16,
   "metadata": {
    "collapsed": false
   },
   "outputs": [
    {
     "name": "stdout",
     "output_type": "stream",
     "text": [
      "79.0651971427\n",
      "104.107621199\n",
      "152.756658909\n",
      "15.7348141826\n",
      "124.434077254\n",
      "90.8481741858\n",
      "171.072486305\n",
      "80.8428237487\n",
      "142.303434908\n",
      "70.6860529838\n",
      "[79.065197142714368, 104.10762119920345, 152.75665890900908, 15.734814182568851, 124.43407725394621, 90.848174185802563, 171.07248630522821, 80.842823748723063, 142.30343490770801, 70.686052983788613]\n"
     ]
    },
    {
     "data": {
      "image/png": "[encoded data removed]",
      "text/plain": [
       "<matplotlib.figure.Figure at 0x1a643fd0>"
      ]
     },
     "metadata": {},
     "output_type": "display_data"
    }
   ],
   "source": [
    "figsize(12.5, 4)\n",
    "plt.title(\"Posterior distribution of mus\")\n",
    "for i in np.arange(sample_length):\n",
    "    plt.hist(mcmc.trace(\"mu%d\" % i)[:], bins=50, histtype=\"stepfilled\", normed=True)\n",
    "    plt.legend()\n",
    "    plt.xlim((0,200))\n",
    "    print (mcmc.trace(\"mu%d\" % i)[:].mean())\n",
    "\n",
    "print [mcmc.trace(\"mu%d\" % j)[:].mean() for j in np.arange(sample_length)]"
   ]
  },
  {
   "cell_type": "code",
   "execution_count": null,
   "metadata": {
    "collapsed": false
   },
   "outputs": [],
   "source": [
    "x = np.array([[1,2], [1,3], [1,4]])\n",
    "print x\n",
    "y = np.array([10, 20, 30])\n",
    "print y\n",
    "print x+y.reshape(len(y), 1)\n",
    "print type(x), len(x), x.shape"
   ]
  },
  {
   "cell_type": "code",
   "execution_count": null,
   "metadata": {
    "collapsed": true
   },
   "outputs": [],
   "source": []
  },
  {
   "cell_type": "code",
   "execution_count": null,
   "metadata": {
    "collapsed": true
   },
   "outputs": [],
   "source": []
  }
 ],
 "metadata": {
  "kernelspec": {
   "display_name": "Python 2",
   "language": "python",
   "name": "python2"
  },
  "language_info": {
   "codemirror_mode": {
    "name": "ipython",
    "version": 2
   },
   "file_extension": ".py",
   "mimetype": "text/x-python",
   "name": "python",
   "nbconvert_exporter": "python",
   "pygments_lexer": "ipython2",
   "version": "2.7.9"
  }
 },
 "nbformat": 4,
 "nbformat_minor": 0
}
