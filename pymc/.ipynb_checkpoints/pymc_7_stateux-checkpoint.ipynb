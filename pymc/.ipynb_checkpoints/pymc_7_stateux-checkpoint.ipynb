{
 "cells": [
  {
   "cell_type": "code",
   "execution_count": 1,
   "metadata": {
    "collapsed": false
   },
   "outputs": [],
   "source": [
    "%matplotlib inline\n",
    "import numpy as np\n",
    "from IPython.core.pylabtools import figsize\n",
    "import matplotlib.pyplot as plt\n",
    "import scipy.stats as stats\n",
    "import pymc as pm"
   ]
  },
  {
   "cell_type": "code",
   "execution_count": 2,
   "metadata": {
    "collapsed": false
   },
   "outputs": [
    {
     "name": "stdout",
     "output_type": "stream",
     "text": [
      "7 10\n",
      "[ 162.34594135  190.91059633   48.68890852  180.80032926  184.08695339\n",
      "  166.70107293   92.98812439  164.50064471   15.22837302   82.68332558]\n",
      "[ 35.85190998   0.43208206   1.51307061   2.16716287  22.64086809\n",
      "  23.91798262  35.94924107]\n",
      "[[  1.84989430e+02   1.87517705e+02   3.03585254e+01   1.96559668e+02\n",
      "    1.70427434e+02   1.92333571e+02   1.21761724e+02   1.64488211e+02\n",
      "    1.74073218e-01   1.42813271e+02]\n",
      " [  1.62201621e+02   1.91047600e+02   4.82117971e+01   1.80889771e+02\n",
      "    1.84099111e+02   1.66442092e+02   9.38280172e+01   1.64393566e+02\n",
      "    1.44943183e+01   8.20631061e+01]\n",
      " [  1.63753083e+02   1.88795902e+02   5.05897371e+01   1.77017012e+02\n",
      "    1.86686465e+02   1.69548665e+02   9.34639876e+01   1.65767417e+02\n",
      "    1.73345120e+01   8.20075463e+01]\n",
      " [  1.66188007e+02   1.88551645e+02   4.47459330e+01   1.79164341e+02\n",
      "    1.82564477e+02   1.65666472e+02   9.26868717e+01   1.65287395e+02\n",
      "    1.64552731e+01   8.18749758e+01]\n",
      " [  2.18639361e+02   1.84648843e+02   7.28638679e+01   1.46538333e+02\n",
      "    1.95600027e+02   1.46752904e+02   8.94301119e+01   2.11776413e+02\n",
      "    5.47758042e-01   1.15880747e+02]\n",
      " [  1.15320055e+02   1.66324101e+02   1.36769524e+01   2.29930159e+02\n",
      "    1.81851925e+02   1.58999680e+02   8.88253055e+01   1.93677095e+02\n",
      "    3.39587538e+01   7.02845166e+01]\n",
      " [  1.59701989e+02   1.67354700e+02   5.35506997e+01   1.58851513e+02\n",
      "    1.41943711e+02   1.67017899e+02   9.63151609e+01   9.60712013e+01\n",
      "    5.45299429e+00   1.27502447e+02]]\n",
      "[167.25622103567471, 182.03435660732254, 44.856787497350219, 181.27868537787441, 177.59616411623892, 166.68018351343034, 96.615882747267307, 165.92304260491755, 12.631097535231763, 100.34665858595288]\n"
     ]
    }
   ],
   "source": [
    "def gen_sample(n, mus, sigmas):\n",
    "    return np.array([mus + stats.norm.rvs(size = n, loc = 0, scale = sigmas[i]) for i in np.arange(len(sigmas)) ])\n",
    "\n",
    "def gen_mus_sigma(nb_stateux, nb_samples):\n",
    "    return (stats.uniform.rvs(size=nb_samples, loc=0, scale=200), stats.uniform.rvs(size=nb_stateux, loc=0, scale=40))\n",
    "\n",
    "nb_stateux = 7\n",
    "sample_length = 10\n",
    "\n",
    "(mus, sigma) = gen_mus_sigma(nb_stateux, sample_length)\n",
    "sample = gen_sample(sample_length, mus, sigma)\n",
    "print len(sample), len(sample[0])\n",
    "print mus\n",
    "print sigma\n",
    "print sample\n",
    "print [np.mean([sample[i, j] for i in np.arange(len(sigma))]) for j in np.arange(len(mus))]\n"
   ]
  },
  {
   "cell_type": "code",
   "execution_count": 6,
   "metadata": {
    "collapsed": false
   },
   "outputs": [
    {
     "name": "stdout",
     "output_type": "stream",
     "text": [
      "(7L, 10L)\n"
     ]
    }
   ],
   "source": [
    "v_mus = np.array([pm.Uniform(\"mu%d\" % i, lower=0, upper=200) for i in np.arange(sample_length)])\n",
    "v_sigmas = [pm.Uniform(\"sigma%d\" % k, lower=0, upper=40) for k in np.arange(nb_stateux)]\n",
    "\n",
    "v_taus = [pm.Lambda(\"tau%d\" % k, lambda sigma=v_sigmas[k]: 1/sigma**2) for k in np.arange(nb_stateux)]\n",
    "\n",
    "x = np.array([[pm.Normal(\"x%d_%d\" % (k,i), mu=v_mus[i], tau=v_taus[k], \n",
    "                         observed=True, value=np.array(sample[k,i])) for i in np.arange(sample_length)]\n",
    "              for k in np.arange(nb_stateux)])\n",
    "\n",
    "print x.shape"
   ]
  },
  {
   "cell_type": "code",
   "execution_count": 7,
   "metadata": {
    "collapsed": false
   },
   "outputs": [
    {
     "name": "stdout",
     "output_type": "stream",
     "text": [
      " [-----------------100%-----------------] 10000 of 10000 complete in 51.5 sec"
     ]
    }
   ],
   "source": [
    "mcmc = pm.MCMC([v_mus, v_sigmas, v_taus, x])\n",
    "mcmc.sample(10000)"
   ]
  },
  {
   "cell_type": "code",
   "execution_count": 8,
   "metadata": {
    "collapsed": false
   },
   "outputs": [
    {
     "name": "stdout",
     "output_type": "stream",
     "text": [
      "162.413615039\n",
      "189.805931567\n",
      "47.7941786366\n",
      "179.805706323\n",
      "183.891397395\n",
      "166.830501426\n",
      "93.6059913656\n",
      "164.816573219\n",
      "15.545401982\n",
      "82.2679622888\n",
      "[162.41361503908541, 189.80593156710265, 47.794178636615307, 179.80570632297974, 183.89139739487149, 166.83050142556738, 93.605991365602762, 164.81657321905419, 15.545401982005021, 82.267962288767379]\n"
     ]
    },
    {
     "name": "stderr",
     "output_type": "stream",
     "text": [
      "C:\\Anaconda\\envs\\py27\\lib\\site-packages\\matplotlib\\axes\\_axes.py:475: UserWarning: No labelled objects found. Use label='...' kwarg on individual plots.\n",
      "  warnings.warn(\"No labelled objects found. \"\n"
     ]
    },
    {
     "data": {
      "image/png": "[encoded data removed]",
      "text/plain": [
       "<matplotlib.figure.Figure at 0x19538c88>"
      ]
     },
     "metadata": {},
     "output_type": "display_data"
    }
   ],
   "source": [
    "figsize(12.5, 4)\n",
    "plt.title(\"Posterior distribution of mus\")\n",
    "for i in np.arange(sample_length):\n",
    "    plt.hist(mcmc.trace(\"mu%d\" % i)[:], bins=50, histtype=\"stepfilled\", normed=True)\n",
    "    plt.legend()\n",
    "    plt.xlim((0,200))\n",
    "    print (mcmc.trace(\"mu%d\" % i)[:].mean())\n",
    "\n",
    "print [mcmc.trace(\"mu%d\" % j)[:].mean() for j in np.arange(sample_length)]"
   ]
  },
  {
   "cell_type": "code",
   "execution_count": null,
   "metadata": {
    "collapsed": false
   },
   "outputs": [],
   "source": [
    "x = np.array([[1,2], [1,3], [1,4]])\n",
    "print x\n",
    "y = np.array([10, 20, 30])\n",
    "print y\n",
    "print x+y.reshape(len(y), 1)\n",
    "print type(x), len(x), x.shape"
   ]
  },
  {
   "cell_type": "code",
   "execution_count": null,
   "metadata": {
    "collapsed": true
   },
   "outputs": [],
   "source": []
  },
  {
   "cell_type": "code",
   "execution_count": null,
   "metadata": {
    "collapsed": true
   },
   "outputs": [],
   "source": []
  }
 ],
 "metadata": {
  "kernelspec": {
   "display_name": "Python 2",
   "language": "python",
   "name": "python2"
  },
  "language_info": {
   "codemirror_mode": {
    "name": "ipython",
    "version": 2
   },
   "file_extension": ".py",
   "mimetype": "text/x-python",
   "name": "python",
   "nbconvert_exporter": "python",
   "pygments_lexer": "ipython2",
   "version": "2.7.9"
  }
 },
 "nbformat": 4,
 "nbformat_minor": 0
}
