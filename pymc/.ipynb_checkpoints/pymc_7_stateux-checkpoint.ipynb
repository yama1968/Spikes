{
 "cells": [
  {
   "cell_type": "code",
   "execution_count": 1,
   "metadata": {
    "collapsed": false
   },
   "outputs": [
    {
     "name": "stderr",
     "output_type": "stream",
     "text": [
      "/home/yannick/bin/anaconda3/envs/py27/lib/python2.7/site-packages/pytz/__init__.py:29: UserWarning: Module argparse was already imported from /home/yannick/bin/anaconda3/envs/py27/lib/python2.7/argparse.pyc, but /home/yannick/bin/anaconda3/envs/py27/lib/python2.7/site-packages is being added to sys.path\n",
      "  from pkg_resources import resource_stream\n"
     ]
    }
   ],
   "source": [
    "%matplotlib inline\n",
    "import numpy as np\n",
    "from IPython.core.pylabtools import figsize\n",
    "import matplotlib.pyplot as plt\n",
    "import scipy.stats as stats\n",
    "import pymc as pm"
   ]
  },
  {
   "cell_type": "code",
   "execution_count": 2,
   "metadata": {
    "collapsed": false
   },
   "outputs": [
    {
     "name": "stdout",
     "output_type": "stream",
     "text": [
      "7 10\n",
      "[  42.43699278   86.85551215   34.49162067  137.05079751  133.35113158\n",
      "  110.28046665   65.36707022   93.60611658  154.28519232  128.21921755]\n",
      "[ 22.27576246  11.68893532  26.77699482  29.34880184   7.71825691\n",
      "  17.66864189  34.5350888 ]\n",
      "[[  45.28241063  135.18496206   38.25831703  127.76393106  136.79096407\n",
      "   102.10114501   62.7005945    65.43834857  176.99420878  122.02793086]\n",
      " [  33.53293577   84.91552885   24.04953035  136.08348562  132.33854999\n",
      "   117.80942805   52.61061546  109.59303707  171.68205355  119.95470198]\n",
      " [  96.37959752   67.46876061   28.46249505   77.50142455   84.01428953\n",
      "    54.54266562   81.0451395    90.33632835  192.9787181   138.81949459]\n",
      " [  21.87887966  105.78089698   72.53855438  111.75733574  105.15705791\n",
      "   106.10231702   58.63042012   78.84338906  125.31825092  129.13680834]\n",
      " [  34.12760506   83.88457055   39.90417004  140.09689046  142.3844998\n",
      "   105.79219659   63.43170252   82.87435466  144.73056292  131.25464062]\n",
      " [  39.74002413   93.05909423   59.50724495  167.09157275  152.48555842\n",
      "   108.67747814   65.20031151  102.26151507  145.45757959  114.23775184]\n",
      " [  41.63526893  117.35732192  -24.90733901   99.99721843  111.60174909\n",
      "    98.84487965   93.85237002   85.45820525  193.53610341  136.26484731]]\n",
      "[44.653817385743707, 98.235876457165816, 33.973281826290467, 122.89883694346143, 123.53895268501928, 99.124301437982496, 68.21016480511615, 87.82931114522367, 164.38535389676298, 127.38516793327985]\n"
     ]
    }
   ],
   "source": [
    "def gen_sample(n, mus, sigmas):\n",
    "    return np.array([mus + stats.norm.rvs(size = n, loc = 0, scale = sigmas[i]) for i in np.arange(len(sigmas)) ])\n",
    "\n",
    "def gen_mus_sigma(nb_stateux, nb_samples):\n",
    "    return (stats.uniform.rvs(size=nb_samples, loc=0, scale=200), stats.uniform.rvs(size=nb_stateux, loc=0, scale=40))\n",
    "\n",
    "nb_stateux = 7\n",
    "sample_length = 10\n",
    "\n",
    "(mus, sigma) = gen_mus_sigma(nb_stateux, sample_length)\n",
    "sample = gen_sample(sample_length, mus, sigma)\n",
    "print len(sample), len(sample[0])\n",
    "print mus\n",
    "print sigma\n",
    "print sample\n",
    "print [np.mean([sample[i, j] for i in np.arange(len(sigma))]) for j in np.arange(len(mus))]\n"
   ]
  },
  {
   "cell_type": "code",
   "execution_count": 3,
   "metadata": {
    "collapsed": false
   },
   "outputs": [
    {
     "name": "stdout",
     "output_type": "stream",
     "text": [
      "(7, 10)\n"
     ]
    }
   ],
   "source": [
    "v_mus = np.array([pm.Uniform(\"mu%d\" % i, lower=0, upper=200) for i in np.arange(sample_length)])\n",
    "v_sigmas = [pm.Uniform(\"sigma%d\" % k, lower=0, upper=40) for k in np.arange(nb_stateux)]\n",
    "\n",
    "v_taus = [pm.Lambda(\"tau%d\" % k, lambda sigma=v_sigmas[k]: 1/sigma**2) for k in np.arange(nb_stateux)]\n",
    "\n",
    "x = np.array([[pm.Normal(\"x%d_%d\" % (k,i), mu=v_mus[i], tau=v_taus[k], \n",
    "                         observed=True, value=np.array(sample[k,i])) for i in np.arange(sample_length)]\n",
    "              for k in np.arange(nb_stateux)])\n",
    "\n",
    "print x.shape"
   ]
  },
  {
   "cell_type": "code",
   "execution_count": 4,
   "metadata": {
    "collapsed": false
   },
   "outputs": [
    {
     "name": "stdout",
     "output_type": "stream",
     "text": [
      " [-----------------100%-----------------] 10000 of 10000 complete in 12.9 sec"
     ]
    }
   ],
   "source": [
    "mcmc = pm.MCMC([v_mus, v_sigmas, v_taus, x])\n",
    "mcmc.sample(10000)"
   ]
  },
  {
   "cell_type": "code",
   "execution_count": 5,
   "metadata": {
    "collapsed": false
   },
   "outputs": [
    {
     "name": "stdout",
     "output_type": "stream",
     "text": [
      "36.3008291838\n",
      "90.4419353356\n",
      "39.1203986955\n",
      "137.25746653\n",
      "137.568908028\n",
      "106.201778177\n",
      "63.0710837271\n",
      "86.9623857408\n",
      "152.018010147\n",
      "127.563812647\n",
      "[36.300829183787954, 90.441935335645539, 39.120398695471906, 137.25746653037098, 137.56890802826496, 106.20177817671959, 63.071083727083114, 86.962385740801778, 152.01801014697725, 127.56381264663764]\n"
     ]
    },
    {
     "name": "stderr",
     "output_type": "stream",
     "text": [
      "/home/yannick/bin/anaconda3/envs/py27/lib/python2.7/site-packages/matplotlib/axes/_axes.py:475: UserWarning: No labelled objects found. Use label='...' kwarg on individual plots.\n",
      "  warnings.warn(\"No labelled objects found. \"\n"
     ]
    },
    {
     "data": {
      "image/png": "[encoded data removed]",
      "text/plain": [
       "<matplotlib.figure.Figure at 0x7f48c58ca9d0>"
      ]
     },
     "metadata": {},
     "output_type": "display_data"
    }
   ],
   "source": [
    "figsize(12.5, 4)\n",
    "plt.title(\"Posterior distribution of mus\")\n",
    "for i in np.arange(sample_length):\n",
    "    plt.hist(mcmc.trace(\"mu%d\" % i)[:], bins=50, histtype=\"stepfilled\", normed=True)\n",
    "    plt.legend()\n",
    "    plt.xlim((0,200))\n",
    "    print (mcmc.trace(\"mu%d\" % i)[:].mean())\n",
    "\n",
    "print [mcmc.trace(\"mu%d\" % j)[:].mean() for j in np.arange(sample_length)]"
   ]
  },
  {
   "cell_type": "code",
   "execution_count": 6,
   "metadata": {
    "collapsed": false
   },
   "outputs": [
    {
     "name": "stdout",
     "output_type": "stream",
     "text": [
      "[[1 2]\n",
      " [1 3]\n",
      " [1 4]]\n",
      "[10 20 30]\n",
      "[[11 12]\n",
      " [21 23]\n",
      " [31 34]]\n",
      "<type 'numpy.ndarray'> 3 (3, 2)\n"
     ]
    }
   ],
   "source": [
    "x = np.array([[1,2], [1,3], [1,4]])\n",
    "print x\n",
    "y = np.array([10, 20, 30])\n",
    "print y\n",
    "print x+y.reshape(len(y), 1)\n",
    "print type(x), len(x), x.shape"
   ]
  },
  {
   "cell_type": "code",
   "execution_count": null,
   "metadata": {
    "collapsed": true
   },
   "outputs": [],
   "source": []
  },
  {
   "cell_type": "code",
   "execution_count": null,
   "metadata": {
    "collapsed": true
   },
   "outputs": [],
   "source": []
  }
 ],
 "metadata": {
  "kernelspec": {
   "display_name": "Python 2",
   "language": "python",
   "name": "python2"
  },
  "language_info": {
   "codemirror_mode": {
    "name": "ipython",
    "version": 2
   },
   "file_extension": ".py",
   "mimetype": "text/x-python",
   "name": "python",
   "nbconvert_exporter": "python",
   "pygments_lexer": "ipython2",
   "version": "2.7.9"
  }
 },
 "nbformat": 4,
 "nbformat_minor": 0
}
