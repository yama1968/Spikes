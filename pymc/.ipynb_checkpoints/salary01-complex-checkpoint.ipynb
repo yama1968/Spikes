{
 "metadata": {
  "name": "",
  "signature": "sha256:e40cd2de34e186ae774b9bcc003d2e095ccce4d6663a7e496a3f75be67dde889"
 },
 "nbformat": 3,
 "nbformat_minor": 0,
 "worksheets": [
  {
   "cells": [
    {
     "cell_type": "code",
     "collapsed": false,
     "input": [
      "%matplotlib inline\n",
      "import numpy as np\n",
      "from IPython.core.pylabtools import figsize\n",
      "import matplotlib.pyplot as plt\n",
      "import scipy.stats as stats\n",
      "import pymc as pm\n"
     ],
     "language": "python",
     "metadata": {},
     "outputs": [],
     "prompt_number": 1
    },
    {
     "cell_type": "markdown",
     "metadata": {},
     "source": [
      "D'abord avec un seul salaire en fixe"
     ]
    },
    {
     "cell_type": "code",
     "collapsed": false,
     "input": [
      "sample_length = 24\n",
      "days = (stats.norm.rvs(size=sample_length)*4 + 20).astype(int)\n",
      "print days\n",
      "true_sal_avg = 1900\n",
      "amounts = (stats.norm.rvs(size=sample_length)*10 + true_sal_avg)\n",
      "print amounts\n",
      "print amounts.mean()"
     ],
     "language": "python",
     "metadata": {},
     "outputs": [
      {
       "output_type": "stream",
       "stream": "stdout",
       "text": [
        "[21 14 15 13 19 14 18 26 20 17 22 19 15 16 20 18 24 21 26 18 25 12 12 21]\n",
        "[ 1904.00316975  1905.16751313  1895.69854793  1917.26390329  1894.09685692\n",
        "  1893.16365713  1903.24128682  1902.59941242  1898.58586158  1905.50601246\n",
        "  1896.52946284  1898.30363261  1906.28785819  1901.09998499  1896.4378134\n",
        "  1884.80370184  1908.49315405  1908.69673785  1913.76950852  1904.96518675\n",
        "  1894.65279091  1890.62628264  1891.63213363  1891.67915231]\n",
        "1900.30431758\n"
       ]
      }
     ],
     "prompt_number": 2
    },
    {
     "cell_type": "code",
     "collapsed": false,
     "input": [
      "sal_avg = pm.Normal(\"sal_avg\", mu = 2500., tau = 1e-6)\n",
      "sal_sigma = pm.Uniform(\"sal_sigma\", 0, 100)\n",
      "salary = pm.Normal(\"salary\", mu = sal_avg, tau = 1/sal_sigma**2, value = amounts, observed = True, size = sample_length)\n",
      "\n",
      "mcmc = pm.MCMC([sal_avg, sal_sigma, salary])\n",
      "mcmc.sample(10000,1000)"
     ],
     "language": "python",
     "metadata": {},
     "outputs": [
      {
       "output_type": "stream",
       "stream": "stdout",
       "text": [
        "\r",
        " [-----------------63%----              ] 6387 of 10000 complete in 0.5 sec"
       ]
      },
      {
       "output_type": "stream",
       "stream": "stdout",
       "text": [
        "\r",
        " [-----------------100%-----------------] 10000 of 10000 complete in 0.8 sec"
       ]
      }
     ],
     "prompt_number": 3
    },
    {
     "cell_type": "code",
     "collapsed": false,
     "input": [
      "figsize(12.5, 4)\n",
      "plt.title(\"Posterior distribution of sal_avg\")\n",
      "plt.hist(mcmc.trace(\"sal_avg\")[:], bins=20, histtype=\"stepfilled\", normed=True)\n",
      "plt.legend()\n",
      "plt.xlim((1800, 2000))\n",
      "print (mcmc.trace(\"sal_avg\")[:].mean())"
     ],
     "language": "python",
     "metadata": {},
     "outputs": [
      {
       "output_type": "stream",
       "stream": "stdout",
       "text": [
        "1900.13840326\n"
       ]
      },
      {
       "metadata": {},
       "output_type": "display_data",
       "png": "[encoded data removed]",
       "text": [
        "<matplotlib.figure.Figure at 0x16dcbdd8>"
       ]
      }
     ],
     "prompt_number": 19
    },
    {
     "cell_type": "code",
     "collapsed": false,
     "input": [
      "\n",
      "plt.title(\"Posterior distribution of sal_sigma\")\n",
      "plt.hist(mcmc.trace(\"sal_sigma\")[:], bins=20, histtype=\"stepfilled\", normed=True)\n",
      "plt.legend()\n",
      "print (mcmc.trace(\"sal_sigma\")[:].mean())"
     ],
     "language": "python",
     "metadata": {},
     "outputs": [
      {
       "output_type": "stream",
       "stream": "stdout",
       "text": [
        "19.9957348458\n"
       ]
      },
      {
       "metadata": {},
       "output_type": "display_data",
       "png": "[encoded data removed]",
       "text": [
        "<matplotlib.figure.Figure at 0x16dadb38>"
       ]
      }
     ],
     "prompt_number": 20
    },
    {
     "cell_type": "code",
     "collapsed": false,
     "input": [],
     "language": "python",
     "metadata": {},
     "outputs": [],
     "prompt_number": 5
    },
    {
     "cell_type": "markdown",
     "metadata": {},
     "source": [
      "On ajoute un variable, 1 fois tous les douze mois, plus un tous les 3 mois"
     ]
    },
    {
     "cell_type": "code",
     "collapsed": false,
     "input": [
      "sample_with_bonus = amounts.copy()\n",
      "sample_with_bonus[3] += 2000\n",
      "sample_with_bonus[15] += 1900\n",
      "for i in range(len(amounts)):\n",
      "    sample_with_bonus[i] += 500 * (i%3 == 0)\n",
      "print sample_with_bonus"
     ],
     "language": "python",
     "metadata": {},
     "outputs": [
      {
       "output_type": "stream",
       "stream": "stdout",
       "text": [
        "[ 2404.00316975  1905.16751313  1895.69854793  4417.26390329  1894.09685692\n",
        "  1893.16365713  2403.24128682  1902.59941242  1898.58586158  2405.50601246\n",
        "  1896.52946284  1898.30363261  2406.28785819  1901.09998499  1896.4378134\n",
        "  4284.80370184  1908.49315405  1908.69673785  2413.76950852  1904.96518675\n",
        "  1894.65279091  2390.62628264  1891.63213363  1891.67915231]\n"
       ]
      }
     ],
     "prompt_number": 26
    },
    {
     "cell_type": "code",
     "collapsed": false,
     "input": [
      "bonus_month = pm.DiscreteUniform(\"bonus_month\", lower = 0, upper = 11)\n",
      "print bonus_month.random(), bonus_month.random()\n",
      "bonus_percent = pm.Uniform(\"bonus_percent\", lower = 0., upper = 3.)\n",
      "bonus3_month = pm.DiscreteUniform(\"bonus3_month\", lower = 0, upper = 2)\n",
      "bonus3_percent = pm.Uniform(\"bonus3_percent\", lower = 0., upper = 2.)\n",
      "bonus6_month = pm.DiscreteUniform(\"bonus6_month\", lower=0, upper=5)\n",
      "bonus6_percent = pm.Uniform(\"bonus6_percent\", lower=0., upper=2.)\n",
      "sal_avg = pm.Normal(\"sal_avg\", mu = 2500., tau = 1e-6)\n",
      "sal_sigma = pm.Uniform(\"sal_sigma\", 0, 20)\n",
      "\n",
      "@pm.deterministic\n",
      "def bonus (bonus_percent = bonus_percent, sample_length = sample_length, bonus_month = bonus_month, \n",
      "           bonus3_percent = bonus3_percent, bonus3_month = bonus3_month,\n",
      "           bonus6_percent = bonus6_percent, bonus6_month = bonus6_month):\n",
      "    return [((month % 12) == bonus_month) * bonus_percent + ((month % 3) == bonus3_month) * bonus3_percent + \\\n",
      "            ((month % 6) == bonus6_month) * bonus6_percent\n",
      "            for month in np.arange(sample_length)]\n",
      "\n",
      "print bonus, bonus.dtype, bonus_month, bonus.value\n",
      "\n",
      "total_salary = pm.Normal(\"total_salary\", mu = sal_avg * (np.array([1.] * sample_length) + bonus), tau = 1/sal_sigma**2,\n",
      "                         value = sample_with_bonus, observed = True)\n",
      "\n",
      "print total_salary.random()\n",
      "\n",
      "mcmc = pm.MCMC([bonus_month, bonus_percent, sal_avg, sal_sigma, total_salary, bonus3_month, bonus3_percent, bonus6_percent, bonus6_month])\n",
      "mcmc.sample(10000,1000)"
     ],
     "language": "python",
     "metadata": {},
     "outputs": [
      {
       "output_type": "stream",
       "stream": "stdout",
       "text": [
        "8 9\n",
        "bonus object bonus_month [0.0, 0.0, 1.3016482834331538, 0.0, 0.0, 0.090894374996309368, 0.0, 0.0, 1.3016482834331538, 0.052003925022060971, 0.0, 0.090894374996309368, 0.0, 0.0, 1.3016482834331538, 0.0, 0.0, 0.090894374996309368, 0.0, 0.0, 1.3016482834331538, 0.052003925022060971, 0.0, 0.090894374996309368]\n",
        "[ 3011.50844425  3023.07727408  6937.95896114  3008.94238076  3019.09839692\n",
        "  3296.78741673  3008.32651159  3021.3747034   6947.6527451   3166.91959186\n",
        "  3009.09586584  3292.05221827  3015.38225968  3012.56065269  6935.96634774\n",
        "  3009.79033373  3020.78716732  3286.74383309  3018.17197005  3021.28695392\n",
        "  6944.07880118  3173.12077021  3016.08576579  3289.63927181]\n",
        "\r"
       ]
      },
      {
       "output_type": "stream",
       "stream": "stdout",
       "text": [
        " [-                 3%                  ] 302 of 10000 complete in 0.5 sec"
       ]
      },
      {
       "output_type": "stream",
       "stream": "stdout",
       "text": [
        "\r",
        " [--                7%                  ] 701 of 10000 complete in 1.0 sec"
       ]
      },
      {
       "output_type": "stream",
       "stream": "stdout",
       "text": [
        "\r",
        " [----             11%                  ] 1131 of 10000 complete in 1.5 sec"
       ]
      },
      {
       "output_type": "stream",
       "stream": "stdout",
       "text": [
        "\r",
        " [-----            15%                  ] 1509 of 10000 complete in 2.0 sec"
       ]
      },
      {
       "output_type": "stream",
       "stream": "stdout",
       "text": [
        "\r",
        " [------           18%                  ] 1813 of 10000 complete in 2.5 sec"
       ]
      },
      {
       "output_type": "stream",
       "stream": "stdout",
       "text": [
        "\r",
        " [-------          19%                  ] 1979 of 10000 complete in 3.0 sec"
       ]
      },
      {
       "output_type": "stream",
       "stream": "stdout",
       "text": [
        "\r",
        " [--------         23%                  ] 2360 of 10000 complete in 3.5 sec"
       ]
      },
      {
       "output_type": "stream",
       "stream": "stdout",
       "text": [
        "\r",
        " [----------       27%                  ] 2703 of 10000 complete in 4.0 sec"
       ]
      },
      {
       "output_type": "stream",
       "stream": "stdout",
       "text": [
        "\r",
        " [-----------      31%                  ] 3122 of 10000 complete in 4.6 sec"
       ]
      },
      {
       "output_type": "stream",
       "stream": "stdout",
       "text": [
        "\r",
        " [-------------    35%                  ] 3584 of 10000 complete in 5.1 sec"
       ]
      },
      {
       "output_type": "stream",
       "stream": "stdout",
       "text": [
        "\r",
        " [---------------  40%                  ] 4040 of 10000 complete in 5.6 sec"
       ]
      },
      {
       "output_type": "stream",
       "stream": "stdout",
       "text": [
        "\r",
        " [-----------------45%                  ] 4503 of 10000 complete in 6.1 sec"
       ]
      },
      {
       "output_type": "stream",
       "stream": "stdout",
       "text": [
        "\r",
        " [-----------------49%                  ] 4976 of 10000 complete in 6.6 sec"
       ]
      },
      {
       "output_type": "stream",
       "stream": "stdout",
       "text": [
        "\r",
        " [-----------------54%                  ] 5439 of 10000 complete in 7.1 sec"
       ]
      },
      {
       "output_type": "stream",
       "stream": "stdout",
       "text": [
        "\r",
        " [-----------------58%--                ] 5843 of 10000 complete in 7.6 sec"
       ]
      },
      {
       "output_type": "stream",
       "stream": "stdout",
       "text": [
        "\r",
        " [-----------------63%----              ] 6318 of 10000 complete in 8.1 sec"
       ]
      },
      {
       "output_type": "stream",
       "stream": "stdout",
       "text": [
        "\r",
        " [-----------------67%-----             ] 6723 of 10000 complete in 8.6 sec"
       ]
      },
      {
       "output_type": "stream",
       "stream": "stdout",
       "text": [
        "\r",
        " [-----------------71%-------           ] 7118 of 10000 complete in 9.2 sec"
       ]
      },
      {
       "output_type": "stream",
       "stream": "stdout",
       "text": [
        "\r",
        " [-----------------75%--------          ] 7597 of 10000 complete in 9.7 sec"
       ]
      },
      {
       "output_type": "stream",
       "stream": "stdout",
       "text": [
        "\r",
        " [-----------------80%----------        ] 8062 of 10000 complete in 10.2 sec"
       ]
      },
      {
       "output_type": "stream",
       "stream": "stdout",
       "text": [
        "\r",
        " [-----------------85%------------      ] 8534 of 10000 complete in 10.7 sec"
       ]
      },
      {
       "output_type": "stream",
       "stream": "stdout",
       "text": [
        "\r",
        " [-----------------89%--------------    ] 8983 of 10000 complete in 11.2 sec"
       ]
      },
      {
       "output_type": "stream",
       "stream": "stdout",
       "text": [
        "\r",
        " [-----------------94%---------------   ] 9445 of 10000 complete in 11.7 sec"
       ]
      },
      {
       "output_type": "stream",
       "stream": "stdout",
       "text": [
        "\r",
        " [-----------------99%----------------- ] 9912 of 10000 complete in 12.2 sec"
       ]
      },
      {
       "output_type": "stream",
       "stream": "stdout",
       "text": [
        "\r",
        " [-----------------100%-----------------] 10000 of 10000 complete in 12.3 sec"
       ]
      }
     ],
     "prompt_number": 27
    },
    {
     "cell_type": "code",
     "collapsed": false,
     "input": [
      "figsize(12.5, 4)\n",
      "plt.title(\"Posterior distribution of sal_avg\")\n",
      "plt.hist(mcmc.trace(\"sal_avg\")[:], bins=20, histtype=\"stepfilled\", normed=True)\n",
      "plt.legend()\n",
      "plt.xlim((1800, 2200))\n",
      "print (mcmc.trace(\"sal_avg\")[:].mean())"
     ],
     "language": "python",
     "metadata": {},
     "outputs": [
      {
       "output_type": "stream",
       "stream": "stdout",
       "text": [
        "1897.64469608\n"
       ]
      },
      {
       "metadata": {},
       "output_type": "display_data",
       "png": "[encoded data removed]",
       "text": [
        "<matplotlib.figure.Figure at 0x18d4ae48>"
       ]
      }
     ],
     "prompt_number": 28
    },
    {
     "cell_type": "code",
     "collapsed": false,
     "input": [
      "figsize(12.5, 4)\n",
      "plt.title(\"Posterior distribution of bonus_percent\")\n",
      "plt.hist(mcmc.trace(\"bonus_percent\")[:], bins=40, histtype=\"stepfilled\", normed=True)\n",
      "plt.legend()\n",
      "print (mcmc.trace(\"bonus_percent\")[:].mean())"
     ],
     "language": "python",
     "metadata": {},
     "outputs": [
      {
       "output_type": "stream",
       "stream": "stdout",
       "text": [
        "1.02690289463\n"
       ]
      },
      {
       "metadata": {},
       "output_type": "display_data",
       "png": "[encoded data removed]",
       "text": [
        "<matplotlib.figure.Figure at 0x185fe438>"
       ]
      }
     ],
     "prompt_number": 29
    },
    {
     "cell_type": "code",
     "collapsed": false,
     "input": [
      "figsize(12.5, 4)\n",
      "plt.title(\"Posterior distribution of bonus_month\")\n",
      "plt.hist(mcmc.trace(\"bonus_month\")[:], bins=10, histtype=\"stepfilled\", normed=True)\n",
      "plt.legend()\n",
      "plt.xlim((0, 11))\n",
      "print (mcmc.trace(\"bonus_month\")[:].mean())"
     ],
     "language": "python",
     "metadata": {},
     "outputs": [
      {
       "output_type": "stream",
       "stream": "stdout",
       "text": [
        "3.0\n"
       ]
      },
      {
       "metadata": {},
       "output_type": "display_data",
       "png": "[encoded data removed]",
       "text": [
        "<matplotlib.figure.Figure at 0x16db0630>"
       ]
      }
     ],
     "prompt_number": 30
    },
    {
     "cell_type": "code",
     "collapsed": false,
     "input": [
      "figsize(12.5, 4)\n",
      "plt.title(\"Posterior distribution of bonus3_month\")\n",
      "plt.hist(mcmc.trace(\"bonus3_month\")[:], bins=10, histtype=\"stepfilled\", normed=True)\n",
      "plt.legend()\n",
      "plt.xlim((0, 11))\n",
      "print (mcmc.trace(\"bonus3_month\")[:].mean())"
     ],
     "language": "python",
     "metadata": {},
     "outputs": [
      {
       "output_type": "stream",
       "stream": "stdout",
       "text": [
        "0.0\n"
       ]
      },
      {
       "metadata": {},
       "output_type": "display_data",
       "png": "[encoded data removed]",
       "text": [
        "<matplotlib.figure.Figure at 0x3630d30>"
       ]
      }
     ],
     "prompt_number": 31
    },
    {
     "cell_type": "code",
     "collapsed": false,
     "input": [],
     "language": "python",
     "metadata": {},
     "outputs": [],
     "prompt_number": 17
    }
   ],
   "metadata": {}
  }
 ]
}