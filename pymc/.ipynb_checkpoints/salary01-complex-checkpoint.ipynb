{
 "cells": [
  {
   "cell_type": "code",
   "execution_count": 1,
   "metadata": {
    "collapsed": false
   },
   "outputs": [],
   "source": [
    "%matplotlib inline\n",
    "import numpy as np\n",
    "from IPython.core.pylabtools import figsize\n",
    "import matplotlib.pyplot as plt\n",
    "import scipy.stats as stats\n",
    "import pymc as pm\n"
   ]
  },
  {
   "cell_type": "markdown",
   "metadata": {},
   "source": [
    "D'abord avec un seul salaire en fixe"
   ]
  },
  {
   "cell_type": "code",
   "execution_count": 2,
   "metadata": {
    "collapsed": false
   },
   "outputs": [
    {
     "name": "stdout",
     "output_type": "stream",
     "text": [
      "[16 24 21 16 22 19 26 22 22 17 24 22 18 22 27 24 17 21 15 18 18 22 16 23]\n",
      "[ 1894.53882793  1895.24140832  1915.52586     1888.67414769  1916.03690936\n",
      "  1884.32395592  1897.0782504   1900.64979312  1900.7885308   1882.1776242\n",
      "  1906.4480244   1894.73118237  1901.43950981  1907.71971188  1892.82080658\n",
      "  1890.7861812   1919.79592357  1900.29688039  1900.488422    1892.90213345\n",
      "  1902.16858941  1898.02476269  1901.8214332   1891.02383496]\n",
      "1898.97927932\n"
     ]
    }
   ],
   "source": [
    "sample_length = 24\n",
    "days = (stats.norm.rvs(size=sample_length)*4 + 20).astype(int)\n",
    "print days\n",
    "true_sal_avg = 1900\n",
    "amounts = (stats.norm.rvs(size=sample_length)*10 + true_sal_avg)\n",
    "print amounts\n",
    "print amounts.mean()"
   ]
  },
  {
   "cell_type": "code",
   "execution_count": 3,
   "metadata": {
    "collapsed": false
   },
   "outputs": [
    {
     "name": "stdout",
     "output_type": "stream",
     "text": [
      " [-----------------100%-----------------] 10000 of 10000 complete in 0.8 sec"
     ]
    }
   ],
   "source": [
    "sal_avg = pm.Normal(\"sal_avg\", mu = 2500., tau = 1e-6)\n",
    "sal_sigma = pm.Uniform(\"sal_sigma\", 0, 100)\n",
    "salary = pm.Normal(\"salary\", mu = sal_avg, tau = 1/sal_sigma**2, value = amounts, observed = True, size = sample_length)\n",
    "\n",
    "mcmc = pm.MCMC([sal_avg, sal_sigma, salary])\n",
    "mcmc.sample(10000,1000)"
   ]
  },
  {
   "cell_type": "code",
   "execution_count": 4,
   "metadata": {
    "collapsed": false
   },
   "outputs": [
    {
     "name": "stdout",
     "output_type": "stream",
     "text": [
      "1898.87250454\n"
     ]
    },
    {
     "name": "stderr",
     "output_type": "stream",
     "text": [
      "/home/yannick/bin/anaconda3/envs/py27/lib/python2.7/site-packages/matplotlib/axes/_axes.py:475: UserWarning: No labelled objects found. Use label='...' kwarg on individual plots.\n",
      "  warnings.warn(\"No labelled objects found. \"\n"
     ]
    },
    {
     "data": {
      "image/png": "[encoded data removed]",
      "text/plain": [
       "<matplotlib.figure.Figure at 0x7fd79f467310>"
      ]
     },
     "metadata": {},
     "output_type": "display_data"
    }
   ],
   "source": [
    "figsize(12.5, 4)\n",
    "plt.title(\"Posterior distribution of sal_avg\")\n",
    "plt.hist(mcmc.trace(\"sal_avg\")[:], bins=20, histtype=\"stepfilled\", normed=True)\n",
    "plt.legend()\n",
    "plt.xlim((1800, 2000))\n",
    "print (mcmc.trace(\"sal_avg\")[:].mean())"
   ]
  },
  {
   "cell_type": "code",
   "execution_count": 5,
   "metadata": {
    "collapsed": false
   },
   "outputs": [
    {
     "name": "stdout",
     "output_type": "stream",
     "text": [
      "9.82371512663\n"
     ]
    },
    {
     "data": {
      "image/png": "[encoded data removed]",
      "text/plain": [
       "<matplotlib.figure.Figure at 0x7fd79f1fd1d0>"
      ]
     },
     "metadata": {},
     "output_type": "display_data"
    }
   ],
   "source": [
    "\n",
    "plt.title(\"Posterior distribution of sal_sigma\")\n",
    "plt.hist(mcmc.trace(\"sal_sigma\")[:], bins=20, histtype=\"stepfilled\", normed=True)\n",
    "plt.legend()\n",
    "print (mcmc.trace(\"sal_sigma\")[:].mean())"
   ]
  },
  {
   "cell_type": "code",
   "execution_count": null,
   "metadata": {
    "collapsed": false
   },
   "outputs": [],
   "source": []
  },
  {
   "cell_type": "markdown",
   "metadata": {},
   "source": [
    "On ajoute un variable, 1 fois tous les douze mois, plus un tous les 3 mois"
   ]
  },
  {
   "cell_type": "code",
   "execution_count": 6,
   "metadata": {
    "collapsed": false
   },
   "outputs": [
    {
     "name": "stdout",
     "output_type": "stream",
     "text": [
      "[ 2394.53882793  1895.24140832  1915.52586     4388.67414769  1916.03690936\n",
      "  1884.32395592  2397.0782504   1900.64979312  1900.7885308   2382.1776242\n",
      "  1906.4480244   1894.73118237  2401.43950981  1907.71971188  1892.82080658\n",
      "  4290.7861812   1919.79592357  1900.29688039  2400.488422    1892.90213345\n",
      "  1902.16858941  2398.02476269  1901.8214332   1891.02383496]\n"
     ]
    }
   ],
   "source": [
    "sample_with_bonus = amounts.copy()\n",
    "sample_with_bonus[3] += 2000\n",
    "sample_with_bonus[15] += 1900\n",
    "for i in range(len(amounts)):\n",
    "    sample_with_bonus[i] += 500 * (i%3 == 0)\n",
    "print sample_with_bonus"
   ]
  },
  {
   "cell_type": "code",
   "execution_count": 7,
   "metadata": {
    "collapsed": false
   },
   "outputs": [
    {
     "name": "stdout",
     "output_type": "stream",
     "text": [
      "6 8\n",
      "bonus object bonus_month [0.0, 1.5788393257283557, 0.0, 1.6400499039013496, 1.5788393257283557, 0.0, 0.0, 1.5788393257283557, 1.7205470839403509, 1.6400499039013496, 1.5788393257283557, 0.0, 0.0, 1.5788393257283557, 0.0, 1.6400499039013496, 1.5788393257283557, 0.0, 0.0, 1.5788393257283557, 1.7205470839403509, 1.6400499039013496, 1.5788393257283557, 0.0]\n",
      "[ 3513.8038728   9048.82669089  3503.97957801  9265.32531312  9063.24388305\n",
      "  3501.80218743  3488.57006455  9052.49412973  9536.05800972  9261.46627019\n",
      "  9051.99791181  3519.90325672  3497.59484803  9066.32108371  3504.42946907\n",
      "  9252.07739179  9052.1294599   3503.44857058  3506.34767378  9071.92724437\n",
      "  9543.7951837   9269.55206427  9071.53319606  3543.4291946 ]\n",
      " [-----------------100%-----------------] 10000 of 10000 complete in 9.7 sec"
     ]
    }
   ],
   "source": [
    "bonus_month = pm.DiscreteUniform(\"bonus_month\", lower = 0, upper = 11)\n",
    "print bonus_month.random(), bonus_month.random()\n",
    "bonus_percent = pm.Uniform(\"bonus_percent\", lower = 0., upper = 3.)\n",
    "bonus3_month = pm.DiscreteUniform(\"bonus3_month\", lower = 0, upper = 2)\n",
    "bonus3_percent = pm.Uniform(\"bonus3_percent\", lower = 0., upper = 2.)\n",
    "bonus6_month = pm.DiscreteUniform(\"bonus6_month\", lower=0, upper=5)\n",
    "bonus6_percent = pm.Uniform(\"bonus6_percent\", lower=0., upper=2.)\n",
    "sal_avg = pm.Normal(\"sal_avg\", mu = 2500., tau = 1e-6)\n",
    "sal_sigma = pm.Uniform(\"sal_sigma\", 0, 20)\n",
    "\n",
    "@pm.deterministic\n",
    "def bonus (bonus_percent = bonus_percent, sample_length = sample_length, bonus_month = bonus_month, \n",
    "           bonus3_percent = bonus3_percent, bonus3_month = bonus3_month,\n",
    "           bonus6_percent = bonus6_percent, bonus6_month = bonus6_month):\n",
    "    return [((month % 12) == bonus_month) * bonus_percent + ((month % 3) == bonus3_month) * bonus3_percent + \\\n",
    "            ((month % 6) == bonus6_month) * bonus6_percent\n",
    "            for month in np.arange(sample_length)]\n",
    "\n",
    "print bonus, bonus.dtype, bonus_month, bonus.value\n",
    "\n",
    "total_salary = pm.Normal(\"total_salary\", mu = sal_avg * (np.array([1.] * sample_length) + bonus), tau = 1/sal_sigma**2,\n",
    "                         value = sample_with_bonus, observed = True)\n",
    "\n",
    "print total_salary.random()\n",
    "\n",
    "mcmc = pm.MCMC([bonus_month, bonus_percent, sal_avg, sal_sigma, total_salary, bonus3_month, bonus3_percent, bonus6_percent, bonus6_month])\n",
    "mcmc.sample(10000,1000)"
   ]
  },
  {
   "cell_type": "code",
   "execution_count": 8,
   "metadata": {
    "collapsed": false
   },
   "outputs": [
    {
     "name": "stdout",
     "output_type": "stream",
     "text": [
      "1900.37128791\n"
     ]
    },
    {
     "data": {
      "image/png": "[encoded data removed]",
      "text/plain": [
       "<matplotlib.figure.Figure at 0x7fd79f1d0e90>"
      ]
     },
     "metadata": {},
     "output_type": "display_data"
    }
   ],
   "source": [
    "figsize(12.5, 4)\n",
    "plt.title(\"Posterior distribution of sal_avg\")\n",
    "plt.hist(mcmc.trace(\"sal_avg\")[:], bins=20, histtype=\"stepfilled\", normed=True)\n",
    "plt.legend()\n",
    "plt.xlim((1800, 2200))\n",
    "print (mcmc.trace(\"sal_avg\")[:].mean())"
   ]
  },
  {
   "cell_type": "code",
   "execution_count": 9,
   "metadata": {
    "collapsed": false
   },
   "outputs": [
    {
     "name": "stdout",
     "output_type": "stream",
     "text": [
      "1.0242166551\n"
     ]
    },
    {
     "data": {
      "image/png": "[encoded data removed]",
      "text/plain": [
       "<matplotlib.figure.Figure at 0x7fd79efd6e50>"
      ]
     },
     "metadata": {},
     "output_type": "display_data"
    }
   ],
   "source": [
    "figsize(12.5, 4)\n",
    "plt.title(\"Posterior distribution of bonus_percent\")\n",
    "plt.hist(mcmc.trace(\"bonus_percent\")[:], bins=40, histtype=\"stepfilled\", normed=True)\n",
    "plt.legend()\n",
    "print (mcmc.trace(\"bonus_percent\")[:].mean())"
   ]
  },
  {
   "cell_type": "code",
   "execution_count": 10,
   "metadata": {
    "collapsed": false
   },
   "outputs": [
    {
     "name": "stdout",
     "output_type": "stream",
     "text": [
      "3.0\n"
     ]
    },
    {
     "data": {
      "image/png": "[encoded data removed]",
      "text/plain": [
       "<matplotlib.figure.Figure at 0x7fd79ef89d10>"
      ]
     },
     "metadata": {},
     "output_type": "display_data"
    }
   ],
   "source": [
    "figsize(12.5, 4)\n",
    "plt.title(\"Posterior distribution of bonus_month\")\n",
    "plt.hist(mcmc.trace(\"bonus_month\")[:], bins=10, histtype=\"stepfilled\", normed=True)\n",
    "plt.legend()\n",
    "plt.xlim((0, 11))\n",
    "print (mcmc.trace(\"bonus_month\")[:].mean())"
   ]
  },
  {
   "cell_type": "code",
   "execution_count": 11,
   "metadata": {
    "collapsed": false
   },
   "outputs": [
    {
     "name": "stdout",
     "output_type": "stream",
     "text": [
      "0.0\n"
     ]
    },
    {
     "data": {
      "image/png": "[encoded data removed]",
      "text/plain": [
       "<matplotlib.figure.Figure at 0x7fd79ee98810>"
      ]
     },
     "metadata": {},
     "output_type": "display_data"
    }
   ],
   "source": [
    "figsize(12.5, 4)\n",
    "plt.title(\"Posterior distribution of bonus3_month\")\n",
    "plt.hist(mcmc.trace(\"bonus3_month\")[:], bins=10, histtype=\"stepfilled\", normed=True)\n",
    "plt.legend()\n",
    "plt.xlim((0, 11))\n",
    "print (mcmc.trace(\"bonus3_month\")[:].mean())"
   ]
  },
  {
   "cell_type": "code",
   "execution_count": null,
   "metadata": {
    "collapsed": false
   },
   "outputs": [],
   "source": []
  }
 ],
 "metadata": {
  "kernelspec": {
   "display_name": "Python 2",
   "language": "python",
   "name": "python2"
  },
  "language_info": {
   "codemirror_mode": {
    "name": "ipython",
    "version": 2
   },
   "file_extension": ".py",
   "mimetype": "text/x-python",
   "name": "python",
   "nbconvert_exporter": "python",
   "pygments_lexer": "ipython2",
   "version": "2.7.9"
  }
 },
 "nbformat": 4,
 "nbformat_minor": 0
}
