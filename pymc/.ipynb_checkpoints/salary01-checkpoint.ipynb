{
 "metadata": {
  "name": "",
  "signature": "sha256:8f8fcf968537c7837bac4548b6af5fd42fa73d4a1be12bb6a5b4d40ba6c02657"
 },
 "nbformat": 3,
 "nbformat_minor": 0,
 "worksheets": [
  {
   "cells": [
    {
     "cell_type": "code",
     "collapsed": false,
     "input": [
      "%matplotlib inline\n",
      "import numpy as np\n",
      "from IPython.core.pylabtools import figsize\n",
      "import matplotlib.pyplot as plt\n",
      "import scipy.stats as stats\n",
      "import pymc as pm\n"
     ],
     "language": "python",
     "metadata": {},
     "outputs": [],
     "prompt_number": 1
    },
    {
     "cell_type": "code",
     "collapsed": false,
     "input": [
      "sample_length = 24\n",
      "days = (stats.norm.rvs(size=sample_length)*4 + 20).astype(int)\n",
      "print days\n",
      "true_sal_avg = 1900\n",
      "amounts = (stats.norm.rvs(size=sample_length)*10 + true_sal_avg)\n",
      "print amounts\n",
      "print amounts.mean()"
     ],
     "language": "python",
     "metadata": {},
     "outputs": [
      {
       "output_type": "stream",
       "stream": "stdout",
       "text": [
        "[21 29 27 24 20 19 23 22 22 12 20 23 25 11 18 18 14 15 15 22 14 17 20 27]\n",
        "[ 1902.78520466  1892.21753753  1896.97676198  1906.48332575  1885.55296301\n",
        "  1886.54734412  1893.97115165  1896.92753714  1909.44920136  1911.59882986\n",
        "  1907.58514377  1909.79798249  1884.99625492  1905.93182939  1894.64232463\n",
        "  1915.38787202  1916.09432704  1893.88295789  1898.01100507  1895.36520309\n",
        "  1901.50381578  1912.38504063  1904.01988166  1903.63721435]\n",
        "1901.07294624\n"
       ]
      }
     ],
     "prompt_number": 74
    },
    {
     "cell_type": "code",
     "collapsed": false,
     "input": [
      "sal_avg = pm.Normal(\"sal_avg\", mu = 2500., tau = 1e-6)\n",
      "sal_sigma = pm.Uniform(\"sal_sigma\", 0, 1000)\n",
      "salary = pm.Normal(\"salary\", mu = sal_avg, tau = 1/sal_sigma**2, value = amounts, observed = True)\n",
      "\n",
      "mcmc = pm.MCMC([sal_avg, sal_sigma, salary])\n",
      "mcmc.sample(10000,1000)"
     ],
     "language": "python",
     "metadata": {},
     "outputs": [
      {
       "output_type": "stream",
       "stream": "stdout",
       "text": [
        "\r",
        " [-----------------46%                  ] 4603 of 10000 complete in 0.5 sec"
       ]
      },
      {
       "output_type": "stream",
       "stream": "stdout",
       "text": [
        "\r",
        " [-----------------100%-----------------] 10000 of 10000 complete in 0.9 sec"
       ]
      }
     ],
     "prompt_number": 78
    },
    {
     "cell_type": "code",
     "collapsed": false,
     "input": [
      "figsize(12.5, 4)\n",
      "plt.title(\"Posterior distribution of sal_avg\")\n",
      "plt.hist(mcmc.trace(\"sal_avg\")[:], bins=20, histtype=\"stepfilled\", normed=True)\n",
      "plt.legend()\n",
      "plt.xlim((1800, 2000))\n",
      "print (mcmc.trace(\"sal_avg\")[:].mean())"
     ],
     "language": "python",
     "metadata": {},
     "outputs": [
      {
       "output_type": "stream",
       "stream": "stdout",
       "text": [
        "1900.84339745\n"
       ]
      },
      {
       "metadata": {},
       "output_type": "display_data",
       "png": "[encoded data removed]",
       "text": [
        "<matplotlib.figure.Figure at 0x172c7908>"
       ]
      }
     ],
     "prompt_number": 79
    },
    {
     "cell_type": "code",
     "collapsed": false,
     "input": [
      "\n",
      "plt.title(\"Posterior distribution of sal_sigma\")\n",
      "plt.hist(mcmc.trace(\"sal_sigma\")[:], bins=20, histtype=\"stepfilled\", normed=True)\n",
      "plt.legend()\n",
      "print (mcmc.trace(\"sal_sigma\")[:].mean())"
     ],
     "language": "python",
     "metadata": {},
     "outputs": [
      {
       "output_type": "stream",
       "stream": "stdout",
       "text": [
        "10.067158375\n"
       ]
      },
      {
       "metadata": {},
       "output_type": "display_data",
       "png": "[encoded data removed]",
       "text": [
        "<matplotlib.figure.Figure at 0x1725d3c8>"
       ]
      }
     ],
     "prompt_number": 80
    }
   ],
   "metadata": {}
  }
 ]
}