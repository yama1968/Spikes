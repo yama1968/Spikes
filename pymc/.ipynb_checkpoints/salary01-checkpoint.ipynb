{
 "metadata": {
  "name": "",
  "signature": "sha256:d450da14788efcf36c364f48633ab6a1a8b9b3dfa1b2fc04549c5ac1c85e3cb0"
 },
 "nbformat": 3,
 "nbformat_minor": 0,
 "worksheets": [
  {
   "cells": [
    {
     "cell_type": "code",
     "collapsed": false,
     "input": [
      "%matplotlib inline\n",
      "import numpy as np\n",
      "from IPython.core.pylabtools import figsize\n",
      "import matplotlib.pyplot as plt\n",
      "import scipy.stats as stats\n",
      "import pymc as pm\n"
     ],
     "language": "python",
     "metadata": {},
     "outputs": [],
     "prompt_number": 1
    },
    {
     "cell_type": "markdown",
     "metadata": {},
     "source": [
      "D'abord avec un seul salaire en fixe"
     ]
    },
    {
     "cell_type": "code",
     "collapsed": false,
     "input": [
      "sample_length = 24\n",
      "days = (stats.norm.rvs(size=sample_length)*4 + 20).astype(int)\n",
      "print days\n",
      "true_sal_avg = 1900\n",
      "amounts = (stats.norm.rvs(size=sample_length)*10 + true_sal_avg)\n",
      "print amounts\n",
      "print amounts.mean()"
     ],
     "language": "python",
     "metadata": {},
     "outputs": [
      {
       "output_type": "stream",
       "stream": "stdout",
       "text": [
        "[21 29 27 24 20 19 23 22 22 12 20 23 25 11 18 18 14 15 15 22 14 17 20 27]\n",
        "[ 1902.78520466  1892.21753753  1896.97676198  1906.48332575  1885.55296301\n",
        "  1886.54734412  1893.97115165  1896.92753714  1909.44920136  1911.59882986\n",
        "  1907.58514377  1909.79798249  1884.99625492  1905.93182939  1894.64232463\n",
        "  1915.38787202  1916.09432704  1893.88295789  1898.01100507  1895.36520309\n",
        "  1901.50381578  1912.38504063  1904.01988166  1903.63721435]\n",
        "1901.07294624\n"
       ]
      }
     ],
     "prompt_number": 74
    },
    {
     "cell_type": "code",
     "collapsed": false,
     "input": [
      "sal_avg = pm.Normal(\"sal_avg\", mu = 2500., tau = 1e-6)\n",
      "sal_sigma = pm.Uniform(\"sal_sigma\", 0, 100)\n",
      "salary = pm.Normal(\"salary\", mu = sal_avg, tau = 1/sal_sigma**2, value = amounts, observed = True, size = sample_length)\n",
      "\n",
      "mcmc = pm.MCMC([sal_avg, sal_sigma, salary])\n",
      "mcmc.sample(10000,1000)"
     ],
     "language": "python",
     "metadata": {},
     "outputs": [
      {
       "output_type": "stream",
       "stream": "stdout",
       "text": [
        "\r",
        " [-----------------45%                  ] 4513 of 10000 complete in 0.5 sec"
       ]
      },
      {
       "output_type": "stream",
       "stream": "stdout",
       "text": [
        "\r",
        " [-----------------100%-----------------] 10000 of 10000 complete in 0.9 sec"
       ]
      }
     ],
     "prompt_number": 84
    },
    {
     "cell_type": "code",
     "collapsed": false,
     "input": [
      "figsize(12.5, 4)\n",
      "plt.title(\"Posterior distribution of sal_avg\")\n",
      "plt.hist(mcmc.trace(\"sal_avg\")[:], bins=20, histtype=\"stepfilled\", normed=True)\n",
      "plt.legend()\n",
      "plt.xlim((1800, 2000))\n",
      "print (mcmc.trace(\"sal_avg\")[:].mean())"
     ],
     "language": "python",
     "metadata": {},
     "outputs": [
      {
       "output_type": "stream",
       "stream": "stdout",
       "text": [
        "1900.98270191\n"
       ]
      },
      {
       "metadata": {},
       "output_type": "display_data",
       "png": "[encoded data removed]",
       "text": [
        "<matplotlib.figure.Figure at 0x174e6860>"
       ]
      }
     ],
     "prompt_number": 85
    },
    {
     "cell_type": "code",
     "collapsed": false,
     "input": [
      "\n",
      "plt.title(\"Posterior distribution of sal_sigma\")\n",
      "plt.hist(mcmc.trace(\"sal_sigma\")[:], bins=20, histtype=\"stepfilled\", normed=True)\n",
      "plt.legend()\n",
      "print (mcmc.trace(\"sal_sigma\")[:].mean())"
     ],
     "language": "python",
     "metadata": {},
     "outputs": [
      {
       "output_type": "stream",
       "stream": "stdout",
       "text": [
        "9.22810481658\n"
       ]
      },
      {
       "metadata": {},
       "output_type": "display_data",
       "png": "[encoded data removed]",
       "text": [
        "<matplotlib.figure.Figure at 0x172561d0>"
       ]
      }
     ],
     "prompt_number": 98
    },
    {
     "cell_type": "code",
     "collapsed": false,
     "input": [],
     "language": "python",
     "metadata": {},
     "outputs": []
    },
    {
     "cell_type": "markdown",
     "metadata": {},
     "source": [
      "On ajoute un variable, 1 fois tous les douze mois"
     ]
    },
    {
     "cell_type": "code",
     "collapsed": false,
     "input": [
      "sample_with_bonus = amounts.copy()\n",
      "sample_with_bonus[3] += 4000\n",
      "sample_with_bonus[15] += 3900\n",
      "print sample_with_bonus"
     ],
     "language": "python",
     "metadata": {},
     "outputs": [
      {
       "output_type": "stream",
       "stream": "stdout",
       "text": [
        "[ 1902.78520466  1892.21753753  1896.97676198  5906.48332575  1885.55296301\n",
        "  1886.54734412  1893.97115165  1896.92753714  1909.44920136  1911.59882986\n",
        "  1907.58514377  1909.79798249  1884.99625492  1905.93182939  1894.64232463\n",
        "  5815.38787202  1916.09432704  1893.88295789  1898.01100507  1895.36520309\n",
        "  1901.50381578  1912.38504063  1904.01988166  1903.63721435]\n"
       ]
      }
     ],
     "prompt_number": 162
    },
    {
     "cell_type": "code",
     "collapsed": false,
     "input": [
      "bonus_month = pm.DiscreteUniform(\"bonus_month\", lower = 0, upper = 11)\n",
      "print bonus_month.random(), bonus_month.random()\n",
      "bonus_percent = pm.Uniform(\"bonus_percent\", lower = 0.3, upper = 2.)\n",
      "sal_avg = pm.Normal(\"sal_avg\", mu = 2500., tau = 1e-6)\n",
      "sal_sigma = pm.Uniform(\"sal_sigma\", 0, 20)\n",
      "\n",
      "@pm.deterministic\n",
      "def bonus (bonus_percent = bonus_percent, sample_length = sample_length, bonus_month = bonus_month):\n",
      "    return [((month % 12) == bonus_month) * bonus_percent for month in np.arange(sample_length)]\n",
      "\n",
      "print bonus, bonus.dtype, bonus_month, bonus.value\n",
      "\n",
      "total_salary = pm.Normal(\"total_salary\", mu = sal_avg * (np.array([1.] * sample_length) + bonus), tau = 1/sal_sigma**2,\n",
      "                         value = sample_with_bonus, observed = True)\n",
      "\n",
      "print total_salary.random()\n",
      "\n",
      "mcmc = pm.MCMC([bonus_month, bonus_percent, sal_avg, sal_sigma, total_salary])\n",
      "mcmc.sample(10000,1000)"
     ],
     "language": "python",
     "metadata": {},
     "outputs": [
      {
       "output_type": "stream",
       "stream": "stdout",
       "text": [
        "0 8\n",
        "bonus object bonus_month [0.0, 0.0, 0.0, 0.0, 0.0, 0.0, 0.0, 0.0, 0.98704430753333994, 0.0, 0.0, 0.0, 0.0, 0.0, 0.0, 0.0, 0.0, 0.0, 0.0, 0.0, 0.98704430753333994, 0.0, 0.0, 0.0]\n",
        "[ 1238.7489411   1245.19414556  1241.57901765  1238.44855452  1245.08110157\n",
        "  1244.23050338  1247.16301952  1240.4105561   2468.73257173  1246.00078236\n",
        "  1246.49975407  1239.50948171  1240.76643584  1244.98644621  1247.03088687\n",
        "  1244.18986795  1243.90043369  1244.02829444  1243.72497566  1244.12316981\n",
        "  2469.14572724  1242.28026959  1241.8377225   1244.39096661]\n",
        "\r"
       ]
      },
      {
       "output_type": "stream",
       "stream": "stdout",
       "text": [
        " [----             12%                  ] 1281 of 10000 complete in 0.5 sec"
       ]
      },
      {
       "output_type": "stream",
       "stream": "stdout",
       "text": [
        "\r",
        " [-----------      29%                  ] 2956 of 10000 complete in 1.0 sec"
       ]
      },
      {
       "output_type": "stream",
       "stream": "stdout",
       "text": [
        "\r",
        " [-----------------47%                  ] 4744 of 10000 complete in 1.5 sec"
       ]
      },
      {
       "output_type": "stream",
       "stream": "stdout",
       "text": [
        "\r",
        " [-----------------64%----              ] 6494 of 10000 complete in 2.0 sec"
       ]
      },
      {
       "output_type": "stream",
       "stream": "stdout",
       "text": [
        "\r",
        " [-----------------82%-----------       ] 8224 of 10000 complete in 2.6 sec"
       ]
      },
      {
       "output_type": "stream",
       "stream": "stdout",
       "text": [
        "\r",
        " [-----------------99%----------------- ] 9904 of 10000 complete in 3.1 sec"
       ]
      },
      {
       "output_type": "stream",
       "stream": "stdout",
       "text": [
        "\r",
        " [-----------------100%-----------------] 10000 of 10000 complete in 3.1 sec"
       ]
      }
     ],
     "prompt_number": 175
    },
    {
     "cell_type": "code",
     "collapsed": false,
     "input": [
      "figsize(12.5, 4)\n",
      "plt.title(\"Posterior distribution of sal_avg\")\n",
      "plt.hist(mcmc.trace(\"sal_avg\")[:], bins=20, histtype=\"stepfilled\", normed=True)\n",
      "plt.legend()\n",
      "plt.xlim((1800, 2400))\n",
      "print (mcmc.trace(\"sal_avg\")[:].mean())"
     ],
     "language": "python",
     "metadata": {},
     "outputs": [
      {
       "output_type": "stream",
       "stream": "stdout",
       "text": [
        "1924.74980228\n"
       ]
      },
      {
       "metadata": {},
       "output_type": "display_data",
       "png": "[encoded data removed]",
       "text": [
        "<matplotlib.figure.Figure at 0x18155cc0>"
       ]
      }
     ],
     "prompt_number": 176
    },
    {
     "cell_type": "code",
     "collapsed": false,
     "input": [
      "figsize(12.5, 4)\n",
      "plt.title(\"Posterior distribution of bonus_percent\")\n",
      "plt.hist(mcmc.trace(\"bonus_percent\")[:], bins=20, histtype=\"stepfilled\", normed=True)\n",
      "plt.legend()\n",
      "print (mcmc.trace(\"bonus_percent\")[:].mean())"
     ],
     "language": "python",
     "metadata": {},
     "outputs": [
      {
       "output_type": "stream",
       "stream": "stdout",
       "text": [
        "1.99915114467\n"
       ]
      },
      {
       "metadata": {},
       "output_type": "display_data",
       "png": "[encoded data removed]",
       "text": [
        "<matplotlib.figure.Figure at 0x181a8cf8>"
       ]
      }
     ],
     "prompt_number": 177
    },
    {
     "cell_type": "code",
     "collapsed": false,
     "input": [
      "figsize(12.5, 4)\n",
      "plt.title(\"Posterior distribution of bonus_month\")\n",
      "plt.hist(mcmc.trace(\"bonus_month\")[:], bins=1, histtype=\"stepfilled\", normed=True)\n",
      "plt.legend()\n",
      "plt.xlim((0, 11))\n",
      "print (mcmc.trace(\"bonus_month\")[:].mean())"
     ],
     "language": "python",
     "metadata": {},
     "outputs": [
      {
       "output_type": "stream",
       "stream": "stdout",
       "text": [
        "3.0\n"
       ]
      },
      {
       "metadata": {},
       "output_type": "display_data",
       "png": "[encoded data removed]",
       "text": [
        "<matplotlib.figure.Figure at 0x181ea080>"
       ]
      }
     ],
     "prompt_number": 179
    },
    {
     "cell_type": "code",
     "collapsed": false,
     "input": [
      "print [(3 == i) * 10. for i in np.arange(10)]"
     ],
     "language": "python",
     "metadata": {},
     "outputs": [
      {
       "output_type": "stream",
       "stream": "stdout",
       "text": [
        "[0.0, 0.0, 0.0, 10.0, 0.0, 0.0, 0.0, 0.0, 0.0, 0.0]\n"
       ]
      }
     ],
     "prompt_number": 131
    }
   ],
   "metadata": {}
  }
 ]
}