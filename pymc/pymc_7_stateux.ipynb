{
 "cells": [
  {
   "cell_type": "code",
   "execution_count": 76,
   "metadata": {
    "collapsed": false
   },
   "outputs": [],
   "source": [
    "%matplotlib inline\n",
    "import numpy as np\n",
    "from IPython.core.pylabtools import figsize\n",
    "import matplotlib.pyplot as plt\n",
    "import scipy.stats as stats\n",
    "import pymc as pm"
   ]
  },
  {
   "cell_type": "code",
   "execution_count": 77,
   "metadata": {
    "collapsed": false
   },
   "outputs": [
    {
     "name": "stdout",
     "output_type": "stream",
     "text": [
      "7 10\n",
      "[  58.60710405  160.91150658    6.78582053    0.25291889   82.72399412\n",
      "  153.22369369   36.91956871  122.48340296  196.63724461  151.67453201]\n",
      "[  7.76569061  14.94922078   1.25371123   0.73302383  32.06406267\n",
      "  27.28229235  18.55462465]\n",
      "[[  63.69566472  168.18066707   10.69723788   11.82766657   74.01354339\n",
      "   155.39171272   41.58053728  126.25031231  185.46841011  154.18521212]\n",
      " [  64.49296319  158.74850627   28.19899456   -6.05919715   73.17314261\n",
      "   144.5732007    21.44841628  121.05182035  202.53931536  142.85475864]\n",
      " [  54.82549733  160.57722483    8.47443401    0.48737143   85.64758092\n",
      "   154.69676277   37.51066236  122.99895429  198.4612789   151.51974293]\n",
      " [  58.5212463   161.17006505    7.26754393    1.87407005   80.98949923\n",
      "   152.37177658   36.85597967  121.87941362  197.03477771  151.62142468]\n",
      " [  63.90089716  168.64623685   54.41961249  -13.29997251   29.88159772\n",
      "   135.5507769    56.52737773  106.06101372  268.1528039   123.56094321]\n",
      " [  59.12534656  112.12645277   26.59367986  -28.30648128   23.86469696\n",
      "   149.22403631   17.74333048  118.38417165  189.54773636  127.0577967 ]\n",
      " [  55.13721817  162.29683966   -3.17806878  -19.55116026   61.57485569\n",
      "   130.78020498    3.48113107  119.11980044  252.7921323   149.41889296]]\n",
      "[59.956976205602523, 155.96371321469991, 18.924776277807773, -7.5753861647281013, 61.306416644899443, 146.08406728020719, 30.735347840339376, 119.39221233856529, 213.42806494683867, 142.88839589023817]\n"
     ]
    }
   ],
   "source": [
    "def gen_sample(n, mus, sigmas):\n",
    "    return np.array([mus + stats.norm.rvs(size = n, loc = 0, scale = sigmas[i]) for i in np.arange(len(sigmas)) ])\n",
    "\n",
    "def gen_mus_sigma(nb_stateux, nb_samples):\n",
    "    return (stats.uniform.rvs(size=nb_samples, loc=0, scale=200), stats.uniform.rvs(size=nb_stateux, loc=0, scale=40))\n",
    "\n",
    "nb_stateux = 7\n",
    "sample_length = 10\n",
    "\n",
    "(mus, sigma) = gen_mus_sigma(nb_stateux, sample_length)\n",
    "sample = gen_sample(sample_length, mus, sigma)\n",
    "print len(sample), len(sample[0])\n",
    "print mus\n",
    "print sigma\n",
    "print sample\n",
    "print [np.mean([sample[i, j] for i in np.arange(len(sigma))]) for j in np.arange(len(mus))]\n"
   ]
  },
  {
   "cell_type": "code",
   "execution_count": 78,
   "metadata": {
    "collapsed": false
   },
   "outputs": [
    {
     "name": "stdout",
     "output_type": "stream",
     "text": [
      "(7, 10)\n"
     ]
    }
   ],
   "source": [
    "v_mus = np.array([pm.Uniform(\"mu%d\" % i, lower=0, upper=200) for i in np.arange(sample_length)])\n",
    "v_sigma = [pm.Uniform(\"sigma%d\" % k, lower=0, upper=40) for k in np.arange(nb_stateux)]\n",
    "\n",
    "v_taus = [pm.Lambda(\"tau%d\" % k, lambda sigma=v_sigma[k]: 1/sigma**2) for k in np.arange(nb_stateux)]\n",
    "\n",
    "x = np.array([[pm.Normal(\"x%d_%d\" % (k,i), mu=v_mus[i], tau=v_taus[k], \n",
    "                         observed=True, value=np.array(sample[k,i])) for i in np.arange(sample_length)]\n",
    "              for k in np.arange(nb_stateux)])\n",
    "\n",
    "print x.shape"
   ]
  },
  {
   "cell_type": "code",
   "execution_count": 79,
   "metadata": {
    "collapsed": false
   },
   "outputs": [
    {
     "name": "stdout",
     "output_type": "stream",
     "text": [
      " [-----------------100%-----------------] 10000 of 10000 complete in 13.7 sec"
     ]
    }
   ],
   "source": [
    "mcmc = pm.MCMC([v_mus, v_sigmas, v_taus, x])\n",
    "mcmc.sample(10000)"
   ]
  },
  {
   "cell_type": "code",
   "execution_count": 84,
   "metadata": {
    "collapsed": false
   },
   "outputs": [
    {
     "name": "stdout",
     "output_type": "stream",
     "text": [
      "62.5237058837\n",
      "166.136942513\n",
      "12.634959567\n",
      "5.82797845324\n",
      "70.1913134149\n",
      "150.442608433\n",
      "36.5913566996\n",
      "123.242779744\n",
      "196.922878758\n",
      "150.456562699\n",
      "[62.523705883656348, 166.13694251269018, 12.634959567035049, 5.8279784532398313, 70.191313414858797, 150.44260843283371, 36.591356699634574, 123.24277974445582, 196.92287875786164, 150.4565626994341]\n"
     ]
    },
    {
     "data": {
      "image/png": "[encoded data removed]",
      "text/plain": [
       "<matplotlib.figure.Figure at 0x7fd698a59e90>"
      ]
     },
     "metadata": {},
     "output_type": "display_data"
    }
   ],
   "source": [
    "figsize(12.5, 4)\n",
    "plt.title(\"Posterior distribution of mus\")\n",
    "for i in np.arange(sample_length):\n",
    "    plt.hist(mcmc.trace(\"mu%d\" % i)[:], bins=50, histtype=\"stepfilled\", normed=True)\n",
    "    plt.legend()\n",
    "    plt.xlim((0,200))\n",
    "    print (mcmc.trace(\"mu%d\" % i)[:].mean())\n",
    "\n",
    "print [mcmc.trace(\"mu%d\" % j)[:].mean() for j in np.arange(sample_length)]"
   ]
  },
  {
   "cell_type": "code",
   "execution_count": 81,
   "metadata": {
    "collapsed": false
   },
   "outputs": [
    {
     "name": "stdout",
     "output_type": "stream",
     "text": [
      "[[1 2]\n",
      " [1 3]\n",
      " [1 4]]\n",
      "[10 20 30]\n",
      "[[11 12]\n",
      " [21 23]\n",
      " [31 34]]\n",
      "<type 'numpy.ndarray'> 3 (3, 2)\n"
     ]
    }
   ],
   "source": [
    "x = np.array([[1,2], [1,3], [1,4]])\n",
    "print x\n",
    "y = np.array([10, 20, 30])\n",
    "print y\n",
    "print x+y.reshape(len(y), 1)\n",
    "print type(x), len(x), x.shape"
   ]
  },
  {
   "cell_type": "code",
   "execution_count": null,
   "metadata": {
    "collapsed": true
   },
   "outputs": [],
   "source": []
  },
  {
   "cell_type": "code",
   "execution_count": null,
   "metadata": {
    "collapsed": true
   },
   "outputs": [],
   "source": []
  }
 ],
 "metadata": {
  "kernelspec": {
   "display_name": "Python 2",
   "language": "python",
   "name": "python2"
  },
  "language_info": {
   "codemirror_mode": {
    "name": "ipython",
    "version": 2
   },
   "file_extension": ".py",
   "mimetype": "text/x-python",
   "name": "python",
   "nbconvert_exporter": "python",
   "pygments_lexer": "ipython2",
   "version": "2.7.9"
  }
 },
 "nbformat": 4,
 "nbformat_minor": 0
}
