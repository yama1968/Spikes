{
 "cells": [
  {
   "cell_type": "code",
   "execution_count": 1,
   "metadata": {
    "collapsed": false
   },
   "outputs": [
    {
     "data": {
      "text/plain": [
       "<pyspark.sql.context.SQLContext at 0x7f37bc53b860>"
      ]
     },
     "execution_count": 1,
     "metadata": {},
     "output_type": "execute_result"
    }
   ],
   "source": [
    "from pyspark.sql import SQLContext\n",
    "sqlContext = SQLContext(sc)\n",
    "sqlContext"
   ]
  },
  {
   "cell_type": "code",
   "execution_count": 22,
   "metadata": {
    "collapsed": false
   },
   "outputs": [
    {
     "name": "stdout",
     "output_type": "stream",
     "text": [
      "16/03/26 09:45:43 INFO fs.TrashPolicyDefault: Namenode trash configuration: Deletion interval = 0 minutes, Emptier interval = 0 minutes.\r\n",
      "Deleted /user/cloudera/train.csv\r\n"
     ]
    }
   ],
   "source": [
    "! hdfs dfs -rm /user/cloudera/train.csv\n",
    "! tail -n +2 ./small3.train.csv | hdfs dfs -put - /user/cloudera/train.csv"
   ]
  },
  {
   "cell_type": "code",
   "execution_count": 23,
   "metadata": {
    "collapsed": false
   },
   "outputs": [
    {
     "data": {
      "text/plain": [
       "9999"
      ]
     },
     "execution_count": 23,
     "metadata": {},
     "output_type": "execute_result"
    }
   ],
   "source": [
    "file = sc.textFile(\"hdfs:/user/cloudera/train.csv\")\n",
    "file.count()"
   ]
  },
  {
   "cell_type": "code",
   "execution_count": 24,
   "metadata": {
    "collapsed": false
   },
   "outputs": [
    {
     "data": {
      "text/plain": [
       "PythonRDD[33] at RDD at PythonRDD.scala:43"
      ]
     },
     "execution_count": 24,
     "metadata": {},
     "output_type": "execute_result"
    }
   ],
   "source": [
    "words = file.map(lambda x: x.split(','))\n",
    "words"
   ]
  },
  {
   "cell_type": "code",
   "execution_count": 25,
   "metadata": {
    "collapsed": false
   },
   "outputs": [
    {
     "data": {
      "text/plain": [
       "[['1000009418151094273',\n",
       "  '0',\n",
       "  '14102100',\n",
       "  '1005',\n",
       "  '0',\n",
       "  '1fbe01fe',\n",
       "  'f3845767',\n",
       "  '28905ebd',\n",
       "  'ecad2386',\n",
       "  '7801e8d9',\n",
       "  '07d7df22',\n",
       "  'a99f214a',\n",
       "  'ddd2926e',\n",
       "  '44956a24',\n",
       "  '1',\n",
       "  '2',\n",
       "  '15706',\n",
       "  '320',\n",
       "  '50',\n",
       "  '1722',\n",
       "  '0',\n",
       "  '35',\n",
       "  '-1',\n",
       "  '79']]"
      ]
     },
     "execution_count": 25,
     "metadata": {},
     "output_type": "execute_result"
    }
   ],
   "source": [
    "words.take(1)"
   ]
  },
  {
   "cell_type": "code",
   "execution_count": 26,
   "metadata": {
    "collapsed": false
   },
   "outputs": [
    {
     "data": {
      "text/plain": [
       "9999"
      ]
     },
     "execution_count": 26,
     "metadata": {},
     "output_type": "execute_result"
    }
   ],
   "source": [
    "from pyspark.sql import SQLContext, Row\n",
    "sqlContext = SQLContext(sc)\n",
    "\n",
    "words.count()"
   ]
  },
  {
   "cell_type": "code",
   "execution_count": 27,
   "metadata": {
    "collapsed": false
   },
   "outputs": [
    {
     "name": "stdout",
     "output_type": "stream",
     "text": [
      "+--------------------+---+--------+----+---+--------+--------+--------+--------+--------+--------+--------+--------+--------+---+---+-----+---+---+----+---+---+------+---+\n",
      "|                  _1| _2|      _3|  _4| _5|      _6|      _7|      _8|      _9|     _10|     _11|     _12|     _13|     _14|_15|_16|  _17|_18|_19| _20|_21|_22|   _23|_24|\n",
      "+--------------------+---+--------+----+---+--------+--------+--------+--------+--------+--------+--------+--------+--------+---+---+-----+---+---+----+---+---+------+---+\n",
      "| 1000009418151094273|  0|14102100|1005|  0|1fbe01fe|f3845767|28905ebd|ecad2386|7801e8d9|07d7df22|a99f214a|ddd2926e|44956a24|  1|  2|15706|320| 50|1722|  0| 35|    -1| 79|\n",
      "|10000169349117863715|  0|14102100|1005|  0|1fbe01fe|f3845767|28905ebd|ecad2386|7801e8d9|07d7df22|a99f214a|96809ac8|711ee120|  1|  0|15704|320| 50|1722|  0| 35|100084| 79|\n",
      "+--------------------+---+--------+----+---+--------+--------+--------+--------+--------+--------+--------+--------+--------+---+---+-----+---+---+----+---+---+------+---+\n",
      "only showing top 2 rows\n",
      "\n"
     ]
    }
   ],
   "source": [
    "df = sqlContext.createDataFrame(words)\n",
    "df.show(2)"
   ]
  },
  {
   "cell_type": "code",
   "execution_count": 28,
   "metadata": {
    "collapsed": false
   },
   "outputs": [
    {
     "name": "stdout",
     "output_type": "stream",
     "text": [
      "+----+\n",
      "| _c0|\n",
      "+----+\n",
      "|9999|\n",
      "+----+\n",
      "\n"
     ]
    }
   ],
   "source": [
    "df.registerTempTable(\"train\")\n",
    "sqlContext.sql(\"select count(*) from train\").show()"
   ]
  },
  {
   "cell_type": "code",
   "execution_count": 36,
   "metadata": {
    "collapsed": false
   },
   "outputs": [
    {
     "name": "stdout",
     "output_type": "stream",
     "text": [
      "+---+----+\n",
      "| _2| _c1|\n",
      "+---+----+\n",
      "|  0|8293|\n",
      "|  1|1706|\n",
      "+---+----+\n",
      "\n",
      "CPU times: user 18 ms, sys: 4 ms, total: 22 ms\n",
      "Wall time: 574 ms\n"
     ]
    }
   ],
   "source": [
    "%time sqlContext.sql(\"select _2, count(*) from train group by _2\").show()"
   ]
  },
  {
   "cell_type": "code",
   "execution_count": 30,
   "metadata": {
    "collapsed": true
   },
   "outputs": [],
   "source": [
    "df.write.parquet(\"train_parquet\")"
   ]
  },
  {
   "cell_type": "code",
   "execution_count": 31,
   "metadata": {
    "collapsed": false
   },
   "outputs": [
    {
     "data": {
      "text/plain": [
       "DataFrame[_1: string, _2: string, _3: string, _4: string, _5: string, _6: string, _7: string, _8: string, _9: string, _10: string, _11: string, _12: string, _13: string, _14: string, _15: string, _16: string, _17: string, _18: string, _19: string, _20: string, _21: string, _22: string, _23: string, _24: string]"
      ]
     },
     "execution_count": 31,
     "metadata": {},
     "output_type": "execute_result"
    }
   ],
   "source": [
    "df_parquet = sqlContext.read.load(\"train_parquet\")\n",
    "df_parquet"
   ]
  },
  {
   "cell_type": "code",
   "execution_count": 35,
   "metadata": {
    "collapsed": false
   },
   "outputs": [
    {
     "name": "stdout",
     "output_type": "stream",
     "text": [
      "+---+-----+\n",
      "| _2|count|\n",
      "+---+-----+\n",
      "|  0| 8293|\n",
      "|  1| 1706|\n",
      "+---+-----+\n",
      "\n",
      "CPU times: user 12 ms, sys: 14 ms, total: 26 ms\n",
      "Wall time: 611 ms\n"
     ]
    }
   ],
   "source": [
    "%time df.groupBy(\"_2\").count().show()"
   ]
  },
  {
   "cell_type": "code",
   "execution_count": null,
   "metadata": {
    "collapsed": true
   },
   "outputs": [],
   "source": []
  }
 ],
 "metadata": {
  "kernelspec": {
   "display_name": "Python 3",
   "language": "python",
   "name": "python3"
  },
  "language_info": {
   "codemirror_mode": {
    "name": "ipython",
    "version": 3
   },
   "file_extension": ".py",
   "mimetype": "text/x-python",
   "name": "python",
   "nbconvert_exporter": "python",
   "pygments_lexer": "ipython3",
   "version": "3.5.1"
  }
 },
 "nbformat": 4,
 "nbformat_minor": 0
}
