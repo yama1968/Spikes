{
 "cells": [
  {
   "cell_type": "code",
   "execution_count": 1,
   "metadata": {
    "collapsed": false
   },
   "outputs": [
    {
     "name": "stdout",
     "output_type": "stream",
     "text": [
      "16/03/28 08:08:09 INFO fs.TrashPolicyDefault: Namenode trash configuration: Deletion interval = 0 minutes, Emptier interval = 0 minutes.\n",
      "Deleted /user/cloudera/train.csv\n",
      "Found 4 items\n",
      "drwxr-xr-x   - cloudera cloudera          0 2016-03-26 09:01 kv1.parquet\n",
      "drwxr-xr-x   - cloudera cloudera          0 2016-03-26 08:56 people.parquet\n",
      "-rw-r--r--   1 cloudera cloudera      1.5 M 2016-03-28 08:08 train.csv\n",
      "drwxr-xr-x   - cloudera cloudera          0 2016-03-26 09:46 train_parquet\n"
     ]
    }
   ],
   "source": [
    "! hdfs dfs -rm /user/cloudera/train.csv\n",
    "! tail -n +2 ./small3.train.csv | hdfs dfs -put - /user/cloudera/train.csv\n",
    "! hdfs dfs -ls -h"
   ]
  },
  {
   "cell_type": "code",
   "execution_count": 2,
   "metadata": {
    "collapsed": false
   },
   "outputs": [
    {
     "name": "stdout",
     "output_type": "stream",
     "text": [
      "<pyspark.sql.context.HiveContext object at 0x7f3c620635c0>\n",
      "[]\n",
      "+-------+\n",
      "| result|\n",
      "+-------+\n",
      "|default|\n",
      "+-------+\n",
      "\n",
      "None\n",
      "+--------------------+--------------------+\n",
      "|                 key|               value|\n",
      "+--------------------+--------------------+\n",
      "|hive.metastore.wa...|hdfs:/user/hive/w...|\n",
      "+--------------------+--------------------+\n",
      "\n"
     ]
    }
   ],
   "source": [
    "from pyspark.sql import HiveContext\n",
    "hiveContext = HiveContext(sc)\n",
    "print(hiveContext)\n",
    "print(hiveContext.tableNames(\"default\"))\n",
    "print(hiveContext.sql(\"show databases\").show())\n",
    "hiveContext.sql(\"SET hive.metastore.warehouse.dir=hdfs:/user/hive/warehouse\").show()"
   ]
  },
  {
   "cell_type": "code",
   "execution_count": 3,
   "metadata": {
    "collapsed": false,
    "scrolled": true
   },
   "outputs": [
    {
     "name": "stdout",
     "output_type": "stream",
     "text": [
      "drop table train_csv\n",
      "++\n",
      "||\n",
      "++\n",
      "++\n",
      "\n",
      "None\n",
      "create table train_csv (\n",
      "id string, click int, hour string, C1 string, banner_pos string, site_id string, site_domain string, site_category string, app_id string, app_domain string, app_category string, device_id string, device_ip string, device_model string, device_type string, device_conn_type string, C14 string, C15 string, C16 string, C17 string, C18 string, C19 string, C20 string, C21 string\n",
      ")\n",
      "row format delimited fields terminated by ','\n",
      "\n",
      "+------+\n",
      "|result|\n",
      "+------+\n",
      "+------+\n",
      "\n",
      "None\n",
      "\n",
      "load data inpath 'hdfs:/user/cloudera/train.csv'\n",
      "into table train_csv\n",
      "   \n",
      "+------+\n",
      "|result|\n",
      "+------+\n",
      "+------+\n",
      "\n",
      "None\n",
      "\n",
      "select * from train_csv limit 1\n",
      "\n",
      "+-------------------+-----+--------+----+----------+--------+-----------+-------------+--------+----------+------------+---------+---------+------------+-----------+----------------+-----+---+---+----+---+---+---+---+\n",
      "|                 id|click|    hour|  c1|banner_pos| site_id|site_domain|site_category|  app_id|app_domain|app_category|device_id|device_ip|device_model|device_type|device_conn_type|  c14|c15|c16| c17|c18|c19|c20|c21|\n",
      "+-------------------+-----+--------+----+----------+--------+-----------+-------------+--------+----------+------------+---------+---------+------------+-----------+----------------+-----+---+---+----+---+---+---+---+\n",
      "|1000009418151094273|    0|14102100|1005|         0|1fbe01fe|   f3845767|     28905ebd|ecad2386|  7801e8d9|    07d7df22| a99f214a| ddd2926e|    44956a24|          1|               2|15706|320| 50|1722|  0| 35| -1| 79|\n",
      "+-------------------+-----+--------+----+----------+--------+-----------+-------------+--------+----------+------------+---------+---------+------------+-----------+----------------+-----+---+---+----+---+---+---+---+\n",
      "\n",
      "None\n"
     ]
    }
   ],
   "source": [
    "for i in [\n",
    "    \"\"\"drop table train_csv\"\"\",\n",
    "    \"\"\"create table train_csv (\n",
    "id string, click int, hour string, C1 string, banner_pos string, site_id string, site_domain string, site_category string, app_id string, app_domain string, app_category string, device_id string, device_ip string, device_model string, device_type string, device_conn_type string, C14 string, C15 string, C16 string, C17 string, C18 string, C19 string, C20 string, C21 string\n",
    ")\n",
    "row format delimited fields terminated by ','\n",
    "\"\"\",\n",
    "          \"\"\"\n",
    "load data inpath 'hdfs:/user/cloudera/train.csv'\n",
    "into table train_csv\n",
    "   \"\"\",\n",
    "          \"\"\"\n",
    "select * from train_csv limit 1\n",
    "\"\"\"]:\n",
    "    print(i)\n",
    "#    ! echo \"{i}\" + \";\" | hive\n",
    "    print(hiveContext.sql(i).show())"
   ]
  },
  {
   "cell_type": "code",
   "execution_count": 4,
   "metadata": {
    "collapsed": false
   },
   "outputs": [
    {
     "name": "stdout",
     "output_type": "stream",
     "text": [
      "+-----+-----+\n",
      "|click|count|\n",
      "+-----+-----+\n",
      "|    0|16586|\n",
      "|    1| 3412|\n",
      "+-----+-----+\n",
      "\n",
      "CPU times: user 2 ms, sys: 2 ms, total: 4 ms\n",
      "Wall time: 1.94 s\n"
     ]
    }
   ],
   "source": [
    "df = hiveContext.table(\"train_csv\")\n",
    "%time df.groupBy(\"click\").count().show()"
   ]
  },
  {
   "cell_type": "code",
   "execution_count": 5,
   "metadata": {
    "collapsed": false
   },
   "outputs": [
    {
     "name": "stdout",
     "output_type": "stream",
     "text": [
      "+----------+-----+\n",
      "|banner_pos|count|\n",
      "+----------+-----+\n",
      "|         0|16108|\n",
      "|         1| 3882|\n",
      "|         4|    4|\n",
      "|         5|    4|\n",
      "+----------+-----+\n",
      "\n",
      "CPU times: user 4 ms, sys: 3 ms, total: 7 ms\n",
      "Wall time: 980 ms\n"
     ]
    }
   ],
   "source": [
    "%time df.groupBy(\"banner_pos\").count().show()"
   ]
  },
  {
   "cell_type": "code",
   "execution_count": null,
   "metadata": {
    "collapsed": true
   },
   "outputs": [],
   "source": []
  }
 ],
 "metadata": {
  "kernelspec": {
   "display_name": "Python 3",
   "language": "python",
   "name": "python3"
  },
  "language_info": {
   "codemirror_mode": {
    "name": "ipython",
    "version": 3
   },
   "file_extension": ".py",
   "mimetype": "text/x-python",
   "name": "python",
   "nbconvert_exporter": "python",
   "pygments_lexer": "ipython3",
   "version": "3.5.1"
  }
 },
 "nbformat": 4,
 "nbformat_minor": 0
}
