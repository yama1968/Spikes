{
 "metadata": {
  "name": ""
 },
 "nbformat": 3,
 "nbformat_minor": 0,
 "worksheets": [
  {
   "cells": [
    {
     "cell_type": "code",
     "collapsed": false,
     "input": [
      "import graphlab as gl\n",
      "gl.canvas.set_target('ipynb')\n",
      "\n",
      "# load training data\n",
      "training_sframe = gl.SFrame.read_csv('train.csv', verbose=False)\n",
      "\n",
      "# train a model\n",
      "features = ['datetime', 'season', 'holiday', 'workingday', 'weather',\n",
      "            'temp', 'atemp', 'humidity', 'windspeed']\n",
      "\n",
      "m = gl.boosted_trees_regression.create(training_sframe,\n",
      "                                       features=features, \n",
      "                                       target='count')\n",
      "\n",
      "# predict on test data\n",
      "test_sframe = gl.SFrame.read_csv('test.csv', verbose=False)\n",
      "prediction = m.predict(test_sframe)"
     ],
     "language": "python",
     "metadata": {},
     "outputs": [
      {
       "output_type": "stream",
       "stream": "stderr",
       "text": [
        "[INFO] Start server at: ipc:///tmp/graphlab_server-3996 - Server binary: /usr/local/lib/python2.7/dist-packages/graphlab/unity_server - Server log: /tmp/graphlab_server_1422896272.log\n"
       ]
      },
      {
       "output_type": "stream",
       "stream": "stderr",
       "text": [
        "[INFO] GraphLab Server Version: 1.2.1\n"
       ]
      },
      {
       "html": [
        "<pre>PROGRESS: Finished parsing file /home/quantmetry/github/Spikes/graphlab/train.csv</pre>"
       ],
       "metadata": {},
       "output_type": "display_data",
       "text": [
        "PROGRESS: Finished parsing file /home/quantmetry/github/Spikes/graphlab/train.csv"
       ]
      },
      {
       "html": [
        "<pre>PROGRESS: Parsing completed. Parsed 10886 lines in 0.034794 secs.</pre>"
       ],
       "metadata": {},
       "output_type": "display_data",
       "text": [
        "PROGRESS: Parsing completed. Parsed 10886 lines in 0.034794 secs."
       ]
      },
      {
       "html": [
        "<pre>PROGRESS: Boosted trees regression:</pre>"
       ],
       "metadata": {},
       "output_type": "display_data",
       "text": [
        "PROGRESS: Boosted trees regression:"
       ]
      },
      {
       "html": [
        "<pre>PROGRESS: --------------------------------------------------------</pre>"
       ],
       "metadata": {},
       "output_type": "display_data",
       "text": [
        "PROGRESS: --------------------------------------------------------"
       ]
      },
      {
       "html": [
        "<pre>PROGRESS: Number of examples          : 10886</pre>"
       ],
       "metadata": {},
       "output_type": "display_data",
       "text": [
        "PROGRESS: Number of examples          : 10886"
       ]
      },
      {
       "html": [
        "<pre>PROGRESS: Number of features          : 9</pre>"
       ],
       "metadata": {},
       "output_type": "display_data",
       "text": [
        "PROGRESS: Number of features          : 9"
       ]
      },
      {
       "html": [
        "<pre>PROGRESS: Number of unpacked features : 9</pre>"
       ],
       "metadata": {},
       "output_type": "display_data",
       "text": [
        "PROGRESS: Number of unpacked features : 9"
       ]
      },
      {
       "html": [
        "<pre>PROGRESS: Starting Boosted Trees</pre>"
       ],
       "metadata": {},
       "output_type": "display_data",
       "text": [
        "PROGRESS: Starting Boosted Trees"
       ]
      },
      {
       "html": [
        "<pre>PROGRESS: --------------------------------------------------------</pre>"
       ],
       "metadata": {},
       "output_type": "display_data",
       "text": [
        "PROGRESS: --------------------------------------------------------"
       ]
      },
      {
       "html": [
        "<pre>PROGRESS:   Iter        RMSE Elapsed time</pre>"
       ],
       "metadata": {},
       "output_type": "display_data",
       "text": [
        "PROGRESS:   Iter        RMSE Elapsed time"
       ]
      },
      {
       "html": [
        "<pre>PROGRESS:      0   2.123e+02        0.22s</pre>"
       ],
       "metadata": {},
       "output_type": "display_data",
       "text": [
        "PROGRESS:      0   2.123e+02        0.22s"
       ]
      },
      {
       "html": [
        "<pre>PROGRESS:      1   1.816e+02        0.25s</pre>"
       ],
       "metadata": {},
       "output_type": "display_data",
       "text": [
        "PROGRESS:      1   1.816e+02        0.25s"
       ]
      },
      {
       "html": [
        "<pre>PROGRESS:      2   1.636e+02        0.44s</pre>"
       ],
       "metadata": {},
       "output_type": "display_data",
       "text": [
        "PROGRESS:      2   1.636e+02        0.44s"
       ]
      },
      {
       "html": [
        "<pre>PROGRESS:      3   1.536e+02        0.64s</pre>"
       ],
       "metadata": {},
       "output_type": "display_data",
       "text": [
        "PROGRESS:      3   1.536e+02        0.64s"
       ]
      },
      {
       "html": [
        "<pre>PROGRESS:      4   1.476e+02        0.86s</pre>"
       ],
       "metadata": {},
       "output_type": "display_data",
       "text": [
        "PROGRESS:      4   1.476e+02        0.86s"
       ]
      },
      {
       "html": [
        "<pre>PROGRESS:      5   1.441e+02        1.10s</pre>"
       ],
       "metadata": {},
       "output_type": "display_data",
       "text": [
        "PROGRESS:      5   1.441e+02        1.10s"
       ]
      },
      {
       "html": [
        "<pre>PROGRESS:      6   1.422e+02        1.19s</pre>"
       ],
       "metadata": {},
       "output_type": "display_data",
       "text": [
        "PROGRESS:      6   1.422e+02        1.19s"
       ]
      },
      {
       "html": [
        "<pre>PROGRESS:      7   1.407e+02        1.34s</pre>"
       ],
       "metadata": {},
       "output_type": "display_data",
       "text": [
        "PROGRESS:      7   1.407e+02        1.34s"
       ]
      },
      {
       "html": [
        "<pre>PROGRESS:      8   1.400e+02        1.67s</pre>"
       ],
       "metadata": {},
       "output_type": "display_data",
       "text": [
        "PROGRESS:      8   1.400e+02        1.67s"
       ]
      },
      {
       "html": [
        "<pre>PROGRESS:      9   1.396e+02        1.95s</pre>"
       ],
       "metadata": {},
       "output_type": "display_data",
       "text": [
        "PROGRESS:      9   1.396e+02        1.95s"
       ]
      },
      {
       "output_type": "stream",
       "stream": "stdout",
       "text": [
        "------------------------------------------------------\n",
        "Inferred types from first line of file as \n",
        "column_type_hints=[str,int,int,int,int,float,float,int,float,int,int,int]\n",
        "If parsing fails due to incorrect types, you can correct\n",
        "the inferred type list above and pass it to read_csv in\n",
        "the column_type_hints argument\n",
        "------------------------------------------------------\n",
        "------------------------------------------------------"
       ]
      },
      {
       "html": [
        "<pre>PROGRESS: Finished parsing file /home/quantmetry/github/Spikes/graphlab/test.csv</pre>"
       ],
       "metadata": {},
       "output_type": "display_data",
       "text": [
        "PROGRESS: Finished parsing file /home/quantmetry/github/Spikes/graphlab/test.csv"
       ]
      },
      {
       "html": [
        "<pre>PROGRESS: Parsing completed. Parsed 6493 lines in 0.05 secs.</pre>"
       ],
       "metadata": {},
       "output_type": "display_data",
       "text": [
        "PROGRESS: Parsing completed. Parsed 6493 lines in 0.05 secs."
       ]
      },
      {
       "output_type": "stream",
       "stream": "stdout",
       "text": [
        "\n",
        "Inferred types from first line of file as \n",
        "column_type_hints=[str,int,int,int,int,float,float,int,float]\n",
        "If parsing fails due to incorrect types, you can correct\n",
        "the inferred type list above and pass it to read_csv in\n",
        "the column_type_hints argument\n",
        "------------------------------------------------------\n"
       ]
      }
     ],
     "prompt_number": 1
    },
    {
     "cell_type": "code",
     "collapsed": false,
     "input": [
      "date_format_str = '%Y-%m-%d %H:%M:%S'\n",
      "\n",
      "def process_date_column(data_sframe):\n",
      "    \"\"\"Split the 'datetime' column of a given sframe\"\"\"\n",
      "    datetime_col = data_sframe['datetime']\n",
      "    parsed_datetime = datetime_col.str_to_datetime(date_format_str)\n",
      "    parsed_datetime_sf = parsed_datetime.split_datetime(column_name_prefix='', limit=['year', 'month', 'day', 'hour'])\n",
      "    for col in ['year', 'month', 'day', 'hour']:\n",
      "        data_sframe[col] = parsed_datetime_sf[col]\n",
      "    data_sframe['weekday'] = parsed_datetime.apply(lambda x: x.weekday())\n",
      "    \n",
      "process_date_column(training_sframe)\n",
      "process_date_column(test_sframe)"
     ],
     "language": "python",
     "metadata": {},
     "outputs": [],
     "prompt_number": 2
    },
    {
     "cell_type": "code",
     "collapsed": false,
     "input": [
      "import math\n",
      "\n",
      "# Create three new columns: log-casual, log-registered, and log-count\n",
      "for col in ['casual', 'registered', 'count']:\n",
      "    training_sframe['log-' + col] = training_sframe[col].apply(lambda x: math.log(1 + x))"
     ],
     "language": "python",
     "metadata": {},
     "outputs": [],
     "prompt_number": 3
    },
    {
     "cell_type": "code",
     "collapsed": false,
     "input": [
      "new_features = features + ['year', 'month', 'hour', 'weekday']\n",
      "new_features.remove('datetime')\n",
      "\n",
      "m1 = gl.boosted_trees_regression.create(training_sframe,\n",
      "                                        features=new_features,\n",
      "                                        target='log-casual')\n",
      "\n",
      "m2 = gl.boosted_trees_regression.create(training_sframe,\n",
      "                                        features=new_features,\n",
      "                                        target='log-registered')\n",
      "\n",
      "def fused_predict(m1, m2, test_sframe):\n",
      "    \"\"\"\n",
      "    Fused the prediction of two separately trained models.\n",
      "    The input models are trained in the log domain.\n",
      "    Return the combine predictions in the original domain.\n",
      "    \"\"\"\n",
      "    p1 = m1.predict(test_sframe).apply(lambda x: math.exp(x)-1)\n",
      "    p2 = m2.predict(test_sframe).apply(lambda x: math.exp(x)-1)\n",
      "    return (p1 + p2).apply(lambda x: x if x > 0 else 0)\n",
      "\n",
      "prediction = fused_predict(m1, m2, test_sframe)"
     ],
     "language": "python",
     "metadata": {},
     "outputs": [
      {
       "html": [
        "<pre>PROGRESS: Boosted trees regression:</pre>"
       ],
       "metadata": {},
       "output_type": "display_data",
       "text": [
        "PROGRESS: Boosted trees regression:"
       ]
      },
      {
       "html": [
        "<pre>PROGRESS: --------------------------------------------------------</pre>"
       ],
       "metadata": {},
       "output_type": "display_data",
       "text": [
        "PROGRESS: --------------------------------------------------------"
       ]
      },
      {
       "html": [
        "<pre>PROGRESS: Number of examples          : 10886</pre>"
       ],
       "metadata": {},
       "output_type": "display_data",
       "text": [
        "PROGRESS: Number of examples          : 10886"
       ]
      },
      {
       "html": [
        "<pre>PROGRESS: Number of features          : 12</pre>"
       ],
       "metadata": {},
       "output_type": "display_data",
       "text": [
        "PROGRESS: Number of features          : 12"
       ]
      },
      {
       "html": [
        "<pre>PROGRESS: Number of unpacked features : 12</pre>"
       ],
       "metadata": {},
       "output_type": "display_data",
       "text": [
        "PROGRESS: Number of unpacked features : 12"
       ]
      },
      {
       "html": [
        "<pre>PROGRESS: Starting Boosted Trees</pre>"
       ],
       "metadata": {},
       "output_type": "display_data",
       "text": [
        "PROGRESS: Starting Boosted Trees"
       ]
      },
      {
       "html": [
        "<pre>PROGRESS: --------------------------------------------------------</pre>"
       ],
       "metadata": {},
       "output_type": "display_data",
       "text": [
        "PROGRESS: --------------------------------------------------------"
       ]
      },
      {
       "html": [
        "<pre>PROGRESS:   Iter        RMSE Elapsed time</pre>"
       ],
       "metadata": {},
       "output_type": "display_data",
       "text": [
        "PROGRESS:   Iter        RMSE Elapsed time"
       ]
      },
      {
       "html": [
        "<pre>PROGRESS:      0   1.922e+00        0.15s</pre>"
       ],
       "metadata": {},
       "output_type": "display_data",
       "text": [
        "PROGRESS:      0   1.922e+00        0.15s"
       ]
      },
      {
       "html": [
        "<pre>PROGRESS:      1   1.409e+00        0.20s</pre>"
       ],
       "metadata": {},
       "output_type": "display_data",
       "text": [
        "PROGRESS:      1   1.409e+00        0.20s"
       ]
      },
      {
       "html": [
        "<pre>PROGRESS:      2   1.062e+00        0.26s</pre>"
       ],
       "metadata": {},
       "output_type": "display_data",
       "text": [
        "PROGRESS:      2   1.062e+00        0.26s"
       ]
      },
      {
       "html": [
        "<pre>PROGRESS:      3   8.350e-01        0.37s</pre>"
       ],
       "metadata": {},
       "output_type": "display_data",
       "text": [
        "PROGRESS:      3   8.350e-01        0.37s"
       ]
      },
      {
       "html": [
        "<pre>PROGRESS:      4   6.887e-01        0.52s</pre>"
       ],
       "metadata": {},
       "output_type": "display_data",
       "text": [
        "PROGRESS:      4   6.887e-01        0.52s"
       ]
      },
      {
       "html": [
        "<pre>PROGRESS:      5   5.969e-01        0.59s</pre>"
       ],
       "metadata": {},
       "output_type": "display_data",
       "text": [
        "PROGRESS:      5   5.969e-01        0.59s"
       ]
      },
      {
       "html": [
        "<pre>PROGRESS:      6   5.414e-01        0.73s</pre>"
       ],
       "metadata": {},
       "output_type": "display_data",
       "text": [
        "PROGRESS:      6   5.414e-01        0.73s"
       ]
      },
      {
       "html": [
        "<pre>PROGRESS:      7   5.080e-01        0.80s</pre>"
       ],
       "metadata": {},
       "output_type": "display_data",
       "text": [
        "PROGRESS:      7   5.080e-01        0.80s"
       ]
      },
      {
       "html": [
        "<pre>PROGRESS:      8   4.871e-01        0.92s</pre>"
       ],
       "metadata": {},
       "output_type": "display_data",
       "text": [
        "PROGRESS:      8   4.871e-01        0.92s"
       ]
      },
      {
       "html": [
        "<pre>PROGRESS:      9   4.729e-01        1.00s</pre>"
       ],
       "metadata": {},
       "output_type": "display_data",
       "text": [
        "PROGRESS:      9   4.729e-01        1.00s"
       ]
      },
      {
       "html": [
        "<pre>PROGRESS: Boosted trees regression:</pre>"
       ],
       "metadata": {},
       "output_type": "display_data",
       "text": [
        "PROGRESS: Boosted trees regression:"
       ]
      },
      {
       "html": [
        "<pre>PROGRESS: --------------------------------------------------------</pre>"
       ],
       "metadata": {},
       "output_type": "display_data",
       "text": [
        "PROGRESS: --------------------------------------------------------"
       ]
      },
      {
       "html": [
        "<pre>PROGRESS: Number of examples          : 10886</pre>"
       ],
       "metadata": {},
       "output_type": "display_data",
       "text": [
        "PROGRESS: Number of examples          : 10886"
       ]
      },
      {
       "html": [
        "<pre>PROGRESS: Number of features          : 12</pre>"
       ],
       "metadata": {},
       "output_type": "display_data",
       "text": [
        "PROGRESS: Number of features          : 12"
       ]
      },
      {
       "html": [
        "<pre>PROGRESS: Number of unpacked features : 12</pre>"
       ],
       "metadata": {},
       "output_type": "display_data",
       "text": [
        "PROGRESS: Number of unpacked features : 12"
       ]
      },
      {
       "html": [
        "<pre>PROGRESS: Starting Boosted Trees</pre>"
       ],
       "metadata": {},
       "output_type": "display_data",
       "text": [
        "PROGRESS: Starting Boosted Trees"
       ]
      },
      {
       "html": [
        "<pre>PROGRESS: --------------------------------------------------------</pre>"
       ],
       "metadata": {},
       "output_type": "display_data",
       "text": [
        "PROGRESS: --------------------------------------------------------"
       ]
      },
      {
       "html": [
        "<pre>PROGRESS:   Iter        RMSE Elapsed time</pre>"
       ],
       "metadata": {},
       "output_type": "display_data",
       "text": [
        "PROGRESS:   Iter        RMSE Elapsed time"
       ]
      },
      {
       "html": [
        "<pre>PROGRESS:      0   2.928e+00        0.20s</pre>"
       ],
       "metadata": {},
       "output_type": "display_data",
       "text": [
        "PROGRESS:      0   2.928e+00        0.20s"
       ]
      },
      {
       "html": [
        "<pre>PROGRESS:      1   2.082e+00        0.38s</pre>"
       ],
       "metadata": {},
       "output_type": "display_data",
       "text": [
        "PROGRESS:      1   2.082e+00        0.38s"
       ]
      },
      {
       "html": [
        "<pre>PROGRESS:      2   1.497e+00        0.46s</pre>"
       ],
       "metadata": {},
       "output_type": "display_data",
       "text": [
        "PROGRESS:      2   1.497e+00        0.46s"
       ]
      },
      {
       "html": [
        "<pre>PROGRESS:      3   1.093e+00        0.60s</pre>"
       ],
       "metadata": {},
       "output_type": "display_data",
       "text": [
        "PROGRESS:      3   1.093e+00        0.60s"
       ]
      },
      {
       "html": [
        "<pre>PROGRESS:      4   8.157e-01        0.67s</pre>"
       ],
       "metadata": {},
       "output_type": "display_data",
       "text": [
        "PROGRESS:      4   8.157e-01        0.67s"
       ]
      },
      {
       "html": [
        "<pre>PROGRESS:      5   6.363e-01        0.90s</pre>"
       ],
       "metadata": {},
       "output_type": "display_data",
       "text": [
        "PROGRESS:      5   6.363e-01        0.90s"
       ]
      },
      {
       "html": [
        "<pre>PROGRESS:      6   5.084e-01        0.93s</pre>"
       ],
       "metadata": {},
       "output_type": "display_data",
       "text": [
        "PROGRESS:      6   5.084e-01        0.93s"
       ]
      },
      {
       "html": [
        "<pre>PROGRESS:      7   4.252e-01        1.09s</pre>"
       ],
       "metadata": {},
       "output_type": "display_data",
       "text": [
        "PROGRESS:      7   4.252e-01        1.09s"
       ]
      },
      {
       "html": [
        "<pre>PROGRESS:      8   3.787e-01        1.15s</pre>"
       ],
       "metadata": {},
       "output_type": "display_data",
       "text": [
        "PROGRESS:      8   3.787e-01        1.15s"
       ]
      },
      {
       "html": [
        "<pre>PROGRESS:      9   3.374e-01        1.28s</pre>"
       ],
       "metadata": {},
       "output_type": "display_data",
       "text": [
        "PROGRESS:      9   3.374e-01        1.28s"
       ]
      }
     ],
     "prompt_number": 4
    },
    {
     "cell_type": "code",
     "collapsed": false,
     "input": [
      "if 'bst_hyperparam_search' in gl.deploy.environments.list()['Name']:\n",
      "    gl.deploy.environments.delete('bst_hyperparam_search')\n",
      "\n",
      "env = gl.deploy.environment.Local('bst_hyperparam_search')    \n",
      "training = training_sframe[training_sframe['day'] <= 16]\n",
      "validation = training_sframe[training_sframe['day'] > 16]\n",
      "training.save('/tmp/training')\n",
      "validation.save('/tmp/validation')"
     ],
     "language": "python",
     "metadata": {},
     "outputs": [],
     "prompt_number": 5
    },
    {
     "cell_type": "code",
     "collapsed": false,
     "input": [
      "ntrees = 500\n",
      "search_space = {\n",
      "    'max_depth': [10, 15, 20],\n",
      "    'min_child_weight': [5, 10, 20],\n",
      "    'step_size': 0.05,\n",
      "    'max_iterations': ntrees\n",
      "}\n",
      "\n",
      "def parameter_search(training_url, validation_url, default_params):\n",
      "    \"\"\"\n",
      "    Return the optimal parameters in the given search space.\n",
      "    The parameter returned has the lowest validation rmse.\n",
      "    \"\"\"\n",
      "    job = gl.toolkits.model_parameter_search(gl.boosted_trees_regression.create,\n",
      "                                             train_set_path=training_url,\n",
      "                                             save_path='/tmp/job_output',\n",
      "                                             standard_model_params=default_params,\n",
      "                                             hyper_params=search_space,\n",
      "                                             test_set_path=validation_url,\n",
      "                                             environment = env\n",
      "                                             )\n",
      "\n",
      "\n",
      "    # When the job is done, the result is stored in an SFrame\n",
      "    # The result contains attributes of the models in the search space\n",
      "    # and the validation error in RMSE. \n",
      "    result = gl.SFrame('/tmp/job_output')\n",
      "    metrics = result['test_metrics'].unpack()\n",
      "    metrics = metrics.add_row_number()\n",
      "    optimal_model_idx = metrics.sort('X.rmse', ascending=True)[0]['id']\n",
      "\n",
      "    # Return the parameters with the lowest validation error. \n",
      "    optimal_params = result[optimal_model_idx]['parameters']\n",
      "    optimal_rmse = metrics[optimal_model_idx]['X.rmse']\n",
      "\n",
      "    print 'Optimal parameters: %s' % str(optimal_params)\n",
      "    print 'RMSE: %s' % str(optimal_rmse)\n",
      "    return optimal_params"
     ],
     "language": "python",
     "metadata": {},
     "outputs": [],
     "prompt_number": 6
    },
    {
     "cell_type": "code",
     "collapsed": false,
     "input": [
      "fixed_params = {'features': new_features,\n",
      "                'verbose': False}\n",
      "\n",
      "fixed_params['target'] = 'log-casual'\n",
      "params_log_casual = parameter_search('/tmp/training',\n",
      "                                     '/tmp/validation',\n",
      "                                     fixed_params)\n",
      "\n",
      "fixed_params['target'] = 'log-registered'\n",
      "params_log_registered = parameter_search('/tmp/training',\n",
      "                                         '/tmp/validation',\n",
      "                                         fixed_params)"
     ],
     "language": "python",
     "metadata": {},
     "outputs": [
      {
       "output_type": "stream",
       "stream": "stderr",
       "text": [
        "[INFO] Preparing using environment: bst_hyperparam_search\n"
       ]
      },
      {
       "output_type": "stream",
       "stream": "stderr",
       "text": [
        "[INFO] Beginning Job Validation.\n"
       ]
      },
      {
       "output_type": "stream",
       "stream": "stderr",
       "text": [
        "[INFO] Validation complete. Job: 'Model-Parameter-Search-1422896458.74' ready for execution\n"
       ]
      },
      {
       "output_type": "stream",
       "stream": "stderr",
       "text": [
        "[INFO] Execution started: Model-Parameter-Search-1422896458.74\n"
       ]
      },
      {
       "output_type": "stream",
       "stream": "stderr",
       "text": [
        "[INFO] Execution path: /tmp/job-exec-RkWlUg\n"
       ]
      },
      {
       "output_type": "stream",
       "stream": "stderr",
       "text": [
        "[INFO] Task started: Model Train Test 1422896458.74-0-0\n"
       ]
      },
      {
       "output_type": "stream",
       "stream": "stderr",
       "text": [
        "[INFO] Task completed: Model Train Test 1422896458.74-0-0\n"
       ]
      },
      {
       "output_type": "stream",
       "stream": "stderr",
       "text": [
        "[INFO] Task started: Model Train Test 1422896458.74-1-0\n"
       ]
      },
      {
       "output_type": "stream",
       "stream": "stderr",
       "text": [
        "[INFO] Task completed: Model Train Test 1422896458.74-1-0\n"
       ]
      },
      {
       "output_type": "stream",
       "stream": "stderr",
       "text": [
        "[INFO] Task started: Model Train Test 1422896458.74-2-0\n"
       ]
      },
      {
       "output_type": "stream",
       "stream": "stderr",
       "text": [
        "[INFO] Task completed: Model Train Test 1422896458.74-2-0\n"
       ]
      },
      {
       "output_type": "stream",
       "stream": "stderr",
       "text": [
        "[INFO] Task started: Model Train Test 1422896458.74-3-0\n"
       ]
      }
     ],
     "prompt_number": "*"
    },
    {
     "cell_type": "code",
     "collapsed": false,
     "input": [
      "m_log_registered = gl.boosted_trees_regression.create(training_sframe,\n",
      "                                                      **params_log_registered)\n",
      "\n",
      "m_log_casual = gl.boosted_trees_regression.create(training_sframe,\n",
      "                                                  **params_log_casual)\n",
      "\n",
      "final_prediction = fused_predict(m_log_registered, m_log_casual, test_sframe)\n",
      "\n",
      "make_submission(final_prediction, 'submission2.txt')"
     ],
     "language": "python",
     "metadata": {},
     "outputs": []
    }
   ],
   "metadata": {}
  }
 ]
}