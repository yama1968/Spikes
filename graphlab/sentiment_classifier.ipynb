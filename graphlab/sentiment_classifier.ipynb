{
 "cells": [
  {
   "cell_type": "markdown",
   "metadata": {},
   "source": [
    "# Five-Line Sentiment Analysis Classifier"
   ]
  },
  {
   "cell_type": "markdown",
   "metadata": {},
   "source": [
    "In this notebook, I will explain how to develop sentiment analysis classifiers that are based on a bag-of-words model. \n",
    "Then, I will demonstrate how these classifiers can be utilized to solve Kaggle's \"When Bag of Words Meets Bags of Popcorn\" challenge."
   ]
  },
  {
   "cell_type": "markdown",
   "metadata": {},
   "source": [
    "## Code Recipe: Creating Sentiment Classifier "
   ]
  },
  {
   "cell_type": "markdown",
   "metadata": {},
   "source": [
    "Using GraphLab it is very easy and straight foward to create a sentiment classifier based on bag-of-words model. Given a dataset stored as a CSV file, you can construct your sentiment classifier using the following code: "
   ]
  },
  {
   "cell_type": "code",
   "execution_count": 2,
   "metadata": {
    "collapsed": false
   },
   "outputs": [
    {
     "name": "stderr",
     "output_type": "stream",
     "text": [
      "[INFO] This trial license of GraphLab Create is assigned to ymartel@gmail.com and will expire on May 22, 2015. Please contact trial@dato.com for commercial and non-commercial licensing options.\n",
      "\n",
      "[INFO] Start server at: ipc:///tmp/graphlab_server-21936 - Server binary: /home/yannick/bin/anaconda3/envs/graphlab/lib/python2.7/site-packages/graphlab/unity_server - Server log: /tmp/graphlab_server_1431632805.log\n",
      "[INFO] GraphLab Server Version: 1.4.0\n"
     ]
    },
    {
     "name": "stdout",
     "output_type": "stream",
     "text": [
      "PROGRESS: Finished parsing file /home2/yannick2/github/bagofwords/data/labeledTrainData.tsv\n",
      "PROGRESS: Parsing completed. Parsed 25000 lines in 0.405849 secs.\n",
      "PROGRESS: Creating a validation set from 5 percent of training data. This may take a while.\n",
      "          You can set ``validation_set=None`` to disable validation tracking.\n",
      "\n",
      "PROGRESS: The following methods are available for this type of problem.\n",
      "PROGRESS: LogisticClassifier, SVMClassifier\n",
      "PROGRESS: The returned model will be chosen according to validation accuracy.\n",
      "PROGRESS: Logistic regression:\n",
      "PROGRESS: --------------------------------------------------------\n",
      "PROGRESS: Number of examples          : 23731\n",
      "PROGRESS: Number of classes           : 2\n",
      "PROGRESS: Number of feature columns   : 2\n",
      "PROGRESS: Number of unpacked features : 1405943\n",
      "PROGRESS: Number of coefficients    : 1405944\n",
      "PROGRESS: Starting L-BFGS\n",
      "PROGRESS: --------------------------------------------------------\n",
      "PROGRESS: +-----------+----------+-----------+--------------+-------------------+---------------------+\n",
      "PROGRESS: | Iteration | Passes   | Step size | Elapsed Time | Training-accuracy | Validation-accuracy |\n",
      "PROGRESS: +-----------+----------+-----------+--------------+-------------------+---------------------+\n",
      "PROGRESS: | 1         | 3        | 0.000042  | 0.665987     | 0.999073          | 0.880221            |\n",
      "PROGRESS: | 2         | 5        | 1.000000  | 1.223886     | 0.999958          | 0.878645            |\n",
      "PROGRESS: | 3         | 6        | 1.000000  | 1.562067     | 0.999958          | 0.878645            |\n",
      "PROGRESS: | 4         | 7        | 1.000000  | 1.906601     | 0.999958          | 0.878645            |\n",
      "PROGRESS: | 5         | 8        | 1.000000  | 2.251937     | 1.000000          | 0.877857            |\n",
      "PROGRESS: | 6         | 9        | 1.000000  | 2.605128     | 1.000000          | 0.877857            |\n",
      "PROGRESS: | 10        | 13       | 1.000000  | 4.071181     | 1.000000          | 0.871552            |\n",
      "PROGRESS: +-----------+----------+-----------+--------------+-------------------+---------------------+\n",
      "PROGRESS: SVM:\n",
      "PROGRESS: --------------------------------------------------------\n",
      "PROGRESS: Number of examples          : 23731\n",
      "PROGRESS: Number of classes           : 2\n",
      "PROGRESS: Number of feature columns   : 2\n",
      "PROGRESS: Number of unpacked features : 1405943\n",
      "PROGRESS: Number of coefficients    : 1405944\n",
      "PROGRESS: Starting L-BFGS\n",
      "PROGRESS: --------------------------------------------------------\n",
      "PROGRESS: +-----------+----------+-----------+--------------+-------------------+---------------------+\n",
      "PROGRESS: | Iteration | Passes   | Step size | Elapsed Time | Training-accuracy | Validation-accuracy |\n",
      "PROGRESS: +-----------+----------+-----------+--------------+-------------------+---------------------+\n",
      "PROGRESS: | 1         | 3        | 0.000042  | 0.573251     | 0.999073          | 0.880221            |\n",
      "PROGRESS: | 2         | 5        | 1.000000  | 1.095814     | 0.999916          | 0.878645            |\n",
      "PROGRESS: | 3         | 6        | 1.000000  | 1.433331     | 0.999958          | 0.878645            |\n",
      "PROGRESS: | 4         | 7        | 1.000000  | 1.750058     | 0.999958          | 0.878645            |\n",
      "PROGRESS: | 5         | 8        | 1.000000  | 2.088723     | 0.598416          | 0.479905            |\n",
      "PROGRESS: | 6         | 10       | 1.000000  | 2.622960     | 1.000000          | 0.878645            |\n",
      "PROGRESS: | 10        | 15       | 1.000000  | 4.286007     | 0.998778          | 0.860520            |\n",
      "PROGRESS: +-----------+----------+-----------+--------------+-------------------+---------------------+\n",
      "PROGRESS: Model selection based on validation accuracy:\n",
      "PROGRESS: ---------------------------------------------\n",
      "PROGRESS: LogisticClassifier              : 0.871552\n",
      "PROGRESS: SVMClassifier                   : 0.86052\n",
      "PROGRESS: ---------------------------------------------\n",
      "PROGRESS: Selecting LogisticClassifier based on validation set performance.\n"
     ]
    }
   ],
   "source": [
    "traindata_path=\"/home2/yannick2/github/bagofwords/data/labeledTrainData.tsv\"\n",
    "\n",
    "import graphlab as gl\n",
    "train_data = gl.SFrame.read_csv(traindata_path,header=True, delimiter='\\t',quote_char='\"', column_type_hints = {'id':str, 'sentiment' : int, 'review':str } )\n",
    "train_data['1grams features'] = gl.text_analytics.count_ngrams(train_data['review'],1)\n",
    "train_data['2grams features'] = gl.text_analytics.count_ngrams(train_data['review'],2)\n",
    "cls = gl.classifier.create(train_data, target='sentiment', features=['1grams features','2grams features'])"
   ]
  },
  {
   "cell_type": "markdown",
   "metadata": {},
   "source": [
    "In the rest of this notebook, we will explain this code recipe in details, by demonstrating how this recipe can used to create IMDB movie reviews sentiment classifier."
   ]
  },
  {
   "cell_type": "markdown",
   "metadata": {},
   "source": [
    "## Set up"
   ]
  },
  {
   "cell_type": "markdown",
   "metadata": {},
   "source": [
    "Before we begin constructing the classifiers, we need to import some Python libraries: graphlab (gl), and IPython display utilities. We also set IPython notebook and GraphLab Canvas to produce plots directly in this notebook."
   ]
  },
  {
   "cell_type": "code",
   "execution_count": 3,
   "metadata": {
    "collapsed": false
   },
   "outputs": [],
   "source": [
    "import graphlab as gl\n",
    "from IPython.display import display\n",
    "from IPython.display import Image\n",
    "\n",
    "gl.canvas.set_target('ipynb')"
   ]
  },
  {
   "cell_type": "markdown",
   "metadata": {},
   "source": [
    "## Dataset"
   ]
  },
  {
   "cell_type": "markdown",
   "metadata": {},
   "source": [
    "Throughout this notebook, I will use Kaggle's IMDB movies reviews datasets that is available to download from the following link: https://www.kaggle.com/c/word2vec-nlp-tutorial/data. I downloaded labeledTrainData.tsv and testData.tsv files, and unzipped them to the following local files."
   ]
  },
  {
   "cell_type": "code",
   "execution_count": 4,
   "metadata": {
    "collapsed": false
   },
   "outputs": [],
   "source": [
    "traindata_path = \"/home2/yannick2/github/bagofwords/data/labeledTrainData.tsv\"\n",
    "testdata_path = \"/home2/yannick2/github/bagofwords/data/testData.tsv\""
   ]
  },
  {
   "cell_type": "markdown",
   "metadata": {},
   "source": [
    "## Loading Data"
   ]
  },
  {
   "cell_type": "markdown",
   "metadata": {},
   "source": [
    "We will load the data with IMDB movie reviews to an SFrame using SFrame.read_csv function."
   ]
  },
  {
   "cell_type": "code",
   "execution_count": 5,
   "metadata": {
    "collapsed": false
   },
   "outputs": [
    {
     "name": "stdout",
     "output_type": "stream",
     "text": [
      "PROGRESS: Finished parsing file /home2/yannick2/github/bagofwords/data/labeledTrainData.tsv\n",
      "PROGRESS: Parsing completed. Parsed 25000 lines in 0.240359 secs.\n"
     ]
    }
   ],
   "source": [
    "movies_reviews_data = gl.SFrame.read_csv(traindata_path,header=True, delimiter='\\t',quote_char='\"', column_type_hints = {'id':str, 'sentiment' : str, 'review':str } )"
   ]
  },
  {
   "cell_type": "markdown",
   "metadata": {},
   "source": [
    "By using the SFrame show function, we can visualize the data and notice that the train dataset consists of 12,500 positive and 12,500 negative, and overall 24,932 unique reviews."
   ]
  },
  {
   "cell_type": "code",
   "execution_count": 6,
   "metadata": {
    "collapsed": false
   },
   "outputs": [
    {
     "data": {
      "application/javascript": [
       "$(\"head\").append($(\"<link/>\").attr({\n",
       "  rel:  \"stylesheet\",\n",
       "  type: \"text/css\",\n",
       "  href: \"//cdnjs.cloudflare.com/ajax/libs/font-awesome/4.1.0/css/font-awesome.min.css\"\n",
       "}));\n",
       "$(\"head\").append($(\"<link/>\").attr({\n",
       "  rel:  \"stylesheet\",\n",
       "  type: \"text/css\",\n",
       "  href: \"//dato.com/files/canvas/1.4.0/css/canvas.css\"\n",
       "}));\n",
       "\n",
       "            (function(){\n",
       "\n",
       "                var e = null;\n",
       "                if (typeof element == 'undefined') {\n",
       "                    var scripts = document.getElementsByTagName('script');\n",
       "                    var thisScriptTag = scripts[scripts.length-1];\n",
       "                    var parentDiv = thisScriptTag.parentNode;\n",
       "                    e = document.createElement('div');\n",
       "                    parentDiv.appendChild(e);\n",
       "                } else {\n",
       "                    e = element[0];\n",
       "                }\n",
       "\n",
       "                require(['//dato.com/files/canvas/1.4.0/js/ipython_app.js'], function(IPythonApp){\n",
       "                    var app = new IPythonApp();\n",
       "                    app.attachView('sframe','Summary', {\"ipython\": true, \"sketch\": {\"review\": {\"complete\": true, \"numeric\": false, \"num_unique\": 24932, \"num_undefined\": 0, \"progress\": 1.0, \"frequent_items\": {\"When i got this movie free from my job, along with three other similar movies.. I watched then with very low expectations. Now this movie isn't bad per se. You get what you pay for. It is a tale of love, betrayal, lies, sex, scandal, everything you want in a movie. Definitely not a Hollywood blockbuster, but for cheap thrills it is not that bad. I would probably never watch this movie again. In a nutshell this is the kind of movie that you would see either very late at night on a local television station that is just wanting to take up some time, or you would see it on a Sunday afternoon on a local television station that is trying to take up some time. Despite the bad acting, clich\\ufffd\\ufffd lines, and sub par camera work. I didn't have the desire to turn off the movie and pretend like it never popped into my DVD player. The story has been done many times in many movies. This one is no different, no better, no worse. <br /><br />Just your average movie.\": {\"frequency\": 3, \"value\": \"When i got this ...\"}, \"You do realize that you've been watching the EXACT SAME SHOW for eight years, right? I could understand the initial curiosity of seeing strangers co-exist on an Island, but you'd think that after watching unkempt, stink-ladened heroes run roughshod through the bush with an egg on a spoon for half a decade would be enough to get you to commit to something a little more original (and interesting).<br /><br />And I'm not even speaking of the shows validity which for the record I find questionable. It's just hard to suspend disbelief for \\\"Bushy Bill\\\" eating a rat when the entire crew of producers and camera people are housed in an air conditioned make-shift bio-dome sipping frosty mochcinno's with moxy.<br /><br />What's the appeal here? I don't care about these people or their meandering lives. I just don't get it. But if you DO find yourself being captivated by hairy, unwashed people, I suggest you turn off your TV and just take a trip to your local bus station where you can see people like this in their TRUE habitat. They call them HOMELESS PEOPLE, and free of charge, you can sit back and marvel in their uncanny ability to retrieve various cigarette debris from a plethora of garbage canisters, eventually striking \\\"pay-dirt\\\" and fashioning a homemade Dr. Frankenstein-styled cancer-stick, all the while begging people for change for food when the stink of \\\"Aqua Velva\\\" on their breath is enough to suggest otherwise. And the best part? Much like Survivor, every week one member of the tribe \\\"Leaves\\\" the \\\"Island\\\" when they are unceremoniously sent packing to the local Institution when the frightening unmedicated state of full-blown schizophrenia kicks into gear! Now THAT'S ENTERTAINMENT!\": {\"frequency\": 3, \"value\": \"You do realize ...\"}, \"How has this piece of crap stayed on TV this long? It's terrible. It makes me want to shoot someone. It's so fake that it is actually worse than a 1940s sci-fi movie. I'd rather have a stroke than watch this nonsense. I remember watching it when it first came out. I thought, hey this could be interesting, then I found out how absolutely, insanely, ridiculously stupid it really was. It was so bad that I actually took out my pocket knife and stuck my hand to the table.<br /><br />Please people, stop watching this and all other reality shows, they're the trash that is jamming the networks and canceling quality programming that requires some thought to create.\": {\"frequency\": 3, \"value\": \"How has this piece ...\"}}, \"size\": 25000}, \"id\": {\"complete\": true, \"numeric\": false, \"num_unique\": 24924, \"num_undefined\": 0, \"progress\": 1.0, \"frequent_items\": {}, \"size\": 25000}, \"sentiment\": {\"complete\": true, \"numeric\": false, \"num_unique\": 2, \"num_undefined\": 0, \"progress\": 1.0, \"frequent_items\": {\"1\": {\"frequency\": 12500, \"value\": \"1\"}, \"0\": {\"frequency\": 12500, \"value\": \"0\"}}, \"size\": 25000}}, \"selected_variable\": {\"name\": [\"movies_reviews_data\"], \"column_identifiers\": [\"review\", \"id\", \"sentiment\"], \"view_component\": \"Summary\", \"view_file\": \"sframe\", \"view_params\": {\"y\": null, \"x\": null, \"columns\": [\"id\", \"sentiment\", \"review\"], \"view\": null}, \"view_components\": [\"Summary\", \"Table\", \"Bar Chart\", \"Line Chart\", \"Scatter Plot\", \"Heat Map\", \"Plots\"], \"type\": \"SFrame\", \"columns\": [{\"dtype\": \"str\", \"name\": \"id\"}, {\"dtype\": \"str\", \"name\": \"sentiment\"}, {\"dtype\": \"str\", \"name\": \"review\"}], \"descriptives\": {\"rows\": 25000, \"columns\": 3}}, \"columns\": [{\"dtype\": \"str\", \"name\": \"id\"}, {\"dtype\": \"str\", \"name\": \"sentiment\"}, {\"dtype\": \"str\", \"name\": \"review\"}]}, e);\n",
       "                });\n",
       "            })();\n",
       "        "
      ],
      "text/plain": [
       "<IPython.core.display.Javascript object>"
      ]
     },
     "execution_count": 6,
     "metadata": {},
     "output_type": "execute_result"
    }
   ],
   "source": [
    "movies_reviews_data.show()"
   ]
  },
  {
   "cell_type": "markdown",
   "metadata": {},
   "source": [
    "## Constructing Bag-of-Words Classifier "
   ]
  },
  {
   "cell_type": "markdown",
   "metadata": {},
   "source": [
    "One of the common techniques to perform document classification (and reviews classification) is using Bag-of-Words model, in which the frequency of each word in the document is used as a feature for training a classifier. GraphLab's text analytics toolkit makes it easy to calculate the frequency of each word in each review. Namely, by using the count_ngrams function with n=1, we can calculate the frequency of each word in each review. By running the following command:"
   ]
  },
  {
   "cell_type": "code",
   "execution_count": 7,
   "metadata": {
    "collapsed": false
   },
   "outputs": [],
   "source": [
    "movies_reviews_data['1grams features'] = gl.text_analytics.count_ngrams(movies_reviews_data ['review'],1)"
   ]
  },
  {
   "cell_type": "markdown",
   "metadata": {},
   "source": [
    "By running the last command, we created a new column in movies_reviews_data SFrame object. In this column each value is a dictionary object, where each dictionary's keys are the different words which appear in the corresponding review, and the dictionary's values are the frequency of each word.\n",
    "We can view the values of this new column using the following command."
   ]
  },
  {
   "cell_type": "code",
   "execution_count": 8,
   "metadata": {
    "collapsed": false
   },
   "outputs": [
    {
     "data": {
      "application/javascript": [
       "$(\"head\").append($(\"<link/>\").attr({\n",
       "  rel:  \"stylesheet\",\n",
       "  type: \"text/css\",\n",
       "  href: \"//cdnjs.cloudflare.com/ajax/libs/font-awesome/4.1.0/css/font-awesome.min.css\"\n",
       "}));\n",
       "$(\"head\").append($(\"<link/>\").attr({\n",
       "  rel:  \"stylesheet\",\n",
       "  type: \"text/css\",\n",
       "  href: \"//dato.com/files/canvas/1.4.0/css/canvas.css\"\n",
       "}));\n",
       "\n",
       "            (function(){\n",
       "\n",
       "                var e = null;\n",
       "                if (typeof element == 'undefined') {\n",
       "                    var scripts = document.getElementsByTagName('script');\n",
       "                    var thisScriptTag = scripts[scripts.length-1];\n",
       "                    var parentDiv = thisScriptTag.parentNode;\n",
       "                    e = document.createElement('div');\n",
       "                    parentDiv.appendChild(e);\n",
       "                } else {\n",
       "                    e = element[0];\n",
       "                }\n",
       "\n",
       "                require(['//dato.com/files/canvas/1.4.0/js/ipython_app.js'], function(IPythonApp){\n",
       "                    var app = new IPythonApp();\n",
       "                    app.attachView('sframe','Summary', {\"ipython\": true, \"sketch\": {\"review\": {\"complete\": true, \"numeric\": false, \"num_unique\": 24932, \"num_undefined\": 0, \"progress\": 1.0, \"frequent_items\": {\"When i got this movie free from my job, along with three other similar movies.. I watched then with very low expectations. Now this movie isn't bad per se. You get what you pay for. It is a tale of love, betrayal, lies, sex, scandal, everything you want in a movie. Definitely not a Hollywood blockbuster, but for cheap thrills it is not that bad. I would probably never watch this movie again. In a nutshell this is the kind of movie that you would see either very late at night on a local television station that is just wanting to take up some time, or you would see it on a Sunday afternoon on a local television station that is trying to take up some time. Despite the bad acting, clich\\ufffd\\ufffd lines, and sub par camera work. I didn't have the desire to turn off the movie and pretend like it never popped into my DVD player. The story has been done many times in many movies. This one is no different, no better, no worse. <br /><br />Just your average movie.\": {\"frequency\": 3, \"value\": \"When i got this ...\"}, \"You do realize that you've been watching the EXACT SAME SHOW for eight years, right? I could understand the initial curiosity of seeing strangers co-exist on an Island, but you'd think that after watching unkempt, stink-ladened heroes run roughshod through the bush with an egg on a spoon for half a decade would be enough to get you to commit to something a little more original (and interesting).<br /><br />And I'm not even speaking of the shows validity which for the record I find questionable. It's just hard to suspend disbelief for \\\"Bushy Bill\\\" eating a rat when the entire crew of producers and camera people are housed in an air conditioned make-shift bio-dome sipping frosty mochcinno's with moxy.<br /><br />What's the appeal here? I don't care about these people or their meandering lives. I just don't get it. But if you DO find yourself being captivated by hairy, unwashed people, I suggest you turn off your TV and just take a trip to your local bus station where you can see people like this in their TRUE habitat. They call them HOMELESS PEOPLE, and free of charge, you can sit back and marvel in their uncanny ability to retrieve various cigarette debris from a plethora of garbage canisters, eventually striking \\\"pay-dirt\\\" and fashioning a homemade Dr. Frankenstein-styled cancer-stick, all the while begging people for change for food when the stink of \\\"Aqua Velva\\\" on their breath is enough to suggest otherwise. And the best part? Much like Survivor, every week one member of the tribe \\\"Leaves\\\" the \\\"Island\\\" when they are unceremoniously sent packing to the local Institution when the frightening unmedicated state of full-blown schizophrenia kicks into gear! Now THAT'S ENTERTAINMENT!\": {\"frequency\": 3, \"value\": \"You do realize ...\"}, \"How has this piece of crap stayed on TV this long? It's terrible. It makes me want to shoot someone. It's so fake that it is actually worse than a 1940s sci-fi movie. I'd rather have a stroke than watch this nonsense. I remember watching it when it first came out. I thought, hey this could be interesting, then I found out how absolutely, insanely, ridiculously stupid it really was. It was so bad that I actually took out my pocket knife and stuck my hand to the table.<br /><br />Please people, stop watching this and all other reality shows, they're the trash that is jamming the networks and canceling quality programming that requires some thought to create.\": {\"frequency\": 3, \"value\": \"How has this piece ...\"}}, \"size\": 25000}, \"1grams features\": {\"keys\": {\"complete\": true, \"numeric\": false, \"num_unique\": 76058, \"num_undefined\": 0, \"progress\": 1.0, \"frequent_items\": {\"child\": {\"frequency\": 1003, \"value\": \"child\"}, \"four\": {\"frequency\": 751, \"value\": \"four\"}, \"hate\": {\"frequency\": 696, \"value\": \"hate\"}, \"poorly\": {\"frequency\": 627, \"value\": \"poorly\"}, \"whose\": {\"frequency\": 847, \"value\": \"whose\"}, \"under\": {\"frequency\": 1258, \"value\": \"under\"}, \"sorry\": {\"frequency\": 722, \"value\": \"sorry\"}, \"worth\": {\"frequency\": 2090, \"value\": \"worth\"}, \"every\": {\"frequency\": 3289, \"value\": \"every\"}, \"jack\": {\"frequency\": 579, \"value\": \"jack\"}, \"school\": {\"frequency\": 1252, \"value\": \"school\"}, \"enjoy\": {\"frequency\": 1620, \"value\": \"enjoy\"}, \"force\": {\"frequency\": 450, \"value\": \"force\"}, \"tired\": {\"frequency\": 356, \"value\": \"tired\"}, \"japanese\": {\"frequency\": 401, \"value\": \"japanese\"}, \"likely\": {\"frequency\": 407, \"value\": \"likely\"}, \"street\": {\"frequency\": 547, \"value\": \"street\"}, \"blue\": {\"frequency\": 360, \"value\": \"blue\"}, \"near\": {\"frequency\": 773, \"value\": \"near\"}, \"above\": {\"frequency\": 777, \"value\": \"above\"}, \"new\": {\"frequency\": 3223, \"value\": \"new\"}, \"ever\": {\"frequency\": 4803, \"value\": \"ever\"}, \"disney\": {\"frequency\": 412, \"value\": \"disney\"}, \"told\": {\"frequency\": 963, \"value\": \"told\"}, \"hero\": {\"frequency\": 804, \"value\": \"hero\"}, \"never\": {\"frequency\": 5021, \"value\": \"never\"}, \"here\": {\"frequency\": 4367, \"value\": \"here\"}, \"studio\": {\"frequency\": 418, \"value\": \"studio\"}, \"cult\": {\"frequency\": 409, \"value\": \"cult\"}, \"100\": {\"frequency\": 402, \"value\": \"100\"}, \"kids\": {\"frequency\": 1267, \"value\": \"kids\"}, \"daughter\": {\"frequency\": 852, \"value\": \"daughter\"}, \"leaves\": {\"frequency\": 643, \"value\": \"leaves\"}, \"changed\": {\"frequency\": 438, \"value\": \"changed\"}, \"credit\": {\"frequency\": 493, \"value\": \"credit\"}, \"changes\": {\"frequency\": 356, \"value\": \"changes\"}, \"fantastic\": {\"frequency\": 715, \"value\": \"fantastic\"}, \"highly\": {\"frequency\": 1067, \"value\": \"highly\"}, \"brought\": {\"frequency\": 694, \"value\": \"brought\"}, \"total\": {\"frequency\": 600, \"value\": \"total\"}, \"plot\": {\"frequency\": 5034, \"value\": \"plot\"}, \"would\": {\"frequency\": 8131, \"value\": \"would\"}, \"music\": {\"frequency\": 2304, \"value\": \"music\"}, \"recommend\": {\"frequency\": 1595, \"value\": \"recommend\"}, \"type\": {\"frequency\": 1013, \"value\": \"type\"}, \"tell\": {\"frequency\": 1530, \"value\": \"tell\"}, \"successful\": {\"frequency\": 488, \"value\": \"successful\"}, \"oscar\": {\"frequency\": 665, \"value\": \"oscar\"}, \"award\": {\"frequency\": 375, \"value\": \"award\"}, \"adult\": {\"frequency\": 432, \"value\": \"adult\"}, \"excellent\": {\"frequency\": 1780, \"value\": \"excellent\"}, \"90\": {\"frequency\": 472, \"value\": \"90\"}, \"hold\": {\"frequency\": 517, \"value\": \"hold\"}, \"must\": {\"frequency\": 2790, \"value\": \"must\"}, \"shoot\": {\"frequency\": 423, \"value\": \"shoot\"}, \"word\": {\"frequency\": 838, \"value\": \"word\"}, \"room\": {\"frequency\": 772, \"value\": \"room\"}, \"work\": {\"frequency\": 3519, \"value\": \"work\"}, \"movies\": {\"frequency\": 5357, \"value\": \"movies\"}, \"era\": {\"frequency\": 536, \"value\": \"era\"}, \"mr\": {\"frequency\": 962, \"value\": \"mr\"}, \"my\": {\"frequency\": 8118, \"value\": \"my\"}, \"example\": {\"frequency\": 1222, \"value\": \"example\"}, \"give\": {\"frequency\": 2954, \"value\": \"give\"}, \"climax\": {\"frequency\": 408, \"value\": \"climax\"}, \"laughs\": {\"frequency\": 599, \"value\": \"laughs\"}, \"want\": {\"frequency\": 3107, \"value\": \"want\"}, \"times\": {\"frequency\": 2800, \"value\": \"times\"}, \"end\": {\"frequency\": 4542, \"value\": \"end\"}, \"thing\": {\"frequency\": 3743, \"value\": \"thing\"}, \"song\": {\"frequency\": 767, \"value\": \"song\"}, \"feature\": {\"frequency\": 709, \"value\": \"feature\"}, \"how\": {\"frequency\": 6320, \"value\": \"how\"}, \"amazing\": {\"frequency\": 1110, \"value\": \"amazing\"}, \"writers\": {\"frequency\": 595, \"value\": \"writers\"}, \"badly\": {\"frequency\": 593, \"value\": \"badly\"}, \"beauty\": {\"frequency\": 570, \"value\": \"beauty\"}, \"mess\": {\"frequency\": 620, \"value\": \"mess\"}, \"earlier\": {\"frequency\": 612, \"value\": \"earlier\"}, \"wrong\": {\"frequency\": 1590, \"value\": \"wrong\"}, \"law\": {\"frequency\": 419, \"value\": \"law\"}, \"attempt\": {\"frequency\": 946, \"value\": \"attempt\"}, \"effective\": {\"frequency\": 464, \"value\": \"effective\"}, \"appreciate\": {\"frequency\": 481, \"value\": \"appreciate\"}, \"lost\": {\"frequency\": 1334, \"value\": \"lost\"}, \"keeps\": {\"frequency\": 600, \"value\": \"keeps\"}, \"worst\": {\"frequency\": 2269, \"value\": \"worst\"}, \"order\": {\"frequency\": 838, \"value\": \"order\"}, \"office\": {\"frequency\": 474, \"value\": \"office\"}, \"over\": {\"frequency\": 4767, \"value\": \"over\"}, \"before\": {\"frequency\": 3604, \"value\": \"before\"}, \"fit\": {\"frequency\": 449, \"value\": \"fit\"}, \"personal\": {\"frequency\": 577, \"value\": \"personal\"}, \"expectations\": {\"frequency\": 375, \"value\": \"expectations\"}, \"writing\": {\"frequency\": 1157, \"value\": \"writing\"}, \"better\": {\"frequency\": 4625, \"value\": \"better\"}, \"production\": {\"frequency\": 1468, \"value\": \"production\"}, \"eventually\": {\"frequency\": 663, \"value\": \"eventually\"}, \"them\": {\"frequency\": 5595, \"value\": \"them\"}, \"break\": {\"frequency\": 557, \"value\": \"break\"}, \"band\": {\"frequency\": 361, \"value\": \"band\"}, \"effects\": {\"frequency\": 1807, \"value\": \"effects\"}, \"they\": {\"frequency\": 10845, \"value\": \"they\"}, \"one\": {\"frequency\": 14164, \"value\": \"one\"}, \"each\": {\"frequency\": 2054, \"value\": \"each\"}, \"went\": {\"frequency\": 1313, \"value\": \"went\"}, \"side\": {\"frequency\": 1109, \"value\": \"side\"}, \"mean\": {\"frequency\": 1456, \"value\": \"mean\"}, \"fairly\": {\"frequency\": 542, \"value\": \"fairly\"}, \"series\": {\"frequency\": 1888, \"value\": \"series\"}, \"comedies\": {\"frequency\": 373, \"value\": \"comedies\"}, \"god\": {\"frequency\": 909, \"value\": \"god\"}, \"cheesy\": {\"frequency\": 552, \"value\": \"cheesy\"}, \"re\": {\"frequency\": 3408, \"value\": \"re\"}, \"got\": {\"frequency\": 3020, \"value\": \"got\"}, \"revenge\": {\"frequency\": 452, \"value\": \"revenge\"}, \"free\": {\"frequency\": 643, \"value\": \"free\"}, \"standard\": {\"frequency\": 420, \"value\": \"standard\"}, \"masterpiece\": {\"frequency\": 579, \"value\": \"masterpiece\"}, \"wanted\": {\"frequency\": 1210, \"value\": \"wanted\"}, \"created\": {\"frequency\": 495, \"value\": \"created\"}, \"starts\": {\"frequency\": 1070, \"value\": \"starts\"}, \"days\": {\"frequency\": 1161, \"value\": \"days\"}, \"isn\": {\"frequency\": 2597, \"value\": \"isn\"}, \"uses\": {\"frequency\": 501, \"value\": \"uses\"}, \"loud\": {\"frequency\": 418, \"value\": \"loud\"}, \"already\": {\"frequency\": 1243, \"value\": \"already\"}, \"features\": {\"frequency\": 588, \"value\": \"features\"}, \"grade\": {\"frequency\": 432, \"value\": \"grade\"}, \"fantasy\": {\"frequency\": 499, \"value\": \"fantasy\"}, \"another\": {\"frequency\": 3619, \"value\": \"another\"}, \"wasn\": {\"frequency\": 1931, \"value\": \"wasn\"}, \"comic\": {\"frequency\": 716, \"value\": \"comic\"}, \"rated\": {\"frequency\": 454, \"value\": \"rated\"}, \"top\": {\"frequency\": 1644, \"value\": \"top\"}, \"girls\": {\"frequency\": 829, \"value\": \"girls\"}, \"fiction\": {\"frequency\": 381, \"value\": \"fiction\"}, \"needed\": {\"frequency\": 636, \"value\": \"needed\"}, \"master\": {\"frequency\": 387, \"value\": \"master\"}, \"too\": {\"frequency\": 5716, \"value\": \"too\"}, \"tom\": {\"frequency\": 540, \"value\": \"tom\"}, \"hollywood\": {\"frequency\": 1518, \"value\": \"hollywood\"}, \"john\": {\"frequency\": 1593, \"value\": \"john\"}, \"murder\": {\"frequency\": 809, \"value\": \"murder\"}, \"took\": {\"frequency\": 1009, \"value\": \"took\"}, \"predictable\": {\"frequency\": 774, \"value\": \"predictable\"}, \"western\": {\"frequency\": 425, \"value\": \"western\"}, \"somewhat\": {\"frequency\": 905, \"value\": \"somewhat\"}, \"wasted\": {\"frequency\": 522, \"value\": \"wasted\"}, \"begins\": {\"frequency\": 710, \"value\": \"begins\"}, \"spoiler\": {\"frequency\": 356, \"value\": \"spoiler\"}, \"roles\": {\"frequency\": 1007, \"value\": \"roles\"}, \"second\": {\"frequency\": 1713, \"value\": \"second\"}, \"project\": {\"frequency\": 441, \"value\": \"project\"}, \"matter\": {\"frequency\": 1039, \"value\": \"matter\"}, \"silly\": {\"frequency\": 802, \"value\": \"silly\"}, \"friend\": {\"frequency\": 1209, \"value\": \"friend\"}, \"feeling\": {\"frequency\": 1028, \"value\": \"feeling\"}, \"screenplay\": {\"frequency\": 623, \"value\": \"screenplay\"}, \"sees\": {\"frequency\": 497, \"value\": \"sees\"}, \"modern\": {\"frequency\": 788, \"value\": \"modern\"}, \"mind\": {\"frequency\": 1809, \"value\": \"mind\"}, \"talking\": {\"frequency\": 861, \"value\": \"talking\"}, \"manner\": {\"frequency\": 379, \"value\": \"manner\"}, \"seen\": {\"frequency\": 5330, \"value\": \"seen\"}, \"seem\": {\"frequency\": 1924, \"value\": \"seem\"}, \"tells\": {\"frequency\": 775, \"value\": \"tells\"}, \"forced\": {\"frequency\": 625, \"value\": \"forced\"}, \"recommended\": {\"frequency\": 487, \"value\": \"recommended\"}, \"amusing\": {\"frequency\": 478, \"value\": \"amusing\"}, \"even\": {\"frequency\": 8419, \"value\": \"even\"}, \"nobody\": {\"frequency\": 411, \"value\": \"nobody\"}, \"though\": {\"frequency\": 3592, \"value\": \"though\"}, \"cinematic\": {\"frequency\": 386, \"value\": \"cinematic\"}, \"involving\": {\"frequency\": 430, \"value\": \"involving\"}, \"plenty\": {\"frequency\": 568, \"value\": \"plenty\"}, \"thriller\": {\"frequency\": 736, \"value\": \"thriller\"}, \"laughing\": {\"frequency\": 497, \"value\": \"laughing\"}, \"don\": {\"frequency\": 6471, \"value\": \"don\"}, \"m\": {\"frequency\": 3871, \"value\": \"m\"}, \"dog\": {\"frequency\": 498, \"value\": \"dog\"}, \"points\": {\"frequency\": 722, \"value\": \"points\"}, \"entertaining\": {\"frequency\": 1342, \"value\": \"entertaining\"}, \"came\": {\"frequency\": 1537, \"value\": \"came\"}, \"saying\": {\"frequency\": 873, \"value\": \"saying\"}, \"ending\": {\"frequency\": 1937, \"value\": \"ending\"}, \"attempts\": {\"frequency\": 540, \"value\": \"attempts\"}, \"subtle\": {\"frequency\": 405, \"value\": \"subtle\"}, \"enjoyed\": {\"frequency\": 1140, \"value\": \"enjoyed\"}, \"situations\": {\"frequency\": 458, \"value\": \"situations\"}, \"explain\": {\"frequency\": 425, \"value\": \"explain\"}, \"theme\": {\"frequency\": 694, \"value\": \"theme\"}, \"rich\": {\"frequency\": 517, \"value\": \"rich\"}, \"do\": {\"frequency\": 6652, \"value\": \"do\"}, \"de\": {\"frequency\": 478, \"value\": \"de\"}, \"stop\": {\"frequency\": 1000, \"value\": \"stop\"}, \"despite\": {\"frequency\": 1213, \"value\": \"despite\"}, \"dr\": {\"frequency\": 496, \"value\": \"dr\"}, \"unfortunately\": {\"frequency\": 1243, \"value\": \"unfortunately\"}, \"runs\": {\"frequency\": 477, \"value\": \"runs\"}, \"twice\": {\"frequency\": 377, \"value\": \"twice\"}, \"bad\": {\"frequency\": 5899, \"value\": \"bad\"}, \"shots\": {\"frequency\": 799, \"value\": \"shots\"}, \"release\": {\"frequency\": 686, \"value\": \"release\"}, \"decides\": {\"frequency\": 500, \"value\": \"decides\"}, \"human\": {\"frequency\": 1271, \"value\": \"human\"}, \"fair\": {\"frequency\": 438, \"value\": \"fair\"}, \"decided\": {\"frequency\": 666, \"value\": \"decided\"}, \"result\": {\"frequency\": 602, \"value\": \"result\"}, \"disturbing\": {\"frequency\": 407, \"value\": \"disturbing\"}, \"best\": {\"frequency\": 4899, \"value\": \"best\"}, \"subject\": {\"frequency\": 616, \"value\": \"subject\"}, \"said\": {\"frequency\": 1925, \"value\": \"said\"}, \"lots\": {\"frequency\": 701, \"value\": \"lots\"}, \"away\": {\"frequency\": 2417, \"value\": \"away\"}, \"portrayed\": {\"frequency\": 556, \"value\": \"portrayed\"}, \"score\": {\"frequency\": 936, \"value\": \"score\"}, \"drawn\": {\"frequency\": 407, \"value\": \"drawn\"}, \"we\": {\"frequency\": 5948, \"value\": \"we\"}, \"men\": {\"frequency\": 1386, \"value\": \"men\"}, \"terms\": {\"frequency\": 398, \"value\": \"terms\"}, \"nature\": {\"frequency\": 593, \"value\": \"nature\"}, \"weak\": {\"frequency\": 674, \"value\": \"weak\"}, \"however\": {\"frequency\": 2953, \"value\": \"however\"}, \"cop\": {\"frequency\": 452, \"value\": \"cop\"}, \"country\": {\"frequency\": 776, \"value\": \"country\"}, \"against\": {\"frequency\": 1264, \"value\": \"against\"}, \"tough\": {\"frequency\": 428, \"value\": \"tough\"}, \"had\": {\"frequency\": 7457, \"value\": \"had\"}, \"speak\": {\"frequency\": 482, \"value\": \"speak\"}, \"puts\": {\"frequency\": 386, \"value\": \"puts\"}, \"three\": {\"frequency\": 1829, \"value\": \"three\"}, \"been\": {\"frequency\": 6655, \"value\": \"been\"}, \"quickly\": {\"frequency\": 598, \"value\": \"quickly\"}, \"much\": {\"frequency\": 7086, \"value\": \"much\"}, \"interest\": {\"frequency\": 958, \"value\": \"interest\"}, \"basic\": {\"frequency\": 465, \"value\": \"basic\"}, \"expected\": {\"frequency\": 662, \"value\": \"expected\"}, \"lovely\": {\"frequency\": 384, \"value\": \"lovely\"}, \"life\": {\"frequency\": 4616, \"value\": \"life\"}, \"easy\": {\"frequency\": 738, \"value\": \"easy\"}, \"personally\": {\"frequency\": 425, \"value\": \"personally\"}, \"catch\": {\"frequency\": 430, \"value\": \"catch\"}, \"worked\": {\"frequency\": 596, \"value\": \"worked\"}, \"exception\": {\"frequency\": 392, \"value\": \"exception\"}, \"save\": {\"frequency\": 928, \"value\": \"save\"}, \"air\": {\"frequency\": 568, \"value\": \"air\"}, \"weren\": {\"frequency\": 461, \"value\": \"weren\"}, \"suppose\": {\"frequency\": 369, \"value\": \"suppose\"}, \"voice\": {\"frequency\": 879, \"value\": \"voice\"}, \"mistake\": {\"frequency\": 395, \"value\": \"mistake\"}, \"played\": {\"frequency\": 2117, \"value\": \"played\"}, \"is\": {\"frequency\": 22427, \"value\": \"is\"}, \"it\": {\"frequency\": 22276, \"value\": \"it\"}, \"shame\": {\"frequency\": 606, \"value\": \"shame\"}, \"creepy\": {\"frequency\": 532, \"value\": \"creepy\"}, \"in\": {\"frequency\": 22040, \"value\": \"in\"}, \"if\": {\"frequency\": 10694, \"value\": \"if\"}, \"suggest\": {\"frequency\": 359, \"value\": \"suggest\"}, \"make\": {\"frequency\": 6134, \"value\": \"make\"}, \"complex\": {\"frequency\": 392, \"value\": \"complex\"}, \"several\": {\"frequency\": 1266, \"value\": \"several\"}, \"showing\": {\"frequency\": 724, \"value\": \"showing\"}, \"meets\": {\"frequency\": 615, \"value\": \"meets\"}, \"pick\": {\"frequency\": 424, \"value\": \"pick\"}, \"evil\": {\"frequency\": 1071, \"value\": \"evil\"}, \"hand\": {\"frequency\": 1095, \"value\": \"hand\"}, \"characters\": {\"frequency\": 5087, \"value\": \"characters\"}, \"opportunity\": {\"frequency\": 374, \"value\": \"opportunity\"}, \"kid\": {\"frequency\": 919, \"value\": \"kid\"}, \"kept\": {\"frequency\": 696, \"value\": \"kept\"}, \"greatest\": {\"frequency\": 658, \"value\": \"greatest\"}, \"mother\": {\"frequency\": 1073, \"value\": \"mother\"}, \"the\": {\"frequency\": 24793, \"value\": \"the\"}, \"musical\": {\"frequency\": 722, \"value\": \"musical\"}, \"left\": {\"frequency\": 1834, \"value\": \"left\"}, \"just\": {\"frequency\": 10553, \"value\": \"just\"}, \"aside\": {\"frequency\": 445, \"value\": \"aside\"}, \"thanks\": {\"frequency\": 447, \"value\": \"thanks\"}, \"victim\": {\"frequency\": 375, \"value\": \"victim\"}, \"yes\": {\"frequency\": 1315, \"value\": \"yes\"}, \"yet\": {\"frequency\": 2268, \"value\": \"yet\"}, \"previous\": {\"frequency\": 579, \"value\": \"previous\"}, \"note\": {\"frequency\": 668, \"value\": \"note\"}, \"character\": {\"frequency\": 4845, \"value\": \"character\"}, \"potential\": {\"frequency\": 566, \"value\": \"potential\"}, \"innocent\": {\"frequency\": 380, \"value\": \"innocent\"}, \"has\": {\"frequency\": 10066, \"value\": \"has\"}, \"gave\": {\"frequency\": 1112, \"value\": \"gave\"}, \"casting\": {\"frequency\": 564, \"value\": \"casting\"}, \"possible\": {\"frequency\": 930, \"value\": \"possible\"}, \"possibly\": {\"frequency\": 665, \"value\": \"possibly\"}, \"background\": {\"frequency\": 563, \"value\": \"background\"}, \"unique\": {\"frequency\": 579, \"value\": \"unique\"}, \"apart\": {\"frequency\": 591, \"value\": \"apart\"}, \"50\": {\"frequency\": 428, \"value\": \"50\"}, \"night\": {\"frequency\": 1730, \"value\": \"night\"}, \"right\": {\"frequency\": 2777, \"value\": \"right\"}, \"old\": {\"frequency\": 3482, \"value\": \"old\"}, \"deal\": {\"frequency\": 673, \"value\": \"deal\"}, \"people\": {\"frequency\": 6220, \"value\": \"people\"}, \"somehow\": {\"frequency\": 694, \"value\": \"somehow\"}, \"dead\": {\"frequency\": 1467, \"value\": \"dead\"}, \"escape\": {\"frequency\": 461, \"value\": \"escape\"}, \"humor\": {\"frequency\": 1095, \"value\": \"humor\"}, \"for\": {\"frequency\": 17883, \"value\": \"for\"}, \"bottom\": {\"frequency\": 404, \"value\": \"bottom\"}, \"comments\": {\"frequency\": 697, \"value\": \"comments\"}, \"filming\": {\"frequency\": 367, \"value\": \"filming\"}, \"starring\": {\"frequency\": 453, \"value\": \"starring\"}, \"memorable\": {\"frequency\": 621, \"value\": \"memorable\"}, \"post\": {\"frequency\": 437, \"value\": \"post\"}, \"super\": {\"frequency\": 404, \"value\": \"super\"}, \"o\": {\"frequency\": 680, \"value\": \"o\"}, \"plus\": {\"frequency\": 574, \"value\": \"plus\"}, \"slightly\": {\"frequency\": 513, \"value\": \"slightly\"}, \"presence\": {\"frequency\": 389, \"value\": \"presence\"}, \"son\": {\"frequency\": 952, \"value\": \"son\"}, \"down\": {\"frequency\": 3102, \"value\": \"down\"}, \"support\": {\"frequency\": 369, \"value\": \"support\"}, \"constantly\": {\"frequency\": 391, \"value\": \"constantly\"}, \"fight\": {\"frequency\": 910, \"value\": \"fight\"}, \"way\": {\"frequency\": 6031, \"value\": \"way\"}, \"call\": {\"frequency\": 861, \"value\": \"call\"}, \"was\": {\"frequency\": 16165, \"value\": \"was\"}, \"war\": {\"frequency\": 1159, \"value\": \"war\"}, \"happy\": {\"frequency\": 854, \"value\": \"happy\"}, \"head\": {\"frequency\": 1334, \"value\": \"head\"}, \"form\": {\"frequency\": 707, \"value\": \"form\"}, \"offer\": {\"frequency\": 361, \"value\": \"offer\"}, \"taken\": {\"frequency\": 934, \"value\": \"taken\"}, \"hear\": {\"frequency\": 680, \"value\": \"hear\"}, \"true\": {\"frequency\": 1973, \"value\": \"true\"}, \"inside\": {\"frequency\": 533, \"value\": \"inside\"}, \"until\": {\"frequency\": 1615, \"value\": \"until\"}, \"emotional\": {\"frequency\": 582, \"value\": \"emotional\"}, \"classic\": {\"frequency\": 1553, \"value\": \"classic\"}, \"nudity\": {\"frequency\": 504, \"value\": \"nudity\"}, \"believable\": {\"frequency\": 667, \"value\": \"believable\"}, \"annoying\": {\"frequency\": 881, \"value\": \"annoying\"}, \"trip\": {\"frequency\": 435, \"value\": \"trip\"}, \"no\": {\"frequency\": 8205, \"value\": \"no\"}, \"when\": {\"frequency\": 9033, \"value\": \"when\"}, \"actor\": {\"frequency\": 1974, \"value\": \"actor\"}, \"reality\": {\"frequency\": 800, \"value\": \"reality\"}, \"setting\": {\"frequency\": 601, \"value\": \"setting\"}, \"role\": {\"frequency\": 2457, \"value\": \"role\"}, \"brings\": {\"frequency\": 611, \"value\": \"brings\"}, \"picture\": {\"frequency\": 1242, \"value\": \"picture\"}, \"brothers\": {\"frequency\": 445, \"value\": \"brothers\"}, \"surprise\": {\"frequency\": 630, \"value\": \"surprise\"}, \"felt\": {\"frequency\": 1305, \"value\": \"felt\"}, \"convincing\": {\"frequency\": 500, \"value\": \"convincing\"}, \"died\": {\"frequency\": 464, \"value\": \"died\"}, \"younger\": {\"frequency\": 451, \"value\": \"younger\"}, \"longer\": {\"frequency\": 460, \"value\": \"longer\"}, \"together\": {\"frequency\": 1974, \"value\": \"together\"}, \"time\": {\"frequency\": 8733, \"value\": \"time\"}, \"serious\": {\"frequency\": 896, \"value\": \"serious\"}, \"songs\": {\"frequency\": 696, \"value\": \"songs\"}, \"concept\": {\"frequency\": 477, \"value\": \"concept\"}, \"managed\": {\"frequency\": 402, \"value\": \"managed\"}, \"dance\": {\"frequency\": 505, \"value\": \"dance\"}, \"focus\": {\"frequency\": 474, \"value\": \"focus\"}, \"themes\": {\"frequency\": 368, \"value\": \"themes\"}, \"manages\": {\"frequency\": 533, \"value\": \"manages\"}, \"battle\": {\"frequency\": 484, \"value\": \"battle\"}, \"certainly\": {\"frequency\": 1307, \"value\": \"certainly\"}, \"everything\": {\"frequency\": 2033, \"value\": \"everything\"}, \"father\": {\"frequency\": 1442, \"value\": \"father\"}, \"finally\": {\"frequency\": 1381, \"value\": \"finally\"}, \"me\": {\"frequency\": 7342, \"value\": \"me\"}, \"choice\": {\"frequency\": 494, \"value\": \"choice\"}, \"trouble\": {\"frequency\": 484, \"value\": \"trouble\"}, \"minute\": {\"frequency\": 710, \"value\": \"minute\"}, \"cool\": {\"frequency\": 832, \"value\": \"cool\"}, \"impressive\": {\"frequency\": 457, \"value\": \"impressive\"}, \"level\": {\"frequency\": 871, \"value\": \"level\"}, \"did\": {\"frequency\": 4759, \"value\": \"did\"}, \"turns\": {\"frequency\": 1153, \"value\": \"turns\"}, \"gun\": {\"frequency\": 455, \"value\": \"gun\"}, \"leave\": {\"frequency\": 1006, \"value\": \"leave\"}, \"team\": {\"frequency\": 608, \"value\": \"team\"}, \"guy\": {\"frequency\": 2227, \"value\": \"guy\"}, \"says\": {\"frequency\": 946, \"value\": \"says\"}, \"appear\": {\"frequency\": 579, \"value\": \"appear\"}, \"goes\": {\"frequency\": 2155, \"value\": \"goes\"}, \"falling\": {\"frequency\": 366, \"value\": \"falling\"}, \"appeal\": {\"frequency\": 417, \"value\": \"appeal\"}, \"filled\": {\"frequency\": 517, \"value\": \"filled\"}, \"supporting\": {\"frequency\": 822, \"value\": \"supporting\"}, \"french\": {\"frequency\": 557, \"value\": \"french\"}, \"water\": {\"frequency\": 434, \"value\": \"water\"}, \"alone\": {\"frequency\": 956, \"value\": \"alone\"}, \"along\": {\"frequency\": 1616, \"value\": \"along\"}, \"appears\": {\"frequency\": 773, \"value\": \"appears\"}, \"change\": {\"frequency\": 871, \"value\": \"change\"}, \"wait\": {\"frequency\": 669, \"value\": \"wait\"}, \"box\": {\"frequency\": 570, \"value\": \"box\"}, \"boy\": {\"frequency\": 1197, \"value\": \"boy\"}, \"brilliant\": {\"frequency\": 1032, \"value\": \"brilliant\"}, \"usually\": {\"frequency\": 892, \"value\": \"usually\"}, \"weird\": {\"frequency\": 580, \"value\": \"weird\"}, \"love\": {\"frequency\": 4459, \"value\": \"love\"}, \"humour\": {\"frequency\": 369, \"value\": \"humour\"}, \"fake\": {\"frequency\": 408, \"value\": \"fake\"}, \"everybody\": {\"frequency\": 382, \"value\": \"everybody\"}, \"working\": {\"frequency\": 747, \"value\": \"working\"}, \"positive\": {\"frequency\": 462, \"value\": \"positive\"}, \"live\": {\"frequency\": 1355, \"value\": \"live\"}, \"films\": {\"frequency\": 4608, \"value\": \"films\"}, \"today\": {\"frequency\": 1053, \"value\": \"today\"}, \"visual\": {\"frequency\": 462, \"value\": \"visual\"}, \"given\": {\"frequency\": 1633, \"value\": \"given\"}, \"effort\": {\"frequency\": 732, \"value\": \"effort\"}, \"car\": {\"frequency\": 901, \"value\": \"car\"}, \"soul\": {\"frequency\": 367, \"value\": \"soul\"}, \"cat\": {\"frequency\": 374, \"value\": \"cat\"}, \"reviews\": {\"frequency\": 634, \"value\": \"reviews\"}, \"values\": {\"frequency\": 430, \"value\": \"values\"}, \"can\": {\"frequency\": 9610, \"value\": \"can\"}, \"following\": {\"frequency\": 539, \"value\": \"following\"}, \"making\": {\"frequency\": 2559, \"value\": \"making\"}, \"heart\": {\"frequency\": 1137, \"value\": \"heart\"}, \"crazy\": {\"frequency\": 577, \"value\": \"crazy\"}, \"figure\": {\"frequency\": 687, \"value\": \"figure\"}, \"awesome\": {\"frequency\": 419, \"value\": \"awesome\"}, \"confused\": {\"frequency\": 357, \"value\": \"confused\"}, \"heard\": {\"frequency\": 1027, \"value\": \"heard\"}, \"means\": {\"frequency\": 704, \"value\": \"means\"}, \"write\": {\"frequency\": 624, \"value\": \"write\"}, \"actual\": {\"frequency\": 707, \"value\": \"actual\"}, \"pure\": {\"frequency\": 528, \"value\": \"pure\"}, \"unbelievable\": {\"frequency\": 408, \"value\": \"unbelievable\"}, \"may\": {\"frequency\": 2684, \"value\": \"may\"}, \"spot\": {\"frequency\": 363, \"value\": \"spot\"}, \"mad\": {\"frequency\": 402, \"value\": \"mad\"}, \"date\": {\"frequency\": 402, \"value\": \"date\"}, \"such\": {\"frequency\": 4022, \"value\": \"such\"}, \"guys\": {\"frequency\": 1017, \"value\": \"guys\"}, \"man\": {\"frequency\": 3989, \"value\": \"man\"}, \"natural\": {\"frequency\": 419, \"value\": \"natural\"}, \"remember\": {\"frequency\": 1444, \"value\": \"remember\"}, \"maybe\": {\"frequency\": 1978, \"value\": \"maybe\"}, \"tale\": {\"frequency\": 666, \"value\": \"tale\"}, \"so\": {\"frequency\": 11720, \"value\": \"so\"}, \"talk\": {\"frequency\": 729, \"value\": \"talk\"}, \"typical\": {\"frequency\": 707, \"value\": \"typical\"}, \"cute\": {\"frequency\": 517, \"value\": \"cute\"}, \"indeed\": {\"frequency\": 653, \"value\": \"indeed\"}, \"mainly\": {\"frequency\": 378, \"value\": \"mainly\"}, \"years\": {\"frequency\": 3646, \"value\": \"years\"}, \"brain\": {\"frequency\": 398, \"value\": \"brain\"}, \"episodes\": {\"frequency\": 642, \"value\": \"episodes\"}, \"cold\": {\"frequency\": 494, \"value\": \"cold\"}, \"still\": {\"frequency\": 4431, \"value\": \"still\"}, \"group\": {\"frequency\": 883, \"value\": \"group\"}, \"thank\": {\"frequency\": 405, \"value\": \"thank\"}, \"interesting\": {\"frequency\": 2626, \"value\": \"interesting\"}, \"hot\": {\"frequency\": 590, \"value\": \"hot\"}, \"main\": {\"frequency\": 1911, \"value\": \"main\"}, \"happened\": {\"frequency\": 962, \"value\": \"happened\"}, \"non\": {\"frequency\": 838, \"value\": \"non\"}, \"killer\": {\"frequency\": 933, \"value\": \"killer\"}, \"touching\": {\"frequency\": 414, \"value\": \"touching\"}, \"half\": {\"frequency\": 1732, \"value\": \"half\"}, \"not\": {\"frequency\": 14940, \"value\": \"not\"}, \"now\": {\"frequency\": 3726, \"value\": \"now\"}, \"killed\": {\"frequency\": 916, \"value\": \"killed\"}, \"nor\": {\"frequency\": 626, \"value\": \"nor\"}, \"name\": {\"frequency\": 1392, \"value\": \"name\"}, \"james\": {\"frequency\": 795, \"value\": \"james\"}, \"didn\": {\"frequency\": 3446, \"value\": \"didn\"}, \"realistic\": {\"frequency\": 658, \"value\": \"realistic\"}, \"rock\": {\"frequency\": 590, \"value\": \"rock\"}, \"entirely\": {\"frequency\": 472, \"value\": \"entirely\"}, \"directing\": {\"frequency\": 590, \"value\": \"directing\"}, \"yeah\": {\"frequency\": 423, \"value\": \"yeah\"}, \"ex\": {\"frequency\": 414, \"value\": \"ex\"}, \"year\": {\"frequency\": 1941, \"value\": \"year\"}, \"girl\": {\"frequency\": 2122, \"value\": \"girl\"}, \"tried\": {\"frequency\": 706, \"value\": \"tried\"}, \"living\": {\"frequency\": 942, \"value\": \"living\"}, \"ultimately\": {\"frequency\": 489, \"value\": \"ultimately\"}, \"space\": {\"frequency\": 572, \"value\": \"space\"}, \"looking\": {\"frequency\": 2168, \"value\": \"looking\"}, \"seriously\": {\"frequency\": 901, \"value\": \"seriously\"}, \"shows\": {\"frequency\": 1913, \"value\": \"shows\"}, \"after\": {\"frequency\": 5783, \"value\": \"after\"}, \"monster\": {\"frequency\": 434, \"value\": \"monster\"}, \"state\": {\"frequency\": 484, \"value\": \"state\"}, \"quite\": {\"frequency\": 3033, \"value\": \"quite\"}, \"besides\": {\"frequency\": 397, \"value\": \"besides\"}, \"care\": {\"frequency\": 1209, \"value\": \"care\"}, \"couldn\": {\"frequency\": 1368, \"value\": \"couldn\"}, \"language\": {\"frequency\": 483, \"value\": \"language\"}, \"british\": {\"frequency\": 670, \"value\": \"british\"}, \"honest\": {\"frequency\": 486, \"value\": \"honest\"}, \"motion\": {\"frequency\": 405, \"value\": \"motion\"}, \"turn\": {\"frequency\": 1237, \"value\": \"turn\"}, \"place\": {\"frequency\": 2074, \"value\": \"place\"}, \"think\": {\"frequency\": 5441, \"value\": \"think\"}, \"first\": {\"frequency\": 6422, \"value\": \"first\"}, \"yourself\": {\"frequency\": 905, \"value\": \"yourself\"}, \"fast\": {\"frequency\": 807, \"value\": \"fast\"}, \"impossible\": {\"frequency\": 472, \"value\": \"impossible\"}, \"sounds\": {\"frequency\": 594, \"value\": \"sounds\"}, \"open\": {\"frequency\": 590, \"value\": \"open\"}, \"george\": {\"frequency\": 649, \"value\": \"george\"}, \"city\": {\"frequency\": 887, \"value\": \"city\"}, \"little\": {\"frequency\": 4849, \"value\": \"little\"}, \"caught\": {\"frequency\": 510, \"value\": \"caught\"}, \"anyone\": {\"frequency\": 2330, \"value\": \"anyone\"}, \"2\": {\"frequency\": 2278, \"value\": \"2\"}, \"white\": {\"frequency\": 1133, \"value\": \"white\"}, \"speaking\": {\"frequency\": 385, \"value\": \"speaking\"}, \"gives\": {\"frequency\": 1420, \"value\": \"gives\"}, \"eyes\": {\"frequency\": 1055, \"value\": \"eyes\"}, \"mostly\": {\"frequency\": 860, \"value\": \"mostly\"}, \"that\": {\"frequency\": 20324, \"value\": \"that\"}, \"season\": {\"frequency\": 435, \"value\": \"season\"}, \"viewing\": {\"frequency\": 696, \"value\": \"viewing\"}, \"released\": {\"frequency\": 898, \"value\": \"released\"}, \"ridiculous\": {\"frequency\": 879, \"value\": \"ridiculous\"}, \"copy\": {\"frequency\": 502, \"value\": \"copy\"}, \"than\": {\"frequency\": 7123, \"value\": \"than\"}, \"10\": {\"frequency\": 3385, \"value\": \"10\"}, \"television\": {\"frequency\": 731, \"value\": \"television\"}, \"15\": {\"frequency\": 483, \"value\": \"15\"}, \"third\": {\"frequency\": 666, \"value\": \"third\"}, \"future\": {\"frequency\": 761, \"value\": \"future\"}, \"were\": {\"frequency\": 6773, \"value\": \"were\"}, \"and\": {\"frequency\": 24160, \"value\": \"and\"}, \"turned\": {\"frequency\": 868, \"value\": \"turned\"}, \"sad\": {\"frequency\": 908, \"value\": \"sad\"}, \"say\": {\"frequency\": 4237, \"value\": \"say\"}, \"suspense\": {\"frequency\": 648, \"value\": \"suspense\"}, \"rent\": {\"frequency\": 667, \"value\": \"rent\"}, \"saw\": {\"frequency\": 2758, \"value\": \"saw\"}, \"any\": {\"frequency\": 5771, \"value\": \"any\"}, \"ideas\": {\"frequency\": 516, \"value\": \"ideas\"}, \"terrific\": {\"frequency\": 382, \"value\": \"terrific\"}, \"animation\": {\"frequency\": 553, \"value\": \"animation\"}, \"take\": {\"frequency\": 2990, \"value\": \"take\"}, \"performance\": {\"frequency\": 2276, \"value\": \"performance\"}, \"channel\": {\"frequency\": 385, \"value\": \"channel\"}, \"begin\": {\"frequency\": 633, \"value\": \"begin\"}, \"sure\": {\"frequency\": 2377, \"value\": \"sure\"}, \"normal\": {\"frequency\": 415, \"value\": \"normal\"}, \"track\": {\"frequency\": 365, \"value\": \"track\"}, \"knew\": {\"frequency\": 823, \"value\": \"knew\"}, \"falls\": {\"frequency\": 786, \"value\": \"falls\"}, \"america\": {\"frequency\": 617, \"value\": \"america\"}, \"forever\": {\"frequency\": 369, \"value\": \"forever\"}, \"especially\": {\"frequency\": 2270, \"value\": \"especially\"}, \"considered\": {\"frequency\": 452, \"value\": \"considered\"}, \"average\": {\"frequency\": 653, \"value\": \"average\"}, \"later\": {\"frequency\": 1836, \"value\": \"later\"}, \"drive\": {\"frequency\": 396, \"value\": \"drive\"}, \"rating\": {\"frequency\": 807, \"value\": \"rating\"}, \"walking\": {\"frequency\": 388, \"value\": \"walking\"}, \"shot\": {\"frequency\": 1701, \"value\": \"shot\"}, \"show\": {\"frequency\": 3357, \"value\": \"show\"}, \"cheap\": {\"frequency\": 790, \"value\": \"cheap\"}, \"slow\": {\"frequency\": 998, \"value\": \"slow\"}, \"title\": {\"frequency\": 1294, \"value\": \"title\"}, \"3\": {\"frequency\": 1589, \"value\": \"3\"}, \"crime\": {\"frequency\": 605, \"value\": \"crime\"}, \"only\": {\"frequency\": 8363, \"value\": \"only\"}, \"going\": {\"frequency\": 3384, \"value\": \"going\"}, \"black\": {\"frequency\": 1486, \"value\": \"black\"}, \"get\": {\"frequency\": 6774, \"value\": \"get\"}, \"truly\": {\"frequency\": 1531, \"value\": \"truly\"}, \"cannot\": {\"frequency\": 975, \"value\": \"cannot\"}, \"nearly\": {\"frequency\": 751, \"value\": \"nearly\"}, \"naked\": {\"frequency\": 363, \"value\": \"naked\"}, \"jokes\": {\"frequency\": 763, \"value\": \"jokes\"}, \"stupid\": {\"frequency\": 1353, \"value\": \"stupid\"}, \"scott\": {\"frequency\": 371, \"value\": \"scott\"}, \"where\": {\"frequency\": 4766, \"value\": \"where\"}, \"husband\": {\"frequency\": 780, \"value\": \"husband\"}, \"college\": {\"frequency\": 405, \"value\": \"college\"}, \"wonder\": {\"frequency\": 971, \"value\": \"wonder\"}, \"fails\": {\"frequency\": 562, \"value\": \"fails\"}, \"ways\": {\"frequency\": 745, \"value\": \"ways\"}, \"review\": {\"frequency\": 752, \"value\": \"review\"}, \"enough\": {\"frequency\": 2871, \"value\": \"enough\"}, \"between\": {\"frequency\": 2744, \"value\": \"between\"}, \"reading\": {\"frequency\": 640, \"value\": \"reading\"}, \"across\": {\"frequency\": 892, \"value\": \"across\"}, \"screen\": {\"frequency\": 2118, \"value\": \"screen\"}, \"killing\": {\"frequency\": 598, \"value\": \"killing\"}, \"come\": {\"frequency\": 2807, \"value\": \"come\"}, \"talented\": {\"frequency\": 540, \"value\": \"talented\"}, \"many\": {\"frequency\": 5068, \"value\": \"many\"}, \"somewhere\": {\"frequency\": 457, \"value\": \"somewhere\"}, \"s\": {\"frequency\": 18093, \"value\": \"s\"}, \"disappointment\": {\"frequency\": 390, \"value\": \"disappointment\"}, \"remake\": {\"frequency\": 450, \"value\": \"remake\"}, \"comes\": {\"frequency\": 2163, \"value\": \"comes\"}, \"among\": {\"frequency\": 720, \"value\": \"among\"}, \"period\": {\"frequency\": 688, \"value\": \"period\"}, \"anti\": {\"frequency\": 400, \"value\": \"anti\"}, \"bizarre\": {\"frequency\": 449, \"value\": \"bizarre\"}, \"crew\": {\"frequency\": 477, \"value\": \"crew\"}, \"consider\": {\"frequency\": 489, \"value\": \"consider\"}, \"considering\": {\"frequency\": 518, \"value\": \"considering\"}, \"west\": {\"frequency\": 371, \"value\": \"west\"}, \"filmmakers\": {\"frequency\": 486, \"value\": \"filmmakers\"}, \"mark\": {\"frequency\": 533, \"value\": \"mark\"}, \"hardly\": {\"frequency\": 562, \"value\": \"hardly\"}, \"mary\": {\"frequency\": 381, \"value\": \"mary\"}, \"wants\": {\"frequency\": 1138, \"value\": \"wants\"}, \"direction\": {\"frequency\": 1278, \"value\": \"direction\"}, \"dramatic\": {\"frequency\": 591, \"value\": \"dramatic\"}, \"former\": {\"frequency\": 466, \"value\": \"former\"}, \"those\": {\"frequency\": 3774, \"value\": \"those\"}, \"sound\": {\"frequency\": 1105, \"value\": \"sound\"}, \"myself\": {\"frequency\": 1067, \"value\": \"myself\"}, \"these\": {\"frequency\": 4107, \"value\": \"these\"}, \"cast\": {\"frequency\": 3251, \"value\": \"cast\"}, \"situation\": {\"frequency\": 603, \"value\": \"situation\"}, \"then\": {\"frequency\": 5652, \"value\": \"then\"}, \"twists\": {\"frequency\": 407, \"value\": \"twists\"}, \"middle\": {\"frequency\": 889, \"value\": \"middle\"}, \"someone\": {\"frequency\": 1992, \"value\": \"someone\"}, \"different\": {\"frequency\": 1950, \"value\": \"different\"}, \"doctor\": {\"frequency\": 450, \"value\": \"doctor\"}, \"pay\": {\"frequency\": 561, \"value\": \"pay\"}, \"same\": {\"frequency\": 3326, \"value\": \"same\"}, \"check\": {\"frequency\": 656, \"value\": \"check\"}, \"events\": {\"frequency\": 776, \"value\": \"events\"}, \"week\": {\"frequency\": 405, \"value\": \"week\"}, \"finish\": {\"frequency\": 390, \"value\": \"finish\"}, \"producers\": {\"frequency\": 461, \"value\": \"producers\"}, \"running\": {\"frequency\": 888, \"value\": \"running\"}, \"totally\": {\"frequency\": 1218, \"value\": \"totally\"}, \"cartoon\": {\"frequency\": 368, \"value\": \"cartoon\"}, \"theater\": {\"frequency\": 711, \"value\": \"theater\"}, \"without\": {\"frequency\": 2814, \"value\": \"without\"}, \"very\": {\"frequency\": 8671, \"value\": \"very\"}, \"being\": {\"frequency\": 5035, \"value\": \"being\"}, \"money\": {\"frequency\": 1965, \"value\": \"money\"}, \"actress\": {\"frequency\": 1053, \"value\": \"actress\"}, \"violent\": {\"frequency\": 460, \"value\": \"violent\"}, \"kill\": {\"frequency\": 1020, \"value\": \"kill\"}, \"aspect\": {\"frequency\": 422, \"value\": \"aspect\"}, \"touch\": {\"frequency\": 450, \"value\": \"touch\"}, \"death\": {\"frequency\": 1522, \"value\": \"death\"}, \"thinking\": {\"frequency\": 1097, \"value\": \"thinking\"}, \"seems\": {\"frequency\": 2901, \"value\": \"seems\"}, \"except\": {\"frequency\": 1033, \"value\": \"except\"}, \"interested\": {\"frequency\": 608, \"value\": \"interested\"}, \"4\": {\"frequency\": 1179, \"value\": \"4\"}, \"real\": {\"frequency\": 3718, \"value\": \"real\"}, \"aspects\": {\"frequency\": 377, \"value\": \"aspects\"}, \"around\": {\"frequency\": 2984, \"value\": \"around\"}, \"kills\": {\"frequency\": 447, \"value\": \"kills\"}, \"read\": {\"frequency\": 1609, \"value\": \"read\"}, \"dark\": {\"frequency\": 1135, \"value\": \"dark\"}, \"using\": {\"frequency\": 733, \"value\": \"using\"}, \"lady\": {\"frequency\": 632, \"value\": \"lady\"}, \"audience\": {\"frequency\": 1800, \"value\": \"audience\"}, \"either\": {\"frequency\": 1669, \"value\": \"either\"}, \"fully\": {\"frequency\": 404, \"value\": \"fully\"}, \"images\": {\"frequency\": 413, \"value\": \"images\"}, \"thinks\": {\"frequency\": 413, \"value\": \"thinks\"}, \"mood\": {\"frequency\": 409, \"value\": \"mood\"}, \"business\": {\"frequency\": 562, \"value\": \"business\"}, \"credits\": {\"frequency\": 623, \"value\": \"credits\"}, \"exciting\": {\"frequency\": 480, \"value\": \"exciting\"}, \"throw\": {\"frequency\": 381, \"value\": \"throw\"}, \"on\": {\"frequency\": 15710, \"value\": \"on\"}, \"ok\": {\"frequency\": 871, \"value\": \"ok\"}, \"oh\": {\"frequency\": 1244, \"value\": \"oh\"}, \"island\": {\"frequency\": 359, \"value\": \"island\"}, \"violence\": {\"frequency\": 884, \"value\": \"violence\"}, \"favorite\": {\"frequency\": 1088, \"value\": \"favorite\"}, \"stand\": {\"frequency\": 750, \"value\": \"stand\"}, \"act\": {\"frequency\": 1069, \"value\": \"act\"}, \"or\": {\"frequency\": 10348, \"value\": \"or\"}, \"road\": {\"frequency\": 378, \"value\": \"road\"}, \"portrayal\": {\"frequency\": 463, \"value\": \"portrayal\"}, \"your\": {\"frequency\": 4271, \"value\": \"your\"}, \"her\": {\"frequency\": 6453, \"value\": \"her\"}, \"aren\": {\"frequency\": 828, \"value\": \"aren\"}, \"there\": {\"frequency\": 10821, \"value\": \"there\"}, \"hey\": {\"frequency\": 379, \"value\": \"hey\"}, \"start\": {\"frequency\": 1532, \"value\": \"start\"}, \"low\": {\"frequency\": 1536, \"value\": \"low\"}, \"lot\": {\"frequency\": 3277, \"value\": \"lot\"}, \"complete\": {\"frequency\": 965, \"value\": \"complete\"}, \"ended\": {\"frequency\": 516, \"value\": \"ended\"}, \"gore\": {\"frequency\": 768, \"value\": \"gore\"}, \"trying\": {\"frequency\": 2171, \"value\": \"trying\"}, \"with\": {\"frequency\": 17468, \"value\": \"with\"}, \"happening\": {\"frequency\": 359, \"value\": \"happening\"}, \"romantic\": {\"frequency\": 689, \"value\": \"romantic\"}, \"agree\": {\"frequency\": 545, \"value\": \"agree\"}, \"gone\": {\"frequency\": 699, \"value\": \"gone\"}, \"cinema\": {\"frequency\": 1197, \"value\": \"cinema\"}, \"taste\": {\"frequency\": 414, \"value\": \"taste\"}, \"certain\": {\"frequency\": 701, \"value\": \"certain\"}, \"am\": {\"frequency\": 2285, \"value\": \"am\"}, \"deep\": {\"frequency\": 613, \"value\": \"deep\"}, \"general\": {\"frequency\": 665, \"value\": \"general\"}, \"as\": {\"frequency\": 16117, \"value\": \"as\"}, \"at\": {\"frequency\": 12941, \"value\": \"at\"}, \"girlfriend\": {\"frequency\": 548, \"value\": \"girlfriend\"}, \"watched\": {\"frequency\": 1976, \"value\": \"watched\"}, \"moves\": {\"frequency\": 517, \"value\": \"moves\"}, \"film\": {\"frequency\": 13943, \"value\": \"film\"}, \"again\": {\"frequency\": 3247, \"value\": \"again\"}, \"cinematography\": {\"frequency\": 939, \"value\": \"cinematography\"}, \"5\": {\"frequency\": 1176, \"value\": \"5\"}, \"you\": {\"frequency\": 13626, \"value\": \"you\"}, \"trash\": {\"frequency\": 444, \"value\": \"trash\"}, \"poor\": {\"frequency\": 1599, \"value\": \"poor\"}, \"spoilers\": {\"frequency\": 523, \"value\": \"spoilers\"}, \"important\": {\"frequency\": 836, \"value\": \"important\"}, \"wife\": {\"frequency\": 1613, \"value\": \"wife\"}, \"directors\": {\"frequency\": 577, \"value\": \"directors\"}, \"u\": {\"frequency\": 363, \"value\": \"u\"}, \"original\": {\"frequency\": 2346, \"value\": \"original\"}, \"all\": {\"frequency\": 13080, \"value\": \"all\"}, \"sci\": {\"frequency\": 484, \"value\": \"sci\"}, \"forget\": {\"frequency\": 665, \"value\": \"forget\"}, \"lack\": {\"frequency\": 954, \"value\": \"lack\"}, \"follow\": {\"frequency\": 719, \"value\": \"follow\"}, \"children\": {\"frequency\": 1101, \"value\": \"children\"}, \"tv\": {\"frequency\": 2102, \"value\": \"tv\"}, \"spirit\": {\"frequency\": 427, \"value\": \"spirit\"}, \"to\": {\"frequency\": 23475, \"value\": \"to\"}, \"case\": {\"frequency\": 1333, \"value\": \"case\"}, \"woman\": {\"frequency\": 2091, \"value\": \"woman\"}, \"worse\": {\"frequency\": 1271, \"value\": \"worse\"}, \"sitting\": {\"frequency\": 428, \"value\": \"sitting\"}, \"far\": {\"frequency\": 2559, \"value\": \"far\"}, \"horror\": {\"frequency\": 2099, \"value\": \"horror\"}, \"fan\": {\"frequency\": 1661, \"value\": \"fan\"}, \"decide\": {\"frequency\": 452, \"value\": \"decide\"}, \"fall\": {\"frequency\": 724, \"value\": \"fall\"}, \"awful\": {\"frequency\": 1445, \"value\": \"awful\"}, \"difference\": {\"frequency\": 355, \"value\": \"difference\"}, \"leads\": {\"frequency\": 691, \"value\": \"leads\"}, \"list\": {\"frequency\": 851, \"value\": \"list\"}, \"large\": {\"frequency\": 520, \"value\": \"large\"}, \"small\": {\"frequency\": 1445, \"value\": \"small\"}, \"flick\": {\"frequency\": 1075, \"value\": \"flick\"}, \"ten\": {\"frequency\": 738, \"value\": \"ten\"}, \"past\": {\"frequency\": 1106, \"value\": \"past\"}, \"rate\": {\"frequency\": 582, \"value\": \"rate\"}, \"pass\": {\"frequency\": 391, \"value\": \"pass\"}, \"further\": {\"frequency\": 533, \"value\": \"further\"}, \"what\": {\"frequency\": 9933, \"value\": \"what\"}, \"richard\": {\"frequency\": 667, \"value\": \"richard\"}, \"brief\": {\"frequency\": 377, \"value\": \"brief\"}, \"emotions\": {\"frequency\": 358, \"value\": \"emotions\"}, \"version\": {\"frequency\": 1430, \"value\": \"version\"}, \"public\": {\"frequency\": 498, \"value\": \"public\"}, \"hasn\": {\"frequency\": 360, \"value\": \"hasn\"}, \"full\": {\"frequency\": 1572, \"value\": \"full\"}, \"hours\": {\"frequency\": 861, \"value\": \"hours\"}, \"strong\": {\"frequency\": 961, \"value\": \"strong\"}, \"ahead\": {\"frequency\": 387, \"value\": \"ahead\"}, \"experience\": {\"frequency\": 972, \"value\": \"experience\"}, \"amount\": {\"frequency\": 465, \"value\": \"amount\"}, \"social\": {\"frequency\": 494, \"value\": \"social\"}, \"action\": {\"frequency\": 2307, \"value\": \"action\"}, \"followed\": {\"frequency\": 362, \"value\": \"followed\"}, \"family\": {\"frequency\": 2150, \"value\": \"family\"}, \"suddenly\": {\"frequency\": 491, \"value\": \"suddenly\"}, \"ask\": {\"frequency\": 600, \"value\": \"ask\"}, \"eye\": {\"frequency\": 729, \"value\": \"eye\"}, \"takes\": {\"frequency\": 1937, \"value\": \"takes\"}, \"contains\": {\"frequency\": 391, \"value\": \"contains\"}, \"two\": {\"frequency\": 4943, \"value\": \"two\"}, \"6\": {\"frequency\": 478, \"value\": \"6\"}, \"mysterious\": {\"frequency\": 378, \"value\": \"mysterious\"}, \"minor\": {\"frequency\": 372, \"value\": \"minor\"}, \"more\": {\"frequency\": 9066, \"value\": \"more\"}, \"flat\": {\"frequency\": 534, \"value\": \"flat\"}, \"door\": {\"frequency\": 367, \"value\": \"door\"}, \"knows\": {\"frequency\": 813, \"value\": \"knows\"}, \"company\": {\"frequency\": 459, \"value\": \"company\"}, \"excuse\": {\"frequency\": 404, \"value\": \"excuse\"}, \"basically\": {\"frequency\": 843, \"value\": \"basically\"}, \"particular\": {\"frequency\": 687, \"value\": \"particular\"}, \"known\": {\"frequency\": 988, \"value\": \"known\"}, \"glad\": {\"frequency\": 438, \"value\": \"glad\"}, \"town\": {\"frequency\": 915, \"value\": \"town\"}, \"none\": {\"frequency\": 966, \"value\": \"none\"}, \"hour\": {\"frequency\": 1043, \"value\": \"hour\"}, \"science\": {\"frequency\": 402, \"value\": \"science\"}, \"learn\": {\"frequency\": 633, \"value\": \"learn\"}, \"male\": {\"frequency\": 589, \"value\": \"male\"}, \"history\": {\"frequency\": 1100, \"value\": \"history\"}, \"beautiful\": {\"frequency\": 1806, \"value\": \"beautiful\"}, \"sense\": {\"frequency\": 1979, \"value\": \"sense\"}, \"huge\": {\"frequency\": 863, \"value\": \"huge\"}, \"needs\": {\"frequency\": 770, \"value\": \"needs\"}, \"rather\": {\"frequency\": 2262, \"value\": \"rather\"}, \"acts\": {\"frequency\": 373, \"value\": \"acts\"}, \"okay\": {\"frequency\": 625, \"value\": \"okay\"}, \"intended\": {\"frequency\": 368, \"value\": \"intended\"}, \"soundtrack\": {\"frequency\": 681, \"value\": \"soundtrack\"}, \"tries\": {\"frequency\": 1122, \"value\": \"tries\"}, \"adventure\": {\"frequency\": 426, \"value\": \"adventure\"}, \"coming\": {\"frequency\": 990, \"value\": \"coming\"}, \"fi\": {\"frequency\": 485, \"value\": \"fi\"}, \"a\": {\"frequency\": 24176, \"value\": \"a\"}, \"short\": {\"frequency\": 1553, \"value\": \"short\"}, \"dream\": {\"frequency\": 538, \"value\": \"dream\"}, \"playing\": {\"frequency\": 1406, \"value\": \"playing\"}, \"help\": {\"frequency\": 1623, \"value\": \"help\"}, \"developed\": {\"frequency\": 388, \"value\": \"developed\"}, \"soon\": {\"frequency\": 1071, \"value\": \"soon\"}, \"held\": {\"frequency\": 373, \"value\": \"held\"}, \"through\": {\"frequency\": 3993, \"value\": \"through\"}, \"hell\": {\"frequency\": 913, \"value\": \"hell\"}, \"its\": {\"frequency\": 5202, \"value\": \"its\"}, \"style\": {\"frequency\": 1355, \"value\": \"style\"}, \"20\": {\"frequency\": 637, \"value\": \"20\"}, \"actually\": {\"frequency\": 3443, \"value\": \"actually\"}, \"late\": {\"frequency\": 1097, \"value\": \"late\"}, \"parts\": {\"frequency\": 1075, \"value\": \"parts\"}, \"might\": {\"frequency\": 2435, \"value\": \"might\"}, \"wouldn\": {\"frequency\": 979, \"value\": \"wouldn\"}, \"good\": {\"frequency\": 9641, \"value\": \"good\"}, \"return\": {\"frequency\": 545, \"value\": \"return\"}, \"viewers\": {\"frequency\": 706, \"value\": \"viewers\"}, \"mystery\": {\"frequency\": 698, \"value\": \"mystery\"}, \"easily\": {\"frequency\": 817, \"value\": \"easily\"}, \"always\": {\"frequency\": 2687, \"value\": \"always\"}, \"presented\": {\"frequency\": 380, \"value\": \"presented\"}, \"die\": {\"frequency\": 692, \"value\": \"die\"}, \"found\": {\"frequency\": 2237, \"value\": \"found\"}, \"heavy\": {\"frequency\": 451, \"value\": \"heavy\"}, \"everyone\": {\"frequency\": 1932, \"value\": \"everyone\"}, \"house\": {\"frequency\": 1439, \"value\": \"house\"}, \"hard\": {\"frequency\": 2370, \"value\": \"hard\"}, \"idea\": {\"frequency\": 1764, \"value\": \"idea\"}, \"brother\": {\"frequency\": 815, \"value\": \"brother\"}, \"expect\": {\"frequency\": 1066, \"value\": \"expect\"}, \"beyond\": {\"frequency\": 817, \"value\": \"beyond\"}, \"really\": {\"frequency\": 7629, \"value\": \"really\"}, \"missed\": {\"frequency\": 532, \"value\": \"missed\"}, \"robert\": {\"frequency\": 775, \"value\": \"robert\"}, \"since\": {\"frequency\": 2495, \"value\": \"since\"}, \"acting\": {\"frequency\": 5361, \"value\": \"acting\"}, \"7\": {\"frequency\": 834, \"value\": \"7\"}, \"pathetic\": {\"frequency\": 433, \"value\": \"pathetic\"}, \"story\": {\"frequency\": 7620, \"value\": \"story\"}, \"reason\": {\"frequency\": 2037, \"value\": \"reason\"}, \"members\": {\"frequency\": 490, \"value\": \"members\"}, \"imagine\": {\"frequency\": 692, \"value\": \"imagine\"}, \"put\": {\"frequency\": 2149, \"value\": \"put\"}, \"laughable\": {\"frequency\": 403, \"value\": \"laughable\"}, \"beginning\": {\"frequency\": 1300, \"value\": \"beginning\"}, \"thrown\": {\"frequency\": 388, \"value\": \"thrown\"}, \"director\": {\"frequency\": 3546, \"value\": \"director\"}, \"terrible\": {\"frequency\": 1335, \"value\": \"terrible\"}, \"american\": {\"frequency\": 1663, \"value\": \"american\"}, \"expecting\": {\"frequency\": 529, \"value\": \"expecting\"}, \"major\": {\"frequency\": 810, \"value\": \"major\"}, \"feel\": {\"frequency\": 2484, \"value\": \"feel\"}, \"number\": {\"frequency\": 829, \"value\": \"number\"}, \"done\": {\"frequency\": 2655, \"value\": \"done\"}, \"miss\": {\"frequency\": 771, \"value\": \"miss\"}, \"guess\": {\"frequency\": 1204, \"value\": \"guess\"}, \"script\": {\"frequency\": 2537, \"value\": \"script\"}, \"leading\": {\"frequency\": 571, \"value\": \"leading\"}, \"least\": {\"frequency\": 2718, \"value\": \"least\"}, \"wonderful\": {\"frequency\": 1453, \"value\": \"wonderful\"}, \"store\": {\"frequency\": 466, \"value\": \"store\"}, \"relationship\": {\"frequency\": 801, \"value\": \"relationship\"}, \"behind\": {\"frequency\": 1141, \"value\": \"behind\"}, \"part\": {\"frequency\": 3178, \"value\": \"part\"}, \"believe\": {\"frequency\": 2210, \"value\": \"believe\"}, \"king\": {\"frequency\": 611, \"value\": \"king\"}, \"kind\": {\"frequency\": 2299, \"value\": \"kind\"}, \"b\": {\"frequency\": 1045, \"value\": \"b\"}, \"supposed\": {\"frequency\": 1306, \"value\": \"supposed\"}, \"outstanding\": {\"frequency\": 395, \"value\": \"outstanding\"}, \"dancing\": {\"frequency\": 406, \"value\": \"dancing\"}, \"self\": {\"frequency\": 1026, \"value\": \"self\"}, \"also\": {\"frequency\": 6460, \"value\": \"also\"}, \"play\": {\"frequency\": 1731, \"value\": \"play\"}, \"towards\": {\"frequency\": 588, \"value\": \"towards\"}, \"english\": {\"frequency\": 789, \"value\": \"english\"}, \"most\": {\"frequency\": 6511, \"value\": \"most\"}, \"charm\": {\"frequency\": 372, \"value\": \"charm\"}, \"plan\": {\"frequency\": 384, \"value\": \"plan\"}, \"70\": {\"frequency\": 381, \"value\": \"70\"}, \"nothing\": {\"frequency\": 3430, \"value\": \"nothing\"}, \"extremely\": {\"frequency\": 954, \"value\": \"extremely\"}, \"stands\": {\"frequency\": 383, \"value\": \"stands\"}, \"performances\": {\"frequency\": 1640, \"value\": \"performances\"}, \"clear\": {\"frequency\": 723, \"value\": \"clear\"}, \"sometimes\": {\"frequency\": 1040, \"value\": \"sometimes\"}, \"cover\": {\"frequency\": 453, \"value\": \"cover\"}, \"storyline\": {\"frequency\": 721, \"value\": \"storyline\"}, \"particularly\": {\"frequency\": 972, \"value\": \"particularly\"}, \"fine\": {\"frequency\": 1165, \"value\": \"fine\"}, \"find\": {\"frequency\": 3388, \"value\": \"find\"}, \"writer\": {\"frequency\": 1007, \"value\": \"writer\"}, \"failed\": {\"frequency\": 452, \"value\": \"failed\"}, \"pretty\": {\"frequency\": 2913, \"value\": \"pretty\"}, \"8\": {\"frequency\": 812, \"value\": \"8\"}, \"his\": {\"frequency\": 10678, \"value\": \"his\"}, \"hit\": {\"frequency\": 939, \"value\": \"hit\"}, \"famous\": {\"frequency\": 686, \"value\": \"famous\"}, \"feels\": {\"frequency\": 724, \"value\": \"feels\"}, \"rest\": {\"frequency\": 1640, \"value\": \"rest\"}, \"during\": {\"frequency\": 1830, \"value\": \"during\"}, \"him\": {\"frequency\": 5123, \"value\": \"him\"}, \"showed\": {\"frequency\": 449, \"value\": \"showed\"}, \"generally\": {\"frequency\": 439, \"value\": \"generally\"}, \"common\": {\"frequency\": 480, \"value\": \"common\"}, \"wrote\": {\"frequency\": 534, \"value\": \"wrote\"}, \"body\": {\"frequency\": 803, \"value\": \"body\"}, \"set\": {\"frequency\": 2132, \"value\": \"set\"}, \"art\": {\"frequency\": 987, \"value\": \"art\"}, \"scenes\": {\"frequency\": 3915, \"value\": \"scenes\"}, \"culture\": {\"frequency\": 401, \"value\": \"culture\"}, \"see\": {\"frequency\": 8097, \"value\": \"see\"}, \"dumb\": {\"frequency\": 510, \"value\": \"dumb\"}, \"are\": {\"frequency\": 13901, \"value\": \"are\"}, \"close\": {\"frequency\": 1178, \"value\": \"close\"}, \"movie\": {\"frequency\": 15305, \"value\": \"movie\"}, \"wow\": {\"frequency\": 392, \"value\": \"wow\"}, \"please\": {\"frequency\": 891, \"value\": \"please\"}, \"fans\": {\"frequency\": 1188, \"value\": \"fans\"}, \"won\": {\"frequency\": 1516, \"value\": \"won\"}, \"various\": {\"frequency\": 550, \"value\": \"various\"}, \"probably\": {\"frequency\": 2437, \"value\": \"probably\"}, \"available\": {\"frequency\": 364, \"value\": \"available\"}, \"recently\": {\"frequency\": 560, \"value\": \"recently\"}, \"missing\": {\"frequency\": 549, \"value\": \"missing\"}, \"attention\": {\"frequency\": 837, \"value\": \"attention\"}, \"premise\": {\"frequency\": 657, \"value\": \"premise\"}, \"genre\": {\"frequency\": 1046, \"value\": \"genre\"}, \"both\": {\"frequency\": 2733, \"value\": \"both\"}, \"c\": {\"frequency\": 510, \"value\": \"c\"}, \"last\": {\"frequency\": 2470, \"value\": \"last\"}, \"barely\": {\"frequency\": 457, \"value\": \"barely\"}, \"became\": {\"frequency\": 638, \"value\": \"became\"}, \"whole\": {\"frequency\": 2641, \"value\": \"whole\"}, \"finds\": {\"frequency\": 835, \"value\": \"finds\"}, \"liked\": {\"frequency\": 1301, \"value\": \"liked\"}, \"point\": {\"frequency\": 2632, \"value\": \"point\"}, \"simple\": {\"frequency\": 914, \"value\": \"simple\"}, \"sweet\": {\"frequency\": 518, \"value\": \"sweet\"}, \"acted\": {\"frequency\": 641, \"value\": \"acted\"}, \"whatever\": {\"frequency\": 687, \"value\": \"whatever\"}, \"simply\": {\"frequency\": 1689, \"value\": \"simply\"}, \"adaptation\": {\"frequency\": 366, \"value\": \"adaptation\"}, \"throughout\": {\"frequency\": 1268, \"value\": \"throughout\"}, \"create\": {\"frequency\": 553, \"value\": \"create\"}, \"political\": {\"frequency\": 467, \"value\": \"political\"}, \"due\": {\"frequency\": 852, \"value\": \"due\"}, \"whom\": {\"frequency\": 587, \"value\": \"whom\"}, \"secret\": {\"frequency\": 496, \"value\": \"secret\"}, \"dialogue\": {\"frequency\": 1336, \"value\": \"dialogue\"}, \"lived\": {\"frequency\": 361, \"value\": \"lived\"}, \"gay\": {\"frequency\": 370, \"value\": \"gay\"}, \"fire\": {\"frequency\": 517, \"value\": \"fire\"}, \"else\": {\"frequency\": 1843, \"value\": \"else\"}, \"lives\": {\"frequency\": 1204, \"value\": \"lives\"}, \"look\": {\"frequency\": 3451, \"value\": \"look\"}, \"solid\": {\"frequency\": 469, \"value\": \"solid\"}, \"straight\": {\"frequency\": 763, \"value\": \"straight\"}, \"bill\": {\"frequency\": 430, \"value\": \"bill\"}, \"budget\": {\"frequency\": 1469, \"value\": \"budget\"}, \"pace\": {\"frequency\": 523, \"value\": \"pace\"}, \"while\": {\"frequency\": 4097, \"value\": \"while\"}, \"fun\": {\"frequency\": 2139, \"value\": \"fun\"}, \"animated\": {\"frequency\": 377, \"value\": \"animated\"}, \"hoping\": {\"frequency\": 391, \"value\": \"hoping\"}, \"century\": {\"frequency\": 466, \"value\": \"century\"}, \"disappointing\": {\"frequency\": 396, \"value\": \"disappointing\"}, \"itself\": {\"frequency\": 1396, \"value\": \"itself\"}, \"beautifully\": {\"frequency\": 416, \"value\": \"beautifully\"}, \"funny\": {\"frequency\": 3141, \"value\": \"funny\"}, \"9\": {\"frequency\": 678, \"value\": \"9\"}, \"development\": {\"frequency\": 578, \"value\": \"development\"}, \"used\": {\"frequency\": 1662, \"value\": \"used\"}, \"moment\": {\"frequency\": 969, \"value\": \"moment\"}, \"moving\": {\"frequency\": 792, \"value\": \"moving\"}, \"purpose\": {\"frequency\": 423, \"value\": \"purpose\"}, \"recent\": {\"frequency\": 482, \"value\": \"recent\"}, \"early\": {\"frequency\": 1359, \"value\": \"early\"}, \"older\": {\"frequency\": 591, \"value\": \"older\"}, \"spent\": {\"frequency\": 511, \"value\": \"spent\"}, \"obviously\": {\"frequency\": 1072, \"value\": \"obviously\"}, \"person\": {\"frequency\": 1353, \"value\": \"person\"}, \"edge\": {\"frequency\": 413, \"value\": \"edge\"}, \"chemistry\": {\"frequency\": 445, \"value\": \"chemistry\"}, \"spend\": {\"frequency\": 488, \"value\": \"spend\"}, \"things\": {\"frequency\": 2997, \"value\": \"things\"}, \"questions\": {\"frequency\": 411, \"value\": \"questions\"}, \"world\": {\"frequency\": 2880, \"value\": \"world\"}, \"cut\": {\"frequency\": 888, \"value\": \"cut\"}, \"disappointed\": {\"frequency\": 858, \"value\": \"disappointed\"}, \"parents\": {\"frequency\": 616, \"value\": \"parents\"}, \"surprised\": {\"frequency\": 761, \"value\": \"surprised\"}, \"big\": {\"frequency\": 2811, \"value\": \"big\"}, \"couple\": {\"frequency\": 1485, \"value\": \"couple\"}, \"game\": {\"frequency\": 721, \"value\": \"game\"}, \"bit\": {\"frequency\": 2564, \"value\": \"bit\"}, \"d\": {\"frequency\": 2392, \"value\": \"d\"}, \"follows\": {\"frequency\": 480, \"value\": \"follows\"}, \"message\": {\"frequency\": 680, \"value\": \"message\"}, \"popular\": {\"frequency\": 503, \"value\": \"popular\"}, \"often\": {\"frequency\": 1390, \"value\": \"often\"}, \"absolutely\": {\"frequency\": 1383, \"value\": \"absolutely\"}, \"some\": {\"frequency\": 9645, \"value\": \"some\"}, \"back\": {\"frequency\": 3940, \"value\": \"back\"}, \"added\": {\"frequency\": 422, \"value\": \"added\"}, \"t\": {\"frequency\": 15088, \"value\": \"t\"}, \"be\": {\"frequency\": 14139, \"value\": \"be\"}, \"run\": {\"frequency\": 1084, \"value\": \"run\"}, \"costumes\": {\"frequency\": 396, \"value\": \"costumes\"}, \"feelings\": {\"frequency\": 356, \"value\": \"feelings\"}, \"nowhere\": {\"frequency\": 417, \"value\": \"nowhere\"}, \"br\": {\"frequency\": 14667, \"value\": \"br\"}, \"crap\": {\"frequency\": 880, \"value\": \"crap\"}, \"by\": {\"frequency\": 11722, \"value\": \"by\"}, \"anything\": {\"frequency\": 2557, \"value\": \"anything\"}, \"drama\": {\"frequency\": 1189, \"value\": \"drama\"}, \"deserves\": {\"frequency\": 575, \"value\": \"deserves\"}, \"dialog\": {\"frequency\": 678, \"value\": \"dialog\"}, \"italian\": {\"frequency\": 376, \"value\": \"italian\"}, \"seeing\": {\"frequency\": 1894, \"value\": \"seeing\"}, \"garbage\": {\"frequency\": 420, \"value\": \"garbage\"}, \"into\": {\"frequency\": 6425, \"value\": \"into\"}, \"within\": {\"frequency\": 753, \"value\": \"within\"}, \"question\": {\"frequency\": 612, \"value\": \"question\"}, \"long\": {\"frequency\": 2938, \"value\": \"long\"}, \"camera\": {\"frequency\": 1467, \"value\": \"camera\"}, \"forward\": {\"frequency\": 629, \"value\": \"forward\"}, \"bored\": {\"frequency\": 504, \"value\": \"bored\"}, \"himself\": {\"frequency\": 1798, \"value\": \"himself\"}, \"boys\": {\"frequency\": 488, \"value\": \"boys\"}, \"episode\": {\"frequency\": 984, \"value\": \"episode\"}, \"line\": {\"frequency\": 1622, \"value\": \"line\"}, \"dull\": {\"frequency\": 706, \"value\": \"dull\"}, \"directed\": {\"frequency\": 1112, \"value\": \"directed\"}, \"up\": {\"frequency\": 8671, \"value\": \"up\"}, \"us\": {\"frequency\": 2762, \"value\": \"us\"}, \"similar\": {\"frequency\": 791, \"value\": \"similar\"}, \"called\": {\"frequency\": 1283, \"value\": \"called\"}, \"stick\": {\"frequency\": 438, \"value\": \"stick\"}, \"doesn\": {\"frequency\": 3626, \"value\": \"doesn\"}, \"single\": {\"frequency\": 838, \"value\": \"single\"}, \"\\ufffd\\ufffd\": {\"frequency\": 439, \"value\": \"\\u0096\"}, \"definitely\": {\"frequency\": 1412, \"value\": \"definitely\"}, \"actors\": {\"frequency\": 3621, \"value\": \"actors\"}, \"nice\": {\"frequency\": 1686, \"value\": \"nice\"}, \"elements\": {\"frequency\": 696, \"value\": \"elements\"}, \"problems\": {\"frequency\": 769, \"value\": \"problems\"}, \"william\": {\"frequency\": 503, \"value\": \"william\"}, \"meaning\": {\"frequency\": 444, \"value\": \"meaning\"}, \"utterly\": {\"frequency\": 432, \"value\": \"utterly\"}, \"ago\": {\"frequency\": 971, \"value\": \"ago\"}, \"e\": {\"frequency\": 562, \"value\": \"e\"}, \"dvd\": {\"frequency\": 1901, \"value\": \"dvd\"}, \"age\": {\"frequency\": 972, \"value\": \"age\"}, \"depth\": {\"frequency\": 467, \"value\": \"depth\"}, \"narrative\": {\"frequency\": 354, \"value\": \"narrative\"}, \"fresh\": {\"frequency\": 360, \"value\": \"fresh\"}, \"having\": {\"frequency\": 2206, \"value\": \"having\"}, \"once\": {\"frequency\": 2077, \"value\": \"once\"}, \"enjoyable\": {\"frequency\": 786, \"value\": \"enjoyable\"}, \"go\": {\"frequency\": 4194, \"value\": \"go\"}, \"issues\": {\"frequency\": 354, \"value\": \"issues\"}, \"seemed\": {\"frequency\": 1165, \"value\": \"seemed\"}, \"young\": {\"frequency\": 2718, \"value\": \"young\"}, \"include\": {\"frequency\": 357, \"value\": \"include\"}, \"sent\": {\"frequency\": 364, \"value\": \"sent\"}, \"outside\": {\"frequency\": 535, \"value\": \"outside\"}, \"putting\": {\"frequency\": 357, \"value\": \"putting\"}, \"telling\": {\"frequency\": 598, \"value\": \"telling\"}, \"entire\": {\"frequency\": 1292, \"value\": \"entire\"}, \"magic\": {\"frequency\": 395, \"value\": \"magic\"}, \"michael\": {\"frequency\": 920, \"value\": \"michael\"}, \"try\": {\"frequency\": 1663, \"value\": \"try\"}, \"video\": {\"frequency\": 1375, \"value\": \"video\"}, \"earth\": {\"frequency\": 684, \"value\": \"earth\"}, \"odd\": {\"frequency\": 507, \"value\": \"odd\"}, \"makers\": {\"frequency\": 442, \"value\": \"makers\"}, \"plays\": {\"frequency\": 1885, \"value\": \"plays\"}, \"power\": {\"frequency\": 750, \"value\": \"power\"}, \"giving\": {\"frequency\": 795, \"value\": \"giving\"}, \"waiting\": {\"frequency\": 531, \"value\": \"waiting\"}, \"scenery\": {\"frequency\": 387, \"value\": \"scenery\"}, \"lee\": {\"frequency\": 494, \"value\": \"lee\"}, \"let\": {\"frequency\": 2013, \"value\": \"let\"}, \"others\": {\"frequency\": 1456, \"value\": \"others\"}, \"sexy\": {\"frequency\": 393, \"value\": \"sexy\"}, \"great\": {\"frequency\": 6314, \"value\": \"great\"}, \"talent\": {\"frequency\": 852, \"value\": \"talent\"}, \"involved\": {\"frequency\": 992, \"value\": \"involved\"}, \"30\": {\"frequency\": 579, \"value\": \"30\"}, \"leaving\": {\"frequency\": 463, \"value\": \"leaving\"}, \"opinion\": {\"frequency\": 872, \"value\": \"opinion\"}, \"makes\": {\"frequency\": 3536, \"value\": \"makes\"}, \"named\": {\"frequency\": 675, \"value\": \"named\"}, \"win\": {\"frequency\": 426, \"value\": \"win\"}, \"names\": {\"frequency\": 377, \"value\": \"names\"}, \"singing\": {\"frequency\": 417, \"value\": \"singing\"}, \"use\": {\"frequency\": 1584, \"value\": \"use\"}, \"from\": {\"frequency\": 11717, \"value\": \"from\"}, \"remains\": {\"frequency\": 401, \"value\": \"remains\"}, \"next\": {\"frequency\": 1512, \"value\": \"next\"}, \"few\": {\"frequency\": 3434, \"value\": \"few\"}, \"doubt\": {\"frequency\": 709, \"value\": \"doubt\"}, \"themselves\": {\"frequency\": 1060, \"value\": \"themselves\"}, \"sort\": {\"frequency\": 1274, \"value\": \"sort\"}, \"clever\": {\"frequency\": 492, \"value\": \"clever\"}, \"started\": {\"frequency\": 879, \"value\": \"started\"}, \"becomes\": {\"frequency\": 1211, \"value\": \"becomes\"}, \"about\": {\"frequency\": 10491, \"value\": \"about\"}, \"charming\": {\"frequency\": 441, \"value\": \"charming\"}, \"baby\": {\"frequency\": 519, \"value\": \"baby\"}, \"central\": {\"frequency\": 362, \"value\": \"central\"}, \"women\": {\"frequency\": 1303, \"value\": \"women\"}, \"f\": {\"frequency\": 390, \"value\": \"f\"}, \"this\": {\"frequency\": 22639, \"value\": \"this\"}, \"ride\": {\"frequency\": 377, \"value\": \"ride\"}, \"obvious\": {\"frequency\": 982, \"value\": \"obvious\"}, \"of\": {\"frequency\": 23726, \"value\": \"of\"}, \"meet\": {\"frequency\": 602, \"value\": \"meet\"}, \"control\": {\"frequency\": 449, \"value\": \"control\"}, \"pieces\": {\"frequency\": 385, \"value\": \"pieces\"}, \"high\": {\"frequency\": 1850, \"value\": \"high\"}, \"villain\": {\"frequency\": 497, \"value\": \"villain\"}, \"something\": {\"frequency\": 4076, \"value\": \"something\"}, \"sit\": {\"frequency\": 677, \"value\": \"sit\"}, \"instead\": {\"frequency\": 1917, \"value\": \"instead\"}, \"comedy\": {\"frequency\": 2352, \"value\": \"comedy\"}, \"intelligent\": {\"frequency\": 495, \"value\": \"intelligent\"}, \"tension\": {\"frequency\": 478, \"value\": \"tension\"}, \"watch\": {\"frequency\": 5468, \"value\": \"watch\"}, \"light\": {\"frequency\": 876, \"value\": \"light\"}, \"lame\": {\"frequency\": 646, \"value\": \"lame\"}, \"lines\": {\"frequency\": 1336, \"value\": \"lines\"}, \"honestly\": {\"frequency\": 424, \"value\": \"honestly\"}, \"producer\": {\"frequency\": 387, \"value\": \"producer\"}, \"move\": {\"frequency\": 670, \"value\": \"move\"}, \"produced\": {\"frequency\": 516, \"value\": \"produced\"}, \"including\": {\"frequency\": 967, \"value\": \"including\"}, \"looks\": {\"frequency\": 2000, \"value\": \"looks\"}, \"mentioned\": {\"frequency\": 537, \"value\": \"mentioned\"}, \"bunch\": {\"frequency\": 730, \"value\": \"bunch\"}, \"perfect\": {\"frequency\": 1358, \"value\": \"perfect\"}, \"1\": {\"frequency\": 1796, \"value\": \"1\"}, \"la\": {\"frequency\": 392, \"value\": \"la\"}, \"ll\": {\"frequency\": 2414, \"value\": \"ll\"}, \"dad\": {\"frequency\": 359, \"value\": \"dad\"}, \"material\": {\"frequency\": 698, \"value\": \"material\"}, \"mention\": {\"frequency\": 752, \"value\": \"mention\"}, \"hands\": {\"frequency\": 591, \"value\": \"hands\"}, \"front\": {\"frequency\": 566, \"value\": \"front\"}, \"day\": {\"frequency\": 2247, \"value\": \"day\"}, \"truth\": {\"frequency\": 593, \"value\": \"truth\"}, \"doing\": {\"frequency\": 1447, \"value\": \"doing\"}, \"society\": {\"frequency\": 551, \"value\": \"society\"}, \"books\": {\"frequency\": 395, \"value\": \"books\"}, \"our\": {\"frequency\": 1854, \"value\": \"our\"}, \"80\": {\"frequency\": 482, \"value\": \"80\"}, \"sexual\": {\"frequency\": 569, \"value\": \"sexual\"}, \"special\": {\"frequency\": 1810, \"value\": \"special\"}, \"out\": {\"frequency\": 10623, \"value\": \"out\"}, \"entertainment\": {\"frequency\": 804, \"value\": \"entertainment\"}, \"hilarious\": {\"frequency\": 889, \"value\": \"hilarious\"}, \"cause\": {\"frequency\": 477, \"value\": \"cause\"}, \"red\": {\"frequency\": 593, \"value\": \"red\"}, \"completely\": {\"frequency\": 1646, \"value\": \"completely\"}, \"surely\": {\"frequency\": 395, \"value\": \"surely\"}, \"york\": {\"frequency\": 619, \"value\": \"york\"}, \"scary\": {\"frequency\": 767, \"value\": \"scary\"}, \"could\": {\"frequency\": 5970, \"value\": \"could\"}, \"keep\": {\"frequency\": 1479, \"value\": \"keep\"}, \"powerful\": {\"frequency\": 542, \"value\": \"powerful\"}, \"scene\": {\"frequency\": 3827, \"value\": \"scene\"}, \"quality\": {\"frequency\": 1150, \"value\": \"quality\"}, \"sadly\": {\"frequency\": 536, \"value\": \"sadly\"}, \"fascinating\": {\"frequency\": 362, \"value\": \"fascinating\"}, \"accent\": {\"frequency\": 431, \"value\": \"accent\"}, \"their\": {\"frequency\": 6988, \"value\": \"their\"}, \"attack\": {\"frequency\": 362, \"value\": \"attack\"}, \"perfectly\": {\"frequency\": 591, \"value\": \"perfectly\"}, \"final\": {\"frequency\": 1162, \"value\": \"final\"}, \"painful\": {\"frequency\": 394, \"value\": \"painful\"}, \"stars\": {\"frequency\": 1472, \"value\": \"stars\"}, \"exactly\": {\"frequency\": 920, \"value\": \"exactly\"}, \"sex\": {\"frequency\": 1187, \"value\": \"sex\"}, \"herself\": {\"frequency\": 687, \"value\": \"herself\"}, \"haven\": {\"frequency\": 767, \"value\": \"haven\"}, \"loved\": {\"frequency\": 1246, \"value\": \"loved\"}, \"ben\": {\"frequency\": 374, \"value\": \"ben\"}, \"boring\": {\"frequency\": 1511, \"value\": \"boring\"}, \"bother\": {\"frequency\": 386, \"value\": \"bother\"}, \"loves\": {\"frequency\": 369, \"value\": \"loves\"}, \"viewer\": {\"frequency\": 1110, \"value\": \"viewer\"}, \"imdb\": {\"frequency\": 626, \"value\": \"imdb\"}, \"have\": {\"frequency\": 14184, \"value\": \"have\"}, \"need\": {\"frequency\": 1579, \"value\": \"need\"}, \"apparently\": {\"frequency\": 819, \"value\": \"apparently\"}, \"clearly\": {\"frequency\": 813, \"value\": \"clearly\"}, \"able\": {\"frequency\": 1143, \"value\": \"able\"}, \"mix\": {\"frequency\": 353, \"value\": \"mix\"}, \"which\": {\"frequency\": 7573, \"value\": \"which\"}, \"unless\": {\"frequency\": 657, \"value\": \"unless\"}, \"who\": {\"frequency\": 11347, \"value\": \"who\"}, \"why\": {\"frequency\": 3883, \"value\": \"why\"}, \"face\": {\"frequency\": 1412, \"value\": \"face\"}, \"looked\": {\"frequency\": 906, \"value\": \"looked\"}, \"pictures\": {\"frequency\": 399, \"value\": \"pictures\"}, \"fact\": {\"frequency\": 2970, \"value\": \"fact\"}, \"impression\": {\"frequency\": 390, \"value\": \"impression\"}, \"atmosphere\": {\"frequency\": 651, \"value\": \"atmosphere\"}, \"anyway\": {\"frequency\": 1045, \"value\": \"anyway\"}, \"bring\": {\"frequency\": 813, \"value\": \"bring\"}, \"fear\": {\"frequency\": 447, \"value\": \"fear\"}, \"filmed\": {\"frequency\": 699, \"value\": \"filmed\"}, \"based\": {\"frequency\": 1308, \"value\": \"based\"}, \"should\": {\"frequency\": 4074, \"value\": \"should\"}, \"local\": {\"frequency\": 754, \"value\": \"local\"}, \"hope\": {\"frequency\": 1302, \"value\": \"hope\"}, \"meant\": {\"frequency\": 564, \"value\": \"meant\"}, \"watching\": {\"frequency\": 3830, \"value\": \"watching\"}, \"familiar\": {\"frequency\": 511, \"value\": \"familiar\"}, \"photography\": {\"frequency\": 383, \"value\": \"photography\"}, \"overall\": {\"frequency\": 1327, \"value\": \"overall\"}, \"ones\": {\"frequency\": 847, \"value\": \"ones\"}, \"words\": {\"frequency\": 814, \"value\": \"words\"}, \"course\": {\"frequency\": 2185, \"value\": \"course\"}, \"married\": {\"frequency\": 514, \"value\": \"married\"}, \"stuff\": {\"frequency\": 1039, \"value\": \"stuff\"}, \"she\": {\"frequency\": 5500, \"value\": \"she\"}, \"view\": {\"frequency\": 856, \"value\": \"view\"}, \"knowing\": {\"frequency\": 429, \"value\": \"knowing\"}, \"computer\": {\"frequency\": 356, \"value\": \"computer\"}, \"superb\": {\"frequency\": 621, \"value\": \"superb\"}, \"genius\": {\"frequency\": 406, \"value\": \"genius\"}, \"written\": {\"frequency\": 1464, \"value\": \"written\"}, \"horrible\": {\"frequency\": 1006, \"value\": \"horrible\"}, \"neither\": {\"frequency\": 508, \"value\": \"neither\"}, \"bought\": {\"frequency\": 422, \"value\": \"bought\"}, \"ends\": {\"frequency\": 888, \"value\": \"ends\"}, \"ability\": {\"frequency\": 415, \"value\": \"ability\"}, \"opening\": {\"frequency\": 895, \"value\": \"opening\"}, \"job\": {\"frequency\": 1920, \"value\": \"job\"}, \"joe\": {\"frequency\": 400, \"value\": \"joe\"}, \"key\": {\"frequency\": 389, \"value\": \"key\"}, \"police\": {\"frequency\": 784, \"value\": \"police\"}, \"david\": {\"frequency\": 752, \"value\": \"david\"}, \"career\": {\"frequency\": 878, \"value\": \"career\"}, \"joke\": {\"frequency\": 525, \"value\": \"joke\"}, \"taking\": {\"frequency\": 894, \"value\": \"taking\"}, \"etc\": {\"frequency\": 1018, \"value\": \"etc\"}, \"admit\": {\"frequency\": 588, \"value\": \"admit\"}, \"otherwise\": {\"frequency\": 650, \"value\": \"otherwise\"}, \"comment\": {\"frequency\": 599, \"value\": \"comment\"}, \"co\": {\"frequency\": 533, \"value\": \"co\"}, \"walk\": {\"frequency\": 458, \"value\": \"walk\"}, \"laugh\": {\"frequency\": 1211, \"value\": \"laugh\"}, \"sequences\": {\"frequency\": 634, \"value\": \"sequences\"}, \"respect\": {\"frequency\": 464, \"value\": \"respect\"}, \"decent\": {\"frequency\": 1016, \"value\": \"decent\"}, \"slowly\": {\"frequency\": 383, \"value\": \"slowly\"}, \"waste\": {\"frequency\": 1301, \"value\": \"waste\"}, \"an\": {\"frequency\": 12210, \"value\": \"an\"}, \"present\": {\"frequency\": 556, \"value\": \"present\"}, \"novel\": {\"frequency\": 670, \"value\": \"novel\"}, \"unlike\": {\"frequency\": 554, \"value\": \"unlike\"}, \"plain\": {\"frequency\": 542, \"value\": \"plain\"}, \"appearance\": {\"frequency\": 423, \"value\": \"appearance\"}, \"value\": {\"frequency\": 477, \"value\": \"value\"}, \"will\": {\"frequency\": 6247, \"value\": \"will\"}, \"stunning\": {\"frequency\": 384, \"value\": \"stunning\"}, \"wild\": {\"frequency\": 384, \"value\": \"wild\"}, \"ve\": {\"frequency\": 3946, \"value\": \"ve\"}, \"almost\": {\"frequency\": 2658, \"value\": \"almost\"}, \"blood\": {\"frequency\": 879, \"value\": \"blood\"}, \"thus\": {\"frequency\": 384, \"value\": \"thus\"}, \"surprisingly\": {\"frequency\": 439, \"value\": \"surprisingly\"}, \"audiences\": {\"frequency\": 420, \"value\": \"audiences\"}, \"perhaps\": {\"frequency\": 1458, \"value\": \"perhaps\"}, \"romance\": {\"frequency\": 602, \"value\": \"romance\"}, \"strange\": {\"frequency\": 796, \"value\": \"strange\"}, \"party\": {\"frequency\": 457, \"value\": \"party\"}, \"gets\": {\"frequency\": 2618, \"value\": \"gets\"}, \"difficult\": {\"frequency\": 641, \"value\": \"difficult\"}, \"upon\": {\"frequency\": 787, \"value\": \"upon\"}, \"effect\": {\"frequency\": 578, \"value\": \"effect\"}, \"off\": {\"frequency\": 4643, \"value\": \"off\"}, \"i\": {\"frequency\": 19902, \"value\": \"i\"}, \"well\": {\"frequency\": 7530, \"value\": \"well\"}, \"fighting\": {\"frequency\": 519, \"value\": \"fighting\"}, \"thought\": {\"frequency\": 2919, \"value\": \"thought\"}, \"sets\": {\"frequency\": 802, \"value\": \"sets\"}, \"usual\": {\"frequency\": 878, \"value\": \"usual\"}, \"less\": {\"frequency\": 1740, \"value\": \"less\"}, \"moments\": {\"frequency\": 1433, \"value\": \"moments\"}, \"tone\": {\"frequency\": 426, \"value\": \"tone\"}, \"paul\": {\"frequency\": 638, \"value\": \"paul\"}, \"realize\": {\"frequency\": 616, \"value\": \"realize\"}, \"reasons\": {\"frequency\": 558, \"value\": \"reasons\"}, \"add\": {\"frequency\": 779, \"value\": \"add\"}, \"book\": {\"frequency\": 1434, \"value\": \"book\"}, \"smart\": {\"frequency\": 368, \"value\": \"smart\"}, \"five\": {\"frequency\": 795, \"value\": \"five\"}, \"know\": {\"frequency\": 4781, \"value\": \"know\"}, \"immediately\": {\"frequency\": 435, \"value\": \"immediately\"}, \"like\": {\"frequency\": 11677, \"value\": \"like\"}, \"success\": {\"frequency\": 540, \"value\": \"success\"}, \"become\": {\"frequency\": 1371, \"value\": \"become\"}, \"works\": {\"frequency\": 1148, \"value\": \"works\"}, \"likes\": {\"frequency\": 439, \"value\": \"likes\"}, \"because\": {\"frequency\": 6249, \"value\": \"because\"}, \"sequence\": {\"frequency\": 703, \"value\": \"sequence\"}, \"footage\": {\"frequency\": 488, \"value\": \"footage\"}, \"alive\": {\"frequency\": 414, \"value\": \"alive\"}, \"hair\": {\"frequency\": 457, \"value\": \"hair\"}, \"home\": {\"frequency\": 1536, \"value\": \"home\"}, \"peter\": {\"frequency\": 591, \"value\": \"peter\"}, \"happens\": {\"frequency\": 974, \"value\": \"happens\"}, \"lead\": {\"frequency\": 1174, \"value\": \"lead\"}, \"literally\": {\"frequency\": 446, \"value\": \"literally\"}, \"avoid\": {\"frequency\": 728, \"value\": \"avoid\"}, \"does\": {\"frequency\": 4553, \"value\": \"does\"}, \"although\": {\"frequency\": 2192, \"value\": \"although\"}, \"stage\": {\"frequency\": 559, \"value\": \"stage\"}, \"sister\": {\"frequency\": 633, \"value\": \"sister\"}, \"rare\": {\"frequency\": 415, \"value\": \"rare\"}, \"getting\": {\"frequency\": 1434, \"value\": \"getting\"}, \"documentary\": {\"frequency\": 622, \"value\": \"documentary\"}, \"equally\": {\"frequency\": 413, \"value\": \"equally\"}, \"own\": {\"frequency\": 2757, \"value\": \"own\"}, \"female\": {\"frequency\": 821, \"value\": \"female\"}, \"pointless\": {\"frequency\": 460, \"value\": \"pointless\"}, \"biggest\": {\"frequency\": 487, \"value\": \"biggest\"}, \"buy\": {\"frequency\": 707, \"value\": \"buy\"}, \"sequel\": {\"frequency\": 627, \"value\": \"sequel\"}, \"but\": {\"frequency\": 17979, \"value\": \"but\"}, \"editing\": {\"frequency\": 699, \"value\": \"editing\"}, \"he\": {\"frequency\": 10356, \"value\": \"he\"}, \"made\": {\"frequency\": 6371, \"value\": \"made\"}, \"places\": {\"frequency\": 383, \"value\": \"places\"}, \"whether\": {\"frequency\": 788, \"value\": \"whether\"}, \"wish\": {\"frequency\": 881, \"value\": \"wish\"}, \"stories\": {\"frequency\": 902, \"value\": \"stories\"}, \"problem\": {\"frequency\": 1239, \"value\": \"problem\"}, \"piece\": {\"frequency\": 1375, \"value\": \"piece\"}, \"minutes\": {\"frequency\": 2398, \"value\": \"minutes\"}, \"twist\": {\"frequency\": 499, \"value\": \"twist\"}, \"shooting\": {\"frequency\": 422, \"value\": \"shooting\"}, \"happen\": {\"frequency\": 944, \"value\": \"happen\"}, \"compared\": {\"frequency\": 516, \"value\": \"compared\"}, \"incredible\": {\"frequency\": 500, \"value\": \"incredible\"}, \"other\": {\"frequency\": 6708, \"value\": \"other\"}, \"details\": {\"frequency\": 375, \"value\": \"details\"}, \"sick\": {\"frequency\": 436, \"value\": \"sick\"}, \"incredibly\": {\"frequency\": 576, \"value\": \"incredibly\"}, \"conclusion\": {\"frequency\": 471, \"value\": \"conclusion\"}, \"star\": {\"frequency\": 1615, \"value\": \"star\"}, \"class\": {\"frequency\": 749, \"value\": \"class\"}, \"shown\": {\"frequency\": 881, \"value\": \"shown\"}, \"stay\": {\"frequency\": 728, \"value\": \"stay\"}, \"chance\": {\"frequency\": 979, \"value\": \"chance\"}, \"friends\": {\"frequency\": 1495, \"value\": \"friends\"}, \"understand\": {\"frequency\": 1440, \"value\": \"understand\"}}, \"size\": 3548029}, \"progress\": 1.0, \"values\": {\"std\": 2.299528488922689, \"complete\": true, \"min\": 1.0, \"max\": 198.0, \"quantile\": [1.0, 1.0, 1.0, 1.0, 1.0, 1.0, 1.0, 1.0, 1.0, 1.0, 1.0, 1.0, 1.0, 1.0, 1.0, 1.0, 1.0, 1.0, 1.0, 1.0, 1.0, 1.0, 1.0, 1.0, 1.0, 1.0, 1.0, 1.0, 1.0, 1.0, 1.0, 1.0, 1.0, 1.0, 1.0, 1.0, 1.0, 1.0, 1.0, 1.0, 1.0, 1.0, 1.0, 1.0, 1.0, 1.0, 1.0, 1.0, 1.0, 1.0, 1.0, 1.0, 1.0, 1.0, 1.0, 1.0, 1.0, 1.0, 1.0, 1.0, 1.0, 1.0, 1.0, 1.0, 1.0, 1.0, 1.0, 1.0, 1.0, 1.0, 1.0, 1.0, 1.0, 1.0, 1.0, 2.0, 2.0, 2.0, 2.0, 2.0, 2.0, 2.0, 2.0, 2.0, 2.0, 2.0, 2.0, 2.0, 3.0, 3.0, 3.0, 3.0, 3.0, 4.0, 4.0, 5.0, 5.0, 6.0, 8.0, 11.0, 198.0], \"numeric\": true, \"num_unique\": 103, \"num_undefined\": 0, \"var\": 5.2878312713670645, \"progress\": 1.0, \"mean\": 1.7073775327089957, \"frequent_items\": {\"1.0\": {\"frequency\": 2660363, \"value\": 1.0}, \"2.0\": {\"frequency\": 453137, \"value\": 2.0}, \"3.0\": {\"frequency\": 163522, \"value\": 3.0}, \"4.0\": {\"frequency\": 85688, \"value\": 4.0}, \"5.0\": {\"frequency\": 48779, \"value\": 5.0}, \"6.0\": {\"frequency\": 34725, \"value\": 6.0}, \"7.0\": {\"frequency\": 21761, \"value\": 7.0}, \"8.0\": {\"frequency\": 17465, \"value\": 8.0}, \"9.0\": {\"frequency\": 11403, \"value\": 9.0}, \"10.0\": {\"frequency\": 10112, \"value\": 10.0}, \"11.0\": {\"frequency\": 6677, \"value\": 11.0}, \"12.0\": {\"frequency\": 5976, \"value\": 12.0}, \"13.0\": {\"frequency\": 4168, \"value\": 13.0}, \"14.0\": {\"frequency\": 3996, \"value\": 14.0}, \"15.0\": {\"frequency\": 2787, \"value\": 15.0}, \"16.0\": {\"frequency\": 2624, \"value\": 16.0}, \"17.0\": {\"frequency\": 1840, \"value\": 17.0}, \"18.0\": {\"frequency\": 1856, \"value\": 18.0}, \"19.0\": {\"frequency\": 1347, \"value\": 19.0}, \"20.0\": {\"frequency\": 1195, \"value\": 20.0}, \"21.0\": {\"frequency\": 1001, \"value\": 21.0}, \"22.0\": {\"frequency\": 928, \"value\": 22.0}, \"23.0\": {\"frequency\": 731, \"value\": 23.0}, \"24.0\": {\"frequency\": 696, \"value\": 24.0}, \"25.0\": {\"frequency\": 545, \"value\": 25.0}, \"26.0\": {\"frequency\": 526, \"value\": 26.0}, \"27.0\": {\"frequency\": 426, \"value\": 27.0}, \"28.0\": {\"frequency\": 403, \"value\": 28.0}}, \"size\": 3548029}, \"complete\": true, \"num_undefined\": 0}}, \"selected_variable\": {\"name\": [\"movies_reviews_data\"], \"column_identifiers\": [\"review\", \"1grams features\"], \"view_component\": \"Summary\", \"view_file\": \"sframe\", \"view_params\": {\"y\": null, \"x\": null, \"columns\": [\"review\", \"1grams features\"], \"view\": null}, \"view_components\": [\"Summary\", \"Table\", \"Bar Chart\", \"Line Chart\", \"Scatter Plot\", \"Heat Map\", \"Plots\"], \"type\": \"SFrame\", \"columns\": [{\"dtype\": \"str\", \"name\": \"id\"}, {\"dtype\": \"str\", \"name\": \"sentiment\"}, {\"dtype\": \"str\", \"name\": \"review\"}, {\"dtype\": \"dict\", \"name\": \"1grams features\"}], \"descriptives\": {\"rows\": 25000, \"columns\": 4}}, \"columns\": [{\"dtype\": \"str\", \"name\": \"id\"}, {\"dtype\": \"str\", \"name\": \"sentiment\"}, {\"dtype\": \"str\", \"name\": \"review\"}, {\"dtype\": \"dict\", \"name\": \"1grams features\"}]}, e);\n",
       "                });\n",
       "            })();\n",
       "        "
      ],
      "text/plain": [
       "<IPython.core.display.Javascript object>"
      ]
     },
     "execution_count": 8,
     "metadata": {},
     "output_type": "execute_result"
    }
   ],
   "source": [
    "movies_reviews_data.show(['review','1grams features'])"
   ]
  },
  {
   "cell_type": "markdown",
   "metadata": {},
   "source": [
    "We are now ready to construct and evaluate the movie reviews sentiment classifier using the calculated above features. But first, to be able to perform a quick evaluation of the constructed classifier, we need to create labeled train and test datasets. We will create train and test datasets by randomly splitting the train dataset into two parts. The first part will contain 80% of the labeled train dataset and will be used as the training dataset, while the second part will contain 20% of the labeled train dataset and will be used as the testing dataset. We will create these two dataset by using the following command:  "
   ]
  },
  {
   "cell_type": "code",
   "execution_count": 9,
   "metadata": {
    "collapsed": false
   },
   "outputs": [],
   "source": [
    "train_set, test_set = movies_reviews_data.random_split(0.8, seed=5)"
   ]
  },
  {
   "cell_type": "markdown",
   "metadata": {},
   "source": [
    "We are now ready to create a classifier using the following command:"
   ]
  },
  {
   "cell_type": "code",
   "execution_count": 10,
   "metadata": {
    "collapsed": false
   },
   "outputs": [
    {
     "name": "stdout",
     "output_type": "stream",
     "text": [
      "PROGRESS: Creating a validation set from 5 percent of training data. This may take a while.\n",
      "          You can set ``validation_set=None`` to disable validation tracking.\n",
      "\n",
      "PROGRESS: The following methods are available for this type of problem.\n",
      "PROGRESS: LogisticClassifier, SVMClassifier\n",
      "PROGRESS: The returned model will be chosen according to validation accuracy.\n",
      "PROGRESS: Logistic regression:\n",
      "PROGRESS: --------------------------------------------------------\n",
      "PROGRESS: Number of examples          : 19040\n",
      "PROGRESS: Number of classes           : 2\n",
      "PROGRESS: Number of feature columns   : 1\n",
      "PROGRESS: Number of unpacked features : 68096\n",
      "PROGRESS: Number of coefficients    : 68097\n",
      "PROGRESS: Starting L-BFGS\n",
      "PROGRESS: --------------------------------------------------------\n",
      "PROGRESS: +-----------+----------+-----------+--------------+-------------------+---------------------+\n",
      "PROGRESS: | Iteration | Passes   | Step size | Elapsed Time | Training-accuracy | Validation-accuracy |\n",
      "PROGRESS: +-----------+----------+-----------+--------------+-------------------+---------------------+\n",
      "PROGRESS: | 1         | 3        | 0.000053  | 0.174310     | 0.943067          | 0.827255            |\n",
      "PROGRESS: | 2         | 5        | 1.000000  | 0.341889     | 0.960347          | 0.831094            |\n",
      "PROGRESS: | 3         | 6        | 1.000000  | 0.452604     | 0.988235          | 0.860845            |\n",
      "PROGRESS: | 4         | 7        | 1.000000  | 0.568018     | 0.992857          | 0.861804            |\n",
      "PROGRESS: | 5         | 8        | 1.000000  | 0.676616     | 0.995431          | 0.872361            |\n",
      "PROGRESS: | 6         | 9        | 1.000000  | 0.790234     | 0.991912          | 0.820537            |\n",
      "PROGRESS: | 10        | 13       | 1.000000  | 1.246197     | 0.998950          | 0.865643            |\n",
      "PROGRESS: +-----------+----------+-----------+--------------+-------------------+---------------------+\n",
      "PROGRESS: SVM:\n",
      "PROGRESS: --------------------------------------------------------\n",
      "PROGRESS: Number of examples          : 19040\n",
      "PROGRESS: Number of classes           : 2\n",
      "PROGRESS: Number of feature columns   : 1\n",
      "PROGRESS: Number of unpacked features : 68096\n",
      "PROGRESS: Number of coefficients    : 68097\n",
      "PROGRESS: Starting L-BFGS\n",
      "PROGRESS: --------------------------------------------------------\n",
      "PROGRESS: +-----------+----------+-----------+--------------+-------------------+---------------------+\n",
      "PROGRESS: | Iteration | Passes   | Step size | Elapsed Time | Training-accuracy | Validation-accuracy |\n",
      "PROGRESS: +-----------+----------+-----------+--------------+-------------------+---------------------+\n",
      "PROGRESS: | 1         | 3        | 0.000053  | 0.172382     | 0.943067          | 0.827255            |\n",
      "PROGRESS: | 2         | 5        | 1.000000  | 0.334878     | 0.972164          | 0.851248            |\n",
      "PROGRESS: | 3         | 6        | 1.000000  | 0.446393     | 0.989338          | 0.844530            |\n",
      "PROGRESS: | 4         | 7        | 1.000000  | 0.550702     | 0.993120          | 0.849328            |\n",
      "PROGRESS: | 5         | 8        | 1.000000  | 0.656034     | 0.996166          | 0.852207            |\n",
      "PROGRESS: | 6         | 9        | 1.000000  | 0.765377     | 0.997689          | 0.857006            |\n",
      "PROGRESS: | 10        | 13       | 1.000000  | 1.208324     | 0.999475          | 0.860845            |\n",
      "PROGRESS: +-----------+----------+-----------+--------------+-------------------+---------------------+\n",
      "PROGRESS: Model selection based on validation accuracy:\n",
      "PROGRESS: ---------------------------------------------\n",
      "PROGRESS: LogisticClassifier              : 0.865643\n",
      "PROGRESS: SVMClassifier                   : 0.860845\n",
      "PROGRESS: ---------------------------------------------\n",
      "PROGRESS: Selecting LogisticClassifier based on validation set performance.\n"
     ]
    }
   ],
   "source": [
    "model_1 = gl.classifier.create(train_set, target='sentiment', features=['1grams features'])"
   ]
  },
  {
   "cell_type": "markdown",
   "metadata": {},
   "source": [
    "We can evaluate the performence of the classifier by evaluating it on the test dataset"
   ]
  },
  {
   "cell_type": "code",
   "execution_count": 11,
   "metadata": {
    "collapsed": false
   },
   "outputs": [],
   "source": [
    "result1 = model_1.evaluate(test_set)"
   ]
  },
  {
   "cell_type": "markdown",
   "metadata": {},
   "source": [
    "In order to get an easy view of the classifier's prediction result, we define and use the following function"
   ]
  },
  {
   "cell_type": "code",
   "execution_count": 12,
   "metadata": {
    "collapsed": false
   },
   "outputs": [
    {
     "name": "stdout",
     "output_type": "stream",
     "text": [
      "******************************\n",
      "Accuracy        :  0.87820252135\n",
      "Confusion Matrix: \n",
      "+--------------+-----------------+-------+\n",
      "| target_label | predicted_label | count |\n",
      "+--------------+-----------------+-------+\n",
      "|      0       |        0        |  2184 |\n",
      "|      0       |        1        |  341  |\n",
      "|      1       |        1        |  2135 |\n",
      "|      1       |        0        |  258  |\n",
      "+--------------+-----------------+-------+\n",
      "[4 rows x 3 columns]\n",
      "\n"
     ]
    }
   ],
   "source": [
    "def print_statistics(result):\n",
    "    print \"*\" * 30\n",
    "    print \"Accuracy        : \", result[\"accuracy\"]\n",
    "    print \"Confusion Matrix: \\n\", result[\"confusion_matrix\"]\n",
    "print_statistics(result1)"
   ]
  },
  {
   "cell_type": "markdown",
   "metadata": {},
   "source": [
    "As can be seen in the results above, in just a few relatively straight foward lines of code, we have developed a sentiment classifier that has accuracy of about ~0.88. Next, we demonstrate how we can improve the classifier accuracy even more."
   ]
  },
  {
   "cell_type": "markdown",
   "metadata": {},
   "source": [
    "## Improving The Classifier"
   ]
  },
  {
   "cell_type": "markdown",
   "metadata": {},
   "source": [
    "One way to improve the movie reviews sentiment classifier is to extract more meaningful features from the reviews. One method to add additional features, which might be meaningful, is to calculate the frequency of every two consecutive words in each review. To calculate the frequency of each two consecutive words in each review, as before, we will use GraphLab's count_ngrams function only this time we will set n to be equal 2 (n=2) to create new column named '2grams features'.  "
   ]
  },
  {
   "cell_type": "code",
   "execution_count": 13,
   "metadata": {
    "collapsed": false
   },
   "outputs": [],
   "source": [
    "movies_reviews_data['2grams features'] = gl.text_analytics.count_ngrams(movies_reviews_data['review'],2)"
   ]
  },
  {
   "cell_type": "markdown",
   "metadata": {},
   "source": [
    "As before, we will construct and evaluate a movie reviews sentiment classifier. However, this time we will use both the '1grams features' and the '2grams features' features"
   ]
  },
  {
   "cell_type": "code",
   "execution_count": 14,
   "metadata": {
    "collapsed": false
   },
   "outputs": [
    {
     "name": "stdout",
     "output_type": "stream",
     "text": [
      "PROGRESS: Creating a validation set from 5 percent of training data. This may take a while.\n",
      "          You can set ``validation_set=None`` to disable validation tracking.\n",
      "\n",
      "PROGRESS: The following methods are available for this type of problem.\n",
      "PROGRESS: LogisticClassifier, SVMClassifier\n",
      "PROGRESS: The returned model will be chosen according to validation accuracy.\n",
      "PROGRESS: Logistic regression:\n",
      "PROGRESS: --------------------------------------------------------\n",
      "PROGRESS: Number of examples          : 18979\n",
      "PROGRESS: Number of classes           : 2\n",
      "PROGRESS: Number of feature columns   : 2\n",
      "PROGRESS: Number of unpacked features : 1204973\n",
      "PROGRESS: Number of coefficients    : 1204974\n",
      "PROGRESS: Starting L-BFGS\n",
      "PROGRESS: --------------------------------------------------------\n",
      "PROGRESS: +-----------+----------+-----------+--------------+-------------------+---------------------+\n",
      "PROGRESS: | Iteration | Passes   | Step size | Elapsed Time | Training-accuracy | Validation-accuracy |\n",
      "PROGRESS: +-----------+----------+-----------+--------------+-------------------+---------------------+\n",
      "PROGRESS: | 1         | 3        | 0.000053  | 0.544629     | 0.999262          | 0.875793            |\n",
      "PROGRESS: | 2         | 5        | 1.000000  | 0.987449     | 0.999947          | 0.874887            |\n",
      "PROGRESS: | 3         | 6        | 1.000000  | 1.272757     | 1.000000          | 0.874887            |\n",
      "PROGRESS: | 4         | 7        | 1.000000  | 1.560809     | 1.000000          | 0.874887            |\n",
      "PROGRESS: | 5         | 8        | 1.000000  | 1.852033     | 1.000000          | 0.874887            |\n",
      "PROGRESS: | 6         | 9        | 1.000000  | 2.148950     | 1.000000          | 0.873073            |\n",
      "PROGRESS: | 10        | 13       | 1.000000  | 3.382280     | 1.000000          | 0.872167            |\n",
      "PROGRESS: +-----------+----------+-----------+--------------+-------------------+---------------------+\n",
      "PROGRESS: SVM:\n",
      "PROGRESS: --------------------------------------------------------\n",
      "PROGRESS: Number of examples          : 18979\n",
      "PROGRESS: Number of classes           : 2\n",
      "PROGRESS: Number of feature columns   : 2\n",
      "PROGRESS: Number of unpacked features : 1204973\n",
      "PROGRESS: Number of coefficients    : 1204974\n",
      "PROGRESS: Starting L-BFGS\n",
      "PROGRESS: --------------------------------------------------------\n",
      "PROGRESS: +-----------+----------+-----------+--------------+-------------------+---------------------+\n",
      "PROGRESS: | Iteration | Passes   | Step size | Elapsed Time | Training-accuracy | Validation-accuracy |\n",
      "PROGRESS: +-----------+----------+-----------+--------------+-------------------+---------------------+\n",
      "PROGRESS: | 1         | 3        | 0.000053  | 0.466284     | 0.999262          | 0.875793            |\n",
      "PROGRESS: | 2         | 5        | 1.000000  | 0.861519     | 1.000000          | 0.874887            |\n",
      "PROGRESS: | 3         | 6        | 1.000000  | 1.125397     | 1.000000          | 0.874887            |\n",
      "PROGRESS: | 4         | 7        | 1.000000  | 1.389075     | 1.000000          | 0.874887            |\n",
      "PROGRESS: | 5         | 8        | 1.000000  | 1.647962     | 0.999947          | 0.874887            |\n",
      "PROGRESS: | 6         | 10       | 1.000000  | 2.060470     | 1.000000          | 0.874887            |\n",
      "PROGRESS: | 10        | 15       | 1.000000  | 3.332959     | 1.000000          | 0.875793            |\n",
      "PROGRESS: +-----------+----------+-----------+--------------+-------------------+---------------------+\n",
      "PROGRESS: Model selection based on validation accuracy:\n",
      "PROGRESS: ---------------------------------------------\n",
      "PROGRESS: LogisticClassifier              : 0.872167\n",
      "PROGRESS: SVMClassifier                   : 0.875793\n",
      "PROGRESS: ---------------------------------------------\n",
      "PROGRESS: Selecting SVMClassifier based on validation set performance.\n",
      "******************************\n",
      "Accuracy        :  0.874339162261\n",
      "Confusion Matrix: \n",
      "+--------------+-----------------+-------+\n",
      "| target_label | predicted_label | count |\n",
      "+--------------+-----------------+-------+\n",
      "|      0       |        0        |  2113 |\n",
      "|      0       |        1        |  412  |\n",
      "|      1       |        1        |  2187 |\n",
      "|      1       |        0        |  206  |\n",
      "+--------------+-----------------+-------+\n",
      "[4 rows x 3 columns]\n",
      "\n"
     ]
    }
   ],
   "source": [
    "train_set, test_set = movies_reviews_data.random_split(0.8, seed=5)\n",
    "model_2 = gl.classifier.create(train_set, target='sentiment', features=['1grams features','2grams features'])\n",
    "result2 = model_2.evaluate(test_set)\n",
    "print_statistics(result2)"
   ]
  },
  {
   "cell_type": "markdown",
   "metadata": {},
   "source": [
    "Indeed, the new constructed classifier seems to be more accurate with an accuracy of about ~0.9."
   ]
  },
  {
   "cell_type": "markdown",
   "metadata": {},
   "source": [
    "## Unlabeled Test File"
   ]
  },
  {
   "cell_type": "markdown",
   "metadata": {},
   "source": [
    "To test how well the presented method works, we will use all the 25,000 labeled IMDB movie reviews in the train dataset to construct a classifier. Afterwards, we will utilize the constructed classifier to predict sentiment for each review in the unlabeled dataset. Lastly, we will create a submission file according to Kaggle's guidelines and submit it. "
   ]
  },
  {
   "cell_type": "code",
   "execution_count": 16,
   "metadata": {
    "collapsed": false
   },
   "outputs": [
    {
     "name": "stdout",
     "output_type": "stream",
     "text": [
      "PROGRESS: Finished parsing file /home2/yannick2/github/bagofwords/data/labeledTrainData.tsv\n",
      "PROGRESS: Parsing completed. Parsed 25000 lines in 0.238247 secs.\n",
      "PROGRESS: Creating a validation set from 5 percent of training data. This may take a while.\n",
      "          You can set ``validation_set=None`` to disable validation tracking.\n",
      "\n",
      "PROGRESS: The following methods are available for this type of problem."
     ]
    },
    {
     "name": "stderr",
     "output_type": "stream",
     "text": [
      "[ERROR] Toolkit error: Cancelled by user.\n"
     ]
    },
    {
     "name": "stdout",
     "output_type": "stream",
     "text": [
      "\n",
      "PROGRESS: LogisticClassifier, SVMClassifier\n",
      "PROGRESS: The returned model will be chosen according to validation accuracy.\n",
      "PROGRESS: Logistic regression:\n",
      "PROGRESS: --------------------------------------------------------\n",
      "PROGRESS: Number of examples          : 23727\n",
      "PROGRESS: Number of classes           : 2\n",
      "PROGRESS: Number of feature columns   : 2\n",
      "PROGRESS: Number of unpacked features : 1407316\n",
      "PROGRESS: Number of coefficients    : 1407317\n",
      "PROGRESS: Starting L-BFGS\n",
      "PROGRESS: --------------------------------------------------------\n",
      "PROGRESS: +-----------+----------+-----------+--------------+-------------------+---------------------+\n",
      "PROGRESS: | Iteration | Passes   | Step size | Elapsed Time | Training-accuracy | Validation-accuracy |\n",
      "PROGRESS: +-----------+----------+-----------+--------------+-------------------+---------------------+\n",
      "PROGRESS: | 1         | 3        | 0.000042  | 0.660826     | 0.998946          | 0.884525            |\n",
      "PROGRESS: | 2         | 5        | 1.000000  | 1.265584     | 0.999916          | 0.886096            |\n",
      "PROGRESS: | 3         | 6        | 1.000000  | 1.601716     | 0.999958          | 0.885310            |\n",
      "PROGRESS: | 4         | 7        | 1.000000  | 1.942023     | 0.999958          | 0.886096            |\n",
      "PROGRESS: | 5         | 8        | 1.000000  | 2.293577     | 1.000000          | 0.885310            |\n",
      "PROGRESS: | 6         | 9        | 1.000000  | 2.649480     | 1.000000          | 0.886096            |\n",
      "PROGRESS: | 10        | 13       | 1.000000  | 4.114212     | 1.000000          | 0.882954            |\n",
      "PROGRESS: +-----------+----------+-----------+--------------+-------------------+---------------------+\n",
      "PROGRESS: SVM:\n",
      "PROGRESS: --------------------------------------------------------\n",
      "PROGRESS: Number of examples          : 23727\n",
      "PROGRESS: Number of classes           : 2\n",
      "PROGRESS: Number of feature columns   : 2\n",
      "PROGRESS: Number of unpacked features : 1407316\n",
      "PROGRESS: Number of coefficients    : 1407317\n",
      "PROGRESS: Starting L-BFGS\n",
      "PROGRESS: --------------------------------------------------------\n",
      "PROGRESS: +-----------+----------+-----------+--------------+-------------------+---------------------+\n",
      "PROGRESS: | Iteration | Passes   | Step size | Elapsed Time | Training-accuracy | Validation-accuracy |\n",
      "PROGRESS: +-----------+----------+-----------+--------------+-------------------+---------------------+\n",
      "PROGRESS: | 1         | 3        | 0.000042  | 0.556830     | 0.998946          | 0.884525            |\n",
      "PROGRESS: | 2         | 5        | 1.000000  | 1.050250     | 0.999916          | 0.883739            |\n",
      "PROGRESS: | 3         | 6        | 1.000000  | 1.358221     | 0.999958          | 0.883739            |\n",
      "PROGRESS: | 4         | 7        | 1.000000  | 1.680018     | 0.999958          | 0.883739            |\n",
      "PROGRESS: | 5         | 8        | 1.000000  | 2.020193     | 0.126101          | 0.283582            |\n"
     ]
    },
    {
     "ename": "ToolkitError",
     "evalue": "Cancelled by user.",
     "output_type": "error",
     "traceback": [
      "\u001b[1;31m---------------------------------------------------------------------------\u001b[0m",
      "\u001b[1;31mToolkitError\u001b[0m                              Traceback (most recent call last)",
      "\u001b[1;32m<ipython-input-16-f01ac0e1eae4>\u001b[0m in \u001b[0;36m<module>\u001b[1;34m()\u001b[0m\n\u001b[0;32m      5\u001b[0m \u001b[0mtrain_data\u001b[0m\u001b[1;33m[\u001b[0m\u001b[1;34m'2grams features'\u001b[0m\u001b[1;33m]\u001b[0m \u001b[1;33m=\u001b[0m \u001b[0mgl\u001b[0m\u001b[1;33m.\u001b[0m\u001b[0mtext_analytics\u001b[0m\u001b[1;33m.\u001b[0m\u001b[0mcount_ngrams\u001b[0m\u001b[1;33m(\u001b[0m\u001b[0mtrain_data\u001b[0m\u001b[1;33m[\u001b[0m\u001b[1;34m'review'\u001b[0m\u001b[1;33m]\u001b[0m\u001b[1;33m,\u001b[0m\u001b[1;36m2\u001b[0m\u001b[1;33m)\u001b[0m\u001b[1;33m\u001b[0m\u001b[0m\n\u001b[0;32m      6\u001b[0m \u001b[1;33m\u001b[0m\u001b[0m\n\u001b[1;32m----> 7\u001b[1;33m \u001b[0mcls\u001b[0m \u001b[1;33m=\u001b[0m \u001b[0mgl\u001b[0m\u001b[1;33m.\u001b[0m\u001b[0mclassifier\u001b[0m\u001b[1;33m.\u001b[0m\u001b[0mcreate\u001b[0m\u001b[1;33m(\u001b[0m\u001b[0mtrain_data\u001b[0m\u001b[1;33m,\u001b[0m \u001b[0mtarget\u001b[0m\u001b[1;33m=\u001b[0m\u001b[1;34m'sentiment'\u001b[0m\u001b[1;33m,\u001b[0m \u001b[0mfeatures\u001b[0m\u001b[1;33m=\u001b[0m\u001b[1;33m[\u001b[0m\u001b[1;34m'1grams features'\u001b[0m\u001b[1;33m,\u001b[0m\u001b[1;34m'2grams features'\u001b[0m\u001b[1;33m]\u001b[0m\u001b[1;33m)\u001b[0m\u001b[1;33m\u001b[0m\u001b[0m\n\u001b[0m\u001b[0;32m      8\u001b[0m \u001b[1;31m#creating the test dataset\u001b[0m\u001b[1;33m\u001b[0m\u001b[1;33m\u001b[0m\u001b[0m\n\u001b[0;32m      9\u001b[0m \u001b[0mtest_data\u001b[0m \u001b[1;33m=\u001b[0m \u001b[0mgl\u001b[0m\u001b[1;33m.\u001b[0m\u001b[0mSFrame\u001b[0m\u001b[1;33m.\u001b[0m\u001b[0mread_csv\u001b[0m\u001b[1;33m(\u001b[0m\u001b[0mtestdata_path\u001b[0m\u001b[1;33m,\u001b[0m\u001b[0mheader\u001b[0m\u001b[1;33m=\u001b[0m\u001b[0mTrue\u001b[0m\u001b[1;33m,\u001b[0m \u001b[0mdelimiter\u001b[0m\u001b[1;33m=\u001b[0m\u001b[1;34m'\\t'\u001b[0m\u001b[1;33m,\u001b[0m\u001b[0mquote_char\u001b[0m\u001b[1;33m=\u001b[0m\u001b[1;34m'\"'\u001b[0m\u001b[1;33m,\u001b[0m \u001b[0mcolumn_type_hints\u001b[0m \u001b[1;33m=\u001b[0m \u001b[1;33m{\u001b[0m\u001b[1;34m'id'\u001b[0m\u001b[1;33m:\u001b[0m\u001b[0mstr\u001b[0m\u001b[1;33m,\u001b[0m \u001b[1;34m'review'\u001b[0m\u001b[1;33m:\u001b[0m\u001b[0mstr\u001b[0m \u001b[1;33m}\u001b[0m \u001b[1;33m)\u001b[0m\u001b[1;33m\u001b[0m\u001b[0m\n",
      "\u001b[1;32m/home/yannick/bin/anaconda3/envs/graphlab/lib/python2.7/site-packages/graphlab/toolkits/classifier/_classifier.pyc\u001b[0m in \u001b[0;36mcreate\u001b[1;34m(dataset, target, features, verbose)\u001b[0m\n\u001b[0;32m     62\u001b[0m               \u001b[0mmodel_selector\u001b[0m \u001b[1;33m=\u001b[0m \u001b[0m_graphlab\u001b[0m\u001b[1;33m.\u001b[0m\u001b[0mextensions\u001b[0m\u001b[1;33m.\u001b[0m\u001b[0m_classifier_available_models\u001b[0m\u001b[1;33m,\u001b[0m\u001b[1;33m\u001b[0m\u001b[0m\n\u001b[0;32m     63\u001b[0m               \u001b[0mfeatures\u001b[0m \u001b[1;33m=\u001b[0m \u001b[0mfeatures\u001b[0m\u001b[1;33m,\u001b[0m\u001b[1;33m\u001b[0m\u001b[0m\n\u001b[1;32m---> 64\u001b[1;33m               verbose = verbose)\n\u001b[0m",
      "\u001b[1;32m/home/yannick/bin/anaconda3/envs/graphlab/lib/python2.7/site-packages/graphlab/toolkits/_supervised_learning.pyc\u001b[0m in \u001b[0;36mcreate_classification_with_model_selector\u001b[1;34m(dataset, target, model_selector, features, validation_set, verbose)\u001b[0m\n\u001b[0;32m    533\u001b[0m \u001b[1;33m\u001b[0m\u001b[0m\n\u001b[0;32m    534\u001b[0m         \u001b[1;31m# Fit each of the available models\u001b[0m\u001b[1;33m\u001b[0m\u001b[1;33m\u001b[0m\u001b[0m\n\u001b[1;32m--> 535\u001b[1;33m         \u001b[0mm\u001b[0m \u001b[1;33m=\u001b[0m \u001b[0mcreate_selected\u001b[0m\u001b[1;33m(\u001b[0m\u001b[0mmodel_name\u001b[0m\u001b[1;33m,\u001b[0m \u001b[0mdataset\u001b[0m\u001b[1;33m,\u001b[0m \u001b[0mtarget\u001b[0m\u001b[1;33m,\u001b[0m \u001b[0mfeatures\u001b[0m\u001b[1;33m,\u001b[0m \u001b[0mvalidation_set\u001b[0m\u001b[1;33m,\u001b[0m \u001b[0mverbose\u001b[0m\u001b[1;33m)\u001b[0m\u001b[1;33m\u001b[0m\u001b[0m\n\u001b[0m\u001b[0;32m    536\u001b[0m         \u001b[0mmodels\u001b[0m\u001b[1;33m[\u001b[0m\u001b[0mmodel_name\u001b[0m\u001b[1;33m]\u001b[0m \u001b[1;33m=\u001b[0m \u001b[0mm\u001b[0m\u001b[1;33m\u001b[0m\u001b[0m\n\u001b[0;32m    537\u001b[0m \u001b[1;33m\u001b[0m\u001b[0m\n",
      "\u001b[1;32m/home/yannick/bin/anaconda3/envs/graphlab/lib/python2.7/site-packages/graphlab/toolkits/_supervised_learning.pyc\u001b[0m in \u001b[0;36mcreate_selected\u001b[1;34m(selected_model_name, dataset, target, features, validation_set, verbose)\u001b[0m\n\u001b[0;32m    598\u001b[0m             \u001b[0mfeatures\u001b[0m\u001b[1;33m=\u001b[0m\u001b[0mfeatures\u001b[0m\u001b[1;33m,\u001b[0m\u001b[1;33m\u001b[0m\u001b[0m\n\u001b[0;32m    599\u001b[0m             \u001b[0mvalidation_set\u001b[0m\u001b[1;33m=\u001b[0m\u001b[0mvalidation_set\u001b[0m\u001b[1;33m,\u001b[0m\u001b[1;33m\u001b[0m\u001b[0m\n\u001b[1;32m--> 600\u001b[1;33m             verbose=verbose)\n\u001b[0m\u001b[0;32m    601\u001b[0m \u001b[1;33m\u001b[0m\u001b[0m\n\u001b[0;32m    602\u001b[0m         \u001b[1;31m# Return the model\u001b[0m\u001b[1;33m\u001b[0m\u001b[1;33m\u001b[0m\u001b[0m\n",
      "\u001b[1;32m/home/yannick/bin/anaconda3/envs/graphlab/lib/python2.7/site-packages/graphlab/toolkits/_supervised_learning.pyc\u001b[0m in \u001b[0;36mcreate\u001b[1;34m(dataset, target, model_name, features, validation_set, verbose, **kwargs)\u001b[0m\n\u001b[0;32m    392\u001b[0m             'target_validation' : _toolkits_select_columns(validation_set, [target])})\n\u001b[0;32m    393\u001b[0m \u001b[1;33m\u001b[0m\u001b[0m\n\u001b[1;32m--> 394\u001b[1;33m     \u001b[0mret\u001b[0m \u001b[1;33m=\u001b[0m \u001b[0m_graphlab\u001b[0m\u001b[1;33m.\u001b[0m\u001b[0mtoolkits\u001b[0m\u001b[1;33m.\u001b[0m\u001b[0m_main\u001b[0m\u001b[1;33m.\u001b[0m\u001b[0mrun\u001b[0m\u001b[1;33m(\u001b[0m\u001b[1;34m\"supervised_learning_train\"\u001b[0m\u001b[1;33m,\u001b[0m \u001b[0moptions\u001b[0m\u001b[1;33m,\u001b[0m \u001b[0mverbose\u001b[0m\u001b[1;33m=\u001b[0m\u001b[0mverbose\u001b[0m\u001b[1;33m)\u001b[0m\u001b[1;33m\u001b[0m\u001b[0m\n\u001b[0m\u001b[0;32m    395\u001b[0m     \u001b[0mmodel\u001b[0m \u001b[1;33m=\u001b[0m \u001b[0mSupervisedLearningModel\u001b[0m\u001b[1;33m(\u001b[0m\u001b[0mret\u001b[0m\u001b[1;33m[\u001b[0m\u001b[1;34m'model'\u001b[0m\u001b[1;33m]\u001b[0m\u001b[1;33m,\u001b[0m \u001b[0mmodel_name\u001b[0m\u001b[1;33m)\u001b[0m\u001b[1;33m\u001b[0m\u001b[0m\n\u001b[0;32m    396\u001b[0m     \u001b[1;32mreturn\u001b[0m \u001b[0mmodel\u001b[0m\u001b[1;33m\u001b[0m\u001b[0m\n",
      "\u001b[1;32m/home/yannick/bin/anaconda3/envs/graphlab/lib/python2.7/site-packages/graphlab/toolkits/_main.pyc\u001b[0m in \u001b[0;36mrun\u001b[1;34m(toolkit_name, options, verbose, show_progress)\u001b[0m\n\u001b[0;32m     88\u001b[0m         \u001b[1;32mreturn\u001b[0m \u001b[0mparams\u001b[0m\u001b[1;33m\u001b[0m\u001b[0m\n\u001b[0;32m     89\u001b[0m     \u001b[1;32melse\u001b[0m\u001b[1;33m:\u001b[0m\u001b[1;33m\u001b[0m\u001b[0m\n\u001b[1;32m---> 90\u001b[1;33m         \u001b[1;32mraise\u001b[0m \u001b[0mToolkitError\u001b[0m\u001b[1;33m(\u001b[0m\u001b[0mstr\u001b[0m\u001b[1;33m(\u001b[0m\u001b[0mmessage\u001b[0m\u001b[1;33m)\u001b[0m\u001b[1;33m)\u001b[0m\u001b[1;33m\u001b[0m\u001b[0m\n\u001b[0m",
      "\u001b[1;31mToolkitError\u001b[0m: Cancelled by user."
     ]
    }
   ],
   "source": [
    "#creating classifier using all 25,000 reviews\n",
    "traindata_path = \"/home2/yannick2/github/bagofwords/data/labeledTrainData.tsv\"\n",
    "train_data = gl.SFrame.read_csv(traindata_path,header=True, delimiter='\\t',quote_char='\"', column_type_hints = {'id':str, 'sentiment' : int, 'review':str } )\n",
    "train_data['1grams features'] = gl.text_analytics.count_ngrams(train_data['review'],1)\n",
    "train_data['2grams features'] = gl.text_analytics.count_ngrams(train_data['review'],2)\n",
    "\n",
    "cls = gl.classifier.create(train_data, target='sentiment', features=['1grams features','2grams features'])\n",
    "#creating the test dataset\n",
    "test_data = gl.SFrame.read_csv(testdata_path,header=True, delimiter='\\t',quote_char='\"', column_type_hints = {'id':str, 'review':str } )\n",
    "test_data['1grams features'] = gl.text_analytics.count_ngrams(test_data['review'],1)\n",
    "test_data['2grams features'] = gl.text_analytics.count_ngrams(test_data['review'],2)\n",
    "\n",
    "#predicting the sentiment of each review in the test dataset\n",
    "test_data['sentiment'] = cls.classify(test_data)['class'].astype(int)\n",
    "\n",
    "#saving the prediction to a CSV for submission\n",
    "test_data[['id','sentiment']].save(\"/home2/yannick2/github/bagofwords/data/predictions.csv\", format=\"csv\")"
   ]
  },
  {
   "cell_type": "markdown",
   "metadata": {},
   "source": [
    "We then submitted the predictions.csv file to the Kaggle challange website and scored AUC of about 0.88."
   ]
  },
  {
   "cell_type": "markdown",
   "metadata": {},
   "source": [
    "## Further Readings"
   ]
  },
  {
   "cell_type": "markdown",
   "metadata": {},
   "source": [
    "Further reading materials can be found in the following links:\n",
    "\n",
    "http://en.wikipedia.org/wiki/Bag-of-words_model\n",
    "\n",
    "https://dato.com/products/create/docs/generated/graphlab.SFrame.html\n",
    "\n",
    "https://dato.com/products/create/docs/graphlab.toolkits.classifier.html\n",
    "\n",
    "https://www.kaggle.com/c/word2vec-nlp-tutorial/details/part-1-for-beginners-bag-of-words\n",
    "\n",
    "Andrew L. Maas, Raymond E. Daly, Peter T. Pham, Dan Huang, Andrew Y. Ng, and Christopher Potts. (2011). \"Learning Word Vectors for Sentiment Analysis.\" The 49th Annual Meeting of the Association for Computational Linguistics (ACL 2011).\n"
   ]
  }
 ],
 "metadata": {
  "kernelspec": {
   "display_name": "Python 2",
   "language": "python",
   "name": "python2"
  },
  "language_info": {
   "codemirror_mode": {
    "name": "ipython",
    "version": 2
   },
   "file_extension": ".py",
   "mimetype": "text/x-python",
   "name": "python",
   "nbconvert_exporter": "python",
   "pygments_lexer": "ipython2",
   "version": "2.7.9"
  }
 },
 "nbformat": 4,
 "nbformat_minor": 0
}
