{
 "cells": [
  {
   "cell_type": "code",
   "execution_count": 6,
   "metadata": {
    "collapsed": true
   },
   "outputs": [],
   "source": [
    "from hyperopt import fmin, tpe, hp, Trials, STATUS_OK\n",
    "import numpy as np\n",
    "import xgboost as xgb\n",
    "\n",
    "xgb_dir = \"/home/yannick/github/xgboost/demo\"\n",
    "\n",
    "### load data in do training\n",
    "dtrain = xgb.DMatrix(xgb_dir + '/data/agaricus.txt.train')\n",
    "param = {'max_depth':2, 'eta':1, 'silent':1, 'objective':'binary:logistic'}\n",
    "\n",
    "num_round = 2"
   ]
  },
  {
   "cell_type": "code",
   "execution_count": 33,
   "metadata": {
    "collapsed": false
   },
   "outputs": [
    {
     "name": "stdout",
     "output_type": "stream",
     "text": [
      "{'objective': 'binary:logistic', 'eta': 1.2925900627416496, 'max_depth': 2, 'silent': 1}\n",
      "{'objective': 'binary:logistic', 'eta': 1.4608767580619824, 'max_depth': 2, 'silent': 1}\n",
      "{'objective': 'binary:logistic', 'eta': 1.4097813844177456, 'max_depth': 3, 'silent': 1}\n",
      "{'objective': 'binary:logistic', 'eta': 1.1757658337235832, 'max_depth': 3, 'silent': 1}\n",
      "{'objective': 'binary:logistic', 'eta': 1.5346156380443898, 'max_depth': 3, 'silent': 1}\n",
      "{'objective': 'binary:logistic', 'eta': 1.5331992974411357, 'max_depth': 2, 'silent': 1}\n",
      "{'objective': 'binary:logistic', 'eta': 1.2639768544138, 'max_depth': 3, 'silent': 1}\n",
      "{'objective': 'binary:logistic', 'eta': 1.321422808627276, 'max_depth': 2, 'silent': 1}\n",
      "{'objective': 'binary:logistic', 'eta': 1.614118495349361, 'max_depth': 2, 'silent': 1}\n",
      "{'objective': 'binary:logistic', 'eta': 1.1656367493467408, 'max_depth': 2, 'silent': 1}\n",
      "{'objective': 'binary:logistic', 'eta': 1.1265110404255056, 'max_depth': 2, 'silent': 1}\n",
      "{'objective': 'binary:logistic', 'eta': 1.6166477472161582, 'max_depth': 2, 'silent': 1}\n",
      "{'objective': 'binary:logistic', 'eta': 1.5072707503183662, 'max_depth': 3, 'silent': 1}\n",
      "{'objective': 'binary:logistic', 'eta': 1.4266650628398512, 'max_depth': 2, 'silent': 1}\n",
      "{'objective': 'binary:logistic', 'eta': 1.1166264611949077, 'max_depth': 3, 'silent': 1}\n",
      "{'objective': 'binary:logistic', 'eta': 1.4453244612088565, 'max_depth': 3, 'silent': 1}\n",
      "{'objective': 'binary:logistic', 'eta': 1.532324803923355, 'max_depth': 3, 'silent': 1}\n",
      "{'objective': 'binary:logistic', 'eta': 1.0038208688396772, 'max_depth': 3, 'silent': 1}\n",
      "{'objective': 'binary:logistic', 'eta': 1.0457117643633123, 'max_depth': 3, 'silent': 1}\n",
      "{'objective': 'binary:logistic', 'eta': 1.3294585567432122, 'max_depth': 2, 'silent': 1}\n",
      "best:\n",
      "{'eta': 1.1757658337235832, 'max_depth': 1}\n",
      "{'objective': 'binary:logistic', 'eta': 1.1757658337235832, 'max_depth': 2, 'silent': 1}\n",
      "1    0.019508\n",
      "Name: train-error-mean, dtype: float64\n"
     ]
    }
   ],
   "source": [
    "def hyperopt_train_test(params):\n",
    "\n",
    "    params[\"objective\"] = 'binary:logistic'\n",
    "    params[\"silent\"] = 1\n",
    "    params['max_depth'] = 1+ params[\"max_depth\"]\n",
    "    \n",
    "    print params\n",
    "    \n",
    "    r = xgb.cv(params, dtrain, num_round, nfold=5,\n",
    "               metrics={'error'})\n",
    "\n",
    "    return r.tail(1)[\"train-error-mean\"]\n",
    "\n",
    "space4xgb = {\n",
    "    'max_depth': hp.choice('max_depth', range(1, 3)),\n",
    "    'eta':       hp.loguniform('eta', 0.001, 0.5)\n",
    "}\n",
    "\n",
    "def f(params):\n",
    "    acc = hyperopt_train_test(params)\n",
    "    return {'loss': acc, 'status': STATUS_OK}\n",
    "\n",
    "trials = Trials()\n",
    "best = fmin(f, space4xgb, algo=tpe.suggest, max_evals=20, trials=trials)\n",
    "print 'best:'\n",
    "print best\n",
    "print hyperopt_train_test(best)"
   ]
  },
  {
   "cell_type": "code",
   "execution_count": 34,
   "metadata": {
    "collapsed": false
   },
   "outputs": [
    {
     "name": "stdout",
     "output_type": "stream",
     "text": [
      "{'eta': [1.2925900627416496], 'max_depth': [0]} ->\t0.0150154\n",
      "{'eta': [1.4608767580619824], 'max_depth': [0]} ->\t0.0150154\n",
      "{'eta': [1.4097813844177456], 'max_depth': [1]} ->\t0.0102152\n",
      "{'eta': [1.1757658337235832], 'max_depth': [1]} ->\t0.0006912\n",
      "{'eta': [1.5346156380443898], 'max_depth': [1]} ->\t0.009908\n",
      "{'eta': [1.5331992974411357], 'max_depth': [0]} ->\t0.0150154\n",
      "{'eta': [1.2639768544138], 'max_depth': [1]} ->\t0.0058368\n",
      "{'eta': [1.321422808627276], 'max_depth': [0]} ->\t0.0150154\n",
      "{'eta': [1.614118495349361], 'max_depth': [0]} ->\t0.0150154\n",
      "{'eta': [1.1656367493467408], 'max_depth': [0]} ->\t0.0195082\n",
      "{'eta': [1.1265110404255056], 'max_depth': [0]} ->\t0.0213132\n",
      "{'eta': [1.6166477472161582], 'max_depth': [0]} ->\t0.0150154\n",
      "{'eta': [1.5072707503183662], 'max_depth': [1]} ->\t0.0102152\n",
      "{'eta': [1.4266650628398512], 'max_depth': [0]} ->\t0.0150154\n",
      "{'eta': [1.1166264611949077], 'max_depth': [1]} ->\t0.0009216\n",
      "{'eta': [1.4453244612088565], 'max_depth': [1]} ->\t0.0102152\n",
      "{'eta': [1.532324803923355], 'max_depth': [1]} ->\t0.009908\n",
      "{'eta': [1.0038208688396772], 'max_depth': [1]} ->\t0.0009216\n",
      "{'eta': [1.0457117643633123], 'max_depth': [1]} ->\t0.0009216\n",
      "{'eta': [1.3294585567432122], 'max_depth': [0]} ->\t0.0150154\n"
     ]
    }
   ],
   "source": [
    "for t in trials:\n",
    "    print t['misc']['vals'], '->\\t', t['result']['loss']"
   ]
  },
  {
   "cell_type": "code",
   "execution_count": 24,
   "metadata": {
    "collapsed": false
   },
   "outputs": [
    {
     "data": {
      "text/plain": [
       "[1, 2, 3, 4, 5, 6, 7, 8, 9, 10, 11, 12, 13, 14, 15, 16, 17, 18, 19]"
      ]
     },
     "execution_count": 24,
     "metadata": {},
     "output_type": "execute_result"
    }
   ],
   "source": [
    "range(1,20)"
   ]
  }
 ],
 "metadata": {
  "kernelspec": {
   "display_name": "Python 2",
   "language": "python",
   "name": "python2"
  },
  "language_info": {
   "codemirror_mode": {
    "name": "ipython",
    "version": 2
   },
   "file_extension": ".py",
   "mimetype": "text/x-python",
   "name": "python",
   "nbconvert_exporter": "python",
   "pygments_lexer": "ipython2",
   "version": "2.7.10"
  }
 },
 "nbformat": 4,
 "nbformat_minor": 0
}
