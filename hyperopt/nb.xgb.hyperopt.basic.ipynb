{
 "cells": [
  {
   "cell_type": "code",
   "execution_count": 1,
   "metadata": {},
   "outputs": [
    {
     "name": "stderr",
     "output_type": "stream",
     "text": [
      "/home/yannick/bin/anaconda3/envs/py27/lib/python2.7/site-packages/sklearn/cross_validation.py:44: DeprecationWarning: This module was deprecated in version 0.18 in favor of the model_selection module into which all the refactored classes and functions are moved. Also note that the interface of the new CV iterators are different from that of this module. This module will be removed in 0.20.\n",
      "  \"This module will be removed in 0.20.\", DeprecationWarning)\n"
     ]
    }
   ],
   "source": [
    "from hyperopt import fmin, tpe, hp, Trials, STATUS_OK\n",
    "import numpy as np\n",
    "import xgboost as xgb\n",
    "\n",
    "xgb_dir = \"/home/yannick/Work/3p/xgboost/demo\"\n",
    "\n",
    "### load data in do training\n",
    "dtrain = xgb.DMatrix(xgb_dir + '/data/agaricus.txt.train')\n"
   ]
  },
  {
   "cell_type": "code",
   "execution_count": 2,
   "metadata": {
    "collapsed": true
   },
   "outputs": [],
   "source": []
  },
  {
   "cell_type": "code",
   "execution_count": 10,
   "metadata": {},
   "outputs": [
    {
     "data": {
      "text/plain": [
       "0.0012283333333333332"
      ]
     },
     "execution_count": 10,
     "metadata": {},
     "output_type": "execute_result"
    }
   ],
   "source": [
    "float(r.tail(1)[\"test-error-mean\"])"
   ]
  },
  {
   "cell_type": "code",
   "execution_count": 19,
   "metadata": {},
   "outputs": [
    {
     "name": "stdout",
     "output_type": "stream",
     "text": [
      "=> {'objective': 'binary:logistic', 'eta': 1.0460172721556036, 'colsample_bytree': 0.9200286144832712, 'max_depth': 2, 'silent': 0} =>> 0.0\n",
      "=> {'objective': 'binary:logistic', 'eta': 1.22617458308389, 'colsample_bytree': 0.8086381300819385, 'max_depth': 2, 'silent': 0} =>> 0.0\n",
      "=> {'objective': 'binary:logistic', 'eta': 1.4177914763865918, 'colsample_bytree': 0.9093171045972901, 'max_depth': 2, 'silent': 0} =>> 0.0\n",
      "=> {'objective': 'binary:logistic', 'eta': 1.3263954749232159, 'colsample_bytree': 0.5006052528019884, 'max_depth': 2, 'silent': 0} =>> 0.0\n",
      "=> {'objective': 'binary:logistic', 'eta': 1.4262058194108522, 'colsample_bytree': 0.6576934678086898, 'max_depth': 3, 'silent': 0} =>> 0.0\n",
      "=> {'objective': 'binary:logistic', 'eta': 1.5895358325207551, 'colsample_bytree': 0.6523287043681503, 'max_depth': 3, 'silent': 0} =>> 0.064209\n",
      "=> {'objective': 'binary:logistic', 'eta': 1.088150004146515, 'colsample_bytree': 0.99441477872321, 'max_depth': 3, 'silent': 0} =>> 0.0\n",
      "=> {'objective': 'binary:logistic', 'eta': 1.0883569950843255, 'colsample_bytree': 0.7228370828999071, 'max_depth': 3, 'silent': 0} =>> 0.0\n",
      "=> {'objective': 'binary:logistic', 'eta': 1.4130513233275737, 'colsample_bytree': 0.5911255503619075, 'max_depth': 3, 'silent': 0} =>> 0.0\n",
      "=> {'objective': 'binary:logistic', 'eta': 1.632121956767438, 'colsample_bytree': 0.28397131533839454, 'max_depth': 3, 'silent': 0} =>> 0.1588326\n",
      "=> {'objective': 'binary:logistic', 'eta': 1.393809798047961, 'colsample_bytree': 0.4670229199242697, 'max_depth': 3, 'silent': 0} =>> 0.0\n",
      "=> {'objective': 'binary:logistic', 'eta': 1.0504901424849176, 'colsample_bytree': 0.7498989446485789, 'max_depth': 3, 'silent': 0} =>> 0.0\n",
      "=> {'objective': 'binary:logistic', 'eta': 1.0812097336760587, 'colsample_bytree': 0.9894494353179482, 'max_depth': 3, 'silent': 0} =>> 0.0\n",
      "=> {'objective': 'binary:logistic', 'eta': 1.202386853663744, 'colsample_bytree': 0.4563747899008056, 'max_depth': 3, 'silent': 0} =>> 0.0\n",
      "=> {'objective': 'binary:logistic', 'eta': 1.5525263325367082, 'colsample_bytree': 0.6283499948513356, 'max_depth': 2, 'silent': 0} =>> 0.0857142\n",
      "=> {'objective': 'binary:logistic', 'eta': 1.2662725262550105, 'colsample_bytree': 0.5168974719988271, 'max_depth': 2, 'silent': 0} =>> 0.0\n",
      "=> {'objective': 'binary:logistic', 'eta': 1.3719358424305472, 'colsample_bytree': 0.3359583987623796, 'max_depth': 2, 'silent': 0} =>> 0.0\n",
      "=> {'objective': 'binary:logistic', 'eta': 1.4985021883568443, 'colsample_bytree': 0.6811738892703021, 'max_depth': 2, 'silent': 0} =>> 0.0\n",
      "=> {'objective': 'binary:logistic', 'eta': 1.2507045163786756, 'colsample_bytree': 0.5316265867861119, 'max_depth': 3, 'silent': 0} =>> 0.0\n",
      "=> {'objective': 'binary:logistic', 'eta': 1.4851013847637222, 'colsample_bytree': 0.46169657119916163, 'max_depth': 3, 'silent': 0} =>> 0.0\n",
      "best:\n",
      "{'eta': 1.0460172721556036, 'colsample_bytree': 0.9200286144832712, 'max_depth': 0}\n",
      "=> {'objective': 'binary:logistic', 'eta': 1.0460172721556036, 'colsample_bytree': 0.9200286144832712, 'max_depth': 1, 'silent': 0} =>> 0.0\n",
      "0.0\n"
     ]
    }
   ],
   "source": [
    "num_round = 250\n",
    "\n",
    "def hyperopt_train_test(params):\n",
    "\n",
    "    params[\"objective\"] = 'binary:logistic'\n",
    "    params[\"silent\"] = 0\n",
    "    params['max_depth'] = 1+ params[\"max_depth\"]\n",
    "    \n",
    "    print \"=>\", params, \n",
    "    \n",
    "    r = xgb.cv(params, dtrain, num_round, nfold=5,\n",
    "               metrics={'error'})\n",
    "   \n",
    "    weight = float(r.tail(1)[\"test-error-mean\"])\n",
    "    print \"=>>\", weight\n",
    "    \n",
    "    return weight\n",
    "\n",
    "space4xgb = {\n",
    "    'max_depth': hp.choice('max_depth', range(1, 3)),\n",
    "    'eta':       hp.loguniform('eta', 0.001, 0.5),\n",
    "    'colsample_bytree': hp.uniform('colsample_bytree', 0.2, 1.0)\n",
    "}\n",
    "\n",
    "def f(params):\n",
    "    acc = hyperopt_train_test(params)\n",
    "    return {'loss': acc, 'status': STATUS_OK}\n",
    "\n",
    "trials = Trials()\n",
    "best = fmin(f, space4xgb, algo=tpe.suggest, max_evals=20, trials=trials)\n",
    "print 'best:'\n",
    "print best\n",
    "print hyperopt_train_test(best)"
   ]
  },
  {
   "cell_type": "code",
   "execution_count": 20,
   "metadata": {},
   "outputs": [
    {
     "name": "stdout",
     "output_type": "stream",
     "text": [
      "{'eta': [1.0460172721556036], 'colsample_bytree': [0.9200286144832712], 'max_depth': [0]} ->\t0.0\n",
      "{'eta': [1.22617458308389], 'colsample_bytree': [0.8086381300819385], 'max_depth': [0]} ->\t0.0\n",
      "{'eta': [1.4177914763865918], 'colsample_bytree': [0.9093171045972901], 'max_depth': [0]} ->\t0.0\n",
      "{'eta': [1.3263954749232159], 'colsample_bytree': [0.5006052528019884], 'max_depth': [0]} ->\t0.0\n",
      "{'eta': [1.4262058194108522], 'colsample_bytree': [0.6576934678086898], 'max_depth': [1]} ->\t0.0\n",
      "{'eta': [1.5895358325207551], 'colsample_bytree': [0.6523287043681503], 'max_depth': [1]} ->\t0.064209\n",
      "{'eta': [1.088150004146515], 'colsample_bytree': [0.99441477872321], 'max_depth': [1]} ->\t0.0\n",
      "{'eta': [1.0883569950843255], 'colsample_bytree': [0.7228370828999071], 'max_depth': [1]} ->\t0.0\n",
      "{'eta': [1.4130513233275737], 'colsample_bytree': [0.5911255503619075], 'max_depth': [1]} ->\t0.0\n",
      "{'eta': [1.632121956767438], 'colsample_bytree': [0.28397131533839454], 'max_depth': [1]} ->\t0.1588326\n",
      "{'eta': [1.393809798047961], 'colsample_bytree': [0.4670229199242697], 'max_depth': [1]} ->\t0.0\n",
      "{'eta': [1.0504901424849176], 'colsample_bytree': [0.7498989446485789], 'max_depth': [1]} ->\t0.0\n",
      "{'eta': [1.0812097336760587], 'colsample_bytree': [0.9894494353179482], 'max_depth': [1]} ->\t0.0\n",
      "{'eta': [1.202386853663744], 'colsample_bytree': [0.4563747899008056], 'max_depth': [1]} ->\t0.0\n",
      "{'eta': [1.5525263325367082], 'colsample_bytree': [0.6283499948513356], 'max_depth': [0]} ->\t0.0857142\n",
      "{'eta': [1.2662725262550105], 'colsample_bytree': [0.5168974719988271], 'max_depth': [0]} ->\t0.0\n",
      "{'eta': [1.3719358424305472], 'colsample_bytree': [0.3359583987623796], 'max_depth': [0]} ->\t0.0\n",
      "{'eta': [1.4985021883568443], 'colsample_bytree': [0.6811738892703021], 'max_depth': [0]} ->\t0.0\n",
      "{'eta': [1.2507045163786756], 'colsample_bytree': [0.5316265867861119], 'max_depth': [1]} ->\t0.0\n",
      "{'eta': [1.4851013847637222], 'colsample_bytree': [0.46169657119916163], 'max_depth': [1]} ->\t0.0\n"
     ]
    }
   ],
   "source": [
    "for t in trials:\n",
    "    print t['misc']['vals'], '->\\t', t['result']['loss']"
   ]
  },
  {
   "cell_type": "code",
   "execution_count": 21,
   "metadata": {},
   "outputs": [
    {
     "data": {
      "text/plain": [
       "[1, 2, 3, 4, 5, 6, 7, 8, 9, 10, 11, 12, 13, 14, 15, 16, 17, 18, 19]"
      ]
     },
     "execution_count": 21,
     "metadata": {},
     "output_type": "execute_result"
    }
   ],
   "source": [
    "range(1,20)"
   ]
  },
  {
   "cell_type": "code",
   "execution_count": 22,
   "metadata": {},
   "outputs": [
    {
     "data": {
      "text/plain": [
       "{'colsample_bytree': 0.9200286144832712,\n",
       " 'eta': 1.0460172721556036,\n",
       " 'max_depth': 1,\n",
       " 'objective': 'binary:logistic',\n",
       " 'silent': 0}"
      ]
     },
     "execution_count": 22,
     "metadata": {},
     "output_type": "execute_result"
    }
   ],
   "source": [
    "best"
   ]
  },
  {
   "cell_type": "code",
   "execution_count": 23,
   "metadata": {},
   "outputs": [
    {
     "data": {
      "text/html": [
       "<div>\n",
       "<style>\n",
       "    .dataframe thead tr:only-child th {\n",
       "        text-align: right;\n",
       "    }\n",
       "\n",
       "    .dataframe thead th {\n",
       "        text-align: left;\n",
       "    }\n",
       "\n",
       "    .dataframe tbody tr th {\n",
       "        vertical-align: top;\n",
       "    }\n",
       "</style>\n",
       "<table border=\"1\" class=\"dataframe\">\n",
       "  <thead>\n",
       "    <tr style=\"text-align: right;\">\n",
       "      <th></th>\n",
       "      <th>test-error-mean</th>\n",
       "      <th>test-error-std</th>\n",
       "      <th>train-error-mean</th>\n",
       "      <th>train-error-std</th>\n",
       "    </tr>\n",
       "  </thead>\n",
       "  <tbody>\n",
       "    <tr>\n",
       "      <th>199</th>\n",
       "      <td>0.0</td>\n",
       "      <td>0.0</td>\n",
       "      <td>0.0</td>\n",
       "      <td>0.0</td>\n",
       "    </tr>\n",
       "  </tbody>\n",
       "</table>\n",
       "</div>"
      ],
      "text/plain": [
       "     test-error-mean  test-error-std  train-error-mean  train-error-std\n",
       "199              0.0             0.0               0.0              0.0"
      ]
     },
     "execution_count": 23,
     "metadata": {},
     "output_type": "execute_result"
    }
   ],
   "source": [
    "r = xgb.cv(best, dtrain, 200)\n",
    "r.tail(1)"
   ]
  },
  {
   "cell_type": "code",
   "execution_count": null,
   "metadata": {
    "collapsed": true
   },
   "outputs": [],
   "source": []
  }
 ],
 "metadata": {
  "kernelspec": {
   "display_name": "Python 3",
   "language": "python",
   "name": "python3"
  },
  "language_info": {
   "codemirror_mode": {
    "name": "ipython",
    "version": 3
   },
   "file_extension": ".py",
   "mimetype": "text/x-python",
   "name": "python",
   "nbconvert_exporter": "python",
   "pygments_lexer": "ipython3",
   "version": "3.7.0"
  }
 },
 "nbformat": 4,
 "nbformat_minor": 1
}
