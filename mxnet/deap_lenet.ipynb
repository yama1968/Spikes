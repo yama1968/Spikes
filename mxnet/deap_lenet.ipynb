{
 "cells": [
  {
   "cell_type": "code",
   "execution_count": 1,
   "metadata": {
    "ExecuteTime": {
     "end_time": "2017-11-25T22:17:35.392156Z",
     "start_time": "2017-11-25T22:17:34.879006Z"
    }
   },
   "outputs": [
    {
     "name": "stderr",
     "output_type": "stream",
     "text": [
      "/home/yannick/bin/anaconda3/envs/py36/lib/python3.6/site-packages/urllib3/contrib/pyopenssl.py:46: DeprecationWarning: OpenSSL.rand is deprecated - you should use os.urandom instead\n",
      "  import OpenSSL.SSL\n"
     ]
    }
   ],
   "source": [
    "import mxnet as mx\n",
    "\n",
    "from mxnet.symbol import Convolution, Activation, Pooling, Dropout, FullyConnected, var, flatten, SoftmaxOutput\n",
    "\n",
    "import logging\n",
    "logging.getLogger().setLevel(logging.WARNING)  # logging to stdout"
   ]
  },
  {
   "cell_type": "code",
   "execution_count": 2,
   "metadata": {
    "ExecuteTime": {
     "end_time": "2017-11-25T22:17:35.745388Z",
     "start_time": "2017-11-25T22:17:35.394039Z"
    },
    "collapsed": true
   },
   "outputs": [],
   "source": [
    "mnist = mx.test_utils.get_mnist()"
   ]
  },
  {
   "cell_type": "code",
   "execution_count": 3,
   "metadata": {
    "ExecuteTime": {
     "end_time": "2017-11-25T22:17:35.924676Z",
     "start_time": "2017-11-25T22:17:35.746942Z"
    },
    "collapsed": true
   },
   "outputs": [],
   "source": [
    "batch_size = 128\n",
    "\n",
    "train_iter = mx.io.NDArrayIter(mnist['train_data'], mnist[\"train_label\"], batch_size, shuffle=True)\n",
    "val_iter = mx.io.NDArrayIter(mnist['test_data'], mnist[\"test_label\"], batch_size, shuffle=True)"
   ]
  },
  {
   "cell_type": "code",
   "execution_count": 4,
   "metadata": {
    "ExecuteTime": {
     "end_time": "2017-11-25T22:17:35.965440Z",
     "start_time": "2017-11-25T22:17:35.926217Z"
    },
    "collapsed": true
   },
   "outputs": [],
   "source": [
    "def conv_layer(x, num_filter):\n",
    "    \n",
    "    x = Convolution(data=x, kernel=(5,5), num_filter=num_filter)\n",
    "    x = Activation(data=x, act_type=\"tanh\")\n",
    "    x = Pooling(data=x, pool_type=\"max\", kernel=(2,2), stride=(2,2))\n",
    "\n",
    "    return x\n",
    "\n",
    "\n",
    "def full_layers(x, architecture, act_type=\"tanh\", p=None):\n",
    "    \n",
    "    for num_cell in architecture:\n",
    "        x = FullyConnected(x, num_hidden=num_cell)\n",
    "        if p is not None:\n",
    "            x = Dropout(x, p=p)\n",
    "        x = Activation(x, act_type=act_type)\n",
    "\n",
    "    return x\n",
    "\n",
    "\n",
    "def generate_lenet(dropout=None, act_type=\"tanh\", full_geom=[500]):\n",
    "    \n",
    "    data = var(\"data\")\n",
    "    \n",
    "    x = conv_layer(data, 20)\n",
    "    x = conv_layer(x, 50)\n",
    "    x = flatten(x)\n",
    "    x = full_layers(x, full_geom, act_type=act_type, p=dropout)\n",
    "    x = FullyConnected(data=x, num_hidden=10)\n",
    "    x = SoftmaxOutput(data=x, name=\"softmax\")\n",
    "    \n",
    "    return x, data"
   ]
  },
  {
   "cell_type": "code",
   "execution_count": 5,
   "metadata": {
    "ExecuteTime": {
     "end_time": "2017-11-25T22:17:36.152396Z",
     "start_time": "2017-11-25T22:17:35.967674Z"
    },
    "collapsed": true
   },
   "outputs": [],
   "source": [
    "from evolutionary_search import maximize\n",
    "from functools import partial\n",
    "import numpy as np\n",
    "from datetime import datetime"
   ]
  },
  {
   "cell_type": "code",
   "execution_count": 7,
   "metadata": {
    "ExecuteTime": {
     "end_time": "2017-11-26T04:27:31.896487Z",
     "start_time": "2017-11-25T22:19:48.449166Z"
    },
    "scrolled": true
   },
   "outputs": [
    {
     "name": "stdout",
     "output_type": "stream",
     "text": [
      "Types [2, 2, 1, 1, 1] and maxint [9, 7, 2, 2, 1] detected\n",
      "--- Evolve in 1440 possible combinations ---\n",
      "@ 0:01:25.095649: 0.9918 with {'lr': 0.031622776601683791, 'momentum': 0.88, 'dropout': None, 'hiddens': 256, 'epochs': 40}\n",
      "gen\tnevals\tavg     \tmin      \tmax     \tstd     \n",
      "0  \t40    \t0.856099\t0.0890032\t0.991792\t0.303584\n",
      "@ 0:43:32.656888: 0.9924 with {'lr': 0.021544346900318832, 'momentum': 0.94000000000000006, 'dropout': 0.7, 'hiddens': 512, 'epochs': 20}\n",
      "1  \t25    \t0.96789 \t0.0978046\t0.992385\t0.139331\n",
      "@ 1:16:28.011889: 0.9927 with {'lr': 0.031622776601683791, 'momentum': 0.94000000000000006, 'dropout': 0.7, 'hiddens': 512, 'epochs': 40}\n",
      "2  \t21    \t0.991075\t0.988331 \t0.992682\t0.00099281\n",
      "3  \t30    \t0.990783\t0.976365 \t0.992682\t0.00250817\n",
      "@ 2:03:35.928274: 0.9929 with {'lr': 0.021544346900318832, 'momentum': 0.96000000000000008, 'dropout': 0.7, 'hiddens': 512, 'epochs': 40}\n",
      "@ 2:21:56.115243: 0.9931 with {'lr': 0.031622776601683791, 'momentum': 0.94000000000000006, 'dropout': 0.7, 'hiddens': 512, 'epochs': 40}\n",
      "4  \t29    \t0.969205\t0.0958267\t0.993078\t0.139855  \n",
      "5  \t23    \t0.991891\t0.98932  \t0.993078\t0.00086665\n",
      "@ 3:22:47.397488: 0.9933 with {'lr': 0.031622776601683791, 'momentum': 0.94000000000000006, 'dropout': 0.7, 'hiddens': 512, 'epochs': 40}\n",
      "6  \t29    \t0.992052\t0.988528 \t0.993275\t0.000945364\n",
      "@ 3:50:02.111787: 0.9939 with {'lr': 0.031622776601683791, 'momentum': 0.94000000000000006, 'dropout': 0.7, 'hiddens': 512, 'epochs': 40}\n",
      "7  \t24    \t0.99238 \t0.990605 \t0.993869\t0.000719251\n",
      "8  \t25    \t0.992398\t0.990803 \t0.993869\t0.000739113\n",
      "9  \t23    \t0.970177\t0.101167 \t0.993869\t0.139156   \n",
      "10 \t28    \t0.991963\t0.980024 \t0.993869\t0.00211234 \n",
      "Best individual is: {'lr': 0.031622776601683791, 'momentum': 0.94000000000000006, 'dropout': 0.7, 'hiddens': 512, 'epochs': 40}\n",
      "with fitness: 0.993077531646\n",
      "CPU times: user 7h 53min 15s, sys: 57min 2s, total: 8h 50min 18s\n",
      "Wall time: 6h 7min 43s\n"
     ]
    }
   ],
   "source": [
    "%%time\n",
    "\n",
    "paramgrid = {\n",
    "    'lr': np.logspace(-3, -1.5, num=10, base=10),\n",
    "    'momentum': np.arange(0.86, 1.0, 0.02),\n",
    "    'dropout': [None, 0.5, 0.7],\n",
    "    'hiddens': [128, 256, 512],\n",
    "    'epochs': [20, 40]\n",
    "}\n",
    "\n",
    "best_rslt = -np.Inf\n",
    "start = datetime.now()\n",
    "\n",
    "\n",
    "def func(**params):\n",
    "\n",
    "    global best_rslt\n",
    "\n",
    "    #print(params)\n",
    "    \n",
    "    lenet, data = generate_lenet(dropout=params[\"dropout\"],\n",
    "                                 act_type='tanh',\n",
    "                                 full_geom=[params[\"hiddens\"]])\n",
    "    \n",
    "    lenet_model = mx.mod.Module(symbol=lenet, context=mx.gpu())\n",
    "\n",
    "    lr = params[\"lr\"]\n",
    "    momentum = params[\"momentum\"]\n",
    "    epochs = params[\"epochs\"]\n",
    "    \n",
    "    lenet_model.fit(train_iter,\n",
    "                eval_data=val_iter,\n",
    "                optimizer='sgd',\n",
    "                optimizer_params={'learning_rate': lr, \n",
    "                                  'momentum': momentum},\n",
    "                eval_metric='acc',\n",
    "                num_epoch=epochs)    \n",
    "  \n",
    "    acc = mx.metric.Accuracy()\n",
    "    lenet_model.score(test_iter, acc)\n",
    "    rslt = acc.get()[1]\n",
    "    \n",
    "    if rslt > best_rslt:\n",
    "        best_rslt = rslt\n",
    "        print(\"@ %s: %.4f with %s\" % (str(datetime.now()-start), rslt, str(params)))\n",
    "    \n",
    "    return rslt\n",
    "\n",
    "\n",
    "\n",
    "output = maximize(func, \n",
    "                  paramgrid, \n",
    "                  dict(), \n",
    "                  verbose=1,\n",
    "                  population_size=40,\n",
    "                  gene_mutation_prob=0.2,\n",
    "                  gene_crossover_prob=0.7,\n",
    "                  tournament_size=5,\n",
    "                  generations_number=10)"
   ]
  },
  {
   "cell_type": "code",
   "execution_count": null,
   "metadata": {
    "collapsed": true
   },
   "outputs": [],
   "source": []
  }
 ],
 "metadata": {
  "kernelspec": {
   "display_name": "Python 3",
   "language": "python",
   "name": "python3"
  },
  "language_info": {
   "codemirror_mode": {
    "name": "ipython",
    "version": 3
   },
   "file_extension": ".py",
   "mimetype": "text/x-python",
   "name": "python",
   "nbconvert_exporter": "python",
   "pygments_lexer": "ipython3",
   "version": "3.6.3"
  },
  "toc": {
   "nav_menu": {},
   "number_sections": true,
   "sideBar": true,
   "skip_h1_title": false,
   "toc_cell": false,
   "toc_position": {},
   "toc_section_display": "block",
   "toc_window_display": false
  },
  "varInspector": {
   "cols": {
    "lenName": 16,
    "lenType": 16,
    "lenVar": 40
   },
   "kernels_config": {
    "python": {
     "delete_cmd_postfix": "",
     "delete_cmd_prefix": "del ",
     "library": "var_list.py",
     "varRefreshCmd": "print(var_dic_list())"
    },
    "r": {
     "delete_cmd_postfix": ") ",
     "delete_cmd_prefix": "rm(",
     "library": "var_list.r",
     "varRefreshCmd": "cat(var_dic_list()) "
    }
   },
   "types_to_exclude": [
    "module",
    "function",
    "builtin_function_or_method",
    "instance",
    "_Feature"
   ],
   "window_display": false
  }
 },
 "nbformat": 4,
 "nbformat_minor": 2
}
