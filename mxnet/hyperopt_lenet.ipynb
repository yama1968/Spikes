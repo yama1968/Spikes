{
 "cells": [
  {
   "cell_type": "code",
   "execution_count": 1,
   "metadata": {
    "ExecuteTime": {
     "end_time": "2017-11-25T22:08:36.583530Z",
     "start_time": "2017-11-25T22:08:36.079894Z"
    }
   },
   "outputs": [
    {
     "name": "stderr",
     "output_type": "stream",
     "text": [
      "/home/yannick/bin/anaconda3/envs/py36/lib/python3.6/site-packages/urllib3/contrib/pyopenssl.py:46: DeprecationWarning: OpenSSL.rand is deprecated - you should use os.urandom instead\n",
      "  import OpenSSL.SSL\n"
     ]
    }
   ],
   "source": [
    "import mxnet as mx\n",
    "\n",
    "from mxnet.symbol import Convolution, Activation, Pooling, Dropout, FullyConnected, var, flatten, SoftmaxOutput\n",
    "\n",
    "import logging\n",
    "logging.getLogger().setLevel(logging.WARNING)  # logging to stdout"
   ]
  },
  {
   "cell_type": "code",
   "execution_count": 2,
   "metadata": {
    "ExecuteTime": {
     "end_time": "2017-11-25T22:08:36.920382Z",
     "start_time": "2017-11-25T22:08:36.585194Z"
    },
    "collapsed": true
   },
   "outputs": [],
   "source": [
    "mnist = mx.test_utils.get_mnist()"
   ]
  },
  {
   "cell_type": "code",
   "execution_count": 3,
   "metadata": {
    "ExecuteTime": {
     "end_time": "2017-11-25T22:08:37.073151Z",
     "start_time": "2017-11-25T22:08:36.921848Z"
    }
   },
   "outputs": [],
   "source": [
    "batch_size = 128\n",
    "\n",
    "train_iter = mx.io.NDArrayIter(mnist['train_data'], mnist[\"train_label\"], batch_size, shuffle=True)\n",
    "val_iter = mx.io.NDArrayIter(mnist['test_data'], mnist[\"test_label\"], batch_size, shuffle=True)"
   ]
  },
  {
   "cell_type": "code",
   "execution_count": 4,
   "metadata": {
    "ExecuteTime": {
     "end_time": "2017-11-25T22:08:37.113659Z",
     "start_time": "2017-11-25T22:08:37.074696Z"
    },
    "collapsed": true
   },
   "outputs": [],
   "source": [
    "def conv_layer(x, num_filter):\n",
    "    \n",
    "    x = Convolution(data=x, kernel=(5,5), num_filter=num_filter)\n",
    "    x = Activation(data=x, act_type=\"tanh\")\n",
    "    x = Pooling(data=x, pool_type=\"max\", kernel=(2,2), stride=(2,2))\n",
    "\n",
    "    return x\n",
    "\n",
    "\n",
    "def full_layers(x, architecture, act_type=\"tanh\", p=None):\n",
    "    \n",
    "    for num_cell in architecture:\n",
    "        x = FullyConnected(x, num_hidden=num_cell)\n",
    "        if p is not None:\n",
    "            x = Dropout(x, p=p)\n",
    "        x = Activation(x, act_type=act_type)\n",
    "\n",
    "    return x\n",
    "\n",
    "\n",
    "def generate_lenet(dropout=None, act_type=\"tanh\", full_geom=[500]):\n",
    "    \n",
    "    data = var(\"data\")\n",
    "    \n",
    "    x = conv_layer(data, 20)\n",
    "    x = conv_layer(x, 50)\n",
    "    x = flatten(x)\n",
    "    x = full_layers(x, full_geom, act_type=act_type, p=dropout)\n",
    "    x = FullyConnected(data=x, num_hidden=10)\n",
    "    x = SoftmaxOutput(data=x, name=\"softmax\")\n",
    "    \n",
    "    return x, data"
   ]
  },
  {
   "cell_type": "code",
   "execution_count": 5,
   "metadata": {
    "ExecuteTime": {
     "end_time": "2017-11-25T22:08:37.228704Z",
     "start_time": "2017-11-25T22:08:37.115260Z"
    },
    "collapsed": true
   },
   "outputs": [],
   "source": [
    "from hyperopt import fmin, tpe, hp, Trials, STATUS_OK\n",
    "from functools import partial\n",
    "import numpy as np\n",
    "from datetime import datetime"
   ]
  },
  {
   "cell_type": "code",
   "execution_count": 8,
   "metadata": {
    "ExecuteTime": {
     "end_time": "2017-11-25T22:08:55.000180Z",
     "start_time": "2017-11-25T22:08:54.831403Z"
    },
    "scrolled": true
   },
   "outputs": [
    {
     "ename": "TypeError",
     "evalue": "fmin() missing 1 required positional argument: 'space'",
     "output_type": "error",
     "traceback": [
      "\u001b[0;31m---------------------------------------------------------------------------\u001b[0m",
      "\u001b[0;31mTypeError\u001b[0m                                 Traceback (most recent call last)",
      "\u001b[0;32m<timed exec>\u001b[0m in \u001b[0;36m<module>\u001b[0;34m()\u001b[0m\n",
      "\u001b[0;32m~/bin/anaconda3/envs/py36/lib/python3.6/site-packages/hyperopt/fmin.py\u001b[0m in \u001b[0;36mfmin\u001b[0;34m(fn, space, algo, max_evals, trials, rstate, allow_trials_fmin, pass_expr_memo_ctrl, catch_eval_exceptions, verbose, return_argmin)\u001b[0m\n\u001b[1;32m    305\u001b[0m             \u001b[0mverbose\u001b[0m\u001b[0;34m=\u001b[0m\u001b[0mverbose\u001b[0m\u001b[0;34m,\u001b[0m\u001b[0;34m\u001b[0m\u001b[0m\n\u001b[1;32m    306\u001b[0m             \u001b[0mcatch_eval_exceptions\u001b[0m\u001b[0;34m=\u001b[0m\u001b[0mcatch_eval_exceptions\u001b[0m\u001b[0;34m,\u001b[0m\u001b[0;34m\u001b[0m\u001b[0m\n\u001b[0;32m--> 307\u001b[0;31m             \u001b[0mreturn_argmin\u001b[0m\u001b[0;34m=\u001b[0m\u001b[0mreturn_argmin\u001b[0m\u001b[0;34m,\u001b[0m\u001b[0;34m\u001b[0m\u001b[0m\n\u001b[0m\u001b[1;32m    308\u001b[0m         )\n\u001b[1;32m    309\u001b[0m \u001b[0;34m\u001b[0m\u001b[0m\n",
      "\u001b[0;31mTypeError\u001b[0m: fmin() missing 1 required positional argument: 'space'"
     ]
    }
   ],
   "source": [
    "%%time\n",
    "\n",
    "paramgrid = {\n",
    "    'lr': hp.choice('lr', np.logspace(-4, -1.5, num=10, base=10)),\n",
    "    'momentum': hp.uniform('momentum', 0.86, 1.0),\n",
    "    'dropout': hp.choice('dropout', [None, 0.5, 0.7]),\n",
    "    'hiddens': hp.choice('hiddens', [128, 256, 512]),\n",
    "    'epochs': hp.choice('epochs', [10])\n",
    "}\n",
    "\n",
    "best_rslt = -np.Inf\n",
    "start = datetime.now()\n",
    "\n",
    "max_evals = 5\n",
    "trials = Trials\n",
    "\n",
    "\n",
    "def func(params):\n",
    "\n",
    "    global best_rslt\n",
    "\n",
    "    print(params)\n",
    "    \n",
    "    lenet, data = generate_lenet(dropout=params[\"dropout\"],\n",
    "                                 act_type='tanh',\n",
    "                                 full_geom=[params[\"hiddens\"]])\n",
    "    \n",
    "    lenet_model = mx.mod.Module(symbol=lenet, context=mx.gpu())\n",
    "\n",
    "    lr = params[\"lr\"]\n",
    "    momentum = params[\"momentum\"]\n",
    "    epochs = params[\"epochs\"]\n",
    "    \n",
    "    print(\"training\") \n",
    "    \n",
    "    lenet_model.fit(train_iter,\n",
    "                eval_data=val_iter,\n",
    "                optimizer='sgd',\n",
    "                optimizer_params={'learning_rate': lr, \n",
    "                                  'momentum': momentum},\n",
    "                eval_metric='acc',\n",
    "                num_epoch=epochs)\n",
    "    \n",
    "    test_iter = mx.io.NDArrayIter(mnist['test_data'], None, batch_size)\n",
    "    prob = lenet_model.predict(test_iter)\n",
    "    test_iter = mx.io.NDArrayIter(mnist['test_data'], mnist['test_label'], batch_size)\n",
    "    \n",
    "    acc = mx.metric.Accuracy()\n",
    "    lenet_model.score(test_iter, acc)\n",
    "    rslt = acc.get()[1]\n",
    "    \n",
    "    if rslt > best_rslt:\n",
    "        best_rslt = rslt\n",
    "        print(\">> %s :\", str(datetime.now()-start))\n",
    "        print(\">> %.4f with %s\" % (rslt, str(params)))\n",
    "    \n",
    "    return {'loss': -rslt, 'status': STATUS_OK}\n",
    "\n",
    "\n",
    "def false_min(*params, **paramgrid):\n",
    "    for p in params:\n",
    "        print(\"=>%s\" % (str(p)))\n",
    "    for p in paramgrid.keys():\n",
    "        print('=> %s => %s' %(p, str(paramgrid[p])))\n",
    "\n",
    "best = fmin(func, paramgrid, algo=partial(tpe.suggest, n_startup_jobs=1), max_evals=max_evals, trials=trials)"
   ]
  },
  {
   "cell_type": "code",
   "execution_count": 7,
   "metadata": {
    "ExecuteTime": {
     "end_time": "2017-11-25T22:08:37.494020Z",
     "start_time": "2017-11-25T22:08:37.482343Z"
    }
   },
   "outputs": [
    {
     "ename": "TypeError",
     "evalue": "fmin() missing 5 required positional arguments: 'self', 'fn', 'space', 'algo', and 'max_evals'",
     "output_type": "error",
     "traceback": [
      "\u001b[0;31m---------------------------------------------------------------------------\u001b[0m",
      "\u001b[0;31mTypeError\u001b[0m                                 Traceback (most recent call last)",
      "\u001b[0;32m<ipython-input-7-b407dcc0c6cc>\u001b[0m in \u001b[0;36m<module>\u001b[0;34m()\u001b[0m\n\u001b[0;32m----> 1\u001b[0;31m \u001b[0mtrials\u001b[0m\u001b[0;34m.\u001b[0m\u001b[0mfmin\u001b[0m\u001b[0;34m(\u001b[0m\u001b[0;34m)\u001b[0m\u001b[0;34m\u001b[0m\u001b[0m\n\u001b[0m",
      "\u001b[0;31mTypeError\u001b[0m: fmin() missing 5 required positional arguments: 'self', 'fn', 'space', 'algo', and 'max_evals'"
     ]
    }
   ],
   "source": [
    "trials.fmin()"
   ]
  }
 ],
 "metadata": {
  "kernelspec": {
   "display_name": "Python 3",
   "language": "python",
   "name": "python3"
  },
  "language_info": {
   "codemirror_mode": {
    "name": "ipython",
    "version": 3
   },
   "file_extension": ".py",
   "mimetype": "text/x-python",
   "name": "python",
   "nbconvert_exporter": "python",
   "pygments_lexer": "ipython3",
   "version": "3.7.0"
  },
  "toc": {
   "nav_menu": {},
   "number_sections": true,
   "sideBar": true,
   "skip_h1_title": false,
   "toc_cell": false,
   "toc_position": {},
   "toc_section_display": "block",
   "toc_window_display": false
  },
  "varInspector": {
   "cols": {
    "lenName": 16,
    "lenType": 16,
    "lenVar": 40
   },
   "kernels_config": {
    "python": {
     "delete_cmd_postfix": "",
     "delete_cmd_prefix": "del ",
     "library": "var_list.py",
     "varRefreshCmd": "print(var_dic_list())"
    },
    "r": {
     "delete_cmd_postfix": ") ",
     "delete_cmd_prefix": "rm(",
     "library": "var_list.r",
     "varRefreshCmd": "cat(var_dic_list()) "
    }
   },
   "types_to_exclude": [
    "module",
    "function",
    "builtin_function_or_method",
    "instance",
    "_Feature"
   ],
   "window_display": false
  }
 },
 "nbformat": 4,
 "nbformat_minor": 2
}
