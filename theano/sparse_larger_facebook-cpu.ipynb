{
 "cells": [
  {
   "cell_type": "code",
   "execution_count": 1,
   "metadata": {
    "collapsed": false
   },
   "outputs": [
    {
     "name": "stdout",
     "output_type": "stream",
     "text": [
      "(5, 1)\n",
      "[[ 0.]\n",
      " [ 0.]\n",
      " [ 0.]\n",
      " [ 0.]\n",
      " [ 0.]]\n",
      "(5, 1)\n",
      "\n",
      "(5, 1)\n",
      "\n",
      "(5, 1)\n",
      "(5, 1)\n"
     ]
    }
   ],
   "source": [
    "import numpy as np, scipy.sparse as sp\n",
    "\n",
    "A = np.matrix(np.zeros((5,10)))\n",
    "B = np.zeros((10,1))\n",
    "print ((A*B).shape)\n",
    "print (np.dot(A,B))\n",
    "print (np.dot(A,B).shape)\n",
    "\n",
    "A = sp.csr_matrix(np.zeros((5,10)), dtype=np.float32)\n",
    "B = sp.csc_matrix((10,1), dtype=np.float32)\n",
    "print(A*B)\n",
    "print ((A*B).shape)\n",
    "print(A.dot(B))\n",
    "print(A.dot(B).shape)\n",
    "#print (np.dot(A,B).shape)\n",
    "\n",
    "A = sp.csr_matrix(np.zeros((5,10)))\n",
    "B = np.zeros((10,1))\n",
    "print ((A*B).shape)\n",
    "#print (np.dot(A,B).shape)"
   ]
  },
  {
   "cell_type": "code",
   "execution_count": 2,
   "metadata": {
    "collapsed": true
   },
   "outputs": [],
   "source": [
    "import numpy, scipy.sparse\n",
    "n = 100000\n",
    "x = (numpy.random.rand(n) * 2).astype(int).astype(float) # 50% sparse vector\n",
    "x_csr = scipy.sparse.csr_matrix(x)\n",
    "x_dok = scipy.sparse.dok_matrix(x.reshape(x_csr.shape))"
   ]
  },
  {
   "cell_type": "code",
   "execution_count": 3,
   "metadata": {
    "collapsed": false
   },
   "outputs": [
    {
     "name": "stdout",
     "output_type": "stream",
     "text": [
      "CPU times: user 28 ms, sys: 0 ns, total: 28 ms\n",
      "Wall time: 20.3 ms\n"
     ]
    },
    {
     "data": {
      "text/plain": [
       "49954.0"
      ]
     },
     "execution_count": 3,
     "metadata": {},
     "output_type": "execute_result"
    }
   ],
   "source": [
    "%time numpy.dot(x,x)"
   ]
  },
  {
   "cell_type": "code",
   "execution_count": 4,
   "metadata": {
    "collapsed": false
   },
   "outputs": [
    {
     "name": "stdout",
     "output_type": "stream",
     "text": [
      "CPU times: user 8 ms, sys: 0 ns, total: 8 ms\n",
      "Wall time: 3.67 ms\n"
     ]
    },
    {
     "data": {
      "text/plain": [
       "49954.0"
      ]
     },
     "execution_count": 4,
     "metadata": {},
     "output_type": "execute_result"
    }
   ],
   "source": [
    "%time x.dot(x)"
   ]
  },
  {
   "cell_type": "code",
   "execution_count": 5,
   "metadata": {
    "collapsed": false
   },
   "outputs": [
    {
     "name": "stdout",
     "output_type": "stream",
     "text": [
      "CPU times: user 2.77 s, sys: 16 ms, total: 2.78 s\n",
      "Wall time: 2.12 s\n"
     ]
    },
    {
     "data": {
      "text/plain": [
       "<1x1 sparse matrix of type '<class 'numpy.float64'>'\n",
       "\twith 1 stored elements in Compressed Sparse Row format>"
      ]
     },
     "execution_count": 5,
     "metadata": {},
     "output_type": "execute_result"
    }
   ],
   "source": [
    "%time x_dok * x_dok.T"
   ]
  },
  {
   "cell_type": "code",
   "execution_count": 6,
   "metadata": {
    "collapsed": false
   },
   "outputs": [
    {
     "name": "stdout",
     "output_type": "stream",
     "text": [
      "CPU times: user 4 ms, sys: 0 ns, total: 4 ms\n",
      "Wall time: 1.8 ms\n"
     ]
    },
    {
     "data": {
      "text/plain": [
       "49954.0"
      ]
     },
     "execution_count": 6,
     "metadata": {},
     "output_type": "execute_result"
    }
   ],
   "source": [
    "%time x_csr.multiply(x_csr).sum()"
   ]
  },
  {
   "cell_type": "code",
   "execution_count": 7,
   "metadata": {
    "collapsed": false
   },
   "outputs": [
    {
     "name": "stdout",
     "output_type": "stream",
     "text": [
      "CPU times: user 4 ms, sys: 0 ns, total: 4 ms\n",
      "Wall time: 2.78 ms\n"
     ]
    },
    {
     "data": {
      "text/plain": [
       "<1x1 sparse matrix of type '<class 'numpy.float64'>'\n",
       "\twith 1 stored elements in Compressed Sparse Row format>"
      ]
     },
     "execution_count": 7,
     "metadata": {},
     "output_type": "execute_result"
    }
   ],
   "source": [
    "%time x_csr * x_csr.T"
   ]
  },
  {
   "cell_type": "code",
   "execution_count": 17,
   "metadata": {
    "collapsed": false
   },
   "outputs": [
    {
     "data": {
      "text/plain": [
       "'cpu'"
      ]
     },
     "execution_count": 17,
     "metadata": {},
     "output_type": "execute_result"
    }
   ],
   "source": [
    "import theano\n",
    "\n",
    "theano.config.device"
   ]
  },
  {
   "cell_type": "code",
   "execution_count": 8,
   "metadata": {
    "collapsed": true
   },
   "outputs": [],
   "source": [
    "import numpy as np\n",
    "import pandas as pd\n",
    "import scipy\n",
    "from scipy.sparse import csr_matrix, diags, eye\n",
    "from sklearn.cluster import SpectralClustering\n",
    "from matplotlib import pyplot as plt\n",
    "import pylab\n",
    "\n",
    "plt.style.use('ggplot')\n",
    "pylab.rcParams['figure.figsize'] = (16.0, 10.0)\n",
    "\n",
    "%matplotlib inline"
   ]
  },
  {
   "cell_type": "code",
   "execution_count": 9,
   "metadata": {
    "collapsed": false
   },
   "outputs": [
    {
     "name": "stdout",
     "output_type": "stream",
     "text": [
      "[12, 13, 14, 17, 20, 47, 66, 107, 190, 224, 246, 257, 265, 291, 295, 324, 380, 409, 414, 418]\n",
      "2420766 81306\n",
      "       a      b\n",
      "0  64848  33444\n",
      "1  15266  30189\n",
      "2  76829  19302\n",
      "3  65515  58679\n",
      "4  52420  16766\n"
     ]
    },
    {
     "data": {
      "text/plain": [
       "<81306x81306 sparse matrix of type '<class 'numpy.float32'>'\n",
       "\twith 1768149 stored elements in Compressed Sparse Row format>"
      ]
     },
     "execution_count": 9,
     "metadata": {},
     "output_type": "execute_result"
    }
   ],
   "source": [
    "#file = \"../dataset/facebook_combined.txt.gz\"\n",
    "file = \"../dataset/twitter_combined.txt.gz\"\n",
    "\n",
    "df = pd.read_csv(file, compression='infer', sep=\" \", header=None, names=[\"a\", \"b\"])\n",
    "\n",
    "nodes = list(set(df.a) | set(df.b))\n",
    "nodes.sort()\n",
    "print(nodes[:20])\n",
    "nodes_to_idx = {n:i for i,n in enumerate(nodes)}\n",
    "\n",
    "df = pd.DataFrame({\"a\": df.a.apply(lambda x: nodes_to_idx[x]), \n",
    "                   \"b\": df.b.apply(lambda x: nodes_to_idx[x])})\n",
    "\n",
    "e = len(df)\n",
    "v = max(np.max(np.unique(df[\"a\"])), np.max(np.unique(df[\"b\"]))) + 1\n",
    "print(e,v)\n",
    "\n",
    "print(df.head())\n",
    "\n",
    "facebook2 = csr_matrix((np.ones(e), (df.a, df.b)), shape=(v,v), dtype=np.float32)\n",
    "facebook2"
   ]
  },
  {
   "cell_type": "code",
   "execution_count": 10,
   "metadata": {
    "collapsed": false
   },
   "outputs": [],
   "source": [
    "import theano\n",
    "import numpy as np\n",
    "import scipy.sparse as sp\n",
    "import theano.tensor as T\n",
    "from theano import sparse"
   ]
  },
  {
   "cell_type": "code",
   "execution_count": 11,
   "metadata": {
    "collapsed": false
   },
   "outputs": [],
   "source": [
    "x = sparse.csc_matrix(name='x', dtype='float32')\n",
    "y = sparse.add(x, x)\n",
    "s = theano.function([x], y)\n",
    "z = sparse.dot(x, x)\n",
    "p = theano.function([x], y)"
   ]
  },
  {
   "cell_type": "code",
   "execution_count": 12,
   "metadata": {
    "collapsed": false
   },
   "outputs": [
    {
     "name": "stdout",
     "output_type": "stream",
     "text": [
      "CPU times: user 12 ms, sys: 4 ms, total: 16 ms\n",
      "Wall time: 16.5 ms\n",
      "CPU times: user 64 ms, sys: 4 ms, total: 68 ms\n",
      "Wall time: 65.9 ms\n"
     ]
    }
   ],
   "source": [
    "%time facebook3_np = facebook2 + facebook2\n",
    "%time facebook3 = s(facebook2)"
   ]
  },
  {
   "cell_type": "code",
   "execution_count": 13,
   "metadata": {
    "collapsed": false
   },
   "outputs": [],
   "source": [
    "# facebook2.tocsc()\n",
    "# %time facebook2.multiply(facebook2)"
   ]
  },
  {
   "cell_type": "code",
   "execution_count": 20,
   "metadata": {
    "collapsed": false
   },
   "outputs": [
    {
     "name": "stdout",
     "output_type": "stream",
     "text": [
      "CPU times: user 2.65 s, sys: 36 ms, total: 2.69 s\n",
      "Wall time: 2.7 s\n",
      "CPU times: user 52 ms, sys: 0 ns, total: 52 ms\n",
      "Wall time: 53.1 ms\n",
      "CPU times: user 48 ms, sys: 0 ns, total: 48 ms\n",
      "Wall time: 48.5 ms\n"
     ]
    }
   ],
   "source": [
    "%time facebook4_np = facebook2.dot(facebook2.tocsc())\n",
    "%time facebook4 = p(facebook2)\n",
    "%time facebook4 = p(facebook2)"
   ]
  },
  {
   "cell_type": "code",
   "execution_count": 22,
   "metadata": {
    "collapsed": false
   },
   "outputs": [
    {
     "name": "stdout",
     "output_type": "stream",
     "text": [
      "cpu\n",
      "CPU times: user 48 ms, sys: 4 ms, total: 52 ms\n",
      "Wall time: 53.8 ms\n"
     ]
    },
    {
     "data": {
      "text/plain": [
       "<81306x81306 sparse matrix of type '<class 'numpy.float32'>'\n",
       "\twith 1768149 stored elements in Compressed Sparse Column format>"
      ]
     },
     "execution_count": 22,
     "metadata": {},
     "output_type": "execute_result"
    }
   ],
   "source": [
    "print (theano.config.device)\n",
    "%time facebook5 = p(p(facebook2))\n",
    "facebook5"
   ]
  }
 ],
 "metadata": {
  "kernelspec": {
   "display_name": "Python 3",
   "language": "python",
   "name": "python3"
  },
  "language_info": {
   "codemirror_mode": {
    "name": "ipython",
    "version": 3
   },
   "file_extension": ".py",
   "mimetype": "text/x-python",
   "name": "python",
   "nbconvert_exporter": "python",
   "pygments_lexer": "ipython3",
   "version": "3.5.1"
  }
 },
 "nbformat": 4,
 "nbformat_minor": 0
}
