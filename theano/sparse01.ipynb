{
 "metadata": {
  "name": "",
  "signature": "sha256:30df4f2a33e3bdd9981b770fde2ed0b08d9529f55a5e4f92bd7e422df6cfce68"
 },
 "nbformat": 3,
 "nbformat_minor": 0,
 "worksheets": [
  {
   "cells": [
    {
     "cell_type": "code",
     "collapsed": false,
     "input": [
      "import theano\n",
      "import numpy as np\n",
      "import scipy.sparse as sp\n",
      "from theano import sparse"
     ],
     "language": "python",
     "metadata": {},
     "outputs": [],
     "prompt_number": 2
    },
    {
     "cell_type": "code",
     "collapsed": false,
     "input": [
      "sparse.all_dtypes"
     ],
     "language": "python",
     "metadata": {},
     "outputs": [
      {
       "metadata": {},
       "output_type": "pyout",
       "prompt_number": 3,
       "text": [
        "{'complex128',\n",
        " 'complex64',\n",
        " 'float32',\n",
        " 'float64',\n",
        " 'int16',\n",
        " 'int32',\n",
        " 'int64',\n",
        " 'int8',\n",
        " 'uint16',\n",
        " 'uint32',\n",
        " 'uint64',\n",
        " 'uint8'}"
       ]
      }
     ],
     "prompt_number": 3
    },
    {
     "cell_type": "code",
     "collapsed": false,
     "input": [
      "x = sparse.csc_matrix(name='x', dtype='float32')\n",
      "y = sparse.dense_from_sparse(x)\n",
      "z = sparse.csc_from_dense(y)\n",
      "print x, y, z"
     ],
     "language": "python",
     "metadata": {},
     "outputs": [
      {
       "output_type": "stream",
       "stream": "stdout",
       "text": [
        "SparseVariable{csc,float32} DenseFromSparse{structured_grad=True}.0 SparseVariable{csc,float32}\n"
       ]
      }
     ],
     "prompt_number": 4
    },
    {
     "cell_type": "code",
     "collapsed": false,
     "input": [
      "x = sparse.csc_matrix(name='x', dtype='int64')\n",
      "data, indices, indptr, shape = sparse.csm_properties(x)\n",
      "y = sparse.CSR(data, indices, indptr, shape)\n",
      "f = theano.function([x], y)\n",
      "a = sp.csc_matrix(np.asarray([[0, 1, 1], [0, 0, 0], [1, 0, 0]]))\n",
      "print a.toarray()\n",
      "print f(a).toarray()"
     ],
     "language": "python",
     "metadata": {},
     "outputs": [
      {
       "output_type": "stream",
       "stream": "stdout",
       "text": [
        "[[0 1 1]\n",
        " [0 0 0]\n",
        " [1 0 0]]\n",
        "[[0 0 1]\n",
        " [1 0 0]\n",
        " [1 0 0]]\n"
       ]
      }
     ],
     "prompt_number": 5
    },
    {
     "cell_type": "code",
     "collapsed": false,
     "input": [
      "x = sparse.csc_matrix(name='x', dtype='float64')\n",
      "y = sparse.structured_add(x, 2)\n",
      "f = theano.function([x], y)\n",
      "a = sp.csc_matrix(np.asarray([[0, 0, -1], [0, -2, 1], [3, 0, 0]], dtype='float64'))\n",
      "print a\n",
      "print\n",
      "print a.toarray()\n",
      "print\n",
      "print f(a)\n",
      "print\n",
      "print f(a).toarray()"
     ],
     "language": "python",
     "metadata": {},
     "outputs": [
      {
       "output_type": "stream",
       "stream": "stdout",
       "text": [
        "  (2, 0)\t3.0\n",
        "  (1, 1)\t-2.0\n",
        "  (0, 2)\t-1.0\n",
        "  (1, 2)\t1.0\n",
        "\n",
        "[[ 0.  0. -1.]\n",
        " [ 0. -2.  1.]\n",
        " [ 3.  0.  0.]]\n",
        "\n",
        "  (2, 0)\t5.0\n",
        "  (1, 1)\t0.0\n",
        "  (0, 2)\t1.0\n",
        "  (1, 2)\t3.0\n",
        "\n",
        "[[ 0.  0.  1.]\n",
        " [ 0.  0.  3.]\n",
        " [ 5.  0.  0.]]\n"
       ]
      }
     ],
     "prompt_number": 6
    },
    {
     "cell_type": "code",
     "collapsed": false,
     "input": [
      "\"\"\"\n",
      "a = sp.rand(10,100000,0.0001,format='csc')\n",
      "b = sp.rand(100000,100000,0.0001,format='csc')\n",
      "x = sparse.csc_matrix(name='x', dtype='float64')\n",
      "y = sparse.csc_matrix(name='y', dtype='float64')\n",
      "z = (x * y)\n",
      "f = theano.function([x,y], z)\n",
      "\n",
      "print f(a,b).sum()\n",
      "# print f(a,b).toarray()\n",
      "print 100000*100000*2*8/1000000000, \" GB !\"\n",
      "\"\"\""
     ],
     "language": "python",
     "metadata": {},
     "outputs": [
      {
       "metadata": {},
       "output_type": "pyout",
       "prompt_number": 7,
       "text": [
        "'\\na = sp.rand(10,100000,0.0001,format=\\'csc\\')\\nb = sp.rand(100000,100000,0.0001,format=\\'csc\\')\\nx = sparse.csc_matrix(name=\\'x\\', dtype=\\'float64\\')\\ny = sparse.csc_matrix(name=\\'y\\', dtype=\\'float64\\')\\nz = (x * y)\\nf = theano.function([x,y], z)\\n\\nprint f(a,b).sum()\\n# print f(a,b).toarray()\\nprint 100000*100000*2*8/1000000000, \" GB !\"\\n'"
       ]
      }
     ],
     "prompt_number": 7
    },
    {
     "cell_type": "code",
     "collapsed": false,
     "input": [
      "N = int(2**26)\n",
      "density = 1./N/2\n",
      "mini = 50\n",
      "import theano.tensor as T\n",
      "\n",
      "w = T.matrix(name = \"w\", dtype = \"float64\")\n",
      "x = sparse.csc_matrix(name=\"x\", dtype=\"float64\")\n",
      "zr = T.maximum(sparse.structured_dot(x,w),0)\n",
      "zt = T.tanh(sparse.structured_dot(x,w))\n",
      "gr = theano.function([x,w],zr)\n",
      "gt = theano.function([x,w],zt)\n",
      "\n",
      "%time ww = np.random.rand(N,1)\n",
      "xx = sp.rand(mini, N, density, format='csc')\n",
      "\n",
      "%time x = gr(xx,ww)\n",
      "%time y = gt(xx,ww)\n",
      "\n",
      "%time x.sum()\n",
      "%time y.sum()"
     ],
     "language": "python",
     "metadata": {},
     "outputs": [
      {
       "output_type": "stream",
       "stream": "stdout",
       "text": [
        "CPU times: user 667 ms, sys: 37.4 ms, total: 704 ms\n",
        "Wall time: 705 ms\n",
        "CPU times: user 47 ms, sys: 116 \u00b5s, total: 47.1 ms"
       ]
      },
      {
       "output_type": "stream",
       "stream": "stdout",
       "text": [
        "\n",
        "Wall time: 47.2 ms\n",
        "CPU times: user 44.9 ms, sys: 68 \u00b5s, total: 45 ms\n",
        "Wall time: 45 ms\n",
        "CPU times: user 23 \u00b5s, sys: 0 ns, total: 23 \u00b5s\n",
        "Wall time: 26.9 \u00b5s\n",
        "CPU times: user 17 \u00b5s, sys: 1 \u00b5s, total: 18 \u00b5s\n",
        "Wall time: 19.8 \u00b5s\n"
       ]
      },
      {
       "metadata": {},
       "output_type": "pyout",
       "prompt_number": 8,
       "text": [
        "5.0455659211225647"
       ]
      }
     ],
     "prompt_number": 8
    },
    {
     "cell_type": "code",
     "collapsed": false,
     "input": [
      "N = 2**26\n",
      "features = 20\n",
      "import theano.tensor as T\n",
      "import random\n",
      "\n",
      "w = T.matrix(name = \"w\", dtype = \"float64\")\n",
      "x = sparse.csr_matrix(name=\"x\", dtype=\"float64\")\n",
      "zr = T.maximum(sparse.structured_dot(x,w),0)\n",
      "zt = T.tanh(sparse.structured_dot(x,w))\n",
      "gr = theano.function([x,w],zr)\n",
      "gt = theano.function([x,w],zt)\n",
      "\n",
      "%time ww = np.random.rand(N,1)\n",
      "xx = sp.lil_matrix((1,N))\n",
      "for i in range(features):\n",
      "    xx[0,random.randint(0,N)] = 1\n",
      "\n",
      "%time gr(xx,ww).sum()\n",
      "\n"
     ],
     "language": "python",
     "metadata": {},
     "outputs": [
      {
       "output_type": "stream",
       "stream": "stdout",
       "text": [
        "CPU times: user 672 ms, sys: 36.2 ms, total: 708 ms\n",
        "Wall time: 709 ms\n",
        "CPU times: user 320 \u00b5s, sys: 1 \u00b5s, total: 321 \u00b5s\n",
        "Wall time: 324 \u00b5s\n"
       ]
      },
      {
       "metadata": {},
       "output_type": "pyout",
       "prompt_number": 21,
       "text": [
        "8.8445842713061591"
       ]
      }
     ],
     "prompt_number": 21
    }
   ],
   "metadata": {}
  }
 ]
}