{
 "cells": [
<<<<<<< HEAD
  {
   "cell_type": "code",
   "execution_count": 1,
=======
  {
   "cell_type": "code",
   "execution_count": 1,
   "metadata": {
    "collapsed": false
   },
   "outputs": [],
   "source": [
    "import theano\n",
    "import numpy as np\n",
    "import scipy.sparse as sp\n",
    "from theano import sparse"
   ]
  },
  {
   "cell_type": "code",
   "execution_count": 2,
   "metadata": {
    "collapsed": false
   },
   "outputs": [
    {
     "data": {
      "text/plain": [
       "{'complex128',\n",
       " 'complex64',\n",
       " 'float32',\n",
       " 'float64',\n",
       " 'int16',\n",
       " 'int32',\n",
       " 'int64',\n",
       " 'int8',\n",
       " 'uint16',\n",
       " 'uint32',\n",
       " 'uint64',\n",
       " 'uint8'}"
      ]
     },
     "execution_count": 2,
     "metadata": {},
     "output_type": "execute_result"
    }
   ],
   "source": [
    "sparse.all_dtypes"
   ]
  },
  {
   "cell_type": "code",
   "execution_count": 3,
>>>>>>> 1756e28370d8ce4da8fd5cd5e49100edf29cf347
   "metadata": {
    "collapsed": false
   },
   "outputs": [
    {
<<<<<<< HEAD
     "name": "stderr",
     "output_type": "stream",
     "text": [
      "/home/yannick/bin/anaconda3/envs/py27/lib/python2.7/site-packages/nose/plugins/manager.py:418: UserWarning: Module argparse was already imported from /home/yannick/bin/anaconda3/envs/py27/lib/python2.7/argparse.pyc, but /home/yannick/bin/anaconda3/envs/py27/lib/python2.7/site-packages is being added to sys.path\n",
      "  import pkg_resources\n"
=======
     "name": "stdout",
     "output_type": "stream",
     "text": [
      "SparseVariable{csc,float32} DenseFromSparse{structured_grad=True}.0 SparseVariable{csc,float32}\n"
>>>>>>> 1756e28370d8ce4da8fd5cd5e49100edf29cf347
     ]
    }
   ],
   "source": [
<<<<<<< HEAD
    "import theano\n",
    "import numpy as np\n",
    "import scipy.sparse as sp\n",
    "from theano import sparse"
=======
    "x = sparse.csc_matrix(name='x', dtype='float32')\n",
    "y = sparse.dense_from_sparse(x)\n",
    "z = sparse.csc_from_dense(y)\n",
    "print x, y, z"
>>>>>>> 1756e28370d8ce4da8fd5cd5e49100edf29cf347
   ]
  },
  {
   "cell_type": "code",
<<<<<<< HEAD
   "execution_count": 2,
=======
   "execution_count": 5,
>>>>>>> 1756e28370d8ce4da8fd5cd5e49100edf29cf347
   "metadata": {
    "collapsed": false
   },
   "outputs": [
    {
<<<<<<< HEAD
     "data": {
      "text/plain": [
       "{'complex128',\n",
       " 'complex64',\n",
       " 'float32',\n",
       " 'float64',\n",
       " 'int16',\n",
       " 'int32',\n",
       " 'int64',\n",
       " 'int8',\n",
       " 'uint16',\n",
       " 'uint32',\n",
       " 'uint64',\n",
       " 'uint8'}"
      ]
     },
     "execution_count": 2,
     "metadata": {},
     "output_type": "execute_result"
    }
   ],
   "source": [
    "sparse.all_dtypes"
=======
     "name": "stdout",
     "output_type": "stream",
     "text": [
      "[[0 1 1]\n",
      " [0 0 0]\n",
      " [1 0 0]]\n",
      "[[0 0 1]\n",
      " [1 0 0]\n",
      " [1 0 0]]\n"
     ]
    }
   ],
   "source": [
    "x = sparse.csc_matrix(name='x', dtype='int32')\n",
    "data, indices, indptr, shape = sparse.csm_properties(x)\n",
    "y = sparse.CSR(data, indices, indptr, shape)\n",
    "f = theano.function([x], y)\n",
    "a = sp.csc_matrix(np.asarray([[0, 1, 1], [0, 0, 0], [1, 0, 0]]))\n",
    "print a.toarray()\n",
    "print f(a).toarray()"
>>>>>>> 1756e28370d8ce4da8fd5cd5e49100edf29cf347
   ]
  },
  {
   "cell_type": "code",
<<<<<<< HEAD
   "execution_count": 3,
=======
   "execution_count": 6,
>>>>>>> 1756e28370d8ce4da8fd5cd5e49100edf29cf347
   "metadata": {
    "collapsed": false
   },
   "outputs": [
    {
     "name": "stdout",
     "output_type": "stream",
     "text": [
<<<<<<< HEAD
      "SparseVariable{csc,float32} DenseFromSparse{structured_grad=True}.0 SparseVariable{csc,float32}\n"
=======
      "  (2, 0)\t3.0\n",
      "  (1, 1)\t-2.0\n",
      "  (0, 2)\t-1.0\n",
      "  (1, 2)\t1.0\n",
      "\n",
      "[[ 0.  0. -1.]\n",
      " [ 0. -2.  1.]\n",
      " [ 3.  0.  0.]]\n",
      "\n",
      "  (2, 0)\t5.0\n",
      "  (1, 1)\t0.0\n",
      "  (0, 2)\t1.0\n",
      "  (1, 2)\t3.0\n",
      "\n",
      "[[ 0.  0.  1.]\n",
      " [ 0.  0.  3.]\n",
      " [ 5.  0.  0.]]\n"
>>>>>>> 1756e28370d8ce4da8fd5cd5e49100edf29cf347
     ]
    }
   ],
   "source": [
<<<<<<< HEAD
    "x = sparse.csc_matrix(name='x', dtype='float32')\n",
    "y = sparse.dense_from_sparse(x)\n",
    "z = sparse.csc_from_dense(y)\n",
    "print x, y, z"
=======
    "x = sparse.csc_matrix(name='x', dtype='float64')\n",
    "y = sparse.structured_add(x, 2)\n",
    "f = theano.function([x], y)\n",
    "a = sp.csc_matrix(np.asarray([[0, 0, -1], [0, -2, 1], [3, 0, 0]], dtype='float64'))\n",
    "print a\n",
    "print\n",
    "print a.toarray()\n",
    "print\n",
    "print f(a)\n",
    "print\n",
    "print f(a).toarray()"
>>>>>>> 1756e28370d8ce4da8fd5cd5e49100edf29cf347
   ]
  },
  {
   "cell_type": "code",
<<<<<<< HEAD
   "execution_count": 4,
=======
   "execution_count": 7,
>>>>>>> 1756e28370d8ce4da8fd5cd5e49100edf29cf347
   "metadata": {
    "collapsed": false
   },
   "outputs": [
    {
<<<<<<< HEAD
     "name": "stdout",
     "output_type": "stream",
     "text": [
      "[[0 1 1]\n",
      " [0 0 0]\n",
      " [1 0 0]]\n",
      "[[0 0 1]\n",
      " [1 0 0]\n",
      " [1 0 0]]\n"
     ]
    }
   ],
   "source": [
    "x = sparse.csc_matrix(name='x', dtype='int64')\n",
    "data, indices, indptr, shape = sparse.csm_properties(x)\n",
    "y = sparse.CSR(data, indices, indptr, shape)\n",
    "f = theano.function([x], y)\n",
    "a = sp.csc_matrix(np.asarray([[0, 1, 1], [0, 0, 0], [1, 0, 0]]))\n",
    "print a.toarray()\n",
    "print f(a).toarray()"
=======
     "data": {
      "text/plain": [
       "'\\na = sp.rand(10,100000,0.0001,format=\\'csc\\')\\nb = sp.rand(100000,100000,0.0001,format=\\'csc\\')\\nx = sparse.csc_matrix(name=\\'x\\', dtype=\\'float64\\')\\ny = sparse.csc_matrix(name=\\'y\\', dtype=\\'float64\\')\\nz = (x * y)\\nf = theano.function([x,y], z)\\n\\nprint f(a,b).sum()\\n# print f(a,b).toarray()\\nprint 100000*100000*2*8/1000000000, \" GB !\"\\n'"
      ]
     },
     "execution_count": 7,
     "metadata": {},
     "output_type": "execute_result"
    }
   ],
   "source": [
    "\"\"\"\n",
    "a = sp.rand(10,100000,0.0001,format='csc')\n",
    "b = sp.rand(100000,100000,0.0001,format='csc')\n",
    "x = sparse.csc_matrix(name='x', dtype='float64')\n",
    "y = sparse.csc_matrix(name='y', dtype='float64')\n",
    "z = (x * y)\n",
    "f = theano.function([x,y], z)\n",
    "\n",
    "print f(a,b).sum()\n",
    "# print f(a,b).toarray()\n",
    "print 100000*100000*2*8/1000000000, \" GB !\"\n",
    "\"\"\""
>>>>>>> 1756e28370d8ce4da8fd5cd5e49100edf29cf347
   ]
  },
  {
   "cell_type": "code",
<<<<<<< HEAD
   "execution_count": 5,
=======
   "execution_count": 8,
>>>>>>> 1756e28370d8ce4da8fd5cd5e49100edf29cf347
   "metadata": {
    "collapsed": false
   },
   "outputs": [
    {
     "name": "stdout",
     "output_type": "stream",
     "text": [
<<<<<<< HEAD
      "  (2, 0)\t3.0\n",
      "  (1, 1)\t-2.0\n",
      "  (0, 2)\t-1.0\n",
      "  (1, 2)\t1.0\n",
      "\n",
      "[[ 0.  0. -1.]\n",
      " [ 0. -2.  1.]\n",
      " [ 3.  0.  0.]]\n",
      "\n",
      "  (2, 0)\t5.0\n",
      "  (1, 1)\t0.0\n",
      "  (0, 2)\t1.0\n",
      "  (1, 2)\t3.0\n",
      "\n",
      "[[ 0.  0.  1.]\n",
      " [ 0.  0.  3.]\n",
      " [ 5.  0.  0.]]\n"
     ]
    }
   ],
   "source": [
    "x = sparse.csc_matrix(name='x', dtype='float64')\n",
    "y = sparse.structured_add(x, 2)\n",
    "f = theano.function([x], y)\n",
    "a = sp.csc_matrix(np.asarray([[0, 0, -1], [0, -2, 1], [3, 0, 0]], dtype='float64'))\n",
    "print a\n",
    "print\n",
    "print a.toarray()\n",
    "print\n",
    "print f(a)\n",
    "print\n",
    "print f(a).toarray()"
   ]
  },
  {
   "cell_type": "code",
   "execution_count": 6,
   "metadata": {
    "collapsed": false
   },
   "outputs": [
    {
     "data": {
      "text/plain": [
       "'\\na = sp.rand(10,100000,0.0001,format=\\'csc\\')\\nb = sp.rand(100000,100000,0.0001,format=\\'csc\\')\\nx = sparse.csc_matrix(name=\\'x\\', dtype=\\'float64\\')\\ny = sparse.csc_matrix(name=\\'y\\', dtype=\\'float64\\')\\nz = (x * y)\\nf = theano.function([x,y], z)\\n\\nprint f(a,b).sum()\\n# print f(a,b).toarray()\\nprint 100000*100000*2*8/1000000000, \" GB !\"\\n'"
      ]
     },
     "execution_count": 6,
     "metadata": {},
     "output_type": "execute_result"
    }
   ],
   "source": [
    "\"\"\"\n",
    "a = sp.rand(10,100000,0.0001,format='csc')\n",
    "b = sp.rand(100000,100000,0.0001,format='csc')\n",
    "x = sparse.csc_matrix(name='x', dtype='float64')\n",
    "y = sparse.csc_matrix(name='y', dtype='float64')\n",
    "z = (x * y)\n",
    "f = theano.function([x,y], z)\n",
    "\n",
    "print f(a,b).sum()\n",
    "# print f(a,b).toarray()\n",
    "print 100000*100000*2*8/1000000000, \" GB !\"\n",
    "\"\"\""
   ]
  },
  {
   "cell_type": "code",
   "execution_count": 7,
   "metadata": {
    "collapsed": false
   },
   "outputs": [
    {
     "name": "stdout",
     "output_type": "stream",
     "text": [
      "CPU times: user 664 ms, sys: 29.1 ms, total: 694 ms\n",
      "Wall time: 695 ms\n",
      "CPU times: user 45.4 ms, sys: 104 µs, total: 45.5 ms\n",
      "Wall time: 45.5 ms\n",
      "CPU times: user 46 ms, sys: 77 µs, total: 46 ms\n",
      "Wall time: 46.1 ms\n",
      "CPU times: user 26 µs, sys: 2 µs, total: 28 µs\n",
      "Wall time: 29.8 µs\n",
      "CPU times: user 11 µs, sys: 1 µs, total: 12 µs\n",
      "Wall time: 13.8 µs\n"
=======
      "Wall time: 4.43 s\n",
      "Wall time: 194 ms\n",
      "Wall time: 286 ms\n",
      "Wall time: 0 ns\n",
      "Wall time: 0 ns\n"
>>>>>>> 1756e28370d8ce4da8fd5cd5e49100edf29cf347
     ]
    },
    {
     "data": {
      "text/plain": [
<<<<<<< HEAD
       "5.6118513249241859"
      ]
     },
     "execution_count": 7,
=======
       "5.5820384842429265"
      ]
     },
     "execution_count": 8,
>>>>>>> 1756e28370d8ce4da8fd5cd5e49100edf29cf347
     "metadata": {},
     "output_type": "execute_result"
    }
   ],
   "source": [
    "N = int(2**26)\n",
    "density = 1./N/2\n",
    "mini = 50\n",
    "import theano.tensor as T\n",
    "\n",
    "w = T.matrix(name = \"w\", dtype = \"float64\")\n",
    "x = sparse.csc_matrix(name=\"x\", dtype=\"float64\")\n",
    "zr = T.maximum(sparse.structured_dot(x,w),0)\n",
    "zt = T.tanh(sparse.structured_dot(x,w))\n",
    "gr = theano.function([x,w],zr)\n",
    "gt = theano.function([x,w],zt)\n",
    "\n",
    "%time ww = np.random.rand(N,1)\n",
    "xx = sp.rand(mini, N, density, format='csc')\n",
    "\n",
    "%time x = gr(xx,ww)\n",
    "%time y = gt(xx,ww)\n",
    "\n",
    "%time x.sum()\n",
    "%time y.sum()"
   ]
  },
  {
   "cell_type": "code",
<<<<<<< HEAD
   "execution_count": 8,
=======
   "execution_count": 9,
>>>>>>> 1756e28370d8ce4da8fd5cd5e49100edf29cf347
   "metadata": {
    "collapsed": false
   },
   "outputs": [
    {
     "name": "stdout",
     "output_type": "stream",
     "text": [
<<<<<<< HEAD
      "CPU times: user 663 ms, sys: 36 ms, total: 699 ms\n",
      "Wall time: 700 ms\n",
      "CPU times: user 361 µs, sys: 13 µs, total: 374 µs\n",
      "Wall time: 379 µs\n"
=======
      "Wall time: 5.03 s\n",
      "Wall time: 2 ms\n"
>>>>>>> 1756e28370d8ce4da8fd5cd5e49100edf29cf347
     ]
    },
    {
     "data": {
      "text/plain": [
<<<<<<< HEAD
       "7.3736744066757911"
      ]
     },
     "execution_count": 8,
=======
       "9.670729639370478"
      ]
     },
     "execution_count": 9,
>>>>>>> 1756e28370d8ce4da8fd5cd5e49100edf29cf347
     "metadata": {},
     "output_type": "execute_result"
    }
   ],
   "source": [
    "N = 2**26\n",
    "features = 20\n",
    "import theano.tensor as T\n",
    "import random\n",
    "\n",
    "w = T.matrix(name = \"w\", dtype = \"float64\")\n",
    "x = sparse.csr_matrix(name=\"x\", dtype=\"float64\")\n",
    "zr = T.maximum(sparse.structured_dot(x,w),0)\n",
    "zt = T.tanh(sparse.structured_dot(x,w))\n",
    "gr = theano.function([x,w],zr)\n",
    "gt = theano.function([x,w],zt)\n",
    "\n",
    "%time ww = np.random.rand(N,1)\n",
    "xx = sp.lil_matrix((1,N))\n",
    "for i in range(features):\n",
    "    xx[0,random.randint(0,N)] = 1\n",
    "\n",
    "%time gr(xx,ww).sum()\n",
    "\n"
   ]
  }
 ],
 "metadata": {
  "kernelspec": {
   "display_name": "Python 2",
   "language": "python",
   "name": "python2"
  },
  "language_info": {
   "codemirror_mode": {
    "name": "ipython",
    "version": 2
   },
   "file_extension": ".py",
   "mimetype": "text/x-python",
   "name": "python",
   "nbconvert_exporter": "python",
   "pygments_lexer": "ipython2",
   "version": "2.7.9"
  }
 },
 "nbformat": 4,
 "nbformat_minor": 0
}
