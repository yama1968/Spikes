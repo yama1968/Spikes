{
 "cells": [
  {
   "cell_type": "code",
   "execution_count": 1,
   "metadata": {
    "collapsed": false
   },
   "outputs": [],
   "source": [
    "import theano\n",
    "import numpy as np\n",
    "import scipy.sparse as sp\n",
    "from theano import sparse"
   ]
  },
  {
   "cell_type": "code",
   "execution_count": 2,
   "metadata": {
    "collapsed": false
   },
   "outputs": [
    {
     "data": {
      "text/plain": [
       "{'complex128',\n",
       " 'complex64',\n",
       " 'float32',\n",
       " 'float64',\n",
       " 'int16',\n",
       " 'int32',\n",
       " 'int64',\n",
       " 'int8',\n",
       " 'uint16',\n",
       " 'uint32',\n",
       " 'uint64',\n",
       " 'uint8'}"
      ]
     },
     "execution_count": 2,
     "metadata": {},
     "output_type": "execute_result"
    }
   ],
   "source": [
    "sparse.all_dtypes"
   ]
  },
  {
   "cell_type": "code",
   "execution_count": 3,
   "metadata": {
    "collapsed": false
   },
   "outputs": [
    {
     "name": "stdout",
     "output_type": "stream",
     "text": [
      "SparseVariable{csc,float32} DenseFromSparse{structured_grad=True}.0 SparseVariable{csc,float32}\n"
     ]
    }
   ],
   "source": [
    "x = sparse.csc_matrix(name='x', dtype='float32')\n",
    "y = sparse.dense_from_sparse(x)\n",
    "z = sparse.csc_from_dense(y)\n",
    "print x, y, z"
   ]
  },
  {
   "cell_type": "code",
   "execution_count": 5,
   "metadata": {
    "collapsed": false
   },
   "outputs": [
    {
     "name": "stdout",
     "output_type": "stream",
     "text": [
      "[[0 1 1]\n",
      " [0 0 0]\n",
      " [1 0 0]]\n",
      "[[0 0 1]\n",
      " [1 0 0]\n",
      " [1 0 0]]\n"
     ]
    }
   ],
   "source": [
    "x = sparse.csc_matrix(name='x', dtype='int32')\n",
    "data, indices, indptr, shape = sparse.csm_properties(x)\n",
    "y = sparse.CSR(data, indices, indptr, shape)\n",
    "f = theano.function([x], y)\n",
    "a = sp.csc_matrix(np.asarray([[0, 1, 1], [0, 0, 0], [1, 0, 0]]))\n",
    "print a.toarray()\n",
    "print f(a).toarray()"
   ]
  },
  {
   "cell_type": "code",
   "execution_count": 6,
   "metadata": {
    "collapsed": false
   },
   "outputs": [
    {
     "name": "stdout",
     "output_type": "stream",
     "text": [
      "  (2, 0)\t3.0\n",
      "  (1, 1)\t-2.0\n",
      "  (0, 2)\t-1.0\n",
      "  (1, 2)\t1.0\n",
      "\n",
      "[[ 0.  0. -1.]\n",
      " [ 0. -2.  1.]\n",
      " [ 3.  0.  0.]]\n",
      "\n",
      "  (2, 0)\t5.0\n",
      "  (1, 1)\t0.0\n",
      "  (0, 2)\t1.0\n",
      "  (1, 2)\t3.0\n",
      "\n",
      "[[ 0.  0.  1.]\n",
      " [ 0.  0.  3.]\n",
      " [ 5.  0.  0.]]\n"
     ]
    }
   ],
   "source": [
    "x = sparse.csc_matrix(name='x', dtype='float64')\n",
    "y = sparse.structured_add(x, 2)\n",
    "f = theano.function([x], y)\n",
    "a = sp.csc_matrix(np.asarray([[0, 0, -1], [0, -2, 1], [3, 0, 0]], dtype='float64'))\n",
    "print a\n",
    "print\n",
    "print a.toarray()\n",
    "print\n",
    "print f(a)\n",
    "print\n",
    "print f(a).toarray()"
   ]
  },
  {
   "cell_type": "code",
   "execution_count": 7,
   "metadata": {
    "collapsed": false
   },
   "outputs": [
    {
     "data": {
      "text/plain": [
       "'\\na = sp.rand(10,100000,0.0001,format=\\'csc\\')\\nb = sp.rand(100000,100000,0.0001,format=\\'csc\\')\\nx = sparse.csc_matrix(name=\\'x\\', dtype=\\'float64\\')\\ny = sparse.csc_matrix(name=\\'y\\', dtype=\\'float64\\')\\nz = (x * y)\\nf = theano.function([x,y], z)\\n\\nprint f(a,b).sum()\\n# print f(a,b).toarray()\\nprint 100000*100000*2*8/1000000000, \" GB !\"\\n'"
      ]
     },
     "execution_count": 7,
     "metadata": {},
     "output_type": "execute_result"
    }
   ],
   "source": [
    "\"\"\"\n",
    "a = sp.rand(10,100000,0.0001,format='csc')\n",
    "b = sp.rand(100000,100000,0.0001,format='csc')\n",
    "x = sparse.csc_matrix(name='x', dtype='float64')\n",
    "y = sparse.csc_matrix(name='y', dtype='float64')\n",
    "z = (x * y)\n",
    "f = theano.function([x,y], z)\n",
    "\n",
    "print f(a,b).sum()\n",
    "# print f(a,b).toarray()\n",
    "print 100000*100000*2*8/1000000000, \" GB !\"\n",
    "\"\"\""
   ]
  },
  {
   "cell_type": "code",
   "execution_count": 8,
   "metadata": {
    "collapsed": false
   },
   "outputs": [
    {
     "name": "stdout",
     "output_type": "stream",
     "text": [
      "Wall time: 4.43 s\n",
      "Wall time: 194 ms\n",
      "Wall time: 286 ms\n",
      "Wall time: 0 ns\n",
      "Wall time: 0 ns\n"
     ]
    },
    {
     "data": {
      "text/plain": [
       "5.5820384842429265"
      ]
     },
     "execution_count": 8,
     "metadata": {},
     "output_type": "execute_result"
    }
   ],
   "source": [
    "N = int(2**26)\n",
    "density = 1./N/2\n",
    "mini = 50\n",
    "import theano.tensor as T\n",
    "\n",
    "w = T.matrix(name = \"w\", dtype = \"float64\")\n",
    "x = sparse.csc_matrix(name=\"x\", dtype=\"float64\")\n",
    "zr = T.maximum(sparse.structured_dot(x,w),0)\n",
    "zt = T.tanh(sparse.structured_dot(x,w))\n",
    "gr = theano.function([x,w],zr)\n",
    "gt = theano.function([x,w],zt)\n",
    "\n",
    "%time ww = np.random.rand(N,1)\n",
    "xx = sp.rand(mini, N, density, format='csc')\n",
    "\n",
    "%time x = gr(xx,ww)\n",
    "%time y = gt(xx,ww)\n",
    "\n",
    "%time x.sum()\n",
    "%time y.sum()"
   ]
  },
  {
   "cell_type": "code",
   "execution_count": 9,
   "metadata": {
    "collapsed": false
   },
   "outputs": [
    {
     "name": "stdout",
     "output_type": "stream",
     "text": [
      "Wall time: 5.03 s\n",
      "Wall time: 2 ms\n"
     ]
    },
    {
     "data": {
      "text/plain": [
       "9.670729639370478"
      ]
     },
     "execution_count": 9,
     "metadata": {},
     "output_type": "execute_result"
    }
   ],
   "source": [
    "N = 2**26\n",
    "features = 20\n",
    "import theano.tensor as T\n",
    "import random\n",
    "\n",
    "w = T.matrix(name = \"w\", dtype = \"float64\")\n",
    "x = sparse.csr_matrix(name=\"x\", dtype=\"float64\")\n",
    "zr = T.maximum(sparse.structured_dot(x,w),0)\n",
    "zt = T.tanh(sparse.structured_dot(x,w))\n",
    "gr = theano.function([x,w],zr)\n",
    "gt = theano.function([x,w],zt)\n",
    "\n",
    "%time ww = np.random.rand(N,1)\n",
    "xx = sp.lil_matrix((1,N))\n",
    "for i in range(features):\n",
    "    xx[0,random.randint(0,N)] = 1\n",
    "\n",
    "%time gr(xx,ww).sum()\n",
    "\n"
   ]
  }
 ],
 "metadata": {
  "kernelspec": {
   "display_name": "Python 2",
   "language": "python",
   "name": "python2"
  },
  "language_info": {
   "codemirror_mode": {
    "name": "ipython",
    "version": 2
   },
   "file_extension": ".py",
   "mimetype": "text/x-python",
   "name": "python",
   "nbconvert_exporter": "python",
   "pygments_lexer": "ipython2",
   "version": "2.7.9"
  }
 },
 "nbformat": 4,
 "nbformat_minor": 0
}
