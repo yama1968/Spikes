{
 "cells": [
  {
   "cell_type": "code",
   "execution_count": 2,
   "metadata": {
    "collapsed": false
   },
   "outputs": [
    {
     "name": "stderr",
     "output_type": "stream",
     "text": [
      "ERROR: Cell magic `%%R` not found.\n"
     ]
    }
   ],
   "source": [
    "%%R\n",
    "\n",
    "library(h2o)\n",
    "\n",
    "localH2O <- h2o.init(nthreads=-1)\n",
    "data(iris)\n",
    "View(iris)\n",
    "\n",
    "iris.h2o <- as.h2o(iris, \"iris\")\n",
    "\n",
    "iris.dl <- h2o.deeplearning(x=1:3,\n",
    "                            training_frame=iris.h2o,\n",
    "                            autoencoder=T,\n",
    "                            activation=\"Tanh\",\n",
    "                            l2=0.0001,\n",
    "                            hidden=c(20, 10, 2, 10, 20),\n",
    "                            epochs=200)\n",
    "print(iris.dl)\n",
    "iris.anon <- as.data.frame(h2o.anomaly(iris.dl, iris.h2o))\n",
    "\n",
    "iris$rmse <- iris.anon$Reconstruction.MSE\n",
    "\n",
    "hist(iris$rmse)\n",
    "\n",
    "head(iris,10)\n",
    "\n",
    "######\n",
    "\n",
    "features <- as.data.frame(h2o.deepfeatures(iris.dl, iris.h2o, layer = 3))\n",
    "features$label <- iris$Species\n",
    "\n",
    "library(ggplot2)\n",
    "\n",
    "qplot(DF.L3.C1, DF.L3.C2,\n",
    "      data    = features,\n",
    "      color   = label,\n",
    "      main    = \"C1 vs C2\",\n",
    "      size    = 10,\n",
    "      alpha   = .7)\n"
   ]
  },
  {
   "cell_type": "code",
   "execution_count": null,
   "metadata": {
    "collapsed": true
   },
   "outputs": [],
   "source": []
  }
 ],
 "metadata": {
  "kernelspec": {
   "display_name": "Python 3",
   "language": "python",
   "name": "python3"
  },
  "language_info": {
   "codemirror_mode": {
    "name": "ipython",
    "version": 3
   },
   "file_extension": ".py",
   "mimetype": "text/x-python",
   "name": "python",
   "nbconvert_exporter": "python",
   "pygments_lexer": "ipython3",
   "version": "3.5.1"
  }
 },
 "nbformat": 4,
 "nbformat_minor": 0
}
