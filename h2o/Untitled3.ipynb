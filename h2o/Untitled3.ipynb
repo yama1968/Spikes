{
 "cells": [
  {
   "cell_type": "code",
   "execution_count": 2,
   "metadata": {
    "collapsed": false
   },
   "outputs": [
    {
     "ename": "ERROR",
     "evalue": "Error in library(h2o): there is no package called 'h2o'\n",
     "output_type": "error",
     "traceback": [
      "Error in library(h2o): there is no package called 'h2o'\n"
     ]
    },
    {
     "ename": "ERROR",
     "evalue": "Error in eval(expr, envir, enclos): impossible de trouver la fonction \"h2o.init\"\n",
     "output_type": "error",
     "traceback": [
      "Error in eval(expr, envir, enclos): impossible de trouver la fonction \"h2o.init\"\n"
     ]
    },
    {
     "ename": "ERROR",
     "evalue": "Error in eval(expr, envir, enclos): impossible de trouver la fonction \"as.h2o\"\n",
     "output_type": "error",
     "traceback": [
      "Error in eval(expr, envir, enclos): impossible de trouver la fonction \"as.h2o\"\n"
     ]
    },
    {
     "ename": "ERROR",
     "evalue": "Error in eval(expr, envir, enclos): impossible de trouver la fonction \"h2o.deeplearning\"\n",
     "output_type": "error",
     "traceback": [
      "Error in eval(expr, envir, enclos): impossible de trouver la fonction \"h2o.deeplearning\"\n"
     ]
    },
    {
     "ename": "ERROR",
     "evalue": "Error in print(iris.dl): objet 'iris.dl' introuvable\n",
     "output_type": "error",
     "traceback": [
      "Error in print(iris.dl): objet 'iris.dl' introuvable\n"
     ]
    },
    {
     "ename": "ERROR",
     "evalue": "Error in as.data.frame(h2o.anomaly(iris.dl, iris.h2o)): impossible de trouver la fonction \"h2o.anomaly\"\n",
     "output_type": "error",
     "traceback": [
      "Error in as.data.frame(h2o.anomaly(iris.dl, iris.h2o)): impossible de trouver la fonction \"h2o.anomaly\"\n"
     ]
    },
    {
     "ename": "ERROR",
     "evalue": "Error in eval(expr, envir, enclos): objet 'iris.anon' introuvable\n",
     "output_type": "error",
     "traceback": [
      "Error in eval(expr, envir, enclos): objet 'iris.anon' introuvable\n"
     ]
    },
    {
     "ename": "ERROR",
     "evalue": "Error in hist.default(iris$rmse): 'x' must be numeric\n",
     "output_type": "error",
     "traceback": [
      "Error in hist.default(iris$rmse): 'x' must be numeric\n"
     ]
    }
   ],
   "source": [
    "library(h2o)\n",
    "\n",
    "localH2O <- h2o.init(nthreads=-1)\n",
    "data(iris)\n",
    "View(iris)\n",
    "\n",
    "iris.h2o <- as.h2o(iris, \"iris\")\n",
    "\n",
    "iris.dl <- h2o.deeplearning(x=1:3,\n",
    "                            training_frame=iris.h2o,\n",
    "                            autoencoder=T,\n",
    "                            activation=\"Tanh\",\n",
    "                            l2=0.0001,\n",
    "#                            hidden=c(20, 10, 2, 10, 20),\n",
    "                            hidden=c(40, 2, 20),\n",
    "                            epochs=200)\n",
    "print(iris.dl)\n",
    "iris.anon <- as.data.frame(h2o.anomaly(iris.dl, iris.h2o))\n",
    "\n",
    "iris$rmse <- iris.anon$Reconstruction.MSE\n",
    "\n",
    "hist(iris$rmse)"
   ]
  },
  {
   "cell_type": "code",
   "execution_count": 1,
   "metadata": {
    "collapsed": false
   },
   "outputs": [
    {
     "data": {
      "text/html": [
       "<table>\n",
       "<thead><tr><th></th><th scope=col>Sepal.Length</th><th scope=col>Sepal.Width</th><th scope=col>Petal.Length</th><th scope=col>Petal.Width</th><th scope=col>Species</th></tr></thead>\n",
       "<tbody>\n",
       "\t<tr><th scope=row>1</th><td>5.1</td><td>3.5</td><td>1.4</td><td>0.2</td><td>setosa</td></tr>\n",
       "\t<tr><th scope=row>2</th><td>4.9</td><td>3</td><td>1.4</td><td>0.2</td><td>setosa</td></tr>\n",
       "\t<tr><th scope=row>3</th><td>4.7</td><td>3.2</td><td>1.3</td><td>0.2</td><td>setosa</td></tr>\n",
       "\t<tr><th scope=row>4</th><td>4.6</td><td>3.1</td><td>1.5</td><td>0.2</td><td>setosa</td></tr>\n",
       "\t<tr><th scope=row>5</th><td>5</td><td>3.6</td><td>1.4</td><td>0.2</td><td>setosa</td></tr>\n",
       "\t<tr><th scope=row>6</th><td>5.4</td><td>3.9</td><td>1.7</td><td>0.4</td><td>setosa</td></tr>\n",
       "\t<tr><th scope=row>7</th><td>4.6</td><td>3.4</td><td>1.4</td><td>0.3</td><td>setosa</td></tr>\n",
       "\t<tr><th scope=row>8</th><td>5</td><td>3.4</td><td>1.5</td><td>0.2</td><td>setosa</td></tr>\n",
       "\t<tr><th scope=row>9</th><td>4.4</td><td>2.9</td><td>1.4</td><td>0.2</td><td>setosa</td></tr>\n",
       "\t<tr><th scope=row>10</th><td>4.9</td><td>3.1</td><td>1.5</td><td>0.1</td><td>setosa</td></tr>\n",
       "</tbody>\n",
       "</table>\n"
      ],
      "text/latex": [
       "\\begin{tabular}{r|lllll}\n",
       "  & Sepal.Length & Sepal.Width & Petal.Length & Petal.Width & Species\\\\\n",
       "\\hline\n",
       "\t1 & 5.1 & 3.5 & 1.4 & 0.2 & setosa\\\\\n",
       "\t2 & 4.9 & 3 & 1.4 & 0.2 & setosa\\\\\n",
       "\t3 & 4.7 & 3.2 & 1.3 & 0.2 & setosa\\\\\n",
       "\t4 & 4.6 & 3.1 & 1.5 & 0.2 & setosa\\\\\n",
       "\t5 & 5 & 3.6 & 1.4 & 0.2 & setosa\\\\\n",
       "\t6 & 5.4 & 3.9 & 1.7 & 0.4 & setosa\\\\\n",
       "\t7 & 4.6 & 3.4 & 1.4 & 0.3 & setosa\\\\\n",
       "\t8 & 5 & 3.4 & 1.5 & 0.2 & setosa\\\\\n",
       "\t9 & 4.4 & 2.9 & 1.4 & 0.2 & setosa\\\\\n",
       "\t10 & 4.9 & 3.1 & 1.5 & 0.1 & setosa\\\\\n",
       "\\end{tabular}\n"
      ],
      "text/plain": [
       "   Sepal.Length Sepal.Width Petal.Length Petal.Width Species\n",
       "1           5.1         3.5          1.4         0.2  setosa\n",
       "2           4.9         3.0          1.4         0.2  setosa\n",
       "3           4.7         3.2          1.3         0.2  setosa\n",
       "4           4.6         3.1          1.5         0.2  setosa\n",
       "5           5.0         3.6          1.4         0.2  setosa\n",
       "6           5.4         3.9          1.7         0.4  setosa\n",
       "7           4.6         3.4          1.4         0.3  setosa\n",
       "8           5.0         3.4          1.5         0.2  setosa\n",
       "9           4.4         2.9          1.4         0.2  setosa\n",
       "10          4.9         3.1          1.5         0.1  setosa"
      ]
     },
     "execution_count": 1,
     "metadata": {},
     "output_type": "execute_result"
    }
   ],
   "source": [
    "head(iris,10)"
   ]
  },
  {
   "cell_type": "code",
   "execution_count": null,
   "metadata": {
    "collapsed": true
   },
   "outputs": [],
   "source": [
    "features <- as.data.frame(h2o.deepfeatures(iris.dl, iris.h2o, layer = 3))\n",
    "features$label <- iris$Species\n",
    "\n",
    "library(ggplot2)\n",
    "\n",
    "qplot(DF.L3.C1, DF.L3.C2,\n",
    "      data    = features,\n",
    "      color   = label,\n",
    "      main    = \"C1 vs C2\",\n",
    "      size    = I(10),\n",
    "      alpha   = .7)"
   ]
  }
 ],
 "metadata": {
  "kernelspec": {
   "display_name": "R",
   "language": "R",
   "name": "ir"
  },
  "language_info": {
   "codemirror_mode": "r",
   "file_extension": ".r",
   "mimetype": "text/x-r-source",
   "name": "R",
   "pygments_lexer": "r",
   "version": "3.1.3"
  }
 },
 "nbformat": 4,
 "nbformat_minor": 0
}
