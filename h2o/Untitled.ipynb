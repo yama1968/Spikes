{
 "cells": [
  {
   "cell_type": "code",
   "execution_count": 4,
   "metadata": {
    "collapsed": false
   },
   "outputs": [
    {
     "ename": "ERROR",
     "evalue": "Error in h2o.init(core = -1): argument inutilisé (core = -1)\n",
     "output_type": "error",
     "traceback": [
      "Error in h2o.init(core = -1): argument inutilisé (core = -1)\n"
     ]
    },
    {
     "ename": "ERROR",
     "evalue": "Error in h2o.getConnection(): no active connection to an H2O cluster\n",
     "output_type": "error",
     "traceback": [
      "Error in h2o.getConnection(): no active connection to an H2O cluster\n"
     ]
    },
    {
     "ename": "ERROR",
     "evalue": "Error in h2o.getConnection(): no active connection to an H2O cluster\n",
     "output_type": "error",
     "traceback": [
      "Error in h2o.getConnection(): no active connection to an H2O cluster\n"
     ]
    }
   ],
   "source": [
    "require(h2o)\n",
    "\n",
    "# Download and import ECG train and test data into the H2O cluster\n",
    "\n",
    "localH2O <- h2o.init(core = -1)\n",
    "\n",
    "train_ecg <- h2o.importFile(\n",
    "    path = \"http://h2o-public-test-data.s3.amazonaws.com/smalldata/anomaly/ecg_discord_train.csv\",\n",
    "    header = FALSE,\n",
    "    sep = \",\")\n",
    "\n",
    "test_ecg <- h2o.importFile(\n",
    "    path = \"http://h2o-public-test-data.s3.\n",
    "    amazonaws.com/smalldata/anomaly/ecg_\n",
    "    discord_test.csv\",\n",
    "    header = FALSE,\n",
    "    sep = \",\")\n"
   ]
  }
 ],
 "metadata": {
  "kernelspec": {
   "display_name": "R",
   "language": "R",
   "name": "ir"
  },
  "language_info": {
   "codemirror_mode": "r",
   "file_extension": ".r",
   "mimetype": "text/x-r-source",
   "name": "R",
   "pygments_lexer": "r",
   "version": "3.2.2"
  }
 },
 "nbformat": 4,
 "nbformat_minor": 0
}
