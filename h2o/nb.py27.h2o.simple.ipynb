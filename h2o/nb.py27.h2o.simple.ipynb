{
 "cells": [
  {
   "cell_type": "code",
   "execution_count": 1,
   "metadata": {
    "collapsed": false
   },
   "outputs": [
    {
     "name": "stdout",
     "output_type": "stream",
     "text": [
      "\n",
      "\n",
      "No instance found at ip and port: localhost:54321. Trying to start local jar...\n",
      "\n",
      "\n",
      "JVM stdout: /tmp/tmpM721n5/h2o_yannick_started_from_python.out\n",
      "JVM stderr: /tmp/tmpZzPgBO/h2o_yannick_started_from_python.err\n",
      "Using ice_root: /tmp/tmprVUSEy\n",
      "\n",
      "\n",
      "Java Version: java version \"1.7.0_95\"\n",
      "OpenJDK Runtime Environment (IcedTea 2.6.4) (7u95-2.6.4-0ubuntu0.14.04.1)\n",
      "OpenJDK 64-Bit Server VM (build 24.95-b01, mixed mode)\n",
      "\n",
      "\n",
      "Starting H2O JVM and connecting: ........................... Connection successful!\n"
     ]
    },
    {
     "name": "stderr",
     "output_type": "stream",
     "text": [
      "/home/yannick/bin/anaconda3/envs/py27/lib/python2.7/site-packages/IPython/core/formatters.py:90: DeprecationWarning: DisplayFormatter._ipython_display_formatter_default is deprecated: use @default decorator instead.\n",
      "  def _ipython_display_formatter_default(self):\n",
      "/home/yannick/bin/anaconda3/envs/py27/lib/python2.7/site-packages/IPython/core/formatters.py:96: DeprecationWarning: DisplayFormatter._formatters_default is deprecated: use @default decorator instead.\n",
      "  def _formatters_default(self):\n",
      "/home/yannick/bin/anaconda3/envs/py27/lib/python2.7/site-packages/IPython/core/formatters.py:675: DeprecationWarning: PlainTextFormatter._deferred_printers_default is deprecated: use @default decorator instead.\n",
      "  def _deferred_printers_default(self):\n",
      "/home/yannick/bin/anaconda3/envs/py27/lib/python2.7/site-packages/IPython/core/formatters.py:667: DeprecationWarning: PlainTextFormatter._singleton_printers_default is deprecated: use @default decorator instead.\n",
      "  def _singleton_printers_default(self):\n",
      "/home/yannick/bin/anaconda3/envs/py27/lib/python2.7/site-packages/IPython/core/formatters.py:670: DeprecationWarning: PlainTextFormatter._type_printers_default is deprecated: use @default decorator instead.\n",
      "  def _type_printers_default(self):\n",
      "/home/yannick/bin/anaconda3/envs/py27/lib/python2.7/site-packages/IPython/core/formatters.py:667: DeprecationWarning: PlainTextFormatter._singleton_printers_default is deprecated: use @default decorator instead.\n",
      "  def _singleton_printers_default(self):\n",
      "/home/yannick/bin/anaconda3/envs/py27/lib/python2.7/site-packages/IPython/core/formatters.py:670: DeprecationWarning: PlainTextFormatter._type_printers_default is deprecated: use @default decorator instead.\n",
      "  def _type_printers_default(self):\n",
      "/home/yannick/bin/anaconda3/envs/py27/lib/python2.7/site-packages/IPython/core/formatters.py:675: DeprecationWarning: PlainTextFormatter._deferred_printers_default is deprecated: use @default decorator instead.\n",
      "  def _deferred_printers_default(self):\n"
     ]
    },
    {
     "data": {
      "text/html": [
       "<div style=\"overflow:auto\"><table style=\"width:50%\"><tr><td>H2O cluster uptime: </td>\n",
       "<td>3 seconds 176 milliseconds </td></tr>\n",
       "<tr><td>H2O cluster version: </td>\n",
       "<td>3.8.0.3</td></tr>\n",
       "<tr><td>H2O cluster name: </td>\n",
       "<td>H2O_started_from_python_yannick_yjj527</td></tr>\n",
       "<tr><td>H2O cluster total nodes: </td>\n",
       "<td>1</td></tr>\n",
       "<tr><td>H2O cluster total free memory: </td>\n",
       "<td>3.36 GB</td></tr>\n",
       "<tr><td>H2O cluster total cores: </td>\n",
       "<td>8</td></tr>\n",
       "<tr><td>H2O cluster allowed cores: </td>\n",
       "<td>8</td></tr>\n",
       "<tr><td>H2O cluster healthy: </td>\n",
       "<td>True</td></tr>\n",
       "<tr><td>H2O Connection ip: </td>\n",
       "<td>127.0.0.1</td></tr>\n",
       "<tr><td>H2O Connection port: </td>\n",
       "<td>54321</td></tr>\n",
       "<tr><td>H2O Connection proxy: </td>\n",
       "<td>None</td></tr>\n",
       "<tr><td>Python Version: </td>\n",
       "<td>2.7.11</td></tr></table></div>"
      ],
      "text/plain": [
       "------------------------------  --------------------------------------\n",
       "H2O cluster uptime:             3 seconds 176 milliseconds\n",
       "H2O cluster version:            3.8.0.3\n",
       "H2O cluster name:               H2O_started_from_python_yannick_yjj527\n",
       "H2O cluster total nodes:        1\n",
       "H2O cluster total free memory:  3.36 GB\n",
       "H2O cluster total cores:        8\n",
       "H2O cluster allowed cores:      8\n",
       "H2O cluster healthy:            True\n",
       "H2O Connection ip:              127.0.0.1\n",
       "H2O Connection port:            54321\n",
       "H2O Connection proxy:\n",
       "Python Version:                 2.7.11\n",
       "------------------------------  --------------------------------------"
      ]
     },
     "metadata": {},
     "output_type": "display_data"
    }
   ],
   "source": [
    "import h2o\n",
    "import time\n",
    "h2o.init()"
   ]
  },
  {
   "cell_type": "code",
   "execution_count": 2,
   "metadata": {
    "collapsed": false
   },
   "outputs": [
    {
     "name": "stdout",
     "output_type": "stream",
     "text": [
      "\n",
      "\n",
      "\n",
      "Parse Progress: [##################################################] 100%\n"
     ]
    },
    {
     "name": "stderr",
     "output_type": "stream",
     "text": [
      "/home/yannick/bin/anaconda3/envs/py27/lib/python2.7/site-packages/ipykernel/__main__.py:3: DeprecationWarning: import_frame is deprecated. Use import_file.\n",
      "  app.launch_new_instance()\n"
     ]
    }
   ],
   "source": [
    "dir_prefix = \"./\"\n",
    "small_test = dir_prefix + \"201310-citibike-tripdata.zip\"\n",
    "data = h2o.import_frame(path=small_test)"
   ]
  },
  {
   "cell_type": "code",
   "execution_count": 3,
   "metadata": {
    "collapsed": false
   },
   "outputs": [
    {
     "name": "stdout",
     "output_type": "stream",
     "text": [
      "Rows:1,037,712 Cols:15\n",
      "\n",
      "Chunk compression summary: \n"
     ]
    },
    {
     "data": {
      "text/html": [
       "<div style=\"overflow:auto\"><table style=\"width:50%\"><tr><td><b>chunk_type</b></td>\n",
       "<td><b>chunk_name</b></td>\n",
       "<td><b>count</b></td>\n",
       "<td><b>count_percentage</b></td>\n",
       "<td><b>size</b></td>\n",
       "<td><b>size_percentage</b></td></tr>\n",
       "<tr><td>C0D</td>\n",
       "<td>Constant Reals</td>\n",
       "<td>31</td>\n",
       "<td>6.666667</td>\n",
       "<td>    2,4 KB</td>\n",
       "<td>0.0044374</td></tr>\n",
       "<tr><td>C1</td>\n",
       "<td>1-Byte Integers</td>\n",
       "<td>31</td>\n",
       "<td>6.666667</td>\n",
       "<td> 1015,4 KB</td>\n",
       "<td>1.8605266</td></tr>\n",
       "<tr><td>C1N</td>\n",
       "<td>1-Byte Integers (w/o NAs)</td>\n",
       "<td>31</td>\n",
       "<td>6.666667</td>\n",
       "<td> 1015,4 KB</td>\n",
       "<td>1.8605266</td></tr>\n",
       "<tr><td>C1S</td>\n",
       "<td>1-Byte Fractions</td>\n",
       "<td>31</td>\n",
       "<td>6.666667</td>\n",
       "<td> 1015,9 KB</td>\n",
       "<td>1.861414</td></tr>\n",
       "<tr><td>C2</td>\n",
       "<td>2-Byte Integers</td>\n",
       "<td>155</td>\n",
       "<td>33.333336</td>\n",
       "<td>    9,9 MB</td>\n",
       "<td>18.586407</td></tr>\n",
       "<tr><td>C2S</td>\n",
       "<td>2-Byte Fractions</td>\n",
       "<td>6</td>\n",
       "<td>1.2903225</td>\n",
       "<td>  384,5 KB</td>\n",
       "<td>0.7045495</td></tr>\n",
       "<tr><td>C4</td>\n",
       "<td>4-Byte Integers</td>\n",
       "<td>25</td>\n",
       "<td>5.376344</td>\n",
       "<td>    3,2 MB</td>\n",
       "<td>6.0227656</td></tr>\n",
       "<tr><td>C4S</td>\n",
       "<td>4-Byte Fractions</td>\n",
       "<td>22</td>\n",
       "<td>4.7311826</td>\n",
       "<td>    2,8 MB</td>\n",
       "<td>5.1936073</td></tr>\n",
       "<tr><td>C8</td>\n",
       "<td>64-bit Integers</td>\n",
       "<td>31</td>\n",
       "<td>6.666667</td>\n",
       "<td>    7,9 MB</td>\n",
       "<td>14.857809</td></tr>\n",
       "<tr><td>C8D</td>\n",
       "<td>64-bit Reals</td>\n",
       "<td>102</td>\n",
       "<td>21.935484</td>\n",
       "<td>   26,1 MB</td>\n",
       "<td>49.047962</td></tr></table></div>"
      ],
      "text/plain": [
       "chunk_type    chunk_name                 count    count_percentage    size       size_percentage\n",
       "------------  -------------------------  -------  ------------------  ---------  -----------------\n",
       "C0D           Constant Reals             31       6.66667             2,4 KB     0.00443741\n",
       "C1            1-Byte Integers            31       6.66667             1015,4 KB  1.86053\n",
       "C1N           1-Byte Integers (w/o NAs)  31       6.66667             1015,4 KB  1.86053\n",
       "C1S           1-Byte Fractions           31       6.66667             1015,9 KB  1.86141\n",
       "C2            2-Byte Integers            155      33.3333             9,9 MB     18.5864\n",
       "C2S           2-Byte Fractions           6        1.29032             384,5 KB   0.70455\n",
       "C4            4-Byte Integers            25       5.37634             3,2 MB     6.02277\n",
       "C4S           4-Byte Fractions           22       4.73118             2,8 MB     5.19361\n",
       "C8            64-bit Integers            31       6.66667             7,9 MB     14.8578\n",
       "C8D           64-bit Reals               102      21.9355             26,1 MB    49.048"
      ]
     },
     "metadata": {},
     "output_type": "display_data"
    },
    {
     "name": "stdout",
     "output_type": "stream",
     "text": [
      "\n",
      "Frame distribution summary: \n"
     ]
    },
    {
     "data": {
      "text/html": [
       "<div style=\"overflow:auto\"><table style=\"width:50%\"><tr><td><b></b></td>\n",
       "<td><b>size</b></td>\n",
       "<td><b>number_of_rows</b></td>\n",
       "<td><b>number_of_chunks_per_column</b></td>\n",
       "<td><b>number_of_chunks</b></td></tr>\n",
       "<tr><td>127.0.0.1:54321</td>\n",
       "<td>   53,3 MB</td>\n",
       "<td>1037712.0</td>\n",
       "<td>31.0</td>\n",
       "<td>465.0</td></tr>\n",
       "<tr><td>mean</td>\n",
       "<td>   53,3 MB</td>\n",
       "<td>1037712.0</td>\n",
       "<td>31.0</td>\n",
       "<td>465.0</td></tr>\n",
       "<tr><td>min</td>\n",
       "<td>   53,3 MB</td>\n",
       "<td>1037712.0</td>\n",
       "<td>31.0</td>\n",
       "<td>465.0</td></tr>\n",
       "<tr><td>max</td>\n",
       "<td>   53,3 MB</td>\n",
       "<td>1037712.0</td>\n",
       "<td>31.0</td>\n",
       "<td>465.0</td></tr>\n",
       "<tr><td>stddev</td>\n",
       "<td>      0  B</td>\n",
       "<td>0.0</td>\n",
       "<td>0.0</td>\n",
       "<td>0.0</td></tr>\n",
       "<tr><td>total</td>\n",
       "<td>   53,3 MB</td>\n",
       "<td>1037712.0</td>\n",
       "<td>31.0</td>\n",
       "<td>465.0</td></tr></table></div>"
      ],
      "text/plain": [
       "                 size     number_of_rows    number_of_chunks_per_column    number_of_chunks\n",
       "---------------  -------  ----------------  -----------------------------  ------------------\n",
       "127.0.0.1:54321  53,3 MB  1.03771e+06       31                             465\n",
       "mean             53,3 MB  1.03771e+06       31                             465\n",
       "min              53,3 MB  1.03771e+06       31                             465\n",
       "max              53,3 MB  1.03771e+06       31                             465\n",
       "stddev           0  B     0                 0                              0\n",
       "total            53,3 MB  1.03771e+06       31                             465"
      ]
     },
     "metadata": {},
     "output_type": "display_data"
    },
    {
     "name": "stdout",
     "output_type": "stream",
     "text": [
      "\n",
      "\n"
     ]
    },
    {
     "data": {
      "text/html": [
       "<table>\n",
       "<tr><th>       </th><th>tripduration  </th><th>starttime  </th><th>stoptime         </th><th>start station id  </th><th>start station name      </th><th>start station latitude  </th><th>start station longitude  </th><th>end station id  </th><th>end station name              </th><th>end station latitude  </th><th>end station longitude  </th><th>bikeid       </th><th>usertype      </th><th>birth year   </th><th>gender        </th></tr>\n",
       "<tr><td>type   </td><td>int           </td><td>int        </td><td>time             </td><td>int               </td><td>enum                    </td><td>real                    </td><td>real                     </td><td>int             </td><td>enum                          </td><td>real                  </td><td>real                   </td><td>int          </td><td>enum          </td><td>int          </td><td>int           </td></tr>\n",
       "<tr><td>mins   </td><td>60.0          </td><td>NaN        </td><td>1.380578683e+12  </td><td>72.0              </td><td>0.0                     </td><td>40.680342423            </td><td>-74.01713445             </td><td>72.0            </td><td>0.0                           </td><td>40.680342423          </td><td>-74.01713445           </td><td>14529.0      </td><td>0.0           </td><td>1899.0       </td><td>0.0           </td></tr>\n",
       "<tr><td>mean   </td><td>825.614754383 </td><td>0.0        </td><td>1.38188267837e+12</td><td>443.714212614     </td><td>NaN                     </td><td>40.7345188586           </td><td>-73.9911328848           </td><td>443.207421712   </td><td>NaN                           </td><td>40.7342847885         </td><td>-73.9912702982         </td><td>17644.0716451</td><td>0.906095332809</td><td>1975.77839486</td><td>1.12375591686 </td></tr>\n",
       "<tr><td>maxs   </td><td>1259480.0     </td><td>NaN        </td><td>1.38338971e+12   </td><td>3002.0            </td><td>329.0                   </td><td>40.770513               </td><td>-73.9500479759           </td><td>3002.0          </td><td>329.0                         </td><td>40.770513             </td><td>-73.9500479759         </td><td>20757.0      </td><td>1.0           </td><td>1997.0       </td><td>2.0           </td></tr>\n",
       "<tr><td>sigma  </td><td>2000.3732323  </td><td>-0.0       </td><td>779659645.99     </td><td>354.434325075     </td><td>NaN                     </td><td>0.0195734073053         </td><td>0.0123161234106          </td><td>357.398217058   </td><td>NaN                           </td><td>0.0195578458116       </td><td>0.0123855811965        </td><td>1717.68112134</td><td>0.291696182123</td><td>11.1314906238</td><td>0.544380593291</td></tr>\n",
       "<tr><td>zeros  </td><td>0             </td><td>-1037712   </td><td>0                </td><td>0                 </td><td>5239                    </td><td>0                       </td><td>0                        </td><td>0               </td><td>5449                          </td><td>0                     </td><td>0                      </td><td>0            </td><td>97446         </td><td>0            </td><td>97498         </td></tr>\n",
       "<tr><td>missing</td><td>0             </td><td>1037712    </td><td>0                </td><td>0                 </td><td>0                       </td><td>0                       </td><td>0                        </td><td>0               </td><td>0                             </td><td>0                     </td><td>0                      </td><td>0            </td><td>0             </td><td>97445        </td><td>0             </td></tr>\n",
       "<tr><td>0      </td><td>326.0         </td><td>nan        </td><td>1.380578794e+12  </td><td>239.0             </td><td>Willoughby St & Fleet St</td><td>40.69196566             </td><td>-73.9813018              </td><td>366.0           </td><td>Clinton Ave & Myrtle Ave      </td><td>40.693261             </td><td>-73.968896             </td><td>16052.0      </td><td>Subscriber    </td><td>1982.0       </td><td>1.0           </td></tr>\n",
       "<tr><td>1      </td><td>729.0         </td><td>nan        </td><td>1.38057921e+12   </td><td>322.0             </td><td>Clinton St & Tillary St </td><td>40.696192               </td><td>-73.991218               </td><td>398.0           </td><td>Atlantic Ave & Furman St      </td><td>40.69165183           </td><td>-73.9999786            </td><td>19412.0      </td><td>Customer      </td><td>nan          </td><td>0.0           </td></tr>\n",
       "<tr><td>2      </td><td>520.0         </td><td>nan        </td><td>1.380579004e+12  </td><td>174.0             </td><td>E 25 St & 1 Ave         </td><td>40.7381765              </td><td>-73.97738662             </td><td>403.0           </td><td>E 2 St & 2 Ave                </td><td>40.72502876           </td><td>-73.99069656           </td><td>19645.0      </td><td>Subscriber    </td><td>1984.0       </td><td>1.0           </td></tr>\n",
       "<tr><td>3      </td><td>281.0         </td><td>nan        </td><td>1.380578766e+12  </td><td>430.0             </td><td>York St & Jay St        </td><td>40.7014851              </td><td>-73.98656928             </td><td>323.0           </td><td>Lawrence St & Willoughby St   </td><td>40.69236178           </td><td>-73.98631746           </td><td>16992.0      </td><td>Subscriber    </td><td>1985.0       </td><td>1.0           </td></tr>\n",
       "<tr><td>4      </td><td>196.0         </td><td>nan        </td><td>1.380578683e+12  </td><td>403.0             </td><td>E 2 St & 2 Ave          </td><td>40.72502876             </td><td>-73.99069656             </td><td>401.0           </td><td>Allen St & Rivington St       </td><td>40.72019576           </td><td>-73.98997825           </td><td>15690.0      </td><td>Subscriber    </td><td>1986.0       </td><td>1.0           </td></tr>\n",
       "<tr><td>5      </td><td>1948.0        </td><td>nan        </td><td>1.380580456e+12  </td><td>369.0             </td><td>Washington Pl & 6 Ave   </td><td>40.73224119             </td><td>-74.00026394             </td><td>307.0           </td><td>Canal St & Rutgers St         </td><td>40.71427487           </td><td>-73.98990025           </td><td>19846.0      </td><td>Subscriber    </td><td>1977.0       </td><td>1.0           </td></tr>\n",
       "<tr><td>6      </td><td>1327.0        </td><td>nan        </td><td>1.380579835e+12  </td><td>254.0             </td><td>W 11 St & 6 Ave         </td><td>40.73532427             </td><td>-73.99800419             </td><td>539.0           </td><td>Metropolitan Ave & Bedford Ave</td><td>40.71534825           </td><td>-73.96024116           </td><td>14563.0      </td><td>Subscriber    </td><td>1986.0       </td><td>2.0           </td></tr>\n",
       "<tr><td>7      </td><td>1146.0        </td><td>nan        </td><td>1.380579663e+12  </td><td>490.0             </td><td>8 Ave & W 33 St         </td><td>40.751551               </td><td>-73.993934               </td><td>438.0           </td><td>St Marks Pl & 1 Ave           </td><td>40.72779126           </td><td>-73.98564945           </td><td>16793.0      </td><td>Subscriber    </td><td>1959.0       </td><td>1.0           </td></tr>\n",
       "<tr><td>8      </td><td>380.0         </td><td>nan        </td><td>1.380578898e+12  </td><td>468.0             </td><td>Broadway & W 55 St      </td><td>40.7652654              </td><td>-73.98192338             </td><td>385.0           </td><td>E 55 St & 2 Ave               </td><td>40.75797322           </td><td>-73.96603308           </td><td>16600.0      </td><td>Customer      </td><td>nan          </td><td>0.0           </td></tr>\n",
       "<tr><td>9      </td><td>682.0         </td><td>nan        </td><td>1.380579207e+12  </td><td>300.0             </td><td>Shevchenko Pl & E 6 St  </td><td>40.728145               </td><td>-73.990214               </td><td>519.0           </td><td>Pershing Square N             </td><td>40.75188406           </td><td>-73.97770164           </td><td>15204.0      </td><td>Subscriber    </td><td>1992.0       </td><td>1.0           </td></tr>\n",
       "</table>"
      ]
     },
     "metadata": {},
     "output_type": "display_data"
    },
    {
     "data": {
      "text/html": [
       "<table>\n",
       "<tr><th style=\"text-align: right;\">  tripduration</th><th style=\"text-align: right;\">  starttime</th><th style=\"text-align: right;\">   stoptime</th><th style=\"text-align: right;\">  start station id</th><th>start station name      </th><th style=\"text-align: right;\">  start station latitude</th><th style=\"text-align: right;\">  start station longitude</th><th style=\"text-align: right;\">  end station id</th><th>end station name              </th><th style=\"text-align: right;\">  end station latitude</th><th style=\"text-align: right;\">  end station longitude</th><th style=\"text-align: right;\">  bikeid</th><th>usertype  </th><th style=\"text-align: right;\">  birth year</th><th style=\"text-align: right;\">  gender</th></tr>\n",
       "<tr><td style=\"text-align: right;\">           326</td><td style=\"text-align: right;\">        nan</td><td style=\"text-align: right;\">1.38058e+12</td><td style=\"text-align: right;\">               239</td><td>Willoughby St & Fleet St</td><td style=\"text-align: right;\">                 40.692 </td><td style=\"text-align: right;\">                 -73.9813</td><td style=\"text-align: right;\">             366</td><td>Clinton Ave & Myrtle Ave      </td><td style=\"text-align: right;\">               40.6933</td><td style=\"text-align: right;\">               -73.9689</td><td style=\"text-align: right;\">   16052</td><td>Subscriber</td><td style=\"text-align: right;\">        1982</td><td style=\"text-align: right;\">       1</td></tr>\n",
       "<tr><td style=\"text-align: right;\">           729</td><td style=\"text-align: right;\">        nan</td><td style=\"text-align: right;\">1.38058e+12</td><td style=\"text-align: right;\">               322</td><td>Clinton St & Tillary St </td><td style=\"text-align: right;\">                 40.6962</td><td style=\"text-align: right;\">                 -73.9912</td><td style=\"text-align: right;\">             398</td><td>Atlantic Ave & Furman St      </td><td style=\"text-align: right;\">               40.6917</td><td style=\"text-align: right;\">               -74     </td><td style=\"text-align: right;\">   19412</td><td>Customer  </td><td style=\"text-align: right;\">         nan</td><td style=\"text-align: right;\">       0</td></tr>\n",
       "<tr><td style=\"text-align: right;\">           520</td><td style=\"text-align: right;\">        nan</td><td style=\"text-align: right;\">1.38058e+12</td><td style=\"text-align: right;\">               174</td><td>E 25 St & 1 Ave         </td><td style=\"text-align: right;\">                 40.7382</td><td style=\"text-align: right;\">                 -73.9774</td><td style=\"text-align: right;\">             403</td><td>E 2 St & 2 Ave                </td><td style=\"text-align: right;\">               40.725 </td><td style=\"text-align: right;\">               -73.9907</td><td style=\"text-align: right;\">   19645</td><td>Subscriber</td><td style=\"text-align: right;\">        1984</td><td style=\"text-align: right;\">       1</td></tr>\n",
       "<tr><td style=\"text-align: right;\">           281</td><td style=\"text-align: right;\">        nan</td><td style=\"text-align: right;\">1.38058e+12</td><td style=\"text-align: right;\">               430</td><td>York St & Jay St        </td><td style=\"text-align: right;\">                 40.7015</td><td style=\"text-align: right;\">                 -73.9866</td><td style=\"text-align: right;\">             323</td><td>Lawrence St & Willoughby St   </td><td style=\"text-align: right;\">               40.6924</td><td style=\"text-align: right;\">               -73.9863</td><td style=\"text-align: right;\">   16992</td><td>Subscriber</td><td style=\"text-align: right;\">        1985</td><td style=\"text-align: right;\">       1</td></tr>\n",
       "<tr><td style=\"text-align: right;\">           196</td><td style=\"text-align: right;\">        nan</td><td style=\"text-align: right;\">1.38058e+12</td><td style=\"text-align: right;\">               403</td><td>E 2 St & 2 Ave          </td><td style=\"text-align: right;\">                 40.725 </td><td style=\"text-align: right;\">                 -73.9907</td><td style=\"text-align: right;\">             401</td><td>Allen St & Rivington St       </td><td style=\"text-align: right;\">               40.7202</td><td style=\"text-align: right;\">               -73.99  </td><td style=\"text-align: right;\">   15690</td><td>Subscriber</td><td style=\"text-align: right;\">        1986</td><td style=\"text-align: right;\">       1</td></tr>\n",
       "<tr><td style=\"text-align: right;\">          1948</td><td style=\"text-align: right;\">        nan</td><td style=\"text-align: right;\">1.38058e+12</td><td style=\"text-align: right;\">               369</td><td>Washington Pl & 6 Ave   </td><td style=\"text-align: right;\">                 40.7322</td><td style=\"text-align: right;\">                 -74.0003</td><td style=\"text-align: right;\">             307</td><td>Canal St & Rutgers St         </td><td style=\"text-align: right;\">               40.7143</td><td style=\"text-align: right;\">               -73.9899</td><td style=\"text-align: right;\">   19846</td><td>Subscriber</td><td style=\"text-align: right;\">        1977</td><td style=\"text-align: right;\">       1</td></tr>\n",
       "<tr><td style=\"text-align: right;\">          1327</td><td style=\"text-align: right;\">        nan</td><td style=\"text-align: right;\">1.38058e+12</td><td style=\"text-align: right;\">               254</td><td>W 11 St & 6 Ave         </td><td style=\"text-align: right;\">                 40.7353</td><td style=\"text-align: right;\">                 -73.998 </td><td style=\"text-align: right;\">             539</td><td>Metropolitan Ave & Bedford Ave</td><td style=\"text-align: right;\">               40.7153</td><td style=\"text-align: right;\">               -73.9602</td><td style=\"text-align: right;\">   14563</td><td>Subscriber</td><td style=\"text-align: right;\">        1986</td><td style=\"text-align: right;\">       2</td></tr>\n",
       "<tr><td style=\"text-align: right;\">          1146</td><td style=\"text-align: right;\">        nan</td><td style=\"text-align: right;\">1.38058e+12</td><td style=\"text-align: right;\">               490</td><td>8 Ave & W 33 St         </td><td style=\"text-align: right;\">                 40.7516</td><td style=\"text-align: right;\">                 -73.9939</td><td style=\"text-align: right;\">             438</td><td>St Marks Pl & 1 Ave           </td><td style=\"text-align: right;\">               40.7278</td><td style=\"text-align: right;\">               -73.9856</td><td style=\"text-align: right;\">   16793</td><td>Subscriber</td><td style=\"text-align: right;\">        1959</td><td style=\"text-align: right;\">       1</td></tr>\n",
       "<tr><td style=\"text-align: right;\">           380</td><td style=\"text-align: right;\">        nan</td><td style=\"text-align: right;\">1.38058e+12</td><td style=\"text-align: right;\">               468</td><td>Broadway & W 55 St      </td><td style=\"text-align: right;\">                 40.7653</td><td style=\"text-align: right;\">                 -73.9819</td><td style=\"text-align: right;\">             385</td><td>E 55 St & 2 Ave               </td><td style=\"text-align: right;\">               40.758 </td><td style=\"text-align: right;\">               -73.966 </td><td style=\"text-align: right;\">   16600</td><td>Customer  </td><td style=\"text-align: right;\">         nan</td><td style=\"text-align: right;\">       0</td></tr>\n",
       "<tr><td style=\"text-align: right;\">           682</td><td style=\"text-align: right;\">        nan</td><td style=\"text-align: right;\">1.38058e+12</td><td style=\"text-align: right;\">               300</td><td>Shevchenko Pl & E 6 St  </td><td style=\"text-align: right;\">                 40.7281</td><td style=\"text-align: right;\">                 -73.9902</td><td style=\"text-align: right;\">             519</td><td>Pershing Square N             </td><td style=\"text-align: right;\">               40.7519</td><td style=\"text-align: right;\">               -73.9777</td><td style=\"text-align: right;\">   15204</td><td>Subscriber</td><td style=\"text-align: right;\">        1992</td><td style=\"text-align: right;\">       1</td></tr>\n",
       "</table>"
      ]
     },
     "metadata": {},
     "output_type": "display_data"
    },
    {
     "data": {
      "text/plain": []
     },
     "execution_count": 3,
     "metadata": {},
     "output_type": "execute_result"
    }
   ],
   "source": [
    "data.describe()\n",
    "#data.dim()\n",
    "data.head()"
   ]
  },
  {
   "cell_type": "code",
   "execution_count": 4,
   "metadata": {
    "collapsed": false
   },
   "outputs": [
    {
     "name": "stdout",
     "output_type": "stream",
     "text": [
      "Rows:1,037,712 Cols:16\n",
      "\n",
      "Chunk compression summary: \n"
     ]
    },
    {
     "data": {
      "text/html": [
       "<div style=\"overflow:auto\"><table style=\"width:50%\"><tr><td><b>chunk_type</b></td>\n",
       "<td><b>chunk_name</b></td>\n",
       "<td><b>count</b></td>\n",
       "<td><b>count_percentage</b></td>\n",
       "<td><b>size</b></td>\n",
       "<td><b>size_percentage</b></td></tr>\n",
       "<tr><td>C0D</td>\n",
       "<td>Constant Reals</td>\n",
       "<td>62</td>\n",
       "<td>12.5</td>\n",
       "<td>    4,8 KB</td>\n",
       "<td>0.0088744</td></tr>\n",
       "<tr><td>C1</td>\n",
       "<td>1-Byte Integers</td>\n",
       "<td>31</td>\n",
       "<td>6.25</td>\n",
       "<td> 1015,4 KB</td>\n",
       "<td>1.8604441</td></tr>\n",
       "<tr><td>C1N</td>\n",
       "<td>1-Byte Integers (w/o NAs)</td>\n",
       "<td>31</td>\n",
       "<td>6.25</td>\n",
       "<td> 1015,4 KB</td>\n",
       "<td>1.8604441</td></tr>\n",
       "<tr><td>C1S</td>\n",
       "<td>1-Byte Fractions</td>\n",
       "<td>31</td>\n",
       "<td>6.25</td>\n",
       "<td> 1015,9 KB</td>\n",
       "<td>1.8613315</td></tr>\n",
       "<tr><td>C2</td>\n",
       "<td>2-Byte Integers</td>\n",
       "<td>155</td>\n",
       "<td>31.25</td>\n",
       "<td>    9,9 MB</td>\n",
       "<td>18.585583</td></tr>\n",
       "<tr><td>C2S</td>\n",
       "<td>2-Byte Fractions</td>\n",
       "<td>6</td>\n",
       "<td>1.2096773</td>\n",
       "<td>  384,5 KB</td>\n",
       "<td>0.7045183</td></tr>\n",
       "<tr><td>C4</td>\n",
       "<td>4-Byte Integers</td>\n",
       "<td>25</td>\n",
       "<td>5.040323</td>\n",
       "<td>    3,2 MB</td>\n",
       "<td>6.022498</td></tr>\n",
       "<tr><td>C4S</td>\n",
       "<td>4-Byte Fractions</td>\n",
       "<td>22</td>\n",
       "<td>4.435484</td>\n",
       "<td>    2,8 MB</td>\n",
       "<td>5.1933765</td></tr>\n",
       "<tr><td>C8</td>\n",
       "<td>64-bit Integers</td>\n",
       "<td>31</td>\n",
       "<td>6.25</td>\n",
       "<td>    7,9 MB</td>\n",
       "<td>14.857151</td></tr>\n",
       "<tr><td>C8D</td>\n",
       "<td>64-bit Reals</td>\n",
       "<td>102</td>\n",
       "<td>20.564516</td>\n",
       "<td>   26,1 MB</td>\n",
       "<td>49.045788</td></tr></table></div>"
      ],
      "text/plain": [
       "chunk_type    chunk_name                 count    count_percentage    size       size_percentage\n",
       "------------  -------------------------  -------  ------------------  ---------  -----------------\n",
       "C0D           Constant Reals             62       12.5                4,8 KB     0.00887442\n",
       "C1            1-Byte Integers            31       6.25                1015,4 KB  1.86044\n",
       "C1N           1-Byte Integers (w/o NAs)  31       6.25                1015,4 KB  1.86044\n",
       "C1S           1-Byte Fractions           31       6.25                1015,9 KB  1.86133\n",
       "C2            2-Byte Integers            155      31.25               9,9 MB     18.5856\n",
       "C2S           2-Byte Fractions           6        1.20968             384,5 KB   0.704518\n",
       "C4            4-Byte Integers            25       5.04032             3,2 MB     6.0225\n",
       "C4S           4-Byte Fractions           22       4.43548             2,8 MB     5.19338\n",
       "C8            64-bit Integers            31       6.25                7,9 MB     14.8572\n",
       "C8D           64-bit Reals               102      20.5645             26,1 MB    49.0458"
      ]
     },
     "metadata": {},
     "output_type": "display_data"
    },
    {
     "name": "stdout",
     "output_type": "stream",
     "text": [
      "\n",
      "Frame distribution summary: \n"
     ]
    },
    {
     "data": {
      "text/html": [
       "<div style=\"overflow:auto\"><table style=\"width:50%\"><tr><td><b></b></td>\n",
       "<td><b>size</b></td>\n",
       "<td><b>number_of_rows</b></td>\n",
       "<td><b>number_of_chunks_per_column</b></td>\n",
       "<td><b>number_of_chunks</b></td></tr>\n",
       "<tr><td>127.0.0.1:54321</td>\n",
       "<td>   53,3 MB</td>\n",
       "<td>1037712.0</td>\n",
       "<td>31.0</td>\n",
       "<td>496.0</td></tr>\n",
       "<tr><td>mean</td>\n",
       "<td>   53,3 MB</td>\n",
       "<td>1037712.0</td>\n",
       "<td>31.0</td>\n",
       "<td>496.0</td></tr>\n",
       "<tr><td>min</td>\n",
       "<td>   53,3 MB</td>\n",
       "<td>1037712.0</td>\n",
       "<td>31.0</td>\n",
       "<td>496.0</td></tr>\n",
       "<tr><td>max</td>\n",
       "<td>   53,3 MB</td>\n",
       "<td>1037712.0</td>\n",
       "<td>31.0</td>\n",
       "<td>496.0</td></tr>\n",
       "<tr><td>stddev</td>\n",
       "<td>      0  B</td>\n",
       "<td>0.0</td>\n",
       "<td>0.0</td>\n",
       "<td>0.0</td></tr>\n",
       "<tr><td>total</td>\n",
       "<td>   53,3 MB</td>\n",
       "<td>1037712.0</td>\n",
       "<td>31.0</td>\n",
       "<td>496.0</td></tr></table></div>"
      ],
      "text/plain": [
       "                 size     number_of_rows    number_of_chunks_per_column    number_of_chunks\n",
       "---------------  -------  ----------------  -----------------------------  ------------------\n",
       "127.0.0.1:54321  53,3 MB  1.03771e+06       31                             496\n",
       "mean             53,3 MB  1.03771e+06       31                             496\n",
       "min              53,3 MB  1.03771e+06       31                             496\n",
       "max              53,3 MB  1.03771e+06       31                             496\n",
       "stddev           0  B     0                 0                              0\n",
       "total            53,3 MB  1.03771e+06       31                             496"
      ]
     },
     "metadata": {},
     "output_type": "display_data"
    },
    {
     "name": "stdout",
     "output_type": "stream",
     "text": [
      "\n",
      "\n"
     ]
    },
    {
     "data": {
      "text/html": [
       "<table>\n",
       "<tr><th>       </th><th>tripduration  </th><th>starttime  </th><th>stoptime         </th><th>start station id  </th><th>start station name      </th><th>start station latitude  </th><th>start station longitude  </th><th>end station id  </th><th>end station name              </th><th>end station latitude  </th><th>end station longitude  </th><th>bikeid       </th><th>usertype      </th><th>birth year   </th><th>gender        </th><th>Days    </th></tr>\n",
       "<tr><td>type   </td><td>int           </td><td>int        </td><td>time             </td><td>int               </td><td>enum                    </td><td>real                    </td><td>real                     </td><td>int             </td><td>enum                          </td><td>real                  </td><td>real                   </td><td>int          </td><td>enum          </td><td>int          </td><td>int           </td><td>int     </td></tr>\n",
       "<tr><td>mins   </td><td>60.0          </td><td>NaN        </td><td>1.380578683e+12  </td><td>72.0              </td><td>0.0                     </td><td>40.680342423            </td><td>-74.01713445             </td><td>72.0            </td><td>0.0                           </td><td>40.680342423          </td><td>-74.01713445           </td><td>14529.0      </td><td>0.0           </td><td>1899.0       </td><td>0.0           </td><td>NaN     </td></tr>\n",
       "<tr><td>mean   </td><td>825.614754383 </td><td>0.0        </td><td>1.38188267837e+12</td><td>443.714212614     </td><td>NaN                     </td><td>40.7345188586           </td><td>-73.9911328848           </td><td>443.207421712   </td><td>NaN                           </td><td>40.7342847885         </td><td>-73.9912702982         </td><td>17644.0716451</td><td>0.906095332809</td><td>1975.77839486</td><td>1.12375591686 </td><td>0.0     </td></tr>\n",
       "<tr><td>maxs   </td><td>1259480.0     </td><td>NaN        </td><td>1.38338971e+12   </td><td>3002.0            </td><td>329.0                   </td><td>40.770513               </td><td>-73.9500479759           </td><td>3002.0          </td><td>329.0                         </td><td>40.770513             </td><td>-73.9500479759         </td><td>20757.0      </td><td>1.0           </td><td>1997.0       </td><td>2.0           </td><td>NaN     </td></tr>\n",
       "<tr><td>sigma  </td><td>2000.3732323  </td><td>-0.0       </td><td>779659645.99     </td><td>354.434325075     </td><td>NaN                     </td><td>0.0195734073053         </td><td>0.0123161234106          </td><td>357.398217058   </td><td>NaN                           </td><td>0.0195578458116       </td><td>0.0123855811965        </td><td>1717.68112134</td><td>0.291696182123</td><td>11.1314906238</td><td>0.544380593291</td><td>-0.0    </td></tr>\n",
       "<tr><td>zeros  </td><td>0             </td><td>-1037712   </td><td>0                </td><td>0                 </td><td>5239                    </td><td>0                       </td><td>0                        </td><td>0               </td><td>5449                          </td><td>0                     </td><td>0                      </td><td>0            </td><td>97446         </td><td>0            </td><td>97498         </td><td>-1037712</td></tr>\n",
       "<tr><td>missing</td><td>0             </td><td>1037712    </td><td>0                </td><td>0                 </td><td>0                       </td><td>0                       </td><td>0                        </td><td>0               </td><td>0                             </td><td>0                     </td><td>0                      </td><td>0            </td><td>0             </td><td>97445        </td><td>0             </td><td>1037712 </td></tr>\n",
       "<tr><td>0      </td><td>326.0         </td><td>nan        </td><td>1.380578794e+12  </td><td>239.0             </td><td>Willoughby St & Fleet St</td><td>40.69196566             </td><td>-73.9813018              </td><td>366.0           </td><td>Clinton Ave & Myrtle Ave      </td><td>40.693261             </td><td>-73.968896             </td><td>16052.0      </td><td>Subscriber    </td><td>1982.0       </td><td>1.0           </td><td>nan     </td></tr>\n",
       "<tr><td>1      </td><td>729.0         </td><td>nan        </td><td>1.38057921e+12   </td><td>322.0             </td><td>Clinton St & Tillary St </td><td>40.696192               </td><td>-73.991218               </td><td>398.0           </td><td>Atlantic Ave & Furman St      </td><td>40.69165183           </td><td>-73.9999786            </td><td>19412.0      </td><td>Customer      </td><td>nan          </td><td>0.0           </td><td>nan     </td></tr>\n",
       "<tr><td>2      </td><td>520.0         </td><td>nan        </td><td>1.380579004e+12  </td><td>174.0             </td><td>E 25 St & 1 Ave         </td><td>40.7381765              </td><td>-73.97738662             </td><td>403.0           </td><td>E 2 St & 2 Ave                </td><td>40.72502876           </td><td>-73.99069656           </td><td>19645.0      </td><td>Subscriber    </td><td>1984.0       </td><td>1.0           </td><td>nan     </td></tr>\n",
       "<tr><td>3      </td><td>281.0         </td><td>nan        </td><td>1.380578766e+12  </td><td>430.0             </td><td>York St & Jay St        </td><td>40.7014851              </td><td>-73.98656928             </td><td>323.0           </td><td>Lawrence St & Willoughby St   </td><td>40.69236178           </td><td>-73.98631746           </td><td>16992.0      </td><td>Subscriber    </td><td>1985.0       </td><td>1.0           </td><td>nan     </td></tr>\n",
       "<tr><td>4      </td><td>196.0         </td><td>nan        </td><td>1.380578683e+12  </td><td>403.0             </td><td>E 2 St & 2 Ave          </td><td>40.72502876             </td><td>-73.99069656             </td><td>401.0           </td><td>Allen St & Rivington St       </td><td>40.72019576           </td><td>-73.98997825           </td><td>15690.0      </td><td>Subscriber    </td><td>1986.0       </td><td>1.0           </td><td>nan     </td></tr>\n",
       "<tr><td>5      </td><td>1948.0        </td><td>nan        </td><td>1.380580456e+12  </td><td>369.0             </td><td>Washington Pl & 6 Ave   </td><td>40.73224119             </td><td>-74.00026394             </td><td>307.0           </td><td>Canal St & Rutgers St         </td><td>40.71427487           </td><td>-73.98990025           </td><td>19846.0      </td><td>Subscriber    </td><td>1977.0       </td><td>1.0           </td><td>nan     </td></tr>\n",
       "<tr><td>6      </td><td>1327.0        </td><td>nan        </td><td>1.380579835e+12  </td><td>254.0             </td><td>W 11 St & 6 Ave         </td><td>40.73532427             </td><td>-73.99800419             </td><td>539.0           </td><td>Metropolitan Ave & Bedford Ave</td><td>40.71534825           </td><td>-73.96024116           </td><td>14563.0      </td><td>Subscriber    </td><td>1986.0       </td><td>2.0           </td><td>nan     </td></tr>\n",
       "<tr><td>7      </td><td>1146.0        </td><td>nan        </td><td>1.380579663e+12  </td><td>490.0             </td><td>8 Ave & W 33 St         </td><td>40.751551               </td><td>-73.993934               </td><td>438.0           </td><td>St Marks Pl & 1 Ave           </td><td>40.72779126           </td><td>-73.98564945           </td><td>16793.0      </td><td>Subscriber    </td><td>1959.0       </td><td>1.0           </td><td>nan     </td></tr>\n",
       "<tr><td>8      </td><td>380.0         </td><td>nan        </td><td>1.380578898e+12  </td><td>468.0             </td><td>Broadway & W 55 St      </td><td>40.7652654              </td><td>-73.98192338             </td><td>385.0           </td><td>E 55 St & 2 Ave               </td><td>40.75797322           </td><td>-73.96603308           </td><td>16600.0      </td><td>Customer      </td><td>nan          </td><td>0.0           </td><td>nan     </td></tr>\n",
       "<tr><td>9      </td><td>682.0         </td><td>nan        </td><td>1.380579207e+12  </td><td>300.0             </td><td>Shevchenko Pl & E 6 St  </td><td>40.728145               </td><td>-73.990214               </td><td>519.0           </td><td>Pershing Square N             </td><td>40.75188406           </td><td>-73.97770164           </td><td>15204.0      </td><td>Subscriber    </td><td>1992.0       </td><td>1.0           </td><td>nan     </td></tr>\n",
       "</table>"
      ]
     },
     "metadata": {},
     "output_type": "display_data"
    }
   ],
   "source": [
    "startime = data[\"starttime\"]\n",
    "secsPerDay=1000*60*60*24\n",
    "data[\"Days\"] = (startime/secsPerDay).floor()\n",
    "data.describe()"
   ]
  },
  {
   "cell_type": "code",
   "execution_count": 5,
   "metadata": {
    "collapsed": false
   },
   "outputs": [
    {
     "data": {
      "text/html": [
       "<table>\n",
       "<tr><th style=\"text-align: right;\">  Days</th><th>start station name           </th><th style=\"text-align: right;\">  bikes</th></tr>\n",
       "<tr><td style=\"text-align: right;\">   nan</td><td>1 Ave & E 15 St              </td><td style=\"text-align: right;\">   5239</td></tr>\n",
       "<tr><td style=\"text-align: right;\">   nan</td><td>St Marks Pl & 2 Ave          </td><td style=\"text-align: right;\">   4001</td></tr>\n",
       "<tr><td style=\"text-align: right;\">   nan</td><td>Avenue D & E 8 St            </td><td style=\"text-align: right;\">    954</td></tr>\n",
       "<tr><td style=\"text-align: right;\">   nan</td><td>Greenwich St & N Moore St    </td><td style=\"text-align: right;\">   4246</td></tr>\n",
       "<tr><td style=\"text-align: right;\">   nan</td><td>Clinton St & Joralemon St    </td><td style=\"text-align: right;\">   1023</td></tr>\n",
       "<tr><td style=\"text-align: right;\">   nan</td><td>W 31 St & 7 Ave              </td><td style=\"text-align: right;\">   1925</td></tr>\n",
       "<tr><td style=\"text-align: right;\">   nan</td><td>E 11 St & 2 Ave              </td><td style=\"text-align: right;\">   4725</td></tr>\n",
       "<tr><td style=\"text-align: right;\">   nan</td><td>Atlantic Ave & Fort Greene Pl</td><td style=\"text-align: right;\">   2142</td></tr>\n",
       "<tr><td style=\"text-align: right;\">   nan</td><td>W 39 St & 9 Ave              </td><td style=\"text-align: right;\">   5758</td></tr>\n",
       "<tr><td style=\"text-align: right;\">   nan</td><td>Broadway & W 37 St           </td><td style=\"text-align: right;\">   2360</td></tr>\n",
       "</table>"
      ]
     },
     "metadata": {},
     "output_type": "display_data"
    }
   ],
   "source": [
    "grouped = data.group_by([\"Days\",\"start station name\"])\n",
    "bpd = grouped.count().get_frame() # Compute bikes-per-day\n",
    "bpd.set_name(2, \"bikes\")\n",
    "bpd.show()"
   ]
  },
  {
   "cell_type": "code",
   "execution_count": 6,
   "metadata": {
    "collapsed": false
   },
   "outputs": [
    {
     "name": "stdout",
     "output_type": "stream",
     "text": [
      "Quantiles of bikes-per-day\n"
     ]
    },
    {
     "data": {
      "text/html": [
       "<table>\n",
       "<tr><th style=\"text-align: right;\">  Probs</th><th style=\"text-align: right;\">  bikesQuantiles</th></tr>\n",
       "<tr><td style=\"text-align: right;\">  0.01 </td><td style=\"text-align: right;\">          272.19</td></tr>\n",
       "<tr><td style=\"text-align: right;\">  0.1  </td><td style=\"text-align: right;\">          681.7 </td></tr>\n",
       "<tr><td style=\"text-align: right;\">  0.25 </td><td style=\"text-align: right;\">         1508.75</td></tr>\n",
       "<tr><td style=\"text-align: right;\">  0.333</td><td style=\"text-align: right;\">         2095.6 </td></tr>\n",
       "<tr><td style=\"text-align: right;\">  0.5  </td><td style=\"text-align: right;\">         2812   </td></tr>\n",
       "<tr><td style=\"text-align: right;\">  0.667</td><td style=\"text-align: right;\">         3844.53</td></tr>\n",
       "<tr><td style=\"text-align: right;\">  0.75 </td><td style=\"text-align: right;\">         4289.5 </td></tr>\n",
       "<tr><td style=\"text-align: right;\">  0.9  </td><td style=\"text-align: right;\">         5761   </td></tr>\n",
       "<tr><td style=\"text-align: right;\">  0.99 </td><td style=\"text-align: right;\">        10263.4 </td></tr>\n",
       "</table>"
      ]
     },
     "metadata": {},
     "output_type": "display_data"
    }
   ],
   "source": [
    "# Quantiles: the data is fairly unbalanced; some station/day combos are wildly\n",
    "# more popular than others.\n",
    "print \"Quantiles of bikes-per-day\"\n",
    "bpd[\"bikes\"].quantile().show()"
   ]
  },
  {
   "cell_type": "code",
   "execution_count": 7,
   "metadata": {
    "collapsed": false
   },
   "outputs": [
    {
     "name": "stdout",
     "output_type": "stream",
     "text": [
      "Bikes-Per-Day\n"
     ]
    },
    {
     "data": {
      "text/html": [
       "<table>\n",
       "<tr><th style=\"text-align: right;\">  Days</th><th>start station name           </th><th style=\"text-align: right;\">  bikes</th><th style=\"text-align: right;\">  Month</th><th>DayOfWeek  </th></tr>\n",
       "<tr><td style=\"text-align: right;\">   nan</td><td>1 Ave & E 15 St              </td><td style=\"text-align: right;\">   5239</td><td style=\"text-align: right;\">    nan</td><td>           </td></tr>\n",
       "<tr><td style=\"text-align: right;\">   nan</td><td>St Marks Pl & 2 Ave          </td><td style=\"text-align: right;\">   4001</td><td style=\"text-align: right;\">    nan</td><td>           </td></tr>\n",
       "<tr><td style=\"text-align: right;\">   nan</td><td>Avenue D & E 8 St            </td><td style=\"text-align: right;\">    954</td><td style=\"text-align: right;\">    nan</td><td>           </td></tr>\n",
       "<tr><td style=\"text-align: right;\">   nan</td><td>Greenwich St & N Moore St    </td><td style=\"text-align: right;\">   4246</td><td style=\"text-align: right;\">    nan</td><td>           </td></tr>\n",
       "<tr><td style=\"text-align: right;\">   nan</td><td>Clinton St & Joralemon St    </td><td style=\"text-align: right;\">   1023</td><td style=\"text-align: right;\">    nan</td><td>           </td></tr>\n",
       "<tr><td style=\"text-align: right;\">   nan</td><td>W 31 St & 7 Ave              </td><td style=\"text-align: right;\">   1925</td><td style=\"text-align: right;\">    nan</td><td>           </td></tr>\n",
       "<tr><td style=\"text-align: right;\">   nan</td><td>E 11 St & 2 Ave              </td><td style=\"text-align: right;\">   4725</td><td style=\"text-align: right;\">    nan</td><td>           </td></tr>\n",
       "<tr><td style=\"text-align: right;\">   nan</td><td>Atlantic Ave & Fort Greene Pl</td><td style=\"text-align: right;\">   2142</td><td style=\"text-align: right;\">    nan</td><td>           </td></tr>\n",
       "<tr><td style=\"text-align: right;\">   nan</td><td>W 39 St & 9 Ave              </td><td style=\"text-align: right;\">   5758</td><td style=\"text-align: right;\">    nan</td><td>           </td></tr>\n",
       "<tr><td style=\"text-align: right;\">   nan</td><td>Broadway & W 37 St           </td><td style=\"text-align: right;\">   2360</td><td style=\"text-align: right;\">    nan</td><td>           </td></tr>\n",
       "</table>"
      ]
     },
     "metadata": {},
     "output_type": "display_data"
    }
   ],
   "source": [
    "# A little feature engineering\n",
    "# Add in month-of-year (seasonality; fewer bike rides in winter than summer)\n",
    "secs = bpd[\"Days\"]*secsPerDay\n",
    "bpd[\"Month\"]     = secs.month().asfactor()\n",
    "# Add in day-of-week (work-week; more bike rides on Sunday than Monday)\n",
    "bpd[\"DayOfWeek\"] = secs.dayOfWeek()\n",
    "print \"Bikes-Per-Day\"\n",
    "bpd.show()"
   ]
  },
  {
   "cell_type": "code",
   "execution_count": 8,
   "metadata": {
    "collapsed": true
   },
   "outputs": [],
   "source": [
    "# ----------\n",
    "# 3- Fit a model on train; using test as validation\n",
    "\n",
    "# Function for doing class test/train/holdout split\n",
    "def split_fit_predict(data):\n",
    "  global gbm0,drf0,glm0,dl0\n",
    "  # Classic Test/Train split\n",
    "  r = data['Days'].runif()   # Random UNIForm numbers, one per row\n",
    "  train = data[  r  < 0.6]\n",
    "  test  = data[(0.6 <= r) & (r < 0.9)]\n",
    "  hold  = data[ 0.9 <= r ]\n",
    "  print \"Training data has\",train.ncol,\"columns and\",train.nrow,\"rows, test has\",test.nrow,\"rows, holdout has\",hold.nrow\n",
    "  \n",
    "  # Run GBM\n",
    "  s = time.time()\n",
    "  gbm0 = h2o.gbm(x           =train.drop(\"bikes\"),\n",
    "                 y           =train     [\"bikes\"],\n",
    "                 validation_x=test .drop(\"bikes\"),\n",
    "                 validation_y=test      [\"bikes\"],\n",
    "                 ntrees=500, # 500 works well\n",
    "                 max_depth=6,\n",
    "                 learn_rate=0.1)\n",
    "  gbm_elapsed = time.time() - s\n",
    "\n",
    "  # Run DRF\n",
    "  s = time.time()\n",
    "  drf0 = h2o.random_forest(x =train.drop(\"bikes\"),\n",
    "                y           =train     [\"bikes\"],\n",
    "                validation_x=test .drop(\"bikes\"),\n",
    "                validation_y=test      [\"bikes\"],\n",
    "                ntrees=250,\n",
    "                max_depth=30)\n",
    "  drf_elapsed = time.time() - s \n",
    "    \n",
    "    \n",
    "  # Run GLM\n",
    "  train_glm = train.drop(\"WC1\") if \"WC1\" in train.names else train\n",
    "  test_glm  = test .drop(\"WC1\") if \"WC1\" in test .names else test\n",
    "  s = time.time()\n",
    "  glm0 = h2o.glm(x           =train_glm.drop(\"bikes\"),\n",
    "                 y           =train_glm     [\"bikes\"],\n",
    "                 validation_x=test_glm .drop(\"bikes\"),\n",
    "                 validation_y=test_glm      [\"bikes\"],\n",
    "                 Lambda=[1e-5],\n",
    "                 family=\"poisson\")\n",
    "  glm_elapsed = time.time() - s\n",
    "  \n",
    "  # Run DL\n",
    "  s = time.time()\n",
    "  dl0 = h2o.deeplearning(x  =train.drop(\"bikes\"),\n",
    "                y           =train     [\"bikes\"],\n",
    "                validation_x=test .drop(\"bikes\"),\n",
    "                validation_y=test      [\"bikes\"],\n",
    "                hidden=[50,50,50,50],\n",
    "                epochs=50)\n",
    "  dl_elapsed = time.time() - s\n",
    "  \n",
    "  # ----------\n",
    "  # 4- Score on holdout set & report\n",
    "  train_r2_gbm = gbm0.model_performance(train).r2()\n",
    "  test_r2_gbm  = gbm0.model_performance(test ).r2()\n",
    "  hold_r2_gbm  = gbm0.model_performance(hold ).r2()\n",
    "#   print \"GBM R2 TRAIN=\",train_r2_gbm,\", R2 TEST=\",test_r2_gbm,\", R2 HOLDOUT=\",hold_r2_gbm\n",
    "  \n",
    "  train_r2_drf = drf0.model_performance(train).r2()\n",
    "  test_r2_drf  = drf0.model_performance(test ).r2()\n",
    "  hold_r2_drf  = drf0.model_performance(hold ).r2()\n",
    "#   print \"DRF R2 TRAIN=\",train_r2_drf,\", R2 TEST=\",test_r2_drf,\", R2 HOLDOUT=\",hold_r2_drf\n",
    "  \n",
    "  train_r2_glm = glm0.model_performance(train).r2()\n",
    "  test_r2_glm  = glm0.model_performance(test ).r2()\n",
    "  hold_r2_glm  = glm0.model_performance(hold ).r2()\n",
    "#   print \"GLM R2 TRAIN=\",train_r2_glm,\", R2 TEST=\",test_r2_glm,\", R2 HOLDOUT=\",hold_r2_glm\n",
    "    \n",
    "  train_r2_dl = dl0.model_performance(train).r2()\n",
    "  test_r2_dl  = dl0.model_performance(test ).r2()\n",
    "  hold_r2_dl  = dl0.model_performance(hold ).r2()\n",
    "#   print \" DL R2 TRAIN=\",train_r2_dl,\", R2 TEST=\",test_r2_dl,\", R2 HOLDOUT=\",hold_r2_dl\n",
    "    \n",
    "  # make a pretty HTML table printout of the results\n",
    "\n",
    "  header = [\"Model\", \"R2 TRAIN\", \"R2 TEST\", \"R2 HOLDOUT\", \"Model Training Time (s)\"]\n",
    "  table  = [\n",
    "            [\"GBM\", train_r2_gbm, test_r2_gbm, hold_r2_gbm, round(gbm_elapsed,3)],\n",
    "            [\"DRF\", train_r2_drf, test_r2_drf, hold_r2_drf, round(drf_elapsed,3)],\n",
    "            [\"GLM\", train_r2_glm, test_r2_glm, hold_r2_glm, round(glm_elapsed,3)],\n",
    "            [\"DL \", train_r2_dl,  test_r2_dl,  hold_r2_dl , round(dl_elapsed,3) ],\n",
    "           ]\n",
    "  h2o.display.H2ODisplay(table,header)\n",
    "  # --------------"
   ]
  },
  {
   "cell_type": "code",
   "execution_count": 9,
   "metadata": {
    "collapsed": false
   },
   "outputs": [
    {
     "name": "stdout",
     "output_type": "stream",
     "text": [
      "Training data has 5 columns and 207 rows, test has 94 rows, holdout has 29\n",
      "\n",
      "gbm Model Build Progress: [##################################################] 100%"
     ]
    },
    {
     "name": "stderr",
     "output_type": "stream",
     "text": [
      "/home/yannick/bin/anaconda3/envs/py27/lib/python2.7/site-packages/ipykernel/__main__.py:22: DeprecationWarning: `h2o.gbm` is deprecated. Use the estimators sub module to build an H2OGradientBoostedEstimator.\n",
      "/home/yannick/bin/anaconda3/envs/py27/lib/python2.7/site-packages/ipykernel/__main__.py:32: DeprecationWarning: `h2o.random_forest` is deprecated. Use the estimators sub module to build an H2ORandomForestEstimator.\n"
     ]
    },
    {
     "name": "stdout",
     "output_type": "stream",
     "text": [
      "\n",
      "\n",
      "drf Model Build Progress: [##################################################] 100%\n",
      "\n",
      "glm Model Build Progress: [##################################################] 100%"
     ]
    },
    {
     "name": "stderr",
     "output_type": "stream",
     "text": [
      "/home/yannick/bin/anaconda3/envs/py27/lib/python2.7/site-packages/ipykernel/__main__.py:45: DeprecationWarning: `h2o.glm` is deprecated. Use the estimators sub module to build an H2OGeneralizedLinearEstimator.\n",
      "/home/yannick/bin/anaconda3/envs/py27/lib/python2.7/site-packages/ipykernel/__main__.py:55: DeprecationWarning: `h2o.deeplearning` is deprecated. Use the estimators sub module to build an H2ODeepLearningEstimator.\n"
     ]
    },
    {
     "name": "stdout",
     "output_type": "stream",
     "text": [
      "\n",
      "\n",
      "deeplearning Model Build Progress: [##################################################] 100%\n"
     ]
    },
    {
     "data": {
      "text/html": [
       "<div style=\"overflow:auto\"><table style=\"width:50%\"><tr><td><b>Model</b></td>\n",
       "<td><b>R2 TRAIN</b></td>\n",
       "<td><b>R2 TEST</b></td>\n",
       "<td><b>R2 HOLDOUT</b></td>\n",
       "<td><b>Model Training Time (s)</b></td></tr>\n",
       "<tr><td>GBM</td>\n",
       "<td>0.0708899</td>\n",
       "<td>0.0619248</td>\n",
       "<td>-0.2962144</td>\n",
       "<td>7.11</td></tr>\n",
       "<tr><td>DRF</td>\n",
       "<td>-0.3211960</td>\n",
       "<td>-0.2435357</td>\n",
       "<td>-0.0323723</td>\n",
       "<td>8.0</td></tr>\n",
       "<tr><td>GLM</td>\n",
       "<td>1.0000000</td>\n",
       "<td>-0.0643858</td>\n",
       "<td>-0.0571046</td>\n",
       "<td>0.637</td></tr>\n",
       "<tr><td>DL </td>\n",
       "<td>0.8043191</td>\n",
       "<td>-0.0610579</td>\n",
       "<td>-0.0624918</td>\n",
       "<td>1.853</td></tr></table></div>"
      ],
      "text/plain": [
       "Model      R2 TRAIN     R2 TEST    R2 HOLDOUT    Model Training Time (s)\n",
       "-------  ----------  ----------  ------------  -------------------------\n",
       "GBM       0.0708899   0.0619248    -0.296214                       7.11\n",
       "DRF      -0.321196   -0.243536     -0.0323723                      8\n",
       "GLM       1          -0.0643858    -0.0571046                      0.637\n",
       "DL        0.804319   -0.0610579    -0.0624918                      1.853"
      ]
     },
     "metadata": {},
     "output_type": "display_data"
    }
   ],
   "source": [
    "# Split the data (into test & train), fit some models and predict on the holdout data\n",
    "t = split_fit_predict(bpd)\n",
    "# Here we see an r^2 of 0.91 for GBM, and 0.71 for GLM.  This means given just\n",
    "# the station, the month, and the day-of-week we can predict 90% of the\n",
    "# variance of the bike-trip-starts."
   ]
  },
  {
   "cell_type": "code",
   "execution_count": null,
   "metadata": {
    "collapsed": true
   },
   "outputs": [],
   "source": []
  }
 ],
 "metadata": {
  "kernelspec": {
   "display_name": "Python 2",
   "language": "python",
   "name": "python2"
  },
  "language_info": {
   "codemirror_mode": {
    "name": "ipython",
    "version": 2
   },
   "file_extension": ".py",
   "mimetype": "text/x-python",
   "name": "python",
   "nbconvert_exporter": "python",
   "pygments_lexer": "ipython2",
   "version": "2.7.11"
  }
 },
 "nbformat": 4,
 "nbformat_minor": 0
}
